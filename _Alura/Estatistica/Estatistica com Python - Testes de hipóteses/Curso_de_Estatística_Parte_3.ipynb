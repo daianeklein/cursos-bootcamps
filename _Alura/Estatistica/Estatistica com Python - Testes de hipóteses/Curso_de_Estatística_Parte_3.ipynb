{
 "cells": [
  {
   "cell_type": "markdown",
   "metadata": {
    "colab_type": "text",
    "id": "WvMflodMjQKe"
   },
   "source": [
    "# <font color=green size=10>CURSO DE ESTATÍSTICA - PARTE 3</font>\n",
    "\n",
    "***"
   ]
  },
  {
   "cell_type": "markdown",
   "metadata": {
    "colab_type": "text",
    "id": "cVgsZ_E3jQKg"
   },
   "source": [
    "# <font color=green>1 CONHECENDO OS DADOS</font>\n",
    "***"
   ]
  },
  {
   "cell_type": "markdown",
   "metadata": {
    "colab_type": "text",
    "id": "TDjqYYNojQKh"
   },
   "source": [
    "## <font color=green>1.1 Dataset do projeto</font>\n",
    "***"
   ]
  },
  {
   "cell_type": "markdown",
   "metadata": {
    "colab_type": "text",
    "id": "iN1gIbaKjQKh"
   },
   "source": [
    "### Pesquisa Nacional por Amostra de Domicílios - 2015\n",
    "\n",
    "A <b>Pesquisa Nacional por Amostra de Domicílios - PNAD</b> investiga anualmente, de forma permanente, características gerais da população, de educação, trabalho, rendimento e habitação e outras, com periodicidade variável, de acordo com as necessidades de informação para o país, como as características sobre migração, fecundidade, nupcialidade, saúde, segurança alimentar, entre outros temas. O levantamento dessas estatísticas constitui, ao longo dos 49 anos de realização da pesquisa, um importante instrumento para formulação, validação e avaliação de políticas orientadas para o desenvolvimento socioeconômico e a melhoria das condições de vida no Brasil."
   ]
  },
  {
   "cell_type": "markdown",
   "metadata": {
    "colab_type": "text",
    "id": "U6V7br1RjQKi"
   },
   "source": [
    "### Fonte dos Dados\n",
    "\n",
    "https://ww2.ibge.gov.br/home/estatistica/populacao/trabalhoerendimento/pnad2015/microdados.shtm"
   ]
  },
  {
   "cell_type": "markdown",
   "metadata": {
    "colab_type": "text",
    "id": "r0Fe_qnzjQKj"
   },
   "source": [
    "### Variáveis utilizadas\n",
    "\n",
    "> ### Renda\n",
    "> ***\n",
    "\n",
    "Rendimento mensal do trabalho principal para pessoas de 10 anos ou mais de idade.\n",
    "\n",
    "> ### Idade\n",
    "> ***\n",
    "\n",
    "Idade do morador na data de referência em anos.\n",
    "\n",
    "> ### Altura (elaboração própria)\n",
    "> ***\n",
    "\n",
    "Altura do morador em metros.\n",
    "\n",
    "> ### UF\n",
    "> ***\n",
    "\n",
    "|Código|Descrição|\n",
    "|---|---|\n",
    "|11|Rondônia|\n",
    "|12|Acre|\n",
    "|13|Amazonas|\n",
    "|14|Roraima|\n",
    "|15|Pará|\n",
    "|16|Amapá|\n",
    "|17|Tocantins|\n",
    "|21|Maranhão|\n",
    "|22|Piauí|\n",
    "|23|Ceará|\n",
    "|24|Rio Grande do Norte|\n",
    "|25|Paraíba|\n",
    "|26|Pernambuco|\n",
    "|27|Alagoas|\n",
    "|28|Sergipe|\n",
    "|29|Bahia|\n",
    "|31|Minas Gerais|\n",
    "|32|Espírito Santo|\n",
    "|33|Rio de Janeiro|\n",
    "|35|São Paulo|\n",
    "|41|Paraná|\n",
    "|42|Santa Catarina|\n",
    "|43|Rio Grande do Sul|\n",
    "|50|Mato Grosso do Sul|\n",
    "|51|Mato Grosso|\n",
    "|52|Goiás|\n",
    "|53|Distrito Federal|\n",
    "\n",
    "> ### Sexo\t\n",
    "> ***\n",
    "\n",
    "|Código|Descrição|\n",
    "|---|---|\n",
    "|0|Masculino|\n",
    "|1|Feminino|\n",
    "\n",
    "> ### Anos de Estudo\n",
    "> ***\n",
    "\n",
    "|Código|Descrição|\n",
    "|---|---|\n",
    "|1|Sem instrução e menos de 1 ano|\n",
    "|2|1 ano|\n",
    "|3|2 anos|\n",
    "|4|3 anos|\n",
    "|5|4 anos|\n",
    "|6|5 anos|\n",
    "|7|6 anos|\n",
    "|8|7 anos|\n",
    "|9|8 anos|\n",
    "|10|9 anos|\n",
    "|11|10 anos|\n",
    "|12|11 anos|\n",
    "|13|12 anos|\n",
    "|14|13 anos|\n",
    "|15|14 anos|\n",
    "|16|15 anos ou mais|\n",
    "|17|Não determinados| \n",
    "||Não aplicável|\n",
    "\n",
    "> ### Cor\n",
    "> ***\n",
    "\n",
    "|Código|Descrição|\n",
    "|---|---|\n",
    "|0|Indígena|\n",
    "|2|Branca|\n",
    "|4|Preta|\n",
    "|6|Amarela|\n",
    "|8|Parda|\n",
    "|9|Sem declaração|"
   ]
  },
  {
   "cell_type": "markdown",
   "metadata": {
    "colab_type": "text",
    "id": "OK1IQH5cX7Gb"
   },
   "source": [
    "#### <font color='red'>Observação</font>\n",
    "***\n",
    "> Os seguintes tratamentos foram realizados nos dados originais:\n",
    "> 1. Foram eliminados os registros onde a <b>Renda</b> era inválida (999 999 999 999);\n",
    "> 2. Foram eliminados os registros onde a <b>Renda</b> era missing;\n",
    "> 3. Foram considerados somente os registros das <b>Pessoas de Referência</b> de cada domicílio (responsável pelo domicílio)."
   ]
  },
  {
   "cell_type": "markdown",
   "metadata": {
    "colab_type": "text",
    "id": "8Rw70V6ojQKk"
   },
   "source": [
    "### Importando pandas e lendo o dataset do projeto\n",
    "\n",
    "https://pandas.pydata.org/"
   ]
  },
  {
   "cell_type": "code",
   "execution_count": 3,
   "metadata": {
    "colab": {},
    "colab_type": "code",
    "id": "8QgOpE-wjQKl"
   },
   "outputs": [],
   "source": [
    "import pandas as pd\n",
    "import numpy as np"
   ]
  },
  {
   "cell_type": "code",
   "execution_count": 4,
   "metadata": {
    "colab": {},
    "colab_type": "code",
    "id": "ufRZ7TLwjQKo"
   },
   "outputs": [],
   "source": [
    "dados = pd.read_csv('dados.csv')"
   ]
  },
  {
   "cell_type": "code",
   "execution_count": 5,
   "metadata": {
    "colab": {
     "base_uri": "https://localhost:8080/",
     "height": 204
    },
    "colab_type": "code",
    "id": "GsC_WhLFjQKq",
    "outputId": "cccf4d9c-10ec-4c5b-df3f-173c62ca0659",
    "scrolled": true
   },
   "outputs": [
    {
     "data": {
      "text/html": [
       "<div>\n",
       "<style scoped>\n",
       "    .dataframe tbody tr th:only-of-type {\n",
       "        vertical-align: middle;\n",
       "    }\n",
       "\n",
       "    .dataframe tbody tr th {\n",
       "        vertical-align: top;\n",
       "    }\n",
       "\n",
       "    .dataframe thead th {\n",
       "        text-align: right;\n",
       "    }\n",
       "</style>\n",
       "<table border=\"1\" class=\"dataframe\">\n",
       "  <thead>\n",
       "    <tr style=\"text-align: right;\">\n",
       "      <th></th>\n",
       "      <th>UF</th>\n",
       "      <th>Sexo</th>\n",
       "      <th>Idade</th>\n",
       "      <th>Cor</th>\n",
       "      <th>Anos de Estudo</th>\n",
       "      <th>Renda</th>\n",
       "      <th>Altura</th>\n",
       "    </tr>\n",
       "  </thead>\n",
       "  <tbody>\n",
       "    <tr>\n",
       "      <th>0</th>\n",
       "      <td>11</td>\n",
       "      <td>0</td>\n",
       "      <td>23</td>\n",
       "      <td>8</td>\n",
       "      <td>12</td>\n",
       "      <td>800</td>\n",
       "      <td>1.603808</td>\n",
       "    </tr>\n",
       "    <tr>\n",
       "      <th>1</th>\n",
       "      <td>11</td>\n",
       "      <td>1</td>\n",
       "      <td>23</td>\n",
       "      <td>2</td>\n",
       "      <td>12</td>\n",
       "      <td>1150</td>\n",
       "      <td>1.739790</td>\n",
       "    </tr>\n",
       "    <tr>\n",
       "      <th>2</th>\n",
       "      <td>11</td>\n",
       "      <td>1</td>\n",
       "      <td>35</td>\n",
       "      <td>8</td>\n",
       "      <td>15</td>\n",
       "      <td>880</td>\n",
       "      <td>1.760444</td>\n",
       "    </tr>\n",
       "    <tr>\n",
       "      <th>3</th>\n",
       "      <td>11</td>\n",
       "      <td>0</td>\n",
       "      <td>46</td>\n",
       "      <td>2</td>\n",
       "      <td>6</td>\n",
       "      <td>3500</td>\n",
       "      <td>1.783158</td>\n",
       "    </tr>\n",
       "    <tr>\n",
       "      <th>4</th>\n",
       "      <td>11</td>\n",
       "      <td>1</td>\n",
       "      <td>47</td>\n",
       "      <td>8</td>\n",
       "      <td>9</td>\n",
       "      <td>150</td>\n",
       "      <td>1.690631</td>\n",
       "    </tr>\n",
       "  </tbody>\n",
       "</table>\n",
       "</div>"
      ],
      "text/plain": [
       "   UF  Sexo  Idade  Cor  Anos de Estudo  Renda    Altura\n",
       "0  11     0     23    8              12    800  1.603808\n",
       "1  11     1     23    2              12   1150  1.739790\n",
       "2  11     1     35    8              15    880  1.760444\n",
       "3  11     0     46    2               6   3500  1.783158\n",
       "4  11     1     47    8               9    150  1.690631"
      ]
     },
     "execution_count": 5,
     "metadata": {},
     "output_type": "execute_result"
    }
   ],
   "source": [
    "dados.head()"
   ]
  },
  {
   "cell_type": "markdown",
   "metadata": {
    "colab_type": "text",
    "id": "nk65O0lepz57"
   },
   "source": [
    "# <font color=green>2 TESTES DE HIPÓTESES</font>\n",
    "***"
   ]
  },
  {
   "cell_type": "markdown",
   "metadata": {
    "colab_type": "text",
    "id": "OjHpQHFHpsi3"
   },
   "source": [
    "Testes estatísticos são regras de decisão que permitem avaliar a razoabilidade das hipóteses feitas sobre os parâmetros populacionais e aceitá-las ou rejeitá-las como provavelmente verdadeiras ou falsas tendo como base uma amostra."
   ]
  },
  {
   "cell_type": "markdown",
   "metadata": {
    "colab_type": "text",
    "id": "qjqWccNspsi4"
   },
   "source": [
    "## <font color=green>2.1 Teste de normalidade</font>\n",
    "***"
   ]
  },
  {
   "cell_type": "markdown",
   "metadata": {
    "colab_type": "text",
    "id": "O79kHHwYpsi5"
   },
   "source": [
    "### Importando bibliotecas\n",
    "https://docs.scipy.org/doc/scipy/reference/generated/scipy.stats.normaltest.html"
   ]
  },
  {
   "cell_type": "code",
   "execution_count": 6,
   "metadata": {
    "colab": {},
    "colab_type": "code",
    "id": "3LwfaqpFpsi5"
   },
   "outputs": [],
   "source": [
    "from scipy.stats import normaltest"
   ]
  },
  {
   "cell_type": "markdown",
   "metadata": {
    "colab_type": "text",
    "id": "abDn-nKLpsi7"
   },
   "source": [
    "A função *normaltest* testa a hipótese nula $H_0$ de que a amostra é proveniente de uma distribuição normal."
   ]
  },
  {
   "cell_type": "markdown",
   "metadata": {
    "colab_type": "text",
    "id": "gRDJ86zTpsi8"
   },
   "source": [
    "### Definindo a significância do teste ($\\alpha$)"
   ]
  },
  {
   "cell_type": "code",
   "execution_count": 7,
   "metadata": {
    "colab": {},
    "colab_type": "code",
    "id": "3s6ZAdCOpsi9"
   },
   "outputs": [],
   "source": [
    "significancia = 0.05"
   ]
  },
  {
   "cell_type": "markdown",
   "metadata": {
    "colab_type": "text",
    "id": "sppYIE51psi_"
   },
   "source": [
    "### Testando a variável Renda"
   ]
  },
  {
   "cell_type": "code",
   "execution_count": 8,
   "metadata": {
    "colab": {
     "base_uri": "https://localhost:8080/",
     "height": 287
    },
    "colab_type": "code",
    "id": "IZpa91lHpsi_",
    "outputId": "ba8bdb04-9da3-41dd-8726-c76cd9670aa0"
   },
   "outputs": [
    {
     "data": {
      "text/plain": [
       "<matplotlib.axes._subplots.AxesSubplot at 0x1a1bf5c7d0>"
      ]
     },
     "execution_count": 8,
     "metadata": {},
     "output_type": "execute_result"
    },
    {
     "data": {
      "image/png": "[encoded data removed]",
      "text/plain": [
       "<Figure size 432x288 with 1 Axes>"
      ]
     },
     "metadata": {
      "needs_background": "light"
     },
     "output_type": "display_data"
    }
   ],
   "source": [
    "dados.Renda.hist(bins=50)"
   ]
  },
  {
   "cell_type": "markdown",
   "metadata": {
    "colab_type": "text",
    "id": "qKeNZ0PUpsjC"
   },
   "source": [
    "### <font color='red'>Critério do valor $p$</font>\n",
    "\n",
    "> ### Rejeitar $H_0$ se o valor $p\\leq 0,05$"
   ]
  },
  {
   "cell_type": "code",
   "execution_count": 9,
   "metadata": {
    "colab": {
     "base_uri": "https://localhost:8080/",
     "height": 53
    },
    "colab_type": "code",
    "id": "060ahVrrpsjD",
    "outputId": "a28af676-4866-4004-953c-8274fc91b9b4"
   },
   "outputs": [
    {
     "name": "stdout",
     "output_type": "stream",
     "text": [
      "152380.75803960307\n",
      "0.0\n"
     ]
    }
   ],
   "source": [
    "stat_test, p_valor = normaltest(dados.Renda)\n",
    "print(stat_test)\n",
    "print(p_valor)"
   ]
  },
  {
   "cell_type": "code",
   "execution_count": 10,
   "metadata": {
    "colab": {
     "base_uri": "https://localhost:8080/",
     "height": 35
    },
    "colab_type": "code",
    "id": "Q4eJFGsCpsjG",
    "outputId": "95f4e550-b43e-476c-94e6-12b600384bc5"
   },
   "outputs": [
    {
     "data": {
      "text/plain": [
       "True"
      ]
     },
     "execution_count": 10,
     "metadata": {},
     "output_type": "execute_result"
    }
   ],
   "source": [
    "p_valor <= significancia"
   ]
  },
  {
   "cell_type": "markdown",
   "metadata": {
    "colab_type": "text",
    "id": "JkAxa9PqpsjM"
   },
   "source": [
    "### Testando a variável Altura"
   ]
  },
  {
   "cell_type": "code",
   "execution_count": 11,
   "metadata": {
    "colab": {
     "base_uri": "https://localhost:8080/",
     "height": 287
    },
    "colab_type": "code",
    "id": "n9r88dMKpsjN",
    "outputId": "9147988e-9272-4aac-de34-211894eeb81c"
   },
   "outputs": [
    {
     "data": {
      "text/plain": [
       "<matplotlib.axes._subplots.AxesSubplot at 0x1a1c36f2d0>"
      ]
     },
     "execution_count": 11,
     "metadata": {},
     "output_type": "execute_result"
    },
    {
     "data": {
      "image/png": "[encoded data removed]",
      "text/plain": [
       "<Figure size 432x288 with 1 Axes>"
      ]
     },
     "metadata": {
      "needs_background": "light"
     },
     "output_type": "display_data"
    }
   ],
   "source": [
    "dados.Altura.hist(bins=50)"
   ]
  },
  {
   "cell_type": "markdown",
   "metadata": {
    "colab_type": "text",
    "id": "1ADrwGb5psjQ"
   },
   "source": [
    "### <font color='red'>Critério do valor $p$</font>\n",
    "\n",
    "> ### Rejeitar $H_0$ se o valor $p\\leq 0,05$"
   ]
  },
  {
   "cell_type": "code",
   "execution_count": 12,
   "metadata": {
    "colab": {
     "base_uri": "https://localhost:8080/",
     "height": 53
    },
    "colab_type": "code",
    "id": "aV9fx6w5psjb",
    "outputId": "030f350d-442f-4d8a-c900-52cca0af4346"
   },
   "outputs": [
    {
     "name": "stdout",
     "output_type": "stream",
     "text": [
      "0.19973093957002253\n",
      "0.9049591541967501\n"
     ]
    }
   ],
   "source": [
    "stat_test, p_valor = normaltest(dados.Altura)\n",
    "print(stat_test)\n",
    "print(p_valor)"
   ]
  },
  {
   "cell_type": "code",
   "execution_count": 13,
   "metadata": {
    "colab": {
     "base_uri": "https://localhost:8080/",
     "height": 35
    },
    "colab_type": "code",
    "id": "pP-NZCthpsje",
    "outputId": "de39a608-7d0a-49e9-f6da-2b9f1665a58f"
   },
   "outputs": [
    {
     "data": {
      "text/plain": [
       "False"
      ]
     },
     "execution_count": 13,
     "metadata": {},
     "output_type": "execute_result"
    }
   ],
   "source": [
    "p_valor <= significancia"
   ]
  },
  {
   "cell_type": "markdown",
   "metadata": {
    "colab_type": "text",
    "id": "rWh-HSd-psji"
   },
   "source": [
    "## <font color=green>2.2 Etapas Básicas de um Teste</font>\n",
    "***"
   ]
  },
  {
   "cell_type": "markdown",
   "metadata": {
    "colab_type": "text",
    "id": "DQF30K2Cpsjj"
   },
   "source": [
    "### **Passo 1** - formulação das hipóteses $H_0$ e $H_1$;\n",
    "\n",
    "> ### <font color='red'>Pontos importantes</font>\n",
    "> - De maneira geral, o alvo do estudo deve ser formulado como a hipótese alternativa $H_1$.\n",
    "> - A hipótese nula sempre afirma uma igualdade ou propriedade populacional, e $H_1$ a desigualdade que nega $H_0$.\n",
    "> - No caso da hipótese nula $H_0$ a igualdade pode ser representada por uma igualdade simples \"$=$\" ou por \"$\\geq$\" e \"$\\leq$\". Sempre complementar ao estabelecido pela hipótese alternativa.\n",
    "> - A hipótese alternativa $H_1$ deve definir uma desigualdade que pode ser uma diferença simples \"$\\neq$\" ou dos tipos \"$>$\" e \"$<$\".\n",
    "\n",
    "\n",
    "### **Passo 2** - escolha da distribuição amostral adequada;\n",
    "\n",
    "> ### <font color='red'>Pontos importantes</font>\n",
    "> - Quando o tamanho da amostra tiver 30 elementos ou mais, deve-se utilizar a distribuição normal, como estabelecido pelo **teorema do limite central**.\n",
    "> - Para um tamanho de amostra menor que 30 elementos, e se pudermos afirmar que a população se distribui aproximadamente como uma normal e o desvio padrão populacional for conhecido, deve-se utilizar a distribuição normal.\n",
    "> - Para um tamanho de amostra menor que 30 elementos, e se pudermos afirmar que a população se distribui aproximadamente como uma normal e o desvio padrão populacional for desconhecido, deve-se utilizar a distribuição t de Student.\n",
    "\n",
    "<img src='https://caelum-online-public.s3.amazonaws.com/1229-estatistica-parte3/01/img003.png' width=70%>\n",
    "\n",
    "### **Passo 3** - fixação da significância do teste ($\\alpha$), que define as regiões de aceitação e rejeição das hipóteses (os valores mais freqüentes são 10%, 5% e 1%);\n",
    "\n",
    "> ### <font color='red'>Pontos importantes</font>\n",
    "> - O **nível de confiança** ($1 - \\alpha$) representa a probabilidade de acerto da estimativa. De forma complementar o **nível de significância** ($\\alpha$) expressa a probabilidade de erro da estimativa.\n",
    ">\n",
    "> ![Níveis de Confiança e significância](https://caelum-online-public.s3.amazonaws.com/1229-estatistica-parte3/01/img001.png)\n",
    ">\n",
    "> - O **nível de confiança** representa o grau de confiabilidade do resultado da estimativa estar dentro de determinado intervalo. Quando fixamos em uma pesquisa um **nível de confiança** de 95%, por exemplo, estamos assumindo que existe uma probabilidade de 95% dos resultados da pesquisa representarem bem a realidade, ou seja, estarem corretos.\n",
    ">\n",
    "> ![Áreas de Aceitação e Rejeição](https://caelum-online-public.s3.amazonaws.com/1229-estatistica-parte3/01/img002.png)\n",
    "\n",
    "### **Passo 4** - cálculo da estatística-teste e verificação desse valor com as áreas de aceitação e rejeição do teste;\n",
    "\n",
    "> ### <font color='red'>Pontos importantes</font>\n",
    "> - Nos testes paramétricos, distância relativa entre a estatística amostral e o valor alegado como provável.\n",
    "> - Neste passo são obtidas as estatísticas amostrais necessárias à execução do teste (média, desvio-padrão, graus de liberdade etc.)\n",
    "\n",
    "\n",
    "### **Passo 5** - Aceitação ou rejeição da hipótese nula.\n",
    "\n",
    "> ### <font color='red'>Pontos importantes</font>\n",
    "> - No caso de o intervalo de aceitação conter a estatística-teste, aceita-se $H_0$ como estatisticamente válido e rejeita-se $H_1$ como tal.\n",
    "> - No caso de o intervalo de aceitação não conter a estatística-teste, rejeita-se $H_0$ e aceita-se $H_1$ como provavelmente verdadeira. \n",
    "> - A aceitação também se verifica com a probabilidade de cauda (p-valor): se maior que $\\alpha$, aceita-se $H_0$."
   ]
  },
  {
   "cell_type": "markdown",
   "metadata": {
    "colab_type": "text",
    "id": "TXdMM0dOpsjm"
   },
   "source": [
    "---"
   ]
  },
  {
   "cell_type": "markdown",
   "metadata": {
    "colab_type": "text",
    "id": "miGOADKYpsjn"
   },
   "source": [
    "# <font color=green>3 TESTES PARAMÉTRICOS</font>\n",
    "***"
   ]
  },
  {
   "cell_type": "markdown",
   "metadata": {
    "colab_type": "text",
    "id": "pIHY_4Sspsjn"
   },
   "source": [
    "Quando um teste assume determinadas premissas sobre como os parâmetros de uma população se distribuem, estamos trabalhando com **Testes Paramétricos**."
   ]
  },
  {
   "cell_type": "markdown",
   "metadata": {
    "colab_type": "text",
    "id": "rUKgxZ7_psjp"
   },
   "source": [
    "## <font color=green>3.1 Teste Bicaudal</font>\n",
    "***"
   ]
  },
  {
   "cell_type": "markdown",
   "metadata": {
    "colab_type": "text",
    "id": "i1PMIB5cpsjp"
   },
   "source": [
    "## <font color='red'>Problema</font>"
   ]
  },
  {
   "cell_type": "markdown",
   "metadata": {
    "colab_type": "text",
    "id": "vellTWzJpsjq"
   },
   "source": [
    "A empresa **Suco Bom** produz **sucos de frutas em embalagens de 500 ml**. Seu processo de produção é quase todo automatizado e as embalagens de sucos são preenchidas por uma máquina que às vezes apresenta um certo desajuste, levando a erros no preenchimento das embalagens para mais ou menos conteúdo. Quando o volume médio cai abaixo de 500 ml, a empresa se preocupa em perder vendas e ter problemas com os orgãos fiscalizadores. Quando o volume passa de 500 ml, a empresa começa a se preocupar com prejuízos no processo de produção.\n",
    "\n",
    "O setor de controle de qualidade da empresa **Suco Bom** extrai, periodicamente, **amostras de 50 embalagens** para monitorar o processo de produção. Para cada amostra, é realizado um **teste de hipóteses** para avaliar se o maquinário se desajustou. A equipe de controle de qualidade assume um **nível de significância de 5%**.\n",
    "\n",
    "Suponha agora que uma **amostra de 50 embalagens** foi selecionada e que a **média amostral observada foi de 503,24 ml**. **Esse valor de média amostral é suficientemente maior que 500 ml para nos fazer rejeitar a hipótese de que a média do processo é de 500 ml ao nível de significância de 5%?**"
   ]
  },
  {
   "cell_type": "markdown",
   "metadata": {
    "colab_type": "text",
    "id": "-J15nugOpsjq"
   },
   "source": [
    "---"
   ]
  },
  {
   "cell_type": "markdown",
   "metadata": {
    "colab_type": "text",
    "id": "076qvKgapsjr"
   },
   "source": [
    "O **teste bicaudal** é muito utilizado em **testes de qualidade**, como o apresentado em nosso problema acima. Outro exemplo é a avaliação de peças que devem ter um encaixe perfeito (porcas e parafusos, chaves e fechaduras)."
   ]
  },
  {
   "cell_type": "markdown",
   "metadata": {
    "colab_type": "text",
    "id": "MyGUYz88psjr"
   },
   "source": [
    "![Teste Bicaudal](https://caelum-online-public.s3.amazonaws.com/1229-estatistica-parte3/01/img005.png)"
   ]
  },
  {
   "cell_type": "markdown",
   "metadata": {
    "colab_type": "text",
    "id": "EOiKt64mpsjs"
   },
   "source": [
    "---"
   ]
  },
  {
   "cell_type": "markdown",
   "metadata": {
    "colab_type": "text",
    "id": "011wNGXtpsjs"
   },
   "source": [
    "### Dados do problema"
   ]
  },
  {
   "cell_type": "code",
   "execution_count": 14,
   "metadata": {
    "colab": {},
    "colab_type": "code",
    "id": "lHLlGH7upsjt"
   },
   "outputs": [],
   "source": [
    "amostra = [509, 505, 495, 510, 496, 509, 497, 502, 503, 505, \n",
    "           501, 505, 510, 505, 504, 497, 506, 506, 508, 505, \n",
    "           497, 504, 500, 498, 506, 496, 508, 497, 503, 501, \n",
    "           503, 506, 499, 498, 509, 507, 503, 499, 509, 495, \n",
    "           502, 505, 504, 509, 508, 501, 505, 497, 508, 507]"
   ]
  },
  {
   "cell_type": "code",
   "execution_count": 15,
   "metadata": {
    "colab": {
     "base_uri": "https://localhost:8080/",
     "height": 204
    },
    "colab_type": "code",
    "id": "AJNH5RQtpsju",
    "outputId": "2e4e74bb-9e93-41ce-b12c-af947c39fda8",
    "scrolled": false
   },
   "outputs": [
    {
     "data": {
      "text/html": [
       "<div>\n",
       "<style scoped>\n",
       "    .dataframe tbody tr th:only-of-type {\n",
       "        vertical-align: middle;\n",
       "    }\n",
       "\n",
       "    .dataframe tbody tr th {\n",
       "        vertical-align: top;\n",
       "    }\n",
       "\n",
       "    .dataframe thead th {\n",
       "        text-align: right;\n",
       "    }\n",
       "</style>\n",
       "<table border=\"1\" class=\"dataframe\">\n",
       "  <thead>\n",
       "    <tr style=\"text-align: right;\">\n",
       "      <th></th>\n",
       "      <th>amostra</th>\n",
       "    </tr>\n",
       "  </thead>\n",
       "  <tbody>\n",
       "    <tr>\n",
       "      <th>0</th>\n",
       "      <td>509</td>\n",
       "    </tr>\n",
       "    <tr>\n",
       "      <th>1</th>\n",
       "      <td>505</td>\n",
       "    </tr>\n",
       "    <tr>\n",
       "      <th>2</th>\n",
       "      <td>495</td>\n",
       "    </tr>\n",
       "    <tr>\n",
       "      <th>3</th>\n",
       "      <td>510</td>\n",
       "    </tr>\n",
       "    <tr>\n",
       "      <th>4</th>\n",
       "      <td>496</td>\n",
       "    </tr>\n",
       "  </tbody>\n",
       "</table>\n",
       "</div>"
      ],
      "text/plain": [
       "   amostra\n",
       "0      509\n",
       "1      505\n",
       "2      495\n",
       "3      510\n",
       "4      496"
      ]
     },
     "execution_count": 15,
     "metadata": {},
     "output_type": "execute_result"
    }
   ],
   "source": [
    "amostra = pd.DataFrame(amostra,columns=['amostra'])\n",
    "amostra.head()"
   ]
  },
  {
   "cell_type": "code",
   "execution_count": 16,
   "metadata": {},
   "outputs": [
    {
     "data": {
      "text/plain": [
       "503.24"
      ]
     },
     "execution_count": 16,
     "metadata": {},
     "output_type": "execute_result"
    }
   ],
   "source": [
    "media_amostra = amostra.mean()[0]\n",
    "media_amostra"
   ]
  },
  {
   "cell_type": "code",
   "execution_count": 17,
   "metadata": {
    "colab": {
     "base_uri": "https://localhost:8080/",
     "height": 35
    },
    "colab_type": "code",
    "id": "tnjD0A_ppsjw",
    "outputId": "96415938-0ad1-463b-ee79-719ef48dca1a"
   },
   "outputs": [
    {
     "data": {
      "text/plain": [
       "4.483803050527347"
      ]
     },
     "execution_count": 17,
     "metadata": {},
     "output_type": "execute_result"
    }
   ],
   "source": [
    "desvio_padrao_amostra = amostra.std()[0]\n",
    "desvio_padrao_amostra"
   ]
  },
  {
   "cell_type": "code",
   "execution_count": 18,
   "metadata": {
    "colab": {
     "base_uri": "https://localhost:8080/",
     "height": 35
    },
    "colab_type": "code",
    "id": "JXz2IFCUpsjy",
    "outputId": "fb457ed0-cc94-498c-b13d-310418913f61"
   },
   "outputs": [],
   "source": [
    "media = 500\n",
    "significancia = 0.05\n",
    "confianca = 1 - significancia\n",
    "n = 50"
   ]
  },
  {
   "cell_type": "code",
   "execution_count": null,
   "metadata": {
    "colab": {},
    "colab_type": "code",
    "id": "PE99TXSfpsj0"
   },
   "outputs": [],
   "source": []
  },
  {
   "cell_type": "markdown",
   "metadata": {
    "colab_type": "text",
    "id": "nqmFpl7wpsj2"
   },
   "source": [
    "### **Passo 1** - formulação das hipóteses $H_0$ e $H_1$\n",
    "\n",
    "#### <font color='red'>Lembre-se, a hipótese nula sempre contém a alegação de igualdade</font>"
   ]
  },
  {
   "cell_type": "markdown",
   "metadata": {
    "colab_type": "text",
    "id": "QVcqkHZhpsj3"
   },
   "source": [
    "### $H_0: \\mu = 500$\n",
    "\n",
    "### $H_1: \\mu \\neq 500$"
   ]
  },
  {
   "cell_type": "markdown",
   "metadata": {
    "colab_type": "text",
    "id": "MShPuVL6psj3"
   },
   "source": [
    "---"
   ]
  },
  {
   "cell_type": "markdown",
   "metadata": {
    "colab_type": "text",
    "id": "_rAz73fzpsj4"
   },
   "source": [
    "### **Passo 2** - escolha da distribuição amostral adequada\n",
    "<img src='https://caelum-online-public.s3.amazonaws.com/1229-estatistica-parte3/01/img003.png' width=70%>"
   ]
  },
  {
   "cell_type": "markdown",
   "metadata": {
    "colab_type": "text",
    "id": "XC1JOtU9psj4"
   },
   "source": [
    "### O tamanho da amostra é maior que 30?\n",
    "#### Resp.: Sim\n",
    "\n",
    "### O desvio padrão populacional é conhecido?\n",
    "#### Resp.: Não"
   ]
  },
  {
   "cell_type": "markdown",
   "metadata": {
    "colab_type": "text",
    "id": "Uq-Zq_Sxpsj5"
   },
   "source": [
    "---"
   ]
  },
  {
   "cell_type": "markdown",
   "metadata": {
    "colab_type": "text",
    "id": "V3OT4caspsj5"
   },
   "source": [
    "### **Passo 3** - fixação da significância do teste ($\\alpha$)"
   ]
  },
  {
   "cell_type": "markdown",
   "metadata": {
    "colab_type": "text",
    "id": "wI1Nhj_vpsj6"
   },
   "source": [
    "https://docs.scipy.org/doc/scipy/reference/generated/scipy.stats.norm.html"
   ]
  },
  {
   "cell_type": "code",
   "execution_count": 19,
   "metadata": {
    "colab": {},
    "colab_type": "code",
    "id": "nUd-6AzZpsj6"
   },
   "outputs": [],
   "source": [
    "from scipy.stats import norm"
   ]
  },
  {
   "cell_type": "code",
   "execution_count": 20,
   "metadata": {
    "colab": {
     "base_uri": "https://localhost:8080/",
     "height": 35
    },
    "colab_type": "code",
    "id": "2JyYCHeQpsj8",
    "outputId": "593263ce-a450-43d3-bcf1-1d663ef2774f"
   },
   "outputs": [
    {
     "data": {
      "text/plain": [
       "0.975"
      ]
     },
     "execution_count": 20,
     "metadata": {},
     "output_type": "execute_result"
    }
   ],
   "source": [
    "probabilidade = (0.5 + (confianca / 2))\n",
    "probabilidade"
   ]
  },
  {
   "cell_type": "markdown",
   "metadata": {
    "colab_type": "text",
    "id": "Fu4Wbd-ipsj-"
   },
   "source": [
    "### Obtendo $z_{\\alpha/2}$"
   ]
  },
  {
   "cell_type": "code",
   "execution_count": 21,
   "metadata": {
    "colab": {
     "base_uri": "https://localhost:8080/",
     "height": 35
    },
    "colab_type": "code",
    "id": "imc3GyDLpsj_",
    "outputId": "b9dca9d5-da76-42b1-919c-1aaf593fed70"
   },
   "outputs": [
    {
     "data": {
      "text/plain": [
       "1.959963984540054"
      ]
     },
     "execution_count": 21,
     "metadata": {},
     "output_type": "execute_result"
    }
   ],
   "source": [
    "z_alpha_2 = norm.ppf(probabilidade)\n",
    "z_alpha_2"
   ]
  },
  {
   "cell_type": "markdown",
   "metadata": {
    "colab_type": "text",
    "id": "d98Z21yOpskB"
   },
   "source": [
    "![Região de Aceitação](https://caelum-online-public.s3.amazonaws.com/1229-estatistica-parte3/01/img006.png)"
   ]
  },
  {
   "cell_type": "markdown",
   "metadata": {
    "colab_type": "text",
    "id": "eyfX7pYMpskC"
   },
   "source": [
    "---"
   ]
  },
  {
   "cell_type": "markdown",
   "metadata": {
    "colab_type": "text",
    "id": "aaLCZs0ApskC"
   },
   "source": [
    "### **Passo 4** - cálculo da estatística-teste e verificação desse valor com as áreas de aceitação e rejeição do teste\n",
    "\n",
    "# $$z = \\frac{\\bar{x} - \\mu_0}{\\frac{s}{\\sqrt{n}}}$$"
   ]
  },
  {
   "cell_type": "code",
   "execution_count": 22,
   "metadata": {
    "colab": {
     "base_uri": "https://localhost:8080/",
     "height": 35
    },
    "colab_type": "code",
    "id": "a6zMj0YzpskC",
    "outputId": "83a2bb40-f67f-4ddc-dbd9-a88032f7dc86"
   },
   "outputs": [
    {
     "data": {
      "text/plain": [
       "5.109559775991877"
      ]
     },
     "execution_count": 22,
     "metadata": {},
     "output_type": "execute_result"
    }
   ],
   "source": [
    "z = (media_amostra - media) / (desvio_padrao_amostra / np.sqrt(n))\n",
    "z"
   ]
  },
  {
   "cell_type": "markdown",
   "metadata": {
    "colab_type": "text",
    "id": "UMHqgrlupskE"
   },
   "source": [
    "![Estatística-Teste](https://caelum-online-public.s3.amazonaws.com/1229-estatistica-parte3/01/img007.png)"
   ]
  },
  {
   "cell_type": "markdown",
   "metadata": {
    "colab_type": "text",
    "id": "tFfJX8G9pskF"
   },
   "source": [
    "---"
   ]
  },
  {
   "cell_type": "markdown",
   "metadata": {
    "colab_type": "text",
    "id": "aqTnTTePpskF"
   },
   "source": [
    "### **Passo 5** - Aceitação ou rejeição da hipótese nula"
   ]
  },
  {
   "cell_type": "markdown",
   "metadata": {
    "colab_type": "text",
    "id": "pD1cc4DHpskG"
   },
   "source": [
    "<img src='https://caelum-online-public.s3.amazonaws.com/1229-estatistica-parte3/01/img013.png' width=90%>"
   ]
  },
  {
   "cell_type": "markdown",
   "metadata": {
    "colab_type": "text",
    "id": "qbnH6V15pskG"
   },
   "source": [
    "### <font color='red'>Critério do valor crítico</font>\n",
    "\n",
    "> ### Teste Bicaudal\n",
    "> ### Rejeitar $H_0$ se $z \\leq -z_{\\alpha / 2}$ ou se $z \\geq z_{\\alpha / 2}$"
   ]
  },
  {
   "cell_type": "code",
   "execution_count": 23,
   "metadata": {
    "colab": {
     "base_uri": "https://localhost:8080/",
     "height": 35
    },
    "colab_type": "code",
    "id": "-MkJyqSupskG",
    "outputId": "6495abcc-0c3f-4759-8a31-96d668ad2eff"
   },
   "outputs": [
    {
     "data": {
      "text/plain": [
       "False"
      ]
     },
     "execution_count": 23,
     "metadata": {},
     "output_type": "execute_result"
    }
   ],
   "source": [
    "z <= -z_alpha_2"
   ]
  },
  {
   "cell_type": "code",
   "execution_count": 24,
   "metadata": {
    "colab": {
     "base_uri": "https://localhost:8080/",
     "height": 35
    },
    "colab_type": "code",
    "id": "FVTIIXA3pskI",
    "outputId": "8ec15147-9c1d-4fa0-fe26-8de8166f3ed6"
   },
   "outputs": [
    {
     "data": {
      "text/plain": [
       "True"
      ]
     },
     "execution_count": 24,
     "metadata": {},
     "output_type": "execute_result"
    }
   ],
   "source": [
    "z >= z_alpha_2"
   ]
  },
  {
   "cell_type": "markdown",
   "metadata": {
    "colab_type": "text",
    "id": "YX-xSnZFpskM"
   },
   "source": [
    "### <font color='green'>Conclusão: Como a média amostral $\\bar{x}$ é significativamente maior que 500 ml, rejeitamos $H_0$. Neste caso, devem ser tomadas providências para ajustar o maquinário que preenche as embalagens.</font>"
   ]
  },
  {
   "cell_type": "markdown",
   "metadata": {
    "colab_type": "text",
    "id": "Aqv_KZoYpskN"
   },
   "source": [
    "### <font color='red'>Critério do $p-valor$</font>\n",
    "\n",
    "> ### Teste Bicaudal\n",
    "> ### Rejeitar $H_0$ se o valor $p\\leq\\alpha$"
   ]
  },
  {
   "cell_type": "code",
   "execution_count": 25,
   "metadata": {
    "colab": {
     "base_uri": "https://localhost:8080/",
     "height": 35
    },
    "colab_type": "code",
    "id": "ucIaKkuopskN",
    "outputId": "fabc7c98-2eed-4209-bce1-51fe13cb599f"
   },
   "outputs": [
    {
     "data": {
      "text/plain": [
       "3.2291031715203644e-07"
      ]
     },
     "execution_count": 25,
     "metadata": {},
     "output_type": "execute_result"
    }
   ],
   "source": [
    "p_valor = 2 * (1 - norm.cdf(z))\n",
    "p_valor"
   ]
  },
  {
   "cell_type": "code",
   "execution_count": 26,
   "metadata": {
    "colab": {
     "base_uri": "https://localhost:8080/",
     "height": 35
    },
    "colab_type": "code",
    "id": "wGgZS83apskO",
    "outputId": "025ad332-0429-4dbc-fd0c-b0c7441a3210"
   },
   "outputs": [
    {
     "data": {
      "text/plain": [
       "3.229103172445718e-07"
      ]
     },
     "execution_count": 26,
     "metadata": {},
     "output_type": "execute_result"
    }
   ],
   "source": [
    "p_valor = 2 * (norm.sf(z))\n",
    "p_valor"
   ]
  },
  {
   "cell_type": "code",
   "execution_count": 27,
   "metadata": {
    "colab": {
     "base_uri": "https://localhost:8080/",
     "height": 35
    },
    "colab_type": "code",
    "id": "vUHgYIHqpskR",
    "outputId": "b53d6bed-fcb0-41ae-ecf4-38e2dd1dcaec",
    "scrolled": true
   },
   "outputs": [
    {
     "data": {
      "text/plain": [
       "True"
      ]
     },
     "execution_count": 27,
     "metadata": {},
     "output_type": "execute_result"
    }
   ],
   "source": [
    "p_valor <= significancia"
   ]
  },
  {
   "cell_type": "markdown",
   "metadata": {
    "colab_type": "text",
    "id": "YRw1O5X8pskT"
   },
   "source": [
    "https://www.statsmodels.org/stable/generated/statsmodels.stats.weightstats.ztest.html"
   ]
  },
  {
   "cell_type": "code",
   "execution_count": 28,
   "metadata": {
    "colab": {},
    "colab_type": "code",
    "id": "rg3hUlqfpskU"
   },
   "outputs": [],
   "source": [
    "from statsmodels.stats.weightstats import ztest"
   ]
  },
  {
   "cell_type": "code",
   "execution_count": 29,
   "metadata": {
    "colab": {
     "base_uri": "https://localhost:8080/",
     "height": 35
    },
    "colab_type": "code",
    "id": "0pC3HAjzpskV",
    "outputId": "af72acf1-4256-4671-8b4c-0884fb69af99",
    "scrolled": true
   },
   "outputs": [
    {
     "data": {
      "text/plain": [
       "(array([5.10955978]), array([3.22910317e-07]))"
      ]
     },
     "execution_count": 29,
     "metadata": {},
     "output_type": "execute_result"
    }
   ],
   "source": [
    "ztest(x1 = amostra, value = media)"
   ]
  },
  {
   "cell_type": "markdown",
   "metadata": {
    "colab_type": "text",
    "id": "X5MVCXS6pskX"
   },
   "source": [
    "https://www.statsmodels.org/dev/generated/statsmodels.stats.weightstats.DescrStatsW.html"
   ]
  },
  {
   "cell_type": "code",
   "execution_count": 30,
   "metadata": {
    "colab": {},
    "colab_type": "code",
    "id": "ke2O2P00pskX"
   },
   "outputs": [],
   "source": [
    "from statsmodels.stats.weightstats import DescrStatsW"
   ]
  },
  {
   "cell_type": "code",
   "execution_count": 31,
   "metadata": {
    "colab": {},
    "colab_type": "code",
    "id": "Dz_iOYR4pskZ"
   },
   "outputs": [],
   "source": [
    "test = DescrStatsW(amostra)"
   ]
  },
  {
   "cell_type": "code",
   "execution_count": 32,
   "metadata": {
    "colab": {
     "base_uri": "https://localhost:8080/",
     "height": 53
    },
    "colab_type": "code",
    "id": "LJBxBo5dpskb",
    "outputId": "ee7c8740-8a53-4ba5-a954-33b7e5b4c248"
   },
   "outputs": [
    {
     "data": {
      "text/plain": [
       "(array([5.10955978]), array([3.22910317e-07]))"
      ]
     },
     "execution_count": 32,
     "metadata": {},
     "output_type": "execute_result"
    }
   ],
   "source": [
    "test.ztest_mean(value = media)"
   ]
  },
  {
   "cell_type": "markdown",
   "metadata": {
    "colab_type": "text",
    "id": "YQQdl-Nepskv"
   },
   "source": [
    "---"
   ]
  },
  {
   "cell_type": "markdown",
   "metadata": {
    "colab_type": "text",
    "id": "U8OWXeVtpskv"
   },
   "source": [
    "## <font color=green>3.2 Teste Unicaudal</font>\n",
    "***"
   ]
  },
  {
   "cell_type": "markdown",
   "metadata": {
    "colab_type": "text",
    "id": "CPHPL4nWpskw"
   },
   "source": [
    "## <font color='red'>Problema</font>"
   ]
  },
  {
   "cell_type": "markdown",
   "metadata": {
    "colab_type": "text",
    "id": "vDyxOXLvpskw"
   },
   "source": [
    "Um famoso fabricante de refrigerantes alega que uma lata de 350 ml de seu principal produto contém, **no máximo**, **37 gramas de açúcar**. Esta alegação nos leva a entender que a quantidade média de açúcar em uma lata de refrigerante deve ser **igual ou menor que 37 g**.\n",
    "\n",
    "Um consumidor desconfiado e com conhecimentos em inferência estatística resolve testar a alegação do fabricante e seleciona, aleatóriamente, em um conjunto de estabelecimentos distintos, **uma amostra de 25 latas** do refrigerante em questão. Utilizando o equipamento correto o consumidor obteve as quantidades de açúcar em todas as 25 latas de sua amostra. \n",
    "\n",
    "**Assumindo que essa população se distribua aproximadamente como uma normal e considerando um nível de significância de 5%, é possível aceitar como válida a alegação do fabricante?**"
   ]
  },
  {
   "cell_type": "markdown",
   "metadata": {
    "colab_type": "text",
    "id": "5P5nWN0epsky"
   },
   "source": [
    "### Construindo tabela $t$ de Student\n",
    "https://docs.scipy.org/doc/scipy/reference/generated/scipy.stats.t.html"
   ]
  },
  {
   "cell_type": "code",
   "execution_count": 33,
   "metadata": {
    "colab": {
     "base_uri": "https://localhost:8080/",
     "height": 1010
    },
    "colab_type": "code",
    "id": "lKuhGKPEpsky",
    "outputId": "7ed95512-f283-465d-9a75-da2d3f0384b9",
    "scrolled": false
   },
   "outputs": [
    {
     "data": {
      "text/html": [
       "<div>\n",
       "<style scoped>\n",
       "    .dataframe tbody tr th:only-of-type {\n",
       "        vertical-align: middle;\n",
       "    }\n",
       "\n",
       "    .dataframe tbody tr th {\n",
       "        vertical-align: top;\n",
       "    }\n",
       "\n",
       "    .dataframe thead tr th {\n",
       "        text-align: left;\n",
       "    }\n",
       "</style>\n",
       "<table border=\"1\" class=\"dataframe\">\n",
       "  <thead>\n",
       "    <tr>\n",
       "      <th></th>\n",
       "      <th>Bicaudal</th>\n",
       "      <th>0.100</th>\n",
       "      <th>0.090</th>\n",
       "      <th>0.080</th>\n",
       "      <th>0.070</th>\n",
       "      <th>0.060</th>\n",
       "      <th>0.050</th>\n",
       "      <th>0.040</th>\n",
       "      <th>0.030</th>\n",
       "      <th>0.020</th>\n",
       "      <th>0.010</th>\n",
       "    </tr>\n",
       "    <tr>\n",
       "      <th></th>\n",
       "      <th>Unicaudal</th>\n",
       "      <th>0.050</th>\n",
       "      <th>0.045</th>\n",
       "      <th>0.040</th>\n",
       "      <th>0.035</th>\n",
       "      <th>0.030</th>\n",
       "      <th>0.025</th>\n",
       "      <th>0.020</th>\n",
       "      <th>0.015</th>\n",
       "      <th>0.010</th>\n",
       "      <th>0.005</th>\n",
       "    </tr>\n",
       "  </thead>\n",
       "  <tbody>\n",
       "    <tr>\n",
       "      <th rowspan=\"30\" valign=\"top\">Graus de Liberdade (n - 1)</th>\n",
       "      <th>1</th>\n",
       "      <td>6.31375</td>\n",
       "      <td>7.02637</td>\n",
       "      <td>7.91582</td>\n",
       "      <td>9.05789</td>\n",
       "      <td>10.5789</td>\n",
       "      <td>12.7062</td>\n",
       "      <td>15.8945</td>\n",
       "      <td>21.2049</td>\n",
       "      <td>31.8205</td>\n",
       "      <td>63.6567</td>\n",
       "    </tr>\n",
       "    <tr>\n",
       "      <th>2</th>\n",
       "      <td>2.91999</td>\n",
       "      <td>3.10398</td>\n",
       "      <td>3.31976</td>\n",
       "      <td>3.57825</td>\n",
       "      <td>3.89643</td>\n",
       "      <td>4.30265</td>\n",
       "      <td>4.84873</td>\n",
       "      <td>5.64278</td>\n",
       "      <td>6.96456</td>\n",
       "      <td>9.92484</td>\n",
       "    </tr>\n",
       "    <tr>\n",
       "      <th>3</th>\n",
       "      <td>2.35336</td>\n",
       "      <td>2.47081</td>\n",
       "      <td>2.60543</td>\n",
       "      <td>2.7626</td>\n",
       "      <td>2.95051</td>\n",
       "      <td>3.18245</td>\n",
       "      <td>3.48191</td>\n",
       "      <td>3.89605</td>\n",
       "      <td>4.5407</td>\n",
       "      <td>5.84091</td>\n",
       "    </tr>\n",
       "    <tr>\n",
       "      <th>4</th>\n",
       "      <td>2.13185</td>\n",
       "      <td>2.2261</td>\n",
       "      <td>2.33287</td>\n",
       "      <td>2.45589</td>\n",
       "      <td>2.60076</td>\n",
       "      <td>2.77645</td>\n",
       "      <td>2.99853</td>\n",
       "      <td>3.29763</td>\n",
       "      <td>3.74695</td>\n",
       "      <td>4.60409</td>\n",
       "    </tr>\n",
       "    <tr>\n",
       "      <th>5</th>\n",
       "      <td>2.01505</td>\n",
       "      <td>2.09784</td>\n",
       "      <td>2.19096</td>\n",
       "      <td>2.29739</td>\n",
       "      <td>2.42158</td>\n",
       "      <td>2.57058</td>\n",
       "      <td>2.75651</td>\n",
       "      <td>3.00287</td>\n",
       "      <td>3.36493</td>\n",
       "      <td>4.03214</td>\n",
       "    </tr>\n",
       "    <tr>\n",
       "      <th>6</th>\n",
       "      <td>1.94318</td>\n",
       "      <td>2.0192</td>\n",
       "      <td>2.10431</td>\n",
       "      <td>2.20106</td>\n",
       "      <td>2.31326</td>\n",
       "      <td>2.44691</td>\n",
       "      <td>2.61224</td>\n",
       "      <td>2.82893</td>\n",
       "      <td>3.14267</td>\n",
       "      <td>3.70743</td>\n",
       "    </tr>\n",
       "    <tr>\n",
       "      <th>7</th>\n",
       "      <td>1.89458</td>\n",
       "      <td>1.96615</td>\n",
       "      <td>2.04601</td>\n",
       "      <td>2.13645</td>\n",
       "      <td>2.24088</td>\n",
       "      <td>2.36462</td>\n",
       "      <td>2.51675</td>\n",
       "      <td>2.71457</td>\n",
       "      <td>2.99795</td>\n",
       "      <td>3.49948</td>\n",
       "    </tr>\n",
       "    <tr>\n",
       "      <th>8</th>\n",
       "      <td>1.85955</td>\n",
       "      <td>1.92799</td>\n",
       "      <td>2.00415</td>\n",
       "      <td>2.09017</td>\n",
       "      <td>2.18915</td>\n",
       "      <td>2.306</td>\n",
       "      <td>2.44898</td>\n",
       "      <td>2.63381</td>\n",
       "      <td>2.89646</td>\n",
       "      <td>3.35539</td>\n",
       "    </tr>\n",
       "    <tr>\n",
       "      <th>9</th>\n",
       "      <td>1.83311</td>\n",
       "      <td>1.89922</td>\n",
       "      <td>1.97265</td>\n",
       "      <td>2.05539</td>\n",
       "      <td>2.15038</td>\n",
       "      <td>2.26216</td>\n",
       "      <td>2.39844</td>\n",
       "      <td>2.5738</td>\n",
       "      <td>2.82144</td>\n",
       "      <td>3.24984</td>\n",
       "    </tr>\n",
       "    <tr>\n",
       "      <th>10</th>\n",
       "      <td>1.81246</td>\n",
       "      <td>1.87677</td>\n",
       "      <td>1.9481</td>\n",
       "      <td>2.02833</td>\n",
       "      <td>2.12023</td>\n",
       "      <td>2.22814</td>\n",
       "      <td>2.35931</td>\n",
       "      <td>2.52748</td>\n",
       "      <td>2.76377</td>\n",
       "      <td>3.16927</td>\n",
       "    </tr>\n",
       "    <tr>\n",
       "      <th>11</th>\n",
       "      <td>1.79588</td>\n",
       "      <td>1.85877</td>\n",
       "      <td>1.92843</td>\n",
       "      <td>2.00666</td>\n",
       "      <td>2.09614</td>\n",
       "      <td>2.20099</td>\n",
       "      <td>2.32814</td>\n",
       "      <td>2.49066</td>\n",
       "      <td>2.71808</td>\n",
       "      <td>3.10581</td>\n",
       "    </tr>\n",
       "    <tr>\n",
       "      <th>12</th>\n",
       "      <td>1.78229</td>\n",
       "      <td>1.84402</td>\n",
       "      <td>1.91231</td>\n",
       "      <td>1.98893</td>\n",
       "      <td>2.07644</td>\n",
       "      <td>2.17881</td>\n",
       "      <td>2.30272</td>\n",
       "      <td>2.4607</td>\n",
       "      <td>2.681</td>\n",
       "      <td>3.05454</td>\n",
       "    </tr>\n",
       "    <tr>\n",
       "      <th>13</th>\n",
       "      <td>1.77093</td>\n",
       "      <td>1.8317</td>\n",
       "      <td>1.89887</td>\n",
       "      <td>1.97416</td>\n",
       "      <td>2.06004</td>\n",
       "      <td>2.16037</td>\n",
       "      <td>2.2816</td>\n",
       "      <td>2.43585</td>\n",
       "      <td>2.65031</td>\n",
       "      <td>3.01228</td>\n",
       "    </tr>\n",
       "    <tr>\n",
       "      <th>14</th>\n",
       "      <td>1.76131</td>\n",
       "      <td>1.82127</td>\n",
       "      <td>1.8875</td>\n",
       "      <td>1.96166</td>\n",
       "      <td>2.04617</td>\n",
       "      <td>2.14479</td>\n",
       "      <td>2.26378</td>\n",
       "      <td>2.4149</td>\n",
       "      <td>2.62449</td>\n",
       "      <td>2.97684</td>\n",
       "    </tr>\n",
       "    <tr>\n",
       "      <th>15</th>\n",
       "      <td>1.75305</td>\n",
       "      <td>1.81232</td>\n",
       "      <td>1.87774</td>\n",
       "      <td>1.95094</td>\n",
       "      <td>2.03429</td>\n",
       "      <td>2.13145</td>\n",
       "      <td>2.24854</td>\n",
       "      <td>2.39701</td>\n",
       "      <td>2.60248</td>\n",
       "      <td>2.94671</td>\n",
       "    </tr>\n",
       "    <tr>\n",
       "      <th>16</th>\n",
       "      <td>1.74588</td>\n",
       "      <td>1.80455</td>\n",
       "      <td>1.86928</td>\n",
       "      <td>1.94165</td>\n",
       "      <td>2.024</td>\n",
       "      <td>2.11991</td>\n",
       "      <td>2.23536</td>\n",
       "      <td>2.38155</td>\n",
       "      <td>2.58349</td>\n",
       "      <td>2.92078</td>\n",
       "    </tr>\n",
       "    <tr>\n",
       "      <th>17</th>\n",
       "      <td>1.73961</td>\n",
       "      <td>1.79776</td>\n",
       "      <td>1.86187</td>\n",
       "      <td>1.93353</td>\n",
       "      <td>2.015</td>\n",
       "      <td>2.10982</td>\n",
       "      <td>2.22385</td>\n",
       "      <td>2.36805</td>\n",
       "      <td>2.56693</td>\n",
       "      <td>2.89823</td>\n",
       "    </tr>\n",
       "    <tr>\n",
       "      <th>18</th>\n",
       "      <td>1.73406</td>\n",
       "      <td>1.79175</td>\n",
       "      <td>1.85534</td>\n",
       "      <td>1.92636</td>\n",
       "      <td>2.00707</td>\n",
       "      <td>2.10092</td>\n",
       "      <td>2.2137</td>\n",
       "      <td>2.35618</td>\n",
       "      <td>2.55238</td>\n",
       "      <td>2.87844</td>\n",
       "    </tr>\n",
       "    <tr>\n",
       "      <th>19</th>\n",
       "      <td>1.72913</td>\n",
       "      <td>1.78642</td>\n",
       "      <td>1.84953</td>\n",
       "      <td>1.91999</td>\n",
       "      <td>2.00002</td>\n",
       "      <td>2.09302</td>\n",
       "      <td>2.2047</td>\n",
       "      <td>2.34565</td>\n",
       "      <td>2.53948</td>\n",
       "      <td>2.86093</td>\n",
       "    </tr>\n",
       "    <tr>\n",
       "      <th>20</th>\n",
       "      <td>1.72472</td>\n",
       "      <td>1.78164</td>\n",
       "      <td>1.84433</td>\n",
       "      <td>1.91429</td>\n",
       "      <td>1.99371</td>\n",
       "      <td>2.08596</td>\n",
       "      <td>2.19666</td>\n",
       "      <td>2.33624</td>\n",
       "      <td>2.52798</td>\n",
       "      <td>2.84534</td>\n",
       "    </tr>\n",
       "    <tr>\n",
       "      <th>21</th>\n",
       "      <td>1.72074</td>\n",
       "      <td>1.77734</td>\n",
       "      <td>1.83965</td>\n",
       "      <td>1.90916</td>\n",
       "      <td>1.98804</td>\n",
       "      <td>2.07961</td>\n",
       "      <td>2.18943</td>\n",
       "      <td>2.32779</td>\n",
       "      <td>2.51765</td>\n",
       "      <td>2.83136</td>\n",
       "    </tr>\n",
       "    <tr>\n",
       "      <th>22</th>\n",
       "      <td>1.71714</td>\n",
       "      <td>1.77345</td>\n",
       "      <td>1.83542</td>\n",
       "      <td>1.90452</td>\n",
       "      <td>1.98291</td>\n",
       "      <td>2.07387</td>\n",
       "      <td>2.18289</td>\n",
       "      <td>2.32016</td>\n",
       "      <td>2.50832</td>\n",
       "      <td>2.81876</td>\n",
       "    </tr>\n",
       "    <tr>\n",
       "      <th>23</th>\n",
       "      <td>1.71387</td>\n",
       "      <td>1.76991</td>\n",
       "      <td>1.83157</td>\n",
       "      <td>1.90031</td>\n",
       "      <td>1.97825</td>\n",
       "      <td>2.06866</td>\n",
       "      <td>2.17696</td>\n",
       "      <td>2.31323</td>\n",
       "      <td>2.49987</td>\n",
       "      <td>2.80734</td>\n",
       "    </tr>\n",
       "    <tr>\n",
       "      <th>24</th>\n",
       "      <td>1.71088</td>\n",
       "      <td>1.76667</td>\n",
       "      <td>1.82805</td>\n",
       "      <td>1.89646</td>\n",
       "      <td>1.97399</td>\n",
       "      <td>2.0639</td>\n",
       "      <td>2.17154</td>\n",
       "      <td>2.30691</td>\n",
       "      <td>2.49216</td>\n",
       "      <td>2.79694</td>\n",
       "    </tr>\n",
       "    <tr>\n",
       "      <th>25</th>\n",
       "      <td>1.70814</td>\n",
       "      <td>1.76371</td>\n",
       "      <td>1.82483</td>\n",
       "      <td>1.89293</td>\n",
       "      <td>1.9701</td>\n",
       "      <td>2.05954</td>\n",
       "      <td>2.16659</td>\n",
       "      <td>2.30113</td>\n",
       "      <td>2.48511</td>\n",
       "      <td>2.78744</td>\n",
       "    </tr>\n",
       "    <tr>\n",
       "      <th>26</th>\n",
       "      <td>1.70562</td>\n",
       "      <td>1.76098</td>\n",
       "      <td>1.82186</td>\n",
       "      <td>1.88968</td>\n",
       "      <td>1.96651</td>\n",
       "      <td>2.05553</td>\n",
       "      <td>2.16203</td>\n",
       "      <td>2.29581</td>\n",
       "      <td>2.47863</td>\n",
       "      <td>2.77871</td>\n",
       "    </tr>\n",
       "    <tr>\n",
       "      <th>27</th>\n",
       "      <td>1.70329</td>\n",
       "      <td>1.75847</td>\n",
       "      <td>1.81913</td>\n",
       "      <td>1.88669</td>\n",
       "      <td>1.9632</td>\n",
       "      <td>2.05183</td>\n",
       "      <td>2.15782</td>\n",
       "      <td>2.29091</td>\n",
       "      <td>2.47266</td>\n",
       "      <td>2.77068</td>\n",
       "    </tr>\n",
       "    <tr>\n",
       "      <th>28</th>\n",
       "      <td>1.70113</td>\n",
       "      <td>1.75613</td>\n",
       "      <td>1.81659</td>\n",
       "      <td>1.88391</td>\n",
       "      <td>1.96014</td>\n",
       "      <td>2.04841</td>\n",
       "      <td>2.15393</td>\n",
       "      <td>2.28638</td>\n",
       "      <td>2.46714</td>\n",
       "      <td>2.76326</td>\n",
       "    </tr>\n",
       "    <tr>\n",
       "      <th>29</th>\n",
       "      <td>1.69913</td>\n",
       "      <td>1.75397</td>\n",
       "      <td>1.81424</td>\n",
       "      <td>1.88134</td>\n",
       "      <td>1.95729</td>\n",
       "      <td>2.04523</td>\n",
       "      <td>2.15033</td>\n",
       "      <td>2.28217</td>\n",
       "      <td>2.46202</td>\n",
       "      <td>2.75639</td>\n",
       "    </tr>\n",
       "    <tr>\n",
       "      <th>30</th>\n",
       "      <td>1.69726</td>\n",
       "      <td>1.75195</td>\n",
       "      <td>1.81205</td>\n",
       "      <td>1.87894</td>\n",
       "      <td>1.95465</td>\n",
       "      <td>2.04227</td>\n",
       "      <td>2.14697</td>\n",
       "      <td>2.27826</td>\n",
       "      <td>2.45726</td>\n",
       "      <td>2.75</td>\n",
       "    </tr>\n",
       "  </tbody>\n",
       "</table>\n",
       "</div>"
      ],
      "text/plain": [
       "Bicaudal                         0.100    0.090    0.080    0.070    0.060  \\\n",
       "Unicaudal                        0.050    0.045    0.040    0.035    0.030   \n",
       "Graus de Liberdade (n - 1) 1   6.31375  7.02637  7.91582  9.05789  10.5789   \n",
       "                           2   2.91999  3.10398  3.31976  3.57825  3.89643   \n",
       "                           3   2.35336  2.47081  2.60543   2.7626  2.95051   \n",
       "                           4   2.13185   2.2261  2.33287  2.45589  2.60076   \n",
       "                           5   2.01505  2.09784  2.19096  2.29739  2.42158   \n",
       "                           6   1.94318   2.0192  2.10431  2.20106  2.31326   \n",
       "                           7   1.89458  1.96615  2.04601  2.13645  2.24088   \n",
       "                           8   1.85955  1.92799  2.00415  2.09017  2.18915   \n",
       "                           9   1.83311  1.89922  1.97265  2.05539  2.15038   \n",
       "                           10  1.81246  1.87677   1.9481  2.02833  2.12023   \n",
       "                           11  1.79588  1.85877  1.92843  2.00666  2.09614   \n",
       "                           12  1.78229  1.84402  1.91231  1.98893  2.07644   \n",
       "                           13  1.77093   1.8317  1.89887  1.97416  2.06004   \n",
       "                           14  1.76131  1.82127   1.8875  1.96166  2.04617   \n",
       "                           15  1.75305  1.81232  1.87774  1.95094  2.03429   \n",
       "                           16  1.74588  1.80455  1.86928  1.94165    2.024   \n",
       "                           17  1.73961  1.79776  1.86187  1.93353    2.015   \n",
       "                           18  1.73406  1.79175  1.85534  1.92636  2.00707   \n",
       "                           19  1.72913  1.78642  1.84953  1.91999  2.00002   \n",
       "                           20  1.72472  1.78164  1.84433  1.91429  1.99371   \n",
       "                           21  1.72074  1.77734  1.83965  1.90916  1.98804   \n",
       "                           22  1.71714  1.77345  1.83542  1.90452  1.98291   \n",
       "                           23  1.71387  1.76991  1.83157  1.90031  1.97825   \n",
       "                           24  1.71088  1.76667  1.82805  1.89646  1.97399   \n",
       "                           25  1.70814  1.76371  1.82483  1.89293   1.9701   \n",
       "                           26  1.70562  1.76098  1.82186  1.88968  1.96651   \n",
       "                           27  1.70329  1.75847  1.81913  1.88669   1.9632   \n",
       "                           28  1.70113  1.75613  1.81659  1.88391  1.96014   \n",
       "                           29  1.69913  1.75397  1.81424  1.88134  1.95729   \n",
       "                           30  1.69726  1.75195  1.81205  1.87894  1.95465   \n",
       "\n",
       "Bicaudal                         0.050    0.040    0.030    0.020    0.010  \n",
       "Unicaudal                        0.025    0.020    0.015    0.010    0.005  \n",
       "Graus de Liberdade (n - 1) 1   12.7062  15.8945  21.2049  31.8205  63.6567  \n",
       "                           2   4.30265  4.84873  5.64278  6.96456  9.92484  \n",
       "                           3   3.18245  3.48191  3.89605   4.5407  5.84091  \n",
       "                           4   2.77645  2.99853  3.29763  3.74695  4.60409  \n",
       "                           5   2.57058  2.75651  3.00287  3.36493  4.03214  \n",
       "                           6   2.44691  2.61224  2.82893  3.14267  3.70743  \n",
       "                           7   2.36462  2.51675  2.71457  2.99795  3.49948  \n",
       "                           8     2.306  2.44898  2.63381  2.89646  3.35539  \n",
       "                           9   2.26216  2.39844   2.5738  2.82144  3.24984  \n",
       "                           10  2.22814  2.35931  2.52748  2.76377  3.16927  \n",
       "                           11  2.20099  2.32814  2.49066  2.71808  3.10581  \n",
       "                           12  2.17881  2.30272   2.4607    2.681  3.05454  \n",
       "                           13  2.16037   2.2816  2.43585  2.65031  3.01228  \n",
       "                           14  2.14479  2.26378   2.4149  2.62449  2.97684  \n",
       "                           15  2.13145  2.24854  2.39701  2.60248  2.94671  \n",
       "                           16  2.11991  2.23536  2.38155  2.58349  2.92078  \n",
       "                           17  2.10982  2.22385  2.36805  2.56693  2.89823  \n",
       "                           18  2.10092   2.2137  2.35618  2.55238  2.87844  \n",
       "                           19  2.09302   2.2047  2.34565  2.53948  2.86093  \n",
       "                           20  2.08596  2.19666  2.33624  2.52798  2.84534  \n",
       "                           21  2.07961  2.18943  2.32779  2.51765  2.83136  \n",
       "                           22  2.07387  2.18289  2.32016  2.50832  2.81876  \n",
       "                           23  2.06866  2.17696  2.31323  2.49987  2.80734  \n",
       "                           24   2.0639  2.17154  2.30691  2.49216  2.79694  \n",
       "                           25  2.05954  2.16659  2.30113  2.48511  2.78744  \n",
       "                           26  2.05553  2.16203  2.29581  2.47863  2.77871  \n",
       "                           27  2.05183  2.15782  2.29091  2.47266  2.77068  \n",
       "                           28  2.04841  2.15393  2.28638  2.46714  2.76326  \n",
       "                           29  2.04523  2.15033  2.28217  2.46202  2.75639  \n",
       "                           30  2.04227  2.14697  2.27826  2.45726     2.75  "
      ]
     },
     "execution_count": 33,
     "metadata": {},
     "output_type": "execute_result"
    }
   ],
   "source": [
    "import pandas as pd\n",
    "from scipy.stats import t as t_student\n",
    "\n",
    "tabela_t_student = pd.DataFrame(\n",
    "    [], \n",
    "    index=[i for i in range(1, 31)],\n",
    "    columns = [i / 100 for i in range(10, 0, -1)]\n",
    ")\n",
    "\n",
    "for index in tabela_t_student.index:\n",
    "    for column in tabela_t_student.columns:\n",
    "        tabela_t_student.loc[index, column] = t_student.ppf(1 - float(column) / 2, index)\n",
    "\n",
    "index=[('Graus de Liberdade (n - 1)', i) for i in range(1, 31)]\n",
    "tabela_t_student.index = pd.MultiIndex.from_tuples(index)\n",
    "\n",
    "columns = [(\"{0:0.3f}\".format(i / 100), \"{0:0.3f}\".format((i / 100) / 2)) for i in range(10, 0, -1)]\n",
    "tabela_t_student.columns = pd.MultiIndex.from_tuples(columns)\n",
    "\n",
    "tabela_t_student.rename_axis(['Bicaudal', 'Unicaudal'], axis=1, inplace = True)\n",
    "\n",
    "tabela_t_student"
   ]
  },
  {
   "cell_type": "markdown",
   "metadata": {
    "colab_type": "text",
    "id": "MbVu6FdNpsk0"
   },
   "source": [
    "<img src='https://caelum-online-public.s3.amazonaws.com/1229-estatistica-parte3/01/img004.png' width='250px'>\n",
    "\n",
    "As células da tabela acima são valores de $t$ para uma área ou probabilidade na cauda superior da distribuição $t$."
   ]
  },
  {
   "cell_type": "markdown",
   "metadata": {
    "colab_type": "text",
    "id": "UXM3qdYUpsk0"
   },
   "source": [
    "---"
   ]
  },
  {
   "cell_type": "markdown",
   "metadata": {
    "colab_type": "text",
    "id": "dDbUKs7-psk0"
   },
   "source": [
    "Os **testes unicaudais** verificam as variáveis em relação a um piso ou a um teto e avaliam os valores máximos ou mínimos esperados para os parâmetros em estudo e a chance de as estatísticas amostrais serem inferiores ou superiores a dado limite."
   ]
  },
  {
   "cell_type": "markdown",
   "metadata": {
    "colab_type": "text",
    "id": "AvnFJnUrpsk1"
   },
   "source": [
    "<img src='https://caelum-online-public.s3.amazonaws.com/1229-estatistica-parte3/01/img008.png' width='700px'>"
   ]
  },
  {
   "cell_type": "markdown",
   "metadata": {
    "colab_type": "text",
    "id": "IgDg23Xppsk1"
   },
   "source": [
    "### Dados do problema"
   ]
  },
  {
   "cell_type": "code",
   "execution_count": 34,
   "metadata": {
    "colab": {},
    "colab_type": "code",
    "id": "IKvYICfEpsk2"
   },
   "outputs": [],
   "source": [
    "amostra = [37.27, 36.42, 34.84, 34.60, 37.49, \n",
    "           36.53, 35.49, 36.90, 34.52, 37.30, \n",
    "           34.99, 36.55, 36.29, 36.06, 37.42, \n",
    "           34.47, 36.70, 35.86, 36.80, 36.92, \n",
    "           37.04, 36.39, 37.32, 36.64, 35.45]"
   ]
  },
  {
   "cell_type": "code",
   "execution_count": 35,
   "metadata": {
    "colab": {
     "base_uri": "https://localhost:8080/",
     "height": 824
    },
    "colab_type": "code",
    "id": "CBuciT30psk3",
    "outputId": "28df5179-0f8c-42e1-fe69-a3b02280f45f",
    "scrolled": false
   },
   "outputs": [
    {
     "data": {
      "text/html": [
       "<div>\n",
       "<style scoped>\n",
       "    .dataframe tbody tr th:only-of-type {\n",
       "        vertical-align: middle;\n",
       "    }\n",
       "\n",
       "    .dataframe tbody tr th {\n",
       "        vertical-align: top;\n",
       "    }\n",
       "\n",
       "    .dataframe thead th {\n",
       "        text-align: right;\n",
       "    }\n",
       "</style>\n",
       "<table border=\"1\" class=\"dataframe\">\n",
       "  <thead>\n",
       "    <tr style=\"text-align: right;\">\n",
       "      <th></th>\n",
       "      <th>Amostra</th>\n",
       "    </tr>\n",
       "  </thead>\n",
       "  <tbody>\n",
       "    <tr>\n",
       "      <th>0</th>\n",
       "      <td>37.27</td>\n",
       "    </tr>\n",
       "    <tr>\n",
       "      <th>1</th>\n",
       "      <td>36.42</td>\n",
       "    </tr>\n",
       "    <tr>\n",
       "      <th>2</th>\n",
       "      <td>34.84</td>\n",
       "    </tr>\n",
       "    <tr>\n",
       "      <th>3</th>\n",
       "      <td>34.60</td>\n",
       "    </tr>\n",
       "    <tr>\n",
       "      <th>4</th>\n",
       "      <td>37.49</td>\n",
       "    </tr>\n",
       "    <tr>\n",
       "      <th>5</th>\n",
       "      <td>36.53</td>\n",
       "    </tr>\n",
       "    <tr>\n",
       "      <th>6</th>\n",
       "      <td>35.49</td>\n",
       "    </tr>\n",
       "    <tr>\n",
       "      <th>7</th>\n",
       "      <td>36.90</td>\n",
       "    </tr>\n",
       "    <tr>\n",
       "      <th>8</th>\n",
       "      <td>34.52</td>\n",
       "    </tr>\n",
       "    <tr>\n",
       "      <th>9</th>\n",
       "      <td>37.30</td>\n",
       "    </tr>\n",
       "    <tr>\n",
       "      <th>10</th>\n",
       "      <td>34.99</td>\n",
       "    </tr>\n",
       "    <tr>\n",
       "      <th>11</th>\n",
       "      <td>36.55</td>\n",
       "    </tr>\n",
       "    <tr>\n",
       "      <th>12</th>\n",
       "      <td>36.29</td>\n",
       "    </tr>\n",
       "    <tr>\n",
       "      <th>13</th>\n",
       "      <td>36.06</td>\n",
       "    </tr>\n",
       "    <tr>\n",
       "      <th>14</th>\n",
       "      <td>37.42</td>\n",
       "    </tr>\n",
       "    <tr>\n",
       "      <th>15</th>\n",
       "      <td>34.47</td>\n",
       "    </tr>\n",
       "    <tr>\n",
       "      <th>16</th>\n",
       "      <td>36.70</td>\n",
       "    </tr>\n",
       "    <tr>\n",
       "      <th>17</th>\n",
       "      <td>35.86</td>\n",
       "    </tr>\n",
       "    <tr>\n",
       "      <th>18</th>\n",
       "      <td>36.80</td>\n",
       "    </tr>\n",
       "    <tr>\n",
       "      <th>19</th>\n",
       "      <td>36.92</td>\n",
       "    </tr>\n",
       "    <tr>\n",
       "      <th>20</th>\n",
       "      <td>37.04</td>\n",
       "    </tr>\n",
       "    <tr>\n",
       "      <th>21</th>\n",
       "      <td>36.39</td>\n",
       "    </tr>\n",
       "    <tr>\n",
       "      <th>22</th>\n",
       "      <td>37.32</td>\n",
       "    </tr>\n",
       "    <tr>\n",
       "      <th>23</th>\n",
       "      <td>36.64</td>\n",
       "    </tr>\n",
       "    <tr>\n",
       "      <th>24</th>\n",
       "      <td>35.45</td>\n",
       "    </tr>\n",
       "  </tbody>\n",
       "</table>\n",
       "</div>"
      ],
      "text/plain": [
       "    Amostra\n",
       "0     37.27\n",
       "1     36.42\n",
       "2     34.84\n",
       "3     34.60\n",
       "4     37.49\n",
       "5     36.53\n",
       "6     35.49\n",
       "7     36.90\n",
       "8     34.52\n",
       "9     37.30\n",
       "10    34.99\n",
       "11    36.55\n",
       "12    36.29\n",
       "13    36.06\n",
       "14    37.42\n",
       "15    34.47\n",
       "16    36.70\n",
       "17    35.86\n",
       "18    36.80\n",
       "19    36.92\n",
       "20    37.04\n",
       "21    36.39\n",
       "22    37.32\n",
       "23    36.64\n",
       "24    35.45"
      ]
     },
     "execution_count": 35,
     "metadata": {},
     "output_type": "execute_result"
    }
   ],
   "source": [
    "amostra = pd.DataFrame(amostra,columns=['Amostra'])\n",
    "amostra"
   ]
  },
  {
   "cell_type": "code",
   "execution_count": 36,
   "metadata": {
    "colab": {
     "base_uri": "https://localhost:8080/",
     "height": 35
    },
    "colab_type": "code",
    "id": "79TBzFsdpsk4",
    "outputId": "9af134c0-aee3-4394-a188-347978abdd80"
   },
   "outputs": [
    {
     "data": {
      "text/plain": [
       "36.250400000000006"
      ]
     },
     "execution_count": 36,
     "metadata": {},
     "output_type": "execute_result"
    }
   ],
   "source": [
    "media_amostra = amostra.mean()[0]\n",
    "media_amostra"
   ]
  },
  {
   "cell_type": "code",
   "execution_count": 37,
   "metadata": {
    "colab": {
     "base_uri": "https://localhost:8080/",
     "height": 35
    },
    "colab_type": "code",
    "id": "S82xbyghpsk6",
    "outputId": "e7b2b235-1352-4a9b-95ae-111dec8f65a0",
    "scrolled": true
   },
   "outputs": [
    {
     "data": {
      "text/plain": [
       "0.9667535018469453"
      ]
     },
     "execution_count": 37,
     "metadata": {},
     "output_type": "execute_result"
    }
   ],
   "source": [
    "desvio_padrao_amostra = amostra.std()[0]\n",
    "desvio_padrao_amostra"
   ]
  },
  {
   "cell_type": "code",
   "execution_count": 38,
   "metadata": {
    "colab": {},
    "colab_type": "code",
    "id": "mvtiwLUWpsk8"
   },
   "outputs": [],
   "source": [
    "media = 37\n",
    "significancia = 0.05\n",
    "cofianca = 1 - significancia\n",
    "n = 25\n",
    "grau_de_liberdade = n - 1"
   ]
  },
  {
   "cell_type": "markdown",
   "metadata": {
    "colab_type": "text",
    "id": "rpLOiPU2psk9"
   },
   "source": [
    "### **Passo 1** - formulação das hipóteses $H_0$ e $H_1$"
   ]
  },
  {
   "cell_type": "markdown",
   "metadata": {
    "colab_type": "text",
    "id": "iMBi2jUfsc4s"
   },
   "source": [
    "\n",
    "#### <font color='red'>Lembre-se, a hipótese nula sempre contém a alegação de igualdade</font>"
   ]
  },
  {
   "cell_type": "markdown",
   "metadata": {
    "colab_type": "text",
    "id": "8roeH10fpsk-"
   },
   "source": [
    "### $H_0: \\mu \\leq 37$\n",
    "\n",
    "### $H_1: \\mu > 37$"
   ]
  },
  {
   "cell_type": "markdown",
   "metadata": {
    "colab_type": "text",
    "id": "uqE6JXGspsk-"
   },
   "source": [
    "---"
   ]
  },
  {
   "cell_type": "markdown",
   "metadata": {
    "colab_type": "text",
    "id": "XsOkFtncpsk_"
   },
   "source": [
    "### **Passo 2** - escolha da distribuição amostral adequada\n",
    "<img src='https://caelum-online-public.s3.amazonaws.com/1229-estatistica-parte3/01/img003.png' width=70%>"
   ]
  },
  {
   "cell_type": "markdown",
   "metadata": {
    "colab_type": "text",
    "id": "jpXjRqO2psk_"
   },
   "source": [
    "### O tamanho da amostra é maior que 30?\n",
    "#### Resp.: Não\n",
    "\n",
    "### Podemos afirmar que a população se distribui aproximadamente como uma normal?\n",
    "#### Resp.: Sim\n",
    "\n",
    "### O desvio padrão populacional é conhecido?\n",
    "#### Resp.: Não"
   ]
  },
  {
   "cell_type": "markdown",
   "metadata": {
    "colab_type": "text",
    "id": "J14v2aXOpslA"
   },
   "source": [
    "---"
   ]
  },
  {
   "cell_type": "markdown",
   "metadata": {
    "colab_type": "text",
    "id": "DQvwhQWnpslA"
   },
   "source": [
    "### **Passo 3** - fixação da significância do teste ($\\alpha$)"
   ]
  },
  {
   "cell_type": "markdown",
   "metadata": {
    "colab_type": "text",
    "id": "Qaxh6lsapslB"
   },
   "source": [
    "https://docs.scipy.org/doc/scipy/reference/generated/scipy.stats.t.html"
   ]
  },
  {
   "cell_type": "code",
   "execution_count": 39,
   "metadata": {
    "colab": {},
    "colab_type": "code",
    "id": "-WhDZiRopslC"
   },
   "outputs": [],
   "source": [
    "from scipy.stats import t as t_student"
   ]
  },
  {
   "cell_type": "code",
   "execution_count": 40,
   "metadata": {
    "colab": {
     "base_uri": "https://localhost:8080/",
     "height": 173
    },
    "colab_type": "code",
    "id": "12t8QJMzpslD",
    "outputId": "6ff367ac-ceb6-41af-e9f3-364da4170020",
    "scrolled": true
   },
   "outputs": [
    {
     "data": {
      "text/html": [
       "<div>\n",
       "<style scoped>\n",
       "    .dataframe tbody tr th:only-of-type {\n",
       "        vertical-align: middle;\n",
       "    }\n",
       "\n",
       "    .dataframe tbody tr th {\n",
       "        vertical-align: top;\n",
       "    }\n",
       "\n",
       "    .dataframe thead tr th {\n",
       "        text-align: left;\n",
       "    }\n",
       "</style>\n",
       "<table border=\"1\" class=\"dataframe\">\n",
       "  <thead>\n",
       "    <tr>\n",
       "      <th></th>\n",
       "      <th>Bicaudal</th>\n",
       "      <th>0.100</th>\n",
       "      <th>0.090</th>\n",
       "      <th>0.080</th>\n",
       "      <th>0.070</th>\n",
       "      <th>0.060</th>\n",
       "      <th>0.050</th>\n",
       "      <th>0.040</th>\n",
       "      <th>0.030</th>\n",
       "      <th>0.020</th>\n",
       "      <th>0.010</th>\n",
       "    </tr>\n",
       "    <tr>\n",
       "      <th></th>\n",
       "      <th>Unicaudal</th>\n",
       "      <th>0.050</th>\n",
       "      <th>0.045</th>\n",
       "      <th>0.040</th>\n",
       "      <th>0.035</th>\n",
       "      <th>0.030</th>\n",
       "      <th>0.025</th>\n",
       "      <th>0.020</th>\n",
       "      <th>0.015</th>\n",
       "      <th>0.010</th>\n",
       "      <th>0.005</th>\n",
       "    </tr>\n",
       "  </thead>\n",
       "  <tbody>\n",
       "    <tr>\n",
       "      <th rowspan=\"3\" valign=\"top\">Graus de Liberdade (n - 1)</th>\n",
       "      <th>23</th>\n",
       "      <td>1.71387</td>\n",
       "      <td>1.76991</td>\n",
       "      <td>1.83157</td>\n",
       "      <td>1.90031</td>\n",
       "      <td>1.97825</td>\n",
       "      <td>2.06866</td>\n",
       "      <td>2.17696</td>\n",
       "      <td>2.31323</td>\n",
       "      <td>2.49987</td>\n",
       "      <td>2.80734</td>\n",
       "    </tr>\n",
       "    <tr>\n",
       "      <th>24</th>\n",
       "      <td>1.71088</td>\n",
       "      <td>1.76667</td>\n",
       "      <td>1.82805</td>\n",
       "      <td>1.89646</td>\n",
       "      <td>1.97399</td>\n",
       "      <td>2.0639</td>\n",
       "      <td>2.17154</td>\n",
       "      <td>2.30691</td>\n",
       "      <td>2.49216</td>\n",
       "      <td>2.79694</td>\n",
       "    </tr>\n",
       "    <tr>\n",
       "      <th>25</th>\n",
       "      <td>1.70814</td>\n",
       "      <td>1.76371</td>\n",
       "      <td>1.82483</td>\n",
       "      <td>1.89293</td>\n",
       "      <td>1.9701</td>\n",
       "      <td>2.05954</td>\n",
       "      <td>2.16659</td>\n",
       "      <td>2.30113</td>\n",
       "      <td>2.48511</td>\n",
       "      <td>2.78744</td>\n",
       "    </tr>\n",
       "  </tbody>\n",
       "</table>\n",
       "</div>"
      ],
      "text/plain": [
       "Bicaudal                         0.100    0.090    0.080    0.070    0.060  \\\n",
       "Unicaudal                        0.050    0.045    0.040    0.035    0.030   \n",
       "Graus de Liberdade (n - 1) 23  1.71387  1.76991  1.83157  1.90031  1.97825   \n",
       "                           24  1.71088  1.76667  1.82805  1.89646  1.97399   \n",
       "                           25  1.70814  1.76371  1.82483  1.89293   1.9701   \n",
       "\n",
       "Bicaudal                         0.050    0.040    0.030    0.020    0.010  \n",
       "Unicaudal                        0.025    0.020    0.015    0.010    0.005  \n",
       "Graus de Liberdade (n - 1) 23  2.06866  2.17696  2.31323  2.49987  2.80734  \n",
       "                           24   2.0639  2.17154  2.30691  2.49216  2.79694  \n",
       "                           25  2.05954  2.16659  2.30113  2.48511  2.78744  "
      ]
     },
     "execution_count": 40,
     "metadata": {},
     "output_type": "execute_result"
    }
   ],
   "source": [
    "tabela_t_student[22:25]"
   ]
  },
  {
   "cell_type": "markdown",
   "metadata": {
    "colab_type": "text",
    "id": "Brk3cI1npslE"
   },
   "source": [
    "### Obtendo $t_{\\alpha}$"
   ]
  },
  {
   "cell_type": "code",
   "execution_count": 41,
   "metadata": {
    "colab": {
     "base_uri": "https://localhost:8080/",
     "height": 35
    },
    "colab_type": "code",
    "id": "xXi0eYGYpslF",
    "outputId": "7493d623-7775-4dc2-fb5a-39941b6fc277"
   },
   "outputs": [
    {
     "data": {
      "text/plain": [
       "1.7108820799094275"
      ]
     },
     "execution_count": 41,
     "metadata": {},
     "output_type": "execute_result"
    }
   ],
   "source": [
    "t_alpha = t_student.ppf(confianca, grau_de_liberdade)\n",
    "t_alpha"
   ]
  },
  {
   "cell_type": "markdown",
   "metadata": {
    "colab_type": "text",
    "id": "xMnBzjxLpslH"
   },
   "source": [
    "![Região de Aceitação](https://caelum-online-public.s3.amazonaws.com/1229-estatistica-parte3/01/img009.png)"
   ]
  },
  {
   "cell_type": "markdown",
   "metadata": {
    "colab_type": "text",
    "id": "Azy_uNSGpslI"
   },
   "source": [
    "---"
   ]
  },
  {
   "cell_type": "markdown",
   "metadata": {
    "colab_type": "text",
    "id": "YN4weG-1pslI"
   },
   "source": [
    "### **Passo 4** - cálculo da estatística-teste e verificação desse valor com as áreas de aceitação e rejeição do teste\n",
    "\n",
    "# $$t = \\frac{\\bar{x} - \\mu_0}{\\frac{s}{\\sqrt{n}}}$$"
   ]
  },
  {
   "cell_type": "code",
   "execution_count": 42,
   "metadata": {
    "colab": {
     "base_uri": "https://localhost:8080/",
     "height": 35
    },
    "colab_type": "code",
    "id": "qY0DfIffpslI",
    "outputId": "00fd1921-6093-469d-d164-c864eb34b23b"
   },
   "outputs": [
    {
     "data": {
      "text/plain": [
       "-3.876893119952045"
      ]
     },
     "execution_count": 42,
     "metadata": {},
     "output_type": "execute_result"
    }
   ],
   "source": [
    "t = (media_amostra - media) / (desvio_padrao_amostra / np.sqrt(n))\n",
    "t"
   ]
  },
  {
   "cell_type": "markdown",
   "metadata": {
    "colab_type": "text",
    "id": "SCIchVxNpslK"
   },
   "source": [
    "![Estatística-Teste](https://caelum-online-public.s3.amazonaws.com/1229-estatistica-parte3/01/img010.png)"
   ]
  },
  {
   "cell_type": "markdown",
   "metadata": {
    "colab_type": "text",
    "id": "NiheMfTopslK"
   },
   "source": [
    "---"
   ]
  },
  {
   "cell_type": "code",
   "execution_count": 43,
   "metadata": {},
   "outputs": [
    {
     "ename": "SyntaxError",
     "evalue": "invalid syntax (<ipython-input-43-8081307c4633>, line 1)",
     "output_type": "error",
     "traceback": [
      "\u001b[0;36m  File \u001b[0;32m\"<ipython-input-43-8081307c4633>\"\u001b[0;36m, line \u001b[0;32m1\u001b[0m\n\u001b[0;31m    t = (media_amostra - media ) /\u001b[0m\n\u001b[0m                                   ^\u001b[0m\n\u001b[0;31mSyntaxError\u001b[0m\u001b[0;31m:\u001b[0m invalid syntax\n"
     ]
    }
   ],
   "source": [
    "t = (media_amostra - media ) / "
   ]
  },
  {
   "cell_type": "markdown",
   "metadata": {
    "colab_type": "text",
    "id": "YCsJySBGpslK"
   },
   "source": [
    "### **Passo 5** - Aceitação ou rejeição da hipótese nula"
   ]
  },
  {
   "cell_type": "markdown",
   "metadata": {
    "colab_type": "text",
    "id": "ioLyTpbWpslL"
   },
   "source": [
    "<img src='https://caelum-online-public.s3.amazonaws.com/1229-estatistica-parte3/01/img013.png' width=90%>"
   ]
  },
  {
   "cell_type": "markdown",
   "metadata": {
    "colab_type": "text",
    "id": "TQcuPzbPpslL"
   },
   "source": [
    "### <font color='red'>Critério do valor crítico</font>\n",
    "\n",
    "> ### Teste Unicaudal Superior\n",
    "> ### Rejeitar $H_0$ se $t \\geq t_{\\alpha}$"
   ]
  },
  {
   "cell_type": "code",
   "execution_count": null,
   "metadata": {
    "colab": {
     "base_uri": "https://localhost:8080/",
     "height": 35
    },
    "colab_type": "code",
    "id": "pkoDYMLIpslM",
    "outputId": "d1166899-8745-4bf6-fa7c-40b072c1b1ea"
   },
   "outputs": [],
   "source": [
    "t >= t_alpha"
   ]
  },
  {
   "cell_type": "markdown",
   "metadata": {
    "colab_type": "text",
    "id": "F-_AVTMJpslN"
   },
   "source": [
    "### <font color='green'>Conclusão: Com um nível de confiança de 95% não podemos rejeitar $H_0$, ou seja, a alegação do fabricante é verdadeira.</font>"
   ]
  },
  {
   "cell_type": "markdown",
   "metadata": {
    "colab_type": "text",
    "id": "7ye3tS25pslO"
   },
   "source": [
    "### <font color='red'>Critério do valor $p$</font>\n",
    "\n",
    "> ### Teste Unicaudal Superior\n",
    "> ### Rejeitar $H_0$ se o valor $p\\leq\\alpha$"
   ]
  },
  {
   "cell_type": "code",
   "execution_count": null,
   "metadata": {
    "colab": {
     "base_uri": "https://localhost:8080/",
     "height": 35
    },
    "colab_type": "code",
    "id": "AtPMeAz4pslQ",
    "outputId": "c26c8cc5-1244-47ff-8001-c490522ec4c2"
   },
   "outputs": [],
   "source": [
    "t"
   ]
  },
  {
   "cell_type": "code",
   "execution_count": null,
   "metadata": {
    "colab": {
     "base_uri": "https://localhost:8080/",
     "height": 35
    },
    "colab_type": "code",
    "id": "gevdMX3apslS",
    "outputId": "5e580220-719d-4a83-d63a-f58bc5924b57"
   },
   "outputs": [],
   "source": [
    "p_valor = t_student.sf(t, df = 24)\n",
    "p_valor"
   ]
  },
  {
   "cell_type": "code",
   "execution_count": null,
   "metadata": {
    "colab": {
     "base_uri": "https://localhost:8080/",
     "height": 35
    },
    "colab_type": "code",
    "id": "_hfVEPQQpslU",
    "outputId": "1ccf5f1f-dd1f-4855-b981-f3bb76d1163e"
   },
   "outputs": [],
   "source": [
    "p_valor <= significancia"
   ]
  },
  {
   "cell_type": "markdown",
   "metadata": {
    "colab_type": "text",
    "id": "4JxGeADypslW"
   },
   "source": [
    "https://www.statsmodels.org/dev/generated/statsmodels.stats.weightstats.DescrStatsW.html"
   ]
  },
  {
   "cell_type": "code",
   "execution_count": null,
   "metadata": {
    "colab": {},
    "colab_type": "code",
    "id": "Y1gP6yjvpslW"
   },
   "outputs": [],
   "source": [
    "from statsmodels.stats.weightstats import DescrStatsW"
   ]
  },
  {
   "cell_type": "code",
   "execution_count": null,
   "metadata": {
    "colab": {},
    "colab_type": "code",
    "id": "7V555DeTpslX"
   },
   "outputs": [],
   "source": [
    "test = DescrStatsW(amostra)"
   ]
  },
  {
   "cell_type": "code",
   "execution_count": null,
   "metadata": {
    "colab": {
     "base_uri": "https://localhost:8080/",
     "height": 71
    },
    "colab_type": "code",
    "id": "y36SnhnWpslY",
    "outputId": "96889953-1b37-417b-8588-b0f7f29fc5af"
   },
   "outputs": [],
   "source": [
    "t, p_valor, gf = test.ttest_mean(value = media, alternative = 'larger')\n",
    "print(t[0])\n",
    "print(p_valor[0])\n",
    "print(gf)"
   ]
  },
  {
   "cell_type": "code",
   "execution_count": null,
   "metadata": {
    "colab": {
     "base_uri": "https://localhost:8080/",
     "height": 35
    },
    "colab_type": "code",
    "id": "CMZcYUyiz0mr",
    "outputId": "c9e81381-094c-444a-8dd9-557865e8c582"
   },
   "outputs": [],
   "source": [
    "p_valor[0] <= significancia"
   ]
  },
  {
   "cell_type": "markdown",
   "metadata": {
    "colab_type": "text",
    "id": "wlUdcJnDpsla"
   },
   "source": [
    "---"
   ]
  },
  {
   "cell_type": "markdown",
   "metadata": {
    "colab_type": "text",
    "id": "L7_ZbBBtpslb"
   },
   "source": [
    "## <font color=green>3.4 Testes para Duas Amostras</font>\n",
    "***"
   ]
  },
  {
   "cell_type": "markdown",
   "metadata": {
    "colab_type": "text",
    "id": "lmAJLIu8pslb"
   },
   "source": [
    "## <font color='red'>Problema</font>"
   ]
  },
  {
   "cell_type": "markdown",
   "metadata": {
    "colab_type": "text",
    "id": "0zUUY8klpslc"
   },
   "source": [
    "Em nosso dataset temos os rendimento dos chefes de domicílio obtidos da Pesquisa Nacional por Amostra de Domicílios - PNAD no ano de 2015. Um problema bastante conhecido em nosso país diz respeito a desigualdade de renda, principalmente entre homens e mulheres.\n",
    "\n",
    "Duas amostras aleatórias, uma de **500 homens** e outra com **500 mulheres**, foram selecionadas em nosso dataset. Com o objetivo de comprovar tal desigualdade, **teste a igualdade das médias** entre estas duas amostras com um nível de **significância de 1%**."
   ]
  },
  {
   "cell_type": "markdown",
   "metadata": {
    "colab_type": "text",
    "id": "WUknTBZgpslc"
   },
   "source": [
    "---"
   ]
  },
  {
   "cell_type": "markdown",
   "metadata": {
    "colab_type": "text",
    "id": "gFIUL8Hgpslc"
   },
   "source": [
    "É possível também utilizar testes de hipóteses para comparar duas diferentes amostras. Neste tipo de teste se deseja decidir se uma amostra é diferente da outra."
   ]
  },
  {
   "cell_type": "markdown",
   "metadata": {
    "colab_type": "text",
    "id": "xzGuwM4xpslc"
   },
   "source": [
    "### Seleção das amostras"
   ]
  },
  {
   "cell_type": "code",
   "execution_count": null,
   "metadata": {
    "colab": {},
    "colab_type": "code",
    "id": "nuNSrzfYpsld",
    "scrolled": true
   },
   "outputs": [],
   "source": [
    "homens = dados.query('Sexo == 0').sample(n =500, random_state= 101).Renda"
   ]
  },
  {
   "cell_type": "code",
   "execution_count": null,
   "metadata": {
    "colab": {},
    "colab_type": "code",
    "id": "W-W9IOs1psle",
    "scrolled": true
   },
   "outputs": [],
   "source": [
    "mulheres = dados.query('Sexo == 1').sample(n = 500, random_state = 101).Renda"
   ]
  },
  {
   "cell_type": "markdown",
   "metadata": {
    "colab_type": "text",
    "id": "FOFa-cHwpslg"
   },
   "source": [
    "### Dados do problema"
   ]
  },
  {
   "cell_type": "code",
   "execution_count": null,
   "metadata": {
    "colab": {
     "base_uri": "https://localhost:8080/",
     "height": 35
    },
    "colab_type": "code",
    "id": "BGyXCbompslh",
    "outputId": "a5e8a9b9-ee69-408f-b8c0-6cac89b36d9a"
   },
   "outputs": [],
   "source": [
    "media_amostra_M = mulheres.mean()\n",
    "media_amostra_M"
   ]
  },
  {
   "cell_type": "code",
   "execution_count": null,
   "metadata": {
    "colab": {
     "base_uri": "https://localhost:8080/",
     "height": 35
    },
    "colab_type": "code",
    "id": "RoxFOCA3pslk",
    "outputId": "85133b37-a4a6-49cd-a585-700725811b09"
   },
   "outputs": [],
   "source": [
    "desvio_padrao_amostra_M = mulheres.std()\n",
    "type(desvio_padrao_amostra_M)"
   ]
  },
  {
   "cell_type": "code",
   "execution_count": null,
   "metadata": {
    "colab": {
     "base_uri": "https://localhost:8080/",
     "height": 35
    },
    "colab_type": "code",
    "id": "Of8L6Hygpsll",
    "outputId": "fe0dc0f3-79e3-4375-de47-43a4ff6c3f79"
   },
   "outputs": [],
   "source": [
    "media_amostra_H = homens.mean()\n",
    "media_amostra_H"
   ]
  },
  {
   "cell_type": "code",
   "execution_count": null,
   "metadata": {
    "colab": {
     "base_uri": "https://localhost:8080/",
     "height": 35
    },
    "colab_type": "code",
    "id": "-cSpXXTepsln",
    "outputId": "8a3d0017-ac70-4fe3-aae1-0c7bf32e676e"
   },
   "outputs": [],
   "source": [
    "desvio_padrao_amostra_H = homens.std()\n",
    "desvio_padrao_amostra_H"
   ]
  },
  {
   "cell_type": "code",
   "execution_count": null,
   "metadata": {
    "colab": {},
    "colab_type": "code",
    "id": "Cl7kdxkUpslo"
   },
   "outputs": [],
   "source": [
    "significancia = 0.01\n",
    "confianca = 1 - significancia\n",
    "n_M = 500\n",
    "n_H = 500\n",
    "D_0 = 0"
   ]
  },
  {
   "cell_type": "markdown",
   "metadata": {
    "colab_type": "text",
    "id": "PGoWwWwjpslp"
   },
   "source": [
    "---"
   ]
  },
  {
   "cell_type": "markdown",
   "metadata": {
    "colab_type": "text",
    "id": "tO597Oxgpslp"
   },
   "source": [
    "### **Passo 1** - formulação das hipóteses $H_0$ e $H_1$\n",
    "\n",
    "#### <font color='red'>Lembre-se, a hipótese nula sempre contém a alegação de igualdade</font>"
   ]
  },
  {
   "cell_type": "markdown",
   "metadata": {
    "colab_type": "text",
    "id": "LysVU-7fpslr"
   },
   "source": [
    "### $\\mu_1 \\Rightarrow$ Média das rendas dos chefes de domicílios do sexo masculino\n",
    "### $\\mu_2 \\Rightarrow$ Média das rendas dos chefes de domicílios do sexo feminino\n",
    "\n",
    "### $\n",
    "\\begin{cases}\n",
    "H_0: \\mu_1 \\leq \\mu_2\\\\\n",
    "H_1: \\mu_1 > \\mu_2\n",
    "\\end{cases}\n",
    "$\n",
    "\n",
    "### ou\n",
    "\n",
    "### $\n",
    "\\begin{cases}\n",
    "H_0: \\mu_1 -\\mu_2 \\leq 0\\\\\n",
    "H_1: \\mu_1 -\\mu_2 > 0\n",
    "\\end{cases}\n",
    "$"
   ]
  },
  {
   "cell_type": "markdown",
   "metadata": {
    "colab_type": "text",
    "id": "ENKqbCgQpslr"
   },
   "source": [
    "---"
   ]
  },
  {
   "cell_type": "markdown",
   "metadata": {
    "colab_type": "text",
    "id": "dBA05Y3Zpslr"
   },
   "source": [
    "### **Passo 2** - escolha da distribuição amostral adequada\n",
    "<img src='https://caelum-online-public.s3.amazonaws.com/1229-estatistica-parte3/01/img003.png' width=70%>\n",
    "\n",
    "### <font color='red'>Observação importante</font>\n",
    "> Em testes que envolvam duas amostras com o emprego da tabela $t$ de Student, o número de graus de liberdade será sempre igual a $n_1 + n_2 - 2$"
   ]
  },
  {
   "cell_type": "markdown",
   "metadata": {
    "colab_type": "text",
    "id": "6_Q_Wtjlpsls"
   },
   "source": [
    "### O tamanho da amostra é maior que 30?\n",
    "#### Resp.: Sim\n",
    "\n",
    "### O desvio padrão populacional é conhecido?\n",
    "#### Resp.: Não"
   ]
  },
  {
   "cell_type": "markdown",
   "metadata": {
    "colab_type": "text",
    "id": "T6sVzVjVpsls"
   },
   "source": [
    "---"
   ]
  },
  {
   "cell_type": "markdown",
   "metadata": {
    "colab_type": "text",
    "id": "SUN4yJqzpsls"
   },
   "source": [
    "### **Passo 3** - fixação da significância do teste ($\\alpha$)"
   ]
  },
  {
   "cell_type": "code",
   "execution_count": null,
   "metadata": {
    "colab": {
     "base_uri": "https://localhost:8080/",
     "height": 35
    },
    "colab_type": "code",
    "id": "b3Y_CZmzpsls",
    "outputId": "bc2e1945-7bb1-4c2c-851a-f0102328ce0e"
   },
   "outputs": [],
   "source": [
    "probabilidade = confianca\n",
    "probabilidade"
   ]
  },
  {
   "cell_type": "code",
   "execution_count": null,
   "metadata": {
    "colab": {
     "base_uri": "https://localhost:8080/",
     "height": 35
    },
    "colab_type": "code",
    "id": "qNse2bFRpslu",
    "outputId": "b03d1db9-17ec-4577-825d-dc81f7aee07b"
   },
   "outputs": [],
   "source": [
    "z_alpha = norm.ppf(probabilidade)\n",
    "z_alpha.round(2)"
   ]
  },
  {
   "cell_type": "markdown",
   "metadata": {
    "colab_type": "text",
    "id": "y9u_zd8Opslv"
   },
   "source": [
    "![Região de Aceitação](https://caelum-online-public.s3.amazonaws.com/1229-estatistica-parte3/01/img011.png)"
   ]
  },
  {
   "cell_type": "markdown",
   "metadata": {
    "colab_type": "text",
    "id": "xUhiEXRMpslv"
   },
   "source": [
    "---"
   ]
  },
  {
   "cell_type": "markdown",
   "metadata": {
    "colab_type": "text",
    "id": "iooB1aPHpslv"
   },
   "source": [
    "### **Passo 4** - cálculo da estatística-teste e verificação desse valor com as áreas de aceitação e rejeição do teste\n",
    "\n",
    "# $$z = \\frac{(\\bar{x_1} - \\bar{x_2})-D_0}{\\sqrt{\\frac{s_1^2}{n_1} + \\frac{s_2^2}{n_2}}}$$"
   ]
  },
  {
   "cell_type": "code",
   "execution_count": null,
   "metadata": {
    "colab": {
     "base_uri": "https://localhost:8080/",
     "height": 35
    },
    "colab_type": "code",
    "id": "AL2i9JOTpslw",
    "outputId": "920efcb1-4b72-4366-9930-52d6e0119549"
   },
   "outputs": [],
   "source": [
    "\n",
    "## S2 == Variancia == Desvio padrao ao quadrado\n",
    "numerador = (media_amostra_H - media_amostra_M) - D_0\n",
    "\n",
    "denominador = np.sqrt((desvio_padrao_amostra_H ** 2 / n_H) + (desvio_padrao_amostra_M ** 2 / n_M))\n",
    "\n",
    "z = numerador / denominador\n",
    "\n",
    "z"
   ]
  },
  {
   "cell_type": "markdown",
   "metadata": {
    "colab_type": "text",
    "id": "jXrfHvH5pslx"
   },
   "source": [
    "![Estatística-Teste](https://caelum-online-public.s3.amazonaws.com/1229-estatistica-parte3/01/img012.png)"
   ]
  },
  {
   "cell_type": "markdown",
   "metadata": {
    "colab_type": "text",
    "id": "4dn58Fc2pslx"
   },
   "source": [
    "---"
   ]
  },
  {
   "cell_type": "markdown",
   "metadata": {
    "colab_type": "text",
    "id": "P-7NL33-pslx"
   },
   "source": [
    "### **Passo 5** - Aceitação ou rejeição da hipótese nula"
   ]
  },
  {
   "cell_type": "markdown",
   "metadata": {
    "colab_type": "text",
    "id": "n_djxfYtpslx"
   },
   "source": [
    "<img src='https://caelum-online-public.s3.amazonaws.com/1229-estatistica-parte3/01/img014.png' width=90%>"
   ]
  },
  {
   "cell_type": "markdown",
   "metadata": {
    "colab_type": "text",
    "id": "QrObW-BXpsly"
   },
   "source": [
    "### <font color='red'>Critério do valor crítico</font>\n",
    "\n",
    "> ### Teste Unicaudal\n",
    "> ### Rejeitar $H_0$ se $z \\geq z_{\\alpha}$"
   ]
  },
  {
   "cell_type": "code",
   "execution_count": null,
   "metadata": {
    "colab": {
     "base_uri": "https://localhost:8080/",
     "height": 35
    },
    "colab_type": "code",
    "id": "tkJSji7gpsly",
    "outputId": "8bbaa7f8-311f-4b6e-98f0-6964f510a91d"
   },
   "outputs": [],
   "source": [
    "z >= z_alpha"
   ]
  },
  {
   "cell_type": "markdown",
   "metadata": {
    "colab_type": "text",
    "id": "UnBVO1uDpslz"
   },
   "source": [
    "### <font color='green'>Conclusão: Com um nível de confiança de 99% rejeitamos $H_0$, isto é, concluímos que a média das rendas dos chefes de domicílios do sexo masculino é maior que a média das rendas das chefes de domicílios do sexo feminino. Confirmando a alegação de desigualdade de renda entre os sexos.</font>"
   ]
  },
  {
   "cell_type": "markdown",
   "metadata": {
    "colab_type": "text",
    "id": "cyuNEHfwpsl0"
   },
   "source": [
    "### <font color='red'>Critério do valor $p$</font>\n",
    "\n",
    "> ### Teste Unicaudal\n",
    "> ### Rejeitar $H_0$ se o valor $p\\leq\\alpha$"
   ]
  },
  {
   "cell_type": "markdown",
   "metadata": {
    "colab_type": "text",
    "id": "9WgvHygWpsl0"
   },
   "source": [
    "https://www.statsmodels.org/dev/generated/statsmodels.stats.weightstats.DescrStatsW.html\n",
    "\n",
    "https://www.statsmodels.org/dev/generated/statsmodels.stats.weightstats.CompareMeans.ttest_ind.html"
   ]
  },
  {
   "cell_type": "code",
   "execution_count": null,
   "metadata": {
    "colab": {},
    "colab_type": "code",
    "id": "UkFRl3hTpsl0"
   },
   "outputs": [],
   "source": [
    "from statsmodels.stats.weightstats import DescrStatsW, CompareMeans"
   ]
  },
  {
   "cell_type": "code",
   "execution_count": null,
   "metadata": {
    "colab": {},
    "colab_type": "code",
    "id": "uW0uVFnFpsl1"
   },
   "outputs": [],
   "source": [
    "teste_H = DescrStatsW(homens)"
   ]
  },
  {
   "cell_type": "code",
   "execution_count": null,
   "metadata": {
    "colab": {},
    "colab_type": "code",
    "id": "kP92TQqupsl1"
   },
   "outputs": [],
   "source": [
    "teste_M = DescrStatsW(mulheres)"
   ]
  },
  {
   "cell_type": "code",
   "execution_count": null,
   "metadata": {
    "colab": {},
    "colab_type": "code",
    "id": "diOjg4G8psl2"
   },
   "outputs": [],
   "source": [
    "test = teste_H.get_compare(teste_M)"
   ]
  },
  {
   "cell_type": "code",
   "execution_count": null,
   "metadata": {
    "colab": {
     "base_uri": "https://localhost:8080/",
     "height": 35
    },
    "colab_type": "code",
    "id": "tweh7q_spsl5",
    "outputId": "aa9c3ae3-87b0-466d-908e-c7a7b378c583"
   },
   "outputs": [],
   "source": [
    "z, p_valor = test.ztest_ind(alternative='larger', value =0)\n",
    "p_valor"
   ]
  },
  {
   "cell_type": "code",
   "execution_count": null,
   "metadata": {
    "colab": {},
    "colab_type": "code",
    "id": "qRkrt2XZhL9v"
   },
   "outputs": [],
   "source": [
    "## Utilizando o comparemeans\n",
    "\n",
    "test = CompareMeans(teste_H, teste_M)"
   ]
  },
  {
   "cell_type": "code",
   "execution_count": null,
   "metadata": {
    "colab": {
     "base_uri": "https://localhost:8080/",
     "height": 35
    },
    "colab_type": "code",
    "id": "tSbOZem9hLvs",
    "outputId": "c987a7bf-f772-4a01-a4c6-9a3afacf08d3"
   },
   "outputs": [],
   "source": [
    "z, p_valor = test.ztest_ind(alternative='larger', value =0)\n",
    "p_valor"
   ]
  },
  {
   "cell_type": "code",
   "execution_count": null,
   "metadata": {
    "colab": {
     "base_uri": "https://localhost:8080/",
     "height": 35
    },
    "colab_type": "code",
    "id": "E3NF1BzYpsl6",
    "outputId": "73af41e4-51a9-4e1f-d4c8-0786046c24b2"
   },
   "outputs": [],
   "source": [
    "## Analisando ou rejeitando o resultado\n",
    "p_valor <= significancia"
   ]
  },
  {
   "cell_type": "markdown",
   "metadata": {
    "colab_type": "text",
    "id": "0gxk-t4jpsl8"
   },
   "source": [
    "---"
   ]
  },
  {
   "cell_type": "markdown",
   "metadata": {
    "colab_type": "text",
    "id": "IEHa9ZC_psl8"
   },
   "source": [
    "# <font color=green>4 TESTES NÃO PARAMÉTRICOS</font>\n",
    "***"
   ]
  },
  {
   "cell_type": "markdown",
   "metadata": {
    "colab_type": "text",
    "id": "8iRwKn9Wpsl8"
   },
   "source": [
    "O trabalho com pequenas amostras pode levar a não aceitação da validade do teorema central do limite e também na impossibilidade de fazer suposições sobre a distribuição da variável avaliada. Quando isso ocorre torna-se necessária a aplicação de testes não paramétricos. Nos testes não paramétricos, não fazemos hipóteses sobre a distribuição (de probabilidade) das quais as observações são extraídas."
   ]
  },
  {
   "cell_type": "markdown",
   "metadata": {
    "colab_type": "text",
    "id": "ngqmtRxFpsl9"
   },
   "source": [
    "## <font color='red'>Problema</font>"
   ]
  },
  {
   "cell_type": "markdown",
   "metadata": {
    "colab_type": "text",
    "id": "Al0BiC02psl9"
   },
   "source": [
    "Antes de cada partida do campeonato nacional de futebol, as moedas utilizadas pelos árbitros devem ser verificadas para se ter certeza de que não são viciadas, ou seja, que não tendam para determinado resultado. Para isso um teste simples deve ser realizado antes de cada partida. Este teste consiste em lançar a moeda do jogo **50 vezes** e contar as frequências de **CARAS** e **COROAS** obtidas. A tabela abaixo mostra o resultado obtido no experimento:\n",
    "\n",
    "||CARA|COROA|\n",
    "|-|-|-|\n",
    "|Observado|17|33|\n",
    "|Esperado|25|25|\n",
    "\n",
    "A um **nível de significância de 5%**, é possível afirmar que a moeda não é honesta, isto é, que a moeda apresenta uma probabilidade maior de cair com a face **CARA** voltada para cima?"
   ]
  },
  {
   "cell_type": "markdown",
   "metadata": {
    "colab_type": "text",
    "id": "56KA3Hnupsl9"
   },
   "source": [
    "## <font color=green>4.1 Teste do Qui-Quadrado ( $\\chi^2$)</font>\n",
    "***"
   ]
  },
  {
   "cell_type": "markdown",
   "metadata": {
    "colab_type": "text",
    "id": "GxTlvB4Zpsl9"
   },
   "source": [
    "Também conhecido como teste de adequação ao ajustamento, seu nome se deve ao fato de utilizar uma variável estatística padronizada, representada pela letra grega qui ( $\\chi$) elevada ao quadrado. A tabela com os valores padronizados e como obtê-la podem ser vistos logo abaixo.\n",
    "\n",
    "O teste do $\\chi^2$ testa a hipótese nula de não haver diferença entre as frequências observadas de um determinado evento e as frequências que são realmente esperadas para este evento.\n",
    "\n",
    "Os passos de aplicação do teste são bem parecidos aos vistos para os testes paramétricos.\n",
    "\n",
    "![Região de Aceitação](https://caelum-online-public.s3.amazonaws.com/1229-estatistica-parte3/01/img017.png)"
   ]
  },
  {
   "cell_type": "markdown",
   "metadata": {
    "colab_type": "text",
    "id": "1lbHtKGfpsl9"
   },
   "source": [
    "### Construindo tabela $\\chi^2$\n",
    "https://docs.scipy.org/doc/scipy/reference/generated/scipy.stats.chi.html"
   ]
  },
  {
   "cell_type": "code",
   "execution_count": null,
   "metadata": {
    "colab": {
     "base_uri": "https://localhost:8080/",
     "height": 1047
    },
    "colab_type": "code",
    "id": "k7sZCK8dpsl-",
    "outputId": "8510db24-6b42-49f2-a36a-8fa2865342b7",
    "scrolled": false
   },
   "outputs": [],
   "source": [
    "import pandas as pd\n",
    "from scipy.stats import chi\n",
    "\n",
    "tabela_t_chi_2 = pd.DataFrame(\n",
    "    [], \n",
    "    index=[i for i in range(1, 31)],\n",
    "    columns = [0.005, 0.01, 0.025, 0.05, 0.1, 0.25, 0.5, 0.75, 0.9, 0.975, 0.95, 0.99, 0.995]\n",
    ")\n",
    "\n",
    "for index in tabela_t_chi_2.index:\n",
    "    for column in tabela_t_chi_2.columns:\n",
    "        tabela_t_chi_2.loc[index, column] = \"{0:0.4f}\".format(chi.ppf(float(column), index)**2)\n",
    "\n",
    "tabela_t_chi_2.index.name='Graus de Liberdade'\n",
    "tabela_t_chi_2.rename_axis(['p'], axis=1, inplace = True)\n",
    "\n",
    "tabela_t_chi_2"
   ]
  },
  {
   "cell_type": "markdown",
   "metadata": {
    "colab_type": "text",
    "id": "UkzhYAPDpsl_"
   },
   "source": [
    "<img src='https://caelum-online-public.s3.amazonaws.com/1229-estatistica-parte3/01/img016.png' width='250px'>\n",
    "\n",
    "Tabela com os valores de $\\chi_p^2$ em função dos graus de liberdade $(n - 1)$ e de $p = P(\\chi^2 \\leq \\chi_p^2)$"
   ]
  },
  {
   "cell_type": "markdown",
   "metadata": {
    "colab_type": "text",
    "id": "cCPOqVFKpsl_"
   },
   "source": [
    "## <font color='red'>Problema</font>"
   ]
  },
  {
   "cell_type": "markdown",
   "metadata": {
    "colab_type": "text",
    "id": "GTq1wpkbpsl_"
   },
   "source": [
    "Antes de cada partida do campeonato nacional de futebol, as moedas utilizadas pelos árbitros devem ser verificadas para se ter certeza de que não são viciadas, ou seja, que não tendam para determinado resultado. Para isso um teste simples deve ser realizado antes de cada partida. Este teste consiste em lançar a moeda do jogo **50 vezes** e contar as frequências de **CARAS** e **COROAS** obtidas. A tabela abaixo mostra o resultado obtido no experimento:\n",
    "\n",
    "||CARA|COROA|\n",
    "|-|-|-|\n",
    "|Observado|17|33|\n",
    "|Esperado|25|25|\n",
    "\n",
    "A um **nível de significância de 5%**, é possível afirmar que a moeda não é honesta, isto é, que a moeda apresenta uma probabilidade maior de cair com a face **CARA** voltada para cima?"
   ]
  },
  {
   "cell_type": "markdown",
   "metadata": {
    "colab_type": "text",
    "id": "CSlCI1wUpsl_"
   },
   "source": [
    "---"
   ]
  },
  {
   "cell_type": "markdown",
   "metadata": {
    "colab_type": "text",
    "id": "Op26YDWnpsmA"
   },
   "source": [
    "### Dados do problema"
   ]
  },
  {
   "cell_type": "code",
   "execution_count": null,
   "metadata": {
    "colab": {},
    "colab_type": "code",
    "id": "p5iOqxk2psmA"
   },
   "outputs": [],
   "source": [
    "F_Observada = [17,33]\n",
    "F_Esperada = [25,25]\n",
    "significancia = 0.05\n",
    "confianca = 1 - significancia\n",
    "k = 2 #numero de eventos possiveis, no caso, cara ou coroa\n",
    "graus_de_liberdade = k - 1"
   ]
  },
  {
   "cell_type": "markdown",
   "metadata": {
    "colab_type": "text",
    "id": "w6A74pM-psmB"
   },
   "source": [
    "### **Passo 1** - formulação das hipóteses $H_0$ e $H_1$\n",
    "\n",
    "#### <font color='red'>Lembre-se, a hipótese nula sempre contém a alegação de igualdade</font>"
   ]
  },
  {
   "cell_type": "markdown",
   "metadata": {
    "colab_type": "text",
    "id": "zA4AD5_8psmB"
   },
   "source": [
    "### $H_0: F_{CARA} = F_{COROA}$\n",
    "\n",
    "### $H_1: F_{CARA} \\neq F_{COROA}$"
   ]
  },
  {
   "cell_type": "markdown",
   "metadata": {
    "colab_type": "text",
    "id": "rUtuw6_bpsmB"
   },
   "source": [
    "---"
   ]
  },
  {
   "cell_type": "markdown",
   "metadata": {
    "colab_type": "text",
    "id": "Zi2oE6ZbpsmB"
   },
   "source": [
    "### **Passo 2** - fixação da significância do teste ($\\alpha$)"
   ]
  },
  {
   "cell_type": "markdown",
   "metadata": {
    "colab_type": "text",
    "id": "cCL8Wyy7psmC"
   },
   "source": [
    "https://docs.scipy.org/doc/scipy/reference/generated/scipy.stats.chi.html"
   ]
  },
  {
   "cell_type": "code",
   "execution_count": null,
   "metadata": {
    "colab": {},
    "colab_type": "code",
    "id": "5bF7GEd-psmD"
   },
   "outputs": [],
   "source": [
    "import pandas as pd\n",
    "import numpy as np\n",
    "import scipy\n",
    "from scipy.stats import chi"
   ]
  },
  {
   "cell_type": "code",
   "execution_count": null,
   "metadata": {
    "colab": {
     "base_uri": "https://localhost:8080/",
     "height": 210
    },
    "colab_type": "code",
    "id": "WRsJSXxGpsmE",
    "outputId": "106db812-4580-4e1f-e7d3-5070da776d1f",
    "scrolled": true
   },
   "outputs": [],
   "source": [
    "tabela_t_chi_2[:3]"
   ]
  },
  {
   "cell_type": "markdown",
   "metadata": {
    "colab_type": "text",
    "id": "0RRjHQm7psmF"
   },
   "source": [
    "### Obtendo $\\chi_{\\alpha}^2$"
   ]
  },
  {
   "cell_type": "code",
   "execution_count": null,
   "metadata": {
    "colab": {
     "base_uri": "https://localhost:8080/",
     "height": 35
    },
    "colab_type": "code",
    "id": "6rXyih-lpsmH",
    "outputId": "a0445581-6d51-4a7d-f8c1-c5dbaf41c58c"
   },
   "outputs": [],
   "source": [
    "chi_2_alpha = chi.ppf(confianca, graus_de_liberdade) ** 2\n",
    "chi_2_alpha"
   ]
  },
  {
   "cell_type": "markdown",
   "metadata": {
    "colab_type": "text",
    "id": "aHxm3ZCupsmJ"
   },
   "source": [
    "![Região de Aceitação](https://caelum-online-public.s3.amazonaws.com/1229-estatistica-parte3/01/img018.png)"
   ]
  },
  {
   "cell_type": "markdown",
   "metadata": {
    "colab_type": "text",
    "id": "FxLr2OnDpsmJ"
   },
   "source": [
    "---"
   ]
  },
  {
   "cell_type": "markdown",
   "metadata": {
    "colab_type": "text",
    "id": "JcUvBM5OpsmJ"
   },
   "source": [
    "### **Passo 3** - cálculo da estatística-teste e verificação desse valor com as áreas de aceitação e rejeição do teste\n",
    "\n",
    "# $$\\chi^2 = \\sum_{i=1}^{k}{\\frac{(F_{i}^{Obs} - F_{i}^{Esp})^2}{F_{i}^{Esp}}}$$\n",
    "\n",
    "Onde\n",
    "\n",
    "$F_{i}^{Obs}$ = frequência observada para o evento $i$\n",
    "\n",
    "$F_{i}^{Esp}$ = frequência esperada para o evento $i$\n",
    "\n",
    "$k$ = total de eventos possíveis"
   ]
  },
  {
   "cell_type": "code",
   "execution_count": null,
   "metadata": {
    "colab": {
     "base_uri": "https://localhost:8080/",
     "height": 35
    },
    "colab_type": "code",
    "id": "2b32Y6HiuT-u",
    "outputId": "785b6961-162e-4672-9a71-2110af6ed3f4"
   },
   "outputs": [],
   "source": [
    "chi_2 = ( (F_Observada[0] - F_Esperada[0]) ** 2 /  F_Esperada[0] ) + ( (F_Observada[1] - F_Esperada[1]) ** 2 /  F_Esperada[1] )\n",
    "chi_2"
   ]
  },
  {
   "cell_type": "code",
   "execution_count": null,
   "metadata": {
    "colab": {
     "base_uri": "https://localhost:8080/",
     "height": 35
    },
    "colab_type": "code",
    "id": "7eL97ts8psmJ",
    "outputId": "7667b7de-8e7b-46df-fe08-d84eecac6c83"
   },
   "outputs": [],
   "source": [
    "chi_2 = 0\n",
    "\n",
    "for i in range(k):\n",
    "    chi_2 += ( (F_Observada[i] - F_Esperada[i]) **2 / F_Esperada[i])\n",
    "    \n",
    "chi_2"
   ]
  },
  {
   "cell_type": "markdown",
   "metadata": {
    "colab_type": "text",
    "id": "gdwiYn6ZpsmK"
   },
   "source": [
    "![Estatística-Teste](https://caelum-online-public.s3.amazonaws.com/1229-estatistica-parte3/01/img019.png)"
   ]
  },
  {
   "cell_type": "markdown",
   "metadata": {
    "colab_type": "text",
    "id": "7v6msKABpsmK"
   },
   "source": [
    "---"
   ]
  },
  {
   "cell_type": "markdown",
   "metadata": {
    "colab_type": "text",
    "id": "PHLhbZ3IpsmK"
   },
   "source": [
    "### **Passo 4** - Aceitação ou rejeição da hipótese nula"
   ]
  },
  {
   "cell_type": "markdown",
   "metadata": {
    "colab_type": "text",
    "id": "tiQ0gAMGpsmL"
   },
   "source": [
    "<img src='https://caelum-online-public.s3.amazonaws.com/1229-estatistica-parte3/01/img020.png' width=80%>"
   ]
  },
  {
   "cell_type": "markdown",
   "metadata": {
    "colab_type": "text",
    "id": "lhFLib7-psmM"
   },
   "source": [
    "### <font color='red'>Critério do valor crítico</font>\n",
    "\n",
    "> ### Rejeitar $H_0$ se $\\chi_{teste}^2 > \\chi_{\\alpha}^2$"
   ]
  },
  {
   "cell_type": "code",
   "execution_count": null,
   "metadata": {
    "colab": {
     "base_uri": "https://localhost:8080/",
     "height": 35
    },
    "colab_type": "code",
    "id": "HSOhw7E7psmM",
    "outputId": "1b6ce243-ae51-4497-addd-3e7aae82f4f3"
   },
   "outputs": [],
   "source": [
    "chi_2 > chi_2_alpha"
   ]
  },
  {
   "cell_type": "markdown",
   "metadata": {
    "colab_type": "text",
    "id": "hvHTGAOepsmN"
   },
   "source": [
    "### <font color='green'>Conclusão: Com um nível de confiança de 95% rejeitamos a hipótese nula ($H_0$) e concluímos que as frequências observadas e esperadas são discrepantes, ou seja, a moeda não é honesta e precisa ser substituída.</font>"
   ]
  },
  {
   "cell_type": "markdown",
   "metadata": {
    "colab_type": "text",
    "id": "VcqxUxnopsmN"
   },
   "source": [
    "### <font color='red'>Critério do valor $p$</font>\n",
    "\n",
    "> ### Rejeitar $H_0$ se o valor $p\\leq\\alpha$"
   ]
  },
  {
   "cell_type": "code",
   "execution_count": null,
   "metadata": {
    "colab": {
     "base_uri": "https://localhost:8080/",
     "height": 35
    },
    "colab_type": "code",
    "id": "fP8w-6MZpsmO",
    "outputId": "0cc2f80a-ab46-4485-b7da-f07a9a7085a9"
   },
   "outputs": [],
   "source": [
    "chi_2"
   ]
  },
  {
   "cell_type": "code",
   "execution_count": null,
   "metadata": {
    "colab": {
     "base_uri": "https://localhost:8080/",
     "height": 35
    },
    "colab_type": "code",
    "id": "LWCqrM2rpsmP",
    "outputId": "9a9ff1a3-5553-40de-9863-ef8d68e03fff"
   },
   "outputs": [],
   "source": [
    "raiz_chi_2 = np.sqrt(chi_2)\n",
    "raiz_chi_2"
   ]
  },
  {
   "cell_type": "code",
   "execution_count": null,
   "metadata": {
    "colab": {
     "base_uri": "https://localhost:8080/",
     "height": 35
    },
    "colab_type": "code",
    "id": "uFG6yszWpsmQ",
    "outputId": "c2a489ef-2734-49f1-f96a-3239464d4baf"
   },
   "outputs": [],
   "source": [
    "## df == graus de liberdade\n",
    "\n",
    "p_valor = chi.sf(raiz_chi_2, df = 2)\n",
    "p_valor"
   ]
  },
  {
   "cell_type": "markdown",
   "metadata": {
    "colab_type": "text",
    "id": "WpvavOAVpsmR"
   },
   "source": [
    "https://docs.scipy.org/doc/scipy/reference/generated/scipy.stats.chisquare.html"
   ]
  },
  {
   "cell_type": "code",
   "execution_count": null,
   "metadata": {
    "colab": {},
    "colab_type": "code",
    "id": "Jc1RkAn6psmR"
   },
   "outputs": [],
   "source": [
    "from scipy.stats import chisquare"
   ]
  },
  {
   "cell_type": "code",
   "execution_count": null,
   "metadata": {
    "colab": {
     "base_uri": "https://localhost:8080/",
     "height": 53
    },
    "colab_type": "code",
    "id": "jjiIlObspsmR",
    "outputId": "33e36135-64d4-4615-d273-0ecb4ed993b4"
   },
   "outputs": [],
   "source": [
    "chi_2, p_valor = chisquare(f_obs = F_Observada, f_exp = F_Esperada)\n",
    "print(chi_2, p_valor)"
   ]
  },
  {
   "cell_type": "code",
   "execution_count": null,
   "metadata": {
    "colab": {
     "base_uri": "https://localhost:8080/",
     "height": 35
    },
    "colab_type": "code",
    "id": "reKBubKWpsmT",
    "outputId": "69394a7b-9acb-4ce2-fea4-f51a05c9b39f"
   },
   "outputs": [],
   "source": [
    "p_valor <= significancia"
   ]
  },
  {
   "cell_type": "code",
   "execution_count": null,
   "metadata": {},
   "outputs": [],
   "source": []
  },
  {
   "cell_type": "markdown",
   "metadata": {
    "colab_type": "text",
    "id": "WlHU5fNNpsmU"
   },
   "source": [
    "---"
   ]
  },
  {
   "cell_type": "markdown",
   "metadata": {
    "colab_type": "text",
    "id": "PUXdBJ9FpsmU"
   },
   "source": [
    "## <font color='red'>Problema</font>"
   ]
  },
  {
   "cell_type": "markdown",
   "metadata": {
    "colab_type": "text",
    "id": "DXvJ2JnKpsmU"
   },
   "source": [
    "Um novo tratamento para acabar com o hábito de fumar está sendo empregado em um grupo de **35 pacientes** voluntários. De cada paciente testado foram obtidas as informações de quantidades de cigarros consumidos por dia antes e depois do término do tratamento. Assumindo um **nível de confiança de 95%** é possível concluir que, depois da aplicação do novo tratamento, houve uma mudança no hábito de fumar do grupo de pacientes testado?"
   ]
  },
  {
   "cell_type": "markdown",
   "metadata": {
    "colab_type": "text",
    "id": "BqE_PN7IpsmU"
   },
   "source": [
    "## <font color=green>4.2 Teste Wilcoxon</font>\n",
    "### Comparação de duas populações - amostras dependentes\n",
    "***"
   ]
  },
  {
   "cell_type": "markdown",
   "metadata": {
    "colab_type": "text",
    "id": "1MxFBYB-psmU"
   },
   "source": [
    "Empregado quando se deseja comparar duas amostras relacionadas, amostras emparelhadas. Pode ser aplicado quando se deseja testar a diferença de duas condições, isto é, quando um mesmo elemento é submetido a duas medidas."
   ]
  },
  {
   "cell_type": "markdown",
   "metadata": {
    "colab_type": "text",
    "id": "3H67Y7P7psmV"
   },
   "source": [
    "### Dados do problema"
   ]
  },
  {
   "cell_type": "code",
   "execution_count": 48,
   "metadata": {
    "colab": {},
    "colab_type": "code",
    "id": "JBh5-HrnpsmV"
   },
   "outputs": [],
   "source": [
    "fumo = {\n",
    "    'Antes': [39, 25, 24, 50, 13, 52, 21, 29, 10, 22, 50, 15, 36, 39, 52, 48, 24, 15, 40, 41, 17, 12, 21, 49, 14, 55, 46, 22, 28, 23, 37, 17, 31, 49, 49],\n",
    "    'Depois': [16, 8, 12, 0, 14, 16, 13, 12, 19, 17, 17, 2, 15, 10, 20, 13, 0, 4, 16, 18, 16, 16, 9, 9, 18, 4, 17, 0, 11, 14, 0, 19, 2, 9, 6]\n",
    "}\n",
    "significancia = 0.05\n",
    "confianca = 1 - significancia\n",
    "n = 35"
   ]
  },
  {
   "cell_type": "code",
   "execution_count": 49,
   "metadata": {
    "colab": {
     "base_uri": "https://localhost:8080/",
     "height": 204
    },
    "colab_type": "code",
    "id": "AfEGWBp1psmW",
    "outputId": "b68e51d1-b307-432f-8658-4642285f3725",
    "scrolled": true
   },
   "outputs": [],
   "source": [
    "fumo = pd.DataFrame(fumo)\n",
    "confianca = 1 - significancia\n",
    "n = 35"
   ]
  },
  {
   "cell_type": "code",
   "execution_count": 50,
   "metadata": {
    "colab": {
     "base_uri": "https://localhost:8080/",
     "height": 35
    },
    "colab_type": "code",
    "id": "oNQvLLR8psmX",
    "outputId": "434a1498-67cb-47fd-b87a-f68bd05a923d",
    "scrolled": true
   },
   "outputs": [
    {
     "data": {
      "text/plain": [
       "31.857142857142858"
      ]
     },
     "execution_count": 50,
     "metadata": {},
     "output_type": "execute_result"
    }
   ],
   "source": [
    "media_antes = fumo.Antes.mean()\n",
    "media_antes"
   ]
  },
  {
   "cell_type": "code",
   "execution_count": 51,
   "metadata": {
    "colab": {
     "base_uri": "https://localhost:8080/",
     "height": 35
    },
    "colab_type": "code",
    "id": "wOgIYP0upsmZ",
    "outputId": "926b067c-2ea2-407b-edba-c57075fa5c94"
   },
   "outputs": [
    {
     "data": {
      "text/plain": [
       "11.2"
      ]
     },
     "execution_count": 51,
     "metadata": {},
     "output_type": "execute_result"
    }
   ],
   "source": [
    "media_depois = fumo.Depois.mean()\n",
    "media_depois"
   ]
  },
  {
   "cell_type": "markdown",
   "metadata": {
    "colab_type": "text",
    "id": "gvnOmelVpsma"
   },
   "source": [
    "### **Passo 1** - formulação das hipóteses $H_0$ e $H_1$\n",
    "\n",
    "#### <font color='red'>Lembre-se, a hipótese nula sempre contém a alegação de igualdade</font>"
   ]
  },
  {
   "cell_type": "markdown",
   "metadata": {
    "colab_type": "text",
    "id": "1AXOiD_epsma"
   },
   "source": [
    "### $H_0: \\mu_{antes} = \\mu_{depois}$\n",
    "\n",
    "### $H_1: \\mu_{antes} > \\mu_{depois}$"
   ]
  },
  {
   "cell_type": "markdown",
   "metadata": {
    "colab_type": "text",
    "id": "degUD6b2psmb"
   },
   "source": [
    "---"
   ]
  },
  {
   "cell_type": "markdown",
   "metadata": {
    "colab_type": "text",
    "id": "3jrV_c2Opsmb"
   },
   "source": [
    "### **Passo 2** - escolha da distribuição amostral adequada"
   ]
  },
  {
   "cell_type": "markdown",
   "metadata": {
    "colab_type": "text",
    "id": "vF-9xAPzpsmc"
   },
   "source": [
    "### O tamanho da amostra é maior que 20?\n",
    "#### Resp.: Sim"
   ]
  },
  {
   "cell_type": "markdown",
   "metadata": {
    "colab_type": "text",
    "id": "tvxXutrGpsmc"
   },
   "source": [
    "---"
   ]
  },
  {
   "cell_type": "markdown",
   "metadata": {
    "colab_type": "text",
    "id": "aihd76Wkpsmc"
   },
   "source": [
    "### **Passo 3** - fixação da significância do teste ($\\alpha$)"
   ]
  },
  {
   "cell_type": "markdown",
   "metadata": {
    "colab_type": "text",
    "id": "XF6AA8qLpsmc"
   },
   "source": [
    "### Obtendo $z_{\\alpha/2}$"
   ]
  },
  {
   "cell_type": "code",
   "execution_count": 52,
   "metadata": {
    "colab": {
     "base_uri": "https://localhost:8080/",
     "height": 35
    },
    "colab_type": "code",
    "id": "UsRrnCnXpsmd",
    "outputId": "969dfd46-755b-496b-b84a-1d3e9d565ed2"
   },
   "outputs": [
    {
     "data": {
      "text/plain": [
       "0.975"
      ]
     },
     "execution_count": 52,
     "metadata": {},
     "output_type": "execute_result"
    }
   ],
   "source": [
    "probabilidade = (0.5 + (confianca / 2))\n",
    "probabilidade"
   ]
  },
  {
   "cell_type": "code",
   "execution_count": 53,
   "metadata": {
    "colab": {
     "base_uri": "https://localhost:8080/",
     "height": 35
    },
    "colab_type": "code",
    "id": "PTmwCAq9psme",
    "outputId": "a7cf10d8-f3c7-40cf-c2f4-9fef0ac65f26"
   },
   "outputs": [
    {
     "data": {
      "text/plain": [
       "1.96"
      ]
     },
     "execution_count": 53,
     "metadata": {},
     "output_type": "execute_result"
    }
   ],
   "source": [
    "z_alpha_2 = norm.ppf(probabilidade)\n",
    "z_alpha_2.round(2)"
   ]
  },
  {
   "cell_type": "markdown",
   "metadata": {
    "colab_type": "text",
    "id": "S2dqQHQJpsmf"
   },
   "source": [
    "![Região de Aceitação](https://caelum-online-public.s3.amazonaws.com/1229-estatistica-parte3/01/img006.png)"
   ]
  },
  {
   "cell_type": "markdown",
   "metadata": {
    "colab_type": "text",
    "id": "z0iEZ685psmf"
   },
   "source": [
    "---"
   ]
  },
  {
   "cell_type": "markdown",
   "metadata": {
    "colab_type": "text",
    "id": "zpYLf-dZpsmg"
   },
   "source": [
    "### **Passo 4** - cálculo da estatística-teste e verificação desse valor com as áreas de aceitação e rejeição do teste\n",
    "\n",
    "# $$Z = \\frac{T - \\mu_T}{\\sigma_T}$$\n",
    "\n",
    "Onde\n",
    "\n",
    "## $T$ = menor das somas de postos de mesmo sinal\n",
    "\n",
    "# $$\\mu_T = \\frac{n(n+1)}{4}$$\n",
    "# $$\\sigma_T = \\sqrt{\\frac{n(n + 1)(2n + 1)}{24}}$$"
   ]
  },
  {
   "cell_type": "markdown",
   "metadata": {
    "colab_type": "text",
    "id": "ZTY9IuIIpsmg"
   },
   "source": [
    "### Construindo a tabela com os postos"
   ]
  },
  {
   "cell_type": "code",
   "execution_count": 54,
   "metadata": {
    "colab": {
     "base_uri": "https://localhost:8080/",
     "height": 1134
    },
    "colab_type": "code",
    "id": "o0fp6m3iqIlu",
    "outputId": "af1f1a0d-c2e7-478c-b637-71a520cc9a2c"
   },
   "outputs": [
    {
     "data": {
      "text/html": [
       "<div>\n",
       "<style scoped>\n",
       "    .dataframe tbody tr th:only-of-type {\n",
       "        vertical-align: middle;\n",
       "    }\n",
       "\n",
       "    .dataframe tbody tr th {\n",
       "        vertical-align: top;\n",
       "    }\n",
       "\n",
       "    .dataframe thead th {\n",
       "        text-align: right;\n",
       "    }\n",
       "</style>\n",
       "<table border=\"1\" class=\"dataframe\">\n",
       "  <thead>\n",
       "    <tr style=\"text-align: right;\">\n",
       "      <th></th>\n",
       "      <th>Antes</th>\n",
       "      <th>Depois</th>\n",
       "    </tr>\n",
       "  </thead>\n",
       "  <tbody>\n",
       "    <tr>\n",
       "      <th>0</th>\n",
       "      <td>39</td>\n",
       "      <td>16</td>\n",
       "    </tr>\n",
       "    <tr>\n",
       "      <th>1</th>\n",
       "      <td>25</td>\n",
       "      <td>8</td>\n",
       "    </tr>\n",
       "    <tr>\n",
       "      <th>2</th>\n",
       "      <td>24</td>\n",
       "      <td>12</td>\n",
       "    </tr>\n",
       "    <tr>\n",
       "      <th>3</th>\n",
       "      <td>50</td>\n",
       "      <td>0</td>\n",
       "    </tr>\n",
       "    <tr>\n",
       "      <th>4</th>\n",
       "      <td>13</td>\n",
       "      <td>14</td>\n",
       "    </tr>\n",
       "    <tr>\n",
       "      <th>5</th>\n",
       "      <td>52</td>\n",
       "      <td>16</td>\n",
       "    </tr>\n",
       "    <tr>\n",
       "      <th>6</th>\n",
       "      <td>21</td>\n",
       "      <td>13</td>\n",
       "    </tr>\n",
       "    <tr>\n",
       "      <th>7</th>\n",
       "      <td>29</td>\n",
       "      <td>12</td>\n",
       "    </tr>\n",
       "    <tr>\n",
       "      <th>8</th>\n",
       "      <td>10</td>\n",
       "      <td>19</td>\n",
       "    </tr>\n",
       "    <tr>\n",
       "      <th>9</th>\n",
       "      <td>22</td>\n",
       "      <td>17</td>\n",
       "    </tr>\n",
       "    <tr>\n",
       "      <th>10</th>\n",
       "      <td>50</td>\n",
       "      <td>17</td>\n",
       "    </tr>\n",
       "    <tr>\n",
       "      <th>11</th>\n",
       "      <td>15</td>\n",
       "      <td>2</td>\n",
       "    </tr>\n",
       "    <tr>\n",
       "      <th>12</th>\n",
       "      <td>36</td>\n",
       "      <td>15</td>\n",
       "    </tr>\n",
       "    <tr>\n",
       "      <th>13</th>\n",
       "      <td>39</td>\n",
       "      <td>10</td>\n",
       "    </tr>\n",
       "    <tr>\n",
       "      <th>14</th>\n",
       "      <td>52</td>\n",
       "      <td>20</td>\n",
       "    </tr>\n",
       "    <tr>\n",
       "      <th>15</th>\n",
       "      <td>48</td>\n",
       "      <td>13</td>\n",
       "    </tr>\n",
       "    <tr>\n",
       "      <th>16</th>\n",
       "      <td>24</td>\n",
       "      <td>0</td>\n",
       "    </tr>\n",
       "    <tr>\n",
       "      <th>17</th>\n",
       "      <td>15</td>\n",
       "      <td>4</td>\n",
       "    </tr>\n",
       "    <tr>\n",
       "      <th>18</th>\n",
       "      <td>40</td>\n",
       "      <td>16</td>\n",
       "    </tr>\n",
       "    <tr>\n",
       "      <th>19</th>\n",
       "      <td>41</td>\n",
       "      <td>18</td>\n",
       "    </tr>\n",
       "    <tr>\n",
       "      <th>20</th>\n",
       "      <td>17</td>\n",
       "      <td>16</td>\n",
       "    </tr>\n",
       "    <tr>\n",
       "      <th>21</th>\n",
       "      <td>12</td>\n",
       "      <td>16</td>\n",
       "    </tr>\n",
       "    <tr>\n",
       "      <th>22</th>\n",
       "      <td>21</td>\n",
       "      <td>9</td>\n",
       "    </tr>\n",
       "    <tr>\n",
       "      <th>23</th>\n",
       "      <td>49</td>\n",
       "      <td>9</td>\n",
       "    </tr>\n",
       "    <tr>\n",
       "      <th>24</th>\n",
       "      <td>14</td>\n",
       "      <td>18</td>\n",
       "    </tr>\n",
       "    <tr>\n",
       "      <th>25</th>\n",
       "      <td>55</td>\n",
       "      <td>4</td>\n",
       "    </tr>\n",
       "    <tr>\n",
       "      <th>26</th>\n",
       "      <td>46</td>\n",
       "      <td>17</td>\n",
       "    </tr>\n",
       "    <tr>\n",
       "      <th>27</th>\n",
       "      <td>22</td>\n",
       "      <td>0</td>\n",
       "    </tr>\n",
       "    <tr>\n",
       "      <th>28</th>\n",
       "      <td>28</td>\n",
       "      <td>11</td>\n",
       "    </tr>\n",
       "    <tr>\n",
       "      <th>29</th>\n",
       "      <td>23</td>\n",
       "      <td>14</td>\n",
       "    </tr>\n",
       "    <tr>\n",
       "      <th>30</th>\n",
       "      <td>37</td>\n",
       "      <td>0</td>\n",
       "    </tr>\n",
       "    <tr>\n",
       "      <th>31</th>\n",
       "      <td>17</td>\n",
       "      <td>19</td>\n",
       "    </tr>\n",
       "    <tr>\n",
       "      <th>32</th>\n",
       "      <td>31</td>\n",
       "      <td>2</td>\n",
       "    </tr>\n",
       "    <tr>\n",
       "      <th>33</th>\n",
       "      <td>49</td>\n",
       "      <td>9</td>\n",
       "    </tr>\n",
       "    <tr>\n",
       "      <th>34</th>\n",
       "      <td>49</td>\n",
       "      <td>6</td>\n",
       "    </tr>\n",
       "  </tbody>\n",
       "</table>\n",
       "</div>"
      ],
      "text/plain": [
       "    Antes  Depois\n",
       "0      39      16\n",
       "1      25       8\n",
       "2      24      12\n",
       "3      50       0\n",
       "4      13      14\n",
       "5      52      16\n",
       "6      21      13\n",
       "7      29      12\n",
       "8      10      19\n",
       "9      22      17\n",
       "10     50      17\n",
       "11     15       2\n",
       "12     36      15\n",
       "13     39      10\n",
       "14     52      20\n",
       "15     48      13\n",
       "16     24       0\n",
       "17     15       4\n",
       "18     40      16\n",
       "19     41      18\n",
       "20     17      16\n",
       "21     12      16\n",
       "22     21       9\n",
       "23     49       9\n",
       "24     14      18\n",
       "25     55       4\n",
       "26     46      17\n",
       "27     22       0\n",
       "28     28      11\n",
       "29     23      14\n",
       "30     37       0\n",
       "31     17      19\n",
       "32     31       2\n",
       "33     49       9\n",
       "34     49       6"
      ]
     },
     "execution_count": 54,
     "metadata": {},
     "output_type": "execute_result"
    }
   ],
   "source": [
    "fumo"
   ]
  },
  {
   "cell_type": "code",
   "execution_count": 55,
   "metadata": {
    "colab": {
     "base_uri": "https://localhost:8080/",
     "height": 1134
    },
    "colab_type": "code",
    "id": "T4KmZijZotWj",
    "outputId": "97779ef9-8387-43d3-c41a-76b01cc7d52c"
   },
   "outputs": [
    {
     "data": {
      "text/html": [
       "<div>\n",
       "<style scoped>\n",
       "    .dataframe tbody tr th:only-of-type {\n",
       "        vertical-align: middle;\n",
       "    }\n",
       "\n",
       "    .dataframe tbody tr th {\n",
       "        vertical-align: top;\n",
       "    }\n",
       "\n",
       "    .dataframe thead th {\n",
       "        text-align: right;\n",
       "    }\n",
       "</style>\n",
       "<table border=\"1\" class=\"dataframe\">\n",
       "  <thead>\n",
       "    <tr style=\"text-align: right;\">\n",
       "      <th></th>\n",
       "      <th>Antes</th>\n",
       "      <th>Depois</th>\n",
       "      <th>Dif</th>\n",
       "    </tr>\n",
       "  </thead>\n",
       "  <tbody>\n",
       "    <tr>\n",
       "      <th>0</th>\n",
       "      <td>39</td>\n",
       "      <td>16</td>\n",
       "      <td>-23</td>\n",
       "    </tr>\n",
       "    <tr>\n",
       "      <th>1</th>\n",
       "      <td>25</td>\n",
       "      <td>8</td>\n",
       "      <td>-17</td>\n",
       "    </tr>\n",
       "    <tr>\n",
       "      <th>2</th>\n",
       "      <td>24</td>\n",
       "      <td>12</td>\n",
       "      <td>-12</td>\n",
       "    </tr>\n",
       "    <tr>\n",
       "      <th>3</th>\n",
       "      <td>50</td>\n",
       "      <td>0</td>\n",
       "      <td>-50</td>\n",
       "    </tr>\n",
       "    <tr>\n",
       "      <th>4</th>\n",
       "      <td>13</td>\n",
       "      <td>14</td>\n",
       "      <td>1</td>\n",
       "    </tr>\n",
       "    <tr>\n",
       "      <th>5</th>\n",
       "      <td>52</td>\n",
       "      <td>16</td>\n",
       "      <td>-36</td>\n",
       "    </tr>\n",
       "    <tr>\n",
       "      <th>6</th>\n",
       "      <td>21</td>\n",
       "      <td>13</td>\n",
       "      <td>-8</td>\n",
       "    </tr>\n",
       "    <tr>\n",
       "      <th>7</th>\n",
       "      <td>29</td>\n",
       "      <td>12</td>\n",
       "      <td>-17</td>\n",
       "    </tr>\n",
       "    <tr>\n",
       "      <th>8</th>\n",
       "      <td>10</td>\n",
       "      <td>19</td>\n",
       "      <td>9</td>\n",
       "    </tr>\n",
       "    <tr>\n",
       "      <th>9</th>\n",
       "      <td>22</td>\n",
       "      <td>17</td>\n",
       "      <td>-5</td>\n",
       "    </tr>\n",
       "    <tr>\n",
       "      <th>10</th>\n",
       "      <td>50</td>\n",
       "      <td>17</td>\n",
       "      <td>-33</td>\n",
       "    </tr>\n",
       "    <tr>\n",
       "      <th>11</th>\n",
       "      <td>15</td>\n",
       "      <td>2</td>\n",
       "      <td>-13</td>\n",
       "    </tr>\n",
       "    <tr>\n",
       "      <th>12</th>\n",
       "      <td>36</td>\n",
       "      <td>15</td>\n",
       "      <td>-21</td>\n",
       "    </tr>\n",
       "    <tr>\n",
       "      <th>13</th>\n",
       "      <td>39</td>\n",
       "      <td>10</td>\n",
       "      <td>-29</td>\n",
       "    </tr>\n",
       "    <tr>\n",
       "      <th>14</th>\n",
       "      <td>52</td>\n",
       "      <td>20</td>\n",
       "      <td>-32</td>\n",
       "    </tr>\n",
       "    <tr>\n",
       "      <th>15</th>\n",
       "      <td>48</td>\n",
       "      <td>13</td>\n",
       "      <td>-35</td>\n",
       "    </tr>\n",
       "    <tr>\n",
       "      <th>16</th>\n",
       "      <td>24</td>\n",
       "      <td>0</td>\n",
       "      <td>-24</td>\n",
       "    </tr>\n",
       "    <tr>\n",
       "      <th>17</th>\n",
       "      <td>15</td>\n",
       "      <td>4</td>\n",
       "      <td>-11</td>\n",
       "    </tr>\n",
       "    <tr>\n",
       "      <th>18</th>\n",
       "      <td>40</td>\n",
       "      <td>16</td>\n",
       "      <td>-24</td>\n",
       "    </tr>\n",
       "    <tr>\n",
       "      <th>19</th>\n",
       "      <td>41</td>\n",
       "      <td>18</td>\n",
       "      <td>-23</td>\n",
       "    </tr>\n",
       "    <tr>\n",
       "      <th>20</th>\n",
       "      <td>17</td>\n",
       "      <td>16</td>\n",
       "      <td>-1</td>\n",
       "    </tr>\n",
       "    <tr>\n",
       "      <th>21</th>\n",
       "      <td>12</td>\n",
       "      <td>16</td>\n",
       "      <td>4</td>\n",
       "    </tr>\n",
       "    <tr>\n",
       "      <th>22</th>\n",
       "      <td>21</td>\n",
       "      <td>9</td>\n",
       "      <td>-12</td>\n",
       "    </tr>\n",
       "    <tr>\n",
       "      <th>23</th>\n",
       "      <td>49</td>\n",
       "      <td>9</td>\n",
       "      <td>-40</td>\n",
       "    </tr>\n",
       "    <tr>\n",
       "      <th>24</th>\n",
       "      <td>14</td>\n",
       "      <td>18</td>\n",
       "      <td>4</td>\n",
       "    </tr>\n",
       "    <tr>\n",
       "      <th>25</th>\n",
       "      <td>55</td>\n",
       "      <td>4</td>\n",
       "      <td>-51</td>\n",
       "    </tr>\n",
       "    <tr>\n",
       "      <th>26</th>\n",
       "      <td>46</td>\n",
       "      <td>17</td>\n",
       "      <td>-29</td>\n",
       "    </tr>\n",
       "    <tr>\n",
       "      <th>27</th>\n",
       "      <td>22</td>\n",
       "      <td>0</td>\n",
       "      <td>-22</td>\n",
       "    </tr>\n",
       "    <tr>\n",
       "      <th>28</th>\n",
       "      <td>28</td>\n",
       "      <td>11</td>\n",
       "      <td>-17</td>\n",
       "    </tr>\n",
       "    <tr>\n",
       "      <th>29</th>\n",
       "      <td>23</td>\n",
       "      <td>14</td>\n",
       "      <td>-9</td>\n",
       "    </tr>\n",
       "    <tr>\n",
       "      <th>30</th>\n",
       "      <td>37</td>\n",
       "      <td>0</td>\n",
       "      <td>-37</td>\n",
       "    </tr>\n",
       "    <tr>\n",
       "      <th>31</th>\n",
       "      <td>17</td>\n",
       "      <td>19</td>\n",
       "      <td>2</td>\n",
       "    </tr>\n",
       "    <tr>\n",
       "      <th>32</th>\n",
       "      <td>31</td>\n",
       "      <td>2</td>\n",
       "      <td>-29</td>\n",
       "    </tr>\n",
       "    <tr>\n",
       "      <th>33</th>\n",
       "      <td>49</td>\n",
       "      <td>9</td>\n",
       "      <td>-40</td>\n",
       "    </tr>\n",
       "    <tr>\n",
       "      <th>34</th>\n",
       "      <td>49</td>\n",
       "      <td>6</td>\n",
       "      <td>-43</td>\n",
       "    </tr>\n",
       "  </tbody>\n",
       "</table>\n",
       "</div>"
      ],
      "text/plain": [
       "    Antes  Depois  Dif\n",
       "0      39      16  -23\n",
       "1      25       8  -17\n",
       "2      24      12  -12\n",
       "3      50       0  -50\n",
       "4      13      14    1\n",
       "5      52      16  -36\n",
       "6      21      13   -8\n",
       "7      29      12  -17\n",
       "8      10      19    9\n",
       "9      22      17   -5\n",
       "10     50      17  -33\n",
       "11     15       2  -13\n",
       "12     36      15  -21\n",
       "13     39      10  -29\n",
       "14     52      20  -32\n",
       "15     48      13  -35\n",
       "16     24       0  -24\n",
       "17     15       4  -11\n",
       "18     40      16  -24\n",
       "19     41      18  -23\n",
       "20     17      16   -1\n",
       "21     12      16    4\n",
       "22     21       9  -12\n",
       "23     49       9  -40\n",
       "24     14      18    4\n",
       "25     55       4  -51\n",
       "26     46      17  -29\n",
       "27     22       0  -22\n",
       "28     28      11  -17\n",
       "29     23      14   -9\n",
       "30     37       0  -37\n",
       "31     17      19    2\n",
       "32     31       2  -29\n",
       "33     49       9  -40\n",
       "34     49       6  -43"
      ]
     },
     "execution_count": 55,
     "metadata": {},
     "output_type": "execute_result"
    }
   ],
   "source": [
    "fumo['Dif'] = fumo.Depois - fumo.Antes\n",
    "fumo"
   ]
  },
  {
   "cell_type": "code",
   "execution_count": 56,
   "metadata": {
    "colab": {
     "base_uri": "https://localhost:8080/",
     "height": 1134
    },
    "colab_type": "code",
    "id": "c4fvYVrdotTL",
    "outputId": "a0da369c-d29f-40c1-e8e6-ff715c14e3e3"
   },
   "outputs": [
    {
     "data": {
      "text/html": [
       "<div>\n",
       "<style scoped>\n",
       "    .dataframe tbody tr th:only-of-type {\n",
       "        vertical-align: middle;\n",
       "    }\n",
       "\n",
       "    .dataframe tbody tr th {\n",
       "        vertical-align: top;\n",
       "    }\n",
       "\n",
       "    .dataframe thead th {\n",
       "        text-align: right;\n",
       "    }\n",
       "</style>\n",
       "<table border=\"1\" class=\"dataframe\">\n",
       "  <thead>\n",
       "    <tr style=\"text-align: right;\">\n",
       "      <th></th>\n",
       "      <th>Antes</th>\n",
       "      <th>Depois</th>\n",
       "      <th>Dif</th>\n",
       "      <th>|dif|</th>\n",
       "    </tr>\n",
       "  </thead>\n",
       "  <tbody>\n",
       "    <tr>\n",
       "      <th>0</th>\n",
       "      <td>39</td>\n",
       "      <td>16</td>\n",
       "      <td>-23</td>\n",
       "      <td>23</td>\n",
       "    </tr>\n",
       "    <tr>\n",
       "      <th>1</th>\n",
       "      <td>25</td>\n",
       "      <td>8</td>\n",
       "      <td>-17</td>\n",
       "      <td>17</td>\n",
       "    </tr>\n",
       "    <tr>\n",
       "      <th>2</th>\n",
       "      <td>24</td>\n",
       "      <td>12</td>\n",
       "      <td>-12</td>\n",
       "      <td>12</td>\n",
       "    </tr>\n",
       "    <tr>\n",
       "      <th>3</th>\n",
       "      <td>50</td>\n",
       "      <td>0</td>\n",
       "      <td>-50</td>\n",
       "      <td>50</td>\n",
       "    </tr>\n",
       "    <tr>\n",
       "      <th>4</th>\n",
       "      <td>13</td>\n",
       "      <td>14</td>\n",
       "      <td>1</td>\n",
       "      <td>1</td>\n",
       "    </tr>\n",
       "    <tr>\n",
       "      <th>5</th>\n",
       "      <td>52</td>\n",
       "      <td>16</td>\n",
       "      <td>-36</td>\n",
       "      <td>36</td>\n",
       "    </tr>\n",
       "    <tr>\n",
       "      <th>6</th>\n",
       "      <td>21</td>\n",
       "      <td>13</td>\n",
       "      <td>-8</td>\n",
       "      <td>8</td>\n",
       "    </tr>\n",
       "    <tr>\n",
       "      <th>7</th>\n",
       "      <td>29</td>\n",
       "      <td>12</td>\n",
       "      <td>-17</td>\n",
       "      <td>17</td>\n",
       "    </tr>\n",
       "    <tr>\n",
       "      <th>8</th>\n",
       "      <td>10</td>\n",
       "      <td>19</td>\n",
       "      <td>9</td>\n",
       "      <td>9</td>\n",
       "    </tr>\n",
       "    <tr>\n",
       "      <th>9</th>\n",
       "      <td>22</td>\n",
       "      <td>17</td>\n",
       "      <td>-5</td>\n",
       "      <td>5</td>\n",
       "    </tr>\n",
       "    <tr>\n",
       "      <th>10</th>\n",
       "      <td>50</td>\n",
       "      <td>17</td>\n",
       "      <td>-33</td>\n",
       "      <td>33</td>\n",
       "    </tr>\n",
       "    <tr>\n",
       "      <th>11</th>\n",
       "      <td>15</td>\n",
       "      <td>2</td>\n",
       "      <td>-13</td>\n",
       "      <td>13</td>\n",
       "    </tr>\n",
       "    <tr>\n",
       "      <th>12</th>\n",
       "      <td>36</td>\n",
       "      <td>15</td>\n",
       "      <td>-21</td>\n",
       "      <td>21</td>\n",
       "    </tr>\n",
       "    <tr>\n",
       "      <th>13</th>\n",
       "      <td>39</td>\n",
       "      <td>10</td>\n",
       "      <td>-29</td>\n",
       "      <td>29</td>\n",
       "    </tr>\n",
       "    <tr>\n",
       "      <th>14</th>\n",
       "      <td>52</td>\n",
       "      <td>20</td>\n",
       "      <td>-32</td>\n",
       "      <td>32</td>\n",
       "    </tr>\n",
       "    <tr>\n",
       "      <th>15</th>\n",
       "      <td>48</td>\n",
       "      <td>13</td>\n",
       "      <td>-35</td>\n",
       "      <td>35</td>\n",
       "    </tr>\n",
       "    <tr>\n",
       "      <th>16</th>\n",
       "      <td>24</td>\n",
       "      <td>0</td>\n",
       "      <td>-24</td>\n",
       "      <td>24</td>\n",
       "    </tr>\n",
       "    <tr>\n",
       "      <th>17</th>\n",
       "      <td>15</td>\n",
       "      <td>4</td>\n",
       "      <td>-11</td>\n",
       "      <td>11</td>\n",
       "    </tr>\n",
       "    <tr>\n",
       "      <th>18</th>\n",
       "      <td>40</td>\n",
       "      <td>16</td>\n",
       "      <td>-24</td>\n",
       "      <td>24</td>\n",
       "    </tr>\n",
       "    <tr>\n",
       "      <th>19</th>\n",
       "      <td>41</td>\n",
       "      <td>18</td>\n",
       "      <td>-23</td>\n",
       "      <td>23</td>\n",
       "    </tr>\n",
       "    <tr>\n",
       "      <th>20</th>\n",
       "      <td>17</td>\n",
       "      <td>16</td>\n",
       "      <td>-1</td>\n",
       "      <td>1</td>\n",
       "    </tr>\n",
       "    <tr>\n",
       "      <th>21</th>\n",
       "      <td>12</td>\n",
       "      <td>16</td>\n",
       "      <td>4</td>\n",
       "      <td>4</td>\n",
       "    </tr>\n",
       "    <tr>\n",
       "      <th>22</th>\n",
       "      <td>21</td>\n",
       "      <td>9</td>\n",
       "      <td>-12</td>\n",
       "      <td>12</td>\n",
       "    </tr>\n",
       "    <tr>\n",
       "      <th>23</th>\n",
       "      <td>49</td>\n",
       "      <td>9</td>\n",
       "      <td>-40</td>\n",
       "      <td>40</td>\n",
       "    </tr>\n",
       "    <tr>\n",
       "      <th>24</th>\n",
       "      <td>14</td>\n",
       "      <td>18</td>\n",
       "      <td>4</td>\n",
       "      <td>4</td>\n",
       "    </tr>\n",
       "    <tr>\n",
       "      <th>25</th>\n",
       "      <td>55</td>\n",
       "      <td>4</td>\n",
       "      <td>-51</td>\n",
       "      <td>51</td>\n",
       "    </tr>\n",
       "    <tr>\n",
       "      <th>26</th>\n",
       "      <td>46</td>\n",
       "      <td>17</td>\n",
       "      <td>-29</td>\n",
       "      <td>29</td>\n",
       "    </tr>\n",
       "    <tr>\n",
       "      <th>27</th>\n",
       "      <td>22</td>\n",
       "      <td>0</td>\n",
       "      <td>-22</td>\n",
       "      <td>22</td>\n",
       "    </tr>\n",
       "    <tr>\n",
       "      <th>28</th>\n",
       "      <td>28</td>\n",
       "      <td>11</td>\n",
       "      <td>-17</td>\n",
       "      <td>17</td>\n",
       "    </tr>\n",
       "    <tr>\n",
       "      <th>29</th>\n",
       "      <td>23</td>\n",
       "      <td>14</td>\n",
       "      <td>-9</td>\n",
       "      <td>9</td>\n",
       "    </tr>\n",
       "    <tr>\n",
       "      <th>30</th>\n",
       "      <td>37</td>\n",
       "      <td>0</td>\n",
       "      <td>-37</td>\n",
       "      <td>37</td>\n",
       "    </tr>\n",
       "    <tr>\n",
       "      <th>31</th>\n",
       "      <td>17</td>\n",
       "      <td>19</td>\n",
       "      <td>2</td>\n",
       "      <td>2</td>\n",
       "    </tr>\n",
       "    <tr>\n",
       "      <th>32</th>\n",
       "      <td>31</td>\n",
       "      <td>2</td>\n",
       "      <td>-29</td>\n",
       "      <td>29</td>\n",
       "    </tr>\n",
       "    <tr>\n",
       "      <th>33</th>\n",
       "      <td>49</td>\n",
       "      <td>9</td>\n",
       "      <td>-40</td>\n",
       "      <td>40</td>\n",
       "    </tr>\n",
       "    <tr>\n",
       "      <th>34</th>\n",
       "      <td>49</td>\n",
       "      <td>6</td>\n",
       "      <td>-43</td>\n",
       "      <td>43</td>\n",
       "    </tr>\n",
       "  </tbody>\n",
       "</table>\n",
       "</div>"
      ],
      "text/plain": [
       "    Antes  Depois  Dif  |dif|\n",
       "0      39      16  -23     23\n",
       "1      25       8  -17     17\n",
       "2      24      12  -12     12\n",
       "3      50       0  -50     50\n",
       "4      13      14    1      1\n",
       "5      52      16  -36     36\n",
       "6      21      13   -8      8\n",
       "7      29      12  -17     17\n",
       "8      10      19    9      9\n",
       "9      22      17   -5      5\n",
       "10     50      17  -33     33\n",
       "11     15       2  -13     13\n",
       "12     36      15  -21     21\n",
       "13     39      10  -29     29\n",
       "14     52      20  -32     32\n",
       "15     48      13  -35     35\n",
       "16     24       0  -24     24\n",
       "17     15       4  -11     11\n",
       "18     40      16  -24     24\n",
       "19     41      18  -23     23\n",
       "20     17      16   -1      1\n",
       "21     12      16    4      4\n",
       "22     21       9  -12     12\n",
       "23     49       9  -40     40\n",
       "24     14      18    4      4\n",
       "25     55       4  -51     51\n",
       "26     46      17  -29     29\n",
       "27     22       0  -22     22\n",
       "28     28      11  -17     17\n",
       "29     23      14   -9      9\n",
       "30     37       0  -37     37\n",
       "31     17      19    2      2\n",
       "32     31       2  -29     29\n",
       "33     49       9  -40     40\n",
       "34     49       6  -43     43"
      ]
     },
     "execution_count": 56,
     "metadata": {},
     "output_type": "execute_result"
    }
   ],
   "source": [
    "## Ignorar as diferencas\n",
    "\n",
    "fumo['|dif|'] = fumo.Dif.abs()\n",
    "fumo"
   ]
  },
  {
   "cell_type": "code",
   "execution_count": 58,
   "metadata": {
    "colab": {
     "base_uri": "https://localhost:8080/",
     "height": 1134
    },
    "colab_type": "code",
    "id": "hwqK3Uu7otP7",
    "outputId": "dd57a7c5-e2f2-45af-fea1-8c9e765123ec"
   },
   "outputs": [
    {
     "data": {
      "text/html": [
       "<div>\n",
       "<style scoped>\n",
       "    .dataframe tbody tr th:only-of-type {\n",
       "        vertical-align: middle;\n",
       "    }\n",
       "\n",
       "    .dataframe tbody tr th {\n",
       "        vertical-align: top;\n",
       "    }\n",
       "\n",
       "    .dataframe thead th {\n",
       "        text-align: right;\n",
       "    }\n",
       "</style>\n",
       "<table border=\"1\" class=\"dataframe\">\n",
       "  <thead>\n",
       "    <tr style=\"text-align: right;\">\n",
       "      <th></th>\n",
       "      <th>Antes</th>\n",
       "      <th>Depois</th>\n",
       "      <th>Dif</th>\n",
       "      <th>|dif|</th>\n",
       "    </tr>\n",
       "  </thead>\n",
       "  <tbody>\n",
       "    <tr>\n",
       "      <th>4</th>\n",
       "      <td>13</td>\n",
       "      <td>14</td>\n",
       "      <td>1</td>\n",
       "      <td>1</td>\n",
       "    </tr>\n",
       "    <tr>\n",
       "      <th>20</th>\n",
       "      <td>17</td>\n",
       "      <td>16</td>\n",
       "      <td>-1</td>\n",
       "      <td>1</td>\n",
       "    </tr>\n",
       "    <tr>\n",
       "      <th>31</th>\n",
       "      <td>17</td>\n",
       "      <td>19</td>\n",
       "      <td>2</td>\n",
       "      <td>2</td>\n",
       "    </tr>\n",
       "    <tr>\n",
       "      <th>21</th>\n",
       "      <td>12</td>\n",
       "      <td>16</td>\n",
       "      <td>4</td>\n",
       "      <td>4</td>\n",
       "    </tr>\n",
       "    <tr>\n",
       "      <th>24</th>\n",
       "      <td>14</td>\n",
       "      <td>18</td>\n",
       "      <td>4</td>\n",
       "      <td>4</td>\n",
       "    </tr>\n",
       "    <tr>\n",
       "      <th>9</th>\n",
       "      <td>22</td>\n",
       "      <td>17</td>\n",
       "      <td>-5</td>\n",
       "      <td>5</td>\n",
       "    </tr>\n",
       "    <tr>\n",
       "      <th>6</th>\n",
       "      <td>21</td>\n",
       "      <td>13</td>\n",
       "      <td>-8</td>\n",
       "      <td>8</td>\n",
       "    </tr>\n",
       "    <tr>\n",
       "      <th>29</th>\n",
       "      <td>23</td>\n",
       "      <td>14</td>\n",
       "      <td>-9</td>\n",
       "      <td>9</td>\n",
       "    </tr>\n",
       "    <tr>\n",
       "      <th>8</th>\n",
       "      <td>10</td>\n",
       "      <td>19</td>\n",
       "      <td>9</td>\n",
       "      <td>9</td>\n",
       "    </tr>\n",
       "    <tr>\n",
       "      <th>17</th>\n",
       "      <td>15</td>\n",
       "      <td>4</td>\n",
       "      <td>-11</td>\n",
       "      <td>11</td>\n",
       "    </tr>\n",
       "    <tr>\n",
       "      <th>2</th>\n",
       "      <td>24</td>\n",
       "      <td>12</td>\n",
       "      <td>-12</td>\n",
       "      <td>12</td>\n",
       "    </tr>\n",
       "    <tr>\n",
       "      <th>22</th>\n",
       "      <td>21</td>\n",
       "      <td>9</td>\n",
       "      <td>-12</td>\n",
       "      <td>12</td>\n",
       "    </tr>\n",
       "    <tr>\n",
       "      <th>11</th>\n",
       "      <td>15</td>\n",
       "      <td>2</td>\n",
       "      <td>-13</td>\n",
       "      <td>13</td>\n",
       "    </tr>\n",
       "    <tr>\n",
       "      <th>28</th>\n",
       "      <td>28</td>\n",
       "      <td>11</td>\n",
       "      <td>-17</td>\n",
       "      <td>17</td>\n",
       "    </tr>\n",
       "    <tr>\n",
       "      <th>1</th>\n",
       "      <td>25</td>\n",
       "      <td>8</td>\n",
       "      <td>-17</td>\n",
       "      <td>17</td>\n",
       "    </tr>\n",
       "    <tr>\n",
       "      <th>7</th>\n",
       "      <td>29</td>\n",
       "      <td>12</td>\n",
       "      <td>-17</td>\n",
       "      <td>17</td>\n",
       "    </tr>\n",
       "    <tr>\n",
       "      <th>12</th>\n",
       "      <td>36</td>\n",
       "      <td>15</td>\n",
       "      <td>-21</td>\n",
       "      <td>21</td>\n",
       "    </tr>\n",
       "    <tr>\n",
       "      <th>27</th>\n",
       "      <td>22</td>\n",
       "      <td>0</td>\n",
       "      <td>-22</td>\n",
       "      <td>22</td>\n",
       "    </tr>\n",
       "    <tr>\n",
       "      <th>19</th>\n",
       "      <td>41</td>\n",
       "      <td>18</td>\n",
       "      <td>-23</td>\n",
       "      <td>23</td>\n",
       "    </tr>\n",
       "    <tr>\n",
       "      <th>0</th>\n",
       "      <td>39</td>\n",
       "      <td>16</td>\n",
       "      <td>-23</td>\n",
       "      <td>23</td>\n",
       "    </tr>\n",
       "    <tr>\n",
       "      <th>16</th>\n",
       "      <td>24</td>\n",
       "      <td>0</td>\n",
       "      <td>-24</td>\n",
       "      <td>24</td>\n",
       "    </tr>\n",
       "    <tr>\n",
       "      <th>18</th>\n",
       "      <td>40</td>\n",
       "      <td>16</td>\n",
       "      <td>-24</td>\n",
       "      <td>24</td>\n",
       "    </tr>\n",
       "    <tr>\n",
       "      <th>26</th>\n",
       "      <td>46</td>\n",
       "      <td>17</td>\n",
       "      <td>-29</td>\n",
       "      <td>29</td>\n",
       "    </tr>\n",
       "    <tr>\n",
       "      <th>13</th>\n",
       "      <td>39</td>\n",
       "      <td>10</td>\n",
       "      <td>-29</td>\n",
       "      <td>29</td>\n",
       "    </tr>\n",
       "    <tr>\n",
       "      <th>32</th>\n",
       "      <td>31</td>\n",
       "      <td>2</td>\n",
       "      <td>-29</td>\n",
       "      <td>29</td>\n",
       "    </tr>\n",
       "    <tr>\n",
       "      <th>14</th>\n",
       "      <td>52</td>\n",
       "      <td>20</td>\n",
       "      <td>-32</td>\n",
       "      <td>32</td>\n",
       "    </tr>\n",
       "    <tr>\n",
       "      <th>10</th>\n",
       "      <td>50</td>\n",
       "      <td>17</td>\n",
       "      <td>-33</td>\n",
       "      <td>33</td>\n",
       "    </tr>\n",
       "    <tr>\n",
       "      <th>15</th>\n",
       "      <td>48</td>\n",
       "      <td>13</td>\n",
       "      <td>-35</td>\n",
       "      <td>35</td>\n",
       "    </tr>\n",
       "    <tr>\n",
       "      <th>5</th>\n",
       "      <td>52</td>\n",
       "      <td>16</td>\n",
       "      <td>-36</td>\n",
       "      <td>36</td>\n",
       "    </tr>\n",
       "    <tr>\n",
       "      <th>30</th>\n",
       "      <td>37</td>\n",
       "      <td>0</td>\n",
       "      <td>-37</td>\n",
       "      <td>37</td>\n",
       "    </tr>\n",
       "    <tr>\n",
       "      <th>33</th>\n",
       "      <td>49</td>\n",
       "      <td>9</td>\n",
       "      <td>-40</td>\n",
       "      <td>40</td>\n",
       "    </tr>\n",
       "    <tr>\n",
       "      <th>23</th>\n",
       "      <td>49</td>\n",
       "      <td>9</td>\n",
       "      <td>-40</td>\n",
       "      <td>40</td>\n",
       "    </tr>\n",
       "    <tr>\n",
       "      <th>34</th>\n",
       "      <td>49</td>\n",
       "      <td>6</td>\n",
       "      <td>-43</td>\n",
       "      <td>43</td>\n",
       "    </tr>\n",
       "    <tr>\n",
       "      <th>3</th>\n",
       "      <td>50</td>\n",
       "      <td>0</td>\n",
       "      <td>-50</td>\n",
       "      <td>50</td>\n",
       "    </tr>\n",
       "    <tr>\n",
       "      <th>25</th>\n",
       "      <td>55</td>\n",
       "      <td>4</td>\n",
       "      <td>-51</td>\n",
       "      <td>51</td>\n",
       "    </tr>\n",
       "  </tbody>\n",
       "</table>\n",
       "</div>"
      ],
      "text/plain": [
       "    Antes  Depois  Dif  |dif|\n",
       "4      13      14    1      1\n",
       "20     17      16   -1      1\n",
       "31     17      19    2      2\n",
       "21     12      16    4      4\n",
       "24     14      18    4      4\n",
       "9      22      17   -5      5\n",
       "6      21      13   -8      8\n",
       "29     23      14   -9      9\n",
       "8      10      19    9      9\n",
       "17     15       4  -11     11\n",
       "2      24      12  -12     12\n",
       "22     21       9  -12     12\n",
       "11     15       2  -13     13\n",
       "28     28      11  -17     17\n",
       "1      25       8  -17     17\n",
       "7      29      12  -17     17\n",
       "12     36      15  -21     21\n",
       "27     22       0  -22     22\n",
       "19     41      18  -23     23\n",
       "0      39      16  -23     23\n",
       "16     24       0  -24     24\n",
       "18     40      16  -24     24\n",
       "26     46      17  -29     29\n",
       "13     39      10  -29     29\n",
       "32     31       2  -29     29\n",
       "14     52      20  -32     32\n",
       "10     50      17  -33     33\n",
       "15     48      13  -35     35\n",
       "5      52      16  -36     36\n",
       "30     37       0  -37     37\n",
       "33     49       9  -40     40\n",
       "23     49       9  -40     40\n",
       "34     49       6  -43     43\n",
       "3      50       0  -50     50\n",
       "25     55       4  -51     51"
      ]
     },
     "execution_count": 58,
     "metadata": {},
     "output_type": "execute_result"
    }
   ],
   "source": [
    "fumo.sort_values( by = '|dif|', inplace = True)\n",
    "fumo"
   ]
  },
  {
   "cell_type": "code",
   "execution_count": 59,
   "metadata": {
    "colab": {
     "base_uri": "https://localhost:8080/",
     "height": 1134
    },
    "colab_type": "code",
    "id": "K_JKSwLHotMx",
    "outputId": "51594adf-1a5c-4d51-aad3-ed49e4c1e018"
   },
   "outputs": [
    {
     "data": {
      "text/html": [
       "<div>\n",
       "<style scoped>\n",
       "    .dataframe tbody tr th:only-of-type {\n",
       "        vertical-align: middle;\n",
       "    }\n",
       "\n",
       "    .dataframe tbody tr th {\n",
       "        vertical-align: top;\n",
       "    }\n",
       "\n",
       "    .dataframe thead th {\n",
       "        text-align: right;\n",
       "    }\n",
       "</style>\n",
       "<table border=\"1\" class=\"dataframe\">\n",
       "  <thead>\n",
       "    <tr style=\"text-align: right;\">\n",
       "      <th></th>\n",
       "      <th>Antes</th>\n",
       "      <th>Depois</th>\n",
       "      <th>Dif</th>\n",
       "      <th>|dif|</th>\n",
       "      <th>Posto</th>\n",
       "    </tr>\n",
       "  </thead>\n",
       "  <tbody>\n",
       "    <tr>\n",
       "      <th>4</th>\n",
       "      <td>13</td>\n",
       "      <td>14</td>\n",
       "      <td>1</td>\n",
       "      <td>1</td>\n",
       "      <td>1</td>\n",
       "    </tr>\n",
       "    <tr>\n",
       "      <th>20</th>\n",
       "      <td>17</td>\n",
       "      <td>16</td>\n",
       "      <td>-1</td>\n",
       "      <td>1</td>\n",
       "      <td>2</td>\n",
       "    </tr>\n",
       "    <tr>\n",
       "      <th>31</th>\n",
       "      <td>17</td>\n",
       "      <td>19</td>\n",
       "      <td>2</td>\n",
       "      <td>2</td>\n",
       "      <td>3</td>\n",
       "    </tr>\n",
       "    <tr>\n",
       "      <th>21</th>\n",
       "      <td>12</td>\n",
       "      <td>16</td>\n",
       "      <td>4</td>\n",
       "      <td>4</td>\n",
       "      <td>4</td>\n",
       "    </tr>\n",
       "    <tr>\n",
       "      <th>24</th>\n",
       "      <td>14</td>\n",
       "      <td>18</td>\n",
       "      <td>4</td>\n",
       "      <td>4</td>\n",
       "      <td>5</td>\n",
       "    </tr>\n",
       "    <tr>\n",
       "      <th>9</th>\n",
       "      <td>22</td>\n",
       "      <td>17</td>\n",
       "      <td>-5</td>\n",
       "      <td>5</td>\n",
       "      <td>6</td>\n",
       "    </tr>\n",
       "    <tr>\n",
       "      <th>6</th>\n",
       "      <td>21</td>\n",
       "      <td>13</td>\n",
       "      <td>-8</td>\n",
       "      <td>8</td>\n",
       "      <td>7</td>\n",
       "    </tr>\n",
       "    <tr>\n",
       "      <th>29</th>\n",
       "      <td>23</td>\n",
       "      <td>14</td>\n",
       "      <td>-9</td>\n",
       "      <td>9</td>\n",
       "      <td>8</td>\n",
       "    </tr>\n",
       "    <tr>\n",
       "      <th>8</th>\n",
       "      <td>10</td>\n",
       "      <td>19</td>\n",
       "      <td>9</td>\n",
       "      <td>9</td>\n",
       "      <td>9</td>\n",
       "    </tr>\n",
       "    <tr>\n",
       "      <th>17</th>\n",
       "      <td>15</td>\n",
       "      <td>4</td>\n",
       "      <td>-11</td>\n",
       "      <td>11</td>\n",
       "      <td>10</td>\n",
       "    </tr>\n",
       "    <tr>\n",
       "      <th>2</th>\n",
       "      <td>24</td>\n",
       "      <td>12</td>\n",
       "      <td>-12</td>\n",
       "      <td>12</td>\n",
       "      <td>11</td>\n",
       "    </tr>\n",
       "    <tr>\n",
       "      <th>22</th>\n",
       "      <td>21</td>\n",
       "      <td>9</td>\n",
       "      <td>-12</td>\n",
       "      <td>12</td>\n",
       "      <td>12</td>\n",
       "    </tr>\n",
       "    <tr>\n",
       "      <th>11</th>\n",
       "      <td>15</td>\n",
       "      <td>2</td>\n",
       "      <td>-13</td>\n",
       "      <td>13</td>\n",
       "      <td>13</td>\n",
       "    </tr>\n",
       "    <tr>\n",
       "      <th>28</th>\n",
       "      <td>28</td>\n",
       "      <td>11</td>\n",
       "      <td>-17</td>\n",
       "      <td>17</td>\n",
       "      <td>14</td>\n",
       "    </tr>\n",
       "    <tr>\n",
       "      <th>1</th>\n",
       "      <td>25</td>\n",
       "      <td>8</td>\n",
       "      <td>-17</td>\n",
       "      <td>17</td>\n",
       "      <td>15</td>\n",
       "    </tr>\n",
       "    <tr>\n",
       "      <th>7</th>\n",
       "      <td>29</td>\n",
       "      <td>12</td>\n",
       "      <td>-17</td>\n",
       "      <td>17</td>\n",
       "      <td>16</td>\n",
       "    </tr>\n",
       "    <tr>\n",
       "      <th>12</th>\n",
       "      <td>36</td>\n",
       "      <td>15</td>\n",
       "      <td>-21</td>\n",
       "      <td>21</td>\n",
       "      <td>17</td>\n",
       "    </tr>\n",
       "    <tr>\n",
       "      <th>27</th>\n",
       "      <td>22</td>\n",
       "      <td>0</td>\n",
       "      <td>-22</td>\n",
       "      <td>22</td>\n",
       "      <td>18</td>\n",
       "    </tr>\n",
       "    <tr>\n",
       "      <th>19</th>\n",
       "      <td>41</td>\n",
       "      <td>18</td>\n",
       "      <td>-23</td>\n",
       "      <td>23</td>\n",
       "      <td>19</td>\n",
       "    </tr>\n",
       "    <tr>\n",
       "      <th>0</th>\n",
       "      <td>39</td>\n",
       "      <td>16</td>\n",
       "      <td>-23</td>\n",
       "      <td>23</td>\n",
       "      <td>20</td>\n",
       "    </tr>\n",
       "    <tr>\n",
       "      <th>16</th>\n",
       "      <td>24</td>\n",
       "      <td>0</td>\n",
       "      <td>-24</td>\n",
       "      <td>24</td>\n",
       "      <td>21</td>\n",
       "    </tr>\n",
       "    <tr>\n",
       "      <th>18</th>\n",
       "      <td>40</td>\n",
       "      <td>16</td>\n",
       "      <td>-24</td>\n",
       "      <td>24</td>\n",
       "      <td>22</td>\n",
       "    </tr>\n",
       "    <tr>\n",
       "      <th>26</th>\n",
       "      <td>46</td>\n",
       "      <td>17</td>\n",
       "      <td>-29</td>\n",
       "      <td>29</td>\n",
       "      <td>23</td>\n",
       "    </tr>\n",
       "    <tr>\n",
       "      <th>13</th>\n",
       "      <td>39</td>\n",
       "      <td>10</td>\n",
       "      <td>-29</td>\n",
       "      <td>29</td>\n",
       "      <td>24</td>\n",
       "    </tr>\n",
       "    <tr>\n",
       "      <th>32</th>\n",
       "      <td>31</td>\n",
       "      <td>2</td>\n",
       "      <td>-29</td>\n",
       "      <td>29</td>\n",
       "      <td>25</td>\n",
       "    </tr>\n",
       "    <tr>\n",
       "      <th>14</th>\n",
       "      <td>52</td>\n",
       "      <td>20</td>\n",
       "      <td>-32</td>\n",
       "      <td>32</td>\n",
       "      <td>26</td>\n",
       "    </tr>\n",
       "    <tr>\n",
       "      <th>10</th>\n",
       "      <td>50</td>\n",
       "      <td>17</td>\n",
       "      <td>-33</td>\n",
       "      <td>33</td>\n",
       "      <td>27</td>\n",
       "    </tr>\n",
       "    <tr>\n",
       "      <th>15</th>\n",
       "      <td>48</td>\n",
       "      <td>13</td>\n",
       "      <td>-35</td>\n",
       "      <td>35</td>\n",
       "      <td>28</td>\n",
       "    </tr>\n",
       "    <tr>\n",
       "      <th>5</th>\n",
       "      <td>52</td>\n",
       "      <td>16</td>\n",
       "      <td>-36</td>\n",
       "      <td>36</td>\n",
       "      <td>29</td>\n",
       "    </tr>\n",
       "    <tr>\n",
       "      <th>30</th>\n",
       "      <td>37</td>\n",
       "      <td>0</td>\n",
       "      <td>-37</td>\n",
       "      <td>37</td>\n",
       "      <td>30</td>\n",
       "    </tr>\n",
       "    <tr>\n",
       "      <th>33</th>\n",
       "      <td>49</td>\n",
       "      <td>9</td>\n",
       "      <td>-40</td>\n",
       "      <td>40</td>\n",
       "      <td>31</td>\n",
       "    </tr>\n",
       "    <tr>\n",
       "      <th>23</th>\n",
       "      <td>49</td>\n",
       "      <td>9</td>\n",
       "      <td>-40</td>\n",
       "      <td>40</td>\n",
       "      <td>32</td>\n",
       "    </tr>\n",
       "    <tr>\n",
       "      <th>34</th>\n",
       "      <td>49</td>\n",
       "      <td>6</td>\n",
       "      <td>-43</td>\n",
       "      <td>43</td>\n",
       "      <td>33</td>\n",
       "    </tr>\n",
       "    <tr>\n",
       "      <th>3</th>\n",
       "      <td>50</td>\n",
       "      <td>0</td>\n",
       "      <td>-50</td>\n",
       "      <td>50</td>\n",
       "      <td>34</td>\n",
       "    </tr>\n",
       "    <tr>\n",
       "      <th>25</th>\n",
       "      <td>55</td>\n",
       "      <td>4</td>\n",
       "      <td>-51</td>\n",
       "      <td>51</td>\n",
       "      <td>35</td>\n",
       "    </tr>\n",
       "  </tbody>\n",
       "</table>\n",
       "</div>"
      ],
      "text/plain": [
       "    Antes  Depois  Dif  |dif|  Posto\n",
       "4      13      14    1      1      1\n",
       "20     17      16   -1      1      2\n",
       "31     17      19    2      2      3\n",
       "21     12      16    4      4      4\n",
       "24     14      18    4      4      5\n",
       "9      22      17   -5      5      6\n",
       "6      21      13   -8      8      7\n",
       "29     23      14   -9      9      8\n",
       "8      10      19    9      9      9\n",
       "17     15       4  -11     11     10\n",
       "2      24      12  -12     12     11\n",
       "22     21       9  -12     12     12\n",
       "11     15       2  -13     13     13\n",
       "28     28      11  -17     17     14\n",
       "1      25       8  -17     17     15\n",
       "7      29      12  -17     17     16\n",
       "12     36      15  -21     21     17\n",
       "27     22       0  -22     22     18\n",
       "19     41      18  -23     23     19\n",
       "0      39      16  -23     23     20\n",
       "16     24       0  -24     24     21\n",
       "18     40      16  -24     24     22\n",
       "26     46      17  -29     29     23\n",
       "13     39      10  -29     29     24\n",
       "32     31       2  -29     29     25\n",
       "14     52      20  -32     32     26\n",
       "10     50      17  -33     33     27\n",
       "15     48      13  -35     35     28\n",
       "5      52      16  -36     36     29\n",
       "30     37       0  -37     37     30\n",
       "33     49       9  -40     40     31\n",
       "23     49       9  -40     40     32\n",
       "34     49       6  -43     43     33\n",
       "3      50       0  -50     50     34\n",
       "25     55       4  -51     51     35"
      ]
     },
     "execution_count": 59,
     "metadata": {},
     "output_type": "execute_result"
    }
   ],
   "source": [
    "fumo['Posto'] = range(1, len(fumo) + 1)\n",
    "fumo"
   ]
  },
  {
   "cell_type": "code",
   "execution_count": 61,
   "metadata": {
    "colab": {
     "base_uri": "https://localhost:8080/",
     "height": 824
    },
    "colab_type": "code",
    "id": "h8TXHLh1otJh",
    "outputId": "dce72dc9-b1d1-435a-aa09-6b83648a5727"
   },
   "outputs": [
    {
     "data": {
      "text/html": [
       "<div>\n",
       "<style scoped>\n",
       "    .dataframe tbody tr th:only-of-type {\n",
       "        vertical-align: middle;\n",
       "    }\n",
       "\n",
       "    .dataframe tbody tr th {\n",
       "        vertical-align: top;\n",
       "    }\n",
       "\n",
       "    .dataframe thead th {\n",
       "        text-align: right;\n",
       "    }\n",
       "</style>\n",
       "<table border=\"1\" class=\"dataframe\">\n",
       "  <thead>\n",
       "    <tr style=\"text-align: right;\">\n",
       "      <th></th>\n",
       "      <th>Posto</th>\n",
       "    </tr>\n",
       "    <tr>\n",
       "      <th>|dif|</th>\n",
       "      <th></th>\n",
       "    </tr>\n",
       "  </thead>\n",
       "  <tbody>\n",
       "    <tr>\n",
       "      <th>1</th>\n",
       "      <td>1.5</td>\n",
       "    </tr>\n",
       "    <tr>\n",
       "      <th>2</th>\n",
       "      <td>3.0</td>\n",
       "    </tr>\n",
       "    <tr>\n",
       "      <th>4</th>\n",
       "      <td>4.5</td>\n",
       "    </tr>\n",
       "    <tr>\n",
       "      <th>5</th>\n",
       "      <td>6.0</td>\n",
       "    </tr>\n",
       "    <tr>\n",
       "      <th>8</th>\n",
       "      <td>7.0</td>\n",
       "    </tr>\n",
       "    <tr>\n",
       "      <th>9</th>\n",
       "      <td>8.5</td>\n",
       "    </tr>\n",
       "    <tr>\n",
       "      <th>11</th>\n",
       "      <td>10.0</td>\n",
       "    </tr>\n",
       "    <tr>\n",
       "      <th>12</th>\n",
       "      <td>11.5</td>\n",
       "    </tr>\n",
       "    <tr>\n",
       "      <th>13</th>\n",
       "      <td>13.0</td>\n",
       "    </tr>\n",
       "    <tr>\n",
       "      <th>17</th>\n",
       "      <td>15.0</td>\n",
       "    </tr>\n",
       "    <tr>\n",
       "      <th>21</th>\n",
       "      <td>17.0</td>\n",
       "    </tr>\n",
       "    <tr>\n",
       "      <th>22</th>\n",
       "      <td>18.0</td>\n",
       "    </tr>\n",
       "    <tr>\n",
       "      <th>23</th>\n",
       "      <td>19.5</td>\n",
       "    </tr>\n",
       "    <tr>\n",
       "      <th>24</th>\n",
       "      <td>21.5</td>\n",
       "    </tr>\n",
       "    <tr>\n",
       "      <th>29</th>\n",
       "      <td>24.0</td>\n",
       "    </tr>\n",
       "    <tr>\n",
       "      <th>32</th>\n",
       "      <td>26.0</td>\n",
       "    </tr>\n",
       "    <tr>\n",
       "      <th>33</th>\n",
       "      <td>27.0</td>\n",
       "    </tr>\n",
       "    <tr>\n",
       "      <th>35</th>\n",
       "      <td>28.0</td>\n",
       "    </tr>\n",
       "    <tr>\n",
       "      <th>36</th>\n",
       "      <td>29.0</td>\n",
       "    </tr>\n",
       "    <tr>\n",
       "      <th>37</th>\n",
       "      <td>30.0</td>\n",
       "    </tr>\n",
       "    <tr>\n",
       "      <th>40</th>\n",
       "      <td>31.5</td>\n",
       "    </tr>\n",
       "    <tr>\n",
       "      <th>43</th>\n",
       "      <td>33.0</td>\n",
       "    </tr>\n",
       "    <tr>\n",
       "      <th>50</th>\n",
       "      <td>34.0</td>\n",
       "    </tr>\n",
       "    <tr>\n",
       "      <th>51</th>\n",
       "      <td>35.0</td>\n",
       "    </tr>\n",
       "  </tbody>\n",
       "</table>\n",
       "</div>"
      ],
      "text/plain": [
       "       Posto\n",
       "|dif|       \n",
       "1        1.5\n",
       "2        3.0\n",
       "4        4.5\n",
       "5        6.0\n",
       "8        7.0\n",
       "9        8.5\n",
       "11      10.0\n",
       "12      11.5\n",
       "13      13.0\n",
       "17      15.0\n",
       "21      17.0\n",
       "22      18.0\n",
       "23      19.5\n",
       "24      21.5\n",
       "29      24.0\n",
       "32      26.0\n",
       "33      27.0\n",
       "35      28.0\n",
       "36      29.0\n",
       "37      30.0\n",
       "40      31.5\n",
       "43      33.0\n",
       "50      34.0\n",
       "51      35.0"
      ]
     },
     "execution_count": 61,
     "metadata": {},
     "output_type": "execute_result"
    }
   ],
   "source": [
    "posto = fumo[['|dif|', 'Posto']].groupby(['|dif|']).mean()\n",
    "posto"
   ]
  },
  {
   "cell_type": "code",
   "execution_count": 62,
   "metadata": {
    "colab": {
     "base_uri": "https://localhost:8080/",
     "height": 793
    },
    "colab_type": "code",
    "id": "fjX9_aRIotGD",
    "outputId": "a7f0ffc7-4e83-4d09-fca1-4a51302c284b"
   },
   "outputs": [
    {
     "data": {
      "text/html": [
       "<div>\n",
       "<style scoped>\n",
       "    .dataframe tbody tr th:only-of-type {\n",
       "        vertical-align: middle;\n",
       "    }\n",
       "\n",
       "    .dataframe tbody tr th {\n",
       "        vertical-align: top;\n",
       "    }\n",
       "\n",
       "    .dataframe thead th {\n",
       "        text-align: right;\n",
       "    }\n",
       "</style>\n",
       "<table border=\"1\" class=\"dataframe\">\n",
       "  <thead>\n",
       "    <tr style=\"text-align: right;\">\n",
       "      <th></th>\n",
       "      <th>|dif|</th>\n",
       "      <th>Posto</th>\n",
       "    </tr>\n",
       "  </thead>\n",
       "  <tbody>\n",
       "    <tr>\n",
       "      <th>0</th>\n",
       "      <td>1</td>\n",
       "      <td>1.5</td>\n",
       "    </tr>\n",
       "    <tr>\n",
       "      <th>1</th>\n",
       "      <td>2</td>\n",
       "      <td>3.0</td>\n",
       "    </tr>\n",
       "    <tr>\n",
       "      <th>2</th>\n",
       "      <td>4</td>\n",
       "      <td>4.5</td>\n",
       "    </tr>\n",
       "    <tr>\n",
       "      <th>3</th>\n",
       "      <td>5</td>\n",
       "      <td>6.0</td>\n",
       "    </tr>\n",
       "    <tr>\n",
       "      <th>4</th>\n",
       "      <td>8</td>\n",
       "      <td>7.0</td>\n",
       "    </tr>\n",
       "    <tr>\n",
       "      <th>5</th>\n",
       "      <td>9</td>\n",
       "      <td>8.5</td>\n",
       "    </tr>\n",
       "    <tr>\n",
       "      <th>6</th>\n",
       "      <td>11</td>\n",
       "      <td>10.0</td>\n",
       "    </tr>\n",
       "    <tr>\n",
       "      <th>7</th>\n",
       "      <td>12</td>\n",
       "      <td>11.5</td>\n",
       "    </tr>\n",
       "    <tr>\n",
       "      <th>8</th>\n",
       "      <td>13</td>\n",
       "      <td>13.0</td>\n",
       "    </tr>\n",
       "    <tr>\n",
       "      <th>9</th>\n",
       "      <td>17</td>\n",
       "      <td>15.0</td>\n",
       "    </tr>\n",
       "    <tr>\n",
       "      <th>10</th>\n",
       "      <td>21</td>\n",
       "      <td>17.0</td>\n",
       "    </tr>\n",
       "    <tr>\n",
       "      <th>11</th>\n",
       "      <td>22</td>\n",
       "      <td>18.0</td>\n",
       "    </tr>\n",
       "    <tr>\n",
       "      <th>12</th>\n",
       "      <td>23</td>\n",
       "      <td>19.5</td>\n",
       "    </tr>\n",
       "    <tr>\n",
       "      <th>13</th>\n",
       "      <td>24</td>\n",
       "      <td>21.5</td>\n",
       "    </tr>\n",
       "    <tr>\n",
       "      <th>14</th>\n",
       "      <td>29</td>\n",
       "      <td>24.0</td>\n",
       "    </tr>\n",
       "    <tr>\n",
       "      <th>15</th>\n",
       "      <td>32</td>\n",
       "      <td>26.0</td>\n",
       "    </tr>\n",
       "    <tr>\n",
       "      <th>16</th>\n",
       "      <td>33</td>\n",
       "      <td>27.0</td>\n",
       "    </tr>\n",
       "    <tr>\n",
       "      <th>17</th>\n",
       "      <td>35</td>\n",
       "      <td>28.0</td>\n",
       "    </tr>\n",
       "    <tr>\n",
       "      <th>18</th>\n",
       "      <td>36</td>\n",
       "      <td>29.0</td>\n",
       "    </tr>\n",
       "    <tr>\n",
       "      <th>19</th>\n",
       "      <td>37</td>\n",
       "      <td>30.0</td>\n",
       "    </tr>\n",
       "    <tr>\n",
       "      <th>20</th>\n",
       "      <td>40</td>\n",
       "      <td>31.5</td>\n",
       "    </tr>\n",
       "    <tr>\n",
       "      <th>21</th>\n",
       "      <td>43</td>\n",
       "      <td>33.0</td>\n",
       "    </tr>\n",
       "    <tr>\n",
       "      <th>22</th>\n",
       "      <td>50</td>\n",
       "      <td>34.0</td>\n",
       "    </tr>\n",
       "    <tr>\n",
       "      <th>23</th>\n",
       "      <td>51</td>\n",
       "      <td>35.0</td>\n",
       "    </tr>\n",
       "  </tbody>\n",
       "</table>\n",
       "</div>"
      ],
      "text/plain": [
       "    |dif|  Posto\n",
       "0       1    1.5\n",
       "1       2    3.0\n",
       "2       4    4.5\n",
       "3       5    6.0\n",
       "4       8    7.0\n",
       "5       9    8.5\n",
       "6      11   10.0\n",
       "7      12   11.5\n",
       "8      13   13.0\n",
       "9      17   15.0\n",
       "10     21   17.0\n",
       "11     22   18.0\n",
       "12     23   19.5\n",
       "13     24   21.5\n",
       "14     29   24.0\n",
       "15     32   26.0\n",
       "16     33   27.0\n",
       "17     35   28.0\n",
       "18     36   29.0\n",
       "19     37   30.0\n",
       "20     40   31.5\n",
       "21     43   33.0\n",
       "22     50   34.0\n",
       "23     51   35.0"
      ]
     },
     "execution_count": 62,
     "metadata": {},
     "output_type": "execute_result"
    }
   ],
   "source": [
    "posto.reset_index(inplace = True)\n",
    "posto"
   ]
  },
  {
   "cell_type": "code",
   "execution_count": 63,
   "metadata": {
    "colab": {
     "base_uri": "https://localhost:8080/",
     "height": 1134
    },
    "colab_type": "code",
    "id": "uk79v15dotCn",
    "outputId": "fbb9268a-81df-4d32-b97a-832aaba86269"
   },
   "outputs": [
    {
     "data": {
      "text/html": [
       "<div>\n",
       "<style scoped>\n",
       "    .dataframe tbody tr th:only-of-type {\n",
       "        vertical-align: middle;\n",
       "    }\n",
       "\n",
       "    .dataframe tbody tr th {\n",
       "        vertical-align: top;\n",
       "    }\n",
       "\n",
       "    .dataframe thead th {\n",
       "        text-align: right;\n",
       "    }\n",
       "</style>\n",
       "<table border=\"1\" class=\"dataframe\">\n",
       "  <thead>\n",
       "    <tr style=\"text-align: right;\">\n",
       "      <th></th>\n",
       "      <th>Antes</th>\n",
       "      <th>Depois</th>\n",
       "      <th>Dif</th>\n",
       "      <th>|dif|</th>\n",
       "    </tr>\n",
       "  </thead>\n",
       "  <tbody>\n",
       "    <tr>\n",
       "      <th>4</th>\n",
       "      <td>13</td>\n",
       "      <td>14</td>\n",
       "      <td>1</td>\n",
       "      <td>1</td>\n",
       "    </tr>\n",
       "    <tr>\n",
       "      <th>20</th>\n",
       "      <td>17</td>\n",
       "      <td>16</td>\n",
       "      <td>-1</td>\n",
       "      <td>1</td>\n",
       "    </tr>\n",
       "    <tr>\n",
       "      <th>31</th>\n",
       "      <td>17</td>\n",
       "      <td>19</td>\n",
       "      <td>2</td>\n",
       "      <td>2</td>\n",
       "    </tr>\n",
       "    <tr>\n",
       "      <th>21</th>\n",
       "      <td>12</td>\n",
       "      <td>16</td>\n",
       "      <td>4</td>\n",
       "      <td>4</td>\n",
       "    </tr>\n",
       "    <tr>\n",
       "      <th>24</th>\n",
       "      <td>14</td>\n",
       "      <td>18</td>\n",
       "      <td>4</td>\n",
       "      <td>4</td>\n",
       "    </tr>\n",
       "    <tr>\n",
       "      <th>9</th>\n",
       "      <td>22</td>\n",
       "      <td>17</td>\n",
       "      <td>-5</td>\n",
       "      <td>5</td>\n",
       "    </tr>\n",
       "    <tr>\n",
       "      <th>6</th>\n",
       "      <td>21</td>\n",
       "      <td>13</td>\n",
       "      <td>-8</td>\n",
       "      <td>8</td>\n",
       "    </tr>\n",
       "    <tr>\n",
       "      <th>29</th>\n",
       "      <td>23</td>\n",
       "      <td>14</td>\n",
       "      <td>-9</td>\n",
       "      <td>9</td>\n",
       "    </tr>\n",
       "    <tr>\n",
       "      <th>8</th>\n",
       "      <td>10</td>\n",
       "      <td>19</td>\n",
       "      <td>9</td>\n",
       "      <td>9</td>\n",
       "    </tr>\n",
       "    <tr>\n",
       "      <th>17</th>\n",
       "      <td>15</td>\n",
       "      <td>4</td>\n",
       "      <td>-11</td>\n",
       "      <td>11</td>\n",
       "    </tr>\n",
       "    <tr>\n",
       "      <th>2</th>\n",
       "      <td>24</td>\n",
       "      <td>12</td>\n",
       "      <td>-12</td>\n",
       "      <td>12</td>\n",
       "    </tr>\n",
       "    <tr>\n",
       "      <th>22</th>\n",
       "      <td>21</td>\n",
       "      <td>9</td>\n",
       "      <td>-12</td>\n",
       "      <td>12</td>\n",
       "    </tr>\n",
       "    <tr>\n",
       "      <th>11</th>\n",
       "      <td>15</td>\n",
       "      <td>2</td>\n",
       "      <td>-13</td>\n",
       "      <td>13</td>\n",
       "    </tr>\n",
       "    <tr>\n",
       "      <th>28</th>\n",
       "      <td>28</td>\n",
       "      <td>11</td>\n",
       "      <td>-17</td>\n",
       "      <td>17</td>\n",
       "    </tr>\n",
       "    <tr>\n",
       "      <th>1</th>\n",
       "      <td>25</td>\n",
       "      <td>8</td>\n",
       "      <td>-17</td>\n",
       "      <td>17</td>\n",
       "    </tr>\n",
       "    <tr>\n",
       "      <th>7</th>\n",
       "      <td>29</td>\n",
       "      <td>12</td>\n",
       "      <td>-17</td>\n",
       "      <td>17</td>\n",
       "    </tr>\n",
       "    <tr>\n",
       "      <th>12</th>\n",
       "      <td>36</td>\n",
       "      <td>15</td>\n",
       "      <td>-21</td>\n",
       "      <td>21</td>\n",
       "    </tr>\n",
       "    <tr>\n",
       "      <th>27</th>\n",
       "      <td>22</td>\n",
       "      <td>0</td>\n",
       "      <td>-22</td>\n",
       "      <td>22</td>\n",
       "    </tr>\n",
       "    <tr>\n",
       "      <th>19</th>\n",
       "      <td>41</td>\n",
       "      <td>18</td>\n",
       "      <td>-23</td>\n",
       "      <td>23</td>\n",
       "    </tr>\n",
       "    <tr>\n",
       "      <th>0</th>\n",
       "      <td>39</td>\n",
       "      <td>16</td>\n",
       "      <td>-23</td>\n",
       "      <td>23</td>\n",
       "    </tr>\n",
       "    <tr>\n",
       "      <th>16</th>\n",
       "      <td>24</td>\n",
       "      <td>0</td>\n",
       "      <td>-24</td>\n",
       "      <td>24</td>\n",
       "    </tr>\n",
       "    <tr>\n",
       "      <th>18</th>\n",
       "      <td>40</td>\n",
       "      <td>16</td>\n",
       "      <td>-24</td>\n",
       "      <td>24</td>\n",
       "    </tr>\n",
       "    <tr>\n",
       "      <th>26</th>\n",
       "      <td>46</td>\n",
       "      <td>17</td>\n",
       "      <td>-29</td>\n",
       "      <td>29</td>\n",
       "    </tr>\n",
       "    <tr>\n",
       "      <th>13</th>\n",
       "      <td>39</td>\n",
       "      <td>10</td>\n",
       "      <td>-29</td>\n",
       "      <td>29</td>\n",
       "    </tr>\n",
       "    <tr>\n",
       "      <th>32</th>\n",
       "      <td>31</td>\n",
       "      <td>2</td>\n",
       "      <td>-29</td>\n",
       "      <td>29</td>\n",
       "    </tr>\n",
       "    <tr>\n",
       "      <th>14</th>\n",
       "      <td>52</td>\n",
       "      <td>20</td>\n",
       "      <td>-32</td>\n",
       "      <td>32</td>\n",
       "    </tr>\n",
       "    <tr>\n",
       "      <th>10</th>\n",
       "      <td>50</td>\n",
       "      <td>17</td>\n",
       "      <td>-33</td>\n",
       "      <td>33</td>\n",
       "    </tr>\n",
       "    <tr>\n",
       "      <th>15</th>\n",
       "      <td>48</td>\n",
       "      <td>13</td>\n",
       "      <td>-35</td>\n",
       "      <td>35</td>\n",
       "    </tr>\n",
       "    <tr>\n",
       "      <th>5</th>\n",
       "      <td>52</td>\n",
       "      <td>16</td>\n",
       "      <td>-36</td>\n",
       "      <td>36</td>\n",
       "    </tr>\n",
       "    <tr>\n",
       "      <th>30</th>\n",
       "      <td>37</td>\n",
       "      <td>0</td>\n",
       "      <td>-37</td>\n",
       "      <td>37</td>\n",
       "    </tr>\n",
       "    <tr>\n",
       "      <th>33</th>\n",
       "      <td>49</td>\n",
       "      <td>9</td>\n",
       "      <td>-40</td>\n",
       "      <td>40</td>\n",
       "    </tr>\n",
       "    <tr>\n",
       "      <th>23</th>\n",
       "      <td>49</td>\n",
       "      <td>9</td>\n",
       "      <td>-40</td>\n",
       "      <td>40</td>\n",
       "    </tr>\n",
       "    <tr>\n",
       "      <th>34</th>\n",
       "      <td>49</td>\n",
       "      <td>6</td>\n",
       "      <td>-43</td>\n",
       "      <td>43</td>\n",
       "    </tr>\n",
       "    <tr>\n",
       "      <th>3</th>\n",
       "      <td>50</td>\n",
       "      <td>0</td>\n",
       "      <td>-50</td>\n",
       "      <td>50</td>\n",
       "    </tr>\n",
       "    <tr>\n",
       "      <th>25</th>\n",
       "      <td>55</td>\n",
       "      <td>4</td>\n",
       "      <td>-51</td>\n",
       "      <td>51</td>\n",
       "    </tr>\n",
       "  </tbody>\n",
       "</table>\n",
       "</div>"
      ],
      "text/plain": [
       "    Antes  Depois  Dif  |dif|\n",
       "4      13      14    1      1\n",
       "20     17      16   -1      1\n",
       "31     17      19    2      2\n",
       "21     12      16    4      4\n",
       "24     14      18    4      4\n",
       "9      22      17   -5      5\n",
       "6      21      13   -8      8\n",
       "29     23      14   -9      9\n",
       "8      10      19    9      9\n",
       "17     15       4  -11     11\n",
       "2      24      12  -12     12\n",
       "22     21       9  -12     12\n",
       "11     15       2  -13     13\n",
       "28     28      11  -17     17\n",
       "1      25       8  -17     17\n",
       "7      29      12  -17     17\n",
       "12     36      15  -21     21\n",
       "27     22       0  -22     22\n",
       "19     41      18  -23     23\n",
       "0      39      16  -23     23\n",
       "16     24       0  -24     24\n",
       "18     40      16  -24     24\n",
       "26     46      17  -29     29\n",
       "13     39      10  -29     29\n",
       "32     31       2  -29     29\n",
       "14     52      20  -32     32\n",
       "10     50      17  -33     33\n",
       "15     48      13  -35     35\n",
       "5      52      16  -36     36\n",
       "30     37       0  -37     37\n",
       "33     49       9  -40     40\n",
       "23     49       9  -40     40\n",
       "34     49       6  -43     43\n",
       "3      50       0  -50     50\n",
       "25     55       4  -51     51"
      ]
     },
     "execution_count": 63,
     "metadata": {},
     "output_type": "execute_result"
    }
   ],
   "source": [
    "fumo.drop(['Posto'], axis = 1, inplace = True)\n",
    "fumo"
   ]
  },
  {
   "cell_type": "code",
   "execution_count": 64,
   "metadata": {
    "colab": {
     "base_uri": "https://localhost:8080/",
     "height": 1134
    },
    "colab_type": "code",
    "id": "qCdc7pGgos_T",
    "outputId": "9f19bd63-827d-40a8-f171-af9665b2df94"
   },
   "outputs": [
    {
     "data": {
      "text/html": [
       "<div>\n",
       "<style scoped>\n",
       "    .dataframe tbody tr th:only-of-type {\n",
       "        vertical-align: middle;\n",
       "    }\n",
       "\n",
       "    .dataframe tbody tr th {\n",
       "        vertical-align: top;\n",
       "    }\n",
       "\n",
       "    .dataframe thead th {\n",
       "        text-align: right;\n",
       "    }\n",
       "</style>\n",
       "<table border=\"1\" class=\"dataframe\">\n",
       "  <thead>\n",
       "    <tr style=\"text-align: right;\">\n",
       "      <th></th>\n",
       "      <th>Antes</th>\n",
       "      <th>Depois</th>\n",
       "      <th>Dif</th>\n",
       "      <th>|dif|</th>\n",
       "      <th>Posto</th>\n",
       "    </tr>\n",
       "  </thead>\n",
       "  <tbody>\n",
       "    <tr>\n",
       "      <th>0</th>\n",
       "      <td>13</td>\n",
       "      <td>14</td>\n",
       "      <td>1</td>\n",
       "      <td>1</td>\n",
       "      <td>1.5</td>\n",
       "    </tr>\n",
       "    <tr>\n",
       "      <th>1</th>\n",
       "      <td>17</td>\n",
       "      <td>16</td>\n",
       "      <td>-1</td>\n",
       "      <td>1</td>\n",
       "      <td>1.5</td>\n",
       "    </tr>\n",
       "    <tr>\n",
       "      <th>2</th>\n",
       "      <td>17</td>\n",
       "      <td>19</td>\n",
       "      <td>2</td>\n",
       "      <td>2</td>\n",
       "      <td>3.0</td>\n",
       "    </tr>\n",
       "    <tr>\n",
       "      <th>3</th>\n",
       "      <td>12</td>\n",
       "      <td>16</td>\n",
       "      <td>4</td>\n",
       "      <td>4</td>\n",
       "      <td>4.5</td>\n",
       "    </tr>\n",
       "    <tr>\n",
       "      <th>4</th>\n",
       "      <td>14</td>\n",
       "      <td>18</td>\n",
       "      <td>4</td>\n",
       "      <td>4</td>\n",
       "      <td>4.5</td>\n",
       "    </tr>\n",
       "    <tr>\n",
       "      <th>5</th>\n",
       "      <td>22</td>\n",
       "      <td>17</td>\n",
       "      <td>-5</td>\n",
       "      <td>5</td>\n",
       "      <td>6.0</td>\n",
       "    </tr>\n",
       "    <tr>\n",
       "      <th>6</th>\n",
       "      <td>21</td>\n",
       "      <td>13</td>\n",
       "      <td>-8</td>\n",
       "      <td>8</td>\n",
       "      <td>7.0</td>\n",
       "    </tr>\n",
       "    <tr>\n",
       "      <th>7</th>\n",
       "      <td>23</td>\n",
       "      <td>14</td>\n",
       "      <td>-9</td>\n",
       "      <td>9</td>\n",
       "      <td>8.5</td>\n",
       "    </tr>\n",
       "    <tr>\n",
       "      <th>8</th>\n",
       "      <td>10</td>\n",
       "      <td>19</td>\n",
       "      <td>9</td>\n",
       "      <td>9</td>\n",
       "      <td>8.5</td>\n",
       "    </tr>\n",
       "    <tr>\n",
       "      <th>9</th>\n",
       "      <td>15</td>\n",
       "      <td>4</td>\n",
       "      <td>-11</td>\n",
       "      <td>11</td>\n",
       "      <td>10.0</td>\n",
       "    </tr>\n",
       "    <tr>\n",
       "      <th>10</th>\n",
       "      <td>24</td>\n",
       "      <td>12</td>\n",
       "      <td>-12</td>\n",
       "      <td>12</td>\n",
       "      <td>11.5</td>\n",
       "    </tr>\n",
       "    <tr>\n",
       "      <th>11</th>\n",
       "      <td>21</td>\n",
       "      <td>9</td>\n",
       "      <td>-12</td>\n",
       "      <td>12</td>\n",
       "      <td>11.5</td>\n",
       "    </tr>\n",
       "    <tr>\n",
       "      <th>12</th>\n",
       "      <td>15</td>\n",
       "      <td>2</td>\n",
       "      <td>-13</td>\n",
       "      <td>13</td>\n",
       "      <td>13.0</td>\n",
       "    </tr>\n",
       "    <tr>\n",
       "      <th>13</th>\n",
       "      <td>28</td>\n",
       "      <td>11</td>\n",
       "      <td>-17</td>\n",
       "      <td>17</td>\n",
       "      <td>15.0</td>\n",
       "    </tr>\n",
       "    <tr>\n",
       "      <th>14</th>\n",
       "      <td>25</td>\n",
       "      <td>8</td>\n",
       "      <td>-17</td>\n",
       "      <td>17</td>\n",
       "      <td>15.0</td>\n",
       "    </tr>\n",
       "    <tr>\n",
       "      <th>15</th>\n",
       "      <td>29</td>\n",
       "      <td>12</td>\n",
       "      <td>-17</td>\n",
       "      <td>17</td>\n",
       "      <td>15.0</td>\n",
       "    </tr>\n",
       "    <tr>\n",
       "      <th>16</th>\n",
       "      <td>36</td>\n",
       "      <td>15</td>\n",
       "      <td>-21</td>\n",
       "      <td>21</td>\n",
       "      <td>17.0</td>\n",
       "    </tr>\n",
       "    <tr>\n",
       "      <th>17</th>\n",
       "      <td>22</td>\n",
       "      <td>0</td>\n",
       "      <td>-22</td>\n",
       "      <td>22</td>\n",
       "      <td>18.0</td>\n",
       "    </tr>\n",
       "    <tr>\n",
       "      <th>18</th>\n",
       "      <td>41</td>\n",
       "      <td>18</td>\n",
       "      <td>-23</td>\n",
       "      <td>23</td>\n",
       "      <td>19.5</td>\n",
       "    </tr>\n",
       "    <tr>\n",
       "      <th>19</th>\n",
       "      <td>39</td>\n",
       "      <td>16</td>\n",
       "      <td>-23</td>\n",
       "      <td>23</td>\n",
       "      <td>19.5</td>\n",
       "    </tr>\n",
       "    <tr>\n",
       "      <th>20</th>\n",
       "      <td>24</td>\n",
       "      <td>0</td>\n",
       "      <td>-24</td>\n",
       "      <td>24</td>\n",
       "      <td>21.5</td>\n",
       "    </tr>\n",
       "    <tr>\n",
       "      <th>21</th>\n",
       "      <td>40</td>\n",
       "      <td>16</td>\n",
       "      <td>-24</td>\n",
       "      <td>24</td>\n",
       "      <td>21.5</td>\n",
       "    </tr>\n",
       "    <tr>\n",
       "      <th>22</th>\n",
       "      <td>46</td>\n",
       "      <td>17</td>\n",
       "      <td>-29</td>\n",
       "      <td>29</td>\n",
       "      <td>24.0</td>\n",
       "    </tr>\n",
       "    <tr>\n",
       "      <th>23</th>\n",
       "      <td>39</td>\n",
       "      <td>10</td>\n",
       "      <td>-29</td>\n",
       "      <td>29</td>\n",
       "      <td>24.0</td>\n",
       "    </tr>\n",
       "    <tr>\n",
       "      <th>24</th>\n",
       "      <td>31</td>\n",
       "      <td>2</td>\n",
       "      <td>-29</td>\n",
       "      <td>29</td>\n",
       "      <td>24.0</td>\n",
       "    </tr>\n",
       "    <tr>\n",
       "      <th>25</th>\n",
       "      <td>52</td>\n",
       "      <td>20</td>\n",
       "      <td>-32</td>\n",
       "      <td>32</td>\n",
       "      <td>26.0</td>\n",
       "    </tr>\n",
       "    <tr>\n",
       "      <th>26</th>\n",
       "      <td>50</td>\n",
       "      <td>17</td>\n",
       "      <td>-33</td>\n",
       "      <td>33</td>\n",
       "      <td>27.0</td>\n",
       "    </tr>\n",
       "    <tr>\n",
       "      <th>27</th>\n",
       "      <td>48</td>\n",
       "      <td>13</td>\n",
       "      <td>-35</td>\n",
       "      <td>35</td>\n",
       "      <td>28.0</td>\n",
       "    </tr>\n",
       "    <tr>\n",
       "      <th>28</th>\n",
       "      <td>52</td>\n",
       "      <td>16</td>\n",
       "      <td>-36</td>\n",
       "      <td>36</td>\n",
       "      <td>29.0</td>\n",
       "    </tr>\n",
       "    <tr>\n",
       "      <th>29</th>\n",
       "      <td>37</td>\n",
       "      <td>0</td>\n",
       "      <td>-37</td>\n",
       "      <td>37</td>\n",
       "      <td>30.0</td>\n",
       "    </tr>\n",
       "    <tr>\n",
       "      <th>30</th>\n",
       "      <td>49</td>\n",
       "      <td>9</td>\n",
       "      <td>-40</td>\n",
       "      <td>40</td>\n",
       "      <td>31.5</td>\n",
       "    </tr>\n",
       "    <tr>\n",
       "      <th>31</th>\n",
       "      <td>49</td>\n",
       "      <td>9</td>\n",
       "      <td>-40</td>\n",
       "      <td>40</td>\n",
       "      <td>31.5</td>\n",
       "    </tr>\n",
       "    <tr>\n",
       "      <th>32</th>\n",
       "      <td>49</td>\n",
       "      <td>6</td>\n",
       "      <td>-43</td>\n",
       "      <td>43</td>\n",
       "      <td>33.0</td>\n",
       "    </tr>\n",
       "    <tr>\n",
       "      <th>33</th>\n",
       "      <td>50</td>\n",
       "      <td>0</td>\n",
       "      <td>-50</td>\n",
       "      <td>50</td>\n",
       "      <td>34.0</td>\n",
       "    </tr>\n",
       "    <tr>\n",
       "      <th>34</th>\n",
       "      <td>55</td>\n",
       "      <td>4</td>\n",
       "      <td>-51</td>\n",
       "      <td>51</td>\n",
       "      <td>35.0</td>\n",
       "    </tr>\n",
       "  </tbody>\n",
       "</table>\n",
       "</div>"
      ],
      "text/plain": [
       "    Antes  Depois  Dif  |dif|  Posto\n",
       "0      13      14    1      1    1.5\n",
       "1      17      16   -1      1    1.5\n",
       "2      17      19    2      2    3.0\n",
       "3      12      16    4      4    4.5\n",
       "4      14      18    4      4    4.5\n",
       "5      22      17   -5      5    6.0\n",
       "6      21      13   -8      8    7.0\n",
       "7      23      14   -9      9    8.5\n",
       "8      10      19    9      9    8.5\n",
       "9      15       4  -11     11   10.0\n",
       "10     24      12  -12     12   11.5\n",
       "11     21       9  -12     12   11.5\n",
       "12     15       2  -13     13   13.0\n",
       "13     28      11  -17     17   15.0\n",
       "14     25       8  -17     17   15.0\n",
       "15     29      12  -17     17   15.0\n",
       "16     36      15  -21     21   17.0\n",
       "17     22       0  -22     22   18.0\n",
       "18     41      18  -23     23   19.5\n",
       "19     39      16  -23     23   19.5\n",
       "20     24       0  -24     24   21.5\n",
       "21     40      16  -24     24   21.5\n",
       "22     46      17  -29     29   24.0\n",
       "23     39      10  -29     29   24.0\n",
       "24     31       2  -29     29   24.0\n",
       "25     52      20  -32     32   26.0\n",
       "26     50      17  -33     33   27.0\n",
       "27     48      13  -35     35   28.0\n",
       "28     52      16  -36     36   29.0\n",
       "29     37       0  -37     37   30.0\n",
       "30     49       9  -40     40   31.5\n",
       "31     49       9  -40     40   31.5\n",
       "32     49       6  -43     43   33.0\n",
       "33     50       0  -50     50   34.0\n",
       "34     55       4  -51     51   35.0"
      ]
     },
     "execution_count": 64,
     "metadata": {},
     "output_type": "execute_result"
    }
   ],
   "source": [
    "fumo = fumo.merge(posto, left_on='|dif|', right_on='|dif|', how = 'left')\n",
    "fumo"
   ]
  },
  {
   "cell_type": "code",
   "execution_count": 65,
   "metadata": {
    "colab": {
     "base_uri": "https://localhost:8080/",
     "height": 1134
    },
    "colab_type": "code",
    "id": "R2Nyk4E_os77",
    "outputId": "e22a2377-88b8-4b5b-e901-ddd8b04cab75"
   },
   "outputs": [
    {
     "data": {
      "text/html": [
       "<div>\n",
       "<style scoped>\n",
       "    .dataframe tbody tr th:only-of-type {\n",
       "        vertical-align: middle;\n",
       "    }\n",
       "\n",
       "    .dataframe tbody tr th {\n",
       "        vertical-align: top;\n",
       "    }\n",
       "\n",
       "    .dataframe thead th {\n",
       "        text-align: right;\n",
       "    }\n",
       "</style>\n",
       "<table border=\"1\" class=\"dataframe\">\n",
       "  <thead>\n",
       "    <tr style=\"text-align: right;\">\n",
       "      <th></th>\n",
       "      <th>Antes</th>\n",
       "      <th>Depois</th>\n",
       "      <th>Dif</th>\n",
       "      <th>|dif|</th>\n",
       "      <th>Posto</th>\n",
       "      <th>Posto (+)</th>\n",
       "    </tr>\n",
       "  </thead>\n",
       "  <tbody>\n",
       "    <tr>\n",
       "      <th>0</th>\n",
       "      <td>13</td>\n",
       "      <td>14</td>\n",
       "      <td>1</td>\n",
       "      <td>1</td>\n",
       "      <td>1.5</td>\n",
       "      <td>1.5</td>\n",
       "    </tr>\n",
       "    <tr>\n",
       "      <th>1</th>\n",
       "      <td>17</td>\n",
       "      <td>16</td>\n",
       "      <td>-1</td>\n",
       "      <td>1</td>\n",
       "      <td>1.5</td>\n",
       "      <td>0.0</td>\n",
       "    </tr>\n",
       "    <tr>\n",
       "      <th>2</th>\n",
       "      <td>17</td>\n",
       "      <td>19</td>\n",
       "      <td>2</td>\n",
       "      <td>2</td>\n",
       "      <td>3.0</td>\n",
       "      <td>3.0</td>\n",
       "    </tr>\n",
       "    <tr>\n",
       "      <th>3</th>\n",
       "      <td>12</td>\n",
       "      <td>16</td>\n",
       "      <td>4</td>\n",
       "      <td>4</td>\n",
       "      <td>4.5</td>\n",
       "      <td>4.5</td>\n",
       "    </tr>\n",
       "    <tr>\n",
       "      <th>4</th>\n",
       "      <td>14</td>\n",
       "      <td>18</td>\n",
       "      <td>4</td>\n",
       "      <td>4</td>\n",
       "      <td>4.5</td>\n",
       "      <td>4.5</td>\n",
       "    </tr>\n",
       "    <tr>\n",
       "      <th>5</th>\n",
       "      <td>22</td>\n",
       "      <td>17</td>\n",
       "      <td>-5</td>\n",
       "      <td>5</td>\n",
       "      <td>6.0</td>\n",
       "      <td>0.0</td>\n",
       "    </tr>\n",
       "    <tr>\n",
       "      <th>6</th>\n",
       "      <td>21</td>\n",
       "      <td>13</td>\n",
       "      <td>-8</td>\n",
       "      <td>8</td>\n",
       "      <td>7.0</td>\n",
       "      <td>0.0</td>\n",
       "    </tr>\n",
       "    <tr>\n",
       "      <th>7</th>\n",
       "      <td>23</td>\n",
       "      <td>14</td>\n",
       "      <td>-9</td>\n",
       "      <td>9</td>\n",
       "      <td>8.5</td>\n",
       "      <td>0.0</td>\n",
       "    </tr>\n",
       "    <tr>\n",
       "      <th>8</th>\n",
       "      <td>10</td>\n",
       "      <td>19</td>\n",
       "      <td>9</td>\n",
       "      <td>9</td>\n",
       "      <td>8.5</td>\n",
       "      <td>8.5</td>\n",
       "    </tr>\n",
       "    <tr>\n",
       "      <th>9</th>\n",
       "      <td>15</td>\n",
       "      <td>4</td>\n",
       "      <td>-11</td>\n",
       "      <td>11</td>\n",
       "      <td>10.0</td>\n",
       "      <td>0.0</td>\n",
       "    </tr>\n",
       "    <tr>\n",
       "      <th>10</th>\n",
       "      <td>24</td>\n",
       "      <td>12</td>\n",
       "      <td>-12</td>\n",
       "      <td>12</td>\n",
       "      <td>11.5</td>\n",
       "      <td>0.0</td>\n",
       "    </tr>\n",
       "    <tr>\n",
       "      <th>11</th>\n",
       "      <td>21</td>\n",
       "      <td>9</td>\n",
       "      <td>-12</td>\n",
       "      <td>12</td>\n",
       "      <td>11.5</td>\n",
       "      <td>0.0</td>\n",
       "    </tr>\n",
       "    <tr>\n",
       "      <th>12</th>\n",
       "      <td>15</td>\n",
       "      <td>2</td>\n",
       "      <td>-13</td>\n",
       "      <td>13</td>\n",
       "      <td>13.0</td>\n",
       "      <td>0.0</td>\n",
       "    </tr>\n",
       "    <tr>\n",
       "      <th>13</th>\n",
       "      <td>28</td>\n",
       "      <td>11</td>\n",
       "      <td>-17</td>\n",
       "      <td>17</td>\n",
       "      <td>15.0</td>\n",
       "      <td>0.0</td>\n",
       "    </tr>\n",
       "    <tr>\n",
       "      <th>14</th>\n",
       "      <td>25</td>\n",
       "      <td>8</td>\n",
       "      <td>-17</td>\n",
       "      <td>17</td>\n",
       "      <td>15.0</td>\n",
       "      <td>0.0</td>\n",
       "    </tr>\n",
       "    <tr>\n",
       "      <th>15</th>\n",
       "      <td>29</td>\n",
       "      <td>12</td>\n",
       "      <td>-17</td>\n",
       "      <td>17</td>\n",
       "      <td>15.0</td>\n",
       "      <td>0.0</td>\n",
       "    </tr>\n",
       "    <tr>\n",
       "      <th>16</th>\n",
       "      <td>36</td>\n",
       "      <td>15</td>\n",
       "      <td>-21</td>\n",
       "      <td>21</td>\n",
       "      <td>17.0</td>\n",
       "      <td>0.0</td>\n",
       "    </tr>\n",
       "    <tr>\n",
       "      <th>17</th>\n",
       "      <td>22</td>\n",
       "      <td>0</td>\n",
       "      <td>-22</td>\n",
       "      <td>22</td>\n",
       "      <td>18.0</td>\n",
       "      <td>0.0</td>\n",
       "    </tr>\n",
       "    <tr>\n",
       "      <th>18</th>\n",
       "      <td>41</td>\n",
       "      <td>18</td>\n",
       "      <td>-23</td>\n",
       "      <td>23</td>\n",
       "      <td>19.5</td>\n",
       "      <td>0.0</td>\n",
       "    </tr>\n",
       "    <tr>\n",
       "      <th>19</th>\n",
       "      <td>39</td>\n",
       "      <td>16</td>\n",
       "      <td>-23</td>\n",
       "      <td>23</td>\n",
       "      <td>19.5</td>\n",
       "      <td>0.0</td>\n",
       "    </tr>\n",
       "    <tr>\n",
       "      <th>20</th>\n",
       "      <td>24</td>\n",
       "      <td>0</td>\n",
       "      <td>-24</td>\n",
       "      <td>24</td>\n",
       "      <td>21.5</td>\n",
       "      <td>0.0</td>\n",
       "    </tr>\n",
       "    <tr>\n",
       "      <th>21</th>\n",
       "      <td>40</td>\n",
       "      <td>16</td>\n",
       "      <td>-24</td>\n",
       "      <td>24</td>\n",
       "      <td>21.5</td>\n",
       "      <td>0.0</td>\n",
       "    </tr>\n",
       "    <tr>\n",
       "      <th>22</th>\n",
       "      <td>46</td>\n",
       "      <td>17</td>\n",
       "      <td>-29</td>\n",
       "      <td>29</td>\n",
       "      <td>24.0</td>\n",
       "      <td>0.0</td>\n",
       "    </tr>\n",
       "    <tr>\n",
       "      <th>23</th>\n",
       "      <td>39</td>\n",
       "      <td>10</td>\n",
       "      <td>-29</td>\n",
       "      <td>29</td>\n",
       "      <td>24.0</td>\n",
       "      <td>0.0</td>\n",
       "    </tr>\n",
       "    <tr>\n",
       "      <th>24</th>\n",
       "      <td>31</td>\n",
       "      <td>2</td>\n",
       "      <td>-29</td>\n",
       "      <td>29</td>\n",
       "      <td>24.0</td>\n",
       "      <td>0.0</td>\n",
       "    </tr>\n",
       "    <tr>\n",
       "      <th>25</th>\n",
       "      <td>52</td>\n",
       "      <td>20</td>\n",
       "      <td>-32</td>\n",
       "      <td>32</td>\n",
       "      <td>26.0</td>\n",
       "      <td>0.0</td>\n",
       "    </tr>\n",
       "    <tr>\n",
       "      <th>26</th>\n",
       "      <td>50</td>\n",
       "      <td>17</td>\n",
       "      <td>-33</td>\n",
       "      <td>33</td>\n",
       "      <td>27.0</td>\n",
       "      <td>0.0</td>\n",
       "    </tr>\n",
       "    <tr>\n",
       "      <th>27</th>\n",
       "      <td>48</td>\n",
       "      <td>13</td>\n",
       "      <td>-35</td>\n",
       "      <td>35</td>\n",
       "      <td>28.0</td>\n",
       "      <td>0.0</td>\n",
       "    </tr>\n",
       "    <tr>\n",
       "      <th>28</th>\n",
       "      <td>52</td>\n",
       "      <td>16</td>\n",
       "      <td>-36</td>\n",
       "      <td>36</td>\n",
       "      <td>29.0</td>\n",
       "      <td>0.0</td>\n",
       "    </tr>\n",
       "    <tr>\n",
       "      <th>29</th>\n",
       "      <td>37</td>\n",
       "      <td>0</td>\n",
       "      <td>-37</td>\n",
       "      <td>37</td>\n",
       "      <td>30.0</td>\n",
       "      <td>0.0</td>\n",
       "    </tr>\n",
       "    <tr>\n",
       "      <th>30</th>\n",
       "      <td>49</td>\n",
       "      <td>9</td>\n",
       "      <td>-40</td>\n",
       "      <td>40</td>\n",
       "      <td>31.5</td>\n",
       "      <td>0.0</td>\n",
       "    </tr>\n",
       "    <tr>\n",
       "      <th>31</th>\n",
       "      <td>49</td>\n",
       "      <td>9</td>\n",
       "      <td>-40</td>\n",
       "      <td>40</td>\n",
       "      <td>31.5</td>\n",
       "      <td>0.0</td>\n",
       "    </tr>\n",
       "    <tr>\n",
       "      <th>32</th>\n",
       "      <td>49</td>\n",
       "      <td>6</td>\n",
       "      <td>-43</td>\n",
       "      <td>43</td>\n",
       "      <td>33.0</td>\n",
       "      <td>0.0</td>\n",
       "    </tr>\n",
       "    <tr>\n",
       "      <th>33</th>\n",
       "      <td>50</td>\n",
       "      <td>0</td>\n",
       "      <td>-50</td>\n",
       "      <td>50</td>\n",
       "      <td>34.0</td>\n",
       "      <td>0.0</td>\n",
       "    </tr>\n",
       "    <tr>\n",
       "      <th>34</th>\n",
       "      <td>55</td>\n",
       "      <td>4</td>\n",
       "      <td>-51</td>\n",
       "      <td>51</td>\n",
       "      <td>35.0</td>\n",
       "      <td>0.0</td>\n",
       "    </tr>\n",
       "  </tbody>\n",
       "</table>\n",
       "</div>"
      ],
      "text/plain": [
       "    Antes  Depois  Dif  |dif|  Posto  Posto (+)\n",
       "0      13      14    1      1    1.5        1.5\n",
       "1      17      16   -1      1    1.5        0.0\n",
       "2      17      19    2      2    3.0        3.0\n",
       "3      12      16    4      4    4.5        4.5\n",
       "4      14      18    4      4    4.5        4.5\n",
       "5      22      17   -5      5    6.0        0.0\n",
       "6      21      13   -8      8    7.0        0.0\n",
       "7      23      14   -9      9    8.5        0.0\n",
       "8      10      19    9      9    8.5        8.5\n",
       "9      15       4  -11     11   10.0        0.0\n",
       "10     24      12  -12     12   11.5        0.0\n",
       "11     21       9  -12     12   11.5        0.0\n",
       "12     15       2  -13     13   13.0        0.0\n",
       "13     28      11  -17     17   15.0        0.0\n",
       "14     25       8  -17     17   15.0        0.0\n",
       "15     29      12  -17     17   15.0        0.0\n",
       "16     36      15  -21     21   17.0        0.0\n",
       "17     22       0  -22     22   18.0        0.0\n",
       "18     41      18  -23     23   19.5        0.0\n",
       "19     39      16  -23     23   19.5        0.0\n",
       "20     24       0  -24     24   21.5        0.0\n",
       "21     40      16  -24     24   21.5        0.0\n",
       "22     46      17  -29     29   24.0        0.0\n",
       "23     39      10  -29     29   24.0        0.0\n",
       "24     31       2  -29     29   24.0        0.0\n",
       "25     52      20  -32     32   26.0        0.0\n",
       "26     50      17  -33     33   27.0        0.0\n",
       "27     48      13  -35     35   28.0        0.0\n",
       "28     52      16  -36     36   29.0        0.0\n",
       "29     37       0  -37     37   30.0        0.0\n",
       "30     49       9  -40     40   31.5        0.0\n",
       "31     49       9  -40     40   31.5        0.0\n",
       "32     49       6  -43     43   33.0        0.0\n",
       "33     50       0  -50     50   34.0        0.0\n",
       "34     55       4  -51     51   35.0        0.0"
      ]
     },
     "execution_count": 65,
     "metadata": {},
     "output_type": "execute_result"
    }
   ],
   "source": [
    "fumo['Posto (+)'] = fumo.apply(lambda x: x.Posto if x.Dif > 0 else 0, axis = 1)\n",
    "fumo"
   ]
  },
  {
   "cell_type": "code",
   "execution_count": 66,
   "metadata": {
    "colab": {
     "base_uri": "https://localhost:8080/",
     "height": 1134
    },
    "colab_type": "code",
    "id": "PoL2W6c7os4d",
    "outputId": "8d786d84-776b-4e77-b3a9-b783ed1799dd"
   },
   "outputs": [
    {
     "data": {
      "text/html": [
       "<div>\n",
       "<style scoped>\n",
       "    .dataframe tbody tr th:only-of-type {\n",
       "        vertical-align: middle;\n",
       "    }\n",
       "\n",
       "    .dataframe tbody tr th {\n",
       "        vertical-align: top;\n",
       "    }\n",
       "\n",
       "    .dataframe thead th {\n",
       "        text-align: right;\n",
       "    }\n",
       "</style>\n",
       "<table border=\"1\" class=\"dataframe\">\n",
       "  <thead>\n",
       "    <tr style=\"text-align: right;\">\n",
       "      <th></th>\n",
       "      <th>Antes</th>\n",
       "      <th>Depois</th>\n",
       "      <th>Dif</th>\n",
       "      <th>|dif|</th>\n",
       "      <th>Posto</th>\n",
       "      <th>Posto (+)</th>\n",
       "      <th>Posto (-)</th>\n",
       "    </tr>\n",
       "  </thead>\n",
       "  <tbody>\n",
       "    <tr>\n",
       "      <th>0</th>\n",
       "      <td>13</td>\n",
       "      <td>14</td>\n",
       "      <td>1</td>\n",
       "      <td>1</td>\n",
       "      <td>1.5</td>\n",
       "      <td>1.5</td>\n",
       "      <td>0.0</td>\n",
       "    </tr>\n",
       "    <tr>\n",
       "      <th>1</th>\n",
       "      <td>17</td>\n",
       "      <td>16</td>\n",
       "      <td>-1</td>\n",
       "      <td>1</td>\n",
       "      <td>1.5</td>\n",
       "      <td>0.0</td>\n",
       "      <td>1.5</td>\n",
       "    </tr>\n",
       "    <tr>\n",
       "      <th>2</th>\n",
       "      <td>17</td>\n",
       "      <td>19</td>\n",
       "      <td>2</td>\n",
       "      <td>2</td>\n",
       "      <td>3.0</td>\n",
       "      <td>3.0</td>\n",
       "      <td>0.0</td>\n",
       "    </tr>\n",
       "    <tr>\n",
       "      <th>3</th>\n",
       "      <td>12</td>\n",
       "      <td>16</td>\n",
       "      <td>4</td>\n",
       "      <td>4</td>\n",
       "      <td>4.5</td>\n",
       "      <td>4.5</td>\n",
       "      <td>0.0</td>\n",
       "    </tr>\n",
       "    <tr>\n",
       "      <th>4</th>\n",
       "      <td>14</td>\n",
       "      <td>18</td>\n",
       "      <td>4</td>\n",
       "      <td>4</td>\n",
       "      <td>4.5</td>\n",
       "      <td>4.5</td>\n",
       "      <td>0.0</td>\n",
       "    </tr>\n",
       "    <tr>\n",
       "      <th>5</th>\n",
       "      <td>22</td>\n",
       "      <td>17</td>\n",
       "      <td>-5</td>\n",
       "      <td>5</td>\n",
       "      <td>6.0</td>\n",
       "      <td>0.0</td>\n",
       "      <td>6.0</td>\n",
       "    </tr>\n",
       "    <tr>\n",
       "      <th>6</th>\n",
       "      <td>21</td>\n",
       "      <td>13</td>\n",
       "      <td>-8</td>\n",
       "      <td>8</td>\n",
       "      <td>7.0</td>\n",
       "      <td>0.0</td>\n",
       "      <td>7.0</td>\n",
       "    </tr>\n",
       "    <tr>\n",
       "      <th>7</th>\n",
       "      <td>23</td>\n",
       "      <td>14</td>\n",
       "      <td>-9</td>\n",
       "      <td>9</td>\n",
       "      <td>8.5</td>\n",
       "      <td>0.0</td>\n",
       "      <td>8.5</td>\n",
       "    </tr>\n",
       "    <tr>\n",
       "      <th>8</th>\n",
       "      <td>10</td>\n",
       "      <td>19</td>\n",
       "      <td>9</td>\n",
       "      <td>9</td>\n",
       "      <td>8.5</td>\n",
       "      <td>8.5</td>\n",
       "      <td>0.0</td>\n",
       "    </tr>\n",
       "    <tr>\n",
       "      <th>9</th>\n",
       "      <td>15</td>\n",
       "      <td>4</td>\n",
       "      <td>-11</td>\n",
       "      <td>11</td>\n",
       "      <td>10.0</td>\n",
       "      <td>0.0</td>\n",
       "      <td>10.0</td>\n",
       "    </tr>\n",
       "    <tr>\n",
       "      <th>10</th>\n",
       "      <td>24</td>\n",
       "      <td>12</td>\n",
       "      <td>-12</td>\n",
       "      <td>12</td>\n",
       "      <td>11.5</td>\n",
       "      <td>0.0</td>\n",
       "      <td>11.5</td>\n",
       "    </tr>\n",
       "    <tr>\n",
       "      <th>11</th>\n",
       "      <td>21</td>\n",
       "      <td>9</td>\n",
       "      <td>-12</td>\n",
       "      <td>12</td>\n",
       "      <td>11.5</td>\n",
       "      <td>0.0</td>\n",
       "      <td>11.5</td>\n",
       "    </tr>\n",
       "    <tr>\n",
       "      <th>12</th>\n",
       "      <td>15</td>\n",
       "      <td>2</td>\n",
       "      <td>-13</td>\n",
       "      <td>13</td>\n",
       "      <td>13.0</td>\n",
       "      <td>0.0</td>\n",
       "      <td>13.0</td>\n",
       "    </tr>\n",
       "    <tr>\n",
       "      <th>13</th>\n",
       "      <td>28</td>\n",
       "      <td>11</td>\n",
       "      <td>-17</td>\n",
       "      <td>17</td>\n",
       "      <td>15.0</td>\n",
       "      <td>0.0</td>\n",
       "      <td>15.0</td>\n",
       "    </tr>\n",
       "    <tr>\n",
       "      <th>14</th>\n",
       "      <td>25</td>\n",
       "      <td>8</td>\n",
       "      <td>-17</td>\n",
       "      <td>17</td>\n",
       "      <td>15.0</td>\n",
       "      <td>0.0</td>\n",
       "      <td>15.0</td>\n",
       "    </tr>\n",
       "    <tr>\n",
       "      <th>15</th>\n",
       "      <td>29</td>\n",
       "      <td>12</td>\n",
       "      <td>-17</td>\n",
       "      <td>17</td>\n",
       "      <td>15.0</td>\n",
       "      <td>0.0</td>\n",
       "      <td>15.0</td>\n",
       "    </tr>\n",
       "    <tr>\n",
       "      <th>16</th>\n",
       "      <td>36</td>\n",
       "      <td>15</td>\n",
       "      <td>-21</td>\n",
       "      <td>21</td>\n",
       "      <td>17.0</td>\n",
       "      <td>0.0</td>\n",
       "      <td>17.0</td>\n",
       "    </tr>\n",
       "    <tr>\n",
       "      <th>17</th>\n",
       "      <td>22</td>\n",
       "      <td>0</td>\n",
       "      <td>-22</td>\n",
       "      <td>22</td>\n",
       "      <td>18.0</td>\n",
       "      <td>0.0</td>\n",
       "      <td>18.0</td>\n",
       "    </tr>\n",
       "    <tr>\n",
       "      <th>18</th>\n",
       "      <td>41</td>\n",
       "      <td>18</td>\n",
       "      <td>-23</td>\n",
       "      <td>23</td>\n",
       "      <td>19.5</td>\n",
       "      <td>0.0</td>\n",
       "      <td>19.5</td>\n",
       "    </tr>\n",
       "    <tr>\n",
       "      <th>19</th>\n",
       "      <td>39</td>\n",
       "      <td>16</td>\n",
       "      <td>-23</td>\n",
       "      <td>23</td>\n",
       "      <td>19.5</td>\n",
       "      <td>0.0</td>\n",
       "      <td>19.5</td>\n",
       "    </tr>\n",
       "    <tr>\n",
       "      <th>20</th>\n",
       "      <td>24</td>\n",
       "      <td>0</td>\n",
       "      <td>-24</td>\n",
       "      <td>24</td>\n",
       "      <td>21.5</td>\n",
       "      <td>0.0</td>\n",
       "      <td>21.5</td>\n",
       "    </tr>\n",
       "    <tr>\n",
       "      <th>21</th>\n",
       "      <td>40</td>\n",
       "      <td>16</td>\n",
       "      <td>-24</td>\n",
       "      <td>24</td>\n",
       "      <td>21.5</td>\n",
       "      <td>0.0</td>\n",
       "      <td>21.5</td>\n",
       "    </tr>\n",
       "    <tr>\n",
       "      <th>22</th>\n",
       "      <td>46</td>\n",
       "      <td>17</td>\n",
       "      <td>-29</td>\n",
       "      <td>29</td>\n",
       "      <td>24.0</td>\n",
       "      <td>0.0</td>\n",
       "      <td>24.0</td>\n",
       "    </tr>\n",
       "    <tr>\n",
       "      <th>23</th>\n",
       "      <td>39</td>\n",
       "      <td>10</td>\n",
       "      <td>-29</td>\n",
       "      <td>29</td>\n",
       "      <td>24.0</td>\n",
       "      <td>0.0</td>\n",
       "      <td>24.0</td>\n",
       "    </tr>\n",
       "    <tr>\n",
       "      <th>24</th>\n",
       "      <td>31</td>\n",
       "      <td>2</td>\n",
       "      <td>-29</td>\n",
       "      <td>29</td>\n",
       "      <td>24.0</td>\n",
       "      <td>0.0</td>\n",
       "      <td>24.0</td>\n",
       "    </tr>\n",
       "    <tr>\n",
       "      <th>25</th>\n",
       "      <td>52</td>\n",
       "      <td>20</td>\n",
       "      <td>-32</td>\n",
       "      <td>32</td>\n",
       "      <td>26.0</td>\n",
       "      <td>0.0</td>\n",
       "      <td>26.0</td>\n",
       "    </tr>\n",
       "    <tr>\n",
       "      <th>26</th>\n",
       "      <td>50</td>\n",
       "      <td>17</td>\n",
       "      <td>-33</td>\n",
       "      <td>33</td>\n",
       "      <td>27.0</td>\n",
       "      <td>0.0</td>\n",
       "      <td>27.0</td>\n",
       "    </tr>\n",
       "    <tr>\n",
       "      <th>27</th>\n",
       "      <td>48</td>\n",
       "      <td>13</td>\n",
       "      <td>-35</td>\n",
       "      <td>35</td>\n",
       "      <td>28.0</td>\n",
       "      <td>0.0</td>\n",
       "      <td>28.0</td>\n",
       "    </tr>\n",
       "    <tr>\n",
       "      <th>28</th>\n",
       "      <td>52</td>\n",
       "      <td>16</td>\n",
       "      <td>-36</td>\n",
       "      <td>36</td>\n",
       "      <td>29.0</td>\n",
       "      <td>0.0</td>\n",
       "      <td>29.0</td>\n",
       "    </tr>\n",
       "    <tr>\n",
       "      <th>29</th>\n",
       "      <td>37</td>\n",
       "      <td>0</td>\n",
       "      <td>-37</td>\n",
       "      <td>37</td>\n",
       "      <td>30.0</td>\n",
       "      <td>0.0</td>\n",
       "      <td>30.0</td>\n",
       "    </tr>\n",
       "    <tr>\n",
       "      <th>30</th>\n",
       "      <td>49</td>\n",
       "      <td>9</td>\n",
       "      <td>-40</td>\n",
       "      <td>40</td>\n",
       "      <td>31.5</td>\n",
       "      <td>0.0</td>\n",
       "      <td>31.5</td>\n",
       "    </tr>\n",
       "    <tr>\n",
       "      <th>31</th>\n",
       "      <td>49</td>\n",
       "      <td>9</td>\n",
       "      <td>-40</td>\n",
       "      <td>40</td>\n",
       "      <td>31.5</td>\n",
       "      <td>0.0</td>\n",
       "      <td>31.5</td>\n",
       "    </tr>\n",
       "    <tr>\n",
       "      <th>32</th>\n",
       "      <td>49</td>\n",
       "      <td>6</td>\n",
       "      <td>-43</td>\n",
       "      <td>43</td>\n",
       "      <td>33.0</td>\n",
       "      <td>0.0</td>\n",
       "      <td>33.0</td>\n",
       "    </tr>\n",
       "    <tr>\n",
       "      <th>33</th>\n",
       "      <td>50</td>\n",
       "      <td>0</td>\n",
       "      <td>-50</td>\n",
       "      <td>50</td>\n",
       "      <td>34.0</td>\n",
       "      <td>0.0</td>\n",
       "      <td>34.0</td>\n",
       "    </tr>\n",
       "    <tr>\n",
       "      <th>34</th>\n",
       "      <td>55</td>\n",
       "      <td>4</td>\n",
       "      <td>-51</td>\n",
       "      <td>51</td>\n",
       "      <td>35.0</td>\n",
       "      <td>0.0</td>\n",
       "      <td>35.0</td>\n",
       "    </tr>\n",
       "  </tbody>\n",
       "</table>\n",
       "</div>"
      ],
      "text/plain": [
       "    Antes  Depois  Dif  |dif|  Posto  Posto (+)  Posto (-)\n",
       "0      13      14    1      1    1.5        1.5        0.0\n",
       "1      17      16   -1      1    1.5        0.0        1.5\n",
       "2      17      19    2      2    3.0        3.0        0.0\n",
       "3      12      16    4      4    4.5        4.5        0.0\n",
       "4      14      18    4      4    4.5        4.5        0.0\n",
       "5      22      17   -5      5    6.0        0.0        6.0\n",
       "6      21      13   -8      8    7.0        0.0        7.0\n",
       "7      23      14   -9      9    8.5        0.0        8.5\n",
       "8      10      19    9      9    8.5        8.5        0.0\n",
       "9      15       4  -11     11   10.0        0.0       10.0\n",
       "10     24      12  -12     12   11.5        0.0       11.5\n",
       "11     21       9  -12     12   11.5        0.0       11.5\n",
       "12     15       2  -13     13   13.0        0.0       13.0\n",
       "13     28      11  -17     17   15.0        0.0       15.0\n",
       "14     25       8  -17     17   15.0        0.0       15.0\n",
       "15     29      12  -17     17   15.0        0.0       15.0\n",
       "16     36      15  -21     21   17.0        0.0       17.0\n",
       "17     22       0  -22     22   18.0        0.0       18.0\n",
       "18     41      18  -23     23   19.5        0.0       19.5\n",
       "19     39      16  -23     23   19.5        0.0       19.5\n",
       "20     24       0  -24     24   21.5        0.0       21.5\n",
       "21     40      16  -24     24   21.5        0.0       21.5\n",
       "22     46      17  -29     29   24.0        0.0       24.0\n",
       "23     39      10  -29     29   24.0        0.0       24.0\n",
       "24     31       2  -29     29   24.0        0.0       24.0\n",
       "25     52      20  -32     32   26.0        0.0       26.0\n",
       "26     50      17  -33     33   27.0        0.0       27.0\n",
       "27     48      13  -35     35   28.0        0.0       28.0\n",
       "28     52      16  -36     36   29.0        0.0       29.0\n",
       "29     37       0  -37     37   30.0        0.0       30.0\n",
       "30     49       9  -40     40   31.5        0.0       31.5\n",
       "31     49       9  -40     40   31.5        0.0       31.5\n",
       "32     49       6  -43     43   33.0        0.0       33.0\n",
       "33     50       0  -50     50   34.0        0.0       34.0\n",
       "34     55       4  -51     51   35.0        0.0       35.0"
      ]
     },
     "execution_count": 66,
     "metadata": {},
     "output_type": "execute_result"
    }
   ],
   "source": [
    "fumo['Posto (-)'] = fumo.apply(lambda x: x.Posto if x.Dif < 0 else 0, axis = 1)\n",
    "fumo"
   ]
  },
  {
   "cell_type": "code",
   "execution_count": 67,
   "metadata": {
    "colab": {
     "base_uri": "https://localhost:8080/",
     "height": 1134
    },
    "colab_type": "code",
    "id": "kIu3BKAwos0z",
    "outputId": "df603288-73fc-482a-d4ea-4cd050b93a03"
   },
   "outputs": [
    {
     "data": {
      "text/html": [
       "<div>\n",
       "<style scoped>\n",
       "    .dataframe tbody tr th:only-of-type {\n",
       "        vertical-align: middle;\n",
       "    }\n",
       "\n",
       "    .dataframe tbody tr th {\n",
       "        vertical-align: top;\n",
       "    }\n",
       "\n",
       "    .dataframe thead th {\n",
       "        text-align: right;\n",
       "    }\n",
       "</style>\n",
       "<table border=\"1\" class=\"dataframe\">\n",
       "  <thead>\n",
       "    <tr style=\"text-align: right;\">\n",
       "      <th></th>\n",
       "      <th>Antes</th>\n",
       "      <th>Depois</th>\n",
       "      <th>Dif</th>\n",
       "      <th>|dif|</th>\n",
       "      <th>Posto (+)</th>\n",
       "      <th>Posto (-)</th>\n",
       "    </tr>\n",
       "  </thead>\n",
       "  <tbody>\n",
       "    <tr>\n",
       "      <th>0</th>\n",
       "      <td>13</td>\n",
       "      <td>14</td>\n",
       "      <td>1</td>\n",
       "      <td>1</td>\n",
       "      <td>1.5</td>\n",
       "      <td>0.0</td>\n",
       "    </tr>\n",
       "    <tr>\n",
       "      <th>1</th>\n",
       "      <td>17</td>\n",
       "      <td>16</td>\n",
       "      <td>-1</td>\n",
       "      <td>1</td>\n",
       "      <td>0.0</td>\n",
       "      <td>1.5</td>\n",
       "    </tr>\n",
       "    <tr>\n",
       "      <th>2</th>\n",
       "      <td>17</td>\n",
       "      <td>19</td>\n",
       "      <td>2</td>\n",
       "      <td>2</td>\n",
       "      <td>3.0</td>\n",
       "      <td>0.0</td>\n",
       "    </tr>\n",
       "    <tr>\n",
       "      <th>3</th>\n",
       "      <td>12</td>\n",
       "      <td>16</td>\n",
       "      <td>4</td>\n",
       "      <td>4</td>\n",
       "      <td>4.5</td>\n",
       "      <td>0.0</td>\n",
       "    </tr>\n",
       "    <tr>\n",
       "      <th>4</th>\n",
       "      <td>14</td>\n",
       "      <td>18</td>\n",
       "      <td>4</td>\n",
       "      <td>4</td>\n",
       "      <td>4.5</td>\n",
       "      <td>0.0</td>\n",
       "    </tr>\n",
       "    <tr>\n",
       "      <th>5</th>\n",
       "      <td>22</td>\n",
       "      <td>17</td>\n",
       "      <td>-5</td>\n",
       "      <td>5</td>\n",
       "      <td>0.0</td>\n",
       "      <td>6.0</td>\n",
       "    </tr>\n",
       "    <tr>\n",
       "      <th>6</th>\n",
       "      <td>21</td>\n",
       "      <td>13</td>\n",
       "      <td>-8</td>\n",
       "      <td>8</td>\n",
       "      <td>0.0</td>\n",
       "      <td>7.0</td>\n",
       "    </tr>\n",
       "    <tr>\n",
       "      <th>7</th>\n",
       "      <td>23</td>\n",
       "      <td>14</td>\n",
       "      <td>-9</td>\n",
       "      <td>9</td>\n",
       "      <td>0.0</td>\n",
       "      <td>8.5</td>\n",
       "    </tr>\n",
       "    <tr>\n",
       "      <th>8</th>\n",
       "      <td>10</td>\n",
       "      <td>19</td>\n",
       "      <td>9</td>\n",
       "      <td>9</td>\n",
       "      <td>8.5</td>\n",
       "      <td>0.0</td>\n",
       "    </tr>\n",
       "    <tr>\n",
       "      <th>9</th>\n",
       "      <td>15</td>\n",
       "      <td>4</td>\n",
       "      <td>-11</td>\n",
       "      <td>11</td>\n",
       "      <td>0.0</td>\n",
       "      <td>10.0</td>\n",
       "    </tr>\n",
       "    <tr>\n",
       "      <th>10</th>\n",
       "      <td>24</td>\n",
       "      <td>12</td>\n",
       "      <td>-12</td>\n",
       "      <td>12</td>\n",
       "      <td>0.0</td>\n",
       "      <td>11.5</td>\n",
       "    </tr>\n",
       "    <tr>\n",
       "      <th>11</th>\n",
       "      <td>21</td>\n",
       "      <td>9</td>\n",
       "      <td>-12</td>\n",
       "      <td>12</td>\n",
       "      <td>0.0</td>\n",
       "      <td>11.5</td>\n",
       "    </tr>\n",
       "    <tr>\n",
       "      <th>12</th>\n",
       "      <td>15</td>\n",
       "      <td>2</td>\n",
       "      <td>-13</td>\n",
       "      <td>13</td>\n",
       "      <td>0.0</td>\n",
       "      <td>13.0</td>\n",
       "    </tr>\n",
       "    <tr>\n",
       "      <th>13</th>\n",
       "      <td>28</td>\n",
       "      <td>11</td>\n",
       "      <td>-17</td>\n",
       "      <td>17</td>\n",
       "      <td>0.0</td>\n",
       "      <td>15.0</td>\n",
       "    </tr>\n",
       "    <tr>\n",
       "      <th>14</th>\n",
       "      <td>25</td>\n",
       "      <td>8</td>\n",
       "      <td>-17</td>\n",
       "      <td>17</td>\n",
       "      <td>0.0</td>\n",
       "      <td>15.0</td>\n",
       "    </tr>\n",
       "    <tr>\n",
       "      <th>15</th>\n",
       "      <td>29</td>\n",
       "      <td>12</td>\n",
       "      <td>-17</td>\n",
       "      <td>17</td>\n",
       "      <td>0.0</td>\n",
       "      <td>15.0</td>\n",
       "    </tr>\n",
       "    <tr>\n",
       "      <th>16</th>\n",
       "      <td>36</td>\n",
       "      <td>15</td>\n",
       "      <td>-21</td>\n",
       "      <td>21</td>\n",
       "      <td>0.0</td>\n",
       "      <td>17.0</td>\n",
       "    </tr>\n",
       "    <tr>\n",
       "      <th>17</th>\n",
       "      <td>22</td>\n",
       "      <td>0</td>\n",
       "      <td>-22</td>\n",
       "      <td>22</td>\n",
       "      <td>0.0</td>\n",
       "      <td>18.0</td>\n",
       "    </tr>\n",
       "    <tr>\n",
       "      <th>18</th>\n",
       "      <td>41</td>\n",
       "      <td>18</td>\n",
       "      <td>-23</td>\n",
       "      <td>23</td>\n",
       "      <td>0.0</td>\n",
       "      <td>19.5</td>\n",
       "    </tr>\n",
       "    <tr>\n",
       "      <th>19</th>\n",
       "      <td>39</td>\n",
       "      <td>16</td>\n",
       "      <td>-23</td>\n",
       "      <td>23</td>\n",
       "      <td>0.0</td>\n",
       "      <td>19.5</td>\n",
       "    </tr>\n",
       "    <tr>\n",
       "      <th>20</th>\n",
       "      <td>24</td>\n",
       "      <td>0</td>\n",
       "      <td>-24</td>\n",
       "      <td>24</td>\n",
       "      <td>0.0</td>\n",
       "      <td>21.5</td>\n",
       "    </tr>\n",
       "    <tr>\n",
       "      <th>21</th>\n",
       "      <td>40</td>\n",
       "      <td>16</td>\n",
       "      <td>-24</td>\n",
       "      <td>24</td>\n",
       "      <td>0.0</td>\n",
       "      <td>21.5</td>\n",
       "    </tr>\n",
       "    <tr>\n",
       "      <th>22</th>\n",
       "      <td>46</td>\n",
       "      <td>17</td>\n",
       "      <td>-29</td>\n",
       "      <td>29</td>\n",
       "      <td>0.0</td>\n",
       "      <td>24.0</td>\n",
       "    </tr>\n",
       "    <tr>\n",
       "      <th>23</th>\n",
       "      <td>39</td>\n",
       "      <td>10</td>\n",
       "      <td>-29</td>\n",
       "      <td>29</td>\n",
       "      <td>0.0</td>\n",
       "      <td>24.0</td>\n",
       "    </tr>\n",
       "    <tr>\n",
       "      <th>24</th>\n",
       "      <td>31</td>\n",
       "      <td>2</td>\n",
       "      <td>-29</td>\n",
       "      <td>29</td>\n",
       "      <td>0.0</td>\n",
       "      <td>24.0</td>\n",
       "    </tr>\n",
       "    <tr>\n",
       "      <th>25</th>\n",
       "      <td>52</td>\n",
       "      <td>20</td>\n",
       "      <td>-32</td>\n",
       "      <td>32</td>\n",
       "      <td>0.0</td>\n",
       "      <td>26.0</td>\n",
       "    </tr>\n",
       "    <tr>\n",
       "      <th>26</th>\n",
       "      <td>50</td>\n",
       "      <td>17</td>\n",
       "      <td>-33</td>\n",
       "      <td>33</td>\n",
       "      <td>0.0</td>\n",
       "      <td>27.0</td>\n",
       "    </tr>\n",
       "    <tr>\n",
       "      <th>27</th>\n",
       "      <td>48</td>\n",
       "      <td>13</td>\n",
       "      <td>-35</td>\n",
       "      <td>35</td>\n",
       "      <td>0.0</td>\n",
       "      <td>28.0</td>\n",
       "    </tr>\n",
       "    <tr>\n",
       "      <th>28</th>\n",
       "      <td>52</td>\n",
       "      <td>16</td>\n",
       "      <td>-36</td>\n",
       "      <td>36</td>\n",
       "      <td>0.0</td>\n",
       "      <td>29.0</td>\n",
       "    </tr>\n",
       "    <tr>\n",
       "      <th>29</th>\n",
       "      <td>37</td>\n",
       "      <td>0</td>\n",
       "      <td>-37</td>\n",
       "      <td>37</td>\n",
       "      <td>0.0</td>\n",
       "      <td>30.0</td>\n",
       "    </tr>\n",
       "    <tr>\n",
       "      <th>30</th>\n",
       "      <td>49</td>\n",
       "      <td>9</td>\n",
       "      <td>-40</td>\n",
       "      <td>40</td>\n",
       "      <td>0.0</td>\n",
       "      <td>31.5</td>\n",
       "    </tr>\n",
       "    <tr>\n",
       "      <th>31</th>\n",
       "      <td>49</td>\n",
       "      <td>9</td>\n",
       "      <td>-40</td>\n",
       "      <td>40</td>\n",
       "      <td>0.0</td>\n",
       "      <td>31.5</td>\n",
       "    </tr>\n",
       "    <tr>\n",
       "      <th>32</th>\n",
       "      <td>49</td>\n",
       "      <td>6</td>\n",
       "      <td>-43</td>\n",
       "      <td>43</td>\n",
       "      <td>0.0</td>\n",
       "      <td>33.0</td>\n",
       "    </tr>\n",
       "    <tr>\n",
       "      <th>33</th>\n",
       "      <td>50</td>\n",
       "      <td>0</td>\n",
       "      <td>-50</td>\n",
       "      <td>50</td>\n",
       "      <td>0.0</td>\n",
       "      <td>34.0</td>\n",
       "    </tr>\n",
       "    <tr>\n",
       "      <th>34</th>\n",
       "      <td>55</td>\n",
       "      <td>4</td>\n",
       "      <td>-51</td>\n",
       "      <td>51</td>\n",
       "      <td>0.0</td>\n",
       "      <td>35.0</td>\n",
       "    </tr>\n",
       "  </tbody>\n",
       "</table>\n",
       "</div>"
      ],
      "text/plain": [
       "    Antes  Depois  Dif  |dif|  Posto (+)  Posto (-)\n",
       "0      13      14    1      1        1.5        0.0\n",
       "1      17      16   -1      1        0.0        1.5\n",
       "2      17      19    2      2        3.0        0.0\n",
       "3      12      16    4      4        4.5        0.0\n",
       "4      14      18    4      4        4.5        0.0\n",
       "5      22      17   -5      5        0.0        6.0\n",
       "6      21      13   -8      8        0.0        7.0\n",
       "7      23      14   -9      9        0.0        8.5\n",
       "8      10      19    9      9        8.5        0.0\n",
       "9      15       4  -11     11        0.0       10.0\n",
       "10     24      12  -12     12        0.0       11.5\n",
       "11     21       9  -12     12        0.0       11.5\n",
       "12     15       2  -13     13        0.0       13.0\n",
       "13     28      11  -17     17        0.0       15.0\n",
       "14     25       8  -17     17        0.0       15.0\n",
       "15     29      12  -17     17        0.0       15.0\n",
       "16     36      15  -21     21        0.0       17.0\n",
       "17     22       0  -22     22        0.0       18.0\n",
       "18     41      18  -23     23        0.0       19.5\n",
       "19     39      16  -23     23        0.0       19.5\n",
       "20     24       0  -24     24        0.0       21.5\n",
       "21     40      16  -24     24        0.0       21.5\n",
       "22     46      17  -29     29        0.0       24.0\n",
       "23     39      10  -29     29        0.0       24.0\n",
       "24     31       2  -29     29        0.0       24.0\n",
       "25     52      20  -32     32        0.0       26.0\n",
       "26     50      17  -33     33        0.0       27.0\n",
       "27     48      13  -35     35        0.0       28.0\n",
       "28     52      16  -36     36        0.0       29.0\n",
       "29     37       0  -37     37        0.0       30.0\n",
       "30     49       9  -40     40        0.0       31.5\n",
       "31     49       9  -40     40        0.0       31.5\n",
       "32     49       6  -43     43        0.0       33.0\n",
       "33     50       0  -50     50        0.0       34.0\n",
       "34     55       4  -51     51        0.0       35.0"
      ]
     },
     "execution_count": 67,
     "metadata": {},
     "output_type": "execute_result"
    }
   ],
   "source": [
    "fumo.drop(['Posto'], axis = 1, inplace = True)\n",
    "fumo"
   ]
  },
  {
   "cell_type": "markdown",
   "metadata": {
    "colab_type": "text",
    "id": "QrhSJfAipsmh"
   },
   "source": [
    "### Obter $T$\n",
    "\n",
    "## $T$ = menor das somas de postos de mesmo sinal"
   ]
  },
  {
   "cell_type": "code",
   "execution_count": 68,
   "metadata": {
    "colab": {
     "base_uri": "https://localhost:8080/",
     "height": 35
    },
    "colab_type": "code",
    "id": "TTWy-3OQpsmh",
    "outputId": "041d1650-b553-4f7c-f4ce-03284c9f445e"
   },
   "outputs": [
    {
     "data": {
      "text/plain": [
       "22.0"
      ]
     },
     "execution_count": 68,
     "metadata": {},
     "output_type": "execute_result"
    }
   ],
   "source": [
    "T = min(fumo['Posto (+)'].sum(), fumo['Posto (-)'].sum())\n",
    "T"
   ]
  },
  {
   "cell_type": "markdown",
   "metadata": {
    "colab_type": "text",
    "id": "3y4Tn1y4psmi"
   },
   "source": [
    "### Obter $\\mu_T$\n",
    "\n",
    "# $$\\mu_T = \\frac{n(n+1)}{4}$$\n"
   ]
  },
  {
   "cell_type": "code",
   "execution_count": 69,
   "metadata": {
    "colab": {
     "base_uri": "https://localhost:8080/",
     "height": 35
    },
    "colab_type": "code",
    "id": "0KhV5ph6psmi",
    "outputId": "d5a49227-aefe-4ab2-8f96-1575e4d00a68"
   },
   "outputs": [
    {
     "data": {
      "text/plain": [
       "315.0"
      ]
     },
     "execution_count": 69,
     "metadata": {},
     "output_type": "execute_result"
    }
   ],
   "source": [
    "mu_T = (n * (n + 1)) / 4\n",
    "mu_T"
   ]
  },
  {
   "cell_type": "markdown",
   "metadata": {
    "colab_type": "text",
    "id": "ZqFb-m08psmj"
   },
   "source": [
    "### Obter $\\sigma_T$\n",
    "\n",
    "# $$\\sigma_T = \\sqrt{\\frac{n(n + 1)(2n + 1)}{24}}$$"
   ]
  },
  {
   "cell_type": "code",
   "execution_count": 70,
   "metadata": {
    "colab": {
     "base_uri": "https://localhost:8080/",
     "height": 35
    },
    "colab_type": "code",
    "id": "c6dypGFSpsmj",
    "outputId": "a56e71d7-cec3-4529-f266-b82315fa8766"
   },
   "outputs": [
    {
     "data": {
      "text/plain": [
       "61.053255441458646"
      ]
     },
     "execution_count": 70,
     "metadata": {},
     "output_type": "execute_result"
    }
   ],
   "source": [
    "sigma_T = np.sqrt((n * (n + 1) * ((2 * n) + 1)) / 24)\n",
    "sigma_T"
   ]
  },
  {
   "cell_type": "markdown",
   "metadata": {
    "colab_type": "text",
    "id": "qEk2CUKApsmk"
   },
   "source": [
    "### Obter $Z_{teste}$\n",
    "\n",
    "# $$Z = \\frac{T - \\mu_T}{\\sigma_T}$$"
   ]
  },
  {
   "cell_type": "code",
   "execution_count": 71,
   "metadata": {
    "colab": {
     "base_uri": "https://localhost:8080/",
     "height": 35
    },
    "colab_type": "code",
    "id": "KqPQgbBEpsmk",
    "outputId": "fc02c944-b662-4539-a4c4-e91f746358f3"
   },
   "outputs": [
    {
     "data": {
      "text/plain": [
       "-4.799088891843698"
      ]
     },
     "execution_count": 71,
     "metadata": {},
     "output_type": "execute_result"
    }
   ],
   "source": [
    "Z = (T - mu_T) / sigma_T\n",
    "Z"
   ]
  },
  {
   "cell_type": "markdown",
   "metadata": {
    "colab_type": "text",
    "id": "iMpU26IZpsmm"
   },
   "source": [
    "![Estatística-Teste](https://caelum-online-public.s3.amazonaws.com/1229-estatistica-parte3/01/img021.png)"
   ]
  },
  {
   "cell_type": "markdown",
   "metadata": {
    "colab_type": "text",
    "id": "XFgoaLzSpsmm"
   },
   "source": [
    "---"
   ]
  },
  {
   "cell_type": "markdown",
   "metadata": {
    "colab_type": "text",
    "id": "YYGhG-lSpsmm"
   },
   "source": [
    "### **Passo 5** - Aceitação ou rejeição da hipótese nula"
   ]
  },
  {
   "cell_type": "markdown",
   "metadata": {
    "colab_type": "text",
    "id": "pDOdx-Vqpsmm"
   },
   "source": [
    "<img src='https://caelum-online-public.s3.amazonaws.com/1229-estatistica-parte3/01/img022.png' width='80%'>"
   ]
  },
  {
   "cell_type": "markdown",
   "metadata": {
    "colab_type": "text",
    "id": "ODKOD-rkpsmm"
   },
   "source": [
    "### <font color='red'>Critério do valor crítico</font>\n",
    "\n",
    "> ### Rejeitar $H_0$ se $Z \\leq -z_{\\alpha / 2}$ ou se $Z \\geq z_{\\alpha / 2}$"
   ]
  },
  {
   "cell_type": "code",
   "execution_count": 72,
   "metadata": {
    "colab": {
     "base_uri": "https://localhost:8080/",
     "height": 35
    },
    "colab_type": "code",
    "id": "Gmp8dB6Apsmm",
    "outputId": "8311f709-2b10-477c-8410-93d6efbde833"
   },
   "outputs": [
    {
     "data": {
      "text/plain": [
       "True"
      ]
     },
     "execution_count": 72,
     "metadata": {},
     "output_type": "execute_result"
    }
   ],
   "source": [
    "Z <= -z_alpha_2"
   ]
  },
  {
   "cell_type": "code",
   "execution_count": 73,
   "metadata": {
    "colab": {
     "base_uri": "https://localhost:8080/",
     "height": 35
    },
    "colab_type": "code",
    "id": "E9jxoexkpsmn",
    "outputId": "57165249-f63d-411c-ff87-d25e1e9ee401"
   },
   "outputs": [
    {
     "data": {
      "text/plain": [
       "False"
      ]
     },
     "execution_count": 73,
     "metadata": {},
     "output_type": "execute_result"
    }
   ],
   "source": [
    "Z >= z_alpha_2"
   ]
  },
  {
   "cell_type": "markdown",
   "metadata": {
    "colab_type": "text",
    "id": "n0gtzn53psmo"
   },
   "source": [
    "### <font color='green'>Conclusão: Rejeitamos a hipótese de que não existe diferença entre os grupos, isto é, existe uma diferença entre as médias de cigarros fumados pelos pacientes antes e depois do tratamento. E como é possível verificar através das médias de cigarros fumados por dia antes (31.86) e depois (11.2) do tratamento, podemos concluir que o tratamento apresentou resultado satisfatório.</font>"
   ]
  },
  {
   "cell_type": "markdown",
   "metadata": {
    "colab_type": "text",
    "id": "8bP36mQ-psmp"
   },
   "source": [
    "### <font color='red'>Critério do valor $p$</font>\n",
    "\n",
    "> ### Rejeitar $H_0$ se o valor $p\\leq\\alpha$"
   ]
  },
  {
   "cell_type": "markdown",
   "metadata": {
    "colab_type": "text",
    "id": "H8kFeqh1psmp"
   },
   "source": [
    "https://docs.scipy.org/doc/scipy/reference/generated/scipy.stats.wilcoxon.html"
   ]
  },
  {
   "cell_type": "code",
   "execution_count": 89,
   "metadata": {
    "colab": {},
    "colab_type": "code",
    "id": "bgWrxnBmpsmp"
   },
   "outputs": [],
   "source": [
    "from scipy.stats import wilcoxon"
   ]
  },
  {
   "cell_type": "code",
   "execution_count": 93,
   "metadata": {
    "colab": {
     "base_uri": "https://localhost:8080/",
     "height": 53
    },
    "colab_type": "code",
    "id": "PsdWRoHCpsmp",
    "outputId": "c3ccd57c-5423-4d5d-b136-b84b8d627a7b"
   },
   "outputs": [
    {
     "name": "stdout",
     "output_type": "stream",
     "text": [
      "22.0\n",
      "1.584310018505865e-06\n"
     ]
    }
   ],
   "source": [
    "T, p_valor = wilcoxon(fumo.Antes, fumo.Depois)\n",
    "print(T)\n",
    "print(p_valor)"
   ]
  },
  {
   "cell_type": "code",
   "execution_count": 78,
   "metadata": {
    "colab": {
     "base_uri": "https://localhost:8080/",
     "height": 35
    },
    "colab_type": "code",
    "id": "Qk13I21vpsmq",
    "outputId": "f111c5d0-c448-40d3-f4ee-f39e7b3a3dc3",
    "scrolled": true
   },
   "outputs": [
    {
     "data": {
      "text/plain": [
       "True"
      ]
     },
     "execution_count": 78,
     "metadata": {},
     "output_type": "execute_result"
    }
   ],
   "source": [
    "p_valor <= significancia"
   ]
  },
  {
   "cell_type": "markdown",
   "metadata": {
    "colab_type": "text",
    "id": "ZGNui18Xpsms"
   },
   "source": [
    "---"
   ]
  },
  {
   "cell_type": "markdown",
   "metadata": {
    "colab_type": "text",
    "id": "sIs_74V5psms"
   },
   "source": [
    "## <font color='red'>Problema</font>"
   ]
  },
  {
   "cell_type": "markdown",
   "metadata": {
    "colab_type": "text",
    "id": "Rk4GknKUpsms"
   },
   "source": [
    "Em nosso dataset temos os rendimento dos chefes de domicílio obtidos da Pesquisa Nacional por Amostra de Domicílios - PNAD no ano de 2015. Um problema bastante conhecido em nosso país diz respeito a desigualdade de renda, principalmente entre homens e mulheres.\n",
    "\n",
    "Duas amostras aleatórias, uma de **6 homens** e outra com **8 mulheres**, foram selecionadas em nosso dataset. Com o objetivo de comprovar tal desigualdade **teste a igualdade das médias** entra estas duas amostras com um nível de **significância de 5%**."
   ]
  },
  {
   "cell_type": "markdown",
   "metadata": {
    "colab_type": "text",
    "id": "iHBuQumppsmt"
   },
   "source": [
    "## <font color=green>4.3 Teste de Mann-Whitney</font>\n",
    "### Comparação de duas populações - amostras independentes\n",
    "***"
   ]
  },
  {
   "cell_type": "markdown",
   "metadata": {
    "colab_type": "text",
    "id": "bDyY8UUPpsmt"
   },
   "source": [
    "Mann-Whitney é um teste não paramétrico utilizado para verificar se duas amostras independentes foram selecionadas a partir de populações que têm a mesma média. Por ser um teste não paramétrico, Mann-Whitney torna-se uma alternativa ao teste paramétrico de comparação de médias."
   ]
  },
  {
   "cell_type": "markdown",
   "metadata": {
    "colab_type": "text",
    "id": "DjWTAICFpsmt"
   },
   "source": [
    "### Seleção das amostras"
   ]
  },
  {
   "cell_type": "code",
   "execution_count": 100,
   "metadata": {
    "colab": {},
    "colab_type": "code",
    "id": "k_MCXHjIpsmt",
    "scrolled": true
   },
   "outputs": [],
   "source": [
    "mulheres = dados.query('Sexo == 1 and Renda > 0').sample(n = 8, random_state = 101).Renda"
   ]
  },
  {
   "cell_type": "code",
   "execution_count": 101,
   "metadata": {
    "colab": {},
    "colab_type": "code",
    "id": "whXUtsKLpsmu",
    "scrolled": true
   },
   "outputs": [],
   "source": [
    "homens = dados.query('Sexo == 0 and Renda > 0').sample(n = 6, random_state = 101).Renda"
   ]
  },
  {
   "cell_type": "markdown",
   "metadata": {
    "colab_type": "text",
    "id": "HvQY_Wwjpsmx"
   },
   "source": [
    "### Dados do problema"
   ]
  },
  {
   "cell_type": "code",
   "execution_count": 102,
   "metadata": {
    "colab": {
     "base_uri": "https://localhost:8080/",
     "height": 35
    },
    "colab_type": "code",
    "id": "3fz8oLQspsmx",
    "outputId": "31950658-033a-4680-f5fc-bd92ac3a6944"
   },
   "outputs": [
    {
     "data": {
      "text/plain": [
       "1090.75"
      ]
     },
     "execution_count": 102,
     "metadata": {},
     "output_type": "execute_result"
    }
   ],
   "source": [
    "media_amostra_M = mulheres.mean()\n",
    "media_amostra_M"
   ]
  },
  {
   "cell_type": "code",
   "execution_count": 103,
   "metadata": {
    "colab": {
     "base_uri": "https://localhost:8080/",
     "height": 35
    },
    "colab_type": "code",
    "id": "qJa9ykpJpsmz",
    "outputId": "bcf47695-839d-49f9-8f88-8acd94d0e6a4"
   },
   "outputs": [
    {
     "data": {
      "text/plain": [
       "1341.6666666666667"
      ]
     },
     "execution_count": 103,
     "metadata": {},
     "output_type": "execute_result"
    }
   ],
   "source": [
    "media_amostra_H = homens.mean()\n",
    "media_amostra_H"
   ]
  },
  {
   "cell_type": "code",
   "execution_count": 104,
   "metadata": {
    "colab": {},
    "colab_type": "code",
    "id": "9_cFuYzJpsm1"
   },
   "outputs": [],
   "source": [
    "significancia = 0.05\n",
    "confianca = 1 - significancia\n",
    "n_1 = len(homens)\n",
    "n_2 = len(mulheres)"
   ]
  },
  {
   "cell_type": "markdown",
   "metadata": {
    "colab_type": "text",
    "id": "rnHNRcb5psm1"
   },
   "source": [
    "### **Passo 1** - formulação das hipóteses $H_0$ e $H_1$\n",
    "\n",
    "#### <font color='red'>Lembre-se, a hipótese nula sempre contém a alegação de igualdade</font>"
   ]
  },
  {
   "cell_type": "markdown",
   "metadata": {
    "colab_type": "text",
    "id": "F-q66nqDpsm2"
   },
   "source": [
    "### $\\mu_m \\Rightarrow$ Média das rendas dos chefes de domicílios do sexo feminino\n",
    "### $\\mu_h \\Rightarrow$ Média das rendas dos chefes de domicílios do sexo masculino\n",
    "\n",
    "### $\n",
    "\\begin{cases}\n",
    "H_0: \\mu_m = \\mu_h\\\\\n",
    "H_1: \\mu_m < \\mu_h\n",
    "\\end{cases}\n",
    "$"
   ]
  },
  {
   "cell_type": "markdown",
   "metadata": {
    "colab_type": "text",
    "id": "-A8XaMDnpsm3"
   },
   "source": [
    "---"
   ]
  },
  {
   "cell_type": "markdown",
   "metadata": {
    "colab_type": "text",
    "id": "VhpHwyi3psm3"
   },
   "source": [
    "### **Passo 2** - escolha da distribuição amostral adequada"
   ]
  },
  {
   "cell_type": "markdown",
   "metadata": {
    "colab_type": "text",
    "id": "hh2UhSRApsm4"
   },
   "source": [
    "Deve-se optar pela distribuição **$t$ de Student**, já que nada é mencionado sobre a distribuição da população, o desvio padrão populacional é desconhecido e o número de elementos investigados é menor que 30."
   ]
  },
  {
   "cell_type": "markdown",
   "metadata": {
    "colab_type": "text",
    "id": "PP_3zdrWpsm4"
   },
   "source": [
    "---"
   ]
  },
  {
   "cell_type": "markdown",
   "metadata": {
    "colab_type": "text",
    "id": "RALoS1ddpsm4"
   },
   "source": [
    "### **Passo 3** - fixação da significância do teste ($\\alpha$)"
   ]
  },
  {
   "cell_type": "markdown",
   "metadata": {
    "colab_type": "text",
    "id": "0Ohhw-i5psm4"
   },
   "source": [
    "### Obtendo $t_{\\alpha}$"
   ]
  },
  {
   "cell_type": "code",
   "execution_count": 105,
   "metadata": {
    "colab": {
     "base_uri": "https://localhost:8080/",
     "height": 35
    },
    "colab_type": "code",
    "id": "oVNraTWypsm4",
    "outputId": "482aaf15-036b-4b5d-97eb-f3ee684dfbd9"
   },
   "outputs": [
    {
     "data": {
      "text/plain": [
       "12"
      ]
     },
     "execution_count": 105,
     "metadata": {},
     "output_type": "execute_result"
    }
   ],
   "source": [
    "graus_de_liberdade = n_1 + n_2 - 2\n",
    "graus_de_liberdade"
   ]
  },
  {
   "cell_type": "code",
   "execution_count": 106,
   "metadata": {
    "colab": {
     "base_uri": "https://localhost:8080/",
     "height": 173
    },
    "colab_type": "code",
    "id": "px40muD3psm6",
    "outputId": "aa84c7cb-6c3a-475a-ae1f-8e772e1bcb50",
    "scrolled": true
   },
   "outputs": [
    {
     "data": {
      "text/html": [
       "<div>\n",
       "<style scoped>\n",
       "    .dataframe tbody tr th:only-of-type {\n",
       "        vertical-align: middle;\n",
       "    }\n",
       "\n",
       "    .dataframe tbody tr th {\n",
       "        vertical-align: top;\n",
       "    }\n",
       "\n",
       "    .dataframe thead tr th {\n",
       "        text-align: left;\n",
       "    }\n",
       "</style>\n",
       "<table border=\"1\" class=\"dataframe\">\n",
       "  <thead>\n",
       "    <tr>\n",
       "      <th></th>\n",
       "      <th>Bicaudal</th>\n",
       "      <th>0.100</th>\n",
       "      <th>0.090</th>\n",
       "      <th>0.080</th>\n",
       "      <th>0.070</th>\n",
       "      <th>0.060</th>\n",
       "      <th>0.050</th>\n",
       "      <th>0.040</th>\n",
       "      <th>0.030</th>\n",
       "      <th>0.020</th>\n",
       "      <th>0.010</th>\n",
       "    </tr>\n",
       "    <tr>\n",
       "      <th></th>\n",
       "      <th>Unicaudal</th>\n",
       "      <th>0.050</th>\n",
       "      <th>0.045</th>\n",
       "      <th>0.040</th>\n",
       "      <th>0.035</th>\n",
       "      <th>0.030</th>\n",
       "      <th>0.025</th>\n",
       "      <th>0.020</th>\n",
       "      <th>0.015</th>\n",
       "      <th>0.010</th>\n",
       "      <th>0.005</th>\n",
       "    </tr>\n",
       "  </thead>\n",
       "  <tbody>\n",
       "    <tr>\n",
       "      <th rowspan=\"3\" valign=\"top\">Graus de Liberdade (n - 1)</th>\n",
       "      <th>11</th>\n",
       "      <td>1.79588</td>\n",
       "      <td>1.85877</td>\n",
       "      <td>1.92843</td>\n",
       "      <td>2.00666</td>\n",
       "      <td>2.09614</td>\n",
       "      <td>2.20099</td>\n",
       "      <td>2.32814</td>\n",
       "      <td>2.49066</td>\n",
       "      <td>2.71808</td>\n",
       "      <td>3.10581</td>\n",
       "    </tr>\n",
       "    <tr>\n",
       "      <th>12</th>\n",
       "      <td>1.78229</td>\n",
       "      <td>1.84402</td>\n",
       "      <td>1.91231</td>\n",
       "      <td>1.98893</td>\n",
       "      <td>2.07644</td>\n",
       "      <td>2.17881</td>\n",
       "      <td>2.30272</td>\n",
       "      <td>2.4607</td>\n",
       "      <td>2.681</td>\n",
       "      <td>3.05454</td>\n",
       "    </tr>\n",
       "    <tr>\n",
       "      <th>13</th>\n",
       "      <td>1.77093</td>\n",
       "      <td>1.8317</td>\n",
       "      <td>1.89887</td>\n",
       "      <td>1.97416</td>\n",
       "      <td>2.06004</td>\n",
       "      <td>2.16037</td>\n",
       "      <td>2.2816</td>\n",
       "      <td>2.43585</td>\n",
       "      <td>2.65031</td>\n",
       "      <td>3.01228</td>\n",
       "    </tr>\n",
       "  </tbody>\n",
       "</table>\n",
       "</div>"
      ],
      "text/plain": [
       "Bicaudal                         0.100    0.090    0.080    0.070    0.060  \\\n",
       "Unicaudal                        0.050    0.045    0.040    0.035    0.030   \n",
       "Graus de Liberdade (n - 1) 11  1.79588  1.85877  1.92843  2.00666  2.09614   \n",
       "                           12  1.78229  1.84402  1.91231  1.98893  2.07644   \n",
       "                           13  1.77093   1.8317  1.89887  1.97416  2.06004   \n",
       "\n",
       "Bicaudal                         0.050    0.040    0.030    0.020    0.010  \n",
       "Unicaudal                        0.025    0.020    0.015    0.010    0.005  \n",
       "Graus de Liberdade (n - 1) 11  2.20099  2.32814  2.49066  2.71808  3.10581  \n",
       "                           12  2.17881  2.30272   2.4607    2.681  3.05454  \n",
       "                           13  2.16037   2.2816  2.43585  2.65031  3.01228  "
      ]
     },
     "execution_count": 106,
     "metadata": {},
     "output_type": "execute_result"
    }
   ],
   "source": [
    "tabela_t_student[10:13]"
   ]
  },
  {
   "cell_type": "code",
   "execution_count": 107,
   "metadata": {
    "colab": {
     "base_uri": "https://localhost:8080/",
     "height": 35
    },
    "colab_type": "code",
    "id": "5iCApoGNpsm7",
    "outputId": "81069b99-1cb8-4916-c587-2ff0be1f0ffc"
   },
   "outputs": [
    {
     "data": {
      "text/plain": [
       "-1.78"
      ]
     },
     "execution_count": 107,
     "metadata": {},
     "output_type": "execute_result"
    }
   ],
   "source": [
    "t_alpha = t_student.ppf(significancia, graus_de_liberdade)\n",
    "t_alpha.round(2)"
   ]
  },
  {
   "cell_type": "markdown",
   "metadata": {
    "colab_type": "text",
    "id": "Hv5Wk8G0psm7"
   },
   "source": [
    "![Região de Aceitação](https://caelum-online-public.s3.amazonaws.com/1229-estatistica-parte3/01/img023.png)"
   ]
  },
  {
   "cell_type": "markdown",
   "metadata": {
    "colab_type": "text",
    "id": "qF2QVjmtpsm7"
   },
   "source": [
    "---"
   ]
  },
  {
   "cell_type": "markdown",
   "metadata": {
    "colab_type": "text",
    "id": "mD62Ibrupsm8"
   },
   "source": [
    "### **Passo 4** - cálculo da estatística-teste e verificação desse valor com as áreas de aceitação e rejeição do teste\n",
    "## 1. Definir os n's:\n",
    "### $n_1$ = nº de elementos do menor grupo\n",
    "### $n_2$ = nº de elementos do maior grupo\n",
    "---\n",
    "## 2. Obter a soma dos postos\n",
    "### $R_1$ = soma dos postos do grupo $n_1$\n",
    "### $R_2$ = soma dos postos do grupo $n_2$\n",
    "---\n",
    "## 3. Obter as estatísticas\n",
    "# $$u_1 = n_1 \\times n_2 + \\frac{n_1 \\times (n_1 + 1)}{2} - R_1$$\n",
    "# $$u_2 = n_1 \\times n_2 + \\frac{n_2 \\times (n_2 + 1)}{2} - R_2$$\n",
    "---\n",
    "## 4. Selecionar o menor U\n",
    "# $$u = min(u_1, u_2)$$\n",
    "---\n",
    "## 5. Obter a estatística de teste\n",
    "# $$Z = \\frac{u - \\mu{(u)}}{\\sigma{(u)}}$$\n",
    "\n",
    "Onde\n",
    "\n",
    "# $$\\mu{(u)} = \\frac{n_1 \\times n_2}{2}$$\n",
    "# $$\\sigma{(u)} = \\sqrt{\\frac{n_1 \\times n_2 \\times (n_1 + n_2 + 1)}{12}}$$"
   ]
  },
  {
   "cell_type": "markdown",
   "metadata": {
    "colab_type": "text",
    "id": "DsVNwKjOpsm8"
   },
   "source": [
    "### Obtendo os postos"
   ]
  },
  {
   "cell_type": "code",
   "execution_count": 108,
   "metadata": {
    "colab": {
     "base_uri": "https://localhost:8080/",
     "height": 235
    },
    "colab_type": "code",
    "id": "mjUNCgykpsm8",
    "outputId": "5ae66e10-27e2-4e85-8176-639e722b252a"
   },
   "outputs": [
    {
     "data": {
      "text/html": [
       "<div>\n",
       "<style scoped>\n",
       "    .dataframe tbody tr th:only-of-type {\n",
       "        vertical-align: middle;\n",
       "    }\n",
       "\n",
       "    .dataframe tbody tr th {\n",
       "        vertical-align: top;\n",
       "    }\n",
       "\n",
       "    .dataframe thead th {\n",
       "        text-align: right;\n",
       "    }\n",
       "</style>\n",
       "<table border=\"1\" class=\"dataframe\">\n",
       "  <thead>\n",
       "    <tr style=\"text-align: right;\">\n",
       "      <th></th>\n",
       "      <th>Renda</th>\n",
       "      <th>Sexo</th>\n",
       "    </tr>\n",
       "  </thead>\n",
       "  <tbody>\n",
       "    <tr>\n",
       "      <th>67872</th>\n",
       "      <td>1200</td>\n",
       "      <td>Homens</td>\n",
       "    </tr>\n",
       "    <tr>\n",
       "      <th>30211</th>\n",
       "      <td>2000</td>\n",
       "      <td>Homens</td>\n",
       "    </tr>\n",
       "    <tr>\n",
       "      <th>64406</th>\n",
       "      <td>850</td>\n",
       "      <td>Homens</td>\n",
       "    </tr>\n",
       "    <tr>\n",
       "      <th>26519</th>\n",
       "      <td>800</td>\n",
       "      <td>Homens</td>\n",
       "    </tr>\n",
       "    <tr>\n",
       "      <th>61540</th>\n",
       "      <td>2000</td>\n",
       "      <td>Homens</td>\n",
       "    </tr>\n",
       "    <tr>\n",
       "      <th>17422</th>\n",
       "      <td>1200</td>\n",
       "      <td>Homens</td>\n",
       "    </tr>\n",
       "  </tbody>\n",
       "</table>\n",
       "</div>"
      ],
      "text/plain": [
       "       Renda    Sexo\n",
       "67872   1200  Homens\n",
       "30211   2000  Homens\n",
       "64406    850  Homens\n",
       "26519    800  Homens\n",
       "61540   2000  Homens\n",
       "17422   1200  Homens"
      ]
     },
     "execution_count": 108,
     "metadata": {},
     "output_type": "execute_result"
    }
   ],
   "source": [
    "H = pd.DataFrame(homens)\n",
    "H['Sexo'] = 'Homens'\n",
    "H"
   ]
  },
  {
   "cell_type": "code",
   "execution_count": 109,
   "metadata": {
    "colab": {
     "base_uri": "https://localhost:8080/",
     "height": 297
    },
    "colab_type": "code",
    "id": "y68IGk4o8mgB",
    "outputId": "fb50478e-9fd0-428c-c9fc-41f535c1833a"
   },
   "outputs": [
    {
     "data": {
      "text/html": [
       "<div>\n",
       "<style scoped>\n",
       "    .dataframe tbody tr th:only-of-type {\n",
       "        vertical-align: middle;\n",
       "    }\n",
       "\n",
       "    .dataframe tbody tr th {\n",
       "        vertical-align: top;\n",
       "    }\n",
       "\n",
       "    .dataframe thead th {\n",
       "        text-align: right;\n",
       "    }\n",
       "</style>\n",
       "<table border=\"1\" class=\"dataframe\">\n",
       "  <thead>\n",
       "    <tr style=\"text-align: right;\">\n",
       "      <th></th>\n",
       "      <th>Renda</th>\n",
       "      <th>Sexo</th>\n",
       "    </tr>\n",
       "  </thead>\n",
       "  <tbody>\n",
       "    <tr>\n",
       "      <th>6251</th>\n",
       "      <td>1100</td>\n",
       "      <td>Mulheres</td>\n",
       "    </tr>\n",
       "    <tr>\n",
       "      <th>34764</th>\n",
       "      <td>400</td>\n",
       "      <td>Mulheres</td>\n",
       "    </tr>\n",
       "    <tr>\n",
       "      <th>40596</th>\n",
       "      <td>788</td>\n",
       "      <td>Mulheres</td>\n",
       "    </tr>\n",
       "    <tr>\n",
       "      <th>11303</th>\n",
       "      <td>4300</td>\n",
       "      <td>Mulheres</td>\n",
       "    </tr>\n",
       "    <tr>\n",
       "      <th>22733</th>\n",
       "      <td>250</td>\n",
       "      <td>Mulheres</td>\n",
       "    </tr>\n",
       "    <tr>\n",
       "      <th>24707</th>\n",
       "      <td>400</td>\n",
       "      <td>Mulheres</td>\n",
       "    </tr>\n",
       "    <tr>\n",
       "      <th>60340</th>\n",
       "      <td>700</td>\n",
       "      <td>Mulheres</td>\n",
       "    </tr>\n",
       "    <tr>\n",
       "      <th>17035</th>\n",
       "      <td>788</td>\n",
       "      <td>Mulheres</td>\n",
       "    </tr>\n",
       "  </tbody>\n",
       "</table>\n",
       "</div>"
      ],
      "text/plain": [
       "       Renda      Sexo\n",
       "6251    1100  Mulheres\n",
       "34764    400  Mulheres\n",
       "40596    788  Mulheres\n",
       "11303   4300  Mulheres\n",
       "22733    250  Mulheres\n",
       "24707    400  Mulheres\n",
       "60340    700  Mulheres\n",
       "17035    788  Mulheres"
      ]
     },
     "execution_count": 109,
     "metadata": {},
     "output_type": "execute_result"
    }
   ],
   "source": [
    "M = pd.DataFrame(mulheres)\n",
    "M['Sexo'] = 'Mulheres'\n",
    "M"
   ]
  },
  {
   "cell_type": "code",
   "execution_count": 110,
   "metadata": {
    "colab": {
     "base_uri": "https://localhost:8080/",
     "height": 483
    },
    "colab_type": "code",
    "id": "HFVjaj4f8mOi",
    "outputId": "bb530bd2-103b-450b-bb6b-89e63b30600c"
   },
   "outputs": [
    {
     "data": {
      "text/html": [
       "<div>\n",
       "<style scoped>\n",
       "    .dataframe tbody tr th:only-of-type {\n",
       "        vertical-align: middle;\n",
       "    }\n",
       "\n",
       "    .dataframe tbody tr th {\n",
       "        vertical-align: top;\n",
       "    }\n",
       "\n",
       "    .dataframe thead th {\n",
       "        text-align: right;\n",
       "    }\n",
       "</style>\n",
       "<table border=\"1\" class=\"dataframe\">\n",
       "  <thead>\n",
       "    <tr style=\"text-align: right;\">\n",
       "      <th></th>\n",
       "      <th>Renda</th>\n",
       "      <th>Sexo</th>\n",
       "    </tr>\n",
       "  </thead>\n",
       "  <tbody>\n",
       "    <tr>\n",
       "      <th>0</th>\n",
       "      <td>1200</td>\n",
       "      <td>Homens</td>\n",
       "    </tr>\n",
       "    <tr>\n",
       "      <th>1</th>\n",
       "      <td>2000</td>\n",
       "      <td>Homens</td>\n",
       "    </tr>\n",
       "    <tr>\n",
       "      <th>2</th>\n",
       "      <td>850</td>\n",
       "      <td>Homens</td>\n",
       "    </tr>\n",
       "    <tr>\n",
       "      <th>3</th>\n",
       "      <td>800</td>\n",
       "      <td>Homens</td>\n",
       "    </tr>\n",
       "    <tr>\n",
       "      <th>4</th>\n",
       "      <td>2000</td>\n",
       "      <td>Homens</td>\n",
       "    </tr>\n",
       "    <tr>\n",
       "      <th>5</th>\n",
       "      <td>1200</td>\n",
       "      <td>Homens</td>\n",
       "    </tr>\n",
       "    <tr>\n",
       "      <th>6</th>\n",
       "      <td>1100</td>\n",
       "      <td>Mulheres</td>\n",
       "    </tr>\n",
       "    <tr>\n",
       "      <th>7</th>\n",
       "      <td>400</td>\n",
       "      <td>Mulheres</td>\n",
       "    </tr>\n",
       "    <tr>\n",
       "      <th>8</th>\n",
       "      <td>788</td>\n",
       "      <td>Mulheres</td>\n",
       "    </tr>\n",
       "    <tr>\n",
       "      <th>9</th>\n",
       "      <td>4300</td>\n",
       "      <td>Mulheres</td>\n",
       "    </tr>\n",
       "    <tr>\n",
       "      <th>10</th>\n",
       "      <td>250</td>\n",
       "      <td>Mulheres</td>\n",
       "    </tr>\n",
       "    <tr>\n",
       "      <th>11</th>\n",
       "      <td>400</td>\n",
       "      <td>Mulheres</td>\n",
       "    </tr>\n",
       "    <tr>\n",
       "      <th>12</th>\n",
       "      <td>700</td>\n",
       "      <td>Mulheres</td>\n",
       "    </tr>\n",
       "    <tr>\n",
       "      <th>13</th>\n",
       "      <td>788</td>\n",
       "      <td>Mulheres</td>\n",
       "    </tr>\n",
       "  </tbody>\n",
       "</table>\n",
       "</div>"
      ],
      "text/plain": [
       "    Renda      Sexo\n",
       "0    1200    Homens\n",
       "1    2000    Homens\n",
       "2     850    Homens\n",
       "3     800    Homens\n",
       "4    2000    Homens\n",
       "5    1200    Homens\n",
       "6    1100  Mulheres\n",
       "7     400  Mulheres\n",
       "8     788  Mulheres\n",
       "9    4300  Mulheres\n",
       "10    250  Mulheres\n",
       "11    400  Mulheres\n",
       "12    700  Mulheres\n",
       "13    788  Mulheres"
      ]
     },
     "execution_count": 110,
     "metadata": {},
     "output_type": "execute_result"
    }
   ],
   "source": [
    "sexo = H.append(M)\n",
    "sexo.reset_index(inplace = True, drop = True)\n",
    "sexo"
   ]
  },
  {
   "cell_type": "code",
   "execution_count": 111,
   "metadata": {
    "colab": {
     "base_uri": "https://localhost:8080/",
     "height": 483
    },
    "colab_type": "code",
    "id": "cpN2H9kFpsm-",
    "outputId": "df9d00a6-1b43-4cf2-d385-628e07257b85"
   },
   "outputs": [
    {
     "data": {
      "text/html": [
       "<div>\n",
       "<style scoped>\n",
       "    .dataframe tbody tr th:only-of-type {\n",
       "        vertical-align: middle;\n",
       "    }\n",
       "\n",
       "    .dataframe tbody tr th {\n",
       "        vertical-align: top;\n",
       "    }\n",
       "\n",
       "    .dataframe thead th {\n",
       "        text-align: right;\n",
       "    }\n",
       "</style>\n",
       "<table border=\"1\" class=\"dataframe\">\n",
       "  <thead>\n",
       "    <tr style=\"text-align: right;\">\n",
       "      <th></th>\n",
       "      <th>Renda</th>\n",
       "      <th>Sexo</th>\n",
       "    </tr>\n",
       "  </thead>\n",
       "  <tbody>\n",
       "    <tr>\n",
       "      <th>10</th>\n",
       "      <td>250</td>\n",
       "      <td>Mulheres</td>\n",
       "    </tr>\n",
       "    <tr>\n",
       "      <th>7</th>\n",
       "      <td>400</td>\n",
       "      <td>Mulheres</td>\n",
       "    </tr>\n",
       "    <tr>\n",
       "      <th>11</th>\n",
       "      <td>400</td>\n",
       "      <td>Mulheres</td>\n",
       "    </tr>\n",
       "    <tr>\n",
       "      <th>12</th>\n",
       "      <td>700</td>\n",
       "      <td>Mulheres</td>\n",
       "    </tr>\n",
       "    <tr>\n",
       "      <th>8</th>\n",
       "      <td>788</td>\n",
       "      <td>Mulheres</td>\n",
       "    </tr>\n",
       "    <tr>\n",
       "      <th>13</th>\n",
       "      <td>788</td>\n",
       "      <td>Mulheres</td>\n",
       "    </tr>\n",
       "    <tr>\n",
       "      <th>3</th>\n",
       "      <td>800</td>\n",
       "      <td>Homens</td>\n",
       "    </tr>\n",
       "    <tr>\n",
       "      <th>2</th>\n",
       "      <td>850</td>\n",
       "      <td>Homens</td>\n",
       "    </tr>\n",
       "    <tr>\n",
       "      <th>6</th>\n",
       "      <td>1100</td>\n",
       "      <td>Mulheres</td>\n",
       "    </tr>\n",
       "    <tr>\n",
       "      <th>0</th>\n",
       "      <td>1200</td>\n",
       "      <td>Homens</td>\n",
       "    </tr>\n",
       "    <tr>\n",
       "      <th>5</th>\n",
       "      <td>1200</td>\n",
       "      <td>Homens</td>\n",
       "    </tr>\n",
       "    <tr>\n",
       "      <th>1</th>\n",
       "      <td>2000</td>\n",
       "      <td>Homens</td>\n",
       "    </tr>\n",
       "    <tr>\n",
       "      <th>4</th>\n",
       "      <td>2000</td>\n",
       "      <td>Homens</td>\n",
       "    </tr>\n",
       "    <tr>\n",
       "      <th>9</th>\n",
       "      <td>4300</td>\n",
       "      <td>Mulheres</td>\n",
       "    </tr>\n",
       "  </tbody>\n",
       "</table>\n",
       "</div>"
      ],
      "text/plain": [
       "    Renda      Sexo\n",
       "10    250  Mulheres\n",
       "7     400  Mulheres\n",
       "11    400  Mulheres\n",
       "12    700  Mulheres\n",
       "8     788  Mulheres\n",
       "13    788  Mulheres\n",
       "3     800    Homens\n",
       "2     850    Homens\n",
       "6    1100  Mulheres\n",
       "0    1200    Homens\n",
       "5    1200    Homens\n",
       "1    2000    Homens\n",
       "4    2000    Homens\n",
       "9    4300  Mulheres"
      ]
     },
     "execution_count": 111,
     "metadata": {},
     "output_type": "execute_result"
    }
   ],
   "source": [
    "sexo.sort_values(by = 'Renda', inplace = True)\n",
    "sexo"
   ]
  },
  {
   "cell_type": "code",
   "execution_count": 112,
   "metadata": {
    "colab": {
     "base_uri": "https://localhost:8080/",
     "height": 483
    },
    "colab_type": "code",
    "id": "YCT6KsRS8-by",
    "outputId": "1d8ccd68-e703-4407-d866-34a2710c9225"
   },
   "outputs": [
    {
     "data": {
      "text/html": [
       "<div>\n",
       "<style scoped>\n",
       "    .dataframe tbody tr th:only-of-type {\n",
       "        vertical-align: middle;\n",
       "    }\n",
       "\n",
       "    .dataframe tbody tr th {\n",
       "        vertical-align: top;\n",
       "    }\n",
       "\n",
       "    .dataframe thead th {\n",
       "        text-align: right;\n",
       "    }\n",
       "</style>\n",
       "<table border=\"1\" class=\"dataframe\">\n",
       "  <thead>\n",
       "    <tr style=\"text-align: right;\">\n",
       "      <th></th>\n",
       "      <th>Renda</th>\n",
       "      <th>Sexo</th>\n",
       "      <th>Posto</th>\n",
       "    </tr>\n",
       "  </thead>\n",
       "  <tbody>\n",
       "    <tr>\n",
       "      <th>10</th>\n",
       "      <td>250</td>\n",
       "      <td>Mulheres</td>\n",
       "      <td>1</td>\n",
       "    </tr>\n",
       "    <tr>\n",
       "      <th>7</th>\n",
       "      <td>400</td>\n",
       "      <td>Mulheres</td>\n",
       "      <td>2</td>\n",
       "    </tr>\n",
       "    <tr>\n",
       "      <th>11</th>\n",
       "      <td>400</td>\n",
       "      <td>Mulheres</td>\n",
       "      <td>3</td>\n",
       "    </tr>\n",
       "    <tr>\n",
       "      <th>12</th>\n",
       "      <td>700</td>\n",
       "      <td>Mulheres</td>\n",
       "      <td>4</td>\n",
       "    </tr>\n",
       "    <tr>\n",
       "      <th>8</th>\n",
       "      <td>788</td>\n",
       "      <td>Mulheres</td>\n",
       "      <td>5</td>\n",
       "    </tr>\n",
       "    <tr>\n",
       "      <th>13</th>\n",
       "      <td>788</td>\n",
       "      <td>Mulheres</td>\n",
       "      <td>6</td>\n",
       "    </tr>\n",
       "    <tr>\n",
       "      <th>3</th>\n",
       "      <td>800</td>\n",
       "      <td>Homens</td>\n",
       "      <td>7</td>\n",
       "    </tr>\n",
       "    <tr>\n",
       "      <th>2</th>\n",
       "      <td>850</td>\n",
       "      <td>Homens</td>\n",
       "      <td>8</td>\n",
       "    </tr>\n",
       "    <tr>\n",
       "      <th>6</th>\n",
       "      <td>1100</td>\n",
       "      <td>Mulheres</td>\n",
       "      <td>9</td>\n",
       "    </tr>\n",
       "    <tr>\n",
       "      <th>0</th>\n",
       "      <td>1200</td>\n",
       "      <td>Homens</td>\n",
       "      <td>10</td>\n",
       "    </tr>\n",
       "    <tr>\n",
       "      <th>5</th>\n",
       "      <td>1200</td>\n",
       "      <td>Homens</td>\n",
       "      <td>11</td>\n",
       "    </tr>\n",
       "    <tr>\n",
       "      <th>1</th>\n",
       "      <td>2000</td>\n",
       "      <td>Homens</td>\n",
       "      <td>12</td>\n",
       "    </tr>\n",
       "    <tr>\n",
       "      <th>4</th>\n",
       "      <td>2000</td>\n",
       "      <td>Homens</td>\n",
       "      <td>13</td>\n",
       "    </tr>\n",
       "    <tr>\n",
       "      <th>9</th>\n",
       "      <td>4300</td>\n",
       "      <td>Mulheres</td>\n",
       "      <td>14</td>\n",
       "    </tr>\n",
       "  </tbody>\n",
       "</table>\n",
       "</div>"
      ],
      "text/plain": [
       "    Renda      Sexo  Posto\n",
       "10    250  Mulheres      1\n",
       "7     400  Mulheres      2\n",
       "11    400  Mulheres      3\n",
       "12    700  Mulheres      4\n",
       "8     788  Mulheres      5\n",
       "13    788  Mulheres      6\n",
       "3     800    Homens      7\n",
       "2     850    Homens      8\n",
       "6    1100  Mulheres      9\n",
       "0    1200    Homens     10\n",
       "5    1200    Homens     11\n",
       "1    2000    Homens     12\n",
       "4    2000    Homens     13\n",
       "9    4300  Mulheres     14"
      ]
     },
     "execution_count": 112,
     "metadata": {},
     "output_type": "execute_result"
    }
   ],
   "source": [
    "sexo['Posto'] = range(1, len(sexo) + 1)\n",
    "sexo"
   ]
  },
  {
   "cell_type": "code",
   "execution_count": 113,
   "metadata": {
    "colab": {
     "base_uri": "https://localhost:8080/",
     "height": 390
    },
    "colab_type": "code",
    "id": "tEuMTSSU8-OE",
    "outputId": "9ea51224-027b-4965-cda7-3bd39b6fcf87"
   },
   "outputs": [
    {
     "data": {
      "text/html": [
       "<div>\n",
       "<style scoped>\n",
       "    .dataframe tbody tr th:only-of-type {\n",
       "        vertical-align: middle;\n",
       "    }\n",
       "\n",
       "    .dataframe tbody tr th {\n",
       "        vertical-align: top;\n",
       "    }\n",
       "\n",
       "    .dataframe thead th {\n",
       "        text-align: right;\n",
       "    }\n",
       "</style>\n",
       "<table border=\"1\" class=\"dataframe\">\n",
       "  <thead>\n",
       "    <tr style=\"text-align: right;\">\n",
       "      <th></th>\n",
       "      <th>Posto</th>\n",
       "    </tr>\n",
       "    <tr>\n",
       "      <th>Renda</th>\n",
       "      <th></th>\n",
       "    </tr>\n",
       "  </thead>\n",
       "  <tbody>\n",
       "    <tr>\n",
       "      <th>250</th>\n",
       "      <td>1.0</td>\n",
       "    </tr>\n",
       "    <tr>\n",
       "      <th>400</th>\n",
       "      <td>2.5</td>\n",
       "    </tr>\n",
       "    <tr>\n",
       "      <th>700</th>\n",
       "      <td>4.0</td>\n",
       "    </tr>\n",
       "    <tr>\n",
       "      <th>788</th>\n",
       "      <td>5.5</td>\n",
       "    </tr>\n",
       "    <tr>\n",
       "      <th>800</th>\n",
       "      <td>7.0</td>\n",
       "    </tr>\n",
       "    <tr>\n",
       "      <th>850</th>\n",
       "      <td>8.0</td>\n",
       "    </tr>\n",
       "    <tr>\n",
       "      <th>1100</th>\n",
       "      <td>9.0</td>\n",
       "    </tr>\n",
       "    <tr>\n",
       "      <th>1200</th>\n",
       "      <td>10.5</td>\n",
       "    </tr>\n",
       "    <tr>\n",
       "      <th>2000</th>\n",
       "      <td>12.5</td>\n",
       "    </tr>\n",
       "    <tr>\n",
       "      <th>4300</th>\n",
       "      <td>14.0</td>\n",
       "    </tr>\n",
       "  </tbody>\n",
       "</table>\n",
       "</div>"
      ],
      "text/plain": [
       "       Posto\n",
       "Renda       \n",
       "250      1.0\n",
       "400      2.5\n",
       "700      4.0\n",
       "788      5.5\n",
       "800      7.0\n",
       "850      8.0\n",
       "1100     9.0\n",
       "1200    10.5\n",
       "2000    12.5\n",
       "4300    14.0"
      ]
     },
     "execution_count": 113,
     "metadata": {},
     "output_type": "execute_result"
    }
   ],
   "source": [
    "posto = sexo[['Renda', 'Posto']].groupby(['Renda']).mean()\n",
    "posto"
   ]
  },
  {
   "cell_type": "code",
   "execution_count": 114,
   "metadata": {
    "colab": {
     "base_uri": "https://localhost:8080/",
     "height": 359
    },
    "colab_type": "code",
    "id": "S9rtsrl88-LB",
    "outputId": "e290c591-eba0-4b21-a7c6-ecdde437e55b"
   },
   "outputs": [
    {
     "data": {
      "text/html": [
       "<div>\n",
       "<style scoped>\n",
       "    .dataframe tbody tr th:only-of-type {\n",
       "        vertical-align: middle;\n",
       "    }\n",
       "\n",
       "    .dataframe tbody tr th {\n",
       "        vertical-align: top;\n",
       "    }\n",
       "\n",
       "    .dataframe thead th {\n",
       "        text-align: right;\n",
       "    }\n",
       "</style>\n",
       "<table border=\"1\" class=\"dataframe\">\n",
       "  <thead>\n",
       "    <tr style=\"text-align: right;\">\n",
       "      <th></th>\n",
       "      <th>Renda</th>\n",
       "      <th>Posto</th>\n",
       "    </tr>\n",
       "  </thead>\n",
       "  <tbody>\n",
       "    <tr>\n",
       "      <th>0</th>\n",
       "      <td>250</td>\n",
       "      <td>1.0</td>\n",
       "    </tr>\n",
       "    <tr>\n",
       "      <th>1</th>\n",
       "      <td>400</td>\n",
       "      <td>2.5</td>\n",
       "    </tr>\n",
       "    <tr>\n",
       "      <th>2</th>\n",
       "      <td>700</td>\n",
       "      <td>4.0</td>\n",
       "    </tr>\n",
       "    <tr>\n",
       "      <th>3</th>\n",
       "      <td>788</td>\n",
       "      <td>5.5</td>\n",
       "    </tr>\n",
       "    <tr>\n",
       "      <th>4</th>\n",
       "      <td>800</td>\n",
       "      <td>7.0</td>\n",
       "    </tr>\n",
       "    <tr>\n",
       "      <th>5</th>\n",
       "      <td>850</td>\n",
       "      <td>8.0</td>\n",
       "    </tr>\n",
       "    <tr>\n",
       "      <th>6</th>\n",
       "      <td>1100</td>\n",
       "      <td>9.0</td>\n",
       "    </tr>\n",
       "    <tr>\n",
       "      <th>7</th>\n",
       "      <td>1200</td>\n",
       "      <td>10.5</td>\n",
       "    </tr>\n",
       "    <tr>\n",
       "      <th>8</th>\n",
       "      <td>2000</td>\n",
       "      <td>12.5</td>\n",
       "    </tr>\n",
       "    <tr>\n",
       "      <th>9</th>\n",
       "      <td>4300</td>\n",
       "      <td>14.0</td>\n",
       "    </tr>\n",
       "  </tbody>\n",
       "</table>\n",
       "</div>"
      ],
      "text/plain": [
       "   Renda  Posto\n",
       "0    250    1.0\n",
       "1    400    2.5\n",
       "2    700    4.0\n",
       "3    788    5.5\n",
       "4    800    7.0\n",
       "5    850    8.0\n",
       "6   1100    9.0\n",
       "7   1200   10.5\n",
       "8   2000   12.5\n",
       "9   4300   14.0"
      ]
     },
     "execution_count": 114,
     "metadata": {},
     "output_type": "execute_result"
    }
   ],
   "source": [
    "posto.reset_index(inplace = True)\n",
    "posto"
   ]
  },
  {
   "cell_type": "code",
   "execution_count": 115,
   "metadata": {
    "colab": {
     "base_uri": "https://localhost:8080/",
     "height": 483
    },
    "colab_type": "code",
    "id": "w0sqa3j-8-H6",
    "outputId": "1baf2916-d014-4f4b-bea3-d339c0b0f260"
   },
   "outputs": [
    {
     "data": {
      "text/html": [
       "<div>\n",
       "<style scoped>\n",
       "    .dataframe tbody tr th:only-of-type {\n",
       "        vertical-align: middle;\n",
       "    }\n",
       "\n",
       "    .dataframe tbody tr th {\n",
       "        vertical-align: top;\n",
       "    }\n",
       "\n",
       "    .dataframe thead th {\n",
       "        text-align: right;\n",
       "    }\n",
       "</style>\n",
       "<table border=\"1\" class=\"dataframe\">\n",
       "  <thead>\n",
       "    <tr style=\"text-align: right;\">\n",
       "      <th></th>\n",
       "      <th>Renda</th>\n",
       "      <th>Sexo</th>\n",
       "    </tr>\n",
       "  </thead>\n",
       "  <tbody>\n",
       "    <tr>\n",
       "      <th>10</th>\n",
       "      <td>250</td>\n",
       "      <td>Mulheres</td>\n",
       "    </tr>\n",
       "    <tr>\n",
       "      <th>7</th>\n",
       "      <td>400</td>\n",
       "      <td>Mulheres</td>\n",
       "    </tr>\n",
       "    <tr>\n",
       "      <th>11</th>\n",
       "      <td>400</td>\n",
       "      <td>Mulheres</td>\n",
       "    </tr>\n",
       "    <tr>\n",
       "      <th>12</th>\n",
       "      <td>700</td>\n",
       "      <td>Mulheres</td>\n",
       "    </tr>\n",
       "    <tr>\n",
       "      <th>8</th>\n",
       "      <td>788</td>\n",
       "      <td>Mulheres</td>\n",
       "    </tr>\n",
       "    <tr>\n",
       "      <th>13</th>\n",
       "      <td>788</td>\n",
       "      <td>Mulheres</td>\n",
       "    </tr>\n",
       "    <tr>\n",
       "      <th>3</th>\n",
       "      <td>800</td>\n",
       "      <td>Homens</td>\n",
       "    </tr>\n",
       "    <tr>\n",
       "      <th>2</th>\n",
       "      <td>850</td>\n",
       "      <td>Homens</td>\n",
       "    </tr>\n",
       "    <tr>\n",
       "      <th>6</th>\n",
       "      <td>1100</td>\n",
       "      <td>Mulheres</td>\n",
       "    </tr>\n",
       "    <tr>\n",
       "      <th>0</th>\n",
       "      <td>1200</td>\n",
       "      <td>Homens</td>\n",
       "    </tr>\n",
       "    <tr>\n",
       "      <th>5</th>\n",
       "      <td>1200</td>\n",
       "      <td>Homens</td>\n",
       "    </tr>\n",
       "    <tr>\n",
       "      <th>1</th>\n",
       "      <td>2000</td>\n",
       "      <td>Homens</td>\n",
       "    </tr>\n",
       "    <tr>\n",
       "      <th>4</th>\n",
       "      <td>2000</td>\n",
       "      <td>Homens</td>\n",
       "    </tr>\n",
       "    <tr>\n",
       "      <th>9</th>\n",
       "      <td>4300</td>\n",
       "      <td>Mulheres</td>\n",
       "    </tr>\n",
       "  </tbody>\n",
       "</table>\n",
       "</div>"
      ],
      "text/plain": [
       "    Renda      Sexo\n",
       "10    250  Mulheres\n",
       "7     400  Mulheres\n",
       "11    400  Mulheres\n",
       "12    700  Mulheres\n",
       "8     788  Mulheres\n",
       "13    788  Mulheres\n",
       "3     800    Homens\n",
       "2     850    Homens\n",
       "6    1100  Mulheres\n",
       "0    1200    Homens\n",
       "5    1200    Homens\n",
       "1    2000    Homens\n",
       "4    2000    Homens\n",
       "9    4300  Mulheres"
      ]
     },
     "execution_count": 115,
     "metadata": {},
     "output_type": "execute_result"
    }
   ],
   "source": [
    "sexo.drop(['Posto'], axis = 1, inplace = True)\n",
    "sexo"
   ]
  },
  {
   "cell_type": "code",
   "execution_count": 116,
   "metadata": {
    "colab": {
     "base_uri": "https://localhost:8080/",
     "height": 483
    },
    "colab_type": "code",
    "id": "K4Qn49E78-Ed",
    "outputId": "18af1b0d-fe62-4fe1-845a-3c9aae4088cd"
   },
   "outputs": [
    {
     "data": {
      "text/html": [
       "<div>\n",
       "<style scoped>\n",
       "    .dataframe tbody tr th:only-of-type {\n",
       "        vertical-align: middle;\n",
       "    }\n",
       "\n",
       "    .dataframe tbody tr th {\n",
       "        vertical-align: top;\n",
       "    }\n",
       "\n",
       "    .dataframe thead th {\n",
       "        text-align: right;\n",
       "    }\n",
       "</style>\n",
       "<table border=\"1\" class=\"dataframe\">\n",
       "  <thead>\n",
       "    <tr style=\"text-align: right;\">\n",
       "      <th></th>\n",
       "      <th>Renda</th>\n",
       "      <th>Sexo</th>\n",
       "      <th>Posto</th>\n",
       "    </tr>\n",
       "  </thead>\n",
       "  <tbody>\n",
       "    <tr>\n",
       "      <th>0</th>\n",
       "      <td>250</td>\n",
       "      <td>Mulheres</td>\n",
       "      <td>1.0</td>\n",
       "    </tr>\n",
       "    <tr>\n",
       "      <th>1</th>\n",
       "      <td>400</td>\n",
       "      <td>Mulheres</td>\n",
       "      <td>2.5</td>\n",
       "    </tr>\n",
       "    <tr>\n",
       "      <th>2</th>\n",
       "      <td>400</td>\n",
       "      <td>Mulheres</td>\n",
       "      <td>2.5</td>\n",
       "    </tr>\n",
       "    <tr>\n",
       "      <th>3</th>\n",
       "      <td>700</td>\n",
       "      <td>Mulheres</td>\n",
       "      <td>4.0</td>\n",
       "    </tr>\n",
       "    <tr>\n",
       "      <th>4</th>\n",
       "      <td>788</td>\n",
       "      <td>Mulheres</td>\n",
       "      <td>5.5</td>\n",
       "    </tr>\n",
       "    <tr>\n",
       "      <th>5</th>\n",
       "      <td>788</td>\n",
       "      <td>Mulheres</td>\n",
       "      <td>5.5</td>\n",
       "    </tr>\n",
       "    <tr>\n",
       "      <th>6</th>\n",
       "      <td>800</td>\n",
       "      <td>Homens</td>\n",
       "      <td>7.0</td>\n",
       "    </tr>\n",
       "    <tr>\n",
       "      <th>7</th>\n",
       "      <td>850</td>\n",
       "      <td>Homens</td>\n",
       "      <td>8.0</td>\n",
       "    </tr>\n",
       "    <tr>\n",
       "      <th>8</th>\n",
       "      <td>1100</td>\n",
       "      <td>Mulheres</td>\n",
       "      <td>9.0</td>\n",
       "    </tr>\n",
       "    <tr>\n",
       "      <th>9</th>\n",
       "      <td>1200</td>\n",
       "      <td>Homens</td>\n",
       "      <td>10.5</td>\n",
       "    </tr>\n",
       "    <tr>\n",
       "      <th>10</th>\n",
       "      <td>1200</td>\n",
       "      <td>Homens</td>\n",
       "      <td>10.5</td>\n",
       "    </tr>\n",
       "    <tr>\n",
       "      <th>11</th>\n",
       "      <td>2000</td>\n",
       "      <td>Homens</td>\n",
       "      <td>12.5</td>\n",
       "    </tr>\n",
       "    <tr>\n",
       "      <th>12</th>\n",
       "      <td>2000</td>\n",
       "      <td>Homens</td>\n",
       "      <td>12.5</td>\n",
       "    </tr>\n",
       "    <tr>\n",
       "      <th>13</th>\n",
       "      <td>4300</td>\n",
       "      <td>Mulheres</td>\n",
       "      <td>14.0</td>\n",
       "    </tr>\n",
       "  </tbody>\n",
       "</table>\n",
       "</div>"
      ],
      "text/plain": [
       "    Renda      Sexo  Posto\n",
       "0     250  Mulheres    1.0\n",
       "1     400  Mulheres    2.5\n",
       "2     400  Mulheres    2.5\n",
       "3     700  Mulheres    4.0\n",
       "4     788  Mulheres    5.5\n",
       "5     788  Mulheres    5.5\n",
       "6     800    Homens    7.0\n",
       "7     850    Homens    8.0\n",
       "8    1100  Mulheres    9.0\n",
       "9    1200    Homens   10.5\n",
       "10   1200    Homens   10.5\n",
       "11   2000    Homens   12.5\n",
       "12   2000    Homens   12.5\n",
       "13   4300  Mulheres   14.0"
      ]
     },
     "execution_count": 116,
     "metadata": {},
     "output_type": "execute_result"
    }
   ],
   "source": [
    "sexo = sexo.merge(posto, left_on='Renda', right_on='Renda', how = 'left')\n",
    "sexo"
   ]
  },
  {
   "cell_type": "markdown",
   "metadata": {
    "colab_type": "text",
    "id": "LFcpe4l_psm-"
   },
   "source": [
    "### Obtendo $R$\n",
    "\n",
    "### $R_1$ = soma dos postos do grupo $n_1$\n",
    "### $R_2$ = soma dos postos do grupo $n_2$"
   ]
  },
  {
   "cell_type": "code",
   "execution_count": 120,
   "metadata": {
    "colab": {
     "base_uri": "https://localhost:8080/",
     "height": 142
    },
    "colab_type": "code",
    "id": "Y3OnPJ7_psm_",
    "outputId": "ebe69922-0f58-4815-c278-200fcb0df5dd"
   },
   "outputs": [
    {
     "data": {
      "text/html": [
       "<div>\n",
       "<style scoped>\n",
       "    .dataframe tbody tr th:only-of-type {\n",
       "        vertical-align: middle;\n",
       "    }\n",
       "\n",
       "    .dataframe tbody tr th {\n",
       "        vertical-align: top;\n",
       "    }\n",
       "\n",
       "    .dataframe thead th {\n",
       "        text-align: right;\n",
       "    }\n",
       "</style>\n",
       "<table border=\"1\" class=\"dataframe\">\n",
       "  <thead>\n",
       "    <tr style=\"text-align: right;\">\n",
       "      <th></th>\n",
       "      <th>Posto</th>\n",
       "    </tr>\n",
       "    <tr>\n",
       "      <th>Sexo</th>\n",
       "      <th></th>\n",
       "    </tr>\n",
       "  </thead>\n",
       "  <tbody>\n",
       "    <tr>\n",
       "      <th>Homens</th>\n",
       "      <td>61.0</td>\n",
       "    </tr>\n",
       "    <tr>\n",
       "      <th>Mulheres</th>\n",
       "      <td>44.0</td>\n",
       "    </tr>\n",
       "  </tbody>\n",
       "</table>\n",
       "</div>"
      ],
      "text/plain": [
       "          Posto\n",
       "Sexo           \n",
       "Homens     61.0\n",
       "Mulheres   44.0"
      ]
     },
     "execution_count": 120,
     "metadata": {},
     "output_type": "execute_result"
    }
   ],
   "source": [
    "Temp = sexo[['Sexo', 'Posto']].groupby('Sexo').sum()\n",
    "Temp"
   ]
  },
  {
   "cell_type": "code",
   "execution_count": 118,
   "metadata": {
    "colab": {
     "base_uri": "https://localhost:8080/",
     "height": 35
    },
    "colab_type": "code",
    "id": "mkbp_OgepsnA",
    "outputId": "a42040ac-fd12-49bb-8afa-95038d18d05f"
   },
   "outputs": [
    {
     "data": {
      "text/plain": [
       "61.0"
      ]
     },
     "execution_count": 118,
     "metadata": {},
     "output_type": "execute_result"
    }
   ],
   "source": [
    "R_1 = Temp.loc['Homens'][0]\n",
    "R_1"
   ]
  },
  {
   "cell_type": "code",
   "execution_count": 119,
   "metadata": {
    "colab": {
     "base_uri": "https://localhost:8080/",
     "height": 35
    },
    "colab_type": "code",
    "id": "zZuZTlp0psnB",
    "outputId": "fa8096f1-fd61-4b5d-c573-eb9978c7fce5"
   },
   "outputs": [
    {
     "data": {
      "text/plain": [
       "44.0"
      ]
     },
     "execution_count": 119,
     "metadata": {},
     "output_type": "execute_result"
    }
   ],
   "source": [
    "R_2 = Temp.loc['Mulheres'][0]\n",
    "R_2"
   ]
  },
  {
   "cell_type": "markdown",
   "metadata": {
    "colab_type": "text",
    "id": "VheEyfc8psnC"
   },
   "source": [
    "### Obter $u$\n",
    "\n",
    "# $$u_1 = n_1 \\times n_2 + \\frac{n_1 \\times (n_1 + 1)}{2} - R_1$$\n",
    "# $$u_2 = n_1 \\times n_2 + \\frac{n_2 \\times (n_2 + 1)}{2} - R_2$$\n",
    "\n",
    "# $$u = min(u_1, u_2)$$\n"
   ]
  },
  {
   "cell_type": "code",
   "execution_count": 121,
   "metadata": {
    "colab": {
     "base_uri": "https://localhost:8080/",
     "height": 35
    },
    "colab_type": "code",
    "id": "zUr2AlPcpsnC",
    "outputId": "544c2c51-985b-4b6b-83c8-c882b19a873b"
   },
   "outputs": [
    {
     "data": {
      "text/plain": [
       "8.0"
      ]
     },
     "execution_count": 121,
     "metadata": {},
     "output_type": "execute_result"
    }
   ],
   "source": [
    "u_1 = n_1 * n_2 + ((n_1 * (n_1 + 1)) / (2)) - R_1\n",
    "u_1"
   ]
  },
  {
   "cell_type": "code",
   "execution_count": 122,
   "metadata": {
    "colab": {
     "base_uri": "https://localhost:8080/",
     "height": 35
    },
    "colab_type": "code",
    "id": "rFYBYtf9psnE",
    "outputId": "bfa1bcd7-01b9-4ce4-9fb8-0ba8435414aa"
   },
   "outputs": [
    {
     "data": {
      "text/plain": [
       "40.0"
      ]
     },
     "execution_count": 122,
     "metadata": {},
     "output_type": "execute_result"
    }
   ],
   "source": [
    "u_2 = n_1 * n_2 + ((n_2 * (n_2 + 1)) / (2)) - R_2\n",
    "u_2"
   ]
  },
  {
   "cell_type": "code",
   "execution_count": 123,
   "metadata": {
    "colab": {
     "base_uri": "https://localhost:8080/",
     "height": 35
    },
    "colab_type": "code",
    "id": "2TodtD_jpsnF",
    "outputId": "d874ee9f-d816-4cd0-8797-b2b8a54bec86"
   },
   "outputs": [
    {
     "data": {
      "text/plain": [
       "8.0"
      ]
     },
     "execution_count": 123,
     "metadata": {},
     "output_type": "execute_result"
    }
   ],
   "source": [
    "u = min(u_1, u_2)\n",
    "u"
   ]
  },
  {
   "cell_type": "markdown",
   "metadata": {
    "colab_type": "text",
    "id": "v9JqAVXTpsnH"
   },
   "source": [
    "### Obter $\\mu{(u)}$\n",
    "\n",
    "# $$\\mu{(u)} = \\frac{n_1 \\times n_2}{2}$$"
   ]
  },
  {
   "cell_type": "code",
   "execution_count": 124,
   "metadata": {
    "colab": {
     "base_uri": "https://localhost:8080/",
     "height": 35
    },
    "colab_type": "code",
    "id": "ANX33u8upsnH",
    "outputId": "e8148a88-a952-412f-9d08-905f4d5e1b9c"
   },
   "outputs": [
    {
     "data": {
      "text/plain": [
       "24.0"
      ]
     },
     "execution_count": 124,
     "metadata": {},
     "output_type": "execute_result"
    }
   ],
   "source": [
    "mu_u = (n_1 * n_2) / 2\n",
    "mu_u"
   ]
  },
  {
   "cell_type": "markdown",
   "metadata": {
    "colab_type": "text",
    "id": "mAEF6gUVpsnI"
   },
   "source": [
    "### Obter $\\sigma{(u)}$\n",
    "\n",
    "# $$\\sigma{(u)} = \\sqrt{\\frac{n_1 \\times n_2 \\times (n_1 + n_2 + 1)}{12}}$$"
   ]
  },
  {
   "cell_type": "code",
   "execution_count": 125,
   "metadata": {
    "colab": {
     "base_uri": "https://localhost:8080/",
     "height": 35
    },
    "colab_type": "code",
    "id": "fyoNElj2psnI",
    "outputId": "1590b044-a811-4207-efd4-bbb458c3ad23"
   },
   "outputs": [
    {
     "data": {
      "text/plain": [
       "7.745966692414834"
      ]
     },
     "execution_count": 125,
     "metadata": {},
     "output_type": "execute_result"
    }
   ],
   "source": [
    "sigma_u = np.sqrt(n_1 * n_2 * (n_1 + n_2 + 1) / 12)\n",
    "sigma_u"
   ]
  },
  {
   "cell_type": "markdown",
   "metadata": {
    "colab_type": "text",
    "id": "T_s3WFVtpsnI"
   },
   "source": [
    "### Obter $Z$\n",
    "\n",
    "# $$Z = \\frac{u - \\mu{(u)}}{\\sigma{(u)}}$$"
   ]
  },
  {
   "cell_type": "code",
   "execution_count": 126,
   "metadata": {
    "colab": {
     "base_uri": "https://localhost:8080/",
     "height": 35
    },
    "colab_type": "code",
    "id": "YwySSfs1psnJ",
    "outputId": "b4fcc6f5-21ad-40ac-dd4f-e40863bb8e50"
   },
   "outputs": [
    {
     "data": {
      "text/plain": [
       "-2.07"
      ]
     },
     "execution_count": 126,
     "metadata": {},
     "output_type": "execute_result"
    }
   ],
   "source": [
    "Z = (u - mu_u) / sigma_u\n",
    "Z.round(2)"
   ]
  },
  {
   "cell_type": "markdown",
   "metadata": {
    "colab_type": "text",
    "id": "ET0XFyyTpsnJ"
   },
   "source": [
    "![Estatística-Teste](https://caelum-online-public.s3.amazonaws.com/1229-estatistica-parte3/01/img024.png)"
   ]
  },
  {
   "cell_type": "markdown",
   "metadata": {
    "colab_type": "text",
    "id": "qSMrqg9lpsnJ"
   },
   "source": [
    "---"
   ]
  },
  {
   "cell_type": "markdown",
   "metadata": {
    "colab_type": "text",
    "id": "04hb7sbUpsnK"
   },
   "source": [
    "### **Passo 5** - Aceitação ou rejeição da hipótese nula"
   ]
  },
  {
   "cell_type": "markdown",
   "metadata": {
    "colab_type": "text",
    "id": "u_jtIZQYpsnK"
   },
   "source": [
    "<img src='https://caelum-online-public.s3.amazonaws.com/1229-estatistica-parte3/01/img025.png' width='80%'>"
   ]
  },
  {
   "cell_type": "markdown",
   "metadata": {
    "colab_type": "text",
    "id": "tKXPtt7ypsnK"
   },
   "source": [
    "### <font color='red'>Critério do valor crítico</font>\n",
    "\n",
    "> ### Rejeitar $H_0$ se $Z \\leq -t_{\\alpha}$"
   ]
  },
  {
   "cell_type": "code",
   "execution_count": 127,
   "metadata": {
    "colab": {
     "base_uri": "https://localhost:8080/",
     "height": 35
    },
    "colab_type": "code",
    "id": "YUnoj7r5psnK",
    "outputId": "cc725f20-215c-415f-da5a-053aaeb9d0f3"
   },
   "outputs": [
    {
     "data": {
      "text/plain": [
       "True"
      ]
     },
     "execution_count": 127,
     "metadata": {},
     "output_type": "execute_result"
    }
   ],
   "source": [
    "Z <= t_alpha"
   ]
  },
  {
   "cell_type": "markdown",
   "metadata": {
    "colab_type": "text",
    "id": "2vh3CcxgpsnM"
   },
   "source": [
    "### <font color='green'>Conclusão: Rejeitamos a hipótese de que não existe diferença entre os grupos, isto é, concluímos que a média das rendas dos chefes de domicílios do sexo feminino é menor que a média das rendas dos chefes de domicílios do sexo masculino. Confirmando a alegação de desigualdade de renda entre os sexos.</font>"
   ]
  },
  {
   "cell_type": "markdown",
   "metadata": {
    "colab_type": "text",
    "id": "EJiw3TwCpsnM"
   },
   "source": [
    "### <font color='red'>Critério do valor $p$</font>\n",
    "\n",
    "> ### Rejeitar $H_0$ se o valor $p\\leq\\alpha$"
   ]
  },
  {
   "cell_type": "markdown",
   "metadata": {
    "colab_type": "text",
    "id": "U__FbtXEpsnM"
   },
   "source": [
    "https://docs.scipy.org/doc/scipy/reference/generated/scipy.stats.mannwhitneyu.html"
   ]
  },
  {
   "cell_type": "code",
   "execution_count": 128,
   "metadata": {
    "colab": {},
    "colab_type": "code",
    "id": "b21fe4hQpsnM"
   },
   "outputs": [],
   "source": [
    "from scipy.stats import mannwhitneyu"
   ]
  },
  {
   "cell_type": "code",
   "execution_count": 131,
   "metadata": {
    "colab": {
     "base_uri": "https://localhost:8080/",
     "height": 53
    },
    "colab_type": "code",
    "id": "xBG8n1qPpsnN",
    "outputId": "867a2144-53dd-42fd-cf8b-db7ee292758e"
   },
   "outputs": [
    {
     "name": "stdout",
     "output_type": "stream",
     "text": [
      "8.0\n",
      "0.022221119551528605\n"
     ]
    }
   ],
   "source": [
    "u, p_valor = mannwhitneyu(mulheres, homens, alternative = 'less')\n",
    "print(u)\n",
    "print(p_valor)"
   ]
  },
  {
   "cell_type": "code",
   "execution_count": 132,
   "metadata": {
    "colab": {
     "base_uri": "https://localhost:8080/",
     "height": 35
    },
    "colab_type": "code",
    "id": "DIo9w6wNpsnO",
    "outputId": "4bdb7d34-4781-438d-a000-a2b4c974e441"
   },
   "outputs": [
    {
     "data": {
      "text/plain": [
       "True"
      ]
     },
     "execution_count": 132,
     "metadata": {},
     "output_type": "execute_result"
    }
   ],
   "source": [
    "p_valor <= significancia"
   ]
  },
  {
   "cell_type": "markdown",
   "metadata": {
    "colab_type": "text",
    "id": "aydvymEdpsnO"
   },
   "source": [
    "---"
   ]
  }
 ],
 "metadata": {
  "colab": {
   "collapsed_sections": [
    "cVgsZ_E3jQKg",
    "nk65O0lepz57"
   ],
   "name": "Curso_de_Estatística_Parte_3.ipynb",
   "provenance": [],
   "toc_visible": true,
   "version": "0.3.2"
  },
  "kernelspec": {
   "display_name": "Python 3",
   "language": "python",
   "name": "python3"
  },
  "language_info": {
   "codemirror_mode": {
    "name": "ipython",
    "version": 3
   },
   "file_extension": ".py",
   "mimetype": "text/x-python",
   "name": "python",
   "nbconvert_exporter": "python",
   "pygments_lexer": "ipython3",
   "version": "3.7.6"
  }
 },
 "nbformat": 4,
 "nbformat_minor": 1
}
