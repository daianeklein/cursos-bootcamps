{
 "cells": [
  {
   "cell_type": "markdown",
   "metadata": {},
   "source": [
    "Planilha: https://docs.google.com/spreadsheets/d/12-jRnlLV2029ThWjwaJivBGxXpTNKpBhtAyPGrRNsgI/edit#gid=0"
   ]
  },
  {
   "cell_type": "code",
   "execution_count": 1,
   "metadata": {},
   "outputs": [],
   "source": [
    "import csv"
   ]
  },
  {
   "cell_type": "code",
   "execution_count": 2,
   "metadata": {},
   "outputs": [],
   "source": [
    "def carregar_acessos():\n",
    "    x = []\n",
    "    y = []\n",
    "    \n",
    "    arquivo = open('acesso.csv', 'r')\n",
    "    leitor = csv.reader(arquivo)\n",
    "    next(leitor)\n",
    "    \n",
    "    for home, como_funciona, contato, comprou in leitor:\n",
    "        \n",
    "        dado = [int(home), int(como_funciona), int(contato)]\n",
    "        x.append(dado)\n",
    "        y.append(int(comprou))\n",
    "        \n",
    "    return x, y"
   ]
  },
  {
   "cell_type": "code",
   "execution_count": 3,
   "metadata": {},
   "outputs": [],
   "source": [
    "x, y = carregar_acessos()"
   ]
  },
  {
   "cell_type": "code",
   "execution_count": 4,
   "metadata": {},
   "outputs": [
    {
     "data": {
      "text/plain": [
       "MultinomialNB(alpha=1.0, class_prior=None, fit_prior=True)"
      ]
     },
     "execution_count": 4,
     "metadata": {},
     "output_type": "execute_result"
    }
   ],
   "source": [
    "from sklearn.naive_bayes import MultinomialNB\n",
    "\n",
    "modelo = MultinomialNB()\n",
    "\n",
    "## Separando dados de treino e dados de taeste\n",
    "treino_dados = x[:90]\n",
    "treino_marcacoes = y[:90]\n",
    "\n",
    "teste_dados = x[-9:]\n",
    "teste_marcacoes = y[-9:]\n",
    "\n",
    "\n",
    "\n",
    "modelo.fit(treino_dados, treino_marcacoes)\n",
    "\n",
    "##modelo.predict([[1,0,1],[0,1,0]])"
   ]
  },
  {
   "cell_type": "code",
   "execution_count": 31,
   "metadata": {},
   "outputs": [
    {
     "name": "stdout",
     "output_type": "stream",
     "text": [
      "[1 0 0 0 0 0 0 0 0]\n",
      "[0, 0, 0, 0, 0, 1, 0, 1, 0, 1, 1, 1, 0, 0, 0, 0, 0, 0, 0, 0, 0, 0, 0, 0, 1, 1, 1, 1, 0, 0, 0, 1, 0, 1, 1, 1, 1, 0, 0, 1, 0, 0, 0, 1, 0, 0, 1, 1, 0, 0, 0, 0, 1, 0, 1, 0, 1, 0, 1, 0, 1, 0, 0, 0, 1, 1, 0, 1, 1, 0, 0, 0, 0, 0, 0, 0, 0, 0, 0, 1, 0, 0, 0, 1, 1, 0, 0, 0, 0, 1, 1, 0, 0, 0, 0, 1, 0, 0, 0]\n"
     ]
    }
   ],
   "source": [
    "resultado = modelo.predict(teste_dados)\n",
    "print(resultado)\n",
    "print(y)\n",
    "\n",
    "diferencas = resultado - teste_marcacoes"
   ]
  },
  {
   "cell_type": "code",
   "execution_count": 5,
   "metadata": {},
   "outputs": [
    {
     "data": {
      "text/plain": [
       "[[1, 1, 0],\n",
       " [1, 1, 0],\n",
       " [1, 1, 0],\n",
       " [1, 1, 0],\n",
       " [1, 1, 0],\n",
       " [1, 0, 1],\n",
       " [1, 1, 0],\n",
       " [1, 0, 1],\n",
       " [1, 1, 0],\n",
       " [1, 0, 1],\n",
       " [1, 1, 0],\n",
       " [1, 0, 1],\n",
       " [0, 0, 1],\n",
       " [0, 0, 1],\n",
       " [0, 0, 1],\n",
       " [0, 0, 1],\n",
       " [0, 0, 1],\n",
       " [0, 1, 0],\n",
       " [0, 0, 1],\n",
       " [0, 1, 0],\n",
       " [0, 0, 1],\n",
       " [0, 1, 0],\n",
       " [0, 0, 1],\n",
       " [0, 1, 0],\n",
       " [1, 0, 1],\n",
       " [1, 1, 1],\n",
       " [1, 1, 1],\n",
       " [1, 0, 1],\n",
       " [0, 1, 0],\n",
       " [0, 0, 1],\n",
       " [0, 1, 0],\n",
       " [1, 0, 1],\n",
       " [0, 0, 1],\n",
       " [1, 0, 1],\n",
       " [1, 0, 1],\n",
       " [1, 0, 1],\n",
       " [1, 0, 1],\n",
       " [0, 0, 1],\n",
       " [1, 1, 0],\n",
       " [1, 0, 1],\n",
       " [0, 1, 0],\n",
       " [0, 0, 1],\n",
       " [0, 1, 0],\n",
       " [1, 0, 1],\n",
       " [0, 0, 1],\n",
       " [0, 0, 1],\n",
       " [1, 0, 1],\n",
       " [1, 0, 1],\n",
       " [1, 1, 0],\n",
       " [1, 1, 0],\n",
       " [1, 1, 0],\n",
       " [1, 1, 0],\n",
       " [1, 0, 1],\n",
       " [1, 1, 0],\n",
       " [1, 0, 1],\n",
       " [1, 1, 0],\n",
       " [1, 0, 1],\n",
       " [1, 1, 0],\n",
       " [1, 0, 1],\n",
       " [0, 0, 1],\n",
       " [1, 0, 1],\n",
       " [0, 1, 0],\n",
       " [0, 0, 1],\n",
       " [0, 1, 0],\n",
       " [1, 0, 1],\n",
       " [0, 1, 1],\n",
       " [0, 0, 1],\n",
       " [1, 0, 1],\n",
       " [1, 0, 1],\n",
       " [1, 1, 0],\n",
       " [1, 1, 0],\n",
       " [0, 0, 1],\n",
       " [0, 0, 1],\n",
       " [0, 0, 1],\n",
       " [0, 0, 1],\n",
       " [0, 1, 0],\n",
       " [0, 0, 1],\n",
       " [0, 1, 0],\n",
       " [0, 0, 1],\n",
       " [1, 1, 0],\n",
       " [0, 0, 1],\n",
       " [0, 0, 1],\n",
       " [0, 0, 1],\n",
       " [1, 0, 1],\n",
       " [1, 0, 1],\n",
       " [1, 1, 0],\n",
       " [1, 1, 0],\n",
       " [0, 0, 1],\n",
       " [0, 0, 1],\n",
       " [1, 0, 1]]"
      ]
     },
     "execution_count": 5,
     "metadata": {},
     "output_type": "execute_result"
    }
   ],
   "source": [
    "treino_dados"
   ]
  },
  {
   "cell_type": "code",
   "execution_count": 33,
   "metadata": {},
   "outputs": [
    {
     "data": {
      "text/plain": [
       "88.88888888888889"
      ]
     },
     "execution_count": 33,
     "metadata": {},
     "output_type": "execute_result"
    }
   ],
   "source": [
    "## calcular as diferencas\n",
    "\n",
    "acertos = [d for d in diferencas if d ==0]\n",
    "total_de_acertos = len(acertos)\n",
    "total_de_elementos = len(teste_dados)\n",
    "\n",
    "taxa_de_acerto = (total_de_acertos / total_de_elementos) * 100\n",
    "\n",
    "taxa_de_acerto"
   ]
  },
  {
   "cell_type": "code",
   "execution_count": null,
   "metadata": {},
   "outputs": [],
   "source": []
  }
 ],
 "metadata": {
  "kernelspec": {
   "display_name": "Python 3",
   "language": "python",
   "name": "python3"
  },
  "language_info": {
   "codemirror_mode": {
    "name": "ipython",
    "version": 3
   },
   "file_extension": ".py",
   "mimetype": "text/x-python",
   "name": "python",
   "nbconvert_exporter": "python",
   "pygments_lexer": "ipython3",
   "version": "3.7.6"
  }
 },
 "nbformat": 4,
 "nbformat_minor": 4
}
