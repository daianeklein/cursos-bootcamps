{
 "cells": [
  {
   "cell_type": "code",
   "execution_count": 79,
   "metadata": {},
   "outputs": [],
   "source": [
    "import pandas as pd\n",
    "import csv"
   ]
  },
  {
   "cell_type": "code",
   "execution_count": 95,
   "metadata": {},
   "outputs": [],
   "source": [
    "df = pd.read_csv('ML.csv')\n"
   ]
  },
  {
   "cell_type": "code",
   "execution_count": 96,
   "metadata": {},
   "outputs": [],
   "source": [
    "df_x = df[['home', 'busca', 'logado']]\n",
    "df_y = df['comprou']"
   ]
  },
  {
   "cell_type": "code",
   "execution_count": 97,
   "metadata": {},
   "outputs": [
    {
     "data": {
      "text/html": [
       "<div>\n",
       "<style scoped>\n",
       "    .dataframe tbody tr th:only-of-type {\n",
       "        vertical-align: middle;\n",
       "    }\n",
       "\n",
       "    .dataframe tbody tr th {\n",
       "        vertical-align: top;\n",
       "    }\n",
       "\n",
       "    .dataframe thead th {\n",
       "        text-align: right;\n",
       "    }\n",
       "</style>\n",
       "<table border=\"1\" class=\"dataframe\">\n",
       "  <thead>\n",
       "    <tr style=\"text-align: right;\">\n",
       "      <th></th>\n",
       "      <th>home</th>\n",
       "      <th>busca</th>\n",
       "      <th>logado</th>\n",
       "      <th>comprou</th>\n",
       "    </tr>\n",
       "  </thead>\n",
       "  <tbody>\n",
       "    <tr>\n",
       "      <th>0</th>\n",
       "      <td>0</td>\n",
       "      <td>algoritmos</td>\n",
       "      <td>1</td>\n",
       "      <td>1</td>\n",
       "    </tr>\n",
       "    <tr>\n",
       "      <th>1</th>\n",
       "      <td>0</td>\n",
       "      <td>java</td>\n",
       "      <td>0</td>\n",
       "      <td>1</td>\n",
       "    </tr>\n",
       "    <tr>\n",
       "      <th>2</th>\n",
       "      <td>1</td>\n",
       "      <td>algoritmos</td>\n",
       "      <td>0</td>\n",
       "      <td>1</td>\n",
       "    </tr>\n",
       "    <tr>\n",
       "      <th>3</th>\n",
       "      <td>1</td>\n",
       "      <td>ruby</td>\n",
       "      <td>1</td>\n",
       "      <td>0</td>\n",
       "    </tr>\n",
       "    <tr>\n",
       "      <th>4</th>\n",
       "      <td>1</td>\n",
       "      <td>ruby</td>\n",
       "      <td>0</td>\n",
       "      <td>1</td>\n",
       "    </tr>\n",
       "    <tr>\n",
       "      <th>...</th>\n",
       "      <td>...</td>\n",
       "      <td>...</td>\n",
       "      <td>...</td>\n",
       "      <td>...</td>\n",
       "    </tr>\n",
       "    <tr>\n",
       "      <th>995</th>\n",
       "      <td>0</td>\n",
       "      <td>ruby</td>\n",
       "      <td>0</td>\n",
       "      <td>0</td>\n",
       "    </tr>\n",
       "    <tr>\n",
       "      <th>996</th>\n",
       "      <td>0</td>\n",
       "      <td>ruby</td>\n",
       "      <td>0</td>\n",
       "      <td>1</td>\n",
       "    </tr>\n",
       "    <tr>\n",
       "      <th>997</th>\n",
       "      <td>0</td>\n",
       "      <td>java</td>\n",
       "      <td>1</td>\n",
       "      <td>1</td>\n",
       "    </tr>\n",
       "    <tr>\n",
       "      <th>998</th>\n",
       "      <td>1</td>\n",
       "      <td>algoritmos</td>\n",
       "      <td>0</td>\n",
       "      <td>1</td>\n",
       "    </tr>\n",
       "    <tr>\n",
       "      <th>999</th>\n",
       "      <td>0</td>\n",
       "      <td>ruby</td>\n",
       "      <td>1</td>\n",
       "      <td>0</td>\n",
       "    </tr>\n",
       "  </tbody>\n",
       "</table>\n",
       "<p>1000 rows × 4 columns</p>\n",
       "</div>"
      ],
      "text/plain": [
       "     home       busca  logado  comprou\n",
       "0       0  algoritmos       1        1\n",
       "1       0        java       0        1\n",
       "2       1  algoritmos       0        1\n",
       "3       1        ruby       1        0\n",
       "4       1        ruby       0        1\n",
       "..    ...         ...     ...      ...\n",
       "995     0        ruby       0        0\n",
       "996     0        ruby       0        1\n",
       "997     0        java       1        1\n",
       "998     1  algoritmos       0        1\n",
       "999     0        ruby       1        0\n",
       "\n",
       "[1000 rows x 4 columns]"
      ]
     },
     "execution_count": 97,
     "metadata": {},
     "output_type": "execute_result"
    }
   ],
   "source": [
    "df"
   ]
  },
  {
   "cell_type": "code",
   "execution_count": 98,
   "metadata": {},
   "outputs": [],
   "source": [
    "## Transformando as variaveis categoricas em dummies\n",
    "\n",
    "Xdummies_df = pd.get_dummies(df_x)\n",
    "Ydummies_df = df_y"
   ]
  },
  {
   "cell_type": "code",
   "execution_count": 99,
   "metadata": {},
   "outputs": [],
   "source": [
    "## Transformando os dataframes em arrays\n",
    "\n",
    "x = Xdummies_df.values\n",
    "y = Ydummies_df.values"
   ]
  },
  {
   "cell_type": "code",
   "execution_count": 100,
   "metadata": {},
   "outputs": [
    {
     "data": {
      "text/plain": [
       "900.0"
      ]
     },
     "execution_count": 100,
     "metadata": {},
     "output_type": "execute_result"
    }
   ],
   "source": [
    "## Separando os elementos entre treino e teste\n",
    "\n",
    "tamanho_de_treino = len(y) * 0.90\n",
    "tamanho_de_treino"
   ]
  },
  {
   "cell_type": "code",
   "execution_count": 101,
   "metadata": {},
   "outputs": [
    {
     "data": {
      "text/plain": [
       "MultinomialNB(alpha=1.0, class_prior=None, fit_prior=True)"
      ]
     },
     "execution_count": 101,
     "metadata": {},
     "output_type": "execute_result"
    }
   ],
   "source": [
    "from sklearn.naive_bayes import MultinomialNB\n",
    "\n",
    "modelo = MultinomialNB()\n",
    "\n",
    "## Separando dados de treino e dados de taeste\n",
    "treino_dados = x[:900]\n",
    "treino_marcacoes = y[:900]\n",
    "\n",
    "teste_dados = x[-99:]\n",
    "teste_marcacoes = y[-99:]\n",
    "\n",
    "\n",
    "\n",
    "modelo.fit(treino_dados, treino_marcacoes)\n",
    "\n",
    "##modelo.predict([[1,0,1],[0,1,0]])"
   ]
  },
  {
   "cell_type": "code",
   "execution_count": 102,
   "metadata": {},
   "outputs": [
    {
     "data": {
      "text/plain": [
       "81.81818181818183"
      ]
     },
     "execution_count": 102,
     "metadata": {},
     "output_type": "execute_result"
    }
   ],
   "source": [
    "from sklearn.naive_bayes import MultinomialNB\n",
    "\n",
    "modelo = MultinomialNB()\n",
    "modelo.fit(treino_dados, treino_marcacoes)\n",
    "\n",
    "resultado = modelo.predict(teste_dados)\n",
    "diferencas = resultado - teste_marcacoes\n",
    "\n",
    "acertos = [d for d in diferencas if d ==0]\n",
    "total_de_acertos = len(acertos)\n",
    "total_de_elementos = len(teste_dados)\n",
    "\n",
    "taxa_de_acerto = (total_de_acertos / total_de_elementos) * 100\n",
    "\n",
    "taxa_de_acerto"
   ]
  },
  {
   "cell_type": "code",
   "execution_count": 105,
   "metadata": {},
   "outputs": [],
   "source": [
    "## Criando um algoritmo como base (algoritmo \"burro\")"
   ]
  },
  {
   "cell_type": "code",
   "execution_count": 106,
   "metadata": {},
   "outputs": [],
   "source": [
    "df = pd.read_csv('ML.csv')\n",
    "\n",
    "df_x = df[['home', 'busca', 'logado']]\n",
    "df_y = df['comprou']\n",
    "\n",
    "Xdummies_df = pd.get_dummies(df_x)\n",
    "Ydummies_df = df_y\n",
    "\n",
    "x = Xdummies_df.values\n",
    "y = Ydummies_df.values\n",
    "\n"
   ]
  },
  {
   "cell_type": "code",
   "execution_count": 107,
   "metadata": {},
   "outputs": [
    {
     "data": {
      "text/plain": [
       "832"
      ]
     },
     "execution_count": 107,
     "metadata": {},
     "output_type": "execute_result"
    }
   ],
   "source": [
    "sum(y)"
   ]
  },
  {
   "cell_type": "code",
   "execution_count": 108,
   "metadata": {},
   "outputs": [
    {
     "data": {
      "text/plain": [
       "1000"
      ]
     },
     "execution_count": 108,
     "metadata": {},
     "output_type": "execute_result"
    }
   ],
   "source": [
    "len(y)"
   ]
  },
  {
   "cell_type": "code",
   "execution_count": 109,
   "metadata": {},
   "outputs": [
    {
     "data": {
      "text/plain": [
       "83.2"
      ]
     },
     "execution_count": 109,
     "metadata": {},
     "output_type": "execute_result"
    }
   ],
   "source": [
    "(sum(y) / len(y)) * 100"
   ]
  },
  {
   "cell_type": "code",
   "execution_count": 128,
   "metadata": {},
   "outputs": [
    {
     "name": "stdout",
     "output_type": "stream",
     "text": [
      "81\n",
      "18\n",
      "Taxa de acerto base 81.81818181818183\n"
     ]
    }
   ],
   "source": [
    "## Avaliando os algoritmos base\n",
    "\n",
    "acerto_de_um = sum(teste_marcacoes)\n",
    "acerto_de_zero = len(teste_marcacoes) - acerto_de_um\n",
    "\n",
    "print(acerto_de_um)\n",
    "print(acerto_de_zero)\n",
    "\n",
    "taxa_de_acerto_base = max(acerto_de_um, acerto_de_zero) / len(teste_marcacoes) * 100\n",
    "\n",
    "print(f'Taxa de acerto base {taxa_de_acerto_base}')"
   ]
  },
  {
   "cell_type": "code",
   "execution_count": 120,
   "metadata": {},
   "outputs": [
    {
     "name": "stdout",
     "output_type": "stream",
     "text": [
      "168\n",
      "832\n"
     ]
    }
   ],
   "source": [
    "## Calculando quantos 1 e quantos 0\n",
    "\n",
    "print(len(y[y==0]))\n",
    "print(len(y[y==1]))"
   ]
  },
  {
   "cell_type": "code",
   "execution_count": 123,
   "metadata": {},
   "outputs": [
    {
     "data": {
      "text/plain": [
       "Counter({1: 832, 0: 168})"
      ]
     },
     "execution_count": 123,
     "metadata": {},
     "output_type": "execute_result"
    }
   ],
   "source": [
    "from collections import Counter\n",
    "\n",
    "Counter(y)"
   ]
  },
  {
   "cell_type": "code",
   "execution_count": null,
   "metadata": {},
   "outputs": [],
   "source": []
  },
  {
   "cell_type": "code",
   "execution_count": 131,
   "metadata": {},
   "outputs": [
    {
     "data": {
      "text/plain": [
       "84.84848484848484"
      ]
     },
     "execution_count": 131,
     "metadata": {},
     "output_type": "execute_result"
    }
   ],
   "source": [
    "## \n",
    "\n",
    "from sklearn.ensemble import AdaBoostClassifier\n",
    "modelo = AdaBoostClassifier()\n",
    "\n",
    "modelo.fit(treino_dados, treino_marcacoes)\n",
    "\n",
    "resultado = modelo.predict(teste_dados)\n",
    "diferencas = resultado - teste_marcacoes\n",
    "\n",
    "acertos = [d for d in diferencas if d ==0]\n",
    "total_de_acertos = len(acertos)\n",
    "total_de_elementos = len(teste_dados)\n",
    "\n",
    "taxa_de_acerto = (total_de_acertos / total_de_elementos) * 100\n",
    "\n",
    "taxa_de_acerto"
   ]
  },
  {
   "cell_type": "code",
   "execution_count": 138,
   "metadata": {},
   "outputs": [
    {
     "name": "stdout",
     "output_type": "stream",
     "text": [
      "Taxa de acerto do MultinomialNB: 81.81818181818183\n",
      "Taxa de acerto do AdaBoost: 84.84848484848484\n"
     ]
    }
   ],
   "source": [
    "## Rodando os dois modelos\n",
    "\n",
    "def fit_and_predict(nome, modelo, treino_dados, treino_marcacoes, teste_dados, teste_marcacoes):\n",
    "    modelo.fit(treino_dados, treino_marcacoes)\n",
    "\n",
    "    resultado = modelo.predict(teste_dados)\n",
    "    diferencas = resultado - teste_marcacoes\n",
    "\n",
    "    acertos = [d for d in diferencas if d ==0]\n",
    "    total_de_acertos = len(acertos)\n",
    "    total_de_elementos = len(teste_dados)\n",
    "\n",
    "    taxa_de_acerto = (total_de_acertos / total_de_elementos) * 100\n",
    "\n",
    "    msg = 'Taxa de acerto do {0}: {1}'.format(nome, taxa_de_acerto)\n",
    "    print(msg)\n",
    "    \n",
    "    \n",
    "    \n",
    "from sklearn.naive_bayes import MultinomialNB\n",
    "modelo = MultinomialNB()\n",
    "fit_and_predict(\"MultinomialNB\", modelo, treino_dados, treino_marcacoes, teste_dados, teste_marcacoes)\n",
    "\n",
    "from sklearn.ensemble import AdaBoostClassifier\n",
    "modelo = AdaBoostClassifier()\n",
    "fit_and_predict(\"AdaBoost\",modelo, treino_dados, treino_marcacoes, teste_dados, teste_marcacoes)"
   ]
  },
  {
   "cell_type": "code",
   "execution_count": null,
   "metadata": {},
   "outputs": [],
   "source": []
  },
  {
   "cell_type": "code",
   "execution_count": 155,
   "metadata": {},
   "outputs": [],
   "source": []
  },
  {
   "cell_type": "code",
   "execution_count": null,
   "metadata": {},
   "outputs": [],
   "source": []
  },
  {
   "cell_type": "code",
   "execution_count": null,
   "metadata": {},
   "outputs": [],
   "source": []
  },
  {
   "cell_type": "code",
   "execution_count": null,
   "metadata": {},
   "outputs": [],
   "source": []
  }
 ],
 "metadata": {
  "kernelspec": {
   "display_name": "Python 3",
   "language": "python",
   "name": "python3"
  },
  "language_info": {
   "codemirror_mode": {
    "name": "ipython",
    "version": 3
   },
   "file_extension": ".py",
   "mimetype": "text/x-python",
   "name": "python",
   "nbconvert_exporter": "python",
   "pygments_lexer": "ipython3",
   "version": "3.7.6"
  }
 },
 "nbformat": 4,
 "nbformat_minor": 4
}
