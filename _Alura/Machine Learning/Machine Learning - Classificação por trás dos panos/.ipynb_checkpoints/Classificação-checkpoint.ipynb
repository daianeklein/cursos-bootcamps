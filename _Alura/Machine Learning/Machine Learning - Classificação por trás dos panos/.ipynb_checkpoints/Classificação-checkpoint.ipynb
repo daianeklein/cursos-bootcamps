{
 "cells": [
  {
   "cell_type": "code",
   "execution_count": 3,
   "metadata": {},
   "outputs": [],
   "source": []
  },
  {
   "cell_type": "code",
   "execution_count": 7,
   "metadata": {},
   "outputs": [],
   "source": [
    "from sklearn.naive_bayes import MultinomialNB\n",
    "\n",
    "porco1 = [1,1,0]\n",
    "porco2 = [1,1,0]\n",
    "porco3 = [1,1,0]\n",
    "cachorro1 = [1,1,1]\n",
    "cachorro2 = [0,1,1]\n",
    "cachorro3 = [0,1,1]\n",
    "\n",
    "dados = [porco1, porco2, porco3, cachorro1, cachorro2, cachorro3]\n",
    "\n",
    "marcacoes = [1,1,1, -1,-1,-1]\n"
   ]
  },
  {
   "cell_type": "code",
   "execution_count": 31,
   "metadata": {},
   "outputs": [
    {
     "name": "stdout",
     "output_type": "stream",
     "text": [
      "[-1  1  1]\n"
     ]
    }
   ],
   "source": [
    "mis = [1,1,1]\n",
    "mis2 = [1, 0,0]\n",
    "mis3 = [1 ,0, 0]\n",
    "\n",
    "marcacoes_teste = [-1, 1, -1] ##resultado esperado (resultado que eu sei a resposta)\n",
    "teste = [mis, mis2, mis3]\n",
    "modelo = MultinomialNB()\n",
    "\n",
    "\n",
    "modelo.fit(dados, marcacoes) ## Treinando o modelo\n",
    "\n",
    "resultado = modelo.predict(teste) ##Testando\n",
    "print(resultado)"
   ]
  },
  {
   "cell_type": "code",
   "execution_count": 32,
   "metadata": {},
   "outputs": [
    {
     "data": {
      "text/plain": [
       "array([0, 0, 2])"
      ]
     },
     "execution_count": 32,
     "metadata": {},
     "output_type": "execute_result"
    }
   ],
   "source": [
    "## Comparar as respostas\n",
    "diferenca = resultado - marcacoes_teste\n",
    "diferenca"
   ]
  },
  {
   "cell_type": "code",
   "execution_count": 34,
   "metadata": {},
   "outputs": [
    {
     "data": {
      "text/plain": [
       "66.66666666666666"
      ]
     },
     "execution_count": 34,
     "metadata": {},
     "output_type": "execute_result"
    }
   ],
   "source": [
    "## Calculando as diferencas // resultados\n",
    "\n",
    "acertos = [d for d in diferenca if d ==0]\n",
    "total_de_acertos = len(acertos)\n",
    "total_de_acertos\n",
    "\n",
    "total_de_elementos = len(teste)\n",
    "\n",
    "acuracia = (total_de_acertos / total_de_elementos) * 100\n",
    "acuracia"
   ]
  },
  {
   "cell_type": "code",
   "execution_count": null,
   "metadata": {},
   "outputs": [],
   "source": []
  }
 ],
 "metadata": {
  "kernelspec": {
   "display_name": "Python 3",
   "language": "python",
   "name": "python3"
  },
  "language_info": {
   "codemirror_mode": {
    "name": "ipython",
    "version": 3
   },
   "file_extension": ".py",
   "mimetype": "text/x-python",
   "name": "python",
   "nbconvert_exporter": "python",
   "pygments_lexer": "ipython3",
   "version": "3.7.6"
  }
 },
 "nbformat": 4,
 "nbformat_minor": 4
}
