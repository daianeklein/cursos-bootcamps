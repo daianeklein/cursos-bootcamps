{
 "cells": [
  {
   "cell_type": "markdown",
   "metadata": {},
   "source": [
    "# GeoPandas 01"
   ]
  },
  {
   "cell_type": "markdown",
   "metadata": {},
   "source": [
    "## IMPORT LIBS"
   ]
  },
  {
   "cell_type": "code",
   "execution_count": 1,
   "metadata": {},
   "outputs": [],
   "source": [
    "%matplotlib inline\n",
    "\n",
    "import pandas as pd\n",
    "import geopandas as gpd"
   ]
  },
  {
   "cell_type": "markdown",
   "metadata": {},
   "source": [
    "## Libs Import"
   ]
  },
  {
   "cell_type": "code",
   "execution_count": null,
   "metadata": {},
   "outputs": [],
   "source": [
    "rj = gpd.read_file('../Mapas/RJ/33MUE250GC_SIR.shp')"
   ]
  },
  {
   "cell_type": "code",
   "execution_count": null,
   "metadata": {},
   "outputs": [],
   "source": [
    "# tipo de documento gerado\n",
    "\n",
    "type(rj)"
   ]
  },
  {
   "cell_type": "code",
   "execution_count": null,
   "metadata": {},
   "outputs": [],
   "source": [
    "# visualizando dataframe\n",
    "rj"
   ]
  },
  {
   "cell_type": "code",
   "execution_count": null,
   "metadata": {},
   "outputs": [],
   "source": [
    "# Plotando o mapa \n",
    "\n",
    "rj.plot()"
   ]
  },
  {
   "cell_type": "code",
   "execution_count": null,
   "metadata": {},
   "outputs": [],
   "source": [
    "# Configurando o mapa\n",
    "\n",
    "rj.plot(color = 'white', edgecolor = 'black', figsize=(10,6))"
   ]
  },
  {
   "cell_type": "code",
   "execution_count": null,
   "metadata": {},
   "outputs": [],
   "source": []
  },
  {
   "cell_type": "code",
   "execution_count": null,
   "metadata": {},
   "outputs": [],
   "source": [
    "from shapely.geometry import Polygon, Point, LineString, MultiPolygon"
   ]
  },
  {
   "cell_type": "code",
   "execution_count": null,
   "metadata": {},
   "outputs": [],
   "source": [
    "# Criando um quadrado\n",
    "# Lembrar do plano cartesiano, X e Y\n",
    "# Quadrado == 4 pontos\n",
    "\n",
    "p1 = Polygon([(0, 0), (1,0), (1, 1), (0, 1)])\n",
    "\n",
    "g = gpd.GeoSeries(p1)\n",
    "print(g)\n",
    "print(g.plot())"
   ]
  },
  {
   "cell_type": "code",
   "execution_count": null,
   "metadata": {},
   "outputs": [],
   "source": [
    "# Criando um triangulo\n",
    "p2 = Polygon([(0,0), (1,0), (1,1)])\n",
    "g = gpd.GeoSeries(p2)\n",
    "print(g)\n",
    "print(g.plot())"
   ]
  },
  {
   "cell_type": "code",
   "execution_count": null,
   "metadata": {},
   "outputs": [],
   "source": [
    "# Criando um quadrado II\n",
    "p3 = Polygon([(2,0), (3,0), (3,1), (2,1)])\n",
    "\n",
    "g = gpd.GeoSeries(p3)\n",
    "print(g)\n",
    "print(g.plot())\n",
    "\n"
   ]
  },
  {
   "cell_type": "code",
   "execution_count": null,
   "metadata": {},
   "outputs": [],
   "source": [
    "# LineString\n",
    "p4 = LineString([(0, 1), (3, 0), (1,1)])\n",
    "\n",
    "g = gpd.GeoSeries(p4)\n",
    "print(g)\n",
    "print(g.plot())"
   ]
  },
  {
   "cell_type": "code",
   "execution_count": null,
   "metadata": {},
   "outputs": [],
   "source": [
    "# LineString\n",
    "# Inserindo um ponto\n",
    "p4 = LineString([(0, 1), (3, 0), (1,1)])\n",
    "p5 = Point(0.5, 0.5)\n",
    "\n",
    "g = gpd.GeoSeries(p4)\n",
    "print(g)\n",
    "print(g.plot())"
   ]
  },
  {
   "cell_type": "code",
   "execution_count": null,
   "metadata": {},
   "outputs": [],
   "source": [
    "# Tupla de poligonos\n",
    "p6 = Polygon([(1,0), (1.5, 0.4), (2,0)])\n",
    "p7 = Polygon([(1,1), (1.5, 0.6), (2,1)])\n",
    "\n",
    "p8 = MultiPolygon([p6, p7])\n",
    "\n",
    "g = gpd.GeoSeries(p8)\n",
    "print(g)\n",
    "g.plot()"
   ]
  }
 ],
 "metadata": {
  "kernelspec": {
   "display_name": "Python 3",
   "language": "python",
   "name": "python3"
  },
  "language_info": {
   "codemirror_mode": {
    "name": "ipython",
    "version": 3
   },
   "file_extension": ".py",
   "mimetype": "text/x-python",
   "name": "python",
   "nbconvert_exporter": "python",
   "pygments_lexer": "ipython3",
   "version": "3.7.6"
  },
  "toc": {
   "base_numbering": 1,
   "nav_menu": {},
   "number_sections": true,
   "sideBar": true,
   "skip_h1_title": false,
   "title_cell": "Table of Contents",
   "title_sidebar": "Contents",
   "toc_cell": false,
   "toc_position": {},
   "toc_section_display": true,
   "toc_window_display": false
  }
 },
 "nbformat": 4,
 "nbformat_minor": 4
}
