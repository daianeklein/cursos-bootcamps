{
 "cells": [
  {
   "cell_type": "code",
   "execution_count": 39,
   "metadata": {},
   "outputs": [],
   "source": [
    "import pandas as pd\n",
    "import seaborn as sns\n",
    "from sklearn.model_selection import train_test_split\n",
    "\n",
    "from sklearn import linear_model\n",
    "from sklearn.metrics import r2_score\n",
    "from sklearn.svm import SVR\n",
    "\n",
    "import numpy as np"
   ]
  },
  {
   "cell_type": "code",
   "execution_count": 22,
   "metadata": {},
   "outputs": [],
   "source": [
    "passageiros = pd.read_csv('Passageiros.csv')"
   ]
  },
  {
   "cell_type": "code",
   "execution_count": 23,
   "metadata": {},
   "outputs": [
    {
     "data": {
      "text/html": [
       "<div>\n",
       "<style scoped>\n",
       "    .dataframe tbody tr th:only-of-type {\n",
       "        vertical-align: middle;\n",
       "    }\n",
       "\n",
       "    .dataframe tbody tr th {\n",
       "        vertical-align: top;\n",
       "    }\n",
       "\n",
       "    .dataframe thead th {\n",
       "        text-align: right;\n",
       "    }\n",
       "</style>\n",
       "<table border=\"1\" class=\"dataframe\">\n",
       "  <thead>\n",
       "    <tr style=\"text-align: right;\">\n",
       "      <th></th>\n",
       "      <th>tempo</th>\n",
       "      <th>nPassageiros</th>\n",
       "    </tr>\n",
       "  </thead>\n",
       "  <tbody>\n",
       "    <tr>\n",
       "      <th>0</th>\n",
       "      <td>1949.000000</td>\n",
       "      <td>112</td>\n",
       "    </tr>\n",
       "    <tr>\n",
       "      <th>1</th>\n",
       "      <td>1949.083333</td>\n",
       "      <td>118</td>\n",
       "    </tr>\n",
       "    <tr>\n",
       "      <th>2</th>\n",
       "      <td>1949.166667</td>\n",
       "      <td>132</td>\n",
       "    </tr>\n",
       "    <tr>\n",
       "      <th>3</th>\n",
       "      <td>1949.250000</td>\n",
       "      <td>129</td>\n",
       "    </tr>\n",
       "    <tr>\n",
       "      <th>4</th>\n",
       "      <td>1949.333333</td>\n",
       "      <td>121</td>\n",
       "    </tr>\n",
       "  </tbody>\n",
       "</table>\n",
       "</div>"
      ],
      "text/plain": [
       "         tempo  nPassageiros\n",
       "0  1949.000000           112\n",
       "1  1949.083333           118\n",
       "2  1949.166667           132\n",
       "3  1949.250000           129\n",
       "4  1949.333333           121"
      ]
     },
     "execution_count": 23,
     "metadata": {},
     "output_type": "execute_result"
    }
   ],
   "source": [
    "passageiros.head()"
   ]
  },
  {
   "cell_type": "code",
   "execution_count": 24,
   "metadata": {},
   "outputs": [
    {
     "data": {
      "text/plain": [
       "<matplotlib.axes._subplots.AxesSubplot at 0x1a24eb8310>"
      ]
     },
     "execution_count": 24,
     "metadata": {},
     "output_type": "execute_result"
    },
    {
     "data": {
      "image/png": "[encoded data removed]",
      "text/plain": [
       "<Figure size 432x288 with 1 Axes>"
      ]
     },
     "metadata": {
      "needs_background": "light"
     },
     "output_type": "display_data"
    }
   ],
   "source": [
    "sns.lineplot(x='tempo', y='nPassageiros', data=passageiros)"
   ]
  },
  {
   "cell_type": "code",
   "execution_count": 25,
   "metadata": {},
   "outputs": [
    {
     "data": {
      "text/plain": [
       "array([[1949.        ],\n",
       "       [1949.08333333],\n",
       "       [1949.16666667],\n",
       "       [1949.25      ],\n",
       "       [1949.33333333],\n",
       "       [1949.41666667],\n",
       "       [1949.5       ],\n",
       "       [1949.58333333],\n",
       "       [1949.66666667],\n",
       "       [1949.75      ],\n",
       "       [1949.83333333],\n",
       "       [1949.91666667],\n",
       "       [1950.        ],\n",
       "       [1950.08333333],\n",
       "       [1950.16666667],\n",
       "       [1950.25      ],\n",
       "       [1950.33333333],\n",
       "       [1950.41666667],\n",
       "       [1950.5       ],\n",
       "       [1950.58333333],\n",
       "       [1950.66666667],\n",
       "       [1950.75      ],\n",
       "       [1950.83333333],\n",
       "       [1950.91666667],\n",
       "       [1951.        ],\n",
       "       [1951.08333333],\n",
       "       [1951.16666667],\n",
       "       [1951.25      ],\n",
       "       [1951.33333333],\n",
       "       [1951.41666667],\n",
       "       [1951.5       ],\n",
       "       [1951.58333333],\n",
       "       [1951.66666667],\n",
       "       [1951.75      ],\n",
       "       [1951.83333333],\n",
       "       [1951.91666667],\n",
       "       [1952.        ],\n",
       "       [1952.08333333],\n",
       "       [1952.16666667],\n",
       "       [1952.25      ],\n",
       "       [1952.33333333],\n",
       "       [1952.41666667],\n",
       "       [1952.5       ],\n",
       "       [1952.58333333],\n",
       "       [1952.66666667],\n",
       "       [1952.75      ],\n",
       "       [1952.83333333],\n",
       "       [1952.91666667],\n",
       "       [1953.        ],\n",
       "       [1953.08333333],\n",
       "       [1953.16666667],\n",
       "       [1953.25      ],\n",
       "       [1953.33333333],\n",
       "       [1953.41666667],\n",
       "       [1953.5       ],\n",
       "       [1953.58333333],\n",
       "       [1953.66666667],\n",
       "       [1953.75      ],\n",
       "       [1953.83333333],\n",
       "       [1953.91666667],\n",
       "       [1954.        ],\n",
       "       [1954.08333333],\n",
       "       [1954.16666667],\n",
       "       [1954.25      ],\n",
       "       [1954.33333333],\n",
       "       [1954.41666667],\n",
       "       [1954.5       ],\n",
       "       [1954.58333333],\n",
       "       [1954.66666667],\n",
       "       [1954.75      ],\n",
       "       [1954.83333333],\n",
       "       [1954.91666667],\n",
       "       [1955.        ],\n",
       "       [1955.08333333],\n",
       "       [1955.16666667],\n",
       "       [1955.25      ],\n",
       "       [1955.33333333],\n",
       "       [1955.41666667],\n",
       "       [1955.5       ],\n",
       "       [1955.58333333],\n",
       "       [1955.66666667],\n",
       "       [1955.75      ],\n",
       "       [1955.83333333],\n",
       "       [1955.91666667],\n",
       "       [1956.        ],\n",
       "       [1956.08333333],\n",
       "       [1956.16666667],\n",
       "       [1956.25      ],\n",
       "       [1956.33333333],\n",
       "       [1956.41666667],\n",
       "       [1956.5       ],\n",
       "       [1956.58333333],\n",
       "       [1956.66666667],\n",
       "       [1956.75      ],\n",
       "       [1956.83333333],\n",
       "       [1956.91666667],\n",
       "       [1957.        ],\n",
       "       [1957.08333333],\n",
       "       [1957.16666667],\n",
       "       [1957.25      ],\n",
       "       [1957.33333333],\n",
       "       [1957.41666667],\n",
       "       [1957.5       ],\n",
       "       [1957.58333333],\n",
       "       [1957.66666667],\n",
       "       [1957.75      ],\n",
       "       [1957.83333333],\n",
       "       [1957.91666667],\n",
       "       [1958.        ],\n",
       "       [1958.08333333],\n",
       "       [1958.16666667],\n",
       "       [1958.25      ],\n",
       "       [1958.33333333],\n",
       "       [1958.41666667],\n",
       "       [1958.5       ],\n",
       "       [1958.58333333],\n",
       "       [1958.66666667],\n",
       "       [1958.75      ],\n",
       "       [1958.83333333],\n",
       "       [1958.91666667],\n",
       "       [1959.        ],\n",
       "       [1959.08333333],\n",
       "       [1959.16666667],\n",
       "       [1959.25      ],\n",
       "       [1959.33333333],\n",
       "       [1959.41666667],\n",
       "       [1959.5       ],\n",
       "       [1959.58333333],\n",
       "       [1959.66666667],\n",
       "       [1959.75      ],\n",
       "       [1959.83333333],\n",
       "       [1959.91666667],\n",
       "       [1960.        ],\n",
       "       [1960.08333333],\n",
       "       [1960.16666667],\n",
       "       [1960.25      ],\n",
       "       [1960.33333333],\n",
       "       [1960.41666667],\n",
       "       [1960.5       ],\n",
       "       [1960.58333333],\n",
       "       [1960.66666667],\n",
       "       [1960.75      ],\n",
       "       [1960.83333333],\n",
       "       [1960.91666667]])"
      ]
     },
     "execution_count": 25,
     "metadata": {},
     "output_type": "execute_result"
    }
   ],
   "source": [
    "Tempo = passageiros.iloc[:, :-1].values\n",
    "Tempo"
   ]
  },
  {
   "cell_type": "code",
   "execution_count": 26,
   "metadata": {},
   "outputs": [],
   "source": [
    "nPassageiros = passageiros.iloc[:,1].values"
   ]
  },
  {
   "cell_type": "code",
   "execution_count": 27,
   "metadata": {},
   "outputs": [
    {
     "data": {
      "text/plain": [
       "array([112, 118, 132, 129, 121, 135, 148, 148, 136, 119, 104, 118, 115,\n",
       "       126, 141, 135, 125, 149, 170, 170, 158, 133, 114, 140, 145, 150,\n",
       "       178, 163, 172, 178, 199, 199, 184, 162, 146, 166, 171, 180, 193,\n",
       "       181, 183, 218, 230, 242, 209, 191, 172, 194, 196, 196, 236, 235,\n",
       "       229, 243, 264, 272, 237, 211, 180, 201, 204, 188, 235, 227, 234,\n",
       "       264, 302, 293, 259, 229, 203, 229, 242, 233, 267, 269, 270, 315,\n",
       "       364, 347, 312, 274, 237, 278, 284, 277, 317, 313, 318, 374, 413,\n",
       "       405, 355, 306, 271, 306, 315, 301, 356, 348, 355, 422, 465, 467,\n",
       "       404, 347, 305, 336, 340, 318, 362, 348, 363, 435, 491, 505, 404,\n",
       "       359, 310, 337, 360, 342, 406, 396, 420, 472, 548, 559, 463, 407,\n",
       "       362, 405, 417, 391, 419, 461, 472, 535, 622, 606, 508, 461, 390,\n",
       "       432])"
      ]
     },
     "execution_count": 27,
     "metadata": {},
     "output_type": "execute_result"
    }
   ],
   "source": [
    "nPassageiros"
   ]
  },
  {
   "cell_type": "code",
   "execution_count": 28,
   "metadata": {},
   "outputs": [],
   "source": [
    "Tempo_treino, Tempo_teste, nPassageiros_treino, nPassageiros_teste = train_test_split(\n",
    "    Tempo, nPassageiros, test_size = 0.3)"
   ]
  },
  {
   "cell_type": "code",
   "execution_count": 29,
   "metadata": {},
   "outputs": [],
   "source": [
    "## Iniciando a regressao linear\n",
    "\n",
    "regressor = linear_model.LinearRegression()"
   ]
  },
  {
   "cell_type": "code",
   "execution_count": 30,
   "metadata": {},
   "outputs": [
    {
     "data": {
      "text/plain": [
       "LinearRegression(copy_X=True, fit_intercept=True, n_jobs=None, normalize=False)"
      ]
     },
     "execution_count": 30,
     "metadata": {},
     "output_type": "execute_result"
    }
   ],
   "source": [
    "## FIT dos dados de treino\n",
    "\n",
    "regressor.fit(Tempo_treino, nPassageiros_treino)"
   ]
  },
  {
   "cell_type": "code",
   "execution_count": 31,
   "metadata": {},
   "outputs": [],
   "source": [
    "nPassageiros_predito = regressor.predict(Tempo_teste)"
   ]
  },
  {
   "cell_type": "code",
   "execution_count": 32,
   "metadata": {},
   "outputs": [],
   "source": [
    "passageiros_predito = pd.DataFrame({'Tempo' : np.ndarray.flatten(Tempo_teste), 'nPassageiros' : nPassageiros_predito})"
   ]
  },
  {
   "cell_type": "code",
   "execution_count": 33,
   "metadata": {},
   "outputs": [],
   "source": [
    "passageiros_teste = pd.DataFrame({'Tempo' : np.ndarray.flatten(Tempo_teste), 'nPassageiros' : nPassageiros_teste})"
   ]
  },
  {
   "cell_type": "code",
   "execution_count": 34,
   "metadata": {},
   "outputs": [
    {
     "data": {
      "text/plain": [
       "<matplotlib.axes._subplots.AxesSubplot at 0x1a24f28490>"
      ]
     },
     "execution_count": 34,
     "metadata": {},
     "output_type": "execute_result"
    },
    {
     "data": {
      "image/png": "[encoded data removed]",
      "text/plain": [
       "<Figure size 432x288 with 1 Axes>"
      ]
     },
     "metadata": {
      "needs_background": "light"
     },
     "output_type": "display_data"
    }
   ],
   "source": [
    "sns.lineplot(x='Tempo', y='nPassageiros', data = passageiros_teste, marker='o')\n",
    "sns.lineplot(x='Tempo', y='nPassageiros', data = passageiros_predito)"
   ]
  },
  {
   "cell_type": "code",
   "execution_count": 35,
   "metadata": {},
   "outputs": [
    {
     "data": {
      "text/plain": [
       "array([31.87559734])"
      ]
     },
     "execution_count": 35,
     "metadata": {},
     "output_type": "execute_result"
    }
   ],
   "source": [
    "regressor.coef_"
   ]
  },
  {
   "cell_type": "code",
   "execution_count": 36,
   "metadata": {},
   "outputs": [
    {
     "data": {
      "text/plain": [
       "-62031.21701778889"
      ]
     },
     "execution_count": 36,
     "metadata": {},
     "output_type": "execute_result"
    }
   ],
   "source": [
    "regressor.intercept_"
   ]
  },
  {
   "cell_type": "code",
   "execution_count": 38,
   "metadata": {},
   "outputs": [
    {
     "data": {
      "text/plain": [
       "0.8240719011498023"
      ]
     },
     "execution_count": 38,
     "metadata": {},
     "output_type": "execute_result"
    }
   ],
   "source": [
    "r2_score(nPassageiros_teste, nPassageiros_predito)"
   ]
  },
  {
   "cell_type": "code",
   "execution_count": 64,
   "metadata": {},
   "outputs": [],
   "source": [
    "regressor_svr = SVR(C=1000000)"
   ]
  },
  {
   "cell_type": "code",
   "execution_count": 65,
   "metadata": {},
   "outputs": [
    {
     "data": {
      "text/plain": [
       "SVR(C=1000000, cache_size=200, coef0=0.0, degree=3, epsilon=0.1, gamma='scale',\n",
       "    kernel='rbf', max_iter=-1, shrinking=True, tol=0.001, verbose=False)"
      ]
     },
     "execution_count": 65,
     "metadata": {},
     "output_type": "execute_result"
    }
   ],
   "source": [
    "regressor_svr.fit(Tempo_treino, nPassageiros_treino)"
   ]
  },
  {
   "cell_type": "code",
   "execution_count": 66,
   "metadata": {},
   "outputs": [],
   "source": [
    "nPassageiros_predito_svr = regressor_svr.predict(Tempo_teste)"
   ]
  },
  {
   "cell_type": "code",
   "execution_count": 67,
   "metadata": {},
   "outputs": [],
   "source": [
    "passageiros_predito_svr = pd.DataFrame({'Tempo' : np.ndarray.flatten(Tempo_teste), 'nPassageiros' : nPassageiros_predito_svr})"
   ]
  },
  {
   "cell_type": "code",
   "execution_count": 68,
   "metadata": {},
   "outputs": [
    {
     "data": {
      "text/plain": [
       "<matplotlib.axes._subplots.AxesSubplot at 0x1a2532d5d0>"
      ]
     },
     "execution_count": 68,
     "metadata": {},
     "output_type": "execute_result"
    },
    {
     "data": {
      "image/png": "[encoded data removed]",
      "text/plain": [
       "<Figure size 432x288 with 1 Axes>"
      ]
     },
     "metadata": {
      "needs_background": "light"
     },
     "output_type": "display_data"
    }
   ],
   "source": [
    "sns.lineplot(x='Tempo', y='nPassageiros', data = passageiros_teste, marker='o')\n",
    "sns.lineplot(x='Tempo', y='nPassageiros', data = passageiros_predito)\n",
    "sns.lineplot(x='Tempo', y='nPassageiros', data = passageiros_predito_svr)"
   ]
  },
  {
   "cell_type": "code",
   "execution_count": 69,
   "metadata": {},
   "outputs": [
    {
     "data": {
      "text/plain": [
       "0.8481476415787027"
      ]
     },
     "execution_count": 69,
     "metadata": {},
     "output_type": "execute_result"
    }
   ],
   "source": [
    "r2_score(nPassageiros_teste, nPassageiros_predito_svr)"
   ]
  },
  {
   "cell_type": "code",
   "execution_count": 70,
   "metadata": {},
   "outputs": [
    {
     "data": {
      "text/plain": [
       "0.8240719011498023"
      ]
     },
     "execution_count": 70,
     "metadata": {},
     "output_type": "execute_result"
    }
   ],
   "source": [
    "r2_score(nPassageiros_teste, nPassageiros_predito)"
   ]
  },
  {
   "cell_type": "code",
   "execution_count": null,
   "metadata": {},
   "outputs": [],
   "source": []
  }
 ],
 "metadata": {
  "kernelspec": {
   "display_name": "Python 3",
   "language": "python",
   "name": "python3"
  },
  "language_info": {
   "codemirror_mode": {
    "name": "ipython",
    "version": 3
   },
   "file_extension": ".py",
   "mimetype": "text/x-python",
   "name": "python",
   "nbconvert_exporter": "python",
   "pygments_lexer": "ipython3",
   "version": "3.7.6"
  }
 },
 "nbformat": 4,
 "nbformat_minor": 4
}
