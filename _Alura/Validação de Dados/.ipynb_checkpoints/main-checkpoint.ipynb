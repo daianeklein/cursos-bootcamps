{
 "cells": [
  {
   "cell_type": "code",
   "execution_count": 9,
   "metadata": {},
   "outputs": [
    {
     "name": "stdout",
     "output_type": "stream",
     "text": [
      "Requirement already satisfied: validate-docbr in /Users/daianeklein/opt/anaconda3/lib/python3.7/site-packages (1.7.0)\n",
      "Note: you may need to restart the kernel to use updated packages.\n"
     ]
    }
   ],
   "source": [
    "pip install validate-docbr"
   ]
  },
  {
   "cell_type": "code",
   "execution_count": 21,
   "metadata": {},
   "outputs": [],
   "source": [
    "from validate_docbr import CPF\n",
    "from validate_docbr import CNPJ"
   ]
  },
  {
   "cell_type": "code",
   "execution_count": 17,
   "metadata": {},
   "outputs": [
    {
     "data": {
      "text/plain": [
       "False"
      ]
     },
     "execution_count": 17,
     "metadata": {},
     "output_type": "execute_result"
    }
   ],
   "source": [
    "from validate_docbr import CPF\n",
    "\n",
    "cpf = CPF()\n",
    "\n",
    "# Validar CPF\n",
    "cpf.validate(\"012.345.678-90\")  # True\n",
    "cpf.validate(\"012.345.678-91\")  # False"
   ]
  },
  {
   "cell_type": "code",
   "execution_count": 2,
   "metadata": {},
   "outputs": [
    {
     "name": "stdout",
     "output_type": "stream",
     "text": [
      "11\n"
     ]
    }
   ],
   "source": [
    "cpf = 40123834856\n",
    "cpf = str(cpf)\n",
    "tamanho_cpf = len(cpf)\n",
    "print(tamanho_cpf)"
   ]
  },
  {
   "cell_type": "code",
   "execution_count": 22,
   "metadata": {},
   "outputs": [
    {
     "name": "stdout",
     "output_type": "stream",
     "text": [
      "True\n"
     ]
    }
   ],
   "source": [
    "ex_cnpj = '89637997000107'\n",
    "cnpj = CNPJ()\n",
    "print(cnpj.validate(ex_cnpj))"
   ]
  },
  {
   "cell_type": "markdown",
   "metadata": {},
   "source": [
    "## Criando Classe"
   ]
  },
  {
   "cell_type": "code",
   "execution_count": 28,
   "metadata": {},
   "outputs": [],
   "source": [
    "class Documento:\n",
    "    \n",
    "    @staticmethod\n",
    "    def cria_documento(documento):\n",
    "        if len(documento) == 11:\n",
    "            return DocCpf(documento)\n",
    "        elif len(documento) == 14:\n",
    "            return DocCnpj(documento)\n",
    "        else:\n",
    "            raise ValueError('Quantidade de digitos incoreta')\n",
    "            \n",
    "class DocCpf:\n",
    "    def __ini__(self, documento):\n",
    "        if self.valida(documento):\n",
    "            self.cpf = documento\n",
    "        else:\n",
    "            raise ValueError ('CPF Invalido')\n",
    "    \n",
    "    def __str__(self):\n",
    "        return self.format()\n",
    "            \n",
    "            \n",
    "    def valida(self,documento):\n",
    "        validador = CPF()\n",
    "        return validador.validate(documento)\n",
    "    \n",
    "    def format(self):\n",
    "        mascara = CPF()\n",
    "        return mascara.mask(self.cpf)\n",
    "    \n",
    "\n",
    "    \n",
    "class DocCnpj:\n",
    "    def __init__(self, documento):\n",
    "        if self.valida(documento):\n",
    "            self.cnpj = documento\n",
    "        else:\n",
    "            raise ValueError ('CNPJ invalido')\n",
    "            \n",
    "    def __str__(self):\n",
    "        return self.format()\n",
    "        \n",
    "    \n",
    "    def valida(self,documento):\n",
    "        mascara = CNPJ()\n",
    "        return mascara.mask(self.cnpj)\n",
    "    \n",
    "    def format(self):\n",
    "        mascara = CNPJ()\n",
    "        return mascara.mask(self.cnpj)\n",
    "    \n",
    "    \n"
   ]
  },
  {
   "cell_type": "code",
   "execution_count": null,
   "metadata": {},
   "outputs": [],
   "source": [
    "class Cpf:   \n",
    "    def __init__(self, documento, tipo_documento):\n",
    "        documento = str(documento)\n",
    "        self.tipo_documento = tipo_documento\n",
    "        if tipo_documento == 'cpf':\n",
    "            if self.cpf_eh_Valido(documento):\n",
    "                self.cpf = documento\n",
    "            else:\n",
    "                raise ValueError(\"CPF invalido!\")\n",
    "        elif self.tipo_documento == 'cnpj':\n",
    "            if self.cnpj_eh_valido(documento):\n",
    "                self.cnpj = documento\n",
    "            else:\n",
    "                raise ValueError('CNPJ Invalido')\n",
    "        else:\n",
    "            raise ValueError ('Documento invalido')    \n",
    "            \n",
    "    def __str__(self):\n",
    "        if self.tipo_documento == \"cpf\":\n",
    "            return self.format_cpf()\n",
    "        elif self.tipo_documento == 'cnpj':\n",
    "            return sef.format_cnpj()\n",
    "                    \n",
    "    def cpf_eh_Valido(self, documento):\n",
    "        if len(documento) == 11:\n",
    "            validador = CPF()\n",
    "            return validador.validate(CPF)\n",
    "        else:\n",
    "            raise ValueError ('Quantidade de digitos invalida!')        \n",
    "        \n",
    "    def format_cpf(self):\n",
    "        mascara = CPF()\n",
    "        return mascara.mask(self.cpf)\n",
    "    \n",
    "    def format_cnpj(self):\n",
    "        mascara = CNPJ()\n",
    "        return mascara.mark(self.cnpj)\n",
    "\n",
    "        \n",
    "    def cnpj_eh_valido(self, cnpj):\n",
    "        if len(cnpj) == 14:\n",
    "            validate_cnpj = CNPJ()\n",
    "            return validate_cnpj.valite(cnpj)\n",
    "        else:\n",
    "            raise ValueError (\"Quantdade de digitos invalida\")\n",
    "        "
   ]
  },
  {
   "cell_type": "markdown",
   "metadata": {},
   "source": [
    "## Criando a variavel de fatiamento do CPF"
   ]
  },
  {
   "cell_type": "code",
   "execution_count": 4,
   "metadata": {},
   "outputs": [
    {
     "name": "stdout",
     "output_type": "stream",
     "text": [
      "401\n",
      "238\n",
      "348\n",
      "56\n"
     ]
    }
   ],
   "source": [
    "fatia_um = cpf[:3]\n",
    "fatia_dois = cpf[3:6]\n",
    "fatia_tres = cpf[6:9]\n",
    "fatia_quatro = cpf[9:]\n",
    "print(fatia_um)\n",
    "print(fatia_dois)\n",
    "print(fatia_tres)\n",
    "print(fatia_quatro)\n",
    "\n",
    "cpf_formatado = \"{}.{}.{}-{}\".format(fatia_um, fatia_dois, fatia_tres, fatia_quatro)"
   ]
  },
  {
   "cell_type": "code",
   "execution_count": 5,
   "metadata": {},
   "outputs": [
    {
     "data": {
      "text/plain": [
       "'401.238.348-56'"
      ]
     },
     "execution_count": 5,
     "metadata": {},
     "output_type": "execute_result"
    }
   ],
   "source": [
    "cpf_formatado"
   ]
  },
  {
   "cell_type": "code",
   "execution_count": null,
   "metadata": {},
   "outputs": [],
   "source": []
  }
 ],
 "metadata": {
  "kernelspec": {
   "display_name": "Python 3",
   "language": "python",
   "name": "python3"
  },
  "language_info": {
   "codemirror_mode": {
    "name": "ipython",
    "version": 3
   },
   "file_extension": ".py",
   "mimetype": "text/x-python",
   "name": "python",
   "nbconvert_exporter": "python",
   "pygments_lexer": "ipython3",
   "version": "3.7.6"
  }
 },
 "nbformat": 4,
 "nbformat_minor": 4
}
