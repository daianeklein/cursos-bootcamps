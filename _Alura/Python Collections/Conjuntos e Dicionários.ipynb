{
 "cells": [
  {
   "cell_type": "code",
   "execution_count": 111,
   "metadata": {},
   "outputs": [],
   "source": [
    "usuarios_data_science = [12, 23, 43, 56]\n",
    "usuarios_machine_learning = [12, 23, 56, 42]\n"
   ]
  },
  {
   "cell_type": "code",
   "execution_count": 112,
   "metadata": {},
   "outputs": [],
   "source": [
    "assistiram = []"
   ]
  },
  {
   "cell_type": "code",
   "execution_count": 113,
   "metadata": {},
   "outputs": [
    {
     "data": {
      "text/plain": [
       "[12, 23, 43, 56]"
      ]
     },
     "execution_count": 113,
     "metadata": {},
     "output_type": "execute_result"
    }
   ],
   "source": [
    "assistiram.extend(usuarios_data_science)\n",
    "assistiram"
   ]
  },
  {
   "cell_type": "code",
   "execution_count": 114,
   "metadata": {},
   "outputs": [],
   "source": [
    "assistiram = usuarios_data_science.copy()"
   ]
  },
  {
   "cell_type": "code",
   "execution_count": 115,
   "metadata": {},
   "outputs": [
    {
     "data": {
      "text/plain": [
       "[12, 23, 43, 56, 12, 23, 56, 42]"
      ]
     },
     "execution_count": 115,
     "metadata": {},
     "output_type": "execute_result"
    }
   ],
   "source": [
    "assistiram.extend(usuarios_machine_learning)\n",
    "assistiram"
   ]
  },
  {
   "cell_type": "markdown",
   "metadata": {},
   "source": [
    "### Conjunto = set"
   ]
  },
  {
   "cell_type": "code",
   "execution_count": 116,
   "metadata": {},
   "outputs": [
    {
     "data": {
      "text/plain": [
       "{12, 23, 42, 43, 56}"
      ]
     },
     "execution_count": 116,
     "metadata": {},
     "output_type": "execute_result"
    }
   ],
   "source": [
    "## Ao transformar a lista anterior em um conjunto, as duplicatas foram removidas\n",
    "set(assistiram)"
   ]
  },
  {
   "cell_type": "code",
   "execution_count": 117,
   "metadata": {},
   "outputs": [
    {
     "data": {
      "text/plain": [
       "{1, 2, 3, 4, 5, 6}"
      ]
     },
     "execution_count": 117,
     "metadata": {},
     "output_type": "execute_result"
    }
   ],
   "source": [
    "set([5, 6, 1, 2, 3, 4, 1, 2])"
   ]
  },
  {
   "cell_type": "code",
   "execution_count": 118,
   "metadata": {},
   "outputs": [
    {
     "name": "stdout",
     "output_type": "stream",
     "text": [
      "42\n",
      "43\n",
      "12\n",
      "23\n",
      "56\n"
     ]
    }
   ],
   "source": [
    "for u in set(assistiram):\n",
    "    print(u)"
   ]
  },
  {
   "cell_type": "code",
   "execution_count": 119,
   "metadata": {},
   "outputs": [],
   "source": [
    "user1 = {1, 3, 12, 15, 20, 24}\n",
    "user2 = {1,2, 89, 45,12, 20}"
   ]
  },
  {
   "cell_type": "code",
   "execution_count": 120,
   "metadata": {},
   "outputs": [
    {
     "data": {
      "text/plain": [
       "{1, 2, 3, 12, 15, 20, 24, 45, 89}"
      ]
     },
     "execution_count": 120,
     "metadata": {},
     "output_type": "execute_result"
    }
   ],
   "source": [
    "## Unindo os dois conjuntos\n",
    "user1 | user2"
   ]
  },
  {
   "cell_type": "code",
   "execution_count": 121,
   "metadata": {},
   "outputs": [
    {
     "data": {
      "text/plain": [
       "{1, 12, 20}"
      ]
     },
     "execution_count": 121,
     "metadata": {},
     "output_type": "execute_result"
    }
   ],
   "source": [
    "## Quem fez os dois cursos\n",
    "\n",
    "user1 & user2"
   ]
  },
  {
   "cell_type": "code",
   "execution_count": 122,
   "metadata": {},
   "outputs": [
    {
     "data": {
      "text/plain": [
       "{3, 15, 24}"
      ]
     },
     "execution_count": 122,
     "metadata": {},
     "output_type": "execute_result"
    }
   ],
   "source": [
    "## \"Tirar\" o usuario que nao esta na lista 2\n",
    "\n",
    "user1 - user2"
   ]
  },
  {
   "cell_type": "code",
   "execution_count": 123,
   "metadata": {},
   "outputs": [
    {
     "data": {
      "text/plain": [
       "{2, 3, 15, 24, 45, 89}"
      ]
     },
     "execution_count": 123,
     "metadata": {},
     "output_type": "execute_result"
    }
   ],
   "source": [
    "## Fez um, mas nao fez o outro (nao pode ter feito os dois)\n",
    "\n",
    "user1 ^ user2"
   ]
  },
  {
   "cell_type": "code",
   "execution_count": 124,
   "metadata": {},
   "outputs": [],
   "source": [
    "user3 = {12, 54, 87, 45, 10, 29, 10, 17, 18, 45}"
   ]
  },
  {
   "cell_type": "code",
   "execution_count": 125,
   "metadata": {},
   "outputs": [
    {
     "data": {
      "text/plain": [
       "8"
      ]
     },
     "execution_count": 125,
     "metadata": {},
     "output_type": "execute_result"
    }
   ],
   "source": [
    "len(user3)"
   ]
  },
  {
   "cell_type": "code",
   "execution_count": 126,
   "metadata": {},
   "outputs": [],
   "source": [
    "user3.add(54)"
   ]
  },
  {
   "cell_type": "code",
   "execution_count": 127,
   "metadata": {},
   "outputs": [],
   "source": [
    "##Congelar os usuarios\n",
    "\n",
    "user3 = frozenset(user3)"
   ]
  },
  {
   "cell_type": "code",
   "execution_count": 128,
   "metadata": {},
   "outputs": [
    {
     "data": {
      "text/plain": [
       "frozenset({10, 12, 17, 18, 29, 45, 54, 87})"
      ]
     },
     "execution_count": 128,
     "metadata": {},
     "output_type": "execute_result"
    }
   ],
   "source": [
    "user3"
   ]
  },
  {
   "cell_type": "code",
   "execution_count": 129,
   "metadata": {},
   "outputs": [],
   "source": [
    "texto = 'Ola meu nome eh Daiane eu gosto muito de nome eu tenho um cachorro que o nome eh gosto'"
   ]
  },
  {
   "cell_type": "code",
   "execution_count": 130,
   "metadata": {
    "scrolled": true
   },
   "outputs": [
    {
     "data": {
      "text/plain": [
       "{'Daiane',\n",
       " 'Ola',\n",
       " 'cachorro',\n",
       " 'de',\n",
       " 'eh',\n",
       " 'eu',\n",
       " 'gosto',\n",
       " 'meu',\n",
       " 'muito',\n",
       " 'nome',\n",
       " 'o',\n",
       " 'que',\n",
       " 'tenho',\n",
       " 'um'}"
      ]
     },
     "execution_count": 130,
     "metadata": {},
     "output_type": "execute_result"
    }
   ],
   "source": [
    "set(texto.split())"
   ]
  },
  {
   "cell_type": "code",
   "execution_count": 131,
   "metadata": {},
   "outputs": [],
   "source": [
    "oioi = {\n",
    "    'Daiane' : 1,\n",
    "    'cachorro' : 2,\n",
    "    'nome' : 3,\n",
    "    'muito' : 4\n",
    "    \n",
    "}"
   ]
  },
  {
   "cell_type": "code",
   "execution_count": 132,
   "metadata": {},
   "outputs": [
    {
     "data": {
      "text/plain": [
       "1"
      ]
     },
     "execution_count": 132,
     "metadata": {},
     "output_type": "execute_result"
    }
   ],
   "source": [
    "oioi['Daiane']"
   ]
  },
  {
   "cell_type": "code",
   "execution_count": 133,
   "metadata": {},
   "outputs": [
    {
     "data": {
      "text/plain": [
       "3"
      ]
     },
     "execution_count": 133,
     "metadata": {},
     "output_type": "execute_result"
    }
   ],
   "source": [
    "oioi['nome']"
   ]
  },
  {
   "cell_type": "code",
   "execution_count": 134,
   "metadata": {},
   "outputs": [
    {
     "data": {
      "text/plain": [
       "2"
      ]
     },
     "execution_count": 134,
     "metadata": {},
     "output_type": "execute_result"
    }
   ],
   "source": [
    "oioi['cachorro']"
   ]
  },
  {
   "cell_type": "code",
   "execution_count": 135,
   "metadata": {},
   "outputs": [
    {
     "data": {
      "text/plain": [
       "1"
      ]
     },
     "execution_count": 135,
     "metadata": {},
     "output_type": "execute_result"
    }
   ],
   "source": [
    "oioi.get('Daiane', 0)"
   ]
  },
  {
   "cell_type": "code",
   "execution_count": 136,
   "metadata": {},
   "outputs": [
    {
     "data": {
      "text/plain": [
       "2"
      ]
     },
     "execution_count": 136,
     "metadata": {},
     "output_type": "execute_result"
    }
   ],
   "source": [
    "oioi.get('cachorro', 10)"
   ]
  },
  {
   "cell_type": "code",
   "execution_count": 137,
   "metadata": {},
   "outputs": [
    {
     "data": {
      "text/plain": [
       "'no'"
      ]
     },
     "execution_count": 137,
     "metadata": {},
     "output_type": "execute_result"
    }
   ],
   "source": [
    "oioi.get('gato', \"no\")"
   ]
  },
  {
   "cell_type": "code",
   "execution_count": 138,
   "metadata": {},
   "outputs": [
    {
     "data": {
      "text/plain": [
       "{'Daiane': 3, 'cachorro': 2, 'coelh': 1}"
      ]
     },
     "execution_count": 138,
     "metadata": {},
     "output_type": "execute_result"
    }
   ],
   "source": [
    "teste2 = dict( Daiane = 3, cachorro = 2, coelh = 1)\n",
    "teste2"
   ]
  },
  {
   "cell_type": "code",
   "execution_count": 139,
   "metadata": {},
   "outputs": [
    {
     "data": {
      "text/plain": [
       "{'Daiane': 1, 'cachorro': 2, 'nome': 3, 'muito': 4, 'Sherazade': 10}"
      ]
     },
     "execution_count": 139,
     "metadata": {},
     "output_type": "execute_result"
    }
   ],
   "source": [
    "oioi['Sherazade'] = 10\n",
    "oioi"
   ]
  },
  {
   "cell_type": "code",
   "execution_count": 140,
   "metadata": {},
   "outputs": [],
   "source": [
    "oioi['Bono'] = 20"
   ]
  },
  {
   "cell_type": "code",
   "execution_count": 141,
   "metadata": {},
   "outputs": [],
   "source": [
    "oioi['Scott']= 5"
   ]
  },
  {
   "cell_type": "code",
   "execution_count": 142,
   "metadata": {},
   "outputs": [],
   "source": [
    "oioi['teste'] = 19"
   ]
  },
  {
   "cell_type": "code",
   "execution_count": 143,
   "metadata": {},
   "outputs": [
    {
     "data": {
      "text/plain": [
       "{'Daiane': 1,\n",
       " 'cachorro': 2,\n",
       " 'nome': 3,\n",
       " 'muito': 4,\n",
       " 'Sherazade': 10,\n",
       " 'Bono': 20,\n",
       " 'Scott': 5,\n",
       " 'teste': 19}"
      ]
     },
     "execution_count": 143,
     "metadata": {},
     "output_type": "execute_result"
    }
   ],
   "source": [
    "oioi"
   ]
  },
  {
   "cell_type": "code",
   "execution_count": 144,
   "metadata": {},
   "outputs": [],
   "source": [
    "del oioi['teste']"
   ]
  },
  {
   "cell_type": "code",
   "execution_count": 145,
   "metadata": {},
   "outputs": [
    {
     "data": {
      "text/plain": [
       "True"
      ]
     },
     "execution_count": 145,
     "metadata": {},
     "output_type": "execute_result"
    }
   ],
   "source": [
    "'Sherazade' in oioi"
   ]
  },
  {
   "cell_type": "code",
   "execution_count": 146,
   "metadata": {},
   "outputs": [
    {
     "name": "stdout",
     "output_type": "stream",
     "text": [
      "Daiane\n",
      "cachorro\n",
      "nome\n",
      "muito\n",
      "Sherazade\n",
      "Bono\n",
      "Scott\n"
     ]
    }
   ],
   "source": [
    "for u in oioi:\n",
    "    print(u)"
   ]
  },
  {
   "cell_type": "code",
   "execution_count": 147,
   "metadata": {},
   "outputs": [
    {
     "name": "stdout",
     "output_type": "stream",
     "text": [
      "Daiane 1\n",
      "cachorro 2\n",
      "nome 3\n",
      "muito 4\n",
      "Sherazade 10\n",
      "Bono 20\n",
      "Scott 5\n"
     ]
    }
   ],
   "source": [
    "for item in oioi.keys():\n",
    "    print (item, oioi[item])"
   ]
  },
  {
   "cell_type": "code",
   "execution_count": 148,
   "metadata": {},
   "outputs": [
    {
     "name": "stdout",
     "output_type": "stream",
     "text": [
      "1\n",
      "2\n",
      "3\n",
      "4\n",
      "10\n",
      "20\n",
      "5\n"
     ]
    }
   ],
   "source": [
    "for item in oioi.values():\n",
    "    print(item)"
   ]
  },
  {
   "cell_type": "code",
   "execution_count": 149,
   "metadata": {},
   "outputs": [
    {
     "name": "stdout",
     "output_type": "stream",
     "text": [
      "('Daiane', 1)\n",
      "('cachorro', 2)\n",
      "('nome', 3)\n",
      "('muito', 4)\n",
      "('Sherazade', 10)\n",
      "('Bono', 20)\n",
      "('Scott', 5)\n"
     ]
    }
   ],
   "source": [
    "for item in oioi.items():\n",
    "    print(item)"
   ]
  },
  {
   "cell_type": "code",
   "execution_count": 150,
   "metadata": {},
   "outputs": [
    {
     "name": "stdout",
     "output_type": "stream",
     "text": [
      "Daiane -----> 1\n",
      "cachorro -----> 2\n",
      "nome -----> 3\n",
      "muito -----> 4\n",
      "Sherazade -----> 10\n",
      "Bono -----> 20\n",
      "Scott -----> 5\n"
     ]
    }
   ],
   "source": [
    "for nome, codigo in oioi.items():\n",
    "    print(nome, \"----->\", codigo)"
   ]
  },
  {
   "cell_type": "code",
   "execution_count": 151,
   "metadata": {},
   "outputs": [
    {
     "name": "stdout",
     "output_type": "stream",
     "text": [
      "Daiane\n",
      "cachorro\n",
      "nome\n",
      "muito\n",
      "Sherazade\n",
      "Bono\n",
      "Scott\n"
     ]
    }
   ],
   "source": [
    "for k in oioi.keys():\n",
    "    print(k)"
   ]
  },
  {
   "cell_type": "code",
   "execution_count": 152,
   "metadata": {},
   "outputs": [
    {
     "data": {
      "text/plain": [
       "['A palavra chave eeeeh Daiane',\n",
       " 'A palavra chave eeeeh cachorro',\n",
       " 'A palavra chave eeeeh nome',\n",
       " 'A palavra chave eeeeh muito',\n",
       " 'A palavra chave eeeeh Sherazade',\n",
       " 'A palavra chave eeeeh Bono',\n",
       " 'A palavra chave eeeeh Scott']"
      ]
     },
     "execution_count": 152,
     "metadata": {},
     "output_type": "execute_result"
    }
   ],
   "source": [
    "['A palavra chave eeeeh {}'.format(k) for k in oioi.keys()]"
   ]
  },
  {
   "cell_type": "code",
   "execution_count": 153,
   "metadata": {},
   "outputs": [
    {
     "data": {
      "text/plain": [
       "'Ola meu nome eh Daiane eu gosto muito de nome eu tenho um cachorro que o nome eh gosto'"
      ]
     },
     "execution_count": 153,
     "metadata": {},
     "output_type": "execute_result"
    }
   ],
   "source": [
    "texto"
   ]
  },
  {
   "cell_type": "code",
   "execution_count": 154,
   "metadata": {},
   "outputs": [
    {
     "data": {
      "text/plain": [
       "'ola meu nome eh daiane eu gosto muito de nome eu tenho um cachorro que o nome eh gosto'"
      ]
     },
     "execution_count": 154,
     "metadata": {},
     "output_type": "execute_result"
    }
   ],
   "source": [
    "texto = texto.lower()\n",
    "texto"
   ]
  },
  {
   "cell_type": "code",
   "execution_count": 176,
   "metadata": {},
   "outputs": [
    {
     "ename": "TypeError",
     "evalue": "unsupported operand type(s) for +: 'collections.defaultdict' and 'int'",
     "output_type": "error",
     "traceback": [
      "\u001b[0;31m---------------------------------------------------------------------------\u001b[0m",
      "\u001b[0;31mTypeError\u001b[0m                                 Traceback (most recent call last)",
      "\u001b[0;32m<ipython-input-176-cfd2a0038bc4>\u001b[0m in \u001b[0;36m<module>\u001b[0;34m\u001b[0m\n\u001b[1;32m      3\u001b[0m \u001b[0;32mfor\u001b[0m \u001b[0mp\u001b[0m \u001b[0;32min\u001b[0m \u001b[0mtexto\u001b[0m\u001b[0;34m.\u001b[0m\u001b[0msplit\u001b[0m\u001b[0;34m(\u001b[0m\u001b[0;34m)\u001b[0m\u001b[0;34m:\u001b[0m\u001b[0;34m\u001b[0m\u001b[0;34m\u001b[0m\u001b[0m\n\u001b[1;32m      4\u001b[0m     \u001b[0mate_agora\u001b[0m \u001b[0;34m=\u001b[0m \u001b[0mtexto2\u001b[0m\u001b[0;34m\u001b[0m\u001b[0;34m\u001b[0m\u001b[0m\n\u001b[0;32m----> 5\u001b[0;31m     \u001b[0mtexto2\u001b[0m\u001b[0;34m[\u001b[0m\u001b[0mp\u001b[0m\u001b[0;34m]\u001b[0m \u001b[0;34m=\u001b[0m \u001b[0mate_agora\u001b[0m \u001b[0;34m+\u001b[0m \u001b[0;36m1\u001b[0m\u001b[0;34m\u001b[0m\u001b[0;34m\u001b[0m\u001b[0m\n\u001b[0m\u001b[1;32m      6\u001b[0m \u001b[0;34m\u001b[0m\u001b[0m\n\u001b[1;32m      7\u001b[0m \u001b[0mtexto2\u001b[0m\u001b[0;34m\u001b[0m\u001b[0;34m\u001b[0m\u001b[0m\n",
      "\u001b[0;31mTypeError\u001b[0m: unsupported operand type(s) for +: 'collections.defaultdict' and 'int'"
     ]
    }
   ],
   "source": [
    "texto2 = defaultdict(int)\n",
    "\n",
    "for p in texto.split():\n",
    "    ate_agora = texto2\n",
    "    texto2[p] = ate_agora + 1\n",
    "    \n",
    "texto2"
   ]
  },
  {
   "cell_type": "code",
   "execution_count": 164,
   "metadata": {},
   "outputs": [],
   "source": [
    "from collections import defaultdict"
   ]
  },
  {
   "cell_type": "code",
   "execution_count": 172,
   "metadata": {},
   "outputs": [
    {
     "name": "stdout",
     "output_type": "stream",
     "text": [
      "Cadastrando conta\n"
     ]
    },
    {
     "data": {
      "text/plain": [
       "<__main__.Conta at 0x1081b8a50>"
      ]
     },
     "execution_count": 172,
     "metadata": {},
     "output_type": "execute_result"
    }
   ],
   "source": [
    "conta[10]"
   ]
  },
  {
   "cell_type": "code",
   "execution_count": 173,
   "metadata": {},
   "outputs": [
    {
     "name": "stdout",
     "output_type": "stream",
     "text": [
      "Cadastrando conta\n"
     ]
    },
    {
     "data": {
      "text/plain": [
       "<__main__.Conta at 0x1081b8f90>"
      ]
     },
     "execution_count": 173,
     "metadata": {},
     "output_type": "execute_result"
    }
   ],
   "source": [
    "conta[20]"
   ]
  },
  {
   "cell_type": "code",
   "execution_count": 175,
   "metadata": {},
   "outputs": [],
   "source": [
    "from collections import Counter"
   ]
  },
  {
   "cell_type": "code",
   "execution_count": 165,
   "metadata": {},
   "outputs": [
    {
     "data": {
      "text/plain": [
       "defaultdict(int,\n",
       "            {'ola': 1,\n",
       "             'meu': 1,\n",
       "             'nome': 3,\n",
       "             'eh': 2,\n",
       "             'daiane': 1,\n",
       "             'eu': 2,\n",
       "             'gosto': 2,\n",
       "             'muito': 1,\n",
       "             'de': 1,\n",
       "             'tenho': 1,\n",
       "             'um': 1,\n",
       "             'cachorro': 1,\n",
       "             'que': 1,\n",
       "             'o': 1})"
      ]
     },
     "execution_count": 165,
     "metadata": {},
     "output_type": "execute_result"
    }
   ],
   "source": [
    "texto2 = defaultdict(int)\n",
    "\n",
    "for p in texto.split():\n",
    "    texto2[p] += 1\n",
    "    \n",
    "texto2"
   ]
  },
  {
   "cell_type": "code",
   "execution_count": 169,
   "metadata": {},
   "outputs": [],
   "source": [
    "class Conta:\n",
    "    def __init__(self):\n",
    "        print('Cadastrando conta')\n",
    "        \n",
    "conta = defaultdict(Conta)"
   ]
  },
  {
   "cell_type": "code",
   "execution_count": 178,
   "metadata": {},
   "outputs": [
    {
     "data": {
      "text/plain": [
       "Counter({'ola': 1,\n",
       "         'meu': 1,\n",
       "         'nome': 3,\n",
       "         'eh': 2,\n",
       "         'daiane': 1,\n",
       "         'eu': 2,\n",
       "         'gosto': 2,\n",
       "         'muito': 1,\n",
       "         'de': 1,\n",
       "         'tenho': 1,\n",
       "         'um': 1,\n",
       "         'cachorro': 1,\n",
       "         'que': 1,\n",
       "         'o': 1})"
      ]
     },
     "execution_count": 178,
     "metadata": {},
     "output_type": "execute_result"
    }
   ],
   "source": [
    "texto2 = Counter()\n",
    "for p in texto.split():\n",
    "    texto2[p] += 1\n",
    "    \n",
    "texto2"
   ]
  },
  {
   "cell_type": "code",
   "execution_count": 179,
   "metadata": {},
   "outputs": [
    {
     "data": {
      "text/plain": [
       "Counter({'ola': 1,\n",
       "         'meu': 1,\n",
       "         'nome': 3,\n",
       "         'eh': 2,\n",
       "         'daiane': 1,\n",
       "         'eu': 2,\n",
       "         'gosto': 2,\n",
       "         'muito': 1,\n",
       "         'de': 1,\n",
       "         'tenho': 1,\n",
       "         'um': 1,\n",
       "         'cachorro': 1,\n",
       "         'que': 1,\n",
       "         'o': 1})"
      ]
     },
     "execution_count": 179,
     "metadata": {},
     "output_type": "execute_result"
    }
   ],
   "source": [
    "texto2 = Counter(texto.split())\n",
    "texto2"
   ]
  },
  {
   "cell_type": "code",
   "execution_count": 166,
   "metadata": {},
   "outputs": [],
   "source": [
    "from collections import Counter"
   ]
  },
  {
   "cell_type": "code",
   "execution_count": 180,
   "metadata": {},
   "outputs": [],
   "source": [
    "texto3 = \"\"\"\n",
    "\n",
    "Ansioso por desbravar o universo da Ciência de Dados e não sabe por onde começar? Nós ajudaremos você. Preparamos um guia que vai ajudá-lo a compreender o que faz um Cientista de Dados e como iniciar sua preparação! Confira.\n",
    "Vamos começar definindo o que é um Cientista de Dados:\n",
    "Cientistas de Dados são uma nova geração de especialistas analíticos que têm as habilidades técnicas para resolver problemas complexos – e a curiosidade de explorar quais são os problemas que precisam ser resolvidos.\n",
    "Eles também são um sinal dos tempos modernos. Cientistas de dados não estavam no radar há uma década, mas sua popularidade repentina reflete como as empresas agora pensam sobre Big Data. Essa incrível massa de informações não estruturadas já não pode mais ser ignorada e esquecida. É uma mina de ouro virtual que ajuda a aumentar receitas – contanto que haja alguém que escave e desenterre insights empresariais que ninguém havia pensado em procurar. Entra em cena o Cientista de Dados.\n",
    "Para a comunidade em geral, um Cientista de Dados é um desses “Magos de Dados”, que pode adquirir massas de dados de diversas fontes e então limpar, tratar, organizar e preparar os dados; e, em seguida, explorar as suas habilidades em Matemática, Estatística e Machine Learning para descobrir insights ocultos de negócios e gerar inteligência.\n",
    "Os dados utilizados por um Cientista de Dados podem ser tanto estruturados (bancos de dados transacionais de sistemas ERP ou CRM, por exemplo) e não estruturados (e-mails, imagens, vídeos ou dados de redes sociais). O Cientista de Dados cria algoritmos para extrair insights desses dados. Em seguida, cabe ao Cientista de Dados, apresentar estes dados, de forma que os tomadores de decisão possam utilizar o resultado da análise ao definir as estratégias empresariais ou mesmo para criar novos produtos ou serviços baseados em dados.\n",
    "De acordo com Anjul Bhambhri, ex Vice Presidente de Big Data da IBM e atual Vice Presidente da Adobe, o Cientista de Dados é o profissional capaz de trazer a mudança para uma organização através da análise de diversas fontes de dados. Anjul Bhambhri escreve:\n",
    "“Um Cientista de Dados representa uma evolução do papel de Analista de Negócios ou Analista de Dados. Estes profissionais possuem uma base sólida normalmente em ciência da computação, aplicações, modelagem, estatísticas, análises e matemática. O que define o Cientista de Dados é a forte visão de negócios, juntamente com a capacidade de comunicar os resultados, tanto para os líderes de negócios quanto para seus pares, de uma forma que influencie como uma organização posiciona-se diante dos desafios do mercado”.\n",
    "Não existe uma formação que prepare Cientistas de Dados, pois esta é uma profissão relativamente nova. Tem havido muito debate sobre isso no ambiente acadêmico (principalmente nos EUA), pois o mercado precisa de profissionais agora e o tempo de preparação de um profissional com estas habilidades, pode levar algum tempo. E por isso formações técnicas em determinadas áreas, podem ajudar a preparar estes profissionais.\n",
    "Com tantas informações sobre a profissão de Cientista de Dados e seu crescimento exponencial nos últimos anos, é fácil se perder diante de tantos artigos e materiais com fórmulas mágicas sobre qual caminho seguir. Vou fazer um alerta: não existe caminho fácil para se tornar um Cientista de Dados! É preciso estudar, aprender diferentes técnicas e ter conhecimento interdisciplinar. Por esse motivo, os Cientistas de Dados são bem remunerados e difíceis de encontrar no mercado.\n",
    "Abaixo, os 8 passos que consideramos fundamentais para a preparação de um Cientista de Dados:\n",
    "\n",
    "\"\"\""
   ]
  },
  {
   "cell_type": "code",
   "execution_count": 191,
   "metadata": {},
   "outputs": [
    {
     "name": "stdout",
     "output_type": "stream",
     "text": [
      "('\\n', 0.0038535645472061657)\n",
      "('a', 0.10239471511147812)\n",
      "('n', 0.04046242774566474)\n",
      "('s', 0.08147536471235893)\n",
      "('i', 0.05945499587118084)\n",
      "('o', 0.07129094412331406)\n",
      "(' ', 0.15661987338287917)\n",
      "('p', 0.025048169556840076)\n",
      "('r', 0.05284888521882741)\n",
      "('d', 0.05697770437654831)\n",
      "('e', 0.0979906413432425)\n",
      "('b', 0.007982383704927057)\n",
      "('v', 0.008257638315441783)\n",
      "('u', 0.027525461051472612)\n",
      "('c', 0.030278007156619872)\n",
      "('ê', 0.0016515276630883566)\n",
      "('ã', 0.006881365262868153)\n",
      "('m', 0.036058353977429125)\n",
      "('ç', 0.004679328378750344)\n",
      "('?', 0.0002752546105147261)\n",
      "('ó', 0.0019267822736030828)\n",
      "('j', 0.002477291494632535)\n",
      "('.', 0.006055601431323975)\n",
      "('g', 0.009358656757500689)\n",
      "('q', 0.005505092210294523)\n",
      "('á', 0.0033030553261767133)\n",
      "('-', 0.0008257638315441783)\n",
      "('l', 0.01706578585191302)\n",
      "('f', 0.00853289292595651)\n",
      "('z', 0.002477291494632535)\n",
      "('t', 0.040737682356179465)\n",
      "('!', 0.0005505092210294523)\n",
      "('é', 0.004679328378750344)\n",
      "(':', 0.0011010184420589045)\n",
      "('í', 0.0019267822736030828)\n",
      "('h', 0.00495458298926507)\n",
      "('x', 0.0027525461051472614)\n",
      "('–', 0.0005505092210294523)\n",
      "(',', 0.00853289292595651)\n",
      "('õ', 0.0011010184420589045)\n",
      "('“', 0.0005505092210294523)\n",
      "('”', 0.0005505092210294523)\n",
      "(';', 0.0002752546105147261)\n",
      "('(', 0.0008257638315441783)\n",
      "(')', 0.0008257638315441783)\n",
      "('ú', 0.0002752546105147261)\n",
      "('8', 0.0002752546105147261)\n"
     ]
    }
   ],
   "source": [
    "aparicoes = Counter(texto3.lower())\n",
    "total_carac = sum(aparicoes.values())\n",
    "\n",
    "for letra, frequencia in aparicoes.items():\n",
    "    tupla = (letra, frequencia / total_carac)\n",
    "    print(tupla)\n",
    "    "
   ]
  },
  {
   "cell_type": "code",
   "execution_count": 205,
   "metadata": {},
   "outputs": [],
   "source": [
    "def analisa_frequencia_de_letras(texto):\n",
    "    aparicoes = Counter(texto.lower())\n",
    "    total_carac = sum(aparicoes.values())\n",
    "\n",
    "    proporcoes = [(letra, frequencia / total_carac) for letra, frequencia in aparicoes.items() ]\n",
    "    proporcoes = Counter(dict(proporcoes))\n",
    "    mais_comuns = proporcoes.most_common(10)\n",
    "    for carac, proporcao in mais_comuns:\n",
    "        print(\"{} --> {:.2f}%\".format(carac, proporcao * 100))\n",
    "    "
   ]
  },
  {
   "cell_type": "code",
   "execution_count": 206,
   "metadata": {},
   "outputs": [
    {
     "name": "stdout",
     "output_type": "stream",
     "text": [
      "  --> 15.66%\n",
      "a --> 10.24%\n",
      "e --> 9.80%\n",
      "s --> 8.15%\n",
      "o --> 7.13%\n",
      "i --> 5.95%\n",
      "d --> 5.70%\n",
      "r --> 5.28%\n",
      "t --> 4.07%\n",
      "n --> 4.05%\n"
     ]
    }
   ],
   "source": [
    "analisa_frequencia_de_letras(texto3)"
   ]
  },
  {
   "cell_type": "code",
   "execution_count": null,
   "metadata": {},
   "outputs": [],
   "source": []
  }
 ],
 "metadata": {
  "kernelspec": {
   "display_name": "Python 3",
   "language": "python",
   "name": "python3"
  },
  "language_info": {
   "codemirror_mode": {
    "name": "ipython",
    "version": 3
   },
   "file_extension": ".py",
   "mimetype": "text/x-python",
   "name": "python",
   "nbconvert_exporter": "python",
   "pygments_lexer": "ipython3",
   "version": "3.7.6"
  }
 },
 "nbformat": 4,
 "nbformat_minor": 4
}
