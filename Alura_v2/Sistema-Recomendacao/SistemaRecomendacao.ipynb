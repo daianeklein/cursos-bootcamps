{
 "cells": [
  {
   "cell_type": "markdown",
   "id": "ea75f6c9",
   "metadata": {},
   "source": [
    "# Machine Learning: Intro a sistemas de recomendação em Python"
   ]
  },
  {
   "cell_type": "markdown",
   "id": "978a7abd",
   "metadata": {},
   "source": [
    "Alura: https://cursos.alura.com.br/course/introducao-a-sistemas-de-recomendacao-com-python\n",
    "\n",
    "***\n",
    "\n",
    "- Pense em heurísticas e algoritmos\n",
    "- Gere recomendações baseadas em similaridade de usuários\n",
    "- Crie sistemas baseados em filtros colaborativos\n",
    "- Recomende baseado em modelos de itens e usuários\n",
    "- Implemente K-Nearest-Neighbours do zero\n",
    "- Entenda os desafios de recomendação"
   ]
  },
  {
   "cell_type": "markdown",
   "id": "57084bcd",
   "metadata": {},
   "source": [
    "# LIBS"
   ]
  },
  {
   "cell_type": "code",
   "execution_count": 1,
   "id": "8b00cb7e",
   "metadata": {
    "ExecuteTime": {
     "end_time": "2022-02-10T15:06:27.668450Z",
     "start_time": "2022-02-10T15:06:26.856439Z"
    }
   },
   "outputs": [],
   "source": [
    "import pandas as pd"
   ]
  },
  {
   "cell_type": "markdown",
   "id": "3c2ec54b",
   "metadata": {},
   "source": [
    "# 01 - Heurística de recomendação e entendendo o que é colaboração"
   ]
  },
  {
   "cell_type": "code",
   "execution_count": 2,
   "id": "772d5060",
   "metadata": {
    "ExecuteTime": {
     "end_time": "2022-02-10T15:06:27.715539Z",
     "start_time": "2022-02-10T15:06:27.671866Z"
    }
   },
   "outputs": [
    {
     "data": {
      "text/html": [
       "<div>\n",
       "<style scoped>\n",
       "    .dataframe tbody tr th:only-of-type {\n",
       "        vertical-align: middle;\n",
       "    }\n",
       "\n",
       "    .dataframe tbody tr th {\n",
       "        vertical-align: top;\n",
       "    }\n",
       "\n",
       "    .dataframe thead th {\n",
       "        text-align: right;\n",
       "    }\n",
       "</style>\n",
       "<table border=\"1\" class=\"dataframe\">\n",
       "  <thead>\n",
       "    <tr style=\"text-align: right;\">\n",
       "      <th></th>\n",
       "      <th>titulo</th>\n",
       "      <th>genero</th>\n",
       "    </tr>\n",
       "    <tr>\n",
       "      <th>filmeId</th>\n",
       "      <th></th>\n",
       "      <th></th>\n",
       "    </tr>\n",
       "  </thead>\n",
       "  <tbody>\n",
       "    <tr>\n",
       "      <th>1</th>\n",
       "      <td>Toy Story (1995)</td>\n",
       "      <td>Adventure|Animation|Children|Comedy|Fantasy</td>\n",
       "    </tr>\n",
       "    <tr>\n",
       "      <th>2</th>\n",
       "      <td>Jumanji (1995)</td>\n",
       "      <td>Adventure|Children|Fantasy</td>\n",
       "    </tr>\n",
       "    <tr>\n",
       "      <th>3</th>\n",
       "      <td>Grumpier Old Men (1995)</td>\n",
       "      <td>Comedy|Romance</td>\n",
       "    </tr>\n",
       "    <tr>\n",
       "      <th>4</th>\n",
       "      <td>Waiting to Exhale (1995)</td>\n",
       "      <td>Comedy|Drama|Romance</td>\n",
       "    </tr>\n",
       "    <tr>\n",
       "      <th>5</th>\n",
       "      <td>Father of the Bride Part II (1995)</td>\n",
       "      <td>Comedy</td>\n",
       "    </tr>\n",
       "  </tbody>\n",
       "</table>\n",
       "</div>"
      ],
      "text/plain": [
       "                                     titulo  \\\n",
       "filmeId                                       \n",
       "1                          Toy Story (1995)   \n",
       "2                            Jumanji (1995)   \n",
       "3                   Grumpier Old Men (1995)   \n",
       "4                  Waiting to Exhale (1995)   \n",
       "5        Father of the Bride Part II (1995)   \n",
       "\n",
       "                                              genero  \n",
       "filmeId                                               \n",
       "1        Adventure|Animation|Children|Comedy|Fantasy  \n",
       "2                         Adventure|Children|Fantasy  \n",
       "3                                     Comedy|Romance  \n",
       "4                               Comedy|Drama|Romance  \n",
       "5                                             Comedy  "
      ]
     },
     "execution_count": 2,
     "metadata": {},
     "output_type": "execute_result"
    }
   ],
   "source": [
    "filmes = pd.read_csv('./Data/movies.csv')\n",
    "filmes.columns = ['filmeId', 'titulo', 'genero']\n",
    "filmes = filmes.set_index('filmeId')\n",
    "filmes.head()"
   ]
  },
  {
   "cell_type": "code",
   "execution_count": 3,
   "id": "438a3e73",
   "metadata": {
    "ExecuteTime": {
     "end_time": "2022-02-10T15:06:27.786326Z",
     "start_time": "2022-02-10T15:06:27.719335Z"
    }
   },
   "outputs": [
    {
     "data": {
      "text/html": [
       "<div>\n",
       "<style scoped>\n",
       "    .dataframe tbody tr th:only-of-type {\n",
       "        vertical-align: middle;\n",
       "    }\n",
       "\n",
       "    .dataframe tbody tr th {\n",
       "        vertical-align: top;\n",
       "    }\n",
       "\n",
       "    .dataframe thead th {\n",
       "        text-align: right;\n",
       "    }\n",
       "</style>\n",
       "<table border=\"1\" class=\"dataframe\">\n",
       "  <thead>\n",
       "    <tr style=\"text-align: right;\">\n",
       "      <th></th>\n",
       "      <th>usuarioId</th>\n",
       "      <th>filmeId</th>\n",
       "      <th>nota</th>\n",
       "      <th>momento</th>\n",
       "    </tr>\n",
       "  </thead>\n",
       "  <tbody>\n",
       "    <tr>\n",
       "      <th>0</th>\n",
       "      <td>1</td>\n",
       "      <td>1</td>\n",
       "      <td>4.0</td>\n",
       "      <td>964982703</td>\n",
       "    </tr>\n",
       "    <tr>\n",
       "      <th>1</th>\n",
       "      <td>1</td>\n",
       "      <td>3</td>\n",
       "      <td>4.0</td>\n",
       "      <td>964981247</td>\n",
       "    </tr>\n",
       "    <tr>\n",
       "      <th>2</th>\n",
       "      <td>1</td>\n",
       "      <td>6</td>\n",
       "      <td>4.0</td>\n",
       "      <td>964982224</td>\n",
       "    </tr>\n",
       "    <tr>\n",
       "      <th>3</th>\n",
       "      <td>1</td>\n",
       "      <td>47</td>\n",
       "      <td>5.0</td>\n",
       "      <td>964983815</td>\n",
       "    </tr>\n",
       "    <tr>\n",
       "      <th>4</th>\n",
       "      <td>1</td>\n",
       "      <td>50</td>\n",
       "      <td>5.0</td>\n",
       "      <td>964982931</td>\n",
       "    </tr>\n",
       "  </tbody>\n",
       "</table>\n",
       "</div>"
      ],
      "text/plain": [
       "   usuarioId  filmeId  nota    momento\n",
       "0          1        1   4.0  964982703\n",
       "1          1        3   4.0  964981247\n",
       "2          1        6   4.0  964982224\n",
       "3          1       47   5.0  964983815\n",
       "4          1       50   5.0  964982931"
      ]
     },
     "execution_count": 3,
     "metadata": {},
     "output_type": "execute_result"
    }
   ],
   "source": [
    "notas = pd.read_csv('./Data/ratings.csv')\n",
    "notas.columns = ['usuarioId', 'filmeId', 'nota', 'momento']\n",
    "\n",
    "notas.head()"
   ]
  },
  {
   "cell_type": "code",
   "execution_count": 4,
   "id": "5c08e02d",
   "metadata": {
    "ExecuteTime": {
     "end_time": "2022-02-10T15:06:27.837892Z",
     "start_time": "2022-02-10T15:06:27.791703Z"
    }
   },
   "outputs": [
    {
     "data": {
      "text/html": [
       "<div>\n",
       "<style scoped>\n",
       "    .dataframe tbody tr th:only-of-type {\n",
       "        vertical-align: middle;\n",
       "    }\n",
       "\n",
       "    .dataframe tbody tr th {\n",
       "        vertical-align: top;\n",
       "    }\n",
       "\n",
       "    .dataframe thead th {\n",
       "        text-align: right;\n",
       "    }\n",
       "</style>\n",
       "<table border=\"1\" class=\"dataframe\">\n",
       "  <thead>\n",
       "    <tr style=\"text-align: right;\">\n",
       "      <th></th>\n",
       "      <th>usuarioId</th>\n",
       "      <th>filmeId</th>\n",
       "      <th>nota</th>\n",
       "      <th>momento</th>\n",
       "    </tr>\n",
       "  </thead>\n",
       "  <tbody>\n",
       "    <tr>\n",
       "      <th>count</th>\n",
       "      <td>100836.000000</td>\n",
       "      <td>100836.000000</td>\n",
       "      <td>100836.000000</td>\n",
       "      <td>1.008360e+05</td>\n",
       "    </tr>\n",
       "    <tr>\n",
       "      <th>mean</th>\n",
       "      <td>326.127564</td>\n",
       "      <td>19435.295718</td>\n",
       "      <td>3.501557</td>\n",
       "      <td>1.205946e+09</td>\n",
       "    </tr>\n",
       "    <tr>\n",
       "      <th>std</th>\n",
       "      <td>182.618491</td>\n",
       "      <td>35530.987199</td>\n",
       "      <td>1.042529</td>\n",
       "      <td>2.162610e+08</td>\n",
       "    </tr>\n",
       "    <tr>\n",
       "      <th>min</th>\n",
       "      <td>1.000000</td>\n",
       "      <td>1.000000</td>\n",
       "      <td>0.500000</td>\n",
       "      <td>8.281246e+08</td>\n",
       "    </tr>\n",
       "    <tr>\n",
       "      <th>25%</th>\n",
       "      <td>177.000000</td>\n",
       "      <td>1199.000000</td>\n",
       "      <td>3.000000</td>\n",
       "      <td>1.019124e+09</td>\n",
       "    </tr>\n",
       "    <tr>\n",
       "      <th>50%</th>\n",
       "      <td>325.000000</td>\n",
       "      <td>2991.000000</td>\n",
       "      <td>3.500000</td>\n",
       "      <td>1.186087e+09</td>\n",
       "    </tr>\n",
       "    <tr>\n",
       "      <th>75%</th>\n",
       "      <td>477.000000</td>\n",
       "      <td>8122.000000</td>\n",
       "      <td>4.000000</td>\n",
       "      <td>1.435994e+09</td>\n",
       "    </tr>\n",
       "    <tr>\n",
       "      <th>max</th>\n",
       "      <td>610.000000</td>\n",
       "      <td>193609.000000</td>\n",
       "      <td>5.000000</td>\n",
       "      <td>1.537799e+09</td>\n",
       "    </tr>\n",
       "  </tbody>\n",
       "</table>\n",
       "</div>"
      ],
      "text/plain": [
       "           usuarioId        filmeId           nota       momento\n",
       "count  100836.000000  100836.000000  100836.000000  1.008360e+05\n",
       "mean      326.127564   19435.295718       3.501557  1.205946e+09\n",
       "std       182.618491   35530.987199       1.042529  2.162610e+08\n",
       "min         1.000000       1.000000       0.500000  8.281246e+08\n",
       "25%       177.000000    1199.000000       3.000000  1.019124e+09\n",
       "50%       325.000000    2991.000000       3.500000  1.186087e+09\n",
       "75%       477.000000    8122.000000       4.000000  1.435994e+09\n",
       "max       610.000000  193609.000000       5.000000  1.537799e+09"
      ]
     },
     "execution_count": 4,
     "metadata": {},
     "output_type": "execute_result"
    }
   ],
   "source": [
    "notas.describe()"
   ]
  },
  {
   "cell_type": "markdown",
   "id": "c21f5635",
   "metadata": {},
   "source": [
    "## PRIMEIRA TENTATIVA DE RECOMENDACAO"
   ]
  },
  {
   "cell_type": "code",
   "execution_count": 5,
   "id": "f229a1e0",
   "metadata": {
    "ExecuteTime": {
     "end_time": "2022-02-10T15:06:27.857360Z",
     "start_time": "2022-02-10T15:06:27.841654Z"
    }
   },
   "outputs": [
    {
     "data": {
      "text/plain": [
       "356     329\n",
       "318     317\n",
       "296     307\n",
       "593     279\n",
       "2571    278\n",
       "Name: filmeId, dtype: int64"
      ]
     },
     "execution_count": 5,
     "metadata": {},
     "output_type": "execute_result"
    }
   ],
   "source": [
    "total_votos = notas['filmeId'].value_counts()\n",
    "total_votos.head()"
   ]
  },
  {
   "cell_type": "code",
   "execution_count": 6,
   "id": "81a16bee",
   "metadata": {
    "ExecuteTime": {
     "end_time": "2022-02-10T15:06:27.868470Z",
     "start_time": "2022-02-10T15:06:27.860741Z"
    }
   },
   "outputs": [
    {
     "data": {
      "text/plain": [
       "titulo         Forrest Gump (1994)\n",
       "genero    Comedy|Drama|Romance|War\n",
       "Name: 356, dtype: object"
      ]
     },
     "execution_count": 6,
     "metadata": {},
     "output_type": "execute_result"
    }
   ],
   "source": [
    "filmes.loc[356]"
   ]
  },
  {
   "cell_type": "code",
   "execution_count": 7,
   "id": "963113be",
   "metadata": {
    "ExecuteTime": {
     "end_time": "2022-02-10T15:06:27.885988Z",
     "start_time": "2022-02-10T15:06:27.871328Z"
    }
   },
   "outputs": [
    {
     "data": {
      "text/html": [
       "<div>\n",
       "<style scoped>\n",
       "    .dataframe tbody tr th:only-of-type {\n",
       "        vertical-align: middle;\n",
       "    }\n",
       "\n",
       "    .dataframe tbody tr th {\n",
       "        vertical-align: top;\n",
       "    }\n",
       "\n",
       "    .dataframe thead th {\n",
       "        text-align: right;\n",
       "    }\n",
       "</style>\n",
       "<table border=\"1\" class=\"dataframe\">\n",
       "  <thead>\n",
       "    <tr style=\"text-align: right;\">\n",
       "      <th></th>\n",
       "      <th>titulo</th>\n",
       "      <th>genero</th>\n",
       "      <th>total_de_votos</th>\n",
       "    </tr>\n",
       "    <tr>\n",
       "      <th>filmeId</th>\n",
       "      <th></th>\n",
       "      <th></th>\n",
       "      <th></th>\n",
       "    </tr>\n",
       "  </thead>\n",
       "  <tbody>\n",
       "    <tr>\n",
       "      <th>1</th>\n",
       "      <td>Toy Story (1995)</td>\n",
       "      <td>Adventure|Animation|Children|Comedy|Fantasy</td>\n",
       "      <td>215.0</td>\n",
       "    </tr>\n",
       "    <tr>\n",
       "      <th>2</th>\n",
       "      <td>Jumanji (1995)</td>\n",
       "      <td>Adventure|Children|Fantasy</td>\n",
       "      <td>110.0</td>\n",
       "    </tr>\n",
       "    <tr>\n",
       "      <th>3</th>\n",
       "      <td>Grumpier Old Men (1995)</td>\n",
       "      <td>Comedy|Romance</td>\n",
       "      <td>52.0</td>\n",
       "    </tr>\n",
       "    <tr>\n",
       "      <th>4</th>\n",
       "      <td>Waiting to Exhale (1995)</td>\n",
       "      <td>Comedy|Drama|Romance</td>\n",
       "      <td>7.0</td>\n",
       "    </tr>\n",
       "    <tr>\n",
       "      <th>5</th>\n",
       "      <td>Father of the Bride Part II (1995)</td>\n",
       "      <td>Comedy</td>\n",
       "      <td>49.0</td>\n",
       "    </tr>\n",
       "  </tbody>\n",
       "</table>\n",
       "</div>"
      ],
      "text/plain": [
       "                                     titulo  \\\n",
       "filmeId                                       \n",
       "1                          Toy Story (1995)   \n",
       "2                            Jumanji (1995)   \n",
       "3                   Grumpier Old Men (1995)   \n",
       "4                  Waiting to Exhale (1995)   \n",
       "5        Father of the Bride Part II (1995)   \n",
       "\n",
       "                                              genero  total_de_votos  \n",
       "filmeId                                                               \n",
       "1        Adventure|Animation|Children|Comedy|Fantasy           215.0  \n",
       "2                         Adventure|Children|Fantasy           110.0  \n",
       "3                                     Comedy|Romance            52.0  \n",
       "4                               Comedy|Drama|Romance             7.0  \n",
       "5                                             Comedy            49.0  "
      ]
     },
     "execution_count": 7,
     "metadata": {},
     "output_type": "execute_result"
    }
   ],
   "source": [
    "filmes['total_de_votos'] = total_votos\n",
    "filmes.head()"
   ]
  },
  {
   "cell_type": "code",
   "execution_count": 8,
   "id": "14a31217",
   "metadata": {
    "ExecuteTime": {
     "end_time": "2022-02-10T15:06:27.903791Z",
     "start_time": "2022-02-10T15:06:27.888353Z"
    }
   },
   "outputs": [
    {
     "data": {
      "text/html": [
       "<div>\n",
       "<style scoped>\n",
       "    .dataframe tbody tr th:only-of-type {\n",
       "        vertical-align: middle;\n",
       "    }\n",
       "\n",
       "    .dataframe tbody tr th {\n",
       "        vertical-align: top;\n",
       "    }\n",
       "\n",
       "    .dataframe thead th {\n",
       "        text-align: right;\n",
       "    }\n",
       "</style>\n",
       "<table border=\"1\" class=\"dataframe\">\n",
       "  <thead>\n",
       "    <tr style=\"text-align: right;\">\n",
       "      <th></th>\n",
       "      <th>titulo</th>\n",
       "      <th>genero</th>\n",
       "      <th>total_de_votos</th>\n",
       "    </tr>\n",
       "    <tr>\n",
       "      <th>filmeId</th>\n",
       "      <th></th>\n",
       "      <th></th>\n",
       "      <th></th>\n",
       "    </tr>\n",
       "  </thead>\n",
       "  <tbody>\n",
       "    <tr>\n",
       "      <th>356</th>\n",
       "      <td>Forrest Gump (1994)</td>\n",
       "      <td>Comedy|Drama|Romance|War</td>\n",
       "      <td>329.0</td>\n",
       "    </tr>\n",
       "    <tr>\n",
       "      <th>318</th>\n",
       "      <td>Shawshank Redemption, The (1994)</td>\n",
       "      <td>Crime|Drama</td>\n",
       "      <td>317.0</td>\n",
       "    </tr>\n",
       "    <tr>\n",
       "      <th>296</th>\n",
       "      <td>Pulp Fiction (1994)</td>\n",
       "      <td>Comedy|Crime|Drama|Thriller</td>\n",
       "      <td>307.0</td>\n",
       "    </tr>\n",
       "    <tr>\n",
       "      <th>593</th>\n",
       "      <td>Silence of the Lambs, The (1991)</td>\n",
       "      <td>Crime|Horror|Thriller</td>\n",
       "      <td>279.0</td>\n",
       "    </tr>\n",
       "    <tr>\n",
       "      <th>2571</th>\n",
       "      <td>Matrix, The (1999)</td>\n",
       "      <td>Action|Sci-Fi|Thriller</td>\n",
       "      <td>278.0</td>\n",
       "    </tr>\n",
       "  </tbody>\n",
       "</table>\n",
       "</div>"
      ],
      "text/plain": [
       "                                   titulo                       genero  \\\n",
       "filmeId                                                                  \n",
       "356                   Forrest Gump (1994)     Comedy|Drama|Romance|War   \n",
       "318      Shawshank Redemption, The (1994)                  Crime|Drama   \n",
       "296                   Pulp Fiction (1994)  Comedy|Crime|Drama|Thriller   \n",
       "593      Silence of the Lambs, The (1991)        Crime|Horror|Thriller   \n",
       "2571                   Matrix, The (1999)       Action|Sci-Fi|Thriller   \n",
       "\n",
       "         total_de_votos  \n",
       "filmeId                  \n",
       "356               329.0  \n",
       "318               317.0  \n",
       "296               307.0  \n",
       "593               279.0  \n",
       "2571              278.0  "
      ]
     },
     "execution_count": 8,
     "metadata": {},
     "output_type": "execute_result"
    }
   ],
   "source": [
    "filmes.sort_values(by='total_de_votos', ascending = False).head()"
   ]
  },
  {
   "cell_type": "markdown",
   "id": "635722ed",
   "metadata": {},
   "source": [
    "# Total de votos, nota média e possíveis dificuldades de heurísticas simples"
   ]
  },
  {
   "cell_type": "code",
   "execution_count": 9,
   "id": "598ce98d",
   "metadata": {
    "ExecuteTime": {
     "end_time": "2022-02-10T15:06:27.929180Z",
     "start_time": "2022-02-10T15:06:27.906178Z"
    }
   },
   "outputs": [
    {
     "data": {
      "text/html": [
       "<div>\n",
       "<style scoped>\n",
       "    .dataframe tbody tr th:only-of-type {\n",
       "        vertical-align: middle;\n",
       "    }\n",
       "\n",
       "    .dataframe tbody tr th {\n",
       "        vertical-align: top;\n",
       "    }\n",
       "\n",
       "    .dataframe thead th {\n",
       "        text-align: right;\n",
       "    }\n",
       "</style>\n",
       "<table border=\"1\" class=\"dataframe\">\n",
       "  <thead>\n",
       "    <tr style=\"text-align: right;\">\n",
       "      <th></th>\n",
       "      <th>titulo</th>\n",
       "      <th>genero</th>\n",
       "      <th>total_de_votos</th>\n",
       "    </tr>\n",
       "    <tr>\n",
       "      <th>filmeId</th>\n",
       "      <th></th>\n",
       "      <th></th>\n",
       "      <th></th>\n",
       "    </tr>\n",
       "  </thead>\n",
       "  <tbody>\n",
       "    <tr>\n",
       "      <th>356</th>\n",
       "      <td>Forrest Gump (1994)</td>\n",
       "      <td>Comedy|Drama|Romance|War</td>\n",
       "      <td>329.0</td>\n",
       "    </tr>\n",
       "    <tr>\n",
       "      <th>318</th>\n",
       "      <td>Shawshank Redemption, The (1994)</td>\n",
       "      <td>Crime|Drama</td>\n",
       "      <td>317.0</td>\n",
       "    </tr>\n",
       "    <tr>\n",
       "      <th>296</th>\n",
       "      <td>Pulp Fiction (1994)</td>\n",
       "      <td>Comedy|Crime|Drama|Thriller</td>\n",
       "      <td>307.0</td>\n",
       "    </tr>\n",
       "    <tr>\n",
       "      <th>593</th>\n",
       "      <td>Silence of the Lambs, The (1991)</td>\n",
       "      <td>Crime|Horror|Thriller</td>\n",
       "      <td>279.0</td>\n",
       "    </tr>\n",
       "    <tr>\n",
       "      <th>2571</th>\n",
       "      <td>Matrix, The (1999)</td>\n",
       "      <td>Action|Sci-Fi|Thriller</td>\n",
       "      <td>278.0</td>\n",
       "    </tr>\n",
       "    <tr>\n",
       "      <th>260</th>\n",
       "      <td>Star Wars: Episode IV - A New Hope (1977)</td>\n",
       "      <td>Action|Adventure|Sci-Fi</td>\n",
       "      <td>251.0</td>\n",
       "    </tr>\n",
       "    <tr>\n",
       "      <th>480</th>\n",
       "      <td>Jurassic Park (1993)</td>\n",
       "      <td>Action|Adventure|Sci-Fi|Thriller</td>\n",
       "      <td>238.0</td>\n",
       "    </tr>\n",
       "    <tr>\n",
       "      <th>110</th>\n",
       "      <td>Braveheart (1995)</td>\n",
       "      <td>Action|Drama|War</td>\n",
       "      <td>237.0</td>\n",
       "    </tr>\n",
       "    <tr>\n",
       "      <th>589</th>\n",
       "      <td>Terminator 2: Judgment Day (1991)</td>\n",
       "      <td>Action|Sci-Fi</td>\n",
       "      <td>224.0</td>\n",
       "    </tr>\n",
       "    <tr>\n",
       "      <th>527</th>\n",
       "      <td>Schindler's List (1993)</td>\n",
       "      <td>Drama|War</td>\n",
       "      <td>220.0</td>\n",
       "    </tr>\n",
       "  </tbody>\n",
       "</table>\n",
       "</div>"
      ],
      "text/plain": [
       "                                            titulo  \\\n",
       "filmeId                                              \n",
       "356                            Forrest Gump (1994)   \n",
       "318               Shawshank Redemption, The (1994)   \n",
       "296                            Pulp Fiction (1994)   \n",
       "593               Silence of the Lambs, The (1991)   \n",
       "2571                            Matrix, The (1999)   \n",
       "260      Star Wars: Episode IV - A New Hope (1977)   \n",
       "480                           Jurassic Park (1993)   \n",
       "110                              Braveheart (1995)   \n",
       "589              Terminator 2: Judgment Day (1991)   \n",
       "527                        Schindler's List (1993)   \n",
       "\n",
       "                                   genero  total_de_votos  \n",
       "filmeId                                                    \n",
       "356              Comedy|Drama|Romance|War           329.0  \n",
       "318                           Crime|Drama           317.0  \n",
       "296           Comedy|Crime|Drama|Thriller           307.0  \n",
       "593                 Crime|Horror|Thriller           279.0  \n",
       "2571               Action|Sci-Fi|Thriller           278.0  \n",
       "260               Action|Adventure|Sci-Fi           251.0  \n",
       "480      Action|Adventure|Sci-Fi|Thriller           238.0  \n",
       "110                      Action|Drama|War           237.0  \n",
       "589                         Action|Sci-Fi           224.0  \n",
       "527                             Drama|War           220.0  "
      ]
     },
     "execution_count": 9,
     "metadata": {},
     "output_type": "execute_result"
    }
   ],
   "source": [
    "filmes.sort_values(by='total_de_votos', ascending = False).head(10)"
   ]
  },
  {
   "cell_type": "code",
   "execution_count": 10,
   "id": "3bfa37ea",
   "metadata": {
    "ExecuteTime": {
     "end_time": "2022-02-10T15:06:27.956296Z",
     "start_time": "2022-02-10T15:06:27.935853Z"
    }
   },
   "outputs": [
    {
     "data": {
      "text/plain": [
       "filmeId\n",
       "1    3.920930\n",
       "2    3.431818\n",
       "3    3.259615\n",
       "4    2.357143\n",
       "5    3.071429\n",
       "Name: nota, dtype: float64"
      ]
     },
     "execution_count": 10,
     "metadata": {},
     "output_type": "execute_result"
    }
   ],
   "source": [
    "notas_medias = notas.groupby('filmeId').mean()['nota']\n",
    "notas_medias.head()"
   ]
  },
  {
   "cell_type": "code",
   "execution_count": 11,
   "id": "86e18efd",
   "metadata": {
    "ExecuteTime": {
     "end_time": "2022-02-10T15:06:27.980377Z",
     "start_time": "2022-02-10T15:06:27.958708Z"
    }
   },
   "outputs": [
    {
     "data": {
      "text/html": [
       "<div>\n",
       "<style scoped>\n",
       "    .dataframe tbody tr th:only-of-type {\n",
       "        vertical-align: middle;\n",
       "    }\n",
       "\n",
       "    .dataframe tbody tr th {\n",
       "        vertical-align: top;\n",
       "    }\n",
       "\n",
       "    .dataframe thead th {\n",
       "        text-align: right;\n",
       "    }\n",
       "</style>\n",
       "<table border=\"1\" class=\"dataframe\">\n",
       "  <thead>\n",
       "    <tr style=\"text-align: right;\">\n",
       "      <th></th>\n",
       "      <th>titulo</th>\n",
       "      <th>genero</th>\n",
       "      <th>total_de_votos</th>\n",
       "      <th>nota_media</th>\n",
       "    </tr>\n",
       "    <tr>\n",
       "      <th>filmeId</th>\n",
       "      <th></th>\n",
       "      <th></th>\n",
       "      <th></th>\n",
       "      <th></th>\n",
       "    </tr>\n",
       "  </thead>\n",
       "  <tbody>\n",
       "    <tr>\n",
       "      <th>356</th>\n",
       "      <td>Forrest Gump (1994)</td>\n",
       "      <td>Comedy|Drama|Romance|War</td>\n",
       "      <td>329.0</td>\n",
       "      <td>4.164134</td>\n",
       "    </tr>\n",
       "    <tr>\n",
       "      <th>318</th>\n",
       "      <td>Shawshank Redemption, The (1994)</td>\n",
       "      <td>Crime|Drama</td>\n",
       "      <td>317.0</td>\n",
       "      <td>4.429022</td>\n",
       "    </tr>\n",
       "    <tr>\n",
       "      <th>296</th>\n",
       "      <td>Pulp Fiction (1994)</td>\n",
       "      <td>Comedy|Crime|Drama|Thriller</td>\n",
       "      <td>307.0</td>\n",
       "      <td>4.197068</td>\n",
       "    </tr>\n",
       "    <tr>\n",
       "      <th>593</th>\n",
       "      <td>Silence of the Lambs, The (1991)</td>\n",
       "      <td>Crime|Horror|Thriller</td>\n",
       "      <td>279.0</td>\n",
       "      <td>4.161290</td>\n",
       "    </tr>\n",
       "    <tr>\n",
       "      <th>2571</th>\n",
       "      <td>Matrix, The (1999)</td>\n",
       "      <td>Action|Sci-Fi|Thriller</td>\n",
       "      <td>278.0</td>\n",
       "      <td>4.192446</td>\n",
       "    </tr>\n",
       "    <tr>\n",
       "      <th>260</th>\n",
       "      <td>Star Wars: Episode IV - A New Hope (1977)</td>\n",
       "      <td>Action|Adventure|Sci-Fi</td>\n",
       "      <td>251.0</td>\n",
       "      <td>4.231076</td>\n",
       "    </tr>\n",
       "    <tr>\n",
       "      <th>480</th>\n",
       "      <td>Jurassic Park (1993)</td>\n",
       "      <td>Action|Adventure|Sci-Fi|Thriller</td>\n",
       "      <td>238.0</td>\n",
       "      <td>3.750000</td>\n",
       "    </tr>\n",
       "    <tr>\n",
       "      <th>110</th>\n",
       "      <td>Braveheart (1995)</td>\n",
       "      <td>Action|Drama|War</td>\n",
       "      <td>237.0</td>\n",
       "      <td>4.031646</td>\n",
       "    </tr>\n",
       "    <tr>\n",
       "      <th>589</th>\n",
       "      <td>Terminator 2: Judgment Day (1991)</td>\n",
       "      <td>Action|Sci-Fi</td>\n",
       "      <td>224.0</td>\n",
       "      <td>3.970982</td>\n",
       "    </tr>\n",
       "    <tr>\n",
       "      <th>527</th>\n",
       "      <td>Schindler's List (1993)</td>\n",
       "      <td>Drama|War</td>\n",
       "      <td>220.0</td>\n",
       "      <td>4.225000</td>\n",
       "    </tr>\n",
       "  </tbody>\n",
       "</table>\n",
       "</div>"
      ],
      "text/plain": [
       "                                            titulo  \\\n",
       "filmeId                                              \n",
       "356                            Forrest Gump (1994)   \n",
       "318               Shawshank Redemption, The (1994)   \n",
       "296                            Pulp Fiction (1994)   \n",
       "593               Silence of the Lambs, The (1991)   \n",
       "2571                            Matrix, The (1999)   \n",
       "260      Star Wars: Episode IV - A New Hope (1977)   \n",
       "480                           Jurassic Park (1993)   \n",
       "110                              Braveheart (1995)   \n",
       "589              Terminator 2: Judgment Day (1991)   \n",
       "527                        Schindler's List (1993)   \n",
       "\n",
       "                                   genero  total_de_votos  nota_media  \n",
       "filmeId                                                                \n",
       "356              Comedy|Drama|Romance|War           329.0    4.164134  \n",
       "318                           Crime|Drama           317.0    4.429022  \n",
       "296           Comedy|Crime|Drama|Thriller           307.0    4.197068  \n",
       "593                 Crime|Horror|Thriller           279.0    4.161290  \n",
       "2571               Action|Sci-Fi|Thriller           278.0    4.192446  \n",
       "260               Action|Adventure|Sci-Fi           251.0    4.231076  \n",
       "480      Action|Adventure|Sci-Fi|Thriller           238.0    3.750000  \n",
       "110                      Action|Drama|War           237.0    4.031646  \n",
       "589                         Action|Sci-Fi           224.0    3.970982  \n",
       "527                             Drama|War           220.0    4.225000  "
      ]
     },
     "execution_count": 11,
     "metadata": {},
     "output_type": "execute_result"
    }
   ],
   "source": [
    "filmes['nota_media'] = notas_medias\n",
    "filmes.sort_values(by='total_de_votos', ascending = False).head(10)"
   ]
  },
  {
   "cell_type": "markdown",
   "id": "edf6d19a",
   "metadata": {},
   "source": [
    "## SEGUNDA HEURÍSTICA"
   ]
  },
  {
   "cell_type": "code",
   "execution_count": 12,
   "id": "4cb9be8a",
   "metadata": {
    "ExecuteTime": {
     "end_time": "2022-02-10T15:06:28.002096Z",
     "start_time": "2022-02-10T15:06:27.983855Z"
    }
   },
   "outputs": [
    {
     "data": {
      "text/html": [
       "<div>\n",
       "<style scoped>\n",
       "    .dataframe tbody tr th:only-of-type {\n",
       "        vertical-align: middle;\n",
       "    }\n",
       "\n",
       "    .dataframe tbody tr th {\n",
       "        vertical-align: top;\n",
       "    }\n",
       "\n",
       "    .dataframe thead th {\n",
       "        text-align: right;\n",
       "    }\n",
       "</style>\n",
       "<table border=\"1\" class=\"dataframe\">\n",
       "  <thead>\n",
       "    <tr style=\"text-align: right;\">\n",
       "      <th></th>\n",
       "      <th>titulo</th>\n",
       "      <th>genero</th>\n",
       "      <th>total_de_votos</th>\n",
       "      <th>nota_media</th>\n",
       "    </tr>\n",
       "    <tr>\n",
       "      <th>filmeId</th>\n",
       "      <th></th>\n",
       "      <th></th>\n",
       "      <th></th>\n",
       "      <th></th>\n",
       "    </tr>\n",
       "  </thead>\n",
       "  <tbody>\n",
       "    <tr>\n",
       "      <th>88448</th>\n",
       "      <td>Paper Birds (Pájaros de papel) (2010)</td>\n",
       "      <td>Comedy|Drama</td>\n",
       "      <td>1.0</td>\n",
       "      <td>5.0</td>\n",
       "    </tr>\n",
       "    <tr>\n",
       "      <th>100556</th>\n",
       "      <td>Act of Killing, The (2012)</td>\n",
       "      <td>Documentary</td>\n",
       "      <td>1.0</td>\n",
       "      <td>5.0</td>\n",
       "    </tr>\n",
       "    <tr>\n",
       "      <th>143031</th>\n",
       "      <td>Jump In! (2007)</td>\n",
       "      <td>Comedy|Drama|Romance</td>\n",
       "      <td>1.0</td>\n",
       "      <td>5.0</td>\n",
       "    </tr>\n",
       "    <tr>\n",
       "      <th>143511</th>\n",
       "      <td>Human (2015)</td>\n",
       "      <td>Documentary</td>\n",
       "      <td>1.0</td>\n",
       "      <td>5.0</td>\n",
       "    </tr>\n",
       "    <tr>\n",
       "      <th>143559</th>\n",
       "      <td>L.A. Slasher (2015)</td>\n",
       "      <td>Comedy|Crime|Fantasy</td>\n",
       "      <td>1.0</td>\n",
       "      <td>5.0</td>\n",
       "    </tr>\n",
       "    <tr>\n",
       "      <th>6201</th>\n",
       "      <td>Lady Jane (1986)</td>\n",
       "      <td>Drama|Romance</td>\n",
       "      <td>1.0</td>\n",
       "      <td>5.0</td>\n",
       "    </tr>\n",
       "    <tr>\n",
       "      <th>102217</th>\n",
       "      <td>Bill Hicks: Revelations (1993)</td>\n",
       "      <td>Comedy</td>\n",
       "      <td>1.0</td>\n",
       "      <td>5.0</td>\n",
       "    </tr>\n",
       "    <tr>\n",
       "      <th>102084</th>\n",
       "      <td>Justice League: Doom (2012)</td>\n",
       "      <td>Action|Animation|Fantasy</td>\n",
       "      <td>1.0</td>\n",
       "      <td>5.0</td>\n",
       "    </tr>\n",
       "    <tr>\n",
       "      <th>6192</th>\n",
       "      <td>Open Hearts (Elsker dig for evigt) (2002)</td>\n",
       "      <td>Romance</td>\n",
       "      <td>1.0</td>\n",
       "      <td>5.0</td>\n",
       "    </tr>\n",
       "    <tr>\n",
       "      <th>145994</th>\n",
       "      <td>Formula of Love (1984)</td>\n",
       "      <td>Comedy</td>\n",
       "      <td>1.0</td>\n",
       "      <td>5.0</td>\n",
       "    </tr>\n",
       "  </tbody>\n",
       "</table>\n",
       "</div>"
      ],
      "text/plain": [
       "                                            titulo                    genero  \\\n",
       "filmeId                                                                        \n",
       "88448        Paper Birds (Pájaros de papel) (2010)              Comedy|Drama   \n",
       "100556                  Act of Killing, The (2012)               Documentary   \n",
       "143031                             Jump In! (2007)      Comedy|Drama|Romance   \n",
       "143511                                Human (2015)               Documentary   \n",
       "143559                         L.A. Slasher (2015)      Comedy|Crime|Fantasy   \n",
       "6201                              Lady Jane (1986)             Drama|Romance   \n",
       "102217              Bill Hicks: Revelations (1993)                    Comedy   \n",
       "102084                Justice League: Doom (2012)   Action|Animation|Fantasy   \n",
       "6192     Open Hearts (Elsker dig for evigt) (2002)                   Romance   \n",
       "145994                      Formula of Love (1984)                    Comedy   \n",
       "\n",
       "         total_de_votos  nota_media  \n",
       "filmeId                              \n",
       "88448               1.0         5.0  \n",
       "100556              1.0         5.0  \n",
       "143031              1.0         5.0  \n",
       "143511              1.0         5.0  \n",
       "143559              1.0         5.0  \n",
       "6201                1.0         5.0  \n",
       "102217              1.0         5.0  \n",
       "102084              1.0         5.0  \n",
       "6192                1.0         5.0  \n",
       "145994              1.0         5.0  "
      ]
     },
     "execution_count": 12,
     "metadata": {},
     "output_type": "execute_result"
    }
   ],
   "source": [
    "filmes.sort_values(by='nota_media', ascending = False).head(10)"
   ]
  },
  {
   "cell_type": "code",
   "execution_count": 13,
   "id": "ed761282",
   "metadata": {
    "ExecuteTime": {
     "end_time": "2022-02-10T15:06:28.024224Z",
     "start_time": "2022-02-10T15:06:28.005598Z"
    }
   },
   "outputs": [
    {
     "data": {
      "text/html": [
       "<div>\n",
       "<style scoped>\n",
       "    .dataframe tbody tr th:only-of-type {\n",
       "        vertical-align: middle;\n",
       "    }\n",
       "\n",
       "    .dataframe tbody tr th {\n",
       "        vertical-align: top;\n",
       "    }\n",
       "\n",
       "    .dataframe thead th {\n",
       "        text-align: right;\n",
       "    }\n",
       "</style>\n",
       "<table border=\"1\" class=\"dataframe\">\n",
       "  <thead>\n",
       "    <tr style=\"text-align: right;\">\n",
       "      <th></th>\n",
       "      <th>titulo</th>\n",
       "      <th>genero</th>\n",
       "      <th>total_de_votos</th>\n",
       "      <th>nota_media</th>\n",
       "    </tr>\n",
       "    <tr>\n",
       "      <th>filmeId</th>\n",
       "      <th></th>\n",
       "      <th></th>\n",
       "      <th></th>\n",
       "      <th></th>\n",
       "    </tr>\n",
       "  </thead>\n",
       "  <tbody>\n",
       "    <tr>\n",
       "      <th>1041</th>\n",
       "      <td>Secrets &amp; Lies (1996)</td>\n",
       "      <td>Drama</td>\n",
       "      <td>11.0</td>\n",
       "      <td>4.590909</td>\n",
       "    </tr>\n",
       "    <tr>\n",
       "      <th>3451</th>\n",
       "      <td>Guess Who's Coming to Dinner (1967)</td>\n",
       "      <td>Drama</td>\n",
       "      <td>11.0</td>\n",
       "      <td>4.545455</td>\n",
       "    </tr>\n",
       "    <tr>\n",
       "      <th>1178</th>\n",
       "      <td>Paths of Glory (1957)</td>\n",
       "      <td>Drama|War</td>\n",
       "      <td>12.0</td>\n",
       "      <td>4.541667</td>\n",
       "    </tr>\n",
       "    <tr>\n",
       "      <th>1104</th>\n",
       "      <td>Streetcar Named Desire, A (1951)</td>\n",
       "      <td>Drama</td>\n",
       "      <td>20.0</td>\n",
       "      <td>4.475000</td>\n",
       "    </tr>\n",
       "    <tr>\n",
       "      <th>2360</th>\n",
       "      <td>Celebration, The (Festen) (1998)</td>\n",
       "      <td>Drama</td>\n",
       "      <td>12.0</td>\n",
       "      <td>4.458333</td>\n",
       "    </tr>\n",
       "    <tr>\n",
       "      <th>1217</th>\n",
       "      <td>Ran (1985)</td>\n",
       "      <td>Drama|War</td>\n",
       "      <td>15.0</td>\n",
       "      <td>4.433333</td>\n",
       "    </tr>\n",
       "    <tr>\n",
       "      <th>318</th>\n",
       "      <td>Shawshank Redemption, The (1994)</td>\n",
       "      <td>Crime|Drama</td>\n",
       "      <td>317.0</td>\n",
       "      <td>4.429022</td>\n",
       "    </tr>\n",
       "    <tr>\n",
       "      <th>951</th>\n",
       "      <td>His Girl Friday (1940)</td>\n",
       "      <td>Comedy|Romance</td>\n",
       "      <td>14.0</td>\n",
       "      <td>4.392857</td>\n",
       "    </tr>\n",
       "    <tr>\n",
       "      <th>1927</th>\n",
       "      <td>All Quiet on the Western Front (1930)</td>\n",
       "      <td>Action|Drama|War</td>\n",
       "      <td>10.0</td>\n",
       "      <td>4.350000</td>\n",
       "    </tr>\n",
       "    <tr>\n",
       "      <th>3468</th>\n",
       "      <td>Hustler, The (1961)</td>\n",
       "      <td>Drama</td>\n",
       "      <td>18.0</td>\n",
       "      <td>4.333333</td>\n",
       "    </tr>\n",
       "  </tbody>\n",
       "</table>\n",
       "</div>"
      ],
      "text/plain": [
       "                                        titulo            genero  \\\n",
       "filmeId                                                            \n",
       "1041                     Secrets & Lies (1996)             Drama   \n",
       "3451       Guess Who's Coming to Dinner (1967)             Drama   \n",
       "1178                     Paths of Glory (1957)         Drama|War   \n",
       "1104          Streetcar Named Desire, A (1951)             Drama   \n",
       "2360          Celebration, The (Festen) (1998)             Drama   \n",
       "1217                                Ran (1985)         Drama|War   \n",
       "318           Shawshank Redemption, The (1994)       Crime|Drama   \n",
       "951                     His Girl Friday (1940)    Comedy|Romance   \n",
       "1927     All Quiet on the Western Front (1930)  Action|Drama|War   \n",
       "3468                       Hustler, The (1961)             Drama   \n",
       "\n",
       "         total_de_votos  nota_media  \n",
       "filmeId                              \n",
       "1041               11.0    4.590909  \n",
       "3451               11.0    4.545455  \n",
       "1178               12.0    4.541667  \n",
       "1104               20.0    4.475000  \n",
       "2360               12.0    4.458333  \n",
       "1217               15.0    4.433333  \n",
       "318               317.0    4.429022  \n",
       "951                14.0    4.392857  \n",
       "1927               10.0    4.350000  \n",
       "3468               18.0    4.333333  "
      ]
     },
     "execution_count": 13,
     "metadata": {},
     "output_type": "execute_result"
    }
   ],
   "source": [
    "filmes.query('total_de_votos >=10').sort_values(by='nota_media', ascending = False).head(10)"
   ]
  },
  {
   "cell_type": "code",
   "execution_count": 14,
   "id": "dc625a7d",
   "metadata": {
    "ExecuteTime": {
     "end_time": "2022-02-10T15:06:28.046041Z",
     "start_time": "2022-02-10T15:06:28.027385Z"
    }
   },
   "outputs": [
    {
     "data": {
      "text/html": [
       "<div>\n",
       "<style scoped>\n",
       "    .dataframe tbody tr th:only-of-type {\n",
       "        vertical-align: middle;\n",
       "    }\n",
       "\n",
       "    .dataframe tbody tr th {\n",
       "        vertical-align: top;\n",
       "    }\n",
       "\n",
       "    .dataframe thead th {\n",
       "        text-align: right;\n",
       "    }\n",
       "</style>\n",
       "<table border=\"1\" class=\"dataframe\">\n",
       "  <thead>\n",
       "    <tr style=\"text-align: right;\">\n",
       "      <th></th>\n",
       "      <th>titulo</th>\n",
       "      <th>genero</th>\n",
       "      <th>total_de_votos</th>\n",
       "      <th>nota_media</th>\n",
       "    </tr>\n",
       "    <tr>\n",
       "      <th>filmeId</th>\n",
       "      <th></th>\n",
       "      <th></th>\n",
       "      <th></th>\n",
       "      <th></th>\n",
       "    </tr>\n",
       "  </thead>\n",
       "  <tbody>\n",
       "    <tr>\n",
       "      <th>318</th>\n",
       "      <td>Shawshank Redemption, The (1994)</td>\n",
       "      <td>Crime|Drama</td>\n",
       "      <td>317.0</td>\n",
       "      <td>4.429022</td>\n",
       "    </tr>\n",
       "    <tr>\n",
       "      <th>858</th>\n",
       "      <td>Godfather, The (1972)</td>\n",
       "      <td>Crime|Drama</td>\n",
       "      <td>192.0</td>\n",
       "      <td>4.289062</td>\n",
       "    </tr>\n",
       "    <tr>\n",
       "      <th>2959</th>\n",
       "      <td>Fight Club (1999)</td>\n",
       "      <td>Action|Crime|Drama|Thriller</td>\n",
       "      <td>218.0</td>\n",
       "      <td>4.272936</td>\n",
       "    </tr>\n",
       "    <tr>\n",
       "      <th>1276</th>\n",
       "      <td>Cool Hand Luke (1967)</td>\n",
       "      <td>Drama</td>\n",
       "      <td>57.0</td>\n",
       "      <td>4.271930</td>\n",
       "    </tr>\n",
       "    <tr>\n",
       "      <th>750</th>\n",
       "      <td>Dr. Strangelove or: How I Learned to Stop Worr...</td>\n",
       "      <td>Comedy|War</td>\n",
       "      <td>97.0</td>\n",
       "      <td>4.268041</td>\n",
       "    </tr>\n",
       "    <tr>\n",
       "      <th>904</th>\n",
       "      <td>Rear Window (1954)</td>\n",
       "      <td>Mystery|Thriller</td>\n",
       "      <td>84.0</td>\n",
       "      <td>4.261905</td>\n",
       "    </tr>\n",
       "    <tr>\n",
       "      <th>1221</th>\n",
       "      <td>Godfather: Part II, The (1974)</td>\n",
       "      <td>Crime|Drama</td>\n",
       "      <td>129.0</td>\n",
       "      <td>4.259690</td>\n",
       "    </tr>\n",
       "    <tr>\n",
       "      <th>48516</th>\n",
       "      <td>Departed, The (2006)</td>\n",
       "      <td>Crime|Drama|Thriller</td>\n",
       "      <td>107.0</td>\n",
       "      <td>4.252336</td>\n",
       "    </tr>\n",
       "    <tr>\n",
       "      <th>1213</th>\n",
       "      <td>Goodfellas (1990)</td>\n",
       "      <td>Crime|Drama</td>\n",
       "      <td>126.0</td>\n",
       "      <td>4.250000</td>\n",
       "    </tr>\n",
       "    <tr>\n",
       "      <th>912</th>\n",
       "      <td>Casablanca (1942)</td>\n",
       "      <td>Drama|Romance</td>\n",
       "      <td>100.0</td>\n",
       "      <td>4.240000</td>\n",
       "    </tr>\n",
       "  </tbody>\n",
       "</table>\n",
       "</div>"
      ],
      "text/plain": [
       "                                                    titulo  \\\n",
       "filmeId                                                      \n",
       "318                       Shawshank Redemption, The (1994)   \n",
       "858                                  Godfather, The (1972)   \n",
       "2959                                     Fight Club (1999)   \n",
       "1276                                 Cool Hand Luke (1967)   \n",
       "750      Dr. Strangelove or: How I Learned to Stop Worr...   \n",
       "904                                     Rear Window (1954)   \n",
       "1221                        Godfather: Part II, The (1974)   \n",
       "48516                                 Departed, The (2006)   \n",
       "1213                                     Goodfellas (1990)   \n",
       "912                                      Casablanca (1942)   \n",
       "\n",
       "                              genero  total_de_votos  nota_media  \n",
       "filmeId                                                           \n",
       "318                      Crime|Drama           317.0    4.429022  \n",
       "858                      Crime|Drama           192.0    4.289062  \n",
       "2959     Action|Crime|Drama|Thriller           218.0    4.272936  \n",
       "1276                           Drama            57.0    4.271930  \n",
       "750                       Comedy|War            97.0    4.268041  \n",
       "904                 Mystery|Thriller            84.0    4.261905  \n",
       "1221                     Crime|Drama           129.0    4.259690  \n",
       "48516           Crime|Drama|Thriller           107.0    4.252336  \n",
       "1213                     Crime|Drama           126.0    4.250000  \n",
       "912                    Drama|Romance           100.0    4.240000  "
      ]
     },
     "execution_count": 14,
     "metadata": {},
     "output_type": "execute_result"
    }
   ],
   "source": [
    "filmes_com_mais_de_50_votos = filmes.query('total_de_votos >=50')\n",
    "filmes_com_mais_de_50_votos.sort_values(by='nota_media', ascending = False).head(10)"
   ]
  },
  {
   "cell_type": "markdown",
   "id": "eefad05f",
   "metadata": {},
   "source": [
    "# Recomendação baseada em similaridade de genero"
   ]
  },
  {
   "cell_type": "code",
   "execution_count": 15,
   "id": "9f6a18d2",
   "metadata": {
    "ExecuteTime": {
     "end_time": "2022-02-10T15:06:28.063490Z",
     "start_time": "2022-02-10T15:06:28.049999Z"
    }
   },
   "outputs": [
    {
     "data": {
      "text/html": [
       "<div>\n",
       "<style scoped>\n",
       "    .dataframe tbody tr th:only-of-type {\n",
       "        vertical-align: middle;\n",
       "    }\n",
       "\n",
       "    .dataframe tbody tr th {\n",
       "        vertical-align: top;\n",
       "    }\n",
       "\n",
       "    .dataframe thead th {\n",
       "        text-align: right;\n",
       "    }\n",
       "</style>\n",
       "<table border=\"1\" class=\"dataframe\">\n",
       "  <thead>\n",
       "    <tr style=\"text-align: right;\">\n",
       "      <th></th>\n",
       "      <th>titulo</th>\n",
       "      <th>genero</th>\n",
       "      <th>total_de_votos</th>\n",
       "      <th>nota_media</th>\n",
       "    </tr>\n",
       "    <tr>\n",
       "      <th>filmeId</th>\n",
       "      <th></th>\n",
       "      <th></th>\n",
       "      <th></th>\n",
       "      <th></th>\n",
       "    </tr>\n",
       "  </thead>\n",
       "  <tbody>\n",
       "    <tr>\n",
       "      <th>1</th>\n",
       "      <td>Toy Story (1995)</td>\n",
       "      <td>Adventure|Animation|Children|Comedy|Fantasy</td>\n",
       "      <td>215.0</td>\n",
       "      <td>3.920930</td>\n",
       "    </tr>\n",
       "    <tr>\n",
       "      <th>21</th>\n",
       "      <td>Get Shorty (1995)</td>\n",
       "      <td>Comedy|Crime|Thriller</td>\n",
       "      <td>89.0</td>\n",
       "      <td>3.494382</td>\n",
       "    </tr>\n",
       "    <tr>\n",
       "      <th>14</th>\n",
       "      <td>Nixon (1995)</td>\n",
       "      <td>Drama</td>\n",
       "      <td>18.0</td>\n",
       "      <td>3.833333</td>\n",
       "    </tr>\n",
       "    <tr>\n",
       "      <th>58</th>\n",
       "      <td>Postman, The (Postino, Il) (1994)</td>\n",
       "      <td>Comedy|Drama|Romance</td>\n",
       "      <td>37.0</td>\n",
       "      <td>4.027027</td>\n",
       "    </tr>\n",
       "    <tr>\n",
       "      <th>14</th>\n",
       "      <td>Nixon (1995)</td>\n",
       "      <td>Drama</td>\n",
       "      <td>18.0</td>\n",
       "      <td>3.833333</td>\n",
       "    </tr>\n",
       "    <tr>\n",
       "      <th>32</th>\n",
       "      <td>Twelve Monkeys (a.k.a. 12 Monkeys) (1995)</td>\n",
       "      <td>Mystery|Sci-Fi|Thriller</td>\n",
       "      <td>177.0</td>\n",
       "      <td>3.983051</td>\n",
       "    </tr>\n",
       "  </tbody>\n",
       "</table>\n",
       "</div>"
      ],
      "text/plain": [
       "                                            titulo  \\\n",
       "filmeId                                              \n",
       "1                                 Toy Story (1995)   \n",
       "21                               Get Shorty (1995)   \n",
       "14                                    Nixon (1995)   \n",
       "58               Postman, The (Postino, Il) (1994)   \n",
       "14                                    Nixon (1995)   \n",
       "32       Twelve Monkeys (a.k.a. 12 Monkeys) (1995)   \n",
       "\n",
       "                                              genero  total_de_votos  \\\n",
       "filmeId                                                                \n",
       "1        Adventure|Animation|Children|Comedy|Fantasy           215.0   \n",
       "21                             Comedy|Crime|Thriller            89.0   \n",
       "14                                             Drama            18.0   \n",
       "58                              Comedy|Drama|Romance            37.0   \n",
       "14                                             Drama            18.0   \n",
       "32                           Mystery|Sci-Fi|Thriller           177.0   \n",
       "\n",
       "         nota_media  \n",
       "filmeId              \n",
       "1          3.920930  \n",
       "21         3.494382  \n",
       "14         3.833333  \n",
       "58         4.027027  \n",
       "14         3.833333  \n",
       "32         3.983051  "
      ]
     },
     "execution_count": 15,
     "metadata": {},
     "output_type": "execute_result"
    }
   ],
   "source": [
    "eu_assisti = [1, 21, 14, 58, 14, 32]\n",
    "filmes.loc[eu_assisti]"
   ]
  },
  {
   "cell_type": "code",
   "execution_count": 16,
   "id": "59421eb5",
   "metadata": {
    "ExecuteTime": {
     "end_time": "2022-02-10T15:06:28.086876Z",
     "start_time": "2022-02-10T15:06:28.068048Z"
    }
   },
   "outputs": [
    {
     "data": {
      "text/html": [
       "<div>\n",
       "<style scoped>\n",
       "    .dataframe tbody tr th:only-of-type {\n",
       "        vertical-align: middle;\n",
       "    }\n",
       "\n",
       "    .dataframe tbody tr th {\n",
       "        vertical-align: top;\n",
       "    }\n",
       "\n",
       "    .dataframe thead th {\n",
       "        text-align: right;\n",
       "    }\n",
       "</style>\n",
       "<table border=\"1\" class=\"dataframe\">\n",
       "  <thead>\n",
       "    <tr style=\"text-align: right;\">\n",
       "      <th></th>\n",
       "      <th>titulo</th>\n",
       "      <th>genero</th>\n",
       "      <th>total_de_votos</th>\n",
       "      <th>nota_media</th>\n",
       "    </tr>\n",
       "    <tr>\n",
       "      <th>filmeId</th>\n",
       "      <th></th>\n",
       "      <th></th>\n",
       "      <th></th>\n",
       "      <th></th>\n",
       "    </tr>\n",
       "  </thead>\n",
       "  <tbody>\n",
       "    <tr>\n",
       "      <th>4011</th>\n",
       "      <td>Snatch (2000)</td>\n",
       "      <td>Comedy|Crime|Thriller</td>\n",
       "      <td>93.0</td>\n",
       "      <td>4.155914</td>\n",
       "    </tr>\n",
       "    <tr>\n",
       "      <th>2542</th>\n",
       "      <td>Lock, Stock &amp; Two Smoking Barrels (1998)</td>\n",
       "      <td>Comedy|Crime|Thriller</td>\n",
       "      <td>67.0</td>\n",
       "      <td>4.052239</td>\n",
       "    </tr>\n",
       "    <tr>\n",
       "      <th>21</th>\n",
       "      <td>Get Shorty (1995)</td>\n",
       "      <td>Comedy|Crime|Thriller</td>\n",
       "      <td>89.0</td>\n",
       "      <td>3.494382</td>\n",
       "    </tr>\n",
       "  </tbody>\n",
       "</table>\n",
       "</div>"
      ],
      "text/plain": [
       "                                           titulo                 genero  \\\n",
       "filmeId                                                                    \n",
       "4011                                Snatch (2000)  Comedy|Crime|Thriller   \n",
       "2542     Lock, Stock & Two Smoking Barrels (1998)  Comedy|Crime|Thriller   \n",
       "21                              Get Shorty (1995)  Comedy|Crime|Thriller   \n",
       "\n",
       "         total_de_votos  nota_media  \n",
       "filmeId                              \n",
       "4011               93.0    4.155914  \n",
       "2542               67.0    4.052239  \n",
       "21                 89.0    3.494382  "
      ]
     },
     "execution_count": 16,
     "metadata": {},
     "output_type": "execute_result"
    }
   ],
   "source": [
    "comedy_crime_thriller = filmes_com_mais_de_50_votos.query(\"genero=='Comedy|Crime|Thriller'\").sort_values(by='nota_media', ascending = False).head(10)\n",
    "\n",
    "comedy_crime_thriller"
   ]
  },
  {
   "cell_type": "code",
   "execution_count": 17,
   "id": "afc37587",
   "metadata": {
    "ExecuteTime": {
     "end_time": "2022-02-10T15:06:28.103193Z",
     "start_time": "2022-02-10T15:06:28.089985Z"
    }
   },
   "outputs": [
    {
     "data": {
      "text/html": [
       "<div>\n",
       "<style scoped>\n",
       "    .dataframe tbody tr th:only-of-type {\n",
       "        vertical-align: middle;\n",
       "    }\n",
       "\n",
       "    .dataframe tbody tr th {\n",
       "        vertical-align: top;\n",
       "    }\n",
       "\n",
       "    .dataframe thead th {\n",
       "        text-align: right;\n",
       "    }\n",
       "</style>\n",
       "<table border=\"1\" class=\"dataframe\">\n",
       "  <thead>\n",
       "    <tr style=\"text-align: right;\">\n",
       "      <th></th>\n",
       "      <th>titulo</th>\n",
       "      <th>genero</th>\n",
       "      <th>total_de_votos</th>\n",
       "      <th>nota_media</th>\n",
       "    </tr>\n",
       "    <tr>\n",
       "      <th>filmeId</th>\n",
       "      <th></th>\n",
       "      <th></th>\n",
       "      <th></th>\n",
       "      <th></th>\n",
       "    </tr>\n",
       "  </thead>\n",
       "  <tbody>\n",
       "    <tr>\n",
       "      <th>4011</th>\n",
       "      <td>Snatch (2000)</td>\n",
       "      <td>Comedy|Crime|Thriller</td>\n",
       "      <td>93.0</td>\n",
       "      <td>4.155914</td>\n",
       "    </tr>\n",
       "    <tr>\n",
       "      <th>2542</th>\n",
       "      <td>Lock, Stock &amp; Two Smoking Barrels (1998)</td>\n",
       "      <td>Comedy|Crime|Thriller</td>\n",
       "      <td>67.0</td>\n",
       "      <td>4.052239</td>\n",
       "    </tr>\n",
       "  </tbody>\n",
       "</table>\n",
       "</div>"
      ],
      "text/plain": [
       "                                           titulo                 genero  \\\n",
       "filmeId                                                                    \n",
       "4011                                Snatch (2000)  Comedy|Crime|Thriller   \n",
       "2542     Lock, Stock & Two Smoking Barrels (1998)  Comedy|Crime|Thriller   \n",
       "\n",
       "         total_de_votos  nota_media  \n",
       "filmeId                              \n",
       "4011               93.0    4.155914  \n",
       "2542               67.0    4.052239  "
      ]
     },
     "execution_count": 17,
     "metadata": {},
     "output_type": "execute_result"
    }
   ],
   "source": [
    "comedy_crime_thriller.drop(eu_assisti, errors='ignore').sort_values(by='nota_media', ascending = False).head(10)"
   ]
  },
  {
   "cell_type": "markdown",
   "id": "d5017142",
   "metadata": {},
   "source": [
    "# Definindo a distância euclidiana entre usuários"
   ]
  },
  {
   "cell_type": "code",
   "execution_count": 18,
   "id": "0bf2b7d1",
   "metadata": {
    "ExecuteTime": {
     "end_time": "2022-02-10T15:06:28.546194Z",
     "start_time": "2022-02-10T15:06:28.105985Z"
    }
   },
   "outputs": [],
   "source": [
    "import matplotlib.pyplot as plt"
   ]
  },
  {
   "cell_type": "code",
   "execution_count": 19,
   "id": "41d2ab9e",
   "metadata": {
    "ExecuteTime": {
     "end_time": "2022-02-10T15:06:28.785715Z",
     "start_time": "2022-02-10T15:06:28.548953Z"
    }
   },
   "outputs": [
    {
     "data": {
      "text/plain": [
       "[<matplotlib.lines.Line2D at 0x7fc96de1bdf0>]"
      ]
     },
     "execution_count": 19,
     "metadata": {},
     "output_type": "execute_result"
    },
    {
     "data": {
      "image/png": "[encoded data removed]",
      "text/plain": [
       "<Figure size 432x288 with 1 Axes>"
      ]
     },
     "metadata": {
      "needs_background": "light"
     },
     "output_type": "display_data"
    }
   ],
   "source": [
    "plt.plot(4, 4.5, 'go')\n",
    "plt.plot(5, 5, 'o')\n",
    "\n",
    "plt.plot([4, 5], [4.5, 4.5], color = 'b', linestyle = '-')\n",
    "plt.plot([4, 5], [4.5, 5],  color = 'b', linestyle = '-')\n",
    "plt.plot([5, 5], [4.5, 5],  color = 'b', linestyle = '-')"
   ]
  },
  {
   "cell_type": "code",
   "execution_count": 20,
   "id": "42f57b25",
   "metadata": {
    "ExecuteTime": {
     "end_time": "2022-02-10T15:06:28.795505Z",
     "start_time": "2022-02-10T15:06:28.788318Z"
    }
   },
   "outputs": [
    {
     "data": {
      "text/plain": [
       "array([-1. , -0.5])"
      ]
     },
     "execution_count": 20,
     "metadata": {},
     "output_type": "execute_result"
    }
   ],
   "source": [
    "import numpy as np\n",
    "\n",
    "joao = np.array([4, 4.5])\n",
    "maria = np.array([5, 5])\n",
    "\n",
    "joao - maria"
   ]
  },
  {
   "cell_type": "code",
   "execution_count": 21,
   "id": "8fffbbae",
   "metadata": {
    "ExecuteTime": {
     "end_time": "2022-02-10T15:06:28.806549Z",
     "start_time": "2022-02-10T15:06:28.798836Z"
    }
   },
   "outputs": [
    {
     "data": {
      "text/plain": [
       "1.118033988749895"
      ]
     },
     "execution_count": 21,
     "metadata": {},
     "output_type": "execute_result"
    }
   ],
   "source": [
    "from math import sqrt\n",
    "\n",
    "def pitagoras(a,b):\n",
    "    (delta_x, delta_y) = a - b\n",
    "    return sqrt(delta_x * delta_x + delta_y * delta_y)\n",
    "\n",
    "pitagoras(joao, maria)"
   ]
  },
  {
   "cell_type": "code",
   "execution_count": 22,
   "id": "46fa4b6b",
   "metadata": {
    "ExecuteTime": {
     "end_time": "2022-02-10T15:06:28.816054Z",
     "start_time": "2022-02-10T15:06:28.809244Z"
    }
   },
   "outputs": [
    {
     "data": {
      "text/plain": [
       "1.118033988749895"
      ]
     },
     "execution_count": 22,
     "metadata": {},
     "output_type": "execute_result"
    }
   ],
   "source": [
    "np.linalg.norm(joao - maria)"
   ]
  },
  {
   "cell_type": "code",
   "execution_count": 23,
   "id": "88d29633",
   "metadata": {
    "ExecuteTime": {
     "end_time": "2022-02-10T15:06:28.825141Z",
     "start_time": "2022-02-10T15:06:28.818660Z"
    }
   },
   "outputs": [
    {
     "data": {
      "text/plain": [
       "1.118033988749895"
      ]
     },
     "execution_count": 23,
     "metadata": {},
     "output_type": "execute_result"
    }
   ],
   "source": [
    "def diferenca_de_vetores(a, b):\n",
    "    return np.linalg.norm(a - b)\n",
    "\n",
    "pitagoras(joao, maria)"
   ]
  },
  {
   "cell_type": "code",
   "execution_count": 24,
   "id": "8de38e55",
   "metadata": {
    "ExecuteTime": {
     "end_time": "2022-02-10T15:06:29.041956Z",
     "start_time": "2022-02-10T15:06:28.829172Z"
    }
   },
   "outputs": [
    {
     "name": "stdout",
     "output_type": "stream",
     "text": [
      "1.118033988749895\n",
      "0.5\n"
     ]
    },
    {
     "data": {
      "image/png": "[encoded data removed]",
      "text/plain": [
       "<Figure size 432x288 with 1 Axes>"
      ]
     },
     "metadata": {
      "needs_background": "light"
     },
     "output_type": "display_data"
    }
   ],
   "source": [
    "plt.plot(4, 4.5, 'go')\n",
    "plt.plot(5, 5, 'o')\n",
    "plt.plot(3.4, 4.5, 'bo')\n",
    "\n",
    "joao = np.array([4, 4.5])\n",
    "maria = np.array([5, 5])\n",
    "joaquina = np.array([3.5, 4.5])\n",
    "\n",
    "print(pitagoras(joao, maria))\n",
    "print(pitagoras(joao, joaquina))"
   ]
  },
  {
   "cell_type": "markdown",
   "id": "30d454fa",
   "metadata": {},
   "source": [
    "# Implementando a distância entre usuários no nosso dataset"
   ]
  },
  {
   "cell_type": "code",
   "execution_count": 25,
   "id": "7b13a805",
   "metadata": {
    "ExecuteTime": {
     "end_time": "2022-02-10T15:06:29.049506Z",
     "start_time": "2022-02-10T15:06:29.044710Z"
    }
   },
   "outputs": [],
   "source": [
    "def notas_do_usuario(usuario):\n",
    "    notas_do_usuario = notas.query('usuarioId==%d' % usuario)\n",
    "    notas_do_usuario = notas_do_usuario[['filmeId', 'nota']].set_index('filmeId')\n",
    "    return notas_do_usuario\n",
    "\n",
    "#notas_do_usuario.loc[3809]"
   ]
  },
  {
   "cell_type": "code",
   "execution_count": 26,
   "id": "a02263e7",
   "metadata": {
    "ExecuteTime": {
     "end_time": "2022-02-10T15:06:29.072923Z",
     "start_time": "2022-02-10T15:06:29.052968Z"
    }
   },
   "outputs": [
    {
     "data": {
      "text/html": [
       "<div>\n",
       "<style scoped>\n",
       "    .dataframe tbody tr th:only-of-type {\n",
       "        vertical-align: middle;\n",
       "    }\n",
       "\n",
       "    .dataframe tbody tr th {\n",
       "        vertical-align: top;\n",
       "    }\n",
       "\n",
       "    .dataframe thead th {\n",
       "        text-align: right;\n",
       "    }\n",
       "</style>\n",
       "<table border=\"1\" class=\"dataframe\">\n",
       "  <thead>\n",
       "    <tr style=\"text-align: right;\">\n",
       "      <th></th>\n",
       "      <th>nota</th>\n",
       "    </tr>\n",
       "    <tr>\n",
       "      <th>filmeId</th>\n",
       "      <th></th>\n",
       "    </tr>\n",
       "  </thead>\n",
       "  <tbody>\n",
       "    <tr>\n",
       "      <th>21</th>\n",
       "      <td>3.0</td>\n",
       "    </tr>\n",
       "    <tr>\n",
       "      <th>32</th>\n",
       "      <td>2.0</td>\n",
       "    </tr>\n",
       "    <tr>\n",
       "      <th>45</th>\n",
       "      <td>3.0</td>\n",
       "    </tr>\n",
       "    <tr>\n",
       "      <th>47</th>\n",
       "      <td>2.0</td>\n",
       "    </tr>\n",
       "    <tr>\n",
       "      <th>52</th>\n",
       "      <td>3.0</td>\n",
       "    </tr>\n",
       "    <tr>\n",
       "      <th>...</th>\n",
       "      <td>...</td>\n",
       "    </tr>\n",
       "    <tr>\n",
       "      <th>4765</th>\n",
       "      <td>5.0</td>\n",
       "    </tr>\n",
       "    <tr>\n",
       "      <th>4881</th>\n",
       "      <td>3.0</td>\n",
       "    </tr>\n",
       "    <tr>\n",
       "      <th>4896</th>\n",
       "      <td>4.0</td>\n",
       "    </tr>\n",
       "    <tr>\n",
       "      <th>4902</th>\n",
       "      <td>4.0</td>\n",
       "    </tr>\n",
       "    <tr>\n",
       "      <th>4967</th>\n",
       "      <td>5.0</td>\n",
       "    </tr>\n",
       "  </tbody>\n",
       "</table>\n",
       "<p>216 rows × 1 columns</p>\n",
       "</div>"
      ],
      "text/plain": [
       "         nota\n",
       "filmeId      \n",
       "21        3.0\n",
       "32        2.0\n",
       "45        3.0\n",
       "47        2.0\n",
       "52        3.0\n",
       "...       ...\n",
       "4765      5.0\n",
       "4881      3.0\n",
       "4896      4.0\n",
       "4902      4.0\n",
       "4967      5.0\n",
       "\n",
       "[216 rows x 1 columns]"
      ]
     },
     "execution_count": 26,
     "metadata": {},
     "output_type": "execute_result"
    }
   ],
   "source": [
    "notas_do_usuario(4)"
   ]
  },
  {
   "cell_type": "code",
   "execution_count": 27,
   "id": "d31e33f8",
   "metadata": {
    "ExecuteTime": {
     "end_time": "2022-02-10T15:06:29.095997Z",
     "start_time": "2022-02-10T15:06:29.075608Z"
    }
   },
   "outputs": [],
   "source": [
    "usuario1 = notas_do_usuario(1)\n",
    "usuario4 = notas_do_usuario(4)\n",
    "\n",
    "diferencas = usuario1.join(usuario4, lsuffix='esquerda', rsuffix = 'direita').dropna()"
   ]
  },
  {
   "cell_type": "code",
   "execution_count": 28,
   "id": "3a20ea27",
   "metadata": {
    "ExecuteTime": {
     "end_time": "2022-02-10T15:06:29.113425Z",
     "start_time": "2022-02-10T15:06:29.106385Z"
    }
   },
   "outputs": [
    {
     "data": {
      "text/plain": [
       "11.135528725660043"
      ]
     },
     "execution_count": 28,
     "metadata": {},
     "output_type": "execute_result"
    }
   ],
   "source": [
    "diferenca_de_vetores(diferencas['notaesquerda'], diferencas['notadireita'])"
   ]
  },
  {
   "cell_type": "code",
   "execution_count": 29,
   "id": "69749663",
   "metadata": {
    "ExecuteTime": {
     "end_time": "2022-02-10T15:06:29.123282Z",
     "start_time": "2022-02-10T15:06:29.116431Z"
    }
   },
   "outputs": [],
   "source": [
    "def distancia_usuarios(usuario_id1, usuario_id2):\n",
    "    notas1 = notas_do_usuario(usuario_id1)\n",
    "    notas2 = notas_do_usuario(usuario_id2)\n",
    "    \n",
    "    diferencas = notas1.join(notas2, lsuffix='esquerda', rsuffix = 'direita').dropna()\n",
    "    distancia = diferenca_de_vetores(diferencas['notaesquerda'], diferencas['notadireita'])\n",
    "    return usuario_id1, usuario_id2, distancia"
   ]
  },
  {
   "cell_type": "code",
   "execution_count": 30,
   "id": "5dac344b",
   "metadata": {
    "ExecuteTime": {
     "end_time": "2022-02-10T15:06:29.145575Z",
     "start_time": "2022-02-10T15:06:29.125648Z"
    }
   },
   "outputs": [
    {
     "data": {
      "text/plain": [
       "(1, 4, 11.135528725660043)"
      ]
     },
     "execution_count": 30,
     "metadata": {},
     "output_type": "execute_result"
    }
   ],
   "source": [
    "distancia_usuarios(1, 4)"
   ]
  },
  {
   "cell_type": "markdown",
   "id": "87a5c6d6",
   "metadata": {},
   "source": [
    "# Calculando a distância entre um e todos os usuários"
   ]
  },
  {
   "cell_type": "code",
   "execution_count": 31,
   "id": "1c5650cd",
   "metadata": {
    "ExecuteTime": {
     "end_time": "2022-02-10T15:06:35.204335Z",
     "start_time": "2022-02-10T15:06:29.151251Z"
    }
   },
   "outputs": [
    {
     "data": {
      "text/plain": [
       "[(1, 1, 0.0),\n",
       " (1, 2, 1.4142135623730951),\n",
       " (1, 3, 8.200609733428363),\n",
       " (1, 4, 11.135528725660043),\n",
       " (1, 5, 3.7416573867739413)]"
      ]
     },
     "execution_count": 31,
     "metadata": {},
     "output_type": "execute_result"
    }
   ],
   "source": [
    "def distancia_para_todos(voce_id):\n",
    "    distancia = []\n",
    "    for id_usuario in notas['usuarioId'].unique():\n",
    "        informacoes = distancia_usuarios(voce_id, id_usuario)\n",
    "        distancia.append(informacoes)\n",
    "        \n",
    "    return distancia\n",
    "\n",
    "distancia_para_todos(1)[:5]"
   ]
  },
  {
   "cell_type": "code",
   "execution_count": 32,
   "id": "a5f21c21",
   "metadata": {
    "ExecuteTime": {
     "end_time": "2022-02-10T15:06:41.680743Z",
     "start_time": "2022-02-10T15:06:35.214946Z"
    }
   },
   "outputs": [
    {
     "data": {
      "text/html": [
       "<div>\n",
       "<style scoped>\n",
       "    .dataframe tbody tr th:only-of-type {\n",
       "        vertical-align: middle;\n",
       "    }\n",
       "\n",
       "    .dataframe tbody tr th {\n",
       "        vertical-align: top;\n",
       "    }\n",
       "\n",
       "    .dataframe thead th {\n",
       "        text-align: right;\n",
       "    }\n",
       "</style>\n",
       "<table border=\"1\" class=\"dataframe\">\n",
       "  <thead>\n",
       "    <tr style=\"text-align: right;\">\n",
       "      <th></th>\n",
       "      <th>voce</th>\n",
       "      <th>outra_pessoa</th>\n",
       "      <th>distancia</th>\n",
       "    </tr>\n",
       "  </thead>\n",
       "  <tbody>\n",
       "    <tr>\n",
       "      <th>0</th>\n",
       "      <td>1</td>\n",
       "      <td>1</td>\n",
       "      <td>0.000000</td>\n",
       "    </tr>\n",
       "    <tr>\n",
       "      <th>1</th>\n",
       "      <td>1</td>\n",
       "      <td>2</td>\n",
       "      <td>1.414214</td>\n",
       "    </tr>\n",
       "    <tr>\n",
       "      <th>2</th>\n",
       "      <td>1</td>\n",
       "      <td>3</td>\n",
       "      <td>8.200610</td>\n",
       "    </tr>\n",
       "    <tr>\n",
       "      <th>3</th>\n",
       "      <td>1</td>\n",
       "      <td>4</td>\n",
       "      <td>11.135529</td>\n",
       "    </tr>\n",
       "    <tr>\n",
       "      <th>4</th>\n",
       "      <td>1</td>\n",
       "      <td>5</td>\n",
       "      <td>3.741657</td>\n",
       "    </tr>\n",
       "    <tr>\n",
       "      <th>...</th>\n",
       "      <td>...</td>\n",
       "      <td>...</td>\n",
       "      <td>...</td>\n",
       "    </tr>\n",
       "    <tr>\n",
       "      <th>605</th>\n",
       "      <td>1</td>\n",
       "      <td>606</td>\n",
       "      <td>11.510864</td>\n",
       "    </tr>\n",
       "    <tr>\n",
       "      <th>606</th>\n",
       "      <td>1</td>\n",
       "      <td>607</td>\n",
       "      <td>9.899495</td>\n",
       "    </tr>\n",
       "    <tr>\n",
       "      <th>607</th>\n",
       "      <td>1</td>\n",
       "      <td>608</td>\n",
       "      <td>18.241436</td>\n",
       "    </tr>\n",
       "    <tr>\n",
       "      <th>608</th>\n",
       "      <td>1</td>\n",
       "      <td>609</td>\n",
       "      <td>3.162278</td>\n",
       "    </tr>\n",
       "    <tr>\n",
       "      <th>609</th>\n",
       "      <td>1</td>\n",
       "      <td>610</td>\n",
       "      <td>8.031189</td>\n",
       "    </tr>\n",
       "  </tbody>\n",
       "</table>\n",
       "<p>610 rows × 3 columns</p>\n",
       "</div>"
      ],
      "text/plain": [
       "     voce  outra_pessoa  distancia\n",
       "0       1             1   0.000000\n",
       "1       1             2   1.414214\n",
       "2       1             3   8.200610\n",
       "3       1             4  11.135529\n",
       "4       1             5   3.741657\n",
       "..    ...           ...        ...\n",
       "605     1           606  11.510864\n",
       "606     1           607   9.899495\n",
       "607     1           608  18.241436\n",
       "608     1           609   3.162278\n",
       "609     1           610   8.031189\n",
       "\n",
       "[610 rows x 3 columns]"
      ]
     },
     "execution_count": 32,
     "metadata": {},
     "output_type": "execute_result"
    }
   ],
   "source": [
    "def distancia_de_todos(voce_id):\n",
    "    todos_usuarios = notas['usuarioId'].unique()\n",
    "    distancias = [distancia_usuarios(voce_id, id_usuario) for id_usuario in todos_usuarios]\n",
    "    distancias = pd.DataFrame(distancias, columns =['voce', 'outra_pessoa', 'distancia'])\n",
    "    return distancias\n",
    "\n",
    "distancia_de_todos(1)"
   ]
  },
  {
   "cell_type": "markdown",
   "id": "c6ea16e0",
   "metadata": {},
   "source": [
    "# Ordenando usuários por distância e lidando com casos extremos"
   ]
  },
  {
   "cell_type": "markdown",
   "id": "2ac95776",
   "metadata": {},
   "source": [
    "## Usuários sem nada em comum são colocados distantes um dos outros"
   ]
  },
  {
   "cell_type": "code",
   "execution_count": 37,
   "id": "c31c9f48",
   "metadata": {
    "ExecuteTime": {
     "end_time": "2022-02-10T15:14:35.086132Z",
     "start_time": "2022-02-10T15:14:35.078192Z"
    }
   },
   "outputs": [],
   "source": [
    "def distancia_usuarios(usuario_id1, usuario_id2, minimo = 5):\n",
    "    notas1 = notas_do_usuario(usuario_id1)\n",
    "    notas2 = notas_do_usuario(usuario_id2)\n",
    "    \n",
    "    diferencas = notas1.join(notas2, lsuffix='esquerda', rsuffix = 'direita').dropna()\n",
    "    \n",
    "    if(len(diferencas) < minimo):\n",
    "        return [usuario_id1, usuario_id2, 100000]\n",
    "    \n",
    "    distancia = diferenca_de_vetores(diferencas['notaesquerda'], diferencas['notadireita'])\n",
    "    return usuario_id1, usuario_id2, distancia"
   ]
  },
  {
   "cell_type": "code",
   "execution_count": 38,
   "id": "5b240055",
   "metadata": {
    "ExecuteTime": {
     "end_time": "2022-02-10T15:14:41.782579Z",
     "start_time": "2022-02-10T15:14:35.435991Z"
    }
   },
   "outputs": [
    {
     "data": {
      "text/plain": [
       "[(1, 1, 0.0),\n",
       " [1, 2, 100000],\n",
       " (1, 3, 8.200609733428363),\n",
       " (1, 4, 11.135528725660043),\n",
       " (1, 5, 3.7416573867739413)]"
      ]
     },
     "execution_count": 38,
     "metadata": {},
     "output_type": "execute_result"
    }
   ],
   "source": [
    "def distancia_para_todos(voce_id):\n",
    "    distancia = []\n",
    "    for id_usuario in notas['usuarioId'].unique():\n",
    "        informacoes = distancia_usuarios(voce_id, id_usuario)\n",
    "        distancia.append(informacoes)\n",
    "        \n",
    "    return distancia\n",
    "\n",
    "distancia_para_todos(1)[:5]"
   ]
  },
  {
   "cell_type": "code",
   "execution_count": 41,
   "id": "6241ef10",
   "metadata": {
    "ExecuteTime": {
     "end_time": "2022-02-10T15:17:04.210970Z",
     "start_time": "2022-02-10T15:17:04.204889Z"
    }
   },
   "outputs": [],
   "source": [
    "def mais_proximos_de(voce_id):\n",
    "    distancias = distancia_de_todos(voce_id)\n",
    "    distancias = distancias.sort_values('distancia')\n",
    "    distancias = distancias.set_index('outra_pessoa').drop(voce_id)\n",
    "    \n",
    "    return distancias"
   ]
  },
  {
   "cell_type": "code",
   "execution_count": 42,
   "id": "02863afe",
   "metadata": {
    "ExecuteTime": {
     "end_time": "2022-02-10T15:17:11.135787Z",
     "start_time": "2022-02-10T15:17:04.602779Z"
    }
   },
   "outputs": [
    {
     "data": {
      "text/html": [
       "<div>\n",
       "<style scoped>\n",
       "    .dataframe tbody tr th:only-of-type {\n",
       "        vertical-align: middle;\n",
       "    }\n",
       "\n",
       "    .dataframe tbody tr th {\n",
       "        vertical-align: top;\n",
       "    }\n",
       "\n",
       "    .dataframe thead th {\n",
       "        text-align: right;\n",
       "    }\n",
       "</style>\n",
       "<table border=\"1\" class=\"dataframe\">\n",
       "  <thead>\n",
       "    <tr style=\"text-align: right;\">\n",
       "      <th></th>\n",
       "      <th>voce</th>\n",
       "      <th>distancia</th>\n",
       "    </tr>\n",
       "    <tr>\n",
       "      <th>outra_pessoa</th>\n",
       "      <th></th>\n",
       "      <th></th>\n",
       "    </tr>\n",
       "  </thead>\n",
       "  <tbody>\n",
       "    <tr>\n",
       "      <th>77</th>\n",
       "      <td>1</td>\n",
       "      <td>0.000000</td>\n",
       "    </tr>\n",
       "    <tr>\n",
       "      <th>511</th>\n",
       "      <td>1</td>\n",
       "      <td>0.500000</td>\n",
       "    </tr>\n",
       "    <tr>\n",
       "      <th>366</th>\n",
       "      <td>1</td>\n",
       "      <td>0.707107</td>\n",
       "    </tr>\n",
       "    <tr>\n",
       "      <th>523</th>\n",
       "      <td>1</td>\n",
       "      <td>1.000000</td>\n",
       "    </tr>\n",
       "    <tr>\n",
       "      <th>49</th>\n",
       "      <td>1</td>\n",
       "      <td>1.000000</td>\n",
       "    </tr>\n",
       "    <tr>\n",
       "      <th>...</th>\n",
       "      <td>...</td>\n",
       "      <td>...</td>\n",
       "    </tr>\n",
       "    <tr>\n",
       "      <th>190</th>\n",
       "      <td>1</td>\n",
       "      <td>100000.000000</td>\n",
       "    </tr>\n",
       "    <tr>\n",
       "      <th>60</th>\n",
       "      <td>1</td>\n",
       "      <td>100000.000000</td>\n",
       "    </tr>\n",
       "    <tr>\n",
       "      <th>576</th>\n",
       "      <td>1</td>\n",
       "      <td>100000.000000</td>\n",
       "    </tr>\n",
       "    <tr>\n",
       "      <th>545</th>\n",
       "      <td>1</td>\n",
       "      <td>100000.000000</td>\n",
       "    </tr>\n",
       "    <tr>\n",
       "      <th>499</th>\n",
       "      <td>1</td>\n",
       "      <td>100000.000000</td>\n",
       "    </tr>\n",
       "  </tbody>\n",
       "</table>\n",
       "<p>609 rows × 2 columns</p>\n",
       "</div>"
      ],
      "text/plain": [
       "              voce      distancia\n",
       "outra_pessoa                     \n",
       "77               1       0.000000\n",
       "511              1       0.500000\n",
       "366              1       0.707107\n",
       "523              1       1.000000\n",
       "49               1       1.000000\n",
       "...            ...            ...\n",
       "190              1  100000.000000\n",
       "60               1  100000.000000\n",
       "576              1  100000.000000\n",
       "545              1  100000.000000\n",
       "499              1  100000.000000\n",
       "\n",
       "[609 rows x 2 columns]"
      ]
     },
     "execution_count": 42,
     "metadata": {},
     "output_type": "execute_result"
    }
   ],
   "source": [
    "mais_proximos_de(1)"
   ]
  },
  {
   "cell_type": "markdown",
   "id": "af2282a9",
   "metadata": {},
   "source": [
    "# Gerando recomendações baseado em um usuário"
   ]
  },
  {
   "cell_type": "code",
   "execution_count": 60,
   "id": "b1ab2ba8",
   "metadata": {
    "ExecuteTime": {
     "end_time": "2022-02-10T15:33:24.280257Z",
     "start_time": "2022-02-10T15:33:24.273385Z"
    }
   },
   "outputs": [],
   "source": [
    "def mais_proximos_de(voce_id, n = None):\n",
    "    distancias = distancia_de_todos(voce_id, n = n)\n",
    "    distancias = distancias.sort_values('distancia')\n",
    "    distancias = distancias.set_index('outra_pessoa').drop(voce_id)\n",
    "    \n",
    "    return distancias\n",
    "\n",
    "\n",
    "\n",
    "def distancia_de_todos(voce_id, n = None):\n",
    "    todos_usuarios = notas['usuarioId'].unique()\n",
    "    \n",
    "    if n:\n",
    "        todos_os_usuarios = todos_os_usuarios[:n]\n",
    "        \n",
    "    distancias = [distancia_usuarios(voce_id, usuario_id) for usuario_id in todos_usuarios]\n",
    "    distancias = pd.DataFrame(distancias, columns =['voce', 'outra_pessoa', 'distancia'])\n",
    "    return distancias\n",
    "\n",
    "\n",
    "\n"
   ]
  },
  {
   "cell_type": "code",
   "execution_count": 63,
   "id": "f783d425",
   "metadata": {
    "ExecuteTime": {
     "end_time": "2022-02-10T15:34:14.732234Z",
     "start_time": "2022-02-10T15:34:08.297267Z"
    }
   },
   "outputs": [
    {
     "data": {
      "text/html": [
       "<div>\n",
       "<style scoped>\n",
       "    .dataframe tbody tr th:only-of-type {\n",
       "        vertical-align: middle;\n",
       "    }\n",
       "\n",
       "    .dataframe tbody tr th {\n",
       "        vertical-align: top;\n",
       "    }\n",
       "\n",
       "    .dataframe thead th {\n",
       "        text-align: right;\n",
       "    }\n",
       "</style>\n",
       "<table border=\"1\" class=\"dataframe\">\n",
       "  <thead>\n",
       "    <tr style=\"text-align: right;\">\n",
       "      <th></th>\n",
       "      <th>voce</th>\n",
       "      <th>distancia</th>\n",
       "    </tr>\n",
       "    <tr>\n",
       "      <th>outra_pessoa</th>\n",
       "      <th></th>\n",
       "      <th></th>\n",
       "    </tr>\n",
       "  </thead>\n",
       "  <tbody>\n",
       "    <tr>\n",
       "      <th>77</th>\n",
       "      <td>1</td>\n",
       "      <td>0.000000</td>\n",
       "    </tr>\n",
       "    <tr>\n",
       "      <th>511</th>\n",
       "      <td>1</td>\n",
       "      <td>0.500000</td>\n",
       "    </tr>\n",
       "    <tr>\n",
       "      <th>366</th>\n",
       "      <td>1</td>\n",
       "      <td>0.707107</td>\n",
       "    </tr>\n",
       "    <tr>\n",
       "      <th>523</th>\n",
       "      <td>1</td>\n",
       "      <td>1.000000</td>\n",
       "    </tr>\n",
       "    <tr>\n",
       "      <th>49</th>\n",
       "      <td>1</td>\n",
       "      <td>1.000000</td>\n",
       "    </tr>\n",
       "    <tr>\n",
       "      <th>...</th>\n",
       "      <td>...</td>\n",
       "      <td>...</td>\n",
       "    </tr>\n",
       "    <tr>\n",
       "      <th>190</th>\n",
       "      <td>1</td>\n",
       "      <td>100000.000000</td>\n",
       "    </tr>\n",
       "    <tr>\n",
       "      <th>60</th>\n",
       "      <td>1</td>\n",
       "      <td>100000.000000</td>\n",
       "    </tr>\n",
       "    <tr>\n",
       "      <th>576</th>\n",
       "      <td>1</td>\n",
       "      <td>100000.000000</td>\n",
       "    </tr>\n",
       "    <tr>\n",
       "      <th>545</th>\n",
       "      <td>1</td>\n",
       "      <td>100000.000000</td>\n",
       "    </tr>\n",
       "    <tr>\n",
       "      <th>499</th>\n",
       "      <td>1</td>\n",
       "      <td>100000.000000</td>\n",
       "    </tr>\n",
       "  </tbody>\n",
       "</table>\n",
       "<p>609 rows × 2 columns</p>\n",
       "</div>"
      ],
      "text/plain": [
       "              voce      distancia\n",
       "outra_pessoa                     \n",
       "77               1       0.000000\n",
       "511              1       0.500000\n",
       "366              1       0.707107\n",
       "523              1       1.000000\n",
       "49               1       1.000000\n",
       "...            ...            ...\n",
       "190              1  100000.000000\n",
       "60               1  100000.000000\n",
       "576              1  100000.000000\n",
       "545              1  100000.000000\n",
       "499              1  100000.000000\n",
       "\n",
       "[609 rows x 2 columns]"
      ]
     },
     "execution_count": 63,
     "metadata": {},
     "output_type": "execute_result"
    }
   ],
   "source": [
    "mais_proximos_de(1)"
   ]
  },
  {
   "cell_type": "code",
   "execution_count": null,
   "id": "0818921b",
   "metadata": {},
   "outputs": [],
   "source": []
  }
 ],
 "metadata": {
  "kernelspec": {
   "display_name": "ds-projects",
   "language": "python",
   "name": "ds-projects"
  },
  "language_info": {
   "codemirror_mode": {
    "name": "ipython",
    "version": 3
   },
   "file_extension": ".py",
   "mimetype": "text/x-python",
   "name": "python",
   "nbconvert_exporter": "python",
   "pygments_lexer": "ipython3",
   "version": "3.9.7"
  },
  "toc": {
   "base_numbering": 1,
   "nav_menu": {},
   "number_sections": true,
   "sideBar": true,
   "skip_h1_title": false,
   "title_cell": "Table of Contents",
   "title_sidebar": "Contents",
   "toc_cell": false,
   "toc_position": {},
   "toc_section_display": true,
   "toc_window_display": false
  }
 },
 "nbformat": 4,
 "nbformat_minor": 5
}
