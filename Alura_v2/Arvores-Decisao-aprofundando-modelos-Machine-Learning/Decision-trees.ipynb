{
 "cells": [
  {
   "cell_type": "markdown",
   "id": "36dc6532",
   "metadata": {},
   "source": [
    "# Árvores de Decisão: aprofundando em modelos de Machine Learning"
   ]
  },
  {
   "cell_type": "markdown",
   "id": "320a80a7",
   "metadata": {},
   "source": [
    "Faça esse curso de Data Science e:\n",
    "\n",
    "- Identifique fraudes em cartões de crédito utilizando uma árvore de decisão\n",
    "- Entenda como funcionam as árvores de decisão\n",
    "- Crie diversos modelos de Machine Learning com o scikit-learn\n",
    "- Aprenda sobre as técnicas Bagging e Boosting\n",
    "- Explore o famoso algoritmo Random Forest por debaixo dos panos\n",
    "- Conheça o algoritmo AdaBoost em detalhes"
   ]
  },
  {
   "cell_type": "markdown",
   "id": "cccd7742",
   "metadata": {},
   "source": [
    "# LIB'S"
   ]
  },
  {
   "cell_type": "code",
   "execution_count": 39,
   "id": "eb706f77",
   "metadata": {
    "ExecuteTime": {
     "end_time": "2022-04-20T01:06:57.082491Z",
     "start_time": "2022-04-20T01:06:56.535187Z"
    }
   },
   "outputs": [],
   "source": [
    "import pandas as pd\n",
    "import matplotlib.pyplot as plt\n",
    "\n",
    "from sklearn.model_selection import StratifiedShuffleSplit\n",
    "from sklearn import tree\n"
   ]
  },
  {
   "cell_type": "markdown",
   "id": "4117a281",
   "metadata": {},
   "source": [
    "# DATASET"
   ]
  },
  {
   "cell_type": "code",
   "execution_count": 2,
   "id": "eae3e05b",
   "metadata": {
    "ExecuteTime": {
     "end_time": "2022-04-20T00:45:35.980548Z",
     "start_time": "2022-04-20T00:45:33.577699Z"
    }
   },
   "outputs": [
    {
     "data": {
      "text/html": [
       "<div>\n",
       "<style scoped>\n",
       "    .dataframe tbody tr th:only-of-type {\n",
       "        vertical-align: middle;\n",
       "    }\n",
       "\n",
       "    .dataframe tbody tr th {\n",
       "        vertical-align: top;\n",
       "    }\n",
       "\n",
       "    .dataframe thead th {\n",
       "        text-align: right;\n",
       "    }\n",
       "</style>\n",
       "<table border=\"1\" class=\"dataframe\">\n",
       "  <thead>\n",
       "    <tr style=\"text-align: right;\">\n",
       "      <th></th>\n",
       "      <th>Time</th>\n",
       "      <th>V1</th>\n",
       "      <th>V2</th>\n",
       "      <th>V3</th>\n",
       "      <th>V4</th>\n",
       "      <th>V5</th>\n",
       "      <th>V6</th>\n",
       "      <th>V7</th>\n",
       "      <th>V8</th>\n",
       "      <th>V9</th>\n",
       "      <th>...</th>\n",
       "      <th>V21</th>\n",
       "      <th>V22</th>\n",
       "      <th>V23</th>\n",
       "      <th>V24</th>\n",
       "      <th>V25</th>\n",
       "      <th>V26</th>\n",
       "      <th>V27</th>\n",
       "      <th>V28</th>\n",
       "      <th>Amount</th>\n",
       "      <th>Class</th>\n",
       "    </tr>\n",
       "  </thead>\n",
       "  <tbody>\n",
       "    <tr>\n",
       "      <th>0</th>\n",
       "      <td>0.0</td>\n",
       "      <td>-1.359807</td>\n",
       "      <td>-0.072781</td>\n",
       "      <td>2.536347</td>\n",
       "      <td>1.378155</td>\n",
       "      <td>-0.338321</td>\n",
       "      <td>0.462388</td>\n",
       "      <td>0.239599</td>\n",
       "      <td>0.098698</td>\n",
       "      <td>0.363787</td>\n",
       "      <td>...</td>\n",
       "      <td>-0.018307</td>\n",
       "      <td>0.277838</td>\n",
       "      <td>-0.110474</td>\n",
       "      <td>0.066928</td>\n",
       "      <td>0.128539</td>\n",
       "      <td>-0.189115</td>\n",
       "      <td>0.133558</td>\n",
       "      <td>-0.021053</td>\n",
       "      <td>149.62</td>\n",
       "      <td>0</td>\n",
       "    </tr>\n",
       "    <tr>\n",
       "      <th>1</th>\n",
       "      <td>0.0</td>\n",
       "      <td>1.191857</td>\n",
       "      <td>0.266151</td>\n",
       "      <td>0.166480</td>\n",
       "      <td>0.448154</td>\n",
       "      <td>0.060018</td>\n",
       "      <td>-0.082361</td>\n",
       "      <td>-0.078803</td>\n",
       "      <td>0.085102</td>\n",
       "      <td>-0.255425</td>\n",
       "      <td>...</td>\n",
       "      <td>-0.225775</td>\n",
       "      <td>-0.638672</td>\n",
       "      <td>0.101288</td>\n",
       "      <td>-0.339846</td>\n",
       "      <td>0.167170</td>\n",
       "      <td>0.125895</td>\n",
       "      <td>-0.008983</td>\n",
       "      <td>0.014724</td>\n",
       "      <td>2.69</td>\n",
       "      <td>0</td>\n",
       "    </tr>\n",
       "    <tr>\n",
       "      <th>2</th>\n",
       "      <td>1.0</td>\n",
       "      <td>-1.358354</td>\n",
       "      <td>-1.340163</td>\n",
       "      <td>1.773209</td>\n",
       "      <td>0.379780</td>\n",
       "      <td>-0.503198</td>\n",
       "      <td>1.800499</td>\n",
       "      <td>0.791461</td>\n",
       "      <td>0.247676</td>\n",
       "      <td>-1.514654</td>\n",
       "      <td>...</td>\n",
       "      <td>0.247998</td>\n",
       "      <td>0.771679</td>\n",
       "      <td>0.909412</td>\n",
       "      <td>-0.689281</td>\n",
       "      <td>-0.327642</td>\n",
       "      <td>-0.139097</td>\n",
       "      <td>-0.055353</td>\n",
       "      <td>-0.059752</td>\n",
       "      <td>378.66</td>\n",
       "      <td>0</td>\n",
       "    </tr>\n",
       "    <tr>\n",
       "      <th>3</th>\n",
       "      <td>1.0</td>\n",
       "      <td>-0.966272</td>\n",
       "      <td>-0.185226</td>\n",
       "      <td>1.792993</td>\n",
       "      <td>-0.863291</td>\n",
       "      <td>-0.010309</td>\n",
       "      <td>1.247203</td>\n",
       "      <td>0.237609</td>\n",
       "      <td>0.377436</td>\n",
       "      <td>-1.387024</td>\n",
       "      <td>...</td>\n",
       "      <td>-0.108300</td>\n",
       "      <td>0.005274</td>\n",
       "      <td>-0.190321</td>\n",
       "      <td>-1.175575</td>\n",
       "      <td>0.647376</td>\n",
       "      <td>-0.221929</td>\n",
       "      <td>0.062723</td>\n",
       "      <td>0.061458</td>\n",
       "      <td>123.50</td>\n",
       "      <td>0</td>\n",
       "    </tr>\n",
       "    <tr>\n",
       "      <th>4</th>\n",
       "      <td>2.0</td>\n",
       "      <td>-1.158233</td>\n",
       "      <td>0.877737</td>\n",
       "      <td>1.548718</td>\n",
       "      <td>0.403034</td>\n",
       "      <td>-0.407193</td>\n",
       "      <td>0.095921</td>\n",
       "      <td>0.592941</td>\n",
       "      <td>-0.270533</td>\n",
       "      <td>0.817739</td>\n",
       "      <td>...</td>\n",
       "      <td>-0.009431</td>\n",
       "      <td>0.798278</td>\n",
       "      <td>-0.137458</td>\n",
       "      <td>0.141267</td>\n",
       "      <td>-0.206010</td>\n",
       "      <td>0.502292</td>\n",
       "      <td>0.219422</td>\n",
       "      <td>0.215153</td>\n",
       "      <td>69.99</td>\n",
       "      <td>0</td>\n",
       "    </tr>\n",
       "  </tbody>\n",
       "</table>\n",
       "<p>5 rows × 31 columns</p>\n",
       "</div>"
      ],
      "text/plain": [
       "   Time        V1        V2        V3        V4        V5        V6        V7  \\\n",
       "0   0.0 -1.359807 -0.072781  2.536347  1.378155 -0.338321  0.462388  0.239599   \n",
       "1   0.0  1.191857  0.266151  0.166480  0.448154  0.060018 -0.082361 -0.078803   \n",
       "2   1.0 -1.358354 -1.340163  1.773209  0.379780 -0.503198  1.800499  0.791461   \n",
       "3   1.0 -0.966272 -0.185226  1.792993 -0.863291 -0.010309  1.247203  0.237609   \n",
       "4   2.0 -1.158233  0.877737  1.548718  0.403034 -0.407193  0.095921  0.592941   \n",
       "\n",
       "         V8        V9  ...       V21       V22       V23       V24       V25  \\\n",
       "0  0.098698  0.363787  ... -0.018307  0.277838 -0.110474  0.066928  0.128539   \n",
       "1  0.085102 -0.255425  ... -0.225775 -0.638672  0.101288 -0.339846  0.167170   \n",
       "2  0.247676 -1.514654  ...  0.247998  0.771679  0.909412 -0.689281 -0.327642   \n",
       "3  0.377436 -1.387024  ... -0.108300  0.005274 -0.190321 -1.175575  0.647376   \n",
       "4 -0.270533  0.817739  ... -0.009431  0.798278 -0.137458  0.141267 -0.206010   \n",
       "\n",
       "        V26       V27       V28  Amount  Class  \n",
       "0 -0.189115  0.133558 -0.021053  149.62      0  \n",
       "1  0.125895 -0.008983  0.014724    2.69      0  \n",
       "2 -0.139097 -0.055353 -0.059752  378.66      0  \n",
       "3 -0.221929  0.062723  0.061458  123.50      0  \n",
       "4  0.502292  0.219422  0.215153   69.99      0  \n",
       "\n",
       "[5 rows x 31 columns]"
      ]
     },
     "execution_count": 2,
     "metadata": {},
     "output_type": "execute_result"
    }
   ],
   "source": [
    "df = pd.read_csv('/Users/daianeklein/Documents/DataScience/cursos-bootcamps/creditcard.csv')\n",
    "df.head()"
   ]
  },
  {
   "cell_type": "markdown",
   "id": "ca88ebdf",
   "metadata": {},
   "source": [
    "# DATA ANALYSIS"
   ]
  },
  {
   "cell_type": "code",
   "execution_count": 4,
   "id": "1bccaa43",
   "metadata": {
    "ExecuteTime": {
     "end_time": "2022-04-20T00:46:14.514527Z",
     "start_time": "2022-04-20T00:46:14.507093Z"
    }
   },
   "outputs": [
    {
     "data": {
      "text/plain": [
       "(284807, 31)"
      ]
     },
     "execution_count": 4,
     "metadata": {},
     "output_type": "execute_result"
    }
   ],
   "source": [
    "df.shape"
   ]
  },
  {
   "cell_type": "code",
   "execution_count": 5,
   "id": "6bb4c757",
   "metadata": {
    "ExecuteTime": {
     "end_time": "2022-04-20T00:46:38.530172Z",
     "start_time": "2022-04-20T00:46:38.523365Z"
    }
   },
   "outputs": [
    {
     "data": {
      "text/plain": [
       "492"
      ]
     },
     "execution_count": 5,
     "metadata": {},
     "output_type": "execute_result"
    }
   ],
   "source": [
    "# frauds\n",
    "df['Class'].sum()"
   ]
  },
  {
   "cell_type": "code",
   "execution_count": 20,
   "id": "e9dd3fc0",
   "metadata": {
    "ExecuteTime": {
     "end_time": "2022-04-20T00:53:07.358707Z",
     "start_time": "2022-04-20T00:53:07.313828Z"
    }
   },
   "outputs": [
    {
     "name": "stdout",
     "output_type": "stream",
     "text": [
      "99.83\n",
      "0.17\n"
     ]
    }
   ],
   "source": [
    "not_frauds = df[df['Class'] == 0].shape[0]\n",
    "frauds = df[df['Class'] == 1].shape[0]\n",
    "\n",
    "print(round((not_frauds / df.shape[0]) * 100, 2))\n",
    "print(round((frauds / df.shape[0]) * 100,2))"
   ]
  },
  {
   "cell_type": "markdown",
   "id": "a8cc499d",
   "metadata": {},
   "source": [
    "# TRAIN AND TEST"
   ]
  },
  {
   "cell_type": "code",
   "execution_count": 34,
   "id": "e74e32db",
   "metadata": {
    "ExecuteTime": {
     "end_time": "2022-04-20T01:04:40.086669Z",
     "start_time": "2022-04-20T01:04:40.076971Z"
    }
   },
   "outputs": [],
   "source": [
    "def executar_validador(X, y):\n",
    "    validador = StratifiedShuffleSplit(n_splits = 1,\n",
    "                                    test_size = 0.1,\n",
    "                                    random_state = 0)\n",
    "    \n",
    "    for treino_id, test_id in validador.split(X, y):\n",
    "        X_train, X_test = X[treino_id], X[test_id]\n",
    "        y_train, y_test = y[treino_id], y[test_id]\n",
    "    \n",
    "    return X_train, X_test, y_train, y_test\n"
   ]
  },
  {
   "cell_type": "code",
   "execution_count": 33,
   "id": "6434ebd0",
   "metadata": {
    "ExecuteTime": {
     "end_time": "2022-04-20T01:04:34.285077Z",
     "start_time": "2022-04-20T01:04:34.280801Z"
    }
   },
   "outputs": [],
   "source": [
    "def executar_classificador(classificador, X_train,X_test, y_train):\n",
    "    arvore = classificador_arvore_decisao.fit(X_train, y_train)\n",
    "    y_pred = arvore.predict(X_test)\n",
    "    return y_pred"
   ]
  },
  {
   "cell_type": "code",
   "execution_count": 40,
   "id": "0a41ac31",
   "metadata": {
    "ExecuteTime": {
     "end_time": "2022-04-20T01:07:43.780872Z",
     "start_time": "2022-04-20T01:07:43.775344Z"
    }
   },
   "outputs": [],
   "source": [
    "def salvar_arvore(classificador, nome):\n",
    "    plt.figure(figsize = (200, 100))\n",
    "    tree.plot_tree(classificador, filled = True, fontsize = 14)\n",
    "    plt.savefig(nome)\n",
    "    plt.close()"
   ]
  },
  {
   "cell_type": "code",
   "execution_count": 37,
   "id": "9ecf8f68",
   "metadata": {
    "ExecuteTime": {
     "end_time": "2022-04-20T01:06:47.065257Z",
     "start_time": "2022-04-20T01:05:47.195093Z"
    }
   },
   "outputs": [],
   "source": [
    "#execucao do validador\n",
    "X = df.drop('Class', axis = 1).values\n",
    "y = df['Class'].values\n",
    "\n",
    "X_train, X_test, y_train, y_test = executar_validador(X, y)\n",
    "\n",
    "#execucao do classificador DecisionTreeClassifier\n",
    "classificador_arvore_decisao = tree.DecisionTreeClassifier()\n",
    "\n",
    "executar_classificador(classificador_arvore_decisao, X_train, X_test, y_train)\n",
    "y_pred_arvore_decisao = executar_classificador(classificador_arvore_decisao, X_train, X_test, y_train)"
   ]
  },
  {
   "cell_type": "code",
   "execution_count": 41,
   "id": "3f0f220b",
   "metadata": {
    "ExecuteTime": {
     "end_time": "2022-04-20T01:09:14.583864Z",
     "start_time": "2022-04-20T01:08:40.770013Z"
    }
   },
   "outputs": [],
   "source": [
    "salvar_arvore(classificador_arvore_decisao, 'arvore_decisao.png')"
   ]
  },
  {
   "cell_type": "code",
   "execution_count": null,
   "id": "65ade5d7",
   "metadata": {},
   "outputs": [],
   "source": []
  }
 ],
 "metadata": {
  "kernelspec": {
   "display_name": "ds-projects",
   "language": "python",
   "name": "ds-projects"
  },
  "language_info": {
   "codemirror_mode": {
    "name": "ipython",
    "version": 3
   },
   "file_extension": ".py",
   "mimetype": "text/x-python",
   "name": "python",
   "nbconvert_exporter": "python",
   "pygments_lexer": "ipython3",
   "version": "3.9.7"
  },
  "toc": {
   "base_numbering": 1,
   "nav_menu": {},
   "number_sections": true,
   "sideBar": true,
   "skip_h1_title": false,
   "title_cell": "Table of Contents",
   "title_sidebar": "Contents",
   "toc_cell": false,
   "toc_position": {},
   "toc_section_display": true,
   "toc_window_display": false
  }
 },
 "nbformat": 4,
 "nbformat_minor": 5
}
