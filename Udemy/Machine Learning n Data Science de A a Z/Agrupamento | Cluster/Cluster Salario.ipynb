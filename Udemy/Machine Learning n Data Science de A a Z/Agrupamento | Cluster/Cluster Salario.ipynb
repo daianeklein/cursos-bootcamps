{
 "cells": [
  {
   "cell_type": "markdown",
   "metadata": {},
   "source": [
    "## <font color=RoyalBlue size=5>Curso Machine Learning n Data Science de A à Z</font>\n",
    "\n",
    "***"
   ]
  },
  {
   "cell_type": "markdown",
   "metadata": {},
   "source": [
    "#### <font color=CornflowerBlue size=4>Seçao 20 - Agrupamento KMeans</font>\n",
    "\n",
    "***"
   ]
  },
  {
   "cell_type": "code",
   "execution_count": 21,
   "metadata": {},
   "outputs": [],
   "source": [
    "## Importação das bibliotecas\n",
    "import numpy as np\n",
    "import matplotlib.pyplot as plt\n",
    "from sklearn.cluster import KMeans\n",
    "from sklearn.preprocessing import StandardScaler\n"
   ]
  },
  {
   "cell_type": "markdown",
   "metadata": {},
   "source": [
    "#### <font color=CornflowerBlue size=4>Exemplo 1 - Agrupamento de 15 registros</font>\n",
    "\n",
    "***"
   ]
  },
  {
   "cell_type": "code",
   "execution_count": 22,
   "metadata": {},
   "outputs": [
    {
     "data": {
      "text/plain": [
       "<matplotlib.collections.PathCollection at 0x1a172ecd10>"
      ]
     },
     "execution_count": 22,
     "metadata": {},
     "output_type": "execute_result"
    },
    {
     "data": {
      "image/png": "[encoded data removed]",
      "text/plain": [
       "<Figure size 432x288 with 1 Axes>"
      ]
     },
     "metadata": {
      "needs_background": "light"
     },
     "output_type": "display_data"
    }
   ],
   "source": [
    "x=[20,  27,  21,  37,  46, 53, 55,  47,  52,  32,  39,  41,  39,  48,  48]  \n",
    "y=[1000,1200,2900,1850,900,950,2000,2100,3000,5900,4100,5100,7000,5000,6500]  \n",
    "plt.scatter(x,y) ## Plotagem dos pontos no plano cartesiano\n"
   ]
  },
  {
   "cell_type": "code",
   "execution_count": 23,
   "metadata": {},
   "outputs": [],
   "source": [
    "## Array ---- \"juncao\" dos pontos X e Y\n",
    "\n",
    "base = np.array([[20,1000],[27,1200],[21,2900],[37,1850],[46,900],\n",
    "                 [53,950],[55,2000],[47,2100],[52,3000],[32,5900],\n",
    "                 [39,4100],[41,5100],[39,7000],[48,5000],[48,6500]])"
   ]
  },
  {
   "cell_type": "code",
   "execution_count": 24,
   "metadata": {},
   "outputs": [],
   "source": [
    "## Normalizando os dados, uma vez que salário e idade possuem pesos diferentes\n",
    "\n",
    "scaler = StandardScaler()\n",
    "base = scaler.fit_transform(base)"
   ]
  },
  {
   "cell_type": "code",
   "execution_count": 25,
   "metadata": {},
   "outputs": [
    {
     "data": {
      "text/plain": [
       "array([[-1.87963884, -1.11413572],\n",
       "       [-1.23255006, -1.01725435],\n",
       "       [-1.78719758, -0.19376273],\n",
       "       [-0.30813751, -0.70238991],\n",
       "       [ 0.52383377, -1.1625764 ],\n",
       "       [ 1.17092255, -1.13835606],\n",
       "       [ 1.35580506, -0.62972888],\n",
       "       [ 0.61627503, -0.5812882 ],\n",
       "       [ 1.0784813 , -0.14532205],\n",
       "       [-0.77034379,  1.25945777],\n",
       "       [-0.12325501,  0.38752547],\n",
       "       [ 0.0616275 ,  0.8719323 ],\n",
       "       [-0.12325501,  1.79230528],\n",
       "       [ 0.70871628,  0.82349162],\n",
       "       [ 0.70871628,  1.55010187]])"
      ]
     },
     "execution_count": 25,
     "metadata": {},
     "output_type": "execute_result"
    }
   ],
   "source": [
    "## Apenas como observação --- Mostrando o array com salarios x idade normalizados\n",
    "base"
   ]
  },
  {
   "cell_type": "code",
   "execution_count": 26,
   "metadata": {},
   "outputs": [
    {
     "data": {
      "text/plain": [
       "KMeans(algorithm='auto', copy_x=True, init='k-means++', max_iter=300,\n",
       "       n_clusters=3, n_init=10, n_jobs=None, precompute_distances='auto',\n",
       "       random_state=None, tol=0.0001, verbose=0)"
      ]
     },
     "execution_count": 26,
     "metadata": {},
     "output_type": "execute_result"
    }
   ],
   "source": [
    "## Definindo a quantidade de clusters\n",
    "kmeans = KMeans(n_clusters = 3) \n",
    "\n",
    "## Treinando o modelo com base no array \n",
    "kmeans.fit(base)"
   ]
  },
  {
   "cell_type": "code",
   "execution_count": 27,
   "metadata": {},
   "outputs": [
    {
     "data": {
      "text/plain": [
       "array([[ 0.73953003, -0.72661025],\n",
       "       [ 0.07703438,  1.11413572],\n",
       "       [-1.63312883, -0.77505093]])"
      ]
     },
     "execution_count": 27,
     "metadata": {},
     "output_type": "execute_result"
    }
   ],
   "source": [
    "## Atraves da variavel 'centroides', mostrando a posicao dos centroides\n",
    "\n",
    "centroides = kmeans.cluster_centers_\n",
    "centroides"
   ]
  },
  {
   "cell_type": "code",
   "execution_count": 28,
   "metadata": {},
   "outputs": [
    {
     "data": {
      "text/plain": [
       "array([2, 2, 2, 0, 0, 0, 0, 0, 0, 1, 1, 1, 1, 1, 1], dtype=int32)"
      ]
     },
     "execution_count": 28,
     "metadata": {},
     "output_type": "execute_result"
    }
   ],
   "source": [
    "## Atraves da variavel 'rotulos', mostrando quais são os grupos definidos\n",
    "\n",
    "rotulos = kmeans.labels_\n",
    "rotulos"
   ]
  },
  {
   "cell_type": "code",
   "execution_count": 29,
   "metadata": {},
   "outputs": [
    {
     "data": {
      "text/plain": [
       "<matplotlib.collections.PathCollection at 0x1a1727eb10>"
      ]
     },
     "execution_count": 29,
     "metadata": {},
     "output_type": "execute_result"
    },
    {
     "data": {
      "image/png": "[encoded data removed]",
      "text/plain": [
       "<Figure size 432x288 with 1 Axes>"
      ]
     },
     "metadata": {
      "needs_background": "light"
     },
     "output_type": "display_data"
    }
   ],
   "source": [
    "\n",
    "## Definindo atraves da variavel 'cores', a cor dos clusters\n",
    "cores = ['g', 'r.', 'b.']\n",
    "\n",
    "## Plotando os clusters e os centroides\n",
    "for i in range(len(x)):\n",
    "    plt.plot(base[i][0], base[i][1], cores[rotulos[i]], markersize = 15)\n",
    "plt.scatter(centroides[:,0], centroides[:,1], marker = \"x\")"
   ]
  },
  {
   "cell_type": "code",
   "execution_count": null,
   "metadata": {},
   "outputs": [],
   "source": []
  },
  {
   "cell_type": "code",
   "execution_count": null,
   "metadata": {},
   "outputs": [],
   "source": []
  }
 ],
 "metadata": {
  "kernelspec": {
   "display_name": "Python 3",
   "language": "python",
   "name": "python3"
  },
  "language_info": {
   "codemirror_mode": {
    "name": "ipython",
    "version": 3
   },
   "file_extension": ".py",
   "mimetype": "text/x-python",
   "name": "python",
   "nbconvert_exporter": "python",
   "pygments_lexer": "ipython3",
   "version": "3.7.6"
  }
 },
 "nbformat": 4,
 "nbformat_minor": 4
}
