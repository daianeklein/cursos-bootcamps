{
 "cells": [
  {
   "cell_type": "code",
   "execution_count": null,
   "metadata": {},
   "outputs": [],
   "source": []
  },
  {
   "cell_type": "code",
   "execution_count": null,
   "metadata": {},
   "outputs": [],
   "source": []
  },
  {
   "cell_type": "markdown",
   "metadata": {},
   "source": [
    "# BIBLIOTECAS"
   ]
  },
  {
   "cell_type": "code",
   "execution_count": 1,
   "metadata": {},
   "outputs": [],
   "source": [
    "import pandas as pd \n",
    "import numpy as np\n",
    "\n",
    "from sklearn.ensemble import ExtraTreesClassifier, RandomForestClassifier, GradientBoostingClassifier\n",
    "import matplotlib.pyplot as plt\n",
    "\n",
    "from sklearn.metrics import roc_auc_score\n",
    "from sklearn.model_selection import train_test_split\n",
    "from sklearn.model_selection import cross_val_score\n",
    "from sklearn.model_selection import GridSearchCV"
   ]
  },
  {
   "cell_type": "markdown",
   "metadata": {},
   "source": [
    "# DATASETS"
   ]
  },
  {
   "cell_type": "code",
   "execution_count": 2,
   "metadata": {},
   "outputs": [
    {
     "data": {
      "text/html": [
       "<div>\n",
       "<style scoped>\n",
       "    .dataframe tbody tr th:only-of-type {\n",
       "        vertical-align: middle;\n",
       "    }\n",
       "\n",
       "    .dataframe tbody tr th {\n",
       "        vertical-align: top;\n",
       "    }\n",
       "\n",
       "    .dataframe thead th {\n",
       "        text-align: right;\n",
       "    }\n",
       "</style>\n",
       "<table border=\"1\" class=\"dataframe\">\n",
       "  <thead>\n",
       "    <tr style=\"text-align: right;\">\n",
       "      <th></th>\n",
       "      <th>Var1</th>\n",
       "      <th>Var2</th>\n",
       "      <th>Var3</th>\n",
       "      <th>Var4</th>\n",
       "      <th>Var5</th>\n",
       "      <th>Var6</th>\n",
       "      <th>Var7</th>\n",
       "      <th>Var8</th>\n",
       "      <th>Var9</th>\n",
       "      <th>Var10</th>\n",
       "      <th>...</th>\n",
       "      <th>Var221</th>\n",
       "      <th>Var222</th>\n",
       "      <th>Var223</th>\n",
       "      <th>Var224</th>\n",
       "      <th>Var225</th>\n",
       "      <th>Var226</th>\n",
       "      <th>Var227</th>\n",
       "      <th>Var228</th>\n",
       "      <th>Var229</th>\n",
       "      <th>Var230</th>\n",
       "    </tr>\n",
       "  </thead>\n",
       "  <tbody>\n",
       "    <tr>\n",
       "      <th>0</th>\n",
       "      <td></td>\n",
       "      <td></td>\n",
       "      <td></td>\n",
       "      <td></td>\n",
       "      <td></td>\n",
       "      <td>1526</td>\n",
       "      <td>7</td>\n",
       "      <td></td>\n",
       "      <td></td>\n",
       "      <td></td>\n",
       "      <td>...</td>\n",
       "      <td>oslk</td>\n",
       "      <td>fXVEsaq</td>\n",
       "      <td>jySVZNlOJy</td>\n",
       "      <td></td>\n",
       "      <td></td>\n",
       "      <td>xb3V</td>\n",
       "      <td>RAYp</td>\n",
       "      <td>F2FyR07IdsN7I</td>\n",
       "      <td></td>\n",
       "      <td></td>\n",
       "    </tr>\n",
       "    <tr>\n",
       "      <th>1</th>\n",
       "      <td></td>\n",
       "      <td></td>\n",
       "      <td></td>\n",
       "      <td></td>\n",
       "      <td></td>\n",
       "      <td>525</td>\n",
       "      <td>0</td>\n",
       "      <td></td>\n",
       "      <td></td>\n",
       "      <td></td>\n",
       "      <td>...</td>\n",
       "      <td>oslk</td>\n",
       "      <td>2Kb5FSF</td>\n",
       "      <td>LM8l689qOp</td>\n",
       "      <td></td>\n",
       "      <td></td>\n",
       "      <td>fKCe</td>\n",
       "      <td>RAYp</td>\n",
       "      <td>F2FyR07IdsN7I</td>\n",
       "      <td></td>\n",
       "      <td></td>\n",
       "    </tr>\n",
       "    <tr>\n",
       "      <th>2</th>\n",
       "      <td></td>\n",
       "      <td></td>\n",
       "      <td></td>\n",
       "      <td></td>\n",
       "      <td></td>\n",
       "      <td>5236</td>\n",
       "      <td>7</td>\n",
       "      <td></td>\n",
       "      <td></td>\n",
       "      <td></td>\n",
       "      <td>...</td>\n",
       "      <td>Al6ZaUT</td>\n",
       "      <td>NKv4yOc</td>\n",
       "      <td>jySVZNlOJy</td>\n",
       "      <td></td>\n",
       "      <td>kG3k</td>\n",
       "      <td>Qu4f</td>\n",
       "      <td>02N6s8f</td>\n",
       "      <td>ib5G6X1eUxUn6</td>\n",
       "      <td>am7c</td>\n",
       "      <td></td>\n",
       "    </tr>\n",
       "  </tbody>\n",
       "</table>\n",
       "<p>3 rows × 230 columns</p>\n",
       "</div>"
      ],
      "text/plain": [
       "  Var1 Var2 Var3 Var4 Var5  Var6 Var7 Var8 Var9 Var10  ...   Var221   Var222  \\\n",
       "0                           1526    7                  ...     oslk  fXVEsaq   \n",
       "1                            525    0                  ...     oslk  2Kb5FSF   \n",
       "2                           5236    7                  ...  Al6ZaUT  NKv4yOc   \n",
       "\n",
       "       Var223 Var224 Var225 Var226   Var227         Var228 Var229 Var230  \n",
       "0  jySVZNlOJy                 xb3V     RAYp  F2FyR07IdsN7I                \n",
       "1  LM8l689qOp                 fKCe     RAYp  F2FyR07IdsN7I                \n",
       "2  jySVZNlOJy          kG3k   Qu4f  02N6s8f  ib5G6X1eUxUn6   am7c         \n",
       "\n",
       "[3 rows x 230 columns]"
      ]
     },
     "execution_count": 2,
     "metadata": {},
     "output_type": "execute_result"
    }
   ],
   "source": [
    "features = pd.read_csv(r'/Users/daianeklein/Documents/Cursos/cursos-bootcamps/Udemy/Churn-Clientes/kdd/orange_small_train.data', \n",
    "                       na_filter=False, engine='python', sep='\\t')\n",
    "\n",
    "features.head(3)       "
   ]
  },
  {
   "cell_type": "code",
   "execution_count": 3,
   "metadata": {},
   "outputs": [
    {
     "data": {
      "text/html": [
       "<div>\n",
       "<style scoped>\n",
       "    .dataframe tbody tr th:only-of-type {\n",
       "        vertical-align: middle;\n",
       "    }\n",
       "\n",
       "    .dataframe tbody tr th {\n",
       "        vertical-align: top;\n",
       "    }\n",
       "\n",
       "    .dataframe thead th {\n",
       "        text-align: right;\n",
       "    }\n",
       "</style>\n",
       "<table border=\"1\" class=\"dataframe\">\n",
       "  <thead>\n",
       "    <tr style=\"text-align: right;\">\n",
       "      <th></th>\n",
       "      <th>0</th>\n",
       "    </tr>\n",
       "  </thead>\n",
       "  <tbody>\n",
       "    <tr>\n",
       "      <th>0</th>\n",
       "      <td>-1</td>\n",
       "    </tr>\n",
       "    <tr>\n",
       "      <th>1</th>\n",
       "      <td>1</td>\n",
       "    </tr>\n",
       "    <tr>\n",
       "      <th>2</th>\n",
       "      <td>-1</td>\n",
       "    </tr>\n",
       "  </tbody>\n",
       "</table>\n",
       "</div>"
      ],
      "text/plain": [
       "   0\n",
       "0 -1\n",
       "1  1\n",
       "2 -1"
      ]
     },
     "execution_count": 3,
     "metadata": {},
     "output_type": "execute_result"
    }
   ],
   "source": [
    "outcome = pd.read_csv(r'/Users/daianeklein/Documents/Cursos/cursos-bootcamps/Udemy/Churn-Clientes/kdd/orange_small_train_churn.labels',\n",
    "                     header=None)\n",
    "\n",
    "outcome.head(3)"
   ]
  },
  {
   "cell_type": "markdown",
   "metadata": {},
   "source": [
    "## IDENTIFICANDO VARIAVEIS NUMERICAS E CATEGORICAS"
   ]
  },
  {
   "cell_type": "code",
   "execution_count": 4,
   "metadata": {},
   "outputs": [],
   "source": [
    "#todas as variaveis\n",
    "all_vars = np.array(features.columns)\n",
    "\n",
    "#Variaveis numericas\n",
    "num_vars = np.array(all_vars[:190])\n",
    "\n",
    "#Variaveis categoricas\n",
    "cat_vars = np.array(all_vars[190:])"
   ]
  },
  {
   "cell_type": "markdown",
   "metadata": {},
   "source": [
    "## TIPO DE DADOS"
   ]
  },
  {
   "cell_type": "code",
   "execution_count": 5,
   "metadata": {},
   "outputs": [
    {
     "data": {
      "text/plain": [
       "Var1      object\n",
       "Var2      object\n",
       "Var3      object\n",
       "Var4      object\n",
       "Var5      object\n",
       "           ...  \n",
       "Var226    object\n",
       "Var227    object\n",
       "Var228    object\n",
       "Var229    object\n",
       "Var230    object\n",
       "Length: 230, dtype: object"
      ]
     },
     "execution_count": 5,
     "metadata": {},
     "output_type": "execute_result"
    }
   ],
   "source": [
    "#Tipo de dados\n",
    "features.dtypes"
   ]
  },
  {
   "cell_type": "code",
   "execution_count": 6,
   "metadata": {},
   "outputs": [
    {
     "data": {
      "text/plain": [
       "Var1\n",
       "       49298\n",
       "0        380\n",
       "120        1\n",
       "128        2\n",
       "152        1\n",
       "16        81\n",
       "24        46\n",
       "32        23\n",
       "360        1\n",
       "392        1\n",
       "40        10\n",
       "48         6\n",
       "536        1\n",
       "56         5\n",
       "64         1\n",
       "680        1\n",
       "72         3\n",
       "8        138\n",
       "80         1\n",
       "dtype: int64"
      ]
     },
     "execution_count": 6,
     "metadata": {},
     "output_type": "execute_result"
    }
   ],
   "source": [
    "# Verificando a quantidade de \n",
    "var = features.groupby('Var1').size()\n",
    "var "
   ]
  },
  {
   "cell_type": "code",
   "execution_count": 7,
   "metadata": {},
   "outputs": [],
   "source": [
    "# Agrupando as variaveis numericas \n",
    "counts_per_column = pd.DataFrame()\n",
    "\n",
    "for col in num_vars:\n",
    "    col_count = features.groupby(col).size()\n",
    "    counts_per_column = counts_per_column.append(col_count, ignore_index=True)"
   ]
  },
  {
   "cell_type": "code",
   "execution_count": 8,
   "metadata": {},
   "outputs": [
    {
     "data": {
      "text/html": [
       "<div>\n",
       "<style scoped>\n",
       "    .dataframe tbody tr th:only-of-type {\n",
       "        vertical-align: middle;\n",
       "    }\n",
       "\n",
       "    .dataframe tbody tr th {\n",
       "        vertical-align: top;\n",
       "    }\n",
       "\n",
       "    .dataframe thead th {\n",
       "        text-align: right;\n",
       "    }\n",
       "</style>\n",
       "<table border=\"1\" class=\"dataframe\">\n",
       "  <thead>\n",
       "    <tr style=\"text-align: right;\">\n",
       "      <th></th>\n",
       "      <th>0</th>\n",
       "      <th>1</th>\n",
       "      <th>2</th>\n",
       "      <th>3</th>\n",
       "      <th>4</th>\n",
       "      <th>5</th>\n",
       "      <th>6</th>\n",
       "      <th>7</th>\n",
       "      <th>8</th>\n",
       "      <th>9</th>\n",
       "      <th>...</th>\n",
       "      <th>180</th>\n",
       "      <th>181</th>\n",
       "      <th>182</th>\n",
       "      <th>183</th>\n",
       "      <th>184</th>\n",
       "      <th>185</th>\n",
       "      <th>186</th>\n",
       "      <th>187</th>\n",
       "      <th>188</th>\n",
       "      <th>189</th>\n",
       "    </tr>\n",
       "  </thead>\n",
       "  <tbody>\n",
       "    <tr>\n",
       "      <th></th>\n",
       "      <td>49298.0</td>\n",
       "      <td>48759.0</td>\n",
       "      <td>48760.0</td>\n",
       "      <td>48421.0</td>\n",
       "      <td>48513.0</td>\n",
       "      <td>5529.0</td>\n",
       "      <td>5539.0</td>\n",
       "      <td>50000.0</td>\n",
       "      <td>49298.0</td>\n",
       "      <td>48513.0</td>\n",
       "      <td>...</td>\n",
       "      <td>5009.0</td>\n",
       "      <td>48421.0</td>\n",
       "      <td>48759.0</td>\n",
       "      <td>48759.0</td>\n",
       "      <td>50000.0</td>\n",
       "      <td>49298.0</td>\n",
       "      <td>49298.0</td>\n",
       "      <td>48759.0</td>\n",
       "      <td>28978.0</td>\n",
       "      <td>49667.0</td>\n",
       "    </tr>\n",
       "    <tr>\n",
       "      <th>0</th>\n",
       "      <td>380.0</td>\n",
       "      <td>1240.0</td>\n",
       "      <td>996.0</td>\n",
       "      <td>1561.0</td>\n",
       "      <td>898.0</td>\n",
       "      <td>976.0</td>\n",
       "      <td>13090.0</td>\n",
       "      <td>NaN</td>\n",
       "      <td>144.0</td>\n",
       "      <td>902.0</td>\n",
       "      <td>...</td>\n",
       "      <td>41990.0</td>\n",
       "      <td>706.0</td>\n",
       "      <td>830.0</td>\n",
       "      <td>771.0</td>\n",
       "      <td>NaN</td>\n",
       "      <td>525.0</td>\n",
       "      <td>240.0</td>\n",
       "      <td>44.0</td>\n",
       "      <td>NaN</td>\n",
       "      <td>4.0</td>\n",
       "    </tr>\n",
       "    <tr>\n",
       "      <th>120</th>\n",
       "      <td>1.0</td>\n",
       "      <td>NaN</td>\n",
       "      <td>3.0</td>\n",
       "      <td>NaN</td>\n",
       "      <td>NaN</td>\n",
       "      <td>NaN</td>\n",
       "      <td>NaN</td>\n",
       "      <td>NaN</td>\n",
       "      <td>2.0</td>\n",
       "      <td>NaN</td>\n",
       "      <td>...</td>\n",
       "      <td>NaN</td>\n",
       "      <td>NaN</td>\n",
       "      <td>NaN</td>\n",
       "      <td>NaN</td>\n",
       "      <td>NaN</td>\n",
       "      <td>NaN</td>\n",
       "      <td>NaN</td>\n",
       "      <td>NaN</td>\n",
       "      <td>95.0</td>\n",
       "      <td>NaN</td>\n",
       "    </tr>\n",
       "    <tr>\n",
       "      <th>128</th>\n",
       "      <td>2.0</td>\n",
       "      <td>NaN</td>\n",
       "      <td>NaN</td>\n",
       "      <td>NaN</td>\n",
       "      <td>NaN</td>\n",
       "      <td>NaN</td>\n",
       "      <td>NaN</td>\n",
       "      <td>NaN</td>\n",
       "      <td>1.0</td>\n",
       "      <td>NaN</td>\n",
       "      <td>...</td>\n",
       "      <td>NaN</td>\n",
       "      <td>NaN</td>\n",
       "      <td>NaN</td>\n",
       "      <td>NaN</td>\n",
       "      <td>NaN</td>\n",
       "      <td>NaN</td>\n",
       "      <td>NaN</td>\n",
       "      <td>NaN</td>\n",
       "      <td>NaN</td>\n",
       "      <td>NaN</td>\n",
       "    </tr>\n",
       "    <tr>\n",
       "      <th>152</th>\n",
       "      <td>1.0</td>\n",
       "      <td>NaN</td>\n",
       "      <td>NaN</td>\n",
       "      <td>NaN</td>\n",
       "      <td>NaN</td>\n",
       "      <td>NaN</td>\n",
       "      <td>NaN</td>\n",
       "      <td>NaN</td>\n",
       "      <td>1.0</td>\n",
       "      <td>NaN</td>\n",
       "      <td>...</td>\n",
       "      <td>NaN</td>\n",
       "      <td>NaN</td>\n",
       "      <td>NaN</td>\n",
       "      <td>NaN</td>\n",
       "      <td>NaN</td>\n",
       "      <td>NaN</td>\n",
       "      <td>NaN</td>\n",
       "      <td>NaN</td>\n",
       "      <td>NaN</td>\n",
       "      <td>NaN</td>\n",
       "    </tr>\n",
       "  </tbody>\n",
       "</table>\n",
       "<p>5 rows × 190 columns</p>\n",
       "</div>"
      ],
      "text/plain": [
       "         0        1        2        3        4       5        6        7    \\\n",
       "     49298.0  48759.0  48760.0  48421.0  48513.0  5529.0   5539.0  50000.0   \n",
       "0      380.0   1240.0    996.0   1561.0    898.0   976.0  13090.0      NaN   \n",
       "120      1.0      NaN      3.0      NaN      NaN     NaN      NaN      NaN   \n",
       "128      2.0      NaN      NaN      NaN      NaN     NaN      NaN      NaN   \n",
       "152      1.0      NaN      NaN      NaN      NaN     NaN      NaN      NaN   \n",
       "\n",
       "         8        9    ...      180      181      182      183      184  \\\n",
       "     49298.0  48513.0  ...   5009.0  48421.0  48759.0  48759.0  50000.0   \n",
       "0      144.0    902.0  ...  41990.0    706.0    830.0    771.0      NaN   \n",
       "120      2.0      NaN  ...      NaN      NaN      NaN      NaN      NaN   \n",
       "128      1.0      NaN  ...      NaN      NaN      NaN      NaN      NaN   \n",
       "152      1.0      NaN  ...      NaN      NaN      NaN      NaN      NaN   \n",
       "\n",
       "         185      186      187      188      189  \n",
       "     49298.0  49298.0  48759.0  28978.0  49667.0  \n",
       "0      525.0    240.0     44.0      NaN      4.0  \n",
       "120      NaN      NaN      NaN     95.0      NaN  \n",
       "128      NaN      NaN      NaN      NaN      NaN  \n",
       "152      NaN      NaN      NaN      NaN      NaN  \n",
       "\n",
       "[5 rows x 190 columns]"
      ]
     },
     "execution_count": 8,
     "metadata": {},
     "output_type": "execute_result"
    }
   ],
   "source": [
    "# Visualizando\n",
    "counts_per_column.T.head()"
   ]
  },
  {
   "cell_type": "code",
   "execution_count": 9,
   "metadata": {},
   "outputs": [
    {
     "name": "stdout",
     "output_type": "stream",
     "text": [
      "Primeiras dez categorias Index(['', '-10', '-1000060.0', '-10002.16', '-100034.8', '-1000420.0',\n",
      "       '-1000468.0', '-1000496.0', '-1000516.0', '-1000548.0'],\n",
      "      dtype='object')\n",
      "Ultimas dez categorias Index(['9999040', '999920', '9999240', '99993', '9999400', '9999440',\n",
      "       '9999480', '99995', '99996', '999971'],\n",
      "      dtype='object')\n"
     ]
    }
   ],
   "source": [
    "# Verificando se as variaveis numericas estao corretas (se são somente numericas mesmo)\n",
    "counts_per_column = counts_per_column.T\n",
    "counts_per_column.index = counts_per_column.index.astype('str')\n",
    "counts_per_column.sort_index(inplace = True)\n",
    "\n",
    "print('Primeiras dez categorias', counts_per_column.index[:10])\n",
    "print('Ultimas dez categorias', counts_per_column.index[(len(counts_per_column.index)-10):])"
   ]
  },
  {
   "cell_type": "code",
   "execution_count": 10,
   "metadata": {},
   "outputs": [
    {
     "name": "stdout",
     "output_type": "stream",
     "text": [
      "Primeiras dez categorias Index(['', '000J', '0062', '00AD', '00ARusu', '00AYONy', '00AhP4J', '00J8E9a',\n",
      "       '00JHTSP', '00L3'],\n",
      "      dtype='object')\n",
      "Ultimas dez categorias Index(['zzQ9udm', 'zzQV', 'zzbGOGx', 'zzbGa54', 'zzcv6yg4s3UGv', 'zzfHvGh',\n",
      "       'zzfLM_S', 'zzfUfAI', 'zzfo6HG', 'zzpZ'],\n",
      "      dtype='object')\n"
     ]
    }
   ],
   "source": [
    "# Verificando as variaveis categoricas\n",
    "\n",
    "# Agrupando\n",
    "counts_per_column = pd.DataFrame()\n",
    "\n",
    "for col in cat_vars:\n",
    "    col_count = features.groupby(col).size()\n",
    "    counts_per_column = counts_per_column.append(col_count, ignore_index=True)\n",
    "    \n",
    "# Verificando se as variaveis numericas estao corretas (se são somente numericas mesmo)\n",
    "counts_per_column = counts_per_column.T\n",
    "counts_per_column.index = counts_per_column.index.astype('str')\n",
    "counts_per_column.sort_index(inplace = True)\n",
    "\n",
    "print('Primeiras dez categorias', counts_per_column.index[:10])\n",
    "print('Ultimas dez categorias', counts_per_column.index[(len(counts_per_column.index)-10):])"
   ]
  },
  {
   "cell_type": "code",
   "execution_count": 11,
   "metadata": {},
   "outputs": [
    {
     "data": {
      "text/html": [
       "<div>\n",
       "<style scoped>\n",
       "    .dataframe tbody tr th:only-of-type {\n",
       "        vertical-align: middle;\n",
       "    }\n",
       "\n",
       "    .dataframe tbody tr th {\n",
       "        vertical-align: top;\n",
       "    }\n",
       "\n",
       "    .dataframe thead th {\n",
       "        text-align: right;\n",
       "    }\n",
       "</style>\n",
       "<table border=\"1\" class=\"dataframe\">\n",
       "  <thead>\n",
       "    <tr style=\"text-align: right;\">\n",
       "      <th></th>\n",
       "      <th>Var1</th>\n",
       "      <th>Var2</th>\n",
       "      <th>Var3</th>\n",
       "      <th>Var4</th>\n",
       "      <th>Var5</th>\n",
       "      <th>Var6</th>\n",
       "      <th>Var7</th>\n",
       "      <th>Var8</th>\n",
       "      <th>Var9</th>\n",
       "      <th>Var10</th>\n",
       "      <th>...</th>\n",
       "      <th>Var221</th>\n",
       "      <th>Var222</th>\n",
       "      <th>Var223</th>\n",
       "      <th>Var224</th>\n",
       "      <th>Var225</th>\n",
       "      <th>Var226</th>\n",
       "      <th>Var227</th>\n",
       "      <th>Var228</th>\n",
       "      <th>Var229</th>\n",
       "      <th>Var230</th>\n",
       "    </tr>\n",
       "  </thead>\n",
       "  <tbody>\n",
       "    <tr>\n",
       "      <th>0</th>\n",
       "      <td>NaN</td>\n",
       "      <td>NaN</td>\n",
       "      <td>NaN</td>\n",
       "      <td>NaN</td>\n",
       "      <td>NaN</td>\n",
       "      <td>1526</td>\n",
       "      <td>7</td>\n",
       "      <td>NaN</td>\n",
       "      <td>NaN</td>\n",
       "      <td>NaN</td>\n",
       "      <td>...</td>\n",
       "      <td>oslk</td>\n",
       "      <td>fXVEsaq</td>\n",
       "      <td>jySVZNlOJy</td>\n",
       "      <td>NaN</td>\n",
       "      <td>NaN</td>\n",
       "      <td>xb3V</td>\n",
       "      <td>RAYp</td>\n",
       "      <td>F2FyR07IdsN7I</td>\n",
       "      <td>NaN</td>\n",
       "      <td>NaN</td>\n",
       "    </tr>\n",
       "    <tr>\n",
       "      <th>1</th>\n",
       "      <td>NaN</td>\n",
       "      <td>NaN</td>\n",
       "      <td>NaN</td>\n",
       "      <td>NaN</td>\n",
       "      <td>NaN</td>\n",
       "      <td>525</td>\n",
       "      <td>0</td>\n",
       "      <td>NaN</td>\n",
       "      <td>NaN</td>\n",
       "      <td>NaN</td>\n",
       "      <td>...</td>\n",
       "      <td>oslk</td>\n",
       "      <td>2Kb5FSF</td>\n",
       "      <td>LM8l689qOp</td>\n",
       "      <td>NaN</td>\n",
       "      <td>NaN</td>\n",
       "      <td>fKCe</td>\n",
       "      <td>RAYp</td>\n",
       "      <td>F2FyR07IdsN7I</td>\n",
       "      <td>NaN</td>\n",
       "      <td>NaN</td>\n",
       "    </tr>\n",
       "    <tr>\n",
       "      <th>2</th>\n",
       "      <td>NaN</td>\n",
       "      <td>NaN</td>\n",
       "      <td>NaN</td>\n",
       "      <td>NaN</td>\n",
       "      <td>NaN</td>\n",
       "      <td>5236</td>\n",
       "      <td>7</td>\n",
       "      <td>NaN</td>\n",
       "      <td>NaN</td>\n",
       "      <td>NaN</td>\n",
       "      <td>...</td>\n",
       "      <td>Al6ZaUT</td>\n",
       "      <td>NKv4yOc</td>\n",
       "      <td>jySVZNlOJy</td>\n",
       "      <td>NaN</td>\n",
       "      <td>kG3k</td>\n",
       "      <td>Qu4f</td>\n",
       "      <td>02N6s8f</td>\n",
       "      <td>ib5G6X1eUxUn6</td>\n",
       "      <td>am7c</td>\n",
       "      <td>NaN</td>\n",
       "    </tr>\n",
       "  </tbody>\n",
       "</table>\n",
       "<p>3 rows × 230 columns</p>\n",
       "</div>"
      ],
      "text/plain": [
       "  Var1 Var2 Var3 Var4 Var5  Var6 Var7  Var8 Var9 Var10  ...   Var221   Var222  \\\n",
       "0  NaN  NaN  NaN  NaN  NaN  1526    7   NaN  NaN   NaN  ...     oslk  fXVEsaq   \n",
       "1  NaN  NaN  NaN  NaN  NaN   525    0   NaN  NaN   NaN  ...     oslk  2Kb5FSF   \n",
       "2  NaN  NaN  NaN  NaN  NaN  5236    7   NaN  NaN   NaN  ...  Al6ZaUT  NKv4yOc   \n",
       "\n",
       "       Var223 Var224  Var225 Var226   Var227         Var228 Var229  Var230  \n",
       "0  jySVZNlOJy    NaN     NaN   xb3V     RAYp  F2FyR07IdsN7I    NaN     NaN  \n",
       "1  LM8l689qOp    NaN     NaN   fKCe     RAYp  F2FyR07IdsN7I    NaN     NaN  \n",
       "2  jySVZNlOJy    NaN    kG3k   Qu4f  02N6s8f  ib5G6X1eUxUn6   am7c     NaN  \n",
       "\n",
       "[3 rows x 230 columns]"
      ]
     },
     "execution_count": 11,
     "metadata": {},
     "output_type": "execute_result"
    }
   ],
   "source": [
    "# Substituindo os valores nulos por NaN\n",
    "features = features.replace('', np.nan)\n",
    "\n",
    "features.head(3)"
   ]
  },
  {
   "cell_type": "code",
   "execution_count": 12,
   "metadata": {},
   "outputs": [
    {
     "data": {
      "text/plain": [
       "Var1      float64\n",
       "Var2      float64\n",
       "Var3      float64\n",
       "Var4      float64\n",
       "Var5      float64\n",
       "           ...   \n",
       "Var226     object\n",
       "Var227     object\n",
       "Var228     object\n",
       "Var229     object\n",
       "Var230     object\n",
       "Length: 230, dtype: object"
      ]
     },
     "execution_count": 12,
     "metadata": {},
     "output_type": "execute_result"
    }
   ],
   "source": [
    "# Alterando o tipo de dados\n",
    "for col in num_vars:\n",
    "    features[col] = features[col].astype('float')\n",
    "\n",
    "for col in cat_vars:\n",
    "    features[col] = features[col].astype('object')\n",
    "    \n",
    "features.dtypes"
   ]
  },
  {
   "cell_type": "markdown",
   "metadata": {},
   "source": [
    "# SELEÇÃO DE VARIÁVEIS"
   ]
  },
  {
   "cell_type": "code",
   "execution_count": 13,
   "metadata": {},
   "outputs": [
    {
     "data": {
      "text/html": [
       "<div>\n",
       "<style scoped>\n",
       "    .dataframe tbody tr th:only-of-type {\n",
       "        vertical-align: middle;\n",
       "    }\n",
       "\n",
       "    .dataframe tbody tr th {\n",
       "        vertical-align: top;\n",
       "    }\n",
       "\n",
       "    .dataframe thead th {\n",
       "        text-align: right;\n",
       "    }\n",
       "</style>\n",
       "<table border=\"1\" class=\"dataframe\">\n",
       "  <thead>\n",
       "    <tr style=\"text-align: right;\">\n",
       "      <th></th>\n",
       "      <th>Var1</th>\n",
       "      <th>Var2</th>\n",
       "      <th>Var3</th>\n",
       "      <th>Var4</th>\n",
       "      <th>Var5</th>\n",
       "      <th>Var6</th>\n",
       "      <th>Var7</th>\n",
       "      <th>Var8</th>\n",
       "      <th>Var9</th>\n",
       "      <th>Var10</th>\n",
       "      <th>...</th>\n",
       "      <th>Var221</th>\n",
       "      <th>Var222</th>\n",
       "      <th>Var223</th>\n",
       "      <th>Var224</th>\n",
       "      <th>Var225</th>\n",
       "      <th>Var226</th>\n",
       "      <th>Var227</th>\n",
       "      <th>Var228</th>\n",
       "      <th>Var229</th>\n",
       "      <th>Var230</th>\n",
       "    </tr>\n",
       "  </thead>\n",
       "  <tbody>\n",
       "    <tr>\n",
       "      <th>0</th>\n",
       "      <td>True</td>\n",
       "      <td>True</td>\n",
       "      <td>True</td>\n",
       "      <td>True</td>\n",
       "      <td>True</td>\n",
       "      <td>False</td>\n",
       "      <td>False</td>\n",
       "      <td>True</td>\n",
       "      <td>True</td>\n",
       "      <td>True</td>\n",
       "      <td>...</td>\n",
       "      <td>False</td>\n",
       "      <td>False</td>\n",
       "      <td>False</td>\n",
       "      <td>True</td>\n",
       "      <td>True</td>\n",
       "      <td>False</td>\n",
       "      <td>False</td>\n",
       "      <td>False</td>\n",
       "      <td>True</td>\n",
       "      <td>True</td>\n",
       "    </tr>\n",
       "    <tr>\n",
       "      <th>1</th>\n",
       "      <td>True</td>\n",
       "      <td>True</td>\n",
       "      <td>True</td>\n",
       "      <td>True</td>\n",
       "      <td>True</td>\n",
       "      <td>False</td>\n",
       "      <td>False</td>\n",
       "      <td>True</td>\n",
       "      <td>True</td>\n",
       "      <td>True</td>\n",
       "      <td>...</td>\n",
       "      <td>False</td>\n",
       "      <td>False</td>\n",
       "      <td>False</td>\n",
       "      <td>True</td>\n",
       "      <td>True</td>\n",
       "      <td>False</td>\n",
       "      <td>False</td>\n",
       "      <td>False</td>\n",
       "      <td>True</td>\n",
       "      <td>True</td>\n",
       "    </tr>\n",
       "    <tr>\n",
       "      <th>2</th>\n",
       "      <td>True</td>\n",
       "      <td>True</td>\n",
       "      <td>True</td>\n",
       "      <td>True</td>\n",
       "      <td>True</td>\n",
       "      <td>False</td>\n",
       "      <td>False</td>\n",
       "      <td>True</td>\n",
       "      <td>True</td>\n",
       "      <td>True</td>\n",
       "      <td>...</td>\n",
       "      <td>False</td>\n",
       "      <td>False</td>\n",
       "      <td>False</td>\n",
       "      <td>True</td>\n",
       "      <td>False</td>\n",
       "      <td>False</td>\n",
       "      <td>False</td>\n",
       "      <td>False</td>\n",
       "      <td>False</td>\n",
       "      <td>True</td>\n",
       "    </tr>\n",
       "    <tr>\n",
       "      <th>3</th>\n",
       "      <td>True</td>\n",
       "      <td>True</td>\n",
       "      <td>True</td>\n",
       "      <td>True</td>\n",
       "      <td>True</td>\n",
       "      <td>True</td>\n",
       "      <td>False</td>\n",
       "      <td>True</td>\n",
       "      <td>True</td>\n",
       "      <td>True</td>\n",
       "      <td>...</td>\n",
       "      <td>False</td>\n",
       "      <td>False</td>\n",
       "      <td>False</td>\n",
       "      <td>True</td>\n",
       "      <td>True</td>\n",
       "      <td>False</td>\n",
       "      <td>False</td>\n",
       "      <td>False</td>\n",
       "      <td>True</td>\n",
       "      <td>True</td>\n",
       "    </tr>\n",
       "    <tr>\n",
       "      <th>4</th>\n",
       "      <td>True</td>\n",
       "      <td>True</td>\n",
       "      <td>True</td>\n",
       "      <td>True</td>\n",
       "      <td>True</td>\n",
       "      <td>False</td>\n",
       "      <td>False</td>\n",
       "      <td>True</td>\n",
       "      <td>True</td>\n",
       "      <td>True</td>\n",
       "      <td>...</td>\n",
       "      <td>False</td>\n",
       "      <td>False</td>\n",
       "      <td>False</td>\n",
       "      <td>True</td>\n",
       "      <td>False</td>\n",
       "      <td>False</td>\n",
       "      <td>False</td>\n",
       "      <td>False</td>\n",
       "      <td>False</td>\n",
       "      <td>True</td>\n",
       "    </tr>\n",
       "    <tr>\n",
       "      <th>...</th>\n",
       "      <td>...</td>\n",
       "      <td>...</td>\n",
       "      <td>...</td>\n",
       "      <td>...</td>\n",
       "      <td>...</td>\n",
       "      <td>...</td>\n",
       "      <td>...</td>\n",
       "      <td>...</td>\n",
       "      <td>...</td>\n",
       "      <td>...</td>\n",
       "      <td>...</td>\n",
       "      <td>...</td>\n",
       "      <td>...</td>\n",
       "      <td>...</td>\n",
       "      <td>...</td>\n",
       "      <td>...</td>\n",
       "      <td>...</td>\n",
       "      <td>...</td>\n",
       "      <td>...</td>\n",
       "      <td>...</td>\n",
       "      <td>...</td>\n",
       "    </tr>\n",
       "    <tr>\n",
       "      <th>49995</th>\n",
       "      <td>True</td>\n",
       "      <td>True</td>\n",
       "      <td>True</td>\n",
       "      <td>True</td>\n",
       "      <td>True</td>\n",
       "      <td>False</td>\n",
       "      <td>False</td>\n",
       "      <td>True</td>\n",
       "      <td>True</td>\n",
       "      <td>True</td>\n",
       "      <td>...</td>\n",
       "      <td>False</td>\n",
       "      <td>False</td>\n",
       "      <td>False</td>\n",
       "      <td>True</td>\n",
       "      <td>True</td>\n",
       "      <td>False</td>\n",
       "      <td>False</td>\n",
       "      <td>False</td>\n",
       "      <td>True</td>\n",
       "      <td>True</td>\n",
       "    </tr>\n",
       "    <tr>\n",
       "      <th>49996</th>\n",
       "      <td>True</td>\n",
       "      <td>True</td>\n",
       "      <td>True</td>\n",
       "      <td>True</td>\n",
       "      <td>True</td>\n",
       "      <td>False</td>\n",
       "      <td>False</td>\n",
       "      <td>True</td>\n",
       "      <td>True</td>\n",
       "      <td>True</td>\n",
       "      <td>...</td>\n",
       "      <td>False</td>\n",
       "      <td>False</td>\n",
       "      <td>False</td>\n",
       "      <td>True</td>\n",
       "      <td>False</td>\n",
       "      <td>False</td>\n",
       "      <td>False</td>\n",
       "      <td>False</td>\n",
       "      <td>False</td>\n",
       "      <td>True</td>\n",
       "    </tr>\n",
       "    <tr>\n",
       "      <th>49997</th>\n",
       "      <td>True</td>\n",
       "      <td>True</td>\n",
       "      <td>True</td>\n",
       "      <td>True</td>\n",
       "      <td>True</td>\n",
       "      <td>False</td>\n",
       "      <td>False</td>\n",
       "      <td>True</td>\n",
       "      <td>True</td>\n",
       "      <td>True</td>\n",
       "      <td>...</td>\n",
       "      <td>False</td>\n",
       "      <td>False</td>\n",
       "      <td>False</td>\n",
       "      <td>True</td>\n",
       "      <td>False</td>\n",
       "      <td>False</td>\n",
       "      <td>False</td>\n",
       "      <td>False</td>\n",
       "      <td>True</td>\n",
       "      <td>True</td>\n",
       "    </tr>\n",
       "    <tr>\n",
       "      <th>49998</th>\n",
       "      <td>True</td>\n",
       "      <td>True</td>\n",
       "      <td>True</td>\n",
       "      <td>False</td>\n",
       "      <td>True</td>\n",
       "      <td>True</td>\n",
       "      <td>True</td>\n",
       "      <td>True</td>\n",
       "      <td>True</td>\n",
       "      <td>True</td>\n",
       "      <td>...</td>\n",
       "      <td>False</td>\n",
       "      <td>False</td>\n",
       "      <td>False</td>\n",
       "      <td>True</td>\n",
       "      <td>True</td>\n",
       "      <td>False</td>\n",
       "      <td>False</td>\n",
       "      <td>False</td>\n",
       "      <td>True</td>\n",
       "      <td>True</td>\n",
       "    </tr>\n",
       "    <tr>\n",
       "      <th>49999</th>\n",
       "      <td>True</td>\n",
       "      <td>True</td>\n",
       "      <td>True</td>\n",
       "      <td>True</td>\n",
       "      <td>True</td>\n",
       "      <td>False</td>\n",
       "      <td>False</td>\n",
       "      <td>True</td>\n",
       "      <td>True</td>\n",
       "      <td>True</td>\n",
       "      <td>...</td>\n",
       "      <td>False</td>\n",
       "      <td>False</td>\n",
       "      <td>False</td>\n",
       "      <td>True</td>\n",
       "      <td>True</td>\n",
       "      <td>False</td>\n",
       "      <td>False</td>\n",
       "      <td>False</td>\n",
       "      <td>True</td>\n",
       "      <td>True</td>\n",
       "    </tr>\n",
       "  </tbody>\n",
       "</table>\n",
       "<p>50000 rows × 230 columns</p>\n",
       "</div>"
      ],
      "text/plain": [
       "       Var1  Var2  Var3   Var4  Var5   Var6   Var7  Var8  Var9  Var10  ...  \\\n",
       "0      True  True  True   True  True  False  False  True  True   True  ...   \n",
       "1      True  True  True   True  True  False  False  True  True   True  ...   \n",
       "2      True  True  True   True  True  False  False  True  True   True  ...   \n",
       "3      True  True  True   True  True   True  False  True  True   True  ...   \n",
       "4      True  True  True   True  True  False  False  True  True   True  ...   \n",
       "...     ...   ...   ...    ...   ...    ...    ...   ...   ...    ...  ...   \n",
       "49995  True  True  True   True  True  False  False  True  True   True  ...   \n",
       "49996  True  True  True   True  True  False  False  True  True   True  ...   \n",
       "49997  True  True  True   True  True  False  False  True  True   True  ...   \n",
       "49998  True  True  True  False  True   True   True  True  True   True  ...   \n",
       "49999  True  True  True   True  True  False  False  True  True   True  ...   \n",
       "\n",
       "       Var221  Var222  Var223  Var224  Var225  Var226  Var227  Var228  Var229  \\\n",
       "0       False   False   False    True    True   False   False   False    True   \n",
       "1       False   False   False    True    True   False   False   False    True   \n",
       "2       False   False   False    True   False   False   False   False   False   \n",
       "3       False   False   False    True    True   False   False   False    True   \n",
       "4       False   False   False    True   False   False   False   False   False   \n",
       "...       ...     ...     ...     ...     ...     ...     ...     ...     ...   \n",
       "49995   False   False   False    True    True   False   False   False    True   \n",
       "49996   False   False   False    True   False   False   False   False   False   \n",
       "49997   False   False   False    True   False   False   False   False    True   \n",
       "49998   False   False   False    True    True   False   False   False    True   \n",
       "49999   False   False   False    True    True   False   False   False    True   \n",
       "\n",
       "       Var230  \n",
       "0        True  \n",
       "1        True  \n",
       "2        True  \n",
       "3        True  \n",
       "4        True  \n",
       "...       ...  \n",
       "49995    True  \n",
       "49996    True  \n",
       "49997    True  \n",
       "49998    True  \n",
       "49999    True  \n",
       "\n",
       "[50000 rows x 230 columns]"
      ]
     },
     "execution_count": 13,
     "metadata": {},
     "output_type": "execute_result"
    }
   ],
   "source": [
    "#Verificando as variaveis com valores faltantes\n",
    "features.isna()"
   ]
  },
  {
   "cell_type": "code",
   "execution_count": 14,
   "metadata": {},
   "outputs": [
    {
     "data": {
      "text/plain": [
       "Var1      49298\n",
       "Var2      48759\n",
       "Var3      48760\n",
       "Var4      48421\n",
       "Var5      48513\n",
       "          ...  \n",
       "Var226        0\n",
       "Var227        0\n",
       "Var228        0\n",
       "Var229    28432\n",
       "Var230    50000\n",
       "Length: 230, dtype: int64"
      ]
     },
     "execution_count": 14,
     "metadata": {},
     "output_type": "execute_result"
    }
   ],
   "source": [
    "# Verificando quantos dados em branco há em cada coluna\n",
    "empty_entries_per_columns = features.isna().sum(axis = 0)\n",
    "empty_entries_per_columns"
   ]
  },
  {
   "cell_type": "code",
   "execution_count": 15,
   "metadata": {},
   "outputs": [
    {
     "name": "stdout",
     "output_type": "stream",
     "text": [
      "48513.0\n"
     ]
    },
    {
     "data": {
      "image/png": "[encoded data removed]",
      "text/plain": [
       "<Figure size 432x288 with 2 Axes>"
      ]
     },
     "metadata": {
      "needs_background": "light"
     },
     "output_type": "display_data"
    }
   ],
   "source": [
    "# Plotando os dados para verificar a quantidade de dados faltantes\n",
    "fig, (ax1, ax2) = plt.subplots(1, 2)\n",
    "ax1.boxplot(empty_entries_per_columns)\n",
    "ax2.hist(empty_entries_per_columns)\n",
    "median = empty_entries_per_columns.median()\n",
    "\n",
    "print(median)"
   ]
  },
  {
   "cell_type": "code",
   "execution_count": 16,
   "metadata": {},
   "outputs": [
    {
     "data": {
      "text/plain": [
       "12500.0"
      ]
     },
     "execution_count": 16,
     "metadata": {},
     "output_type": "execute_result"
    }
   ],
   "source": [
    "# mantendo as variaveis que possuem, pelo menos, 75% de valores preenchidos\n",
    "num_entries = len(features)\n",
    "threshold = 0.25\n",
    "num_entries * threshold"
   ]
  },
  {
   "cell_type": "code",
   "execution_count": 17,
   "metadata": {},
   "outputs": [
    {
     "data": {
      "text/plain": [
       "array(['Var6', 'Var7', 'Var13', 'Var21', 'Var22', 'Var24', 'Var25',\n",
       "       'Var28', 'Var35', 'Var38', 'Var44', 'Var57', 'Var65', 'Var73',\n",
       "       'Var74', 'Var76', 'Var78', 'Var81', 'Var83', 'Var85', 'Var109',\n",
       "       'Var112', 'Var113', 'Var119', 'Var123', 'Var125', 'Var132',\n",
       "       'Var133', 'Var134', 'Var140', 'Var143', 'Var144', 'Var149',\n",
       "       'Var153', 'Var160', 'Var163', 'Var173', 'Var181', 'Var192',\n",
       "       'Var193', 'Var195', 'Var196', 'Var197', 'Var198', 'Var199',\n",
       "       'Var202', 'Var203', 'Var204', 'Var205', 'Var206', 'Var207',\n",
       "       'Var208', 'Var210', 'Var211', 'Var212', 'Var216', 'Var217',\n",
       "       'Var218', 'Var219', 'Var220', 'Var221', 'Var222', 'Var223',\n",
       "       'Var226', 'Var227', 'Var228'], dtype=object)"
      ]
     },
     "execution_count": 17,
     "metadata": {},
     "output_type": "execute_result"
    }
   ],
   "source": [
    "# Variaveis que serão mantidas\n",
    "keep_vars = np.array(features.columns[(empty_entries_per_columns <= (num_entries * threshold))])\n",
    "keep_vars"
   ]
  },
  {
   "cell_type": "code",
   "execution_count": 18,
   "metadata": {},
   "outputs": [
    {
     "name": "stdout",
     "output_type": "stream",
     "text": [
      "38\n",
      "28\n"
     ]
    }
   ],
   "source": [
    "# Selecionando somente as variaveis dentro da regra acima\n",
    "num_vars = [elem for elem in num_vars if elem in keep_vars]\n",
    "cat_vars = [elem for elem in cat_vars if elem in keep_vars]\n",
    "\n",
    "print(len(num_vars))\n",
    "print(len(cat_vars))"
   ]
  },
  {
   "cell_type": "code",
   "execution_count": 19,
   "metadata": {},
   "outputs": [],
   "source": [
    "# preenchendo os NaN pela média\n",
    "for col in num_vars:\n",
    "    col_mean = features[col].mean()\n",
    "    features[col] = features[col].fillna(col_mean)\n",
    "    \n",
    "# preenchendo os NaN por 'missig'\n",
    "for col in cat_vars:\n",
    "    features[col] = features[col].fillna('missing')"
   ]
  },
  {
   "cell_type": "code",
   "execution_count": 20,
   "metadata": {},
   "outputs": [
    {
     "data": {
      "text/plain": [
       "Var192      362\n",
       "Var193       51\n",
       "Var195       23\n",
       "Var196        4\n",
       "Var197      226\n",
       "Var198     4291\n",
       "Var199     5074\n",
       "Var202     5714\n",
       "Var203        6\n",
       "Var204      100\n",
       "Var205        4\n",
       "Var206       22\n",
       "Var207       14\n",
       "Var208        3\n",
       "Var210        6\n",
       "Var211        2\n",
       "Var212       81\n",
       "Var216     2016\n",
       "Var217    13991\n",
       "Var218        3\n",
       "Var219       23\n",
       "Var220     4291\n",
       "Var221        7\n",
       "Var222     4291\n",
       "Var223        5\n",
       "Var226       23\n",
       "Var227        7\n",
       "Var228       30\n",
       "dtype: int64"
      ]
     },
     "execution_count": 20,
     "metadata": {},
     "output_type": "execute_result"
    }
   ],
   "source": [
    "# Verificando quantas diferentes categorias existe em cada variavel (coluna)\n",
    "n_categories_per_feature = features[cat_vars].apply(lambda x: len(set(x)))\n",
    "n_categories_per_feature"
   ]
  },
  {
   "cell_type": "code",
   "execution_count": 21,
   "metadata": {},
   "outputs": [
    {
     "data": {
      "image/png": "[encoded data removed]",
      "text/plain": [
       "<Figure size 432x288 with 1 Axes>"
      ]
     },
     "metadata": {
      "needs_background": "light"
     },
     "output_type": "display_data"
    }
   ],
   "source": [
    "# visualizando a qt. de categorias\n",
    "plt.hist(n_categories_per_feature);"
   ]
  },
  {
   "cell_type": "code",
   "execution_count": 22,
   "metadata": {},
   "outputs": [
    {
     "data": {
      "text/plain": [
       "array(['Var192', 'Var193', 'Var195', 'Var196', 'Var197', 'Var203',\n",
       "       'Var204', 'Var205', 'Var206', 'Var207', 'Var208', 'Var210',\n",
       "       'Var211', 'Var212', 'Var218', 'Var219', 'Var221', 'Var223',\n",
       "       'Var226', 'Var227', 'Var228'], dtype=object)"
      ]
     },
     "execution_count": 22,
     "metadata": {},
     "output_type": "execute_result"
    }
   ],
   "source": [
    "# Filtrando somente as variaveis que possuem até 1.400 registros únicos\n",
    "cat_vars = np.array(n_categories_per_feature[n_categories_per_feature < 1400].index)\n",
    "cat_vars"
   ]
  },
  {
   "cell_type": "code",
   "execution_count": 23,
   "metadata": {},
   "outputs": [
    {
     "data": {
      "text/html": [
       "<div>\n",
       "<style scoped>\n",
       "    .dataframe tbody tr th:only-of-type {\n",
       "        vertical-align: middle;\n",
       "    }\n",
       "\n",
       "    .dataframe tbody tr th {\n",
       "        vertical-align: top;\n",
       "    }\n",
       "\n",
       "    .dataframe thead th {\n",
       "        text-align: right;\n",
       "    }\n",
       "</style>\n",
       "<table border=\"1\" class=\"dataframe\">\n",
       "  <thead>\n",
       "    <tr style=\"text-align: right;\">\n",
       "      <th></th>\n",
       "      <th>Var6</th>\n",
       "      <th>Var7</th>\n",
       "      <th>Var13</th>\n",
       "      <th>Var21</th>\n",
       "      <th>Var22</th>\n",
       "      <th>Var24</th>\n",
       "      <th>Var25</th>\n",
       "      <th>Var28</th>\n",
       "      <th>Var35</th>\n",
       "      <th>Var38</th>\n",
       "      <th>...</th>\n",
       "      <th>Var210</th>\n",
       "      <th>Var211</th>\n",
       "      <th>Var212</th>\n",
       "      <th>Var218</th>\n",
       "      <th>Var219</th>\n",
       "      <th>Var221</th>\n",
       "      <th>Var223</th>\n",
       "      <th>Var226</th>\n",
       "      <th>Var227</th>\n",
       "      <th>Var228</th>\n",
       "    </tr>\n",
       "  </thead>\n",
       "  <tbody>\n",
       "    <tr>\n",
       "      <th>0</th>\n",
       "      <td>1526.000000</td>\n",
       "      <td>7.000000</td>\n",
       "      <td>184.000000</td>\n",
       "      <td>464.000000</td>\n",
       "      <td>580.000000</td>\n",
       "      <td>14.000000</td>\n",
       "      <td>128.00000</td>\n",
       "      <td>166.560000</td>\n",
       "      <td>0.00000</td>\n",
       "      <td>3.570000e+03</td>\n",
       "      <td>...</td>\n",
       "      <td>uKAI</td>\n",
       "      <td>L84s</td>\n",
       "      <td>XfqtO3UdzaXh_</td>\n",
       "      <td>cJvF</td>\n",
       "      <td>FzaX</td>\n",
       "      <td>oslk</td>\n",
       "      <td>jySVZNlOJy</td>\n",
       "      <td>xb3V</td>\n",
       "      <td>RAYp</td>\n",
       "      <td>F2FyR07IdsN7I</td>\n",
       "    </tr>\n",
       "    <tr>\n",
       "      <th>1</th>\n",
       "      <td>525.000000</td>\n",
       "      <td>0.000000</td>\n",
       "      <td>0.000000</td>\n",
       "      <td>168.000000</td>\n",
       "      <td>210.000000</td>\n",
       "      <td>2.000000</td>\n",
       "      <td>24.00000</td>\n",
       "      <td>353.520000</td>\n",
       "      <td>0.00000</td>\n",
       "      <td>4.764966e+06</td>\n",
       "      <td>...</td>\n",
       "      <td>uKAI</td>\n",
       "      <td>L84s</td>\n",
       "      <td>NhsEn4L</td>\n",
       "      <td>missing</td>\n",
       "      <td>FzaX</td>\n",
       "      <td>oslk</td>\n",
       "      <td>LM8l689qOp</td>\n",
       "      <td>fKCe</td>\n",
       "      <td>RAYp</td>\n",
       "      <td>F2FyR07IdsN7I</td>\n",
       "    </tr>\n",
       "    <tr>\n",
       "      <th>2</th>\n",
       "      <td>5236.000000</td>\n",
       "      <td>7.000000</td>\n",
       "      <td>904.000000</td>\n",
       "      <td>1212.000000</td>\n",
       "      <td>1515.000000</td>\n",
       "      <td>26.000000</td>\n",
       "      <td>816.00000</td>\n",
       "      <td>220.080000</td>\n",
       "      <td>0.00000</td>\n",
       "      <td>5.883894e+06</td>\n",
       "      <td>...</td>\n",
       "      <td>uKAI</td>\n",
       "      <td>L84s</td>\n",
       "      <td>UbxQ8lZ</td>\n",
       "      <td>UYBR</td>\n",
       "      <td>FzaX</td>\n",
       "      <td>Al6ZaUT</td>\n",
       "      <td>jySVZNlOJy</td>\n",
       "      <td>Qu4f</td>\n",
       "      <td>02N6s8f</td>\n",
       "      <td>ib5G6X1eUxUn6</td>\n",
       "    </tr>\n",
       "    <tr>\n",
       "      <th>3</th>\n",
       "      <td>1326.437116</td>\n",
       "      <td>0.000000</td>\n",
       "      <td>0.000000</td>\n",
       "      <td>234.518225</td>\n",
       "      <td>0.000000</td>\n",
       "      <td>4.507926</td>\n",
       "      <td>0.00000</td>\n",
       "      <td>22.080000</td>\n",
       "      <td>0.00000</td>\n",
       "      <td>0.000000e+00</td>\n",
       "      <td>...</td>\n",
       "      <td>uKAI</td>\n",
       "      <td>Mtgm</td>\n",
       "      <td>NhsEn4L</td>\n",
       "      <td>UYBR</td>\n",
       "      <td>FzaX</td>\n",
       "      <td>oslk</td>\n",
       "      <td>LM8l689qOp</td>\n",
       "      <td>FSa2</td>\n",
       "      <td>RAYp</td>\n",
       "      <td>F2FyR07IdsN7I</td>\n",
       "    </tr>\n",
       "    <tr>\n",
       "      <th>4</th>\n",
       "      <td>1029.000000</td>\n",
       "      <td>7.000000</td>\n",
       "      <td>3216.000000</td>\n",
       "      <td>64.000000</td>\n",
       "      <td>80.000000</td>\n",
       "      <td>4.000000</td>\n",
       "      <td>64.00000</td>\n",
       "      <td>200.000000</td>\n",
       "      <td>0.00000</td>\n",
       "      <td>0.000000e+00</td>\n",
       "      <td>...</td>\n",
       "      <td>uKAI</td>\n",
       "      <td>L84s</td>\n",
       "      <td>XfqtO3UdzaXh_</td>\n",
       "      <td>UYBR</td>\n",
       "      <td>FzaX</td>\n",
       "      <td>oslk</td>\n",
       "      <td>LM8l689qOp</td>\n",
       "      <td>FSa2</td>\n",
       "      <td>RAYp</td>\n",
       "      <td>F2FyR07IdsN7I</td>\n",
       "    </tr>\n",
       "    <tr>\n",
       "      <th>...</th>\n",
       "      <td>...</td>\n",
       "      <td>...</td>\n",
       "      <td>...</td>\n",
       "      <td>...</td>\n",
       "      <td>...</td>\n",
       "      <td>...</td>\n",
       "      <td>...</td>\n",
       "      <td>...</td>\n",
       "      <td>...</td>\n",
       "      <td>...</td>\n",
       "      <td>...</td>\n",
       "      <td>...</td>\n",
       "      <td>...</td>\n",
       "      <td>...</td>\n",
       "      <td>...</td>\n",
       "      <td>...</td>\n",
       "      <td>...</td>\n",
       "      <td>...</td>\n",
       "      <td>...</td>\n",
       "      <td>...</td>\n",
       "      <td>...</td>\n",
       "    </tr>\n",
       "    <tr>\n",
       "      <th>49995</th>\n",
       "      <td>357.000000</td>\n",
       "      <td>0.000000</td>\n",
       "      <td>0.000000</td>\n",
       "      <td>132.000000</td>\n",
       "      <td>165.000000</td>\n",
       "      <td>2.000000</td>\n",
       "      <td>0.00000</td>\n",
       "      <td>288.080000</td>\n",
       "      <td>0.00000</td>\n",
       "      <td>6.042420e+06</td>\n",
       "      <td>...</td>\n",
       "      <td>uKAI</td>\n",
       "      <td>L84s</td>\n",
       "      <td>NhsEn4L</td>\n",
       "      <td>cJvF</td>\n",
       "      <td>FzaX</td>\n",
       "      <td>oslk</td>\n",
       "      <td>LM8l689qOp</td>\n",
       "      <td>7FJQ</td>\n",
       "      <td>RAYp</td>\n",
       "      <td>F2FyR07IdsN7I</td>\n",
       "    </tr>\n",
       "    <tr>\n",
       "      <th>49996</th>\n",
       "      <td>1078.000000</td>\n",
       "      <td>0.000000</td>\n",
       "      <td>2736.000000</td>\n",
       "      <td>380.000000</td>\n",
       "      <td>475.000000</td>\n",
       "      <td>2.000000</td>\n",
       "      <td>88.00000</td>\n",
       "      <td>166.560000</td>\n",
       "      <td>0.00000</td>\n",
       "      <td>0.000000e+00</td>\n",
       "      <td>...</td>\n",
       "      <td>uKAI</td>\n",
       "      <td>Mtgm</td>\n",
       "      <td>NhsEn4L</td>\n",
       "      <td>UYBR</td>\n",
       "      <td>FzaX</td>\n",
       "      <td>oslk</td>\n",
       "      <td>LM8l689qOp</td>\n",
       "      <td>FSa2</td>\n",
       "      <td>RAYp</td>\n",
       "      <td>55YFVY9</td>\n",
       "    </tr>\n",
       "    <tr>\n",
       "      <th>49997</th>\n",
       "      <td>2807.000000</td>\n",
       "      <td>7.000000</td>\n",
       "      <td>1460.000000</td>\n",
       "      <td>568.000000</td>\n",
       "      <td>710.000000</td>\n",
       "      <td>4.000000</td>\n",
       "      <td>328.00000</td>\n",
       "      <td>166.560000</td>\n",
       "      <td>0.00000</td>\n",
       "      <td>4.221000e+04</td>\n",
       "      <td>...</td>\n",
       "      <td>uKAI</td>\n",
       "      <td>L84s</td>\n",
       "      <td>XfqtO3UdzaXh_</td>\n",
       "      <td>UYBR</td>\n",
       "      <td>FzaX</td>\n",
       "      <td>oslk</td>\n",
       "      <td>LM8l689qOp</td>\n",
       "      <td>fKCe</td>\n",
       "      <td>RAYp</td>\n",
       "      <td>TCU50_Yjmm6GIBZ0lL_</td>\n",
       "    </tr>\n",
       "    <tr>\n",
       "      <th>49998</th>\n",
       "      <td>1326.437116</td>\n",
       "      <td>6.809496</td>\n",
       "      <td>1249.688401</td>\n",
       "      <td>234.518225</td>\n",
       "      <td>290.245382</td>\n",
       "      <td>4.507926</td>\n",
       "      <td>96.82701</td>\n",
       "      <td>224.507669</td>\n",
       "      <td>0.71681</td>\n",
       "      <td>2.579107e+06</td>\n",
       "      <td>...</td>\n",
       "      <td>uKAI</td>\n",
       "      <td>Mtgm</td>\n",
       "      <td>NhsEn4L</td>\n",
       "      <td>UYBR</td>\n",
       "      <td>FzaX</td>\n",
       "      <td>oslk</td>\n",
       "      <td>LM8l689qOp</td>\n",
       "      <td>FSa2</td>\n",
       "      <td>RAYp</td>\n",
       "      <td>F2FyR07IdsN7I</td>\n",
       "    </tr>\n",
       "    <tr>\n",
       "      <th>49999</th>\n",
       "      <td>1694.000000</td>\n",
       "      <td>7.000000</td>\n",
       "      <td>828.000000</td>\n",
       "      <td>192.000000</td>\n",
       "      <td>240.000000</td>\n",
       "      <td>0.000000</td>\n",
       "      <td>48.00000</td>\n",
       "      <td>220.080000</td>\n",
       "      <td>5.00000</td>\n",
       "      <td>2.691228e+06</td>\n",
       "      <td>...</td>\n",
       "      <td>uKAI</td>\n",
       "      <td>L84s</td>\n",
       "      <td>NhsEn4L</td>\n",
       "      <td>cJvF</td>\n",
       "      <td>FzaX</td>\n",
       "      <td>oslk</td>\n",
       "      <td>LM8l689qOp</td>\n",
       "      <td>xb3V</td>\n",
       "      <td>RAYp</td>\n",
       "      <td>F2FyR07IdsN7I</td>\n",
       "    </tr>\n",
       "  </tbody>\n",
       "</table>\n",
       "<p>50000 rows × 59 columns</p>\n",
       "</div>"
      ],
      "text/plain": [
       "              Var6      Var7        Var13        Var21        Var22  \\\n",
       "0      1526.000000  7.000000   184.000000   464.000000   580.000000   \n",
       "1       525.000000  0.000000     0.000000   168.000000   210.000000   \n",
       "2      5236.000000  7.000000   904.000000  1212.000000  1515.000000   \n",
       "3      1326.437116  0.000000     0.000000   234.518225     0.000000   \n",
       "4      1029.000000  7.000000  3216.000000    64.000000    80.000000   \n",
       "...            ...       ...          ...          ...          ...   \n",
       "49995   357.000000  0.000000     0.000000   132.000000   165.000000   \n",
       "49996  1078.000000  0.000000  2736.000000   380.000000   475.000000   \n",
       "49997  2807.000000  7.000000  1460.000000   568.000000   710.000000   \n",
       "49998  1326.437116  6.809496  1249.688401   234.518225   290.245382   \n",
       "49999  1694.000000  7.000000   828.000000   192.000000   240.000000   \n",
       "\n",
       "           Var24      Var25       Var28    Var35         Var38  ...  Var210  \\\n",
       "0      14.000000  128.00000  166.560000  0.00000  3.570000e+03  ...    uKAI   \n",
       "1       2.000000   24.00000  353.520000  0.00000  4.764966e+06  ...    uKAI   \n",
       "2      26.000000  816.00000  220.080000  0.00000  5.883894e+06  ...    uKAI   \n",
       "3       4.507926    0.00000   22.080000  0.00000  0.000000e+00  ...    uKAI   \n",
       "4       4.000000   64.00000  200.000000  0.00000  0.000000e+00  ...    uKAI   \n",
       "...          ...        ...         ...      ...           ...  ...     ...   \n",
       "49995   2.000000    0.00000  288.080000  0.00000  6.042420e+06  ...    uKAI   \n",
       "49996   2.000000   88.00000  166.560000  0.00000  0.000000e+00  ...    uKAI   \n",
       "49997   4.000000  328.00000  166.560000  0.00000  4.221000e+04  ...    uKAI   \n",
       "49998   4.507926   96.82701  224.507669  0.71681  2.579107e+06  ...    uKAI   \n",
       "49999   0.000000   48.00000  220.080000  5.00000  2.691228e+06  ...    uKAI   \n",
       "\n",
       "       Var211         Var212   Var218  Var219   Var221      Var223  Var226  \\\n",
       "0        L84s  XfqtO3UdzaXh_     cJvF    FzaX     oslk  jySVZNlOJy    xb3V   \n",
       "1        L84s        NhsEn4L  missing    FzaX     oslk  LM8l689qOp    fKCe   \n",
       "2        L84s        UbxQ8lZ     UYBR    FzaX  Al6ZaUT  jySVZNlOJy    Qu4f   \n",
       "3        Mtgm        NhsEn4L     UYBR    FzaX     oslk  LM8l689qOp    FSa2   \n",
       "4        L84s  XfqtO3UdzaXh_     UYBR    FzaX     oslk  LM8l689qOp    FSa2   \n",
       "...       ...            ...      ...     ...      ...         ...     ...   \n",
       "49995    L84s        NhsEn4L     cJvF    FzaX     oslk  LM8l689qOp    7FJQ   \n",
       "49996    Mtgm        NhsEn4L     UYBR    FzaX     oslk  LM8l689qOp    FSa2   \n",
       "49997    L84s  XfqtO3UdzaXh_     UYBR    FzaX     oslk  LM8l689qOp    fKCe   \n",
       "49998    Mtgm        NhsEn4L     UYBR    FzaX     oslk  LM8l689qOp    FSa2   \n",
       "49999    L84s        NhsEn4L     cJvF    FzaX     oslk  LM8l689qOp    xb3V   \n",
       "\n",
       "        Var227               Var228  \n",
       "0         RAYp        F2FyR07IdsN7I  \n",
       "1         RAYp        F2FyR07IdsN7I  \n",
       "2      02N6s8f        ib5G6X1eUxUn6  \n",
       "3         RAYp        F2FyR07IdsN7I  \n",
       "4         RAYp        F2FyR07IdsN7I  \n",
       "...        ...                  ...  \n",
       "49995     RAYp        F2FyR07IdsN7I  \n",
       "49996     RAYp              55YFVY9  \n",
       "49997     RAYp  TCU50_Yjmm6GIBZ0lL_  \n",
       "49998     RAYp        F2FyR07IdsN7I  \n",
       "49999     RAYp        F2FyR07IdsN7I  \n",
       "\n",
       "[50000 rows x 59 columns]"
      ]
     },
     "execution_count": 23,
     "metadata": {},
     "output_type": "execute_result"
    }
   ],
   "source": [
    "# concatenando as duas variaveis (numericas e categoricas)\n",
    "features = features[list(num_vars) + list(cat_vars)]\n",
    "features"
   ]
  },
  {
   "cell_type": "markdown",
   "metadata": {},
   "source": [
    "# SELEÇÃO DAS VARIÁVEIS\n",
    "\n",
    "***\n",
    "\n",
    "## ÁRVORE DE DECISÃO"
   ]
  },
  {
   "cell_type": "code",
   "execution_count": 24,
   "metadata": {},
   "outputs": [
    {
     "data": {
      "text/plain": [
       "(50000, 1040)"
      ]
     },
     "execution_count": 24,
     "metadata": {},
     "output_type": "execute_result"
    }
   ],
   "source": [
    "# variaveis dummies (transformando as variaveis categoricas)\n",
    "features_c = pd.get_dummies(features)\n",
    "features_c.shape"
   ]
  },
  {
   "cell_type": "code",
   "execution_count": 25,
   "metadata": {},
   "outputs": [
    {
     "data": {
      "text/html": [
       "<div>\n",
       "<style scoped>\n",
       "    .dataframe tbody tr th:only-of-type {\n",
       "        vertical-align: middle;\n",
       "    }\n",
       "\n",
       "    .dataframe tbody tr th {\n",
       "        vertical-align: top;\n",
       "    }\n",
       "\n",
       "    .dataframe thead th {\n",
       "        text-align: right;\n",
       "    }\n",
       "</style>\n",
       "<table border=\"1\" class=\"dataframe\">\n",
       "  <thead>\n",
       "    <tr style=\"text-align: right;\">\n",
       "      <th></th>\n",
       "      <th>Var6</th>\n",
       "      <th>Var7</th>\n",
       "      <th>Var13</th>\n",
       "      <th>Var21</th>\n",
       "      <th>Var22</th>\n",
       "      <th>Var24</th>\n",
       "      <th>Var25</th>\n",
       "      <th>Var28</th>\n",
       "      <th>Var35</th>\n",
       "      <th>Var38</th>\n",
       "      <th>...</th>\n",
       "      <th>Var228__URKn_77G3QyQHSVQ2N1RKmtW</th>\n",
       "      <th>Var228__cTCyH95OE93jSkoIBT</th>\n",
       "      <th>Var228_am14IcfM7tWLrUmRT52KtA</th>\n",
       "      <th>Var228_b9qbUNk0dML_Mvi2</th>\n",
       "      <th>Var228_d0LtHjWeaXyArdN4sxU_saXqH</th>\n",
       "      <th>Var228_ib5G6X1eUxUn6</th>\n",
       "      <th>Var228_iyHGyLCEkQ</th>\n",
       "      <th>Var228_n1OBWGkV3fbsHR75taC</th>\n",
       "      <th>Var228_r_7E</th>\n",
       "      <th>Var228_xwM2aC7IdeMC0</th>\n",
       "    </tr>\n",
       "  </thead>\n",
       "  <tbody>\n",
       "    <tr>\n",
       "      <th>0</th>\n",
       "      <td>1526.000000</td>\n",
       "      <td>7.0</td>\n",
       "      <td>184.0</td>\n",
       "      <td>464.000000</td>\n",
       "      <td>580.0</td>\n",
       "      <td>14.000000</td>\n",
       "      <td>128.0</td>\n",
       "      <td>166.56</td>\n",
       "      <td>0.0</td>\n",
       "      <td>3570.0</td>\n",
       "      <td>...</td>\n",
       "      <td>0</td>\n",
       "      <td>0</td>\n",
       "      <td>0</td>\n",
       "      <td>0</td>\n",
       "      <td>0</td>\n",
       "      <td>0</td>\n",
       "      <td>0</td>\n",
       "      <td>0</td>\n",
       "      <td>0</td>\n",
       "      <td>0</td>\n",
       "    </tr>\n",
       "    <tr>\n",
       "      <th>1</th>\n",
       "      <td>525.000000</td>\n",
       "      <td>0.0</td>\n",
       "      <td>0.0</td>\n",
       "      <td>168.000000</td>\n",
       "      <td>210.0</td>\n",
       "      <td>2.000000</td>\n",
       "      <td>24.0</td>\n",
       "      <td>353.52</td>\n",
       "      <td>0.0</td>\n",
       "      <td>4764966.0</td>\n",
       "      <td>...</td>\n",
       "      <td>0</td>\n",
       "      <td>0</td>\n",
       "      <td>0</td>\n",
       "      <td>0</td>\n",
       "      <td>0</td>\n",
       "      <td>0</td>\n",
       "      <td>0</td>\n",
       "      <td>0</td>\n",
       "      <td>0</td>\n",
       "      <td>0</td>\n",
       "    </tr>\n",
       "    <tr>\n",
       "      <th>2</th>\n",
       "      <td>5236.000000</td>\n",
       "      <td>7.0</td>\n",
       "      <td>904.0</td>\n",
       "      <td>1212.000000</td>\n",
       "      <td>1515.0</td>\n",
       "      <td>26.000000</td>\n",
       "      <td>816.0</td>\n",
       "      <td>220.08</td>\n",
       "      <td>0.0</td>\n",
       "      <td>5883894.0</td>\n",
       "      <td>...</td>\n",
       "      <td>0</td>\n",
       "      <td>0</td>\n",
       "      <td>0</td>\n",
       "      <td>0</td>\n",
       "      <td>0</td>\n",
       "      <td>1</td>\n",
       "      <td>0</td>\n",
       "      <td>0</td>\n",
       "      <td>0</td>\n",
       "      <td>0</td>\n",
       "    </tr>\n",
       "    <tr>\n",
       "      <th>3</th>\n",
       "      <td>1326.437116</td>\n",
       "      <td>0.0</td>\n",
       "      <td>0.0</td>\n",
       "      <td>234.518225</td>\n",
       "      <td>0.0</td>\n",
       "      <td>4.507926</td>\n",
       "      <td>0.0</td>\n",
       "      <td>22.08</td>\n",
       "      <td>0.0</td>\n",
       "      <td>0.0</td>\n",
       "      <td>...</td>\n",
       "      <td>0</td>\n",
       "      <td>0</td>\n",
       "      <td>0</td>\n",
       "      <td>0</td>\n",
       "      <td>0</td>\n",
       "      <td>0</td>\n",
       "      <td>0</td>\n",
       "      <td>0</td>\n",
       "      <td>0</td>\n",
       "      <td>0</td>\n",
       "    </tr>\n",
       "    <tr>\n",
       "      <th>4</th>\n",
       "      <td>1029.000000</td>\n",
       "      <td>7.0</td>\n",
       "      <td>3216.0</td>\n",
       "      <td>64.000000</td>\n",
       "      <td>80.0</td>\n",
       "      <td>4.000000</td>\n",
       "      <td>64.0</td>\n",
       "      <td>200.00</td>\n",
       "      <td>0.0</td>\n",
       "      <td>0.0</td>\n",
       "      <td>...</td>\n",
       "      <td>0</td>\n",
       "      <td>0</td>\n",
       "      <td>0</td>\n",
       "      <td>0</td>\n",
       "      <td>0</td>\n",
       "      <td>0</td>\n",
       "      <td>0</td>\n",
       "      <td>0</td>\n",
       "      <td>0</td>\n",
       "      <td>0</td>\n",
       "    </tr>\n",
       "    <tr>\n",
       "      <th>5</th>\n",
       "      <td>658.000000</td>\n",
       "      <td>7.0</td>\n",
       "      <td>3156.0</td>\n",
       "      <td>224.000000</td>\n",
       "      <td>280.0</td>\n",
       "      <td>2.000000</td>\n",
       "      <td>72.0</td>\n",
       "      <td>200.00</td>\n",
       "      <td>5.0</td>\n",
       "      <td>0.0</td>\n",
       "      <td>...</td>\n",
       "      <td>0</td>\n",
       "      <td>0</td>\n",
       "      <td>0</td>\n",
       "      <td>0</td>\n",
       "      <td>0</td>\n",
       "      <td>0</td>\n",
       "      <td>0</td>\n",
       "      <td>0</td>\n",
       "      <td>0</td>\n",
       "      <td>0</td>\n",
       "    </tr>\n",
       "  </tbody>\n",
       "</table>\n",
       "<p>6 rows × 1040 columns</p>\n",
       "</div>"
      ],
      "text/plain": [
       "          Var6  Var7   Var13        Var21   Var22      Var24  Var25   Var28  \\\n",
       "0  1526.000000   7.0   184.0   464.000000   580.0  14.000000  128.0  166.56   \n",
       "1   525.000000   0.0     0.0   168.000000   210.0   2.000000   24.0  353.52   \n",
       "2  5236.000000   7.0   904.0  1212.000000  1515.0  26.000000  816.0  220.08   \n",
       "3  1326.437116   0.0     0.0   234.518225     0.0   4.507926    0.0   22.08   \n",
       "4  1029.000000   7.0  3216.0    64.000000    80.0   4.000000   64.0  200.00   \n",
       "5   658.000000   7.0  3156.0   224.000000   280.0   2.000000   72.0  200.00   \n",
       "\n",
       "   Var35      Var38  ...  Var228__URKn_77G3QyQHSVQ2N1RKmtW  \\\n",
       "0    0.0     3570.0  ...                                 0   \n",
       "1    0.0  4764966.0  ...                                 0   \n",
       "2    0.0  5883894.0  ...                                 0   \n",
       "3    0.0        0.0  ...                                 0   \n",
       "4    0.0        0.0  ...                                 0   \n",
       "5    5.0        0.0  ...                                 0   \n",
       "\n",
       "   Var228__cTCyH95OE93jSkoIBT  Var228_am14IcfM7tWLrUmRT52KtA  \\\n",
       "0                           0                              0   \n",
       "1                           0                              0   \n",
       "2                           0                              0   \n",
       "3                           0                              0   \n",
       "4                           0                              0   \n",
       "5                           0                              0   \n",
       "\n",
       "   Var228_b9qbUNk0dML_Mvi2  Var228_d0LtHjWeaXyArdN4sxU_saXqH  \\\n",
       "0                        0                                 0   \n",
       "1                        0                                 0   \n",
       "2                        0                                 0   \n",
       "3                        0                                 0   \n",
       "4                        0                                 0   \n",
       "5                        0                                 0   \n",
       "\n",
       "   Var228_ib5G6X1eUxUn6  Var228_iyHGyLCEkQ  Var228_n1OBWGkV3fbsHR75taC  \\\n",
       "0                     0                  0                           0   \n",
       "1                     0                  0                           0   \n",
       "2                     1                  0                           0   \n",
       "3                     0                  0                           0   \n",
       "4                     0                  0                           0   \n",
       "5                     0                  0                           0   \n",
       "\n",
       "   Var228_r_7E  Var228_xwM2aC7IdeMC0  \n",
       "0            0                     0  \n",
       "1            0                     0  \n",
       "2            0                     0  \n",
       "3            0                     0  \n",
       "4            0                     0  \n",
       "5            0                     0  \n",
       "\n",
       "[6 rows x 1040 columns]"
      ]
     },
     "execution_count": 25,
     "metadata": {},
     "output_type": "execute_result"
    }
   ],
   "source": [
    "features_c.head(6)"
   ]
  },
  {
   "cell_type": "code",
   "execution_count": 26,
   "metadata": {},
   "outputs": [],
   "source": [
    "# Criando uma funcao para calcular a importancia de cada variavel\n",
    "def etc_importances(features, outcome):\n",
    "    model = ExtraTreesClassifier(n_estimators=200, criterion='entropy', verbose=0)\n",
    "    model.fit(features, np.array(outcome).ravel())\n",
    "    \n",
    "    importances = model.feature_importances_\n",
    "    variables = np.array(features.columns)\n",
    "    indices = np.argsort(importances)[::-1]\n",
    "    importances = importances[indices]\n",
    "    variables =variables[indices]\n",
    "    \n",
    "    return variables, importances\n",
    "\n",
    "variables, importances = etc_importances(features_c, outcome)"
   ]
  },
  {
   "cell_type": "code",
   "execution_count": 27,
   "metadata": {},
   "outputs": [],
   "source": [
    "#Verificando a qt. ideal de atributos\n",
    "def sum_and_plot_importances(variables, importances):\n",
    "    sum_importances = pd.DataFrame()\n",
    "    for i in range(importances.size):\n",
    "        sum_importance = importances[:(i+1)].sum()\n",
    "        this_variable = pd.Series([variables[i], sum_importance])\n",
    "        sum_importances = sum_importances.append(this_variable, ignore_index= True)\n",
    "    plt.scatter(sum_importances.index, sum_importances.iloc[:,1])\n",
    "    return sum_importances"
   ]
  },
  {
   "cell_type": "code",
   "execution_count": 28,
   "metadata": {},
   "outputs": [
    {
     "data": {
      "image/png": "[encoded data removed]",
      "text/plain": [
       "<Figure size 432x288 with 1 Axes>"
      ]
     },
     "metadata": {
      "needs_background": "light"
     },
     "output_type": "display_data"
    }
   ],
   "source": [
    "sum_importances = sum_and_plot_importances(variables, importances)"
   ]
  },
  {
   "cell_type": "code",
   "execution_count": 29,
   "metadata": {},
   "outputs": [],
   "source": [
    "def keep_vars(features, sum_importances, threshold):\n",
    "    keep_vars = list(sum_importances[sum_importances.iloc[:, 1] <= threshold].iloc[:, 0])\n",
    "    features = features.loc[:, keep_vars]\n",
    "    \n",
    "    return features"
   ]
  },
  {
   "cell_type": "code",
   "execution_count": 30,
   "metadata": {},
   "outputs": [],
   "source": [
    "features_c = keep_vars(features_c, sum_importances, threshold = 0.99)"
   ]
  },
  {
   "cell_type": "code",
   "execution_count": 31,
   "metadata": {},
   "outputs": [
    {
     "data": {
      "text/plain": [
       "(50000, 684)"
      ]
     },
     "execution_count": 31,
     "metadata": {},
     "output_type": "execute_result"
    }
   ],
   "source": [
    "features_c.shape"
   ]
  },
  {
   "cell_type": "markdown",
   "metadata": {},
   "source": [
    "# SEPARANDO OS DADOS DE TREINO E TESTE"
   ]
  },
  {
   "cell_type": "code",
   "execution_count": 32,
   "metadata": {},
   "outputs": [],
   "source": [
    "def split_datasets(features, outcome, test_size = 0.2):\n",
    "    X_train, X_test, y_train, y_test = train_test_split(features, outcome, test_size = test_size,\n",
    "                                                       stratify = outcome, random_state = 0)\n",
    "    y_train, t_test = np.array(y_train).ravel(), np.array(y_test).ravel()\n",
    "    \n",
    "    return X_train, X_test, y_train, t_test"
   ]
  },
  {
   "cell_type": "code",
   "execution_count": 33,
   "metadata": {},
   "outputs": [],
   "source": [
    "X_train, X_test, y_train, y_test = split_datasets(features_c, outcome)"
   ]
  },
  {
   "cell_type": "code",
   "execution_count": 34,
   "metadata": {},
   "outputs": [
    {
     "data": {
      "text/plain": [
       "(40000, 684)"
      ]
     },
     "execution_count": 34,
     "metadata": {},
     "output_type": "execute_result"
    }
   ],
   "source": [
    "X_train.shape"
   ]
  },
  {
   "cell_type": "code",
   "execution_count": 35,
   "metadata": {},
   "outputs": [
    {
     "data": {
      "text/plain": [
       "(10000, 684)"
      ]
     },
     "execution_count": 35,
     "metadata": {},
     "output_type": "execute_result"
    }
   ],
   "source": [
    "X_test.shape"
   ]
  },
  {
   "cell_type": "markdown",
   "metadata": {},
   "source": [
    "# RANDOM FOREST CLASSIFIER"
   ]
  },
  {
   "cell_type": "code",
   "execution_count": 36,
   "metadata": {},
   "outputs": [],
   "source": [
    "def rfc_test(X_train, y_train, n_estimators = 100, cv = 5):\n",
    "    np.random.seed(0)\n",
    "    rfc = RandomForestClassifier(n_estimators=n_estimators, random_state=0, n_jobs= -1)\n",
    "    cv_scores = cross_val_score(rfc, X_train, y_train, scoring= 'roc_auc', cv = cv, n_jobs= -1)\n",
    "    print('Média dos cinco testes: ', cv_scores.mean())"
   ]
  },
  {
   "cell_type": "code",
   "execution_count": 37,
   "metadata": {},
   "outputs": [
    {
     "name": "stdout",
     "output_type": "stream",
     "text": [
      "Média dos cinco testes:  0.6275149890314082\n"
     ]
    }
   ],
   "source": [
    "rfc_test(X_train, y_train)"
   ]
  },
  {
   "cell_type": "markdown",
   "metadata": {},
   "source": [
    "# GRADIENT BOOSTING CLASSIFIER"
   ]
  },
  {
   "cell_type": "code",
   "execution_count": 38,
   "metadata": {},
   "outputs": [],
   "source": [
    "def gbc_test(X_train, y_train, n_estimators = 100, learning_rate = 0.1, cv = 5):\n",
    "    np.random.seed(0)\n",
    "    gbc = GradientBoostingClassifier(n_estimators= n_estimators, learning_rate= learning_rate,\n",
    "                                    random_state= 0)\n",
    "    cv_scores = cross_val_score(gbc, X_train, y_train, scoring= 'roc_auc', cv = cv, n_jobs= -1)\n",
    "    print('Média dos cincos Testes: ', cv_scores.mean())"
   ]
  },
  {
   "cell_type": "code",
   "execution_count": 39,
   "metadata": {},
   "outputs": [
    {
     "name": "stdout",
     "output_type": "stream",
     "text": [
      "Média dos cincos Testes:  0.6698446615161705\n"
     ]
    }
   ],
   "source": [
    "gbc_test(X_train, y_train)"
   ]
  },
  {
   "cell_type": "markdown",
   "metadata": {},
   "source": [
    "## OTIMIZANDO O GBC"
   ]
  },
  {
   "cell_type": "code",
   "execution_count": 40,
   "metadata": {},
   "outputs": [],
   "source": [
    "#learning rate\n",
    "def optimize(n_estimators, learning_rate, min_samples_split, min_samples_leaf,\n",
    "             max_depth, max_features, subsample, params, cv = 5):\n",
    "    np.random.seed(0)\n",
    "    gbc = GradientBoostingClassifier(n_estimators = n_estimators,\n",
    "                                  learning_rate = learning_rate,\n",
    "                                  min_samples_split = min_samples_split,\n",
    "                                  min_samples_leaf = min_samples_leaf,\n",
    "                                  max_depth = max_depth,\n",
    "                                  max_features = max_features,\n",
    "                                  subsample = subsample,\n",
    "                                  random_state = 0)\n",
    "    grid_search = GridSearchCV(estimator = gbc, param_grid = params, scoring = 'roc_auc',\n",
    "                             n_jobs = -1, iid = False, cv = cv)\n",
    "    grid_search.fit(X_train, y_train)\n",
    "    results = grid_search.cv_results_\n",
    "    best_params = grid_search.best_params_\n",
    "    best_score = grid_search.best_score_\n",
    "    print(best_params, best_score)\n",
    "  \n",
    "    return gbc, best_params, best_score"
   ]
  },
  {
   "cell_type": "code",
   "execution_count": 41,
   "metadata": {},
   "outputs": [],
   "source": [
    "# variaveis para armazenar os resultados\n",
    "models = np.array([])\n",
    "opt_params = dict()\n",
    "scores = np.array([])"
   ]
  },
  {
   "cell_type": "code",
   "execution_count": 42,
   "metadata": {},
   "outputs": [],
   "source": [
    "# modelo 0\n",
    "learning_rate = 0.1\n",
    "n_estimators = None\n",
    "max_depth = 8\n",
    "min_samples_split = 250\n",
    "min_samples_leaf = 20\n",
    "max_features = 'sqrt'\n",
    "subsample = 0.8\n",
    "params = {'n_estimators': range(50, 151, 10)}"
   ]
  },
  {
   "cell_type": "code",
   "execution_count": 43,
   "metadata": {},
   "outputs": [
    {
     "name": "stderr",
     "output_type": "stream",
     "text": [
      "/Users/daianeklein/opt/anaconda3/lib/python3.7/site-packages/sklearn/model_selection/_search.py:849: FutureWarning: The parameter 'iid' is deprecated in 0.22 and will be removed in 0.24.\n",
      "  \"removed in 0.24.\", FutureWarning\n"
     ]
    },
    {
     "name": "stdout",
     "output_type": "stream",
     "text": [
      "{'n_estimators': 100} 0.6666017732319898\n"
     ]
    }
   ],
   "source": [
    "gbc, opt_param, score = optimize(n_estimators = n_estimators,\n",
    "                                 learning_rate = learning_rate,\n",
    "                                 min_samples_split = min_samples_split,\n",
    "                                 min_samples_leaf = min_samples_leaf,\n",
    "                                 max_depth = max_depth,\n",
    "                                 max_features = max_features,\n",
    "                                 subsample = subsample,\n",
    "                                 params = params)"
   ]
  },
  {
   "cell_type": "code",
   "execution_count": 44,
   "metadata": {},
   "outputs": [],
   "source": [
    "# Atualizando as variaveis com os resultados\n",
    "models = np.append(models, gbc)\n",
    "opt_params = {**opt_params, **opt_param}\n",
    "scores = np.append(scores, score)"
   ]
  },
  {
   "cell_type": "code",
   "execution_count": 45,
   "metadata": {},
   "outputs": [
    {
     "data": {
      "text/plain": [
       "array([GradientBoostingClassifier(max_depth=8, max_features='sqrt',\n",
       "                           min_samples_leaf=20, min_samples_split=250,\n",
       "                           n_estimators=None, random_state=0, subsample=0.8)],\n",
       "      dtype=object)"
      ]
     },
     "execution_count": 45,
     "metadata": {},
     "output_type": "execute_result"
    }
   ],
   "source": [
    "models"
   ]
  },
  {
   "cell_type": "code",
   "execution_count": 46,
   "metadata": {},
   "outputs": [
    {
     "data": {
      "text/plain": [
       "{'n_estimators': 100}"
      ]
     },
     "execution_count": 46,
     "metadata": {},
     "output_type": "execute_result"
    }
   ],
   "source": [
    "opt_params"
   ]
  },
  {
   "cell_type": "code",
   "execution_count": 47,
   "metadata": {},
   "outputs": [
    {
     "data": {
      "text/plain": [
       "array([0.66660177])"
      ]
     },
     "execution_count": 47,
     "metadata": {},
     "output_type": "execute_result"
    }
   ],
   "source": [
    "scores"
   ]
  },
  {
   "cell_type": "code",
   "execution_count": 49,
   "metadata": {},
   "outputs": [],
   "source": [
    "# Otimizando o max_depth e min_samples_split\n",
    "\n",
    "# modelo 01\n",
    "n_estimators = opt_params['n_estimators']\n",
    "max_depth = None\n",
    "min_samples_split = None\n",
    "min_samples_leaf = 20\n",
    "max_features = 'sqrt'\n",
    "subsample = 0.8\n",
    "params = {'max_depth': range(3, 12, 2), 'min_samples_split': range(150, 401, 50)}"
   ]
  },
  {
   "cell_type": "code",
   "execution_count": null,
   "metadata": {},
   "outputs": [],
   "source": [
    "gbc, opt_param, score = optimize(n_estimators = n_estimators,\n",
    "                                 learning_rate = learning_rate,\n",
    "                                 min_samples_split = min_samples_split,\n",
    "                                 min_samples_leaf = min_samples_leaf,\n",
    "                                 max_depth = max_depth,\n",
    "                                 max_features = max_features,\n",
    "                                 subsample = subsample,\n",
    "                                 params = params)"
   ]
  },
  {
   "cell_type": "code",
   "execution_count": null,
   "metadata": {},
   "outputs": [],
   "source": [
    "# Atualizando as variáveis com os resultados\n",
    "models = np.append(models, gbc)\n",
    "opt_params = {**opt_params, **opt_param}\n",
    "scores = np.append(scores, score)"
   ]
  },
  {
   "cell_type": "code",
   "execution_count": null,
   "metadata": {},
   "outputs": [],
   "source": [
    "# otimizando o min_samples_leaf\n",
    "# MODELO 2\n",
    "max_depth = opt_params['max_depth']\n",
    "min_samples_split = opt_params['min_samples_split']\n",
    "min_samples_leaf = None\n",
    "max_features = 'sqrt'\n",
    "subsample = 0.8\n",
    "params = {'min_samples_leaf': range(25, 61, 5)}"
   ]
  },
  {
   "cell_type": "code",
   "execution_count": null,
   "metadata": {},
   "outputs": [],
   "source": [
    "gbc, opt_param, score = optimize(n_estimators = n_estimators,\n",
    "                                 learning_rate = learning_rate,\n",
    "                                 min_samples_split = min_samples_split,\n",
    "                                 min_samples_leaf = min_samples_leaf,\n",
    "                                 max_depth = max_depth,\n",
    "                                 max_features = max_features,\n",
    "                                 subsample = subsample,\n",
    "                                 params = params)"
   ]
  },
  {
   "cell_type": "code",
   "execution_count": null,
   "metadata": {},
   "outputs": [],
   "source": [
    "# Atualizando as variáveis com os resultados\n",
    "models = np.append(models, gbc)\n",
    "opt_params = {**opt_params, **opt_param}\n",
    "scores = np.append(scores, score)"
   ]
  },
  {
   "cell_type": "code",
   "execution_count": null,
   "metadata": {},
   "outputs": [],
   "source": [
    "opt_params"
   ]
  },
  {
   "cell_type": "code",
   "execution_count": null,
   "metadata": {},
   "outputs": [],
   "source": [
    "# otimizando o max_features\n",
    "# MODELO 3\n",
    "min_samples_leaf = opt_params['min_samples_leaf']\n",
    "max_features = None\n",
    "subsample = 0.8\n",
    "params = {'max_features': range(21, 31, 1)}"
   ]
  },
  {
   "cell_type": "code",
   "execution_count": null,
   "metadata": {},
   "outputs": [],
   "source": [
    "gbc, opt_param, score = optimize(n_estimators = n_estimators,\n",
    "                                 learning_rate = learning_rate,\n",
    "                                 min_samples_split = min_samples_split,\n",
    "                                 min_samples_leaf = min_samples_leaf,\n",
    "                                 max_depth = max_depth,\n",
    "                                 max_features = max_features,\n",
    "                                 subsample = subsample,\n",
    "                                 params = params)"
   ]
  },
  {
   "cell_type": "code",
   "execution_count": null,
   "metadata": {},
   "outputs": [],
   "source": [
    "# Atualizando as variáveis com os resultados\n",
    "models = np.append(models, gbc)\n",
    "opt_params = {**opt_params, **opt_param}\n",
    "scores = np.append(scores, score)"
   ]
  },
  {
   "cell_type": "code",
   "execution_count": null,
   "metadata": {},
   "outputs": [],
   "source": [
    "opt_params"
   ]
  },
  {
   "cell_type": "code",
   "execution_count": null,
   "metadata": {},
   "outputs": [],
   "source": [
    "# Otimizando subsample\n",
    "max_features = opt_params['max_features']\n",
    "subsample = None\n",
    "params = {'subsample': np.append(np.arange(0.6, 1, 0.05), 1)}\n",
    "\n",
    "np.append(np.arange(0.6, 1, 0.05), 1)"
   ]
  },
  {
   "cell_type": "code",
   "execution_count": null,
   "metadata": {},
   "outputs": [],
   "source": [
    "gbc, opt_param, score = optimize(n_estimators = n_estimators,\n",
    "                                 learning_rate = learning_rate,\n",
    "                                 min_samples_split = min_samples_split,\n",
    "                                 min_samples_leaf = min_samples_leaf,\n",
    "                                 max_depth = max_depth,\n",
    "                                 max_features = max_features,\n",
    "                                 subsample = subsample,\n",
    "                                 params = params)"
   ]
  },
  {
   "cell_type": "code",
   "execution_count": null,
   "metadata": {},
   "outputs": [],
   "source": [
    "# Atualizando as variáveis com os resultados\n",
    "models = np.append(models, gbc)\n",
    "opt_params = {**opt_params, **opt_param}\n",
    "scores = np.append(scores, score)"
   ]
  },
  {
   "cell_type": "code",
   "execution_count": null,
   "metadata": {},
   "outputs": [],
   "source": [
    "opt_params"
   ]
  },
  {
   "cell_type": "code",
   "execution_count": null,
   "metadata": {},
   "outputs": [],
   "source": [
    "scores"
   ]
  },
  {
   "cell_type": "code",
   "execution_count": null,
   "metadata": {},
   "outputs": [],
   "source": [
    "# Otimizando n_estimators e learning_rate\n",
    "def optimize2(n_estimators, learning_rate, min_samples_split, min_samples_leaf,\n",
    "             max_depth, max_features, subsample, cv = 5):\n",
    "  np.random.seed(0)\n",
    "  gbc = GradientBoostingClassifier(n_estimators = n_estimators,\n",
    "                                  learning_rate = learning_rate,\n",
    "                                  min_samples_split = min_samples_split,\n",
    "                                  min_samples_leaf = min_samples_leaf,\n",
    "                                  max_depth = max_depth,\n",
    "                                  max_features = max_features,\n",
    "                                  subsample = subsample,\n",
    "                                  random_state = 0)\n",
    "  cv_scores = cross_val_score(gbc, X_train, y_train, scoring = 'roc_auc', cv = cv, n_jobs = -1)\n",
    "  score = cv_scores.mean()\n",
    "  plt.plot(np.append(scores, score))\n",
    "  plt.title('n_estimators = {} / learning rate = {}'.format(n_estimators, learning_rate))\n",
    "  \n",
    "  return gbc, score"
   ]
  },
  {
   "cell_type": "code",
   "execution_count": null,
   "metadata": {},
   "outputs": [],
   "source": [
    "learning_rate = 0.1\n",
    "n_estimators = opt_params['n_estimators']"
   ]
  },
  {
   "cell_type": "code",
   "execution_count": null,
   "metadata": {},
   "outputs": [],
   "source": []
  }
 ],
 "metadata": {
  "kernelspec": {
   "display_name": "Python 3",
   "language": "python",
   "name": "python3"
  },
  "language_info": {
   "codemirror_mode": {
    "name": "ipython",
    "version": 3
   },
   "file_extension": ".py",
   "mimetype": "text/x-python",
   "name": "python",
   "nbconvert_exporter": "python",
   "pygments_lexer": "ipython3",
   "version": "3.7.6"
  },
  "toc": {
   "base_numbering": 1,
   "nav_menu": {},
   "number_sections": true,
   "sideBar": true,
   "skip_h1_title": false,
   "title_cell": "Table of Contents",
   "title_sidebar": "Contents",
   "toc_cell": false,
   "toc_position": {},
   "toc_section_display": true,
   "toc_window_display": false
  }
 },
 "nbformat": 4,
 "nbformat_minor": 4
}
