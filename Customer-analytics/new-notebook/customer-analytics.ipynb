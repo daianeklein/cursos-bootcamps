{
 "cells": [
  {
   "cell_type": "markdown",
   "id": "026ac201",
   "metadata": {},
   "source": [
    "# CUSTOMER ANALYTICS"
   ]
  },
  {
   "cell_type": "markdown",
   "id": "54e05fe5",
   "metadata": {},
   "source": [
    "- Master beginner and advanced customer analytics\n",
    "\n",
    "- Learn the most important type of analysis applied by mid and large companies\n",
    "\n",
    "- Gain access to a professional team of trainers with exceptional quant skills\n",
    "\n",
    "- Wow interviewers by acquiring a highly desired skill\n",
    "\n",
    "- Understand the fundamental marketing modeling theory: segmentation, targeting, positioning, marketing mix, and price elasticity;\n",
    "\n",
    "- Apply segmentation on your customers, starting from raw data and reaching final customer segments;\n",
    "\n",
    "- Perform K-means clustering with a customer analytics focus;\n",
    "\n",
    "- Apply Principal Components Analysis (PCA) on your data to preprocess your features;\n",
    "\n",
    "- Combine PCA and K-means for even more professional customer segmentation;\n",
    "\n",
    "- Deploy your models on a different dataset;\n",
    "\n",
    "- Learn how to model purchase incidence through probability of purchase elasticity;\n",
    "\n",
    "- Model brand choice by exploring own-price and cross-price elasticity;\n",
    "\n",
    "- Complete the purchasing cycle by predicting purchase quantity elasticity\n",
    "\n",
    "- Carry out a black box deep learning model with TensorFlow 2.0 to predict purchasing behavior with unparalleled accuracy\n",
    "\n",
    "- Be able to optimize your neural networks to enhance results"
   ]
  },
  {
   "cell_type": "markdown",
   "id": "04ed45d9",
   "metadata": {},
   "source": [
    "# Libs"
   ]
  },
  {
   "cell_type": "code",
   "execution_count": null,
   "id": "d3802d43",
   "metadata": {},
   "outputs": [],
   "source": []
  },
  {
   "cell_type": "markdown",
   "id": "a1c95927",
   "metadata": {},
   "source": [
    "# Dataset"
   ]
  },
  {
   "cell_type": "code",
   "execution_count": null,
   "id": "c14fb24f",
   "metadata": {},
   "outputs": [],
   "source": []
  },
  {
   "cell_type": "markdown",
   "id": "e4c4d22d",
   "metadata": {},
   "source": [
    "# Analysis"
   ]
  },
  {
   "cell_type": "code",
   "execution_count": null,
   "id": "2452d627",
   "metadata": {},
   "outputs": [],
   "source": []
  }
 ],
 "metadata": {
  "kernelspec": {
   "display_name": "ds-projects",
   "language": "python",
   "name": "ds-projects"
  },
  "language_info": {
   "codemirror_mode": {
    "name": "ipython",
    "version": 3
   },
   "file_extension": ".py",
   "mimetype": "text/x-python",
   "name": "python",
   "nbconvert_exporter": "python",
   "pygments_lexer": "ipython3",
   "version": "3.9.7"
  },
  "toc": {
   "base_numbering": 1,
   "nav_menu": {},
   "number_sections": true,
   "sideBar": true,
   "skip_h1_title": false,
   "title_cell": "Table of Contents",
   "title_sidebar": "Contents",
   "toc_cell": false,
   "toc_position": {},
   "toc_section_display": true,
   "toc_window_display": false
  }
 },
 "nbformat": 4,
 "nbformat_minor": 5
}
