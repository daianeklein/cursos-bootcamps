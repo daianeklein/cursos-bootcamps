{
 "cells": [
  {
   "cell_type": "markdown",
   "id": "80c75718",
   "metadata": {},
   "source": [
    "# DESCRIPTIVE ANALYSIS BY SEGMENT"
   ]
  },
  {
   "cell_type": "markdown",
   "id": "7882d0ab",
   "metadata": {},
   "source": [
    "## LIBS"
   ]
  },
  {
   "cell_type": "code",
   "execution_count": 1,
   "id": "be7978e6",
   "metadata": {
    "ExecuteTime": {
     "end_time": "2022-05-26T13:56:14.771694Z",
     "start_time": "2022-05-26T13:56:13.506552Z"
    }
   },
   "outputs": [],
   "source": [
    "import numpy as np\n",
    "import pandas as pd\n",
    "\n",
    "from sklearn.preprocessing import StandardScaler\n",
    "from sklearn.decomposition import PCA\n",
    "from sklearn.cluster import KMeans\n",
    "\n",
    "import pickle\n",
    "\n",
    "import matplotlib.pyplot as plt\n",
    "import seaborn as sns\n",
    "sns.set()"
   ]
  },
  {
   "cell_type": "markdown",
   "id": "fc7c6aa3",
   "metadata": {},
   "source": [
    "## DATA IMPORT"
   ]
  },
  {
   "cell_type": "code",
   "execution_count": 2,
   "id": "7efdfb25",
   "metadata": {
    "ExecuteTime": {
     "end_time": "2022-05-26T13:56:14.994320Z",
     "start_time": "2022-05-26T13:56:14.775223Z"
    }
   },
   "outputs": [
    {
     "data": {
      "text/html": [
       "<div>\n",
       "<style scoped>\n",
       "    .dataframe tbody tr th:only-of-type {\n",
       "        vertical-align: middle;\n",
       "    }\n",
       "\n",
       "    .dataframe tbody tr th {\n",
       "        vertical-align: top;\n",
       "    }\n",
       "\n",
       "    .dataframe thead th {\n",
       "        text-align: right;\n",
       "    }\n",
       "</style>\n",
       "<table border=\"1\" class=\"dataframe\">\n",
       "  <thead>\n",
       "    <tr style=\"text-align: right;\">\n",
       "      <th></th>\n",
       "      <th>ID</th>\n",
       "      <th>Day</th>\n",
       "      <th>Incidence</th>\n",
       "      <th>Brand</th>\n",
       "      <th>Quantity</th>\n",
       "      <th>Last_Inc_Brand</th>\n",
       "      <th>Last_Inc_Quantity</th>\n",
       "      <th>Price_1</th>\n",
       "      <th>Price_2</th>\n",
       "      <th>Price_3</th>\n",
       "      <th>...</th>\n",
       "      <th>Promotion_3</th>\n",
       "      <th>Promotion_4</th>\n",
       "      <th>Promotion_5</th>\n",
       "      <th>Sex</th>\n",
       "      <th>Marital status</th>\n",
       "      <th>Age</th>\n",
       "      <th>Education</th>\n",
       "      <th>Income</th>\n",
       "      <th>Occupation</th>\n",
       "      <th>Settlement size</th>\n",
       "    </tr>\n",
       "  </thead>\n",
       "  <tbody>\n",
       "    <tr>\n",
       "      <th>0</th>\n",
       "      <td>200000001</td>\n",
       "      <td>1</td>\n",
       "      <td>0</td>\n",
       "      <td>0</td>\n",
       "      <td>0</td>\n",
       "      <td>0</td>\n",
       "      <td>0</td>\n",
       "      <td>1.59</td>\n",
       "      <td>1.87</td>\n",
       "      <td>2.01</td>\n",
       "      <td>...</td>\n",
       "      <td>0</td>\n",
       "      <td>0</td>\n",
       "      <td>0</td>\n",
       "      <td>0</td>\n",
       "      <td>0</td>\n",
       "      <td>47</td>\n",
       "      <td>1</td>\n",
       "      <td>110866</td>\n",
       "      <td>1</td>\n",
       "      <td>0</td>\n",
       "    </tr>\n",
       "    <tr>\n",
       "      <th>1</th>\n",
       "      <td>200000001</td>\n",
       "      <td>11</td>\n",
       "      <td>0</td>\n",
       "      <td>0</td>\n",
       "      <td>0</td>\n",
       "      <td>0</td>\n",
       "      <td>0</td>\n",
       "      <td>1.51</td>\n",
       "      <td>1.89</td>\n",
       "      <td>1.99</td>\n",
       "      <td>...</td>\n",
       "      <td>0</td>\n",
       "      <td>0</td>\n",
       "      <td>0</td>\n",
       "      <td>0</td>\n",
       "      <td>0</td>\n",
       "      <td>47</td>\n",
       "      <td>1</td>\n",
       "      <td>110866</td>\n",
       "      <td>1</td>\n",
       "      <td>0</td>\n",
       "    </tr>\n",
       "    <tr>\n",
       "      <th>2</th>\n",
       "      <td>200000001</td>\n",
       "      <td>12</td>\n",
       "      <td>0</td>\n",
       "      <td>0</td>\n",
       "      <td>0</td>\n",
       "      <td>0</td>\n",
       "      <td>0</td>\n",
       "      <td>1.51</td>\n",
       "      <td>1.89</td>\n",
       "      <td>1.99</td>\n",
       "      <td>...</td>\n",
       "      <td>0</td>\n",
       "      <td>0</td>\n",
       "      <td>0</td>\n",
       "      <td>0</td>\n",
       "      <td>0</td>\n",
       "      <td>47</td>\n",
       "      <td>1</td>\n",
       "      <td>110866</td>\n",
       "      <td>1</td>\n",
       "      <td>0</td>\n",
       "    </tr>\n",
       "    <tr>\n",
       "      <th>3</th>\n",
       "      <td>200000001</td>\n",
       "      <td>16</td>\n",
       "      <td>0</td>\n",
       "      <td>0</td>\n",
       "      <td>0</td>\n",
       "      <td>0</td>\n",
       "      <td>0</td>\n",
       "      <td>1.52</td>\n",
       "      <td>1.89</td>\n",
       "      <td>1.98</td>\n",
       "      <td>...</td>\n",
       "      <td>0</td>\n",
       "      <td>0</td>\n",
       "      <td>0</td>\n",
       "      <td>0</td>\n",
       "      <td>0</td>\n",
       "      <td>47</td>\n",
       "      <td>1</td>\n",
       "      <td>110866</td>\n",
       "      <td>1</td>\n",
       "      <td>0</td>\n",
       "    </tr>\n",
       "    <tr>\n",
       "      <th>4</th>\n",
       "      <td>200000001</td>\n",
       "      <td>18</td>\n",
       "      <td>0</td>\n",
       "      <td>0</td>\n",
       "      <td>0</td>\n",
       "      <td>0</td>\n",
       "      <td>0</td>\n",
       "      <td>1.52</td>\n",
       "      <td>1.89</td>\n",
       "      <td>1.99</td>\n",
       "      <td>...</td>\n",
       "      <td>0</td>\n",
       "      <td>0</td>\n",
       "      <td>0</td>\n",
       "      <td>0</td>\n",
       "      <td>0</td>\n",
       "      <td>47</td>\n",
       "      <td>1</td>\n",
       "      <td>110866</td>\n",
       "      <td>1</td>\n",
       "      <td>0</td>\n",
       "    </tr>\n",
       "  </tbody>\n",
       "</table>\n",
       "<p>5 rows × 24 columns</p>\n",
       "</div>"
      ],
      "text/plain": [
       "          ID  Day  Incidence  Brand  Quantity  Last_Inc_Brand  \\\n",
       "0  200000001    1          0      0         0               0   \n",
       "1  200000001   11          0      0         0               0   \n",
       "2  200000001   12          0      0         0               0   \n",
       "3  200000001   16          0      0         0               0   \n",
       "4  200000001   18          0      0         0               0   \n",
       "\n",
       "   Last_Inc_Quantity  Price_1  Price_2  Price_3  ...  Promotion_3  \\\n",
       "0                  0     1.59     1.87     2.01  ...            0   \n",
       "1                  0     1.51     1.89     1.99  ...            0   \n",
       "2                  0     1.51     1.89     1.99  ...            0   \n",
       "3                  0     1.52     1.89     1.98  ...            0   \n",
       "4                  0     1.52     1.89     1.99  ...            0   \n",
       "\n",
       "   Promotion_4  Promotion_5  Sex  Marital status  Age  Education  Income  \\\n",
       "0            0            0    0               0   47          1  110866   \n",
       "1            0            0    0               0   47          1  110866   \n",
       "2            0            0    0               0   47          1  110866   \n",
       "3            0            0    0               0   47          1  110866   \n",
       "4            0            0    0               0   47          1  110866   \n",
       "\n",
       "   Occupation  Settlement size  \n",
       "0           1                0  \n",
       "1           1                0  \n",
       "2           1                0  \n",
       "3           1                0  \n",
       "4           1                0  \n",
       "\n",
       "[5 rows x 24 columns]"
      ]
     },
     "execution_count": 2,
     "metadata": {},
     "output_type": "execute_result"
    }
   ],
   "source": [
    "df = pd.read_csv('purchase_data.csv')\n",
    "df.head()"
   ]
  },
  {
   "cell_type": "code",
   "execution_count": 3,
   "id": "5085b042",
   "metadata": {
    "ExecuteTime": {
     "end_time": "2022-05-26T13:56:15.011698Z",
     "start_time": "2022-05-26T13:56:14.997810Z"
    }
   },
   "outputs": [
    {
     "data": {
      "text/plain": [
       "ID                   0\n",
       "Day                  0\n",
       "Incidence            0\n",
       "Brand                0\n",
       "Quantity             0\n",
       "Last_Inc_Brand       0\n",
       "Last_Inc_Quantity    0\n",
       "Price_1              0\n",
       "Price_2              0\n",
       "Price_3              0\n",
       "Price_4              0\n",
       "Price_5              0\n",
       "Promotion_1          0\n",
       "Promotion_2          0\n",
       "Promotion_3          0\n",
       "Promotion_4          0\n",
       "Promotion_5          0\n",
       "Sex                  0\n",
       "Marital status       0\n",
       "Age                  0\n",
       "Education            0\n",
       "Income               0\n",
       "Occupation           0\n",
       "Settlement size      0\n",
       "dtype: int64"
      ]
     },
     "execution_count": 3,
     "metadata": {},
     "output_type": "execute_result"
    }
   ],
   "source": [
    "df.isnull().sum()"
   ]
  },
  {
   "cell_type": "markdown",
   "id": "4c700752",
   "metadata": {},
   "source": [
    "## DATA SEGMENTATION"
   ]
  },
  {
   "cell_type": "markdown",
   "id": "ba010ed2",
   "metadata": {},
   "source": [
    "### IMPORT SEGMENTATION MODEL"
   ]
  },
  {
   "cell_type": "code",
   "execution_count": 12,
   "id": "e3b7bc1c",
   "metadata": {
    "ExecuteTime": {
     "end_time": "2022-05-26T14:02:54.151878Z",
     "start_time": "2022-05-26T14:02:54.145802Z"
    }
   },
   "outputs": [],
   "source": [
    "scaler = pickle.load(open('scaler.pickle', 'rb'))\n",
    "pca = pickle.load(open('pca.pickle', 'rb'))\n",
    "kmeans_pca = pickle.load(open('kmeans_pca.pickle', 'rb'))"
   ]
  },
  {
   "cell_type": "markdown",
   "id": "fb9071c3",
   "metadata": {},
   "source": [
    "### STANDARDIZATION"
   ]
  },
  {
   "cell_type": "code",
   "execution_count": 9,
   "id": "df65ac1a",
   "metadata": {
    "ExecuteTime": {
     "end_time": "2022-05-26T14:01:36.465167Z",
     "start_time": "2022-05-26T14:01:36.448641Z"
    }
   },
   "outputs": [],
   "source": [
    "features = df[['Sex', 'Marital status', 'Age', 'Education', 'Income', 'Occupation', 'Settlement size']]\n",
    "df_purchase_segm_std = scaler.transform(features)"
   ]
  },
  {
   "cell_type": "markdown",
   "id": "e516fab4",
   "metadata": {},
   "source": [
    "### PCA"
   ]
  },
  {
   "cell_type": "code",
   "execution_count": 13,
   "id": "b8706c4d",
   "metadata": {
    "ExecuteTime": {
     "end_time": "2022-05-26T14:02:58.546221Z",
     "start_time": "2022-05-26T14:02:58.535397Z"
    }
   },
   "outputs": [],
   "source": [
    "df_purchase_segm_pca = pca.transform(df_purchase_segm_std)"
   ]
  },
  {
   "cell_type": "markdown",
   "id": "6b138965",
   "metadata": {},
   "source": [
    "### K-Means PCA"
   ]
  },
  {
   "cell_type": "code",
   "execution_count": 16,
   "id": "81abef9a",
   "metadata": {
    "ExecuteTime": {
     "end_time": "2022-05-26T14:05:02.055143Z",
     "start_time": "2022-05-26T14:05:01.969198Z"
    }
   },
   "outputs": [],
   "source": [
    "purchase_segm_kmeans_pca = kmeans_pca.predict(df_purchase_segm_pca)"
   ]
  },
  {
   "cell_type": "code",
   "execution_count": 17,
   "id": "ff98a84d",
   "metadata": {
    "ExecuteTime": {
     "end_time": "2022-05-26T14:05:02.823475Z",
     "start_time": "2022-05-26T14:05:02.812777Z"
    }
   },
   "outputs": [],
   "source": [
    "df_purchase_predictors = df.copy()"
   ]
  },
  {
   "cell_type": "code",
   "execution_count": 18,
   "id": "8890f6f5",
   "metadata": {
    "ExecuteTime": {
     "end_time": "2022-05-26T14:05:03.726456Z",
     "start_time": "2022-05-26T14:05:03.721815Z"
    }
   },
   "outputs": [],
   "source": [
    "df_purchase_predictors['Segment'] = purchase_segm_kmeans_pca"
   ]
  },
  {
   "cell_type": "markdown",
   "id": "23171f3e",
   "metadata": {},
   "source": [
    "## DESCRIPTIVE ANALYSIS BY SEGMENTS"
   ]
  },
  {
   "cell_type": "markdown",
   "id": "1d6ee7d0",
   "metadata": {},
   "source": [
    "### By Customer"
   ]
  },
  {
   "cell_type": "code",
   "execution_count": 21,
   "id": "6233d197",
   "metadata": {
    "ExecuteTime": {
     "end_time": "2022-05-26T14:18:07.501666Z",
     "start_time": "2022-05-26T14:18:07.473936Z"
    }
   },
   "outputs": [
    {
     "data": {
      "text/html": [
       "<div>\n",
       "<style scoped>\n",
       "    .dataframe tbody tr th:only-of-type {\n",
       "        vertical-align: middle;\n",
       "    }\n",
       "\n",
       "    .dataframe tbody tr th {\n",
       "        vertical-align: top;\n",
       "    }\n",
       "\n",
       "    .dataframe thead th {\n",
       "        text-align: right;\n",
       "    }\n",
       "</style>\n",
       "<table border=\"1\" class=\"dataframe\">\n",
       "  <thead>\n",
       "    <tr style=\"text-align: right;\">\n",
       "      <th></th>\n",
       "      <th>ID</th>\n",
       "      <th>Day</th>\n",
       "      <th>Incidence</th>\n",
       "      <th>Brand</th>\n",
       "      <th>Quantity</th>\n",
       "      <th>Last_Inc_Brand</th>\n",
       "      <th>Last_Inc_Quantity</th>\n",
       "      <th>Price_1</th>\n",
       "      <th>Price_2</th>\n",
       "      <th>Price_3</th>\n",
       "      <th>...</th>\n",
       "      <th>Promotion_4</th>\n",
       "      <th>Promotion_5</th>\n",
       "      <th>Sex</th>\n",
       "      <th>Marital status</th>\n",
       "      <th>Age</th>\n",
       "      <th>Education</th>\n",
       "      <th>Income</th>\n",
       "      <th>Occupation</th>\n",
       "      <th>Settlement size</th>\n",
       "      <th>Segment</th>\n",
       "    </tr>\n",
       "  </thead>\n",
       "  <tbody>\n",
       "    <tr>\n",
       "      <th>0</th>\n",
       "      <td>200000001</td>\n",
       "      <td>1</td>\n",
       "      <td>0</td>\n",
       "      <td>0</td>\n",
       "      <td>0</td>\n",
       "      <td>0</td>\n",
       "      <td>0</td>\n",
       "      <td>1.59</td>\n",
       "      <td>1.87</td>\n",
       "      <td>2.01</td>\n",
       "      <td>...</td>\n",
       "      <td>0</td>\n",
       "      <td>0</td>\n",
       "      <td>0</td>\n",
       "      <td>0</td>\n",
       "      <td>47</td>\n",
       "      <td>1</td>\n",
       "      <td>110866</td>\n",
       "      <td>1</td>\n",
       "      <td>0</td>\n",
       "      <td>3</td>\n",
       "    </tr>\n",
       "    <tr>\n",
       "      <th>1</th>\n",
       "      <td>200000001</td>\n",
       "      <td>11</td>\n",
       "      <td>0</td>\n",
       "      <td>0</td>\n",
       "      <td>0</td>\n",
       "      <td>0</td>\n",
       "      <td>0</td>\n",
       "      <td>1.51</td>\n",
       "      <td>1.89</td>\n",
       "      <td>1.99</td>\n",
       "      <td>...</td>\n",
       "      <td>0</td>\n",
       "      <td>0</td>\n",
       "      <td>0</td>\n",
       "      <td>0</td>\n",
       "      <td>47</td>\n",
       "      <td>1</td>\n",
       "      <td>110866</td>\n",
       "      <td>1</td>\n",
       "      <td>0</td>\n",
       "      <td>3</td>\n",
       "    </tr>\n",
       "    <tr>\n",
       "      <th>2</th>\n",
       "      <td>200000001</td>\n",
       "      <td>12</td>\n",
       "      <td>0</td>\n",
       "      <td>0</td>\n",
       "      <td>0</td>\n",
       "      <td>0</td>\n",
       "      <td>0</td>\n",
       "      <td>1.51</td>\n",
       "      <td>1.89</td>\n",
       "      <td>1.99</td>\n",
       "      <td>...</td>\n",
       "      <td>0</td>\n",
       "      <td>0</td>\n",
       "      <td>0</td>\n",
       "      <td>0</td>\n",
       "      <td>47</td>\n",
       "      <td>1</td>\n",
       "      <td>110866</td>\n",
       "      <td>1</td>\n",
       "      <td>0</td>\n",
       "      <td>3</td>\n",
       "    </tr>\n",
       "    <tr>\n",
       "      <th>3</th>\n",
       "      <td>200000001</td>\n",
       "      <td>16</td>\n",
       "      <td>0</td>\n",
       "      <td>0</td>\n",
       "      <td>0</td>\n",
       "      <td>0</td>\n",
       "      <td>0</td>\n",
       "      <td>1.52</td>\n",
       "      <td>1.89</td>\n",
       "      <td>1.98</td>\n",
       "      <td>...</td>\n",
       "      <td>0</td>\n",
       "      <td>0</td>\n",
       "      <td>0</td>\n",
       "      <td>0</td>\n",
       "      <td>47</td>\n",
       "      <td>1</td>\n",
       "      <td>110866</td>\n",
       "      <td>1</td>\n",
       "      <td>0</td>\n",
       "      <td>3</td>\n",
       "    </tr>\n",
       "    <tr>\n",
       "      <th>4</th>\n",
       "      <td>200000001</td>\n",
       "      <td>18</td>\n",
       "      <td>0</td>\n",
       "      <td>0</td>\n",
       "      <td>0</td>\n",
       "      <td>0</td>\n",
       "      <td>0</td>\n",
       "      <td>1.52</td>\n",
       "      <td>1.89</td>\n",
       "      <td>1.99</td>\n",
       "      <td>...</td>\n",
       "      <td>0</td>\n",
       "      <td>0</td>\n",
       "      <td>0</td>\n",
       "      <td>0</td>\n",
       "      <td>47</td>\n",
       "      <td>1</td>\n",
       "      <td>110866</td>\n",
       "      <td>1</td>\n",
       "      <td>0</td>\n",
       "      <td>3</td>\n",
       "    </tr>\n",
       "  </tbody>\n",
       "</table>\n",
       "<p>5 rows × 25 columns</p>\n",
       "</div>"
      ],
      "text/plain": [
       "          ID  Day  Incidence  Brand  Quantity  Last_Inc_Brand  \\\n",
       "0  200000001    1          0      0         0               0   \n",
       "1  200000001   11          0      0         0               0   \n",
       "2  200000001   12          0      0         0               0   \n",
       "3  200000001   16          0      0         0               0   \n",
       "4  200000001   18          0      0         0               0   \n",
       "\n",
       "   Last_Inc_Quantity  Price_1  Price_2  Price_3  ...  Promotion_4  \\\n",
       "0                  0     1.59     1.87     2.01  ...            0   \n",
       "1                  0     1.51     1.89     1.99  ...            0   \n",
       "2                  0     1.51     1.89     1.99  ...            0   \n",
       "3                  0     1.52     1.89     1.98  ...            0   \n",
       "4                  0     1.52     1.89     1.99  ...            0   \n",
       "\n",
       "   Promotion_5  Sex  Marital status  Age  Education  Income  Occupation  \\\n",
       "0            0    0               0   47          1  110866           1   \n",
       "1            0    0               0   47          1  110866           1   \n",
       "2            0    0               0   47          1  110866           1   \n",
       "3            0    0               0   47          1  110866           1   \n",
       "4            0    0               0   47          1  110866           1   \n",
       "\n",
       "   Settlement size  Segment  \n",
       "0                0        3  \n",
       "1                0        3  \n",
       "2                0        3  \n",
       "3                0        3  \n",
       "4                0        3  \n",
       "\n",
       "[5 rows x 25 columns]"
      ]
     },
     "execution_count": 21,
     "metadata": {},
     "output_type": "execute_result"
    }
   ],
   "source": [
    "df_purchase_predictors.head()"
   ]
  },
  {
   "cell_type": "code",
   "execution_count": 28,
   "id": "869ada99",
   "metadata": {
    "ExecuteTime": {
     "end_time": "2022-05-26T14:21:17.348618Z",
     "start_time": "2022-05-26T14:21:17.331831Z"
    }
   },
   "outputs": [
    {
     "data": {
      "text/html": [
       "<div>\n",
       "<style scoped>\n",
       "    .dataframe tbody tr th:only-of-type {\n",
       "        vertical-align: middle;\n",
       "    }\n",
       "\n",
       "    .dataframe tbody tr th {\n",
       "        vertical-align: top;\n",
       "    }\n",
       "\n",
       "    .dataframe thead th {\n",
       "        text-align: right;\n",
       "    }\n",
       "</style>\n",
       "<table border=\"1\" class=\"dataframe\">\n",
       "  <thead>\n",
       "    <tr style=\"text-align: right;\">\n",
       "      <th></th>\n",
       "      <th>N_Visits</th>\n",
       "    </tr>\n",
       "    <tr>\n",
       "      <th>ID</th>\n",
       "      <th></th>\n",
       "    </tr>\n",
       "  </thead>\n",
       "  <tbody>\n",
       "    <tr>\n",
       "      <th>200000001</th>\n",
       "      <td>101</td>\n",
       "    </tr>\n",
       "    <tr>\n",
       "      <th>200000002</th>\n",
       "      <td>87</td>\n",
       "    </tr>\n",
       "    <tr>\n",
       "      <th>200000003</th>\n",
       "      <td>97</td>\n",
       "    </tr>\n",
       "    <tr>\n",
       "      <th>200000004</th>\n",
       "      <td>85</td>\n",
       "    </tr>\n",
       "    <tr>\n",
       "      <th>200000005</th>\n",
       "      <td>111</td>\n",
       "    </tr>\n",
       "  </tbody>\n",
       "</table>\n",
       "</div>"
      ],
      "text/plain": [
       "           N_Visits\n",
       "ID                 \n",
       "200000001       101\n",
       "200000002        87\n",
       "200000003        97\n",
       "200000004        85\n",
       "200000005       111"
      ]
     },
     "execution_count": 28,
     "metadata": {},
     "output_type": "execute_result"
    }
   ],
   "source": [
    "temp1 = df_purchase_predictors[['ID', 'Incidence']].groupby(['ID'], as_index = False).count()\n",
    "temp1 = temp1.set_index('ID')\n",
    "temp1 = temp1.rename(columns = {'Incidence': 'N_Visits'})\n",
    "temp1.head()"
   ]
  },
  {
   "cell_type": "code",
   "execution_count": 29,
   "id": "665eb0ff",
   "metadata": {
    "ExecuteTime": {
     "end_time": "2022-05-26T14:21:24.237288Z",
     "start_time": "2022-05-26T14:21:24.216812Z"
    }
   },
   "outputs": [
    {
     "data": {
      "text/html": [
       "<div>\n",
       "<style scoped>\n",
       "    .dataframe tbody tr th:only-of-type {\n",
       "        vertical-align: middle;\n",
       "    }\n",
       "\n",
       "    .dataframe tbody tr th {\n",
       "        vertical-align: top;\n",
       "    }\n",
       "\n",
       "    .dataframe thead th {\n",
       "        text-align: right;\n",
       "    }\n",
       "</style>\n",
       "<table border=\"1\" class=\"dataframe\">\n",
       "  <thead>\n",
       "    <tr style=\"text-align: right;\">\n",
       "      <th></th>\n",
       "      <th>N_Visits</th>\n",
       "      <th>N_Purchases</th>\n",
       "    </tr>\n",
       "    <tr>\n",
       "      <th>ID</th>\n",
       "      <th></th>\n",
       "      <th></th>\n",
       "    </tr>\n",
       "  </thead>\n",
       "  <tbody>\n",
       "    <tr>\n",
       "      <th>200000001</th>\n",
       "      <td>101</td>\n",
       "      <td>9</td>\n",
       "    </tr>\n",
       "    <tr>\n",
       "      <th>200000002</th>\n",
       "      <td>87</td>\n",
       "      <td>11</td>\n",
       "    </tr>\n",
       "    <tr>\n",
       "      <th>200000003</th>\n",
       "      <td>97</td>\n",
       "      <td>10</td>\n",
       "    </tr>\n",
       "    <tr>\n",
       "      <th>200000004</th>\n",
       "      <td>85</td>\n",
       "      <td>11</td>\n",
       "    </tr>\n",
       "    <tr>\n",
       "      <th>200000005</th>\n",
       "      <td>111</td>\n",
       "      <td>13</td>\n",
       "    </tr>\n",
       "  </tbody>\n",
       "</table>\n",
       "</div>"
      ],
      "text/plain": [
       "           N_Visits  N_Purchases\n",
       "ID                              \n",
       "200000001       101            9\n",
       "200000002        87           11\n",
       "200000003        97           10\n",
       "200000004        85           11\n",
       "200000005       111           13"
      ]
     },
     "execution_count": 29,
     "metadata": {},
     "output_type": "execute_result"
    }
   ],
   "source": [
    "temp2 = df_purchase_predictors[['ID', 'Incidence']].groupby(['ID'], as_index = False).sum()\n",
    "temp2 = temp2.set_index('ID')\n",
    "temp2 = temp2.rename(columns = {'Incidence': 'N_Purchases'})\n",
    "temp3 = temp1.join(temp2)\n",
    "temp3.head()"
   ]
  },
  {
   "cell_type": "code",
   "execution_count": 30,
   "id": "a7498840",
   "metadata": {
    "ExecuteTime": {
     "end_time": "2022-05-26T14:21:36.061549Z",
     "start_time": "2022-05-26T14:21:36.048465Z"
    }
   },
   "outputs": [
    {
     "data": {
      "text/html": [
       "<div>\n",
       "<style scoped>\n",
       "    .dataframe tbody tr th:only-of-type {\n",
       "        vertical-align: middle;\n",
       "    }\n",
       "\n",
       "    .dataframe tbody tr th {\n",
       "        vertical-align: top;\n",
       "    }\n",
       "\n",
       "    .dataframe thead th {\n",
       "        text-align: right;\n",
       "    }\n",
       "</style>\n",
       "<table border=\"1\" class=\"dataframe\">\n",
       "  <thead>\n",
       "    <tr style=\"text-align: right;\">\n",
       "      <th></th>\n",
       "      <th>N_Visits</th>\n",
       "      <th>N_Purchases</th>\n",
       "      <th>Average_N_Purchases</th>\n",
       "    </tr>\n",
       "    <tr>\n",
       "      <th>ID</th>\n",
       "      <th></th>\n",
       "      <th></th>\n",
       "      <th></th>\n",
       "    </tr>\n",
       "  </thead>\n",
       "  <tbody>\n",
       "    <tr>\n",
       "      <th>200000001</th>\n",
       "      <td>101</td>\n",
       "      <td>9</td>\n",
       "      <td>0.089109</td>\n",
       "    </tr>\n",
       "    <tr>\n",
       "      <th>200000002</th>\n",
       "      <td>87</td>\n",
       "      <td>11</td>\n",
       "      <td>0.126437</td>\n",
       "    </tr>\n",
       "    <tr>\n",
       "      <th>200000003</th>\n",
       "      <td>97</td>\n",
       "      <td>10</td>\n",
       "      <td>0.103093</td>\n",
       "    </tr>\n",
       "    <tr>\n",
       "      <th>200000004</th>\n",
       "      <td>85</td>\n",
       "      <td>11</td>\n",
       "      <td>0.129412</td>\n",
       "    </tr>\n",
       "    <tr>\n",
       "      <th>200000005</th>\n",
       "      <td>111</td>\n",
       "      <td>13</td>\n",
       "      <td>0.117117</td>\n",
       "    </tr>\n",
       "  </tbody>\n",
       "</table>\n",
       "</div>"
      ],
      "text/plain": [
       "           N_Visits  N_Purchases  Average_N_Purchases\n",
       "ID                                                   \n",
       "200000001       101            9             0.089109\n",
       "200000002        87           11             0.126437\n",
       "200000003        97           10             0.103093\n",
       "200000004        85           11             0.129412\n",
       "200000005       111           13             0.117117"
      ]
     },
     "execution_count": 30,
     "metadata": {},
     "output_type": "execute_result"
    }
   ],
   "source": [
    "temp3['Average_N_Purchases'] = temp3['N_Purchases'] / temp3['N_Visits']\n",
    "temp3.head()"
   ]
  },
  {
   "cell_type": "code",
   "execution_count": 31,
   "id": "b5e1a828",
   "metadata": {
    "ExecuteTime": {
     "end_time": "2022-05-26T14:22:08.783603Z",
     "start_time": "2022-05-26T14:22:08.768611Z"
    }
   },
   "outputs": [],
   "source": [
    "temp4 = df_purchase_predictors[['ID', 'Segment']].groupby(['ID'], as_index = False).mean()\n",
    "temp4 = temp4.set_index('ID')\n",
    "df_purchase_descr = temp3.join(temp4)"
   ]
  },
  {
   "cell_type": "code",
   "execution_count": 32,
   "id": "e797467a",
   "metadata": {
    "ExecuteTime": {
     "end_time": "2022-05-26T14:22:14.754003Z",
     "start_time": "2022-05-26T14:22:14.741739Z"
    }
   },
   "outputs": [
    {
     "data": {
      "text/html": [
       "<div>\n",
       "<style scoped>\n",
       "    .dataframe tbody tr th:only-of-type {\n",
       "        vertical-align: middle;\n",
       "    }\n",
       "\n",
       "    .dataframe tbody tr th {\n",
       "        vertical-align: top;\n",
       "    }\n",
       "\n",
       "    .dataframe thead th {\n",
       "        text-align: right;\n",
       "    }\n",
       "</style>\n",
       "<table border=\"1\" class=\"dataframe\">\n",
       "  <thead>\n",
       "    <tr style=\"text-align: right;\">\n",
       "      <th></th>\n",
       "      <th>N_Visits</th>\n",
       "      <th>N_Purchases</th>\n",
       "      <th>Average_N_Purchases</th>\n",
       "      <th>Segment</th>\n",
       "    </tr>\n",
       "    <tr>\n",
       "      <th>ID</th>\n",
       "      <th></th>\n",
       "      <th></th>\n",
       "      <th></th>\n",
       "      <th></th>\n",
       "    </tr>\n",
       "  </thead>\n",
       "  <tbody>\n",
       "    <tr>\n",
       "      <th>200000001</th>\n",
       "      <td>101</td>\n",
       "      <td>9</td>\n",
       "      <td>0.089109</td>\n",
       "      <td>3.0</td>\n",
       "    </tr>\n",
       "    <tr>\n",
       "      <th>200000002</th>\n",
       "      <td>87</td>\n",
       "      <td>11</td>\n",
       "      <td>0.126437</td>\n",
       "      <td>1.0</td>\n",
       "    </tr>\n",
       "    <tr>\n",
       "      <th>200000003</th>\n",
       "      <td>97</td>\n",
       "      <td>10</td>\n",
       "      <td>0.103093</td>\n",
       "      <td>3.0</td>\n",
       "    </tr>\n",
       "    <tr>\n",
       "      <th>200000004</th>\n",
       "      <td>85</td>\n",
       "      <td>11</td>\n",
       "      <td>0.129412</td>\n",
       "      <td>3.0</td>\n",
       "    </tr>\n",
       "    <tr>\n",
       "      <th>200000005</th>\n",
       "      <td>111</td>\n",
       "      <td>13</td>\n",
       "      <td>0.117117</td>\n",
       "      <td>2.0</td>\n",
       "    </tr>\n",
       "  </tbody>\n",
       "</table>\n",
       "</div>"
      ],
      "text/plain": [
       "           N_Visits  N_Purchases  Average_N_Purchases  Segment\n",
       "ID                                                            \n",
       "200000001       101            9             0.089109      3.0\n",
       "200000002        87           11             0.126437      1.0\n",
       "200000003        97           10             0.103093      3.0\n",
       "200000004        85           11             0.129412      3.0\n",
       "200000005       111           13             0.117117      2.0"
      ]
     },
     "execution_count": 32,
     "metadata": {},
     "output_type": "execute_result"
    }
   ],
   "source": [
    "df_purchase_descr.head()"
   ]
  },
  {
   "cell_type": "markdown",
   "id": "f21c1f7a",
   "metadata": {},
   "source": [
    "### Segment Proportions"
   ]
  },
  {
   "cell_type": "code",
   "execution_count": 33,
   "id": "6f0d13aa",
   "metadata": {
    "ExecuteTime": {
     "end_time": "2022-05-26T14:23:37.273239Z",
     "start_time": "2022-05-26T14:23:37.257090Z"
    }
   },
   "outputs": [
    {
     "data": {
      "text/html": [
       "<div>\n",
       "<style scoped>\n",
       "    .dataframe tbody tr th:only-of-type {\n",
       "        vertical-align: middle;\n",
       "    }\n",
       "\n",
       "    .dataframe tbody tr th {\n",
       "        vertical-align: top;\n",
       "    }\n",
       "\n",
       "    .dataframe thead th {\n",
       "        text-align: right;\n",
       "    }\n",
       "</style>\n",
       "<table border=\"1\" class=\"dataframe\">\n",
       "  <thead>\n",
       "    <tr style=\"text-align: right;\">\n",
       "      <th></th>\n",
       "      <th>Segment Proportions</th>\n",
       "    </tr>\n",
       "    <tr>\n",
       "      <th>Segment</th>\n",
       "      <th></th>\n",
       "    </tr>\n",
       "  </thead>\n",
       "  <tbody>\n",
       "    <tr>\n",
       "      <th>0.0</th>\n",
       "      <td>0.206</td>\n",
       "    </tr>\n",
       "    <tr>\n",
       "      <th>1.0</th>\n",
       "      <td>0.198</td>\n",
       "    </tr>\n",
       "    <tr>\n",
       "      <th>2.0</th>\n",
       "      <td>0.234</td>\n",
       "    </tr>\n",
       "    <tr>\n",
       "      <th>3.0</th>\n",
       "      <td>0.362</td>\n",
       "    </tr>\n",
       "  </tbody>\n",
       "</table>\n",
       "</div>"
      ],
      "text/plain": [
       "         Segment Proportions\n",
       "Segment                     \n",
       "0.0                    0.206\n",
       "1.0                    0.198\n",
       "2.0                    0.234\n",
       "3.0                    0.362"
      ]
     },
     "execution_count": 33,
     "metadata": {},
     "output_type": "execute_result"
    }
   ],
   "source": [
    "segm_prop = df_purchase_descr[['N_Purchases', 'Segment']].groupby(['Segment']).count() / df_purchase_descr.shape[0]\n",
    "segm_prop = segm_prop.rename(columns = {'N_Purchases': 'Segment Proportions'})\n",
    "segm_prop.head()"
   ]
  },
  {
   "cell_type": "code",
   "execution_count": 34,
   "id": "98140444",
   "metadata": {
    "ExecuteTime": {
     "end_time": "2022-05-26T14:23:46.908139Z",
     "start_time": "2022-05-26T14:23:46.717269Z"
    }
   },
   "outputs": [
    {
     "data": {
      "text/plain": [
       "Text(0.5, 1.0, 'Segment Proportions')"
      ]
     },
     "execution_count": 34,
     "metadata": {},
     "output_type": "execute_result"
    },
    {
     "data": {
      "image/png": "[encoded data removed]",
      "text/plain": [
       "<Figure size 648x432 with 1 Axes>"
      ]
     },
     "metadata": {},
     "output_type": "display_data"
    }
   ],
   "source": [
    "plt.figure(figsize = (9, 6))\n",
    "plt.pie(segm_prop['Segment Proportions'],\n",
    "        labels = ['Standard', 'Career-Focused', 'Fewer-Opportunities', 'Well-Off'],\n",
    "        autopct = '%1.1f%%', \n",
    "        colors = ('b', 'g', 'r', 'orange'))\n",
    "plt.title('Segment Proportions')"
   ]
  },
  {
   "cell_type": "code",
   "execution_count": null,
   "id": "f93aa726",
   "metadata": {},
   "outputs": [],
   "source": []
  }
 ],
 "metadata": {
  "kernelspec": {
   "display_name": "ds-projects",
   "language": "python",
   "name": "ds-projects"
  },
  "language_info": {
   "codemirror_mode": {
    "name": "ipython",
    "version": 3
   },
   "file_extension": ".py",
   "mimetype": "text/x-python",
   "name": "python",
   "nbconvert_exporter": "python",
   "pygments_lexer": "ipython3",
   "version": "3.9.7"
  },
  "toc": {
   "base_numbering": 1,
   "nav_menu": {},
   "number_sections": true,
   "sideBar": true,
   "skip_h1_title": false,
   "title_cell": "Table of Contents",
   "title_sidebar": "Contents",
   "toc_cell": false,
   "toc_position": {},
   "toc_section_display": true,
   "toc_window_display": false
  }
 },
 "nbformat": 4,
 "nbformat_minor": 5
}
