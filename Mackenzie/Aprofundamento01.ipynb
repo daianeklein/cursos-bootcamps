{
 "cells": [
  {
   "cell_type": "markdown",
   "metadata": {},
   "source": [
    "# ATIVIDADE DE APROFUNDAMENTO 01"
   ]
  },
  {
   "attachments": {},
   "cell_type": "markdown",
   "metadata": {},
   "source": [
    "\n",
    "**Universidade Presbiteriana Mackenzie**\n",
    "\n",
    "Ciência de Dados (Big Data Analytics)\n",
    "\n",
    "Big Data Analytics – Análise Estatística\n",
    "\n",
    "***\n",
    "\n",
    "\n",
    "**Nome**: Daiane Klein \t\t\t\t\n",
    "Turma 01R\n",
    "\n",
    "\n",
    "***\n",
    "\n"
   ]
  },
  {
   "cell_type": "markdown",
   "metadata": {},
   "source": [
    "## PELICAN STORE"
   ]
  },
  {
   "cell_type": "markdown",
   "metadata": {},
   "source": [
    "A Pelican Stores, uma divisão da National Clothing, é uma cadeia de lojas de roupas\n",
    "femininas que opera em todos os Estados Unidos. Recentemente, a cadeia realizou uma\n",
    "promoção na qual cupons de desconto foram enviados aos clientes de outras lojas da\n",
    "National Clothing. Dados coletados para uma amostra de 100 transações de cartões de\n",
    "crédito nas lojas Pelican Stores durante um dia, durante a promoção, estão no arquivo\n",
    "PelicanStores.csv.\n",
    "\n",
    "A Tabela abaixo mostra uma parte do conjunto de dados. O método de\n",
    "pagamento chamado “Cartão Proprietário” se refere a cobranças feitas utilizando um\n",
    "cartão de crédito da National Clothing. Os clientes que fizeram uma compra utilizando um\n",
    "cupom de descontos são denominados clientes promocionais e os clientes que fizeram uma\n",
    "compra sem utilizar um cupom de desconto são chamados clientes regulares. Como os\n",
    "cupons promocionais não foram enviados aos clientes Pelican Stores regulares, a\n",
    "administração considera as negociações feitas para pessoas apresentando cupons\n",
    "promocionais como vendas que, de outro modo, não teriam sido efetuadas. Naturalmente, a\n",
    "Pelican também espera que os clientes promocionais continuem a comprar em suas lojas.\n",
    "\n",
    "***\n",
    "\n",
    "**OBS.:**\n",
    "\n",
    "1. Cartão Proprietário: Cartão de crédito da National Clothing\n",
    "\n",
    "2. Com cupom de desconto: Cliente Promocionais\n",
    "\n",
    "3. Sem cupom de desconto: Cliente Regulares\n",
    "\n",
    "4. Clientes promocionais, caso não tivesse sido enviados cupons, as vendas (destes clientes) não teriam sidos efetuadas.\n",
    "\n",
    "5. Expectativa de que clientes promocionais voltem a comprar."
   ]
  },
  {
   "cell_type": "markdown",
   "metadata": {},
   "source": [
    "## Bibliotecas"
   ]
  },
  {
   "cell_type": "code",
   "execution_count": 44,
   "metadata": {
    "ExecuteTime": {
     "end_time": "2021-05-06T17:19:12.054151Z",
     "start_time": "2021-05-06T17:19:12.049547Z"
    }
   },
   "outputs": [],
   "source": [
    "import pandas as pd\n",
    "import matplotlib.pyplot as plt\n",
    "import seaborn as sns\n",
    "import numpy as np\n",
    "\n",
    "from scipy.stats import variation"
   ]
  },
  {
   "cell_type": "markdown",
   "metadata": {},
   "source": [
    "## Dataset"
   ]
  },
  {
   "cell_type": "code",
   "execution_count": 9,
   "metadata": {
    "ExecuteTime": {
     "end_time": "2021-05-06T16:19:51.076904Z",
     "start_time": "2021-05-06T16:19:51.033773Z"
    }
   },
   "outputs": [
    {
     "data": {
      "text/html": [
       "<div>\n",
       "<style scoped>\n",
       "    .dataframe tbody tr th:only-of-type {\n",
       "        vertical-align: middle;\n",
       "    }\n",
       "\n",
       "    .dataframe tbody tr th {\n",
       "        vertical-align: top;\n",
       "    }\n",
       "\n",
       "    .dataframe thead th {\n",
       "        text-align: right;\n",
       "    }\n",
       "</style>\n",
       "<table border=\"1\" class=\"dataframe\">\n",
       "  <thead>\n",
       "    <tr style=\"text-align: right;\">\n",
       "      <th></th>\n",
       "      <th>Cliente</th>\n",
       "      <th>Tipo de Cliente</th>\n",
       "      <th>Itens</th>\n",
       "      <th>Vendas líquidas</th>\n",
       "      <th>Método de Pagamento</th>\n",
       "      <th>Gênero</th>\n",
       "      <th>Estado Civil</th>\n",
       "      <th>Idade</th>\n",
       "    </tr>\n",
       "  </thead>\n",
       "  <tbody>\n",
       "    <tr>\n",
       "      <th>0</th>\n",
       "      <td>1</td>\n",
       "      <td>Regular</td>\n",
       "      <td>1</td>\n",
       "      <td>39.50</td>\n",
       "      <td>Discover</td>\n",
       "      <td>Masculino</td>\n",
       "      <td>Casado</td>\n",
       "      <td>32</td>\n",
       "    </tr>\n",
       "    <tr>\n",
       "      <th>1</th>\n",
       "      <td>2</td>\n",
       "      <td>Promocional</td>\n",
       "      <td>1</td>\n",
       "      <td>102.40</td>\n",
       "      <td>Cartão Proprietário</td>\n",
       "      <td>Feminino</td>\n",
       "      <td>Casado</td>\n",
       "      <td>36</td>\n",
       "    </tr>\n",
       "    <tr>\n",
       "      <th>2</th>\n",
       "      <td>3</td>\n",
       "      <td>Regular</td>\n",
       "      <td>1</td>\n",
       "      <td>22.50</td>\n",
       "      <td>Cartão Proprietário</td>\n",
       "      <td>Feminino</td>\n",
       "      <td>Casado</td>\n",
       "      <td>32</td>\n",
       "    </tr>\n",
       "    <tr>\n",
       "      <th>3</th>\n",
       "      <td>4</td>\n",
       "      <td>Promocional</td>\n",
       "      <td>5</td>\n",
       "      <td>100.40</td>\n",
       "      <td>Cartão Proprietário</td>\n",
       "      <td>Feminino</td>\n",
       "      <td>Casado</td>\n",
       "      <td>28</td>\n",
       "    </tr>\n",
       "    <tr>\n",
       "      <th>4</th>\n",
       "      <td>5</td>\n",
       "      <td>Regular</td>\n",
       "      <td>2</td>\n",
       "      <td>54.00</td>\n",
       "      <td>MasterCard</td>\n",
       "      <td>Feminino</td>\n",
       "      <td>Casado</td>\n",
       "      <td>34</td>\n",
       "    </tr>\n",
       "    <tr>\n",
       "      <th>...</th>\n",
       "      <td>...</td>\n",
       "      <td>...</td>\n",
       "      <td>...</td>\n",
       "      <td>...</td>\n",
       "      <td>...</td>\n",
       "      <td>...</td>\n",
       "      <td>...</td>\n",
       "      <td>...</td>\n",
       "    </tr>\n",
       "    <tr>\n",
       "      <th>95</th>\n",
       "      <td>96</td>\n",
       "      <td>Regular</td>\n",
       "      <td>1</td>\n",
       "      <td>39.50</td>\n",
       "      <td>MasterCard</td>\n",
       "      <td>Feminino</td>\n",
       "      <td>Casado</td>\n",
       "      <td>44</td>\n",
       "    </tr>\n",
       "    <tr>\n",
       "      <th>96</th>\n",
       "      <td>97</td>\n",
       "      <td>Promocional</td>\n",
       "      <td>9</td>\n",
       "      <td>253.00</td>\n",
       "      <td>Cartão Proprietário</td>\n",
       "      <td>Feminino</td>\n",
       "      <td>Casado</td>\n",
       "      <td>30</td>\n",
       "    </tr>\n",
       "    <tr>\n",
       "      <th>97</th>\n",
       "      <td>98</td>\n",
       "      <td>Promocional</td>\n",
       "      <td>10</td>\n",
       "      <td>287.59</td>\n",
       "      <td>Cartão Proprietário</td>\n",
       "      <td>Feminino</td>\n",
       "      <td>Casado</td>\n",
       "      <td>52</td>\n",
       "    </tr>\n",
       "    <tr>\n",
       "      <th>98</th>\n",
       "      <td>99</td>\n",
       "      <td>Promocional</td>\n",
       "      <td>2</td>\n",
       "      <td>47.60</td>\n",
       "      <td>Cartão Proprietário</td>\n",
       "      <td>Feminino</td>\n",
       "      <td>Casado</td>\n",
       "      <td>30</td>\n",
       "    </tr>\n",
       "    <tr>\n",
       "      <th>99</th>\n",
       "      <td>100</td>\n",
       "      <td>Promocional</td>\n",
       "      <td>1</td>\n",
       "      <td>28.44</td>\n",
       "      <td>Cartão Proprietário</td>\n",
       "      <td>Feminino</td>\n",
       "      <td>Casado</td>\n",
       "      <td>44</td>\n",
       "    </tr>\n",
       "  </tbody>\n",
       "</table>\n",
       "<p>100 rows × 8 columns</p>\n",
       "</div>"
      ],
      "text/plain": [
       "   Cliente Tipo de Cliente  Itens  Vendas líquidas  Método de Pagamento  \\\n",
       "0        1         Regular      1            39.50             Discover   \n",
       "1        2     Promocional      1           102.40  Cartão Proprietário   \n",
       "2        3         Regular      1            22.50  Cartão Proprietário   \n",
       "3        4     Promocional      5           100.40  Cartão Proprietário   \n",
       "4        5         Regular      2            54.00           MasterCard   \n",
       "..     ...             ...    ...              ...                  ...   \n",
       "95      96         Regular      1            39.50           MasterCard   \n",
       "96      97     Promocional      9           253.00  Cartão Proprietário   \n",
       "97      98     Promocional     10           287.59  Cartão Proprietário   \n",
       "98      99     Promocional      2            47.60  Cartão Proprietário   \n",
       "99     100     Promocional      1            28.44  Cartão Proprietário   \n",
       "\n",
       "       Gênero Estado Civil  Idade  \n",
       "0   Masculino       Casado     32  \n",
       "1    Feminino       Casado     36  \n",
       "2    Feminino       Casado     32  \n",
       "3    Feminino       Casado     28  \n",
       "4    Feminino       Casado     34  \n",
       "..        ...          ...    ...  \n",
       "95   Feminino       Casado     44  \n",
       "96   Feminino       Casado     30  \n",
       "97   Feminino       Casado     52  \n",
       "98   Feminino       Casado     30  \n",
       "99   Feminino       Casado     44  \n",
       "\n",
       "[100 rows x 8 columns]"
      ]
     },
     "execution_count": 9,
     "metadata": {},
     "output_type": "execute_result"
    }
   ],
   "source": [
    "df = pd.read_csv('/Users/daianeklein/Documents/Mackenzie/Documentos/Disciplinas/Módulo 03/Estatística/Aprofundamento 01/PelicanStores.csv',\n",
    "                 sep = ',',\n",
    "                dtype={'Cliente' : str},\n",
    "                decimal =',')\n",
    "df"
   ]
  },
  {
   "cell_type": "markdown",
   "metadata": {},
   "source": [
    "## DICIONÁRIO DE DADOS"
   ]
  },
  {
   "cell_type": "code",
   "execution_count": 10,
   "metadata": {
    "ExecuteTime": {
     "end_time": "2021-05-06T16:19:53.991019Z",
     "start_time": "2021-05-06T16:19:53.983471Z"
    }
   },
   "outputs": [
    {
     "data": {
      "text/plain": [
       "Cliente                 object\n",
       "Tipo de Cliente         object\n",
       "Itens                    int64\n",
       "Vendas líquidas        float64\n",
       "Método de Pagamento     object\n",
       "Gênero                  object\n",
       "Estado Civil            object\n",
       "Idade                    int64\n",
       "dtype: object"
      ]
     },
     "execution_count": 10,
     "metadata": {},
     "output_type": "execute_result"
    }
   ],
   "source": [
    "df.dtypes"
   ]
  },
  {
   "cell_type": "code",
   "execution_count": 11,
   "metadata": {
    "ExecuteTime": {
     "end_time": "2021-05-06T16:19:54.123619Z",
     "start_time": "2021-05-06T16:19:54.117176Z"
    }
   },
   "outputs": [
    {
     "data": {
      "text/plain": [
       "Index(['Cliente', 'Tipo de Cliente', 'Itens', 'Vendas líquidas',\n",
       "       'Método de Pagamento', 'Gênero', 'Estado Civil', 'Idade'],\n",
       "      dtype='object')"
      ]
     },
     "execution_count": 11,
     "metadata": {},
     "output_type": "execute_result"
    }
   ],
   "source": [
    "df.columns"
   ]
  },
  {
   "attachments": {
    "image.png": {
     "image/png": "[encoded data removed]"
    }
   },
   "cell_type": "markdown",
   "metadata": {},
   "source": [
    "Nome da Variável \tDescrição \tTipo de Variável \tTipo de Mensuração \tValores Possíveis\n",
    "Cliente\tID do cliente\tCategórica\tQualitativa Nominal\tNúmero da identificação do cliente\n",
    "Tipo de Cliente\tTipo de compra efetuada\tCategórica\tQualitativa Nominal\tCategoria Promocional = Com cupom de desconto ou Categoria Regular = Sem cupom de desconto\n",
    "Itens\tO número total de itens comprados\tinteiro\tQuantitativa Discreta\tNúmeros inteiros\n",
    "Vendas Líquidas\tA quantia total ($) cobrada pelo cartão de crédito\tFloat\tQuantitativa Contínua\tNúmeros decimais\n",
    "Método de Pagamento\tMétodo de Pagamento da compra\tCategórica\tQualitativa Nominal\tMétodos de Pagamentos aceitos nas lojas\n",
    "Gênero\tGênero do Cliente\tCategórica\tQualitativa Nominal\tFeminino/Masculino/Não Declarado\n",
    "Estado Civil\tEstado Civil do Cliente\tCategórica\tQualitativa Nominal\t\"Solteiro\n",
    "Casado\n",
    "Separado\n",
    "Divorciado\n",
    "Viúvo\"\n",
    "Idade\tIdade do Cliente\tInteiro\tQuantitativa Discreta\tNúmeros Inteiros![image.png](attachment:image.png)"
   ]
  },
  {
   "cell_type": "markdown",
   "metadata": {},
   "source": [
    "## ESTATÍSTICA DESCRITIVA"
   ]
  },
  {
   "cell_type": "markdown",
   "metadata": {},
   "source": [
    "### VARIÁVEIS NUMÉRICAS"
   ]
  },
  {
   "cell_type": "code",
   "execution_count": 14,
   "metadata": {
    "ExecuteTime": {
     "end_time": "2021-05-06T16:20:04.854773Z",
     "start_time": "2021-05-06T16:20:04.808905Z"
    }
   },
   "outputs": [
    {
     "data": {
      "text/html": [
       "<div>\n",
       "<style scoped>\n",
       "    .dataframe tbody tr th:only-of-type {\n",
       "        vertical-align: middle;\n",
       "    }\n",
       "\n",
       "    .dataframe tbody tr th {\n",
       "        vertical-align: top;\n",
       "    }\n",
       "\n",
       "    .dataframe thead th {\n",
       "        text-align: right;\n",
       "    }\n",
       "</style>\n",
       "<table border=\"1\" class=\"dataframe\">\n",
       "  <thead>\n",
       "    <tr style=\"text-align: right;\">\n",
       "      <th></th>\n",
       "      <th>Itens</th>\n",
       "      <th>Vendas líquidas</th>\n",
       "      <th>Idade</th>\n",
       "    </tr>\n",
       "  </thead>\n",
       "  <tbody>\n",
       "    <tr>\n",
       "      <th>count</th>\n",
       "      <td>100.00000</td>\n",
       "      <td>100.000000</td>\n",
       "      <td>100.000000</td>\n",
       "    </tr>\n",
       "    <tr>\n",
       "      <th>mean</th>\n",
       "      <td>3.22000</td>\n",
       "      <td>77.600500</td>\n",
       "      <td>43.080000</td>\n",
       "    </tr>\n",
       "    <tr>\n",
       "      <th>std</th>\n",
       "      <td>2.73614</td>\n",
       "      <td>55.664938</td>\n",
       "      <td>12.389047</td>\n",
       "    </tr>\n",
       "    <tr>\n",
       "      <th>min</th>\n",
       "      <td>1.00000</td>\n",
       "      <td>13.230000</td>\n",
       "      <td>20.000000</td>\n",
       "    </tr>\n",
       "    <tr>\n",
       "      <th>25%</th>\n",
       "      <td>1.00000</td>\n",
       "      <td>39.600000</td>\n",
       "      <td>32.000000</td>\n",
       "    </tr>\n",
       "    <tr>\n",
       "      <th>50%</th>\n",
       "      <td>2.00000</td>\n",
       "      <td>59.705000</td>\n",
       "      <td>42.000000</td>\n",
       "    </tr>\n",
       "    <tr>\n",
       "      <th>75%</th>\n",
       "      <td>4.00000</td>\n",
       "      <td>100.900000</td>\n",
       "      <td>50.000000</td>\n",
       "    </tr>\n",
       "    <tr>\n",
       "      <th>max</th>\n",
       "      <td>17.00000</td>\n",
       "      <td>287.590000</td>\n",
       "      <td>78.000000</td>\n",
       "    </tr>\n",
       "  </tbody>\n",
       "</table>\n",
       "</div>"
      ],
      "text/plain": [
       "           Itens  Vendas líquidas       Idade\n",
       "count  100.00000       100.000000  100.000000\n",
       "mean     3.22000        77.600500   43.080000\n",
       "std      2.73614        55.664938   12.389047\n",
       "min      1.00000        13.230000   20.000000\n",
       "25%      1.00000        39.600000   32.000000\n",
       "50%      2.00000        59.705000   42.000000\n",
       "75%      4.00000       100.900000   50.000000\n",
       "max     17.00000       287.590000   78.000000"
      ]
     },
     "execution_count": 14,
     "metadata": {},
     "output_type": "execute_result"
    }
   ],
   "source": [
    "df.describe()"
   ]
  },
  {
   "cell_type": "code",
   "execution_count": 17,
   "metadata": {
    "ExecuteTime": {
     "end_time": "2021-05-06T16:22:13.092787Z",
     "start_time": "2021-05-06T16:22:13.070172Z"
    }
   },
   "outputs": [
    {
     "data": {
      "text/html": [
       "<div>\n",
       "<style scoped>\n",
       "    .dataframe tbody tr th:only-of-type {\n",
       "        vertical-align: middle;\n",
       "    }\n",
       "\n",
       "    .dataframe tbody tr th {\n",
       "        vertical-align: top;\n",
       "    }\n",
       "\n",
       "    .dataframe thead th {\n",
       "        text-align: right;\n",
       "    }\n",
       "</style>\n",
       "<table border=\"1\" class=\"dataframe\">\n",
       "  <thead>\n",
       "    <tr style=\"text-align: right;\">\n",
       "      <th></th>\n",
       "      <th>Itens</th>\n",
       "      <th>Vendas líquidas</th>\n",
       "      <th>Idade</th>\n",
       "    </tr>\n",
       "  </thead>\n",
       "  <tbody>\n",
       "    <tr>\n",
       "      <th>0</th>\n",
       "      <td>1</td>\n",
       "      <td>39.50</td>\n",
       "      <td>32</td>\n",
       "    </tr>\n",
       "    <tr>\n",
       "      <th>1</th>\n",
       "      <td>1</td>\n",
       "      <td>102.40</td>\n",
       "      <td>36</td>\n",
       "    </tr>\n",
       "    <tr>\n",
       "      <th>2</th>\n",
       "      <td>1</td>\n",
       "      <td>22.50</td>\n",
       "      <td>32</td>\n",
       "    </tr>\n",
       "    <tr>\n",
       "      <th>3</th>\n",
       "      <td>5</td>\n",
       "      <td>100.40</td>\n",
       "      <td>28</td>\n",
       "    </tr>\n",
       "    <tr>\n",
       "      <th>4</th>\n",
       "      <td>2</td>\n",
       "      <td>54.00</td>\n",
       "      <td>34</td>\n",
       "    </tr>\n",
       "    <tr>\n",
       "      <th>...</th>\n",
       "      <td>...</td>\n",
       "      <td>...</td>\n",
       "      <td>...</td>\n",
       "    </tr>\n",
       "    <tr>\n",
       "      <th>95</th>\n",
       "      <td>1</td>\n",
       "      <td>39.50</td>\n",
       "      <td>44</td>\n",
       "    </tr>\n",
       "    <tr>\n",
       "      <th>96</th>\n",
       "      <td>9</td>\n",
       "      <td>253.00</td>\n",
       "      <td>30</td>\n",
       "    </tr>\n",
       "    <tr>\n",
       "      <th>97</th>\n",
       "      <td>10</td>\n",
       "      <td>287.59</td>\n",
       "      <td>52</td>\n",
       "    </tr>\n",
       "    <tr>\n",
       "      <th>98</th>\n",
       "      <td>2</td>\n",
       "      <td>47.60</td>\n",
       "      <td>30</td>\n",
       "    </tr>\n",
       "    <tr>\n",
       "      <th>99</th>\n",
       "      <td>1</td>\n",
       "      <td>28.44</td>\n",
       "      <td>44</td>\n",
       "    </tr>\n",
       "  </tbody>\n",
       "</table>\n",
       "<p>100 rows × 3 columns</p>\n",
       "</div>"
      ],
      "text/plain": [
       "    Itens  Vendas líquidas  Idade\n",
       "0       1            39.50     32\n",
       "1       1           102.40     36\n",
       "2       1            22.50     32\n",
       "3       5           100.40     28\n",
       "4       2            54.00     34\n",
       "..    ...              ...    ...\n",
       "95      1            39.50     44\n",
       "96      9           253.00     30\n",
       "97     10           287.59     52\n",
       "98      2            47.60     30\n",
       "99      1            28.44     44\n",
       "\n",
       "[100 rows x 3 columns]"
      ]
     },
     "execution_count": 17,
     "metadata": {},
     "output_type": "execute_result"
    }
   ],
   "source": [
    "# Selecionando variáveis numericas\n",
    "numericas = df.select_dtypes(include=['int64', 'float64'])\n",
    "numericas"
   ]
  },
  {
   "cell_type": "code",
   "execution_count": 82,
   "metadata": {
    "ExecuteTime": {
     "end_time": "2021-05-06T17:31:48.441718Z",
     "start_time": "2021-05-06T17:31:48.415756Z"
    }
   },
   "outputs": [
    {
     "data": {
      "text/html": [
       "<div>\n",
       "<style scoped>\n",
       "    .dataframe tbody tr th:only-of-type {\n",
       "        vertical-align: middle;\n",
       "    }\n",
       "\n",
       "    .dataframe tbody tr th {\n",
       "        vertical-align: top;\n",
       "    }\n",
       "\n",
       "    .dataframe thead th {\n",
       "        text-align: right;\n",
       "    }\n",
       "</style>\n",
       "<table border=\"1\" class=\"dataframe\">\n",
       "  <thead>\n",
       "    <tr style=\"text-align: right;\">\n",
       "      <th></th>\n",
       "      <th>media</th>\n",
       "      <th>median</th>\n",
       "      <th>desvio_padrao</th>\n",
       "      <th>variancia</th>\n",
       "      <th>moda</th>\n",
       "    </tr>\n",
       "  </thead>\n",
       "  <tbody>\n",
       "    <tr>\n",
       "      <th>Itens</th>\n",
       "      <td>3.2200</td>\n",
       "      <td>2.000</td>\n",
       "      <td>2.736140</td>\n",
       "      <td>7.486465</td>\n",
       "      <td>1.0</td>\n",
       "    </tr>\n",
       "    <tr>\n",
       "      <th>Vendas líquidas</th>\n",
       "      <td>77.6005</td>\n",
       "      <td>59.705</td>\n",
       "      <td>55.664938</td>\n",
       "      <td>3098.585370</td>\n",
       "      <td>31.6</td>\n",
       "    </tr>\n",
       "    <tr>\n",
       "      <th>Idade</th>\n",
       "      <td>43.0800</td>\n",
       "      <td>42.000</td>\n",
       "      <td>12.389047</td>\n",
       "      <td>153.488485</td>\n",
       "      <td>46.0</td>\n",
       "    </tr>\n",
       "  </tbody>\n",
       "</table>\n",
       "</div>"
      ],
      "text/plain": [
       "                   media  median  desvio_padrao    variancia  moda\n",
       "Itens             3.2200   2.000       2.736140     7.486465   1.0\n",
       "Vendas líquidas  77.6005  59.705      55.664938  3098.585370  31.6\n",
       "Idade            43.0800  42.000      12.389047   153.488485  46.0"
      ]
     },
     "execution_count": 82,
     "metadata": {},
     "output_type": "execute_result"
    }
   ],
   "source": [
    "estat = []\n",
    "\n",
    "for i in numericas:\n",
    "    estat.append({ \n",
    "        'media' : numericas[i].mean(),\n",
    "        'median' : numericas[i].median(),\n",
    "        'desvio_padrao' : numericas[i].std(),\n",
    "        'variancia' : numericas[i].var(),\n",
    "        'moda' : numericas[i].mode()[0]})\n",
    "    \n",
    "estat = pd.DataFrame(estat, index=[numericas.columns])\n",
    "    \n",
    "estat"
   ]
  },
  {
   "cell_type": "markdown",
   "metadata": {},
   "source": [
    "### VARIÁVEIS CATEGÓRICAS"
   ]
  },
  {
   "cell_type": "code",
   "execution_count": 97,
   "metadata": {
    "ExecuteTime": {
     "end_time": "2021-05-06T17:42:54.112234Z",
     "start_time": "2021-05-06T17:42:54.090451Z"
    }
   },
   "outputs": [
    {
     "name": "stderr",
     "output_type": "stream",
     "text": [
      "/Users/daianeklein/opt/anaconda3/lib/python3.7/site-packages/pandas/core/frame.py:4174: SettingWithCopyWarning: \n",
      "A value is trying to be set on a copy of a slice from a DataFrame\n",
      "\n",
      "See the caveats in the documentation: https://pandas.pydata.org/pandas-docs/stable/user_guide/indexing.html#returning-a-view-versus-a-copy\n",
      "  errors=errors,\n"
     ]
    },
    {
     "data": {
      "text/html": [
       "<div>\n",
       "<style scoped>\n",
       "    .dataframe tbody tr th:only-of-type {\n",
       "        vertical-align: middle;\n",
       "    }\n",
       "\n",
       "    .dataframe tbody tr th {\n",
       "        vertical-align: top;\n",
       "    }\n",
       "\n",
       "    .dataframe thead th {\n",
       "        text-align: right;\n",
       "    }\n",
       "</style>\n",
       "<table border=\"1\" class=\"dataframe\">\n",
       "  <thead>\n",
       "    <tr style=\"text-align: right;\">\n",
       "      <th></th>\n",
       "      <th>Tipo de Cliente</th>\n",
       "      <th>Método de Pagamento</th>\n",
       "      <th>Gênero</th>\n",
       "      <th>Estado Civil</th>\n",
       "    </tr>\n",
       "  </thead>\n",
       "  <tbody>\n",
       "    <tr>\n",
       "      <th>0</th>\n",
       "      <td>Regular</td>\n",
       "      <td>Discover</td>\n",
       "      <td>Masculino</td>\n",
       "      <td>Casado</td>\n",
       "    </tr>\n",
       "    <tr>\n",
       "      <th>1</th>\n",
       "      <td>Promocional</td>\n",
       "      <td>Cartão Proprietário</td>\n",
       "      <td>Feminino</td>\n",
       "      <td>Casado</td>\n",
       "    </tr>\n",
       "    <tr>\n",
       "      <th>2</th>\n",
       "      <td>Regular</td>\n",
       "      <td>Cartão Proprietário</td>\n",
       "      <td>Feminino</td>\n",
       "      <td>Casado</td>\n",
       "    </tr>\n",
       "    <tr>\n",
       "      <th>3</th>\n",
       "      <td>Promocional</td>\n",
       "      <td>Cartão Proprietário</td>\n",
       "      <td>Feminino</td>\n",
       "      <td>Casado</td>\n",
       "    </tr>\n",
       "    <tr>\n",
       "      <th>4</th>\n",
       "      <td>Regular</td>\n",
       "      <td>MasterCard</td>\n",
       "      <td>Feminino</td>\n",
       "      <td>Casado</td>\n",
       "    </tr>\n",
       "    <tr>\n",
       "      <th>...</th>\n",
       "      <td>...</td>\n",
       "      <td>...</td>\n",
       "      <td>...</td>\n",
       "      <td>...</td>\n",
       "    </tr>\n",
       "    <tr>\n",
       "      <th>95</th>\n",
       "      <td>Regular</td>\n",
       "      <td>MasterCard</td>\n",
       "      <td>Feminino</td>\n",
       "      <td>Casado</td>\n",
       "    </tr>\n",
       "    <tr>\n",
       "      <th>96</th>\n",
       "      <td>Promocional</td>\n",
       "      <td>Cartão Proprietário</td>\n",
       "      <td>Feminino</td>\n",
       "      <td>Casado</td>\n",
       "    </tr>\n",
       "    <tr>\n",
       "      <th>97</th>\n",
       "      <td>Promocional</td>\n",
       "      <td>Cartão Proprietário</td>\n",
       "      <td>Feminino</td>\n",
       "      <td>Casado</td>\n",
       "    </tr>\n",
       "    <tr>\n",
       "      <th>98</th>\n",
       "      <td>Promocional</td>\n",
       "      <td>Cartão Proprietário</td>\n",
       "      <td>Feminino</td>\n",
       "      <td>Casado</td>\n",
       "    </tr>\n",
       "    <tr>\n",
       "      <th>99</th>\n",
       "      <td>Promocional</td>\n",
       "      <td>Cartão Proprietário</td>\n",
       "      <td>Feminino</td>\n",
       "      <td>Casado</td>\n",
       "    </tr>\n",
       "  </tbody>\n",
       "</table>\n",
       "<p>100 rows × 4 columns</p>\n",
       "</div>"
      ],
      "text/plain": [
       "   Tipo de Cliente  Método de Pagamento     Gênero Estado Civil\n",
       "0          Regular             Discover  Masculino       Casado\n",
       "1      Promocional  Cartão Proprietário   Feminino       Casado\n",
       "2          Regular  Cartão Proprietário   Feminino       Casado\n",
       "3      Promocional  Cartão Proprietário   Feminino       Casado\n",
       "4          Regular           MasterCard   Feminino       Casado\n",
       "..             ...                  ...        ...          ...\n",
       "95         Regular           MasterCard   Feminino       Casado\n",
       "96     Promocional  Cartão Proprietário   Feminino       Casado\n",
       "97     Promocional  Cartão Proprietário   Feminino       Casado\n",
       "98     Promocional  Cartão Proprietário   Feminino       Casado\n",
       "99     Promocional  Cartão Proprietário   Feminino       Casado\n",
       "\n",
       "[100 rows x 4 columns]"
      ]
     },
     "execution_count": 97,
     "metadata": {},
     "output_type": "execute_result"
    }
   ],
   "source": [
    "categoricas = df.select_dtypes(exclude =['int64', 'float64'])\n",
    "categoricas.drop(columns=['Cliente'], inplace = True)\n",
    "\n",
    "categoricas"
   ]
  },
  {
   "cell_type": "code",
   "execution_count": 92,
   "metadata": {
    "ExecuteTime": {
     "end_time": "2021-05-06T17:37:55.603862Z",
     "start_time": "2021-05-06T17:37:55.587393Z"
    }
   },
   "outputs": [
    {
     "data": {
      "text/html": [
       "<div>\n",
       "<style scoped>\n",
       "    .dataframe tbody tr th:only-of-type {\n",
       "        vertical-align: middle;\n",
       "    }\n",
       "\n",
       "    .dataframe tbody tr th {\n",
       "        vertical-align: top;\n",
       "    }\n",
       "\n",
       "    .dataframe thead th {\n",
       "        text-align: right;\n",
       "    }\n",
       "</style>\n",
       "<table border=\"1\" class=\"dataframe\">\n",
       "  <thead>\n",
       "    <tr style=\"text-align: right;\">\n",
       "      <th></th>\n",
       "      <th>media</th>\n",
       "    </tr>\n",
       "  </thead>\n",
       "  <tbody>\n",
       "    <tr>\n",
       "      <th>Tipo de Cliente</th>\n",
       "      <td>Promocional</td>\n",
       "    </tr>\n",
       "    <tr>\n",
       "      <th>Método de Pagamento</th>\n",
       "      <td>Cartão Proprietário</td>\n",
       "    </tr>\n",
       "    <tr>\n",
       "      <th>Gênero</th>\n",
       "      <td>Feminino</td>\n",
       "    </tr>\n",
       "    <tr>\n",
       "      <th>Estado Civil</th>\n",
       "      <td>Casado</td>\n",
       "    </tr>\n",
       "  </tbody>\n",
       "</table>\n",
       "</div>"
      ],
      "text/plain": [
       "                                   media\n",
       "Tipo de Cliente              Promocional\n",
       "Método de Pagamento  Cartão Proprietário\n",
       "Gênero                          Feminino\n",
       "Estado Civil                      Casado"
      ]
     },
     "execution_count": 92,
     "metadata": {},
     "output_type": "execute_result"
    }
   ],
   "source": [
    "estat = []\n",
    "\n",
    "for i in categoricas:\n",
    "    estat.append({ \n",
    "        'media' : categoricas[i].mode()[0]})\n",
    "    \n",
    "estat = pd.DataFrame(estat, index=[categoricas.columns])\n",
    "    \n",
    "estat"
   ]
  },
  {
   "cell_type": "code",
   "execution_count": 117,
   "metadata": {
    "ExecuteTime": {
     "end_time": "2021-05-06T17:52:05.236567Z",
     "start_time": "2021-05-06T17:52:05.206618Z"
    }
   },
   "outputs": [
    {
     "data": {
      "text/html": [
       "<div>\n",
       "<style scoped>\n",
       "    .dataframe tbody tr th:only-of-type {\n",
       "        vertical-align: middle;\n",
       "    }\n",
       "\n",
       "    .dataframe tbody tr th {\n",
       "        vertical-align: top;\n",
       "    }\n",
       "\n",
       "    .dataframe thead th {\n",
       "        text-align: right;\n",
       "    }\n",
       "</style>\n",
       "<table border=\"1\" class=\"dataframe\">\n",
       "  <thead>\n",
       "    <tr style=\"text-align: right;\">\n",
       "      <th></th>\n",
       "      <th>Tipo de Cliente</th>\n",
       "      <th>Método de Pagamento</th>\n",
       "      <th>Gênero</th>\n",
       "      <th>Estado Civil</th>\n",
       "    </tr>\n",
       "  </thead>\n",
       "  <tbody>\n",
       "    <tr>\n",
       "      <th>American Express</th>\n",
       "      <td></td>\n",
       "      <td>2</td>\n",
       "      <td></td>\n",
       "      <td></td>\n",
       "    </tr>\n",
       "    <tr>\n",
       "      <th>Cartão Proprietário</th>\n",
       "      <td></td>\n",
       "      <td>70</td>\n",
       "      <td></td>\n",
       "      <td></td>\n",
       "    </tr>\n",
       "    <tr>\n",
       "      <th>Casado</th>\n",
       "      <td></td>\n",
       "      <td></td>\n",
       "      <td></td>\n",
       "      <td>84</td>\n",
       "    </tr>\n",
       "    <tr>\n",
       "      <th>Discover</th>\n",
       "      <td></td>\n",
       "      <td>4</td>\n",
       "      <td></td>\n",
       "      <td></td>\n",
       "    </tr>\n",
       "    <tr>\n",
       "      <th>Feminino</th>\n",
       "      <td></td>\n",
       "      <td></td>\n",
       "      <td>93</td>\n",
       "      <td></td>\n",
       "    </tr>\n",
       "    <tr>\n",
       "      <th>Masculino</th>\n",
       "      <td></td>\n",
       "      <td></td>\n",
       "      <td>7</td>\n",
       "      <td></td>\n",
       "    </tr>\n",
       "    <tr>\n",
       "      <th>MasterCard</th>\n",
       "      <td></td>\n",
       "      <td>14</td>\n",
       "      <td></td>\n",
       "      <td></td>\n",
       "    </tr>\n",
       "    <tr>\n",
       "      <th>Promocional</th>\n",
       "      <td>70</td>\n",
       "      <td></td>\n",
       "      <td></td>\n",
       "      <td></td>\n",
       "    </tr>\n",
       "    <tr>\n",
       "      <th>Regular</th>\n",
       "      <td>30</td>\n",
       "      <td></td>\n",
       "      <td></td>\n",
       "      <td></td>\n",
       "    </tr>\n",
       "    <tr>\n",
       "      <th>Solteiro</th>\n",
       "      <td></td>\n",
       "      <td></td>\n",
       "      <td></td>\n",
       "      <td>16</td>\n",
       "    </tr>\n",
       "    <tr>\n",
       "      <th>Visa</th>\n",
       "      <td></td>\n",
       "      <td>10</td>\n",
       "      <td></td>\n",
       "      <td></td>\n",
       "    </tr>\n",
       "  </tbody>\n",
       "</table>\n",
       "</div>"
      ],
      "text/plain": [
       "                    Tipo de Cliente Método de Pagamento Gênero Estado Civil\n",
       "American Express                                      2                    \n",
       "Cartão Proprietário                                  70                    \n",
       "Casado                                                                   84\n",
       "Discover                                              4                    \n",
       "Feminino                                                    93             \n",
       "Masculino                                                    7             \n",
       "MasterCard                                           14                    \n",
       "Promocional                      70                                        \n",
       "Regular                          30                                        \n",
       "Solteiro                                                                 16\n",
       "Visa                                                 10                    "
      ]
     },
     "execution_count": 117,
     "metadata": {},
     "output_type": "execute_result"
    }
   ],
   "source": [
    "# Contando e agrupando\n",
    "table = categoricas.apply(pd.Series.value_counts)\n",
    "\n",
    "# Alterando o tipo de dado para object e os valores nuloes (nan) para a palavra 'None'\n",
    "table = table.astype(object).replace(np.nan, 'None')\n",
    "\n",
    "# Substituindo a palavra 'None' para vazio (a fim de facilitar a visualização)\n",
    "table = table.replace('None', '')\n",
    "\n",
    "table"
   ]
  },
  {
   "cell_type": "code",
   "execution_count": null,
   "metadata": {},
   "outputs": [],
   "source": []
  }
 ],
 "metadata": {
  "kernelspec": {
   "display_name": "Python 3",
   "language": "python",
   "name": "python3"
  },
  "language_info": {
   "codemirror_mode": {
    "name": "ipython",
    "version": 3
   },
   "file_extension": ".py",
   "mimetype": "text/x-python",
   "name": "python",
   "nbconvert_exporter": "python",
   "pygments_lexer": "ipython3",
   "version": "3.7.6"
  },
  "toc": {
   "base_numbering": 1,
   "nav_menu": {},
   "number_sections": true,
   "sideBar": true,
   "skip_h1_title": false,
   "title_cell": "Table of Contents",
   "title_sidebar": "Contents",
   "toc_cell": false,
   "toc_position": {},
   "toc_section_display": true,
   "toc_window_display": false
  },
  "varInspector": {
   "cols": {
    "lenName": 16,
    "lenType": 16,
    "lenVar": 40
   },
   "kernels_config": {
    "python": {
     "delete_cmd_postfix": "",
     "delete_cmd_prefix": "del ",
     "library": "var_list.py",
     "varRefreshCmd": "print(var_dic_list())"
    },
    "r": {
     "delete_cmd_postfix": ") ",
     "delete_cmd_prefix": "rm(",
     "library": "var_list.r",
     "varRefreshCmd": "cat(var_dic_list()) "
    }
   },
   "types_to_exclude": [
    "module",
    "function",
    "builtin_function_or_method",
    "instance",
    "_Feature"
   ],
   "window_display": false
  }
 },
 "nbformat": 4,
 "nbformat_minor": 4
}
