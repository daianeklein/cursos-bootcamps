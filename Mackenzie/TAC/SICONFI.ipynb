{
 "cells": [
  {
   "cell_type": "markdown",
   "id": "e4ada3a9",
   "metadata": {},
   "source": [
    "# SICONFI"
   ]
  },
  {
   "cell_type": "code",
   "execution_count": 16,
   "id": "b31e9e88",
   "metadata": {
    "ExecuteTime": {
     "end_time": "2021-11-18T12:55:35.861554Z",
     "start_time": "2021-11-18T12:55:35.855689Z"
    }
   },
   "outputs": [],
   "source": [
    "import pandas as pd\n",
    "import matplotlib.pyplot as plt\n",
    "import seaborn as sns\n",
    "\n",
    "%matplotlib inline"
   ]
  },
  {
   "cell_type": "code",
   "execution_count": null,
   "id": "91b71ce3",
   "metadata": {
    "ExecuteTime": {
     "end_time": "2021-11-18T17:32:04.983982Z",
     "start_time": "2021-11-18T17:32:03.451798Z"
    }
   },
   "outputs": [],
   "source": []
  },
  {
   "cell_type": "code",
   "execution_count": 123,
   "id": "6308e426",
   "metadata": {
    "ExecuteTime": {
     "end_time": "2021-11-18T17:41:45.014655Z",
     "start_time": "2021-11-18T17:41:38.669772Z"
    }
   },
   "outputs": [
    {
     "name": "stderr",
     "output_type": "stream",
     "text": [
      "/Users/daianeklein/miniconda3/envs/ds-projects/lib/python3.9/site-packages/IPython/core/interactiveshell.py:3441: FutureWarning: The error_bad_lines argument has been deprecated and will be removed in a future version.\n",
      "\n",
      "\n",
      "  exec(code_obj, self.user_global_ns, self.user_ns)\n",
      "/Users/daianeklein/miniconda3/envs/ds-projects/lib/python3.9/site-packages/IPython/core/interactiveshell.py:3441: FutureWarning: The warn_bad_lines argument has been deprecated and will be removed in a future version.\n",
      "\n",
      "\n",
      "  exec(code_obj, self.user_global_ns, self.user_ns)\n"
     ]
    }
   ],
   "source": [
    "s2020 = pd.read_csv('/Users/daianeklein/Documents/Mackenzie/TAC/Data/SICONFI/finbra.csv', encoding = 'latin-1',\n",
    "                skiprows = 3,error_bad_lines=False, warn_bad_lines = False, sep = ';', decimal = ',')\n",
    "\n",
    "s2019 = pd.read_csv('/Users/daianeklein/Documents/Mackenzie/TAC/Data/SICONFI/finbra 2.csv', encoding = 'latin-1',\n",
    "                skiprows = 3,error_bad_lines=False, warn_bad_lines = False, sep = ';', decimal = ',')\n",
    "\n",
    "s2018 = pd.read_csv('/Users/daianeklein/Documents/Mackenzie/TAC/Data/SICONFI/finbra 3.csv', encoding = 'latin-1',\n",
    "                skiprows = 3,error_bad_lines=False, warn_bad_lines = False, sep = ';', decimal = ',')\n",
    "\n",
    "s2017 = pd.read_csv('/Users/daianeklein/Documents/Mackenzie/TAC/Data/SICONFI/finbra 4.csv', encoding = 'latin-1',\n",
    "                skiprows = 3,error_bad_lines=False, warn_bad_lines = False, sep = ';', decimal = ',')"
   ]
  },
  {
   "cell_type": "code",
   "execution_count": 98,
   "id": "46ccc960",
   "metadata": {
    "ExecuteTime": {
     "end_time": "2021-11-18T17:32:28.174447Z",
     "start_time": "2021-11-18T17:32:27.519002Z"
    },
    "scrolled": true
   },
   "outputs": [],
   "source": [
    "s2020 = s2020[s2020['Coluna'] == 'Despesas Pagas']\n",
    "s2020 = s2020[s2020['Conta'] == '12 - Educação']\n",
    "s2020 = s2020[['Cod.IBGE', 'Valor']]\n",
    "\n",
    "###\n",
    "\n",
    "s2019 = s2019[s2019['Coluna'] == 'Despesas Pagas']\n",
    "s2019 = s2019[s2019['Conta'] == '12 - Educação']\n",
    "s2019 = s2019[['Cod.IBGE', 'Valor']]\n",
    "\n",
    "###\n",
    "\n",
    "s2018 = s2018[s2018['Coluna'] == 'Despesas Pagas']\n",
    "s2018 = s2018[s2018['Conta'] == '12 - Educação']\n",
    "s2018 = s2018[['Cod.IBGE', 'Valor']]\n",
    "\n",
    "###\n",
    "\n",
    "s2017 = s2017[s2017['Coluna'] == 'Despesas Pagas']\n",
    "s2017 = s2017[s2017['Conta'] == '12 - Educação']\n",
    "s2017 = s2017[['Cod.IBGE', 'Valor']]\n"
   ]
  },
  {
   "cell_type": "code",
   "execution_count": 99,
   "id": "b046b57b",
   "metadata": {
    "ExecuteTime": {
     "end_time": "2021-11-18T17:32:28.206945Z",
     "start_time": "2021-11-18T17:32:28.176558Z"
    }
   },
   "outputs": [
    {
     "name": "stderr",
     "output_type": "stream",
     "text": [
      "/Users/daianeklein/miniconda3/envs/ds-projects/lib/python3.9/site-packages/pandas/core/frame.py:9191: FutureWarning: Passing 'suffixes' which cause duplicate columns {'Valor_x'} in the result is deprecated and will raise a MergeError in a future version.\n",
      "  return merge(\n"
     ]
    }
   ],
   "source": [
    "siconfi = s2020.merge(s2019, how = 'inner',on = 'Cod.IBGE')\n",
    "siconfi = siconfi.merge(s2018, how = 'inner',on = 'Cod.IBGE')\n",
    "siconfi = siconfi.merge(s2017, how = 'inner',on = 'Cod.IBGE')"
   ]
  },
  {
   "cell_type": "code",
   "execution_count": 100,
   "id": "7bfb1691",
   "metadata": {
    "ExecuteTime": {
     "end_time": "2021-11-18T17:32:28.215618Z",
     "start_time": "2021-11-18T17:32:28.211369Z"
    }
   },
   "outputs": [],
   "source": [
    "cols = ['cod', '2020', '2019', '2018', '2017']\n",
    "siconfi.columns = cols"
   ]
  },
  {
   "cell_type": "code",
   "execution_count": 105,
   "id": "8491298d",
   "metadata": {
    "ExecuteTime": {
     "end_time": "2021-11-18T17:33:16.935858Z",
     "start_time": "2021-11-18T17:33:16.919309Z"
    }
   },
   "outputs": [
    {
     "data": {
      "text/html": [
       "<div>\n",
       "<style scoped>\n",
       "    .dataframe tbody tr th:only-of-type {\n",
       "        vertical-align: middle;\n",
       "    }\n",
       "\n",
       "    .dataframe tbody tr th {\n",
       "        vertical-align: top;\n",
       "    }\n",
       "\n",
       "    .dataframe thead th {\n",
       "        text-align: right;\n",
       "    }\n",
       "</style>\n",
       "<table border=\"1\" class=\"dataframe\">\n",
       "  <thead>\n",
       "    <tr style=\"text-align: right;\">\n",
       "      <th></th>\n",
       "      <th>index</th>\n",
       "      <th>total</th>\n",
       "    </tr>\n",
       "  </thead>\n",
       "  <tbody>\n",
       "    <tr>\n",
       "      <th>0</th>\n",
       "      <td>2020</td>\n",
       "      <td>1.567207e+11</td>\n",
       "    </tr>\n",
       "    <tr>\n",
       "      <th>1</th>\n",
       "      <td>2019</td>\n",
       "      <td>1.604881e+11</td>\n",
       "    </tr>\n",
       "    <tr>\n",
       "      <th>2</th>\n",
       "      <td>2018</td>\n",
       "      <td>1.483259e+11</td>\n",
       "    </tr>\n",
       "    <tr>\n",
       "      <th>3</th>\n",
       "      <td>2017</td>\n",
       "      <td>1.393095e+11</td>\n",
       "    </tr>\n",
       "  </tbody>\n",
       "</table>\n",
       "</div>"
      ],
      "text/plain": [
       "  index         total\n",
       "0  2020  1.567207e+11\n",
       "1  2019  1.604881e+11\n",
       "2  2018  1.483259e+11\n",
       "3  2017  1.393095e+11"
      ]
     },
     "execution_count": 105,
     "metadata": {},
     "output_type": "execute_result"
    }
   ],
   "source": []
  },
  {
   "cell_type": "code",
   "execution_count": 120,
   "id": "afacd75f",
   "metadata": {
    "ExecuteTime": {
     "end_time": "2021-11-18T17:37:52.074619Z",
     "start_time": "2021-11-18T17:37:51.823498Z"
    },
    "scrolled": false
   },
   "outputs": [
    {
     "data": {
      "text/plain": [
       "<Figure size 864x216 with 0 Axes>"
      ]
     },
     "metadata": {},
     "output_type": "display_data"
    },
    {
     "data": {
      "image/png": "[encoded data removed]",
      "text/plain": [
       "<Figure size 1080x360 with 1 Axes>"
      ]
     },
     "metadata": {},
     "output_type": "display_data"
    }
   ],
   "source": [
    "def plotar_grafico():\n",
    "    sns.set_style(\"whitegrid\")\n",
    "    \n",
    "    plt.figure(figsize = (12, 3))\n",
    "    aux = pd.DataFrame(siconfi[['2020', '2019', '2018', '2017']].sum()).reset_index().rename(columns={0 : 'total'}).sort_values(by='index')\n",
    "    aux['total'] = aux['total'] / 1000000\n",
    "    \n",
    "    plt.figure(figsize = (15, 5));\n",
    "    ax = sns.lineplot(data = aux, x = 'index', y = 'total', palette = 'Blues');\n",
    "    plt.title('SICONFI - Despesas Municipais Pagas em Educação Por Ano ', fontsize = 12, weight = 'semibold', pad = 20);\n",
    "    plt.ylabel('R$ - Em milhões');\n",
    "    plt.xlabel('Ano');\n",
    "\n",
    "plotar_grafico()\n",
    "\n"
   ]
  },
  {
   "cell_type": "code",
   "execution_count": null,
   "id": "88ef987c",
   "metadata": {},
   "outputs": [],
   "source": []
  },
  {
   "cell_type": "code",
   "execution_count": 125,
   "id": "23cbb64c",
   "metadata": {
    "ExecuteTime": {
     "end_time": "2021-11-18T17:41:53.170099Z",
     "start_time": "2021-11-18T17:41:53.073757Z"
    }
   },
   "outputs": [
    {
     "data": {
      "text/plain": [
       "Despesas Empenhadas                            254089\n",
       "Despesas Liquidadas                            253505\n",
       "Despesas Pagas                                 252969\n",
       "Inscrição de Restos a Pagar Processados        114440\n",
       "Inscrição de Restos a Pagar Não Processados     87610\n",
       "Name: Coluna, dtype: int64"
      ]
     },
     "execution_count": 125,
     "metadata": {},
     "output_type": "execute_result"
    }
   ],
   "source": [
    "s2020['Coluna'].value_counts()"
   ]
  },
  {
   "cell_type": "code",
   "execution_count": null,
   "id": "5a26269e",
   "metadata": {},
   "outputs": [],
   "source": []
  }
 ],
 "metadata": {
  "kernelspec": {
   "display_name": "ds-projects",
   "language": "python",
   "name": "ds-projects"
  },
  "language_info": {
   "codemirror_mode": {
    "name": "ipython",
    "version": 3
   },
   "file_extension": ".py",
   "mimetype": "text/x-python",
   "name": "python",
   "nbconvert_exporter": "python",
   "pygments_lexer": "ipython3",
   "version": "3.9.7"
  },
  "toc": {
   "base_numbering": 1,
   "nav_menu": {},
   "number_sections": true,
   "sideBar": true,
   "skip_h1_title": false,
   "title_cell": "Table of Contents",
   "title_sidebar": "Contents",
   "toc_cell": false,
   "toc_position": {},
   "toc_section_display": true,
   "toc_window_display": false
  }
 },
 "nbformat": 4,
 "nbformat_minor": 5
}
