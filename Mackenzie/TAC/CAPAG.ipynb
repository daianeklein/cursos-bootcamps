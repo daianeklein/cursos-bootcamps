{
 "cells": [
  {
   "cell_type": "markdown",
   "id": "34c5015d",
   "metadata": {},
   "source": [
    "# CAPAG"
   ]
  },
  {
   "cell_type": "code",
   "execution_count": 1,
   "id": "572aa082",
   "metadata": {
    "ExecuteTime": {
     "end_time": "2021-11-18T13:12:38.498139Z",
     "start_time": "2021-11-18T13:12:37.136258Z"
    }
   },
   "outputs": [],
   "source": [
    "import pandas as pd\n",
    "import matplotlib.pyplot as plt\n",
    "import seaborn as sns\n",
    "\n",
    "%matplotlib inline"
   ]
  },
  {
   "cell_type": "code",
   "execution_count": 2,
   "id": "cf162c11",
   "metadata": {
    "ExecuteTime": {
     "end_time": "2021-11-18T13:12:38.545775Z",
     "start_time": "2021-11-18T13:12:38.500872Z"
    }
   },
   "outputs": [],
   "source": [
    "# importacao CAPAG dez/2020\n",
    "c2020 = pd.read_csv('/Users/daianeklein/Documents/Mackenzie/TAC/Data/CAPAG/CAPAG-Municipios-Dez2020.csv', sep = ';')\n",
    "c2020 = c2020[['Cod.IBGE', 'UF', 'Classificação da CAPAG']]\n",
    "c2020 = c2020[c2020['Classificação da CAPAG'] != 'n.d.']\n",
    "c2020 = c2020.rename(columns = ({'Cod.IBGE' : 'cod',\n",
    "                                'Classificação da CAPAG' : 'capag'}))\n",
    "c2020['data'] = '01-12-2020'"
   ]
  },
  {
   "cell_type": "code",
   "execution_count": 3,
   "id": "ed3259a9",
   "metadata": {
    "ExecuteTime": {
     "end_time": "2021-11-18T13:12:40.496445Z",
     "start_time": "2021-11-18T13:12:38.548425Z"
    }
   },
   "outputs": [],
   "source": [
    "# importacao CAPAG abr/2021\n",
    "c2021 = pd.read_excel('/Users/daianeklein/Documents/Mackenzie/TAC/Data/CAPAG/CAPAGMunicipios-Abr2021.xlsx', engine = 'openpyxl' )\n",
    "c2021 = c2021[['Cod.IBGE', 'CAPAG_Oficial']]\n",
    "c2021 = c2021[c2021['CAPAG_Oficial'] != 'n.d.']\n",
    "\n",
    "c2021 = c2021.rename(columns = ({'Cod.IBGE' : 'cod',\n",
    "                                'CAPAG_Oficial' : 'capag'}))\n",
    "\n",
    "c2021['data'] = '01-04-2021'"
   ]
  },
  {
   "cell_type": "code",
   "execution_count": 4,
   "id": "0e45845b",
   "metadata": {
    "ExecuteTime": {
     "end_time": "2021-11-18T13:12:40.515078Z",
     "start_time": "2021-11-18T13:12:40.500562Z"
    }
   },
   "outputs": [],
   "source": [
    "# merge nos dois dataframes\n",
    "capag = c2020.merge(c2021, how = 'inner', on = 'cod')\n",
    "\n",
    "# renomeando as colunas\n",
    "cols = ['cod_ibge', 'uf', 'capag_2020', 'data_2020', 'capag_2021', 'data_2021']\n",
    "capag.columns = cols"
   ]
  },
  {
   "cell_type": "code",
   "execution_count": 5,
   "id": "20fbb87c",
   "metadata": {
    "ExecuteTime": {
     "end_time": "2021-11-18T13:12:40.545746Z",
     "start_time": "2021-11-18T13:12:40.519284Z"
    }
   },
   "outputs": [
    {
     "data": {
      "text/html": [
       "<div>\n",
       "<style scoped>\n",
       "    .dataframe tbody tr th:only-of-type {\n",
       "        vertical-align: middle;\n",
       "    }\n",
       "\n",
       "    .dataframe tbody tr th {\n",
       "        vertical-align: top;\n",
       "    }\n",
       "\n",
       "    .dataframe thead th {\n",
       "        text-align: right;\n",
       "    }\n",
       "</style>\n",
       "<table border=\"1\" class=\"dataframe\">\n",
       "  <thead>\n",
       "    <tr style=\"text-align: right;\">\n",
       "      <th></th>\n",
       "      <th>cod_ibge</th>\n",
       "      <th>uf</th>\n",
       "      <th>capag_2020</th>\n",
       "      <th>data_2020</th>\n",
       "      <th>capag_2021</th>\n",
       "      <th>data_2021</th>\n",
       "    </tr>\n",
       "  </thead>\n",
       "  <tbody>\n",
       "    <tr>\n",
       "      <th>0</th>\n",
       "      <td>5200050</td>\n",
       "      <td>GO</td>\n",
       "      <td>B</td>\n",
       "      <td>01-12-2020</td>\n",
       "      <td>A</td>\n",
       "      <td>01-04-2021</td>\n",
       "    </tr>\n",
       "    <tr>\n",
       "      <th>1</th>\n",
       "      <td>3100104</td>\n",
       "      <td>MG</td>\n",
       "      <td>B</td>\n",
       "      <td>01-12-2020</td>\n",
       "      <td>A</td>\n",
       "      <td>01-04-2021</td>\n",
       "    </tr>\n",
       "    <tr>\n",
       "      <th>2</th>\n",
       "      <td>5200100</td>\n",
       "      <td>GO</td>\n",
       "      <td>C</td>\n",
       "      <td>01-12-2020</td>\n",
       "      <td>C</td>\n",
       "      <td>01-04-2021</td>\n",
       "    </tr>\n",
       "    <tr>\n",
       "      <th>3</th>\n",
       "      <td>3100203</td>\n",
       "      <td>MG</td>\n",
       "      <td>B</td>\n",
       "      <td>01-12-2020</td>\n",
       "      <td>A</td>\n",
       "      <td>01-04-2021</td>\n",
       "    </tr>\n",
       "    <tr>\n",
       "      <th>4</th>\n",
       "      <td>1500107</td>\n",
       "      <td>PA</td>\n",
       "      <td>C</td>\n",
       "      <td>01-12-2020</td>\n",
       "      <td>C</td>\n",
       "      <td>01-04-2021</td>\n",
       "    </tr>\n",
       "  </tbody>\n",
       "</table>\n",
       "</div>"
      ],
      "text/plain": [
       "   cod_ibge  uf capag_2020   data_2020 capag_2021   data_2021\n",
       "0   5200050  GO          B  01-12-2020          A  01-04-2021\n",
       "1   3100104  MG          B  01-12-2020          A  01-04-2021\n",
       "2   5200100  GO          C  01-12-2020          C  01-04-2021\n",
       "3   3100203  MG          B  01-12-2020          A  01-04-2021\n",
       "4   1500107  PA          C  01-12-2020          C  01-04-2021"
      ]
     },
     "execution_count": 5,
     "metadata": {},
     "output_type": "execute_result"
    }
   ],
   "source": [
    "# resultado final\n",
    "capag.head()"
   ]
  },
  {
   "cell_type": "code",
   "execution_count": 6,
   "id": "fa03ca4b",
   "metadata": {
    "ExecuteTime": {
     "end_time": "2021-11-18T13:12:40.555463Z",
     "start_time": "2021-11-18T13:12:40.548639Z"
    }
   },
   "outputs": [
    {
     "data": {
      "text/plain": [
       "(3668, 6)"
      ]
     },
     "execution_count": 6,
     "metadata": {},
     "output_type": "execute_result"
    }
   ],
   "source": [
    "capag.shape"
   ]
  },
  {
   "cell_type": "code",
   "execution_count": 7,
   "id": "fd1a60b6",
   "metadata": {
    "ExecuteTime": {
     "end_time": "2021-11-18T13:12:40.569929Z",
     "start_time": "2021-11-18T13:12:40.561999Z"
    }
   },
   "outputs": [
    {
     "data": {
      "text/plain": [
       "0.6585278276481149"
      ]
     },
     "execution_count": 7,
     "metadata": {},
     "output_type": "execute_result"
    }
   ],
   "source": [
    "3668 / 5570"
   ]
  },
  {
   "cell_type": "markdown",
   "id": "3722093b",
   "metadata": {},
   "source": [
    "# DATA ANALYSIS"
   ]
  },
  {
   "cell_type": "code",
   "execution_count": 49,
   "id": "b75cc850",
   "metadata": {
    "ExecuteTime": {
     "end_time": "2021-11-18T13:29:18.870474Z",
     "start_time": "2021-11-18T13:29:18.840088Z"
    }
   },
   "outputs": [],
   "source": [
    "def plotar_grafico():\n",
    "    sns.set_style(\"whitegrid\")\n",
    "    \n",
    "    df1 = pd.DataFrame(capag['capag_2020'].value_counts()).reset_index()\n",
    "    df2 = pd.DataFrame(capag['capag_2021'].value_counts()).reset_index()\n",
    "    \n",
    "    plt.figure(figsize = (18, 5))\n",
    "    plt.subplot(1, 2, 1)\n",
    "    ax = sns.barplot(data = df1, x = 'index', y = 'capag_2020', color = 'steelblue');\n",
    "    plt.title('CAPAG 2020 - Quantidade de Municípios por Nota', fontsize = 12, weight = 'semibold', pad = 20);\n",
    "    plt.ylabel('Quantidade');\n",
    "    plt.xlabel('Nota');\n",
    "    \n",
    "    plt.bar_label(ax.containers[0], label_type='center', color = 'white', fontsize = 13,  fmt='%.0f');\n",
    "\n",
    "    plt.subplot(1, 2, 2)\n",
    "    ax2 = sns.barplot(data = df2, x = 'index', y = 'capag_2021', color = 'steelblue');\n",
    "    plt.title('CAPAG 2021 - Quantidade de Municípios por Nota', fontsize = 12, weight = 'semibold', pad = 20);\n",
    "    plt.ylabel('Quantidade');\n",
    "    plt.xlabel('Nota');\n",
    "    \n",
    "    plt.bar_label(ax2.containers[0], label_type='center', color = 'white', fontsize = 13,  fmt='%.0f');\n"
   ]
  },
  {
   "cell_type": "code",
   "execution_count": 50,
   "id": "20eef0fd",
   "metadata": {
    "ExecuteTime": {
     "end_time": "2021-11-18T13:29:19.559310Z",
     "start_time": "2021-11-18T13:29:19.055419Z"
    }
   },
   "outputs": [
    {
     "data": {
      "image/png": "[encoded data removed]",
      "text/plain": [
       "<Figure size 1296x360 with 2 Axes>"
      ]
     },
     "metadata": {},
     "output_type": "display_data"
    }
   ],
   "source": [
    "plotar_grafico()"
   ]
  },
  {
   "cell_type": "code",
   "execution_count": 56,
   "id": "785c674f",
   "metadata": {
    "ExecuteTime": {
     "end_time": "2021-11-18T13:30:18.003292Z",
     "start_time": "2021-11-18T13:30:17.986946Z"
    }
   },
   "outputs": [
    {
     "data": {
      "text/html": [
       "<div>\n",
       "<style scoped>\n",
       "    .dataframe tbody tr th:only-of-type {\n",
       "        vertical-align: middle;\n",
       "    }\n",
       "\n",
       "    .dataframe tbody tr th {\n",
       "        vertical-align: top;\n",
       "    }\n",
       "\n",
       "    .dataframe thead th {\n",
       "        text-align: right;\n",
       "    }\n",
       "</style>\n",
       "<table border=\"1\" class=\"dataframe\">\n",
       "  <thead>\n",
       "    <tr style=\"text-align: right;\">\n",
       "      <th></th>\n",
       "      <th>capag_2020</th>\n",
       "    </tr>\n",
       "  </thead>\n",
       "  <tbody>\n",
       "    <tr>\n",
       "      <th>C</th>\n",
       "      <td>61.177754</td>\n",
       "    </tr>\n",
       "    <tr>\n",
       "      <th>B</th>\n",
       "      <td>20.910578</td>\n",
       "    </tr>\n",
       "    <tr>\n",
       "      <th>A</th>\n",
       "      <td>17.611778</td>\n",
       "    </tr>\n",
       "    <tr>\n",
       "      <th>D</th>\n",
       "      <td>0.299891</td>\n",
       "    </tr>\n",
       "  </tbody>\n",
       "</table>\n",
       "</div>"
      ],
      "text/plain": [
       "   capag_2020\n",
       "C   61.177754\n",
       "B   20.910578\n",
       "A   17.611778\n",
       "D    0.299891"
      ]
     },
     "execution_count": 56,
     "metadata": {},
     "output_type": "execute_result"
    }
   ],
   "source": [
    "pd.DataFrame(capag['capag_2020'].value_counts(normalize = True) * 100)"
   ]
  },
  {
   "cell_type": "code",
   "execution_count": 57,
   "id": "13615728",
   "metadata": {
    "ExecuteTime": {
     "end_time": "2021-11-18T13:30:18.196967Z",
     "start_time": "2021-11-18T13:30:18.182361Z"
    }
   },
   "outputs": [
    {
     "data": {
      "text/html": [
       "<div>\n",
       "<style scoped>\n",
       "    .dataframe tbody tr th:only-of-type {\n",
       "        vertical-align: middle;\n",
       "    }\n",
       "\n",
       "    .dataframe tbody tr th {\n",
       "        vertical-align: top;\n",
       "    }\n",
       "\n",
       "    .dataframe thead th {\n",
       "        text-align: right;\n",
       "    }\n",
       "</style>\n",
       "<table border=\"1\" class=\"dataframe\">\n",
       "  <thead>\n",
       "    <tr style=\"text-align: right;\">\n",
       "      <th></th>\n",
       "      <th>capag_2021</th>\n",
       "    </tr>\n",
       "  </thead>\n",
       "  <tbody>\n",
       "    <tr>\n",
       "      <th>C</th>\n",
       "      <td>50.490731</td>\n",
       "    </tr>\n",
       "    <tr>\n",
       "      <th>A</th>\n",
       "      <td>28.353326</td>\n",
       "    </tr>\n",
       "    <tr>\n",
       "      <th>B</th>\n",
       "      <td>20.992366</td>\n",
       "    </tr>\n",
       "    <tr>\n",
       "      <th>D</th>\n",
       "      <td>0.163577</td>\n",
       "    </tr>\n",
       "  </tbody>\n",
       "</table>\n",
       "</div>"
      ],
      "text/plain": [
       "   capag_2021\n",
       "C   50.490731\n",
       "A   28.353326\n",
       "B   20.992366\n",
       "D    0.163577"
      ]
     },
     "execution_count": 57,
     "metadata": {},
     "output_type": "execute_result"
    }
   ],
   "source": [
    "pd.DataFrame(capag['capag_2021'].value_counts(normalize = True) * 100)"
   ]
  },
  {
   "cell_type": "code",
   "execution_count": 61,
   "id": "768ff933",
   "metadata": {
    "ExecuteTime": {
     "end_time": "2021-11-18T14:47:26.329349Z",
     "start_time": "2021-11-18T14:47:26.318566Z"
    }
   },
   "outputs": [],
   "source": []
  },
  {
   "cell_type": "code",
   "execution_count": 79,
   "id": "18e53de8",
   "metadata": {
    "ExecuteTime": {
     "end_time": "2021-11-18T14:52:37.790615Z",
     "start_time": "2021-11-18T14:52:37.472349Z"
    }
   },
   "outputs": [
    {
     "data": {
      "image/png": "[encoded data removed]",
      "text/plain": [
       "<Figure size 1296x360 with 1 Axes>"
      ]
     },
     "metadata": {},
     "output_type": "display_data"
    }
   ],
   "source": [
    "def plotar_grafico():\n",
    "    sns.set_style(\"whitegrid\")\n",
    "    \n",
    "    aux = capag[['cod_ibge', 'capag_2020', 'capag_2021']]\n",
    "    aux = pd.melt(aux, id_vars = 'cod_ibge')\n",
    "    aux = aux.groupby(['variable', 'value'], as_index = False).count()\n",
    "    \n",
    "    plt.figure(figsize = (18, 5))\n",
    "    plt.subplot(1, 2, 1)\n",
    "    ax = sns.barplot(data = aux, x = 'value', y = 'cod_ibge',hue = 'variable', palette = 'Blues');\n",
    "    plt.title('CAPAG - Quantidade de Municípios por Nota', fontsize = 12, weight = 'semibold', pad = 20);\n",
    "    plt.bar_label(ax.containers[0], label_type='center', color = 'white', fontsize = 13,  fmt='%.0f');\n",
    "    plt.bar_label(ax.containers[1], label_type='center', color = 'white', fontsize = 13,  fmt='%.0f');\n",
    "    plt.ylabel('Quantidade');\n",
    "    plt.xlabel('Nota');\n",
    "\n",
    "plotar_grafico()"
   ]
  },
  {
   "cell_type": "code",
   "execution_count": null,
   "id": "7d1aba40",
   "metadata": {},
   "outputs": [],
   "source": []
  }
 ],
 "metadata": {
  "kernelspec": {
   "display_name": "ds-projects",
   "language": "python",
   "name": "ds-projects"
  },
  "language_info": {
   "codemirror_mode": {
    "name": "ipython",
    "version": 3
   },
   "file_extension": ".py",
   "mimetype": "text/x-python",
   "name": "python",
   "nbconvert_exporter": "python",
   "pygments_lexer": "ipython3",
   "version": "3.9.7"
  },
  "toc": {
   "base_numbering": 1,
   "nav_menu": {},
   "number_sections": true,
   "sideBar": true,
   "skip_h1_title": false,
   "title_cell": "Table of Contents",
   "title_sidebar": "Contents",
   "toc_cell": false,
   "toc_position": {},
   "toc_section_display": true,
   "toc_window_display": false
  }
 },
 "nbformat": 4,
 "nbformat_minor": 5
}
