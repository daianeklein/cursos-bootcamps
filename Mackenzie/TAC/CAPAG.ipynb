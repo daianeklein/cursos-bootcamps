{
 "cells": [
  {
   "cell_type": "markdown",
   "id": "34c5015d",
   "metadata": {},
   "source": [
    "# CAPAG"
   ]
  },
  {
   "cell_type": "code",
   "execution_count": 2,
   "id": "572aa082",
   "metadata": {
    "ExecuteTime": {
     "end_time": "2021-11-25T22:00:30.305717Z",
     "start_time": "2021-11-25T22:00:30.300487Z"
    }
   },
   "outputs": [],
   "source": [
    "import pandas as pd\n",
    "import matplotlib.pyplot as plt\n",
    "import seaborn as sns\n",
    "import numpy as np\n",
    "\n",
    "%matplotlib inline"
   ]
  },
  {
   "cell_type": "code",
   "execution_count": 3,
   "id": "cf162c11",
   "metadata": {
    "ExecuteTime": {
     "end_time": "2021-11-25T22:00:30.356942Z",
     "start_time": "2021-11-25T22:00:30.309836Z"
    }
   },
   "outputs": [],
   "source": [
    "# importacao CAPAG dez/2020\n",
    "c2020 = pd.read_csv('/Users/daianeklein/Documents/Mackenzie/TAC/Data/CAPAG/CAPAG-Municipios-Dez2020.csv', sep = ';')\n",
    "c2020 = c2020[['Cod.IBGE', 'UF', 'Classificação da CAPAG']]\n",
    "c2020 = c2020[c2020['Classificação da CAPAG'] != 'n.d.']\n",
    "c2020 = c2020.rename(columns = ({'Cod.IBGE' : 'cod',\n",
    "                                'Classificação da CAPAG' : 'capag'}))\n",
    "c2020['data'] = '01-12-2020'"
   ]
  },
  {
   "cell_type": "code",
   "execution_count": 4,
   "id": "ed3259a9",
   "metadata": {
    "ExecuteTime": {
     "end_time": "2021-11-25T22:00:32.359005Z",
     "start_time": "2021-11-25T22:00:30.360694Z"
    }
   },
   "outputs": [],
   "source": [
    "# importacao CAPAG abr/2021\n",
    "c2021 = pd.read_excel('/Users/daianeklein/Documents/Mackenzie/TAC/Data/CAPAG/CAPAGMunicipios-Abr2021.xlsx', engine = 'openpyxl' )\n",
    "c2021 = c2021[['Cod.IBGE', 'CAPAG_Oficial']]\n",
    "c2021 = c2021[c2021['CAPAG_Oficial'] != 'n.d.']\n",
    "\n",
    "c2021 = c2021.rename(columns = ({'Cod.IBGE' : 'cod',\n",
    "                                'CAPAG_Oficial' : 'capag'}))\n",
    "\n",
    "c2021['data'] = '01-04-2021'"
   ]
  },
  {
   "cell_type": "code",
   "execution_count": 5,
   "id": "0e45845b",
   "metadata": {
    "ExecuteTime": {
     "end_time": "2021-11-25T22:00:32.378471Z",
     "start_time": "2021-11-25T22:00:32.361392Z"
    }
   },
   "outputs": [],
   "source": [
    "# merge nos dois dataframes\n",
    "capag = c2020.merge(c2021, how = 'inner', on = 'cod')\n",
    "\n",
    "# renomeando as colunas\n",
    "cols = ['cod_ibge', 'uf', 'capag_2020', 'data_2020', 'capag_2021', 'data_2021']\n",
    "capag.columns = cols"
   ]
  },
  {
   "cell_type": "code",
   "execution_count": 6,
   "id": "20fbb87c",
   "metadata": {
    "ExecuteTime": {
     "end_time": "2021-11-25T22:00:32.436127Z",
     "start_time": "2021-11-25T22:00:32.389299Z"
    }
   },
   "outputs": [
    {
     "data": {
      "text/html": [
       "<div>\n",
       "<style scoped>\n",
       "    .dataframe tbody tr th:only-of-type {\n",
       "        vertical-align: middle;\n",
       "    }\n",
       "\n",
       "    .dataframe tbody tr th {\n",
       "        vertical-align: top;\n",
       "    }\n",
       "\n",
       "    .dataframe thead th {\n",
       "        text-align: right;\n",
       "    }\n",
       "</style>\n",
       "<table border=\"1\" class=\"dataframe\">\n",
       "  <thead>\n",
       "    <tr style=\"text-align: right;\">\n",
       "      <th></th>\n",
       "      <th>cod_ibge</th>\n",
       "      <th>uf</th>\n",
       "      <th>capag_2020</th>\n",
       "      <th>data_2020</th>\n",
       "      <th>capag_2021</th>\n",
       "      <th>data_2021</th>\n",
       "    </tr>\n",
       "  </thead>\n",
       "  <tbody>\n",
       "    <tr>\n",
       "      <th>0</th>\n",
       "      <td>5200050</td>\n",
       "      <td>GO</td>\n",
       "      <td>B</td>\n",
       "      <td>01-12-2020</td>\n",
       "      <td>A</td>\n",
       "      <td>01-04-2021</td>\n",
       "    </tr>\n",
       "    <tr>\n",
       "      <th>1</th>\n",
       "      <td>3100104</td>\n",
       "      <td>MG</td>\n",
       "      <td>B</td>\n",
       "      <td>01-12-2020</td>\n",
       "      <td>A</td>\n",
       "      <td>01-04-2021</td>\n",
       "    </tr>\n",
       "    <tr>\n",
       "      <th>2</th>\n",
       "      <td>5200100</td>\n",
       "      <td>GO</td>\n",
       "      <td>C</td>\n",
       "      <td>01-12-2020</td>\n",
       "      <td>C</td>\n",
       "      <td>01-04-2021</td>\n",
       "    </tr>\n",
       "    <tr>\n",
       "      <th>3</th>\n",
       "      <td>3100203</td>\n",
       "      <td>MG</td>\n",
       "      <td>B</td>\n",
       "      <td>01-12-2020</td>\n",
       "      <td>A</td>\n",
       "      <td>01-04-2021</td>\n",
       "    </tr>\n",
       "    <tr>\n",
       "      <th>4</th>\n",
       "      <td>1500107</td>\n",
       "      <td>PA</td>\n",
       "      <td>C</td>\n",
       "      <td>01-12-2020</td>\n",
       "      <td>C</td>\n",
       "      <td>01-04-2021</td>\n",
       "    </tr>\n",
       "  </tbody>\n",
       "</table>\n",
       "</div>"
      ],
      "text/plain": [
       "   cod_ibge  uf capag_2020   data_2020 capag_2021   data_2021\n",
       "0   5200050  GO          B  01-12-2020          A  01-04-2021\n",
       "1   3100104  MG          B  01-12-2020          A  01-04-2021\n",
       "2   5200100  GO          C  01-12-2020          C  01-04-2021\n",
       "3   3100203  MG          B  01-12-2020          A  01-04-2021\n",
       "4   1500107  PA          C  01-12-2020          C  01-04-2021"
      ]
     },
     "execution_count": 6,
     "metadata": {},
     "output_type": "execute_result"
    }
   ],
   "source": [
    "# resultado final\n",
    "capag.head()"
   ]
  },
  {
   "cell_type": "code",
   "execution_count": 7,
   "id": "fa03ca4b",
   "metadata": {
    "ExecuteTime": {
     "end_time": "2021-11-25T22:00:32.505376Z",
     "start_time": "2021-11-25T22:00:32.445841Z"
    }
   },
   "outputs": [
    {
     "data": {
      "text/plain": [
       "(3668, 6)"
      ]
     },
     "execution_count": 7,
     "metadata": {},
     "output_type": "execute_result"
    }
   ],
   "source": [
    "capag.shape"
   ]
  },
  {
   "cell_type": "code",
   "execution_count": 8,
   "id": "fd1a60b6",
   "metadata": {
    "ExecuteTime": {
     "end_time": "2021-11-25T22:00:32.548457Z",
     "start_time": "2021-11-25T22:00:32.537420Z"
    }
   },
   "outputs": [
    {
     "data": {
      "text/plain": [
       "0.6585278276481149"
      ]
     },
     "execution_count": 8,
     "metadata": {},
     "output_type": "execute_result"
    }
   ],
   "source": [
    "3668 / 5570"
   ]
  },
  {
   "cell_type": "markdown",
   "id": "23c0b8fe",
   "metadata": {},
   "source": [
    "# DATA ANALYSIS"
   ]
  },
  {
   "cell_type": "code",
   "execution_count": 9,
   "id": "272ed5ff",
   "metadata": {
    "ExecuteTime": {
     "end_time": "2021-11-25T22:00:32.589932Z",
     "start_time": "2021-11-25T22:00:32.557013Z"
    }
   },
   "outputs": [
    {
     "data": {
      "text/html": [
       "<div>\n",
       "<style scoped>\n",
       "    .dataframe tbody tr th:only-of-type {\n",
       "        vertical-align: middle;\n",
       "    }\n",
       "\n",
       "    .dataframe tbody tr th {\n",
       "        vertical-align: top;\n",
       "    }\n",
       "\n",
       "    .dataframe thead th {\n",
       "        text-align: right;\n",
       "    }\n",
       "</style>\n",
       "<table border=\"1\" class=\"dataframe\">\n",
       "  <thead>\n",
       "    <tr style=\"text-align: right;\">\n",
       "      <th></th>\n",
       "      <th>capag_2020</th>\n",
       "    </tr>\n",
       "  </thead>\n",
       "  <tbody>\n",
       "    <tr>\n",
       "      <th>C</th>\n",
       "      <td>61.177754</td>\n",
       "    </tr>\n",
       "    <tr>\n",
       "      <th>B</th>\n",
       "      <td>20.910578</td>\n",
       "    </tr>\n",
       "    <tr>\n",
       "      <th>A</th>\n",
       "      <td>17.611778</td>\n",
       "    </tr>\n",
       "    <tr>\n",
       "      <th>D</th>\n",
       "      <td>0.299891</td>\n",
       "    </tr>\n",
       "  </tbody>\n",
       "</table>\n",
       "</div>"
      ],
      "text/plain": [
       "   capag_2020\n",
       "C   61.177754\n",
       "B   20.910578\n",
       "A   17.611778\n",
       "D    0.299891"
      ]
     },
     "execution_count": 9,
     "metadata": {},
     "output_type": "execute_result"
    }
   ],
   "source": [
    "pd.DataFrame(capag['capag_2020'].value_counts(normalize = True) * 100)"
   ]
  },
  {
   "cell_type": "code",
   "execution_count": 10,
   "id": "5ece0def",
   "metadata": {
    "ExecuteTime": {
     "end_time": "2021-11-25T22:00:32.641063Z",
     "start_time": "2021-11-25T22:00:32.594989Z"
    }
   },
   "outputs": [
    {
     "data": {
      "text/html": [
       "<div>\n",
       "<style scoped>\n",
       "    .dataframe tbody tr th:only-of-type {\n",
       "        vertical-align: middle;\n",
       "    }\n",
       "\n",
       "    .dataframe tbody tr th {\n",
       "        vertical-align: top;\n",
       "    }\n",
       "\n",
       "    .dataframe thead th {\n",
       "        text-align: right;\n",
       "    }\n",
       "</style>\n",
       "<table border=\"1\" class=\"dataframe\">\n",
       "  <thead>\n",
       "    <tr style=\"text-align: right;\">\n",
       "      <th></th>\n",
       "      <th>capag_2021</th>\n",
       "    </tr>\n",
       "  </thead>\n",
       "  <tbody>\n",
       "    <tr>\n",
       "      <th>C</th>\n",
       "      <td>50.490731</td>\n",
       "    </tr>\n",
       "    <tr>\n",
       "      <th>A</th>\n",
       "      <td>28.353326</td>\n",
       "    </tr>\n",
       "    <tr>\n",
       "      <th>B</th>\n",
       "      <td>20.992366</td>\n",
       "    </tr>\n",
       "    <tr>\n",
       "      <th>D</th>\n",
       "      <td>0.163577</td>\n",
       "    </tr>\n",
       "  </tbody>\n",
       "</table>\n",
       "</div>"
      ],
      "text/plain": [
       "   capag_2021\n",
       "C   50.490731\n",
       "A   28.353326\n",
       "B   20.992366\n",
       "D    0.163577"
      ]
     },
     "execution_count": 10,
     "metadata": {},
     "output_type": "execute_result"
    }
   ],
   "source": [
    "pd.DataFrame(capag['capag_2021'].value_counts(normalize = True) * 100)"
   ]
  },
  {
   "cell_type": "code",
   "execution_count": null,
   "id": "4c2e8e8a",
   "metadata": {
    "ExecuteTime": {
     "end_time": "2021-11-18T14:47:26.329349Z",
     "start_time": "2021-11-18T14:47:26.318566Z"
    }
   },
   "outputs": [],
   "source": []
  },
  {
   "cell_type": "code",
   "execution_count": 11,
   "id": "2d81071b",
   "metadata": {
    "ExecuteTime": {
     "end_time": "2021-11-25T22:00:33.018730Z",
     "start_time": "2021-11-25T22:00:32.650472Z"
    }
   },
   "outputs": [
    {
     "data": {
      "image/png": "[encoded data removed]",
      "text/plain": [
       "<Figure size 864x288 with 1 Axes>"
      ]
     },
     "metadata": {
      "needs_background": "light"
     },
     "output_type": "display_data"
    }
   ],
   "source": [
    "def plotar_grafico():\n",
    "    palette = sns.set_palette(['#909090', '#D8D8D8'])\n",
    "    \n",
    "    aux = capag[['cod_ibge', 'capag_2020', 'capag_2021']]\n",
    "    aux = pd.melt(aux, id_vars = 'cod_ibge')\n",
    "    aux = aux.groupby(['variable', 'value'], as_index = False).count()\n",
    "    \n",
    "    plt.figure(figsize = (12, 4))\n",
    "    ax = sns.barplot(data = aux, x = 'value', y = 'cod_ibge',hue = 'variable',  palette = palette);\n",
    "    plt.bar_label(ax.containers[0], label_type='center', color = 'black', fontsize = 13,  fmt='%.0f');\n",
    "    plt.bar_label(ax.containers[1], label_type='center', color = 'black', fontsize = 13,  fmt='%.0f');\n",
    "    ax.legend(loc = 'upper right', bbox_to_anchor =(1, 1.10), ncol = 3, fancybox = True, shadow = True, \n",
    "                  fontsize = 13);\n",
    "    plt.ylabel('Quantidade de Municípios', fontsize = 14);\n",
    "    plt.xlabel('Nota', fontsize = 14);\n",
    "\n",
    "plotar_grafico()"
   ]
  },
  {
   "cell_type": "markdown",
   "id": "08389dca",
   "metadata": {},
   "source": [
    "# CAPAG x SICONFI"
   ]
  },
  {
   "cell_type": "code",
   "execution_count": 12,
   "id": "734ff501",
   "metadata": {
    "ExecuteTime": {
     "end_time": "2021-11-25T22:00:34.659026Z",
     "start_time": "2021-11-25T22:00:33.027429Z"
    },
    "scrolled": true
   },
   "outputs": [
    {
     "name": "stderr",
     "output_type": "stream",
     "text": [
      "/Users/daianeklein/miniconda3/envs/ds-projects/lib/python3.9/site-packages/IPython/core/interactiveshell.py:3441: FutureWarning: The error_bad_lines argument has been deprecated and will be removed in a future version.\n",
      "\n",
      "\n",
      "  exec(code_obj, self.user_global_ns, self.user_ns)\n",
      "/Users/daianeklein/miniconda3/envs/ds-projects/lib/python3.9/site-packages/IPython/core/interactiveshell.py:3441: FutureWarning: The warn_bad_lines argument has been deprecated and will be removed in a future version.\n",
      "\n",
      "\n",
      "  exec(code_obj, self.user_global_ns, self.user_ns)\n"
     ]
    }
   ],
   "source": [
    "siconfi = pd.read_csv('/Users/daianeklein/Documents/Mackenzie/TAC/Data/SICONFI/finbra.csv', encoding = 'latin-1',\n",
    "                skiprows = 3,error_bad_lines=False, warn_bad_lines = False, sep = ';', decimal = ',', thousands = '.')"
   ]
  },
  {
   "cell_type": "code",
   "execution_count": 13,
   "id": "a6793b16",
   "metadata": {
    "ExecuteTime": {
     "end_time": "2021-11-25T22:00:36.367777Z",
     "start_time": "2021-11-25T22:00:34.661441Z"
    }
   },
   "outputs": [],
   "source": [
    "# importacao CAPAG abr/2021\n",
    "capag = pd.read_excel('/Users/daianeklein/Documents/Mackenzie/TAC/Data/CAPAG/CAPAGMunicipios-Abr2021.xlsx', engine = 'openpyxl' )\n",
    "capag = capag[['Cod.IBGE', 'CAPAG_Oficial', 'População']]\n",
    "capag = capag[capag['CAPAG_Oficial'] != 'n.d.']\n",
    "\n",
    "capag = capag.rename(columns = ({'CAPAG_Oficial' : 'capag'}))\n",
    "\n"
   ]
  },
  {
   "cell_type": "code",
   "execution_count": 14,
   "id": "117e29ff",
   "metadata": {
    "ExecuteTime": {
     "end_time": "2021-11-25T22:00:36.548694Z",
     "start_time": "2021-11-25T22:00:36.371313Z"
    }
   },
   "outputs": [],
   "source": [
    "siconfi = siconfi[siconfi['Coluna'] == 'Despesas Pagas']\n",
    "siconfi = siconfi[siconfi['Conta'] == '12 - Educação']\n",
    "siconfi = siconfi[['Cod.IBGE', 'Valor']]\n",
    "\n",
    "siconfi = siconfi.rename(columns = ({'Valor' : 'siconfi'}))"
   ]
  },
  {
   "cell_type": "code",
   "execution_count": null,
   "id": "f6be2385",
   "metadata": {
    "ExecuteTime": {
     "end_time": "2021-11-24T21:21:51.219869Z",
     "start_time": "2021-11-24T21:21:51.215111Z"
    },
    "scrolled": true
   },
   "outputs": [],
   "source": []
  },
  {
   "cell_type": "code",
   "execution_count": 15,
   "id": "10f33cf5",
   "metadata": {
    "ExecuteTime": {
     "end_time": "2021-11-25T22:00:36.596606Z",
     "start_time": "2021-11-25T22:00:36.551740Z"
    }
   },
   "outputs": [
    {
     "data": {
      "text/html": [
       "<div>\n",
       "<style scoped>\n",
       "    .dataframe tbody tr th:only-of-type {\n",
       "        vertical-align: middle;\n",
       "    }\n",
       "\n",
       "    .dataframe tbody tr th {\n",
       "        vertical-align: top;\n",
       "    }\n",
       "\n",
       "    .dataframe thead th {\n",
       "        text-align: right;\n",
       "    }\n",
       "</style>\n",
       "<table border=\"1\" class=\"dataframe\">\n",
       "  <thead>\n",
       "    <tr style=\"text-align: right;\">\n",
       "      <th></th>\n",
       "      <th>Cod.IBGE</th>\n",
       "      <th>capag</th>\n",
       "      <th>População</th>\n",
       "      <th>siconfi</th>\n",
       "    </tr>\n",
       "  </thead>\n",
       "  <tbody>\n",
       "    <tr>\n",
       "      <th>0</th>\n",
       "      <td>5200050</td>\n",
       "      <td>A</td>\n",
       "      <td>8773.0</td>\n",
       "      <td>1.415498e+07</td>\n",
       "    </tr>\n",
       "    <tr>\n",
       "      <th>1</th>\n",
       "      <td>3100104</td>\n",
       "      <td>A</td>\n",
       "      <td>6989.0</td>\n",
       "      <td>5.365913e+06</td>\n",
       "    </tr>\n",
       "    <tr>\n",
       "      <th>2</th>\n",
       "      <td>5200100</td>\n",
       "      <td>C</td>\n",
       "      <td>20042.0</td>\n",
       "      <td>9.279337e+06</td>\n",
       "    </tr>\n",
       "    <tr>\n",
       "      <th>3</th>\n",
       "      <td>3100203</td>\n",
       "      <td>A</td>\n",
       "      <td>23237.0</td>\n",
       "      <td>1.092761e+07</td>\n",
       "    </tr>\n",
       "    <tr>\n",
       "      <th>4</th>\n",
       "      <td>1500107</td>\n",
       "      <td>C</td>\n",
       "      <td>156292.0</td>\n",
       "      <td>1.120977e+08</td>\n",
       "    </tr>\n",
       "  </tbody>\n",
       "</table>\n",
       "</div>"
      ],
      "text/plain": [
       "   Cod.IBGE capag  População       siconfi\n",
       "0   5200050     A     8773.0  1.415498e+07\n",
       "1   3100104     A     6989.0  5.365913e+06\n",
       "2   5200100     C    20042.0  9.279337e+06\n",
       "3   3100203     A    23237.0  1.092761e+07\n",
       "4   1500107     C   156292.0  1.120977e+08"
      ]
     },
     "execution_count": 15,
     "metadata": {},
     "output_type": "execute_result"
    }
   ],
   "source": [
    "df = capag.merge(siconfi, how = 'inner', on ='Cod.IBGE')\n",
    "df.head()"
   ]
  },
  {
   "cell_type": "code",
   "execution_count": 16,
   "id": "333d19a3",
   "metadata": {
    "ExecuteTime": {
     "end_time": "2021-11-25T22:00:36.975238Z",
     "start_time": "2021-11-25T22:00:36.605163Z"
    }
   },
   "outputs": [],
   "source": [
    "df['invest_medio'] = df[['População', 'siconfi']].apply(lambda x: round(x['siconfi'] / x['População'], 0), axis = 1)\n",
    "\n"
   ]
  },
  {
   "cell_type": "markdown",
   "id": "4b5c6c99",
   "metadata": {},
   "source": [
    "# SAEB"
   ]
  },
  {
   "cell_type": "code",
   "execution_count": 17,
   "id": "0560b2a3",
   "metadata": {
    "ExecuteTime": {
     "end_time": "2021-11-25T22:00:36.999172Z",
     "start_time": "2021-11-25T22:00:36.979669Z"
    }
   },
   "outputs": [],
   "source": [
    "saeb = pd.read_csv('/Users/daianeklein/Documents/Mackenzie/TAC/Data/SAEB/microdados_saeb_2015/PLANILHAS DE RESULTADOS/saeb.csv',\n",
    "                  sep = ';')\n"
   ]
  },
  {
   "cell_type": "code",
   "execution_count": 18,
   "id": "25ad4b11",
   "metadata": {
    "ExecuteTime": {
     "end_time": "2021-11-25T22:00:37.275737Z",
     "start_time": "2021-11-25T22:00:37.005749Z"
    }
   },
   "outputs": [],
   "source": [
    "saeb['saeb'] = saeb[['LP', 'MT']].apply(lambda x: round((x['LP'] + x['MT']) / 2, 0), axis = 1)\n",
    "saeb = saeb.rename(columns = ({'CO_MUNICIPIO' : 'Cod.IBGE'}))"
   ]
  },
  {
   "cell_type": "code",
   "execution_count": 19,
   "id": "b057ce97",
   "metadata": {
    "ExecuteTime": {
     "end_time": "2021-11-25T22:00:37.290351Z",
     "start_time": "2021-11-25T22:00:37.278140Z"
    }
   },
   "outputs": [],
   "source": [
    "df = df.merge(saeb[['Cod.IBGE', 'saeb']], how = 'inner', on = 'Cod.IBGE')"
   ]
  },
  {
   "cell_type": "code",
   "execution_count": 20,
   "id": "59df1e81",
   "metadata": {
    "ExecuteTime": {
     "end_time": "2021-11-25T22:00:37.299642Z",
     "start_time": "2021-11-25T22:00:37.293267Z"
    }
   },
   "outputs": [],
   "source": [
    "capag_dict = {'A' : 1,\n",
    "             'B' : 2,\n",
    "             'C' : 3,\n",
    "             'D' : 4}\n",
    "\n",
    "df['capag'] = df['capag'].map(capag_dict)"
   ]
  },
  {
   "cell_type": "code",
   "execution_count": 21,
   "id": "a26dbad4",
   "metadata": {
    "ExecuteTime": {
     "end_time": "2021-11-25T22:00:37.312410Z",
     "start_time": "2021-11-25T22:00:37.303686Z"
    }
   },
   "outputs": [],
   "source": [
    "capag_dict = {1:'A',\n",
    "             2:'B',\n",
    "             3:'C' ,\n",
    "             4:'D' }\n",
    "\n",
    "df['capag'] = df['capag'].map(capag_dict)"
   ]
  },
  {
   "cell_type": "code",
   "execution_count": 22,
   "id": "8c23af51",
   "metadata": {
    "ExecuteTime": {
     "end_time": "2021-11-25T22:00:37.711214Z",
     "start_time": "2021-11-25T22:00:37.315781Z"
    }
   },
   "outputs": [
    {
     "data": {
      "image/png": "[encoded data removed]",
      "text/plain": [
       "<Figure size 576x360 with 1 Axes>"
      ]
     },
     "metadata": {
      "needs_background": "light"
     },
     "output_type": "display_data"
    }
   ],
   "source": [
    "plt.figure(figsize = (8, 5))\n",
    "\n",
    "sns.set_style(\"whitegrid\")\n",
    "order = ['A', 'B', 'C', 'D']\n",
    "sns.boxplot(data = df, x = 'capag', y = 'saeb', color = 'grey', order = order);\n",
    "plt.xticks(fontsize = 14);\n",
    "plt.yticks(fontsize = 14);\n",
    "plt.ylabel('Desempenho SAEB');\n",
    "plt.xlabel('Capacidade de Pagamento - CEPAG');"
   ]
  },
  {
   "cell_type": "code",
   "execution_count": 23,
   "id": "91fa40f6",
   "metadata": {
    "ExecuteTime": {
     "end_time": "2021-11-25T22:00:38.341731Z",
     "start_time": "2021-11-25T22:00:37.714210Z"
    }
   },
   "outputs": [
    {
     "data": {
      "image/png": "[encoded data removed]",
      "text/plain": [
       "<Figure size 720x360 with 1 Axes>"
      ]
     },
     "metadata": {},
     "output_type": "display_data"
    }
   ],
   "source": [
    "#tabela de frequência\n",
    "tamanho = len(df['invest_medio']) /3\n",
    "k = int((1 + ((10/3) * np.log10(tamanho))))\n",
    "df['classe_invest_medio'] = pd.cut( x = df['invest_medio'], bins = k, include_lowest= False)\n",
    "\n",
    "df = df.sort_values(by='classe_invest_medio')\n",
    "\n",
    "plt.figure(figsize = (10, 5))\n",
    "\n",
    "sns.set_style(\"whitegrid\")\n",
    "sns.boxplot(data = df, x = 'classe_invest_medio', y = 'saeb', color = 'grey');\n",
    "plt.xticks(rotation = 90, fontsize = 16);\n",
    "plt.xlabel('Intervalo de Frequência - Investimento médio em educação por habitante')\n",
    "plt.ylabel('Desempenho SAEB')\n",
    "plt.yticks(fontsize = 14);\n"
   ]
  },
  {
   "cell_type": "code",
   "execution_count": null,
   "id": "ccd3e0b9",
   "metadata": {
    "ExecuteTime": {
     "end_time": "2021-11-19T12:31:05.058906Z",
     "start_time": "2021-11-19T12:31:04.427431Z"
    }
   },
   "outputs": [],
   "source": []
  },
  {
   "cell_type": "code",
   "execution_count": 24,
   "id": "da6ff553",
   "metadata": {
    "ExecuteTime": {
     "end_time": "2021-11-25T22:00:39.283819Z",
     "start_time": "2021-11-25T22:00:38.344423Z"
    }
   },
   "outputs": [
    {
     "data": {
      "image/png": "[encoded data removed]",
      "text/plain": [
       "<Figure size 864x432 with 1 Axes>"
      ]
     },
     "metadata": {},
     "output_type": "display_data"
    }
   ],
   "source": [
    "df2 = df[['capag', 'invest_medio', 'saeb']]\n",
    "plt.figure(figsize=(12, 6));\n",
    "palette = sns.set_palette(['#909090', '#D8D8D8'])\n",
    "\n",
    "order = ['A', 'B', 'C', 'D']\n",
    "ax = sns.barplot(data = df2.melt(id_vars = 'capag'), x = 'capag', y = 'value',hue = 'variable',\n",
    "           ci = False, order = order, palette = palette);\n",
    "\n",
    "plt.bar_label(ax.containers[0], label_type='center', color = 'white', fontsize = 16,  fmt='%.0f');\n",
    "plt.bar_label(ax.containers[1], label_type='center', color = 'black', fontsize = 16,  fmt='%.0f');\n",
    "ax.legend(loc = 'upper right', bbox_to_anchor =(1, 1.10), ncol = 3, fancybox = True, shadow = True, \n",
    "                  fontsize = 13);\n",
    "plt.xticks(fontsize = 14);\n",
    "plt.yticks(fontsize = 14);\n",
    "plt.ylabel('R$');\n",
    "plt.xlabel('Capacidade de Pagamento - CEPAG');\n"
   ]
  },
  {
   "cell_type": "markdown",
   "id": "b37cec1a",
   "metadata": {},
   "source": [
    "# SAEB"
   ]
  },
  {
   "cell_type": "code",
   "execution_count": 25,
   "id": "659dcbc6",
   "metadata": {
    "ExecuteTime": {
     "end_time": "2021-11-25T22:02:22.455395Z",
     "start_time": "2021-11-25T22:00:39.287112Z"
    }
   },
   "outputs": [],
   "source": [
    "ss = pd.read_excel('/Users/daianeklein/Documents/Mackenzie/TAC/Data/SAEB/microdados_saeb_2019/PLANILHAS DE RESULTADOS/TS_MUNICIPIO.xlsx',\n",
    "                    engine = 'openpyxl')\n"
   ]
  },
  {
   "cell_type": "code",
   "execution_count": 26,
   "id": "864474c2",
   "metadata": {
    "ExecuteTime": {
     "end_time": "2021-11-25T22:02:22.508909Z",
     "start_time": "2021-11-25T22:02:22.457668Z"
    }
   },
   "outputs": [],
   "source": [
    "ss = ss[['CO_MUNICIPIO','MEDIA_5_LP', 'MEDIA_5_MT','MEDIA_9_LP', 'MEDIA_9_MT']]\n",
    "\n",
    "ss['LP'] = round((ss['MEDIA_5_LP'] + ss['MEDIA_9_LP']) / 2, 0)\n",
    "ss['MT'] = round((ss['MEDIA_5_MT'] + ss['MEDIA_9_MT']) / 2, 0)\n",
    "\n",
    "ss = ss[['CO_MUNICIPIO', 'LP', 'MT']]\n",
    "\n",
    "ss = ss.groupby('CO_MUNICIPIO', as_index = False).mean()"
   ]
  },
  {
   "cell_type": "code",
   "execution_count": 27,
   "id": "21e3172d",
   "metadata": {
    "ExecuteTime": {
     "end_time": "2021-11-25T22:02:23.321003Z",
     "start_time": "2021-11-25T22:02:22.511478Z"
    }
   },
   "outputs": [
    {
     "data": {
      "image/png": "[encoded data removed]",
      "text/plain": [
       "<Figure size 576x360 with 1 Axes>"
      ]
     },
     "metadata": {},
     "output_type": "display_data"
    }
   ],
   "source": [
    "palette = sns.set_palette(['#4682B4','#D8D8D8'])\n",
    "\n",
    "plt.figure(figsize = (8, 5))\n",
    "ax = sns.histplot(data = ss, x = 'LP', label = 'Língua Portuguesa');\n",
    "sns.histplot(data = ss, x = 'MT', color = 'grey', label = 'Matematica', palette = palette);\n",
    "\n",
    "plt.legend()\n",
    "sns.despine(bottom = True, left = True);\n",
    "plt.xlabel('Escala de Proficiência - SAEB', fontsize = 14);\n",
    "ax.legend(loc = 'upper right', bbox_to_anchor =(1, 1.10), ncol = 3, fancybox = True, shadow = True, \n",
    "                  fontsize = 13);\n",
    "plt.xticks(fontsize = 14);\n",
    "plt.yticks(fontsize = 14, color = 'white');\n",
    "plt.ylabel([], color = 'white');\n"
   ]
  },
  {
   "cell_type": "markdown",
   "id": "9d4ed257",
   "metadata": {},
   "source": [
    "# SICONFI"
   ]
  },
  {
   "cell_type": "code",
   "execution_count": 28,
   "id": "ac49cdf5",
   "metadata": {
    "ExecuteTime": {
     "end_time": "2021-11-25T22:02:24.973703Z",
     "start_time": "2021-11-25T22:02:23.326635Z"
    }
   },
   "outputs": [
    {
     "name": "stderr",
     "output_type": "stream",
     "text": [
      "/Users/daianeklein/miniconda3/envs/ds-projects/lib/python3.9/site-packages/IPython/core/interactiveshell.py:3441: FutureWarning: The error_bad_lines argument has been deprecated and will be removed in a future version.\n",
      "\n",
      "\n",
      "  exec(code_obj, self.user_global_ns, self.user_ns)\n",
      "/Users/daianeklein/miniconda3/envs/ds-projects/lib/python3.9/site-packages/IPython/core/interactiveshell.py:3441: FutureWarning: The warn_bad_lines argument has been deprecated and will be removed in a future version.\n",
      "\n",
      "\n",
      "  exec(code_obj, self.user_global_ns, self.user_ns)\n"
     ]
    }
   ],
   "source": [
    "siconfi = pd.read_csv('/Users/daianeklein/Documents/Mackenzie/TAC/Data/SICONFI/finbra.csv', encoding = 'latin-1',\n",
    "                skiprows = 3,error_bad_lines=False, warn_bad_lines = False, sep = ';', decimal = ',', thousands = '.')"
   ]
  },
  {
   "cell_type": "code",
   "execution_count": 29,
   "id": "95a532c6",
   "metadata": {
    "ExecuteTime": {
     "end_time": "2021-11-25T22:02:24.984274Z",
     "start_time": "2021-11-25T22:02:24.976072Z"
    },
    "scrolled": false
   },
   "outputs": [],
   "source": [
    "# def plotar_grafico():\n",
    "#     sns.set_style(\"whitegrid\")\n",
    "#     #palette = sns.set_palette(['#D8D8D8'])\n",
    "    \n",
    "#     plt.figure(figsize = (12, 3))\n",
    "#     aux = pd.DataFrame(siconfi[['2020', '2019', '2018', '2017']].sum()).reset_index().rename(columns={0 : 'total'}).sort_values(by='index')\n",
    "#     aux['total'] = aux['total'] / 1000000\n",
    "    \n",
    "#     plt.figure(figsize = (15, 5));\n",
    "#     ax = sns.lineplot(data = aux, x = 'index', y = 'total', color = 'dimgrey', linewidth = 1.5, marker = 'o');\n",
    "#     plt.ylabel('R$ - Em milhões',  fontsize = 13);\n",
    "#     plt.xlabel('Ano', fontsize = 13);\n",
    "#     plt.xticks( fontsize = 13)\n",
    "#     plt.yticks( fontsize = 13)\n",
    "#     plt.grid(False)\n",
    "\n",
    "\n",
    "\n",
    "# plotar_grafico()\n",
    "\n"
   ]
  },
  {
   "cell_type": "code",
   "execution_count": 30,
   "id": "14d1f5aa",
   "metadata": {
    "ExecuteTime": {
     "end_time": "2021-11-25T22:02:25.203674Z",
     "start_time": "2021-11-25T22:02:24.999415Z"
    }
   },
   "outputs": [],
   "source": [
    "siconfi = siconfi[siconfi['Coluna'] == 'Despesas Pagas']\n",
    "siconfi = siconfi[siconfi['Conta'] == '12 - Educação']\n",
    "siconfi = siconfi[['Cod.IBGE', 'Valor']]\n",
    "\n",
    "siconfi = siconfi.rename(columns = ({'Valor' : 'siconfi'}))"
   ]
  },
  {
   "cell_type": "code",
   "execution_count": null,
   "id": "7be316ff",
   "metadata": {},
   "outputs": [],
   "source": []
  },
  {
   "cell_type": "markdown",
   "id": "b259ea79",
   "metadata": {},
   "source": [
    "# MERGE DATAFRAME"
   ]
  },
  {
   "cell_type": "code",
   "execution_count": 31,
   "id": "0731f568",
   "metadata": {
    "ExecuteTime": {
     "end_time": "2021-11-25T22:02:25.222853Z",
     "start_time": "2021-11-25T22:02:25.207032Z"
    },
    "scrolled": true
   },
   "outputs": [],
   "source": [
    "cols = ['cod', 'capag','pop']\n",
    "capag.columns = cols\n",
    "\n",
    "siconfi = siconfi[['Cod.IBGE', 'siconfi']]\n",
    "cols = ['cod', 'siconfi']\n",
    "siconfi.columns = cols\n",
    "\n",
    "ss['saeb'] = round((ss['LP'] + ss['MT']) / 2, 2)\n",
    "ss = ss[['CO_MUNICIPIO', 'saeb']]\n",
    "\n",
    "cols = ['cod', 'saeb']\n",
    "ss.columns = cols\n",
    "\n",
    "df = capag.merge(ss, how = 'inner', on = 'cod')\n",
    "df = df.merge(siconfi, on = 'cod', how = 'inner')"
   ]
  },
  {
   "cell_type": "code",
   "execution_count": 32,
   "id": "a948768d",
   "metadata": {
    "ExecuteTime": {
     "end_time": "2021-11-25T22:02:25.282804Z",
     "start_time": "2021-11-25T22:02:25.226031Z"
    }
   },
   "outputs": [
    {
     "data": {
      "text/html": [
       "<div>\n",
       "<style scoped>\n",
       "    .dataframe tbody tr th:only-of-type {\n",
       "        vertical-align: middle;\n",
       "    }\n",
       "\n",
       "    .dataframe tbody tr th {\n",
       "        vertical-align: top;\n",
       "    }\n",
       "\n",
       "    .dataframe thead th {\n",
       "        text-align: right;\n",
       "    }\n",
       "</style>\n",
       "<table border=\"1\" class=\"dataframe\">\n",
       "  <thead>\n",
       "    <tr style=\"text-align: right;\">\n",
       "      <th></th>\n",
       "      <th>cod</th>\n",
       "      <th>capag</th>\n",
       "      <th>pop</th>\n",
       "      <th>saeb</th>\n",
       "      <th>siconfi</th>\n",
       "    </tr>\n",
       "  </thead>\n",
       "  <tbody>\n",
       "    <tr>\n",
       "      <th>0</th>\n",
       "      <td>5200050</td>\n",
       "      <td>A</td>\n",
       "      <td>8773.0</td>\n",
       "      <td>236.31</td>\n",
       "      <td>1.415498e+07</td>\n",
       "    </tr>\n",
       "    <tr>\n",
       "      <th>1</th>\n",
       "      <td>3100104</td>\n",
       "      <td>A</td>\n",
       "      <td>6989.0</td>\n",
       "      <td>264.25</td>\n",
       "      <td>5.365913e+06</td>\n",
       "    </tr>\n",
       "    <tr>\n",
       "      <th>2</th>\n",
       "      <td>5200100</td>\n",
       "      <td>C</td>\n",
       "      <td>20042.0</td>\n",
       "      <td>226.50</td>\n",
       "      <td>9.279337e+06</td>\n",
       "    </tr>\n",
       "    <tr>\n",
       "      <th>3</th>\n",
       "      <td>3100203</td>\n",
       "      <td>A</td>\n",
       "      <td>23237.0</td>\n",
       "      <td>261.20</td>\n",
       "      <td>1.092761e+07</td>\n",
       "    </tr>\n",
       "    <tr>\n",
       "      <th>4</th>\n",
       "      <td>1500107</td>\n",
       "      <td>C</td>\n",
       "      <td>156292.0</td>\n",
       "      <td>203.17</td>\n",
       "      <td>1.120977e+08</td>\n",
       "    </tr>\n",
       "  </tbody>\n",
       "</table>\n",
       "</div>"
      ],
      "text/plain": [
       "       cod capag       pop    saeb       siconfi\n",
       "0  5200050     A    8773.0  236.31  1.415498e+07\n",
       "1  3100104     A    6989.0  264.25  5.365913e+06\n",
       "2  5200100     C   20042.0  226.50  9.279337e+06\n",
       "3  3100203     A   23237.0  261.20  1.092761e+07\n",
       "4  1500107     C  156292.0  203.17  1.120977e+08"
      ]
     },
     "execution_count": 32,
     "metadata": {},
     "output_type": "execute_result"
    }
   ],
   "source": [
    "df = capag.merge(ss, how = 'inner', on = 'cod')\n",
    "df = df.merge(siconfi, on = 'cod', how = 'inner')\n",
    "\n",
    "df.head()"
   ]
  },
  {
   "cell_type": "code",
   "execution_count": 33,
   "id": "6985ac9c",
   "metadata": {
    "ExecuteTime": {
     "end_time": "2021-11-25T22:02:25.293768Z",
     "start_time": "2021-11-25T22:02:25.285882Z"
    }
   },
   "outputs": [],
   "source": [
    "saeb_mean = df['saeb'].mean()\n",
    "df['saeb'] = df['saeb'].fillna(saeb_mean)"
   ]
  },
  {
   "cell_type": "code",
   "execution_count": 34,
   "id": "6b16586a",
   "metadata": {
    "ExecuteTime": {
     "end_time": "2021-11-25T22:02:25.306853Z",
     "start_time": "2021-11-25T22:02:25.298882Z"
    }
   },
   "outputs": [],
   "source": [
    "capag_dict = {'A' : 1,\n",
    "             'B' : 2,\n",
    "             'C' : 3,\n",
    "             'D' : 4}\n",
    "\n",
    "df['capag'] = df['capag'].map(capag_dict)"
   ]
  },
  {
   "cell_type": "code",
   "execution_count": 35,
   "id": "1556ec39",
   "metadata": {
    "ExecuteTime": {
     "end_time": "2021-11-25T22:02:25.330836Z",
     "start_time": "2021-11-25T22:02:25.310108Z"
    }
   },
   "outputs": [
    {
     "data": {
      "text/html": [
       "<div>\n",
       "<style scoped>\n",
       "    .dataframe tbody tr th:only-of-type {\n",
       "        vertical-align: middle;\n",
       "    }\n",
       "\n",
       "    .dataframe tbody tr th {\n",
       "        vertical-align: top;\n",
       "    }\n",
       "\n",
       "    .dataframe thead th {\n",
       "        text-align: right;\n",
       "    }\n",
       "</style>\n",
       "<table border=\"1\" class=\"dataframe\">\n",
       "  <thead>\n",
       "    <tr style=\"text-align: right;\">\n",
       "      <th></th>\n",
       "      <th>cod</th>\n",
       "      <th>capag</th>\n",
       "      <th>pop</th>\n",
       "      <th>saeb</th>\n",
       "      <th>siconfi</th>\n",
       "    </tr>\n",
       "  </thead>\n",
       "  <tbody>\n",
       "    <tr>\n",
       "      <th>0</th>\n",
       "      <td>5200050</td>\n",
       "      <td>1</td>\n",
       "      <td>8773.0</td>\n",
       "      <td>236.31</td>\n",
       "      <td>1.415498e+07</td>\n",
       "    </tr>\n",
       "    <tr>\n",
       "      <th>1</th>\n",
       "      <td>3100104</td>\n",
       "      <td>1</td>\n",
       "      <td>6989.0</td>\n",
       "      <td>264.25</td>\n",
       "      <td>5.365913e+06</td>\n",
       "    </tr>\n",
       "    <tr>\n",
       "      <th>2</th>\n",
       "      <td>5200100</td>\n",
       "      <td>3</td>\n",
       "      <td>20042.0</td>\n",
       "      <td>226.50</td>\n",
       "      <td>9.279337e+06</td>\n",
       "    </tr>\n",
       "    <tr>\n",
       "      <th>3</th>\n",
       "      <td>3100203</td>\n",
       "      <td>1</td>\n",
       "      <td>23237.0</td>\n",
       "      <td>261.20</td>\n",
       "      <td>1.092761e+07</td>\n",
       "    </tr>\n",
       "    <tr>\n",
       "      <th>4</th>\n",
       "      <td>1500107</td>\n",
       "      <td>3</td>\n",
       "      <td>156292.0</td>\n",
       "      <td>203.17</td>\n",
       "      <td>1.120977e+08</td>\n",
       "    </tr>\n",
       "  </tbody>\n",
       "</table>\n",
       "</div>"
      ],
      "text/plain": [
       "       cod  capag       pop    saeb       siconfi\n",
       "0  5200050      1    8773.0  236.31  1.415498e+07\n",
       "1  3100104      1    6989.0  264.25  5.365913e+06\n",
       "2  5200100      3   20042.0  226.50  9.279337e+06\n",
       "3  3100203      1   23237.0  261.20  1.092761e+07\n",
       "4  1500107      3  156292.0  203.17  1.120977e+08"
      ]
     },
     "execution_count": 35,
     "metadata": {},
     "output_type": "execute_result"
    }
   ],
   "source": [
    "df.head()"
   ]
  },
  {
   "cell_type": "code",
   "execution_count": 36,
   "id": "f47f38bd",
   "metadata": {
    "ExecuteTime": {
     "end_time": "2021-11-25T22:02:25.794228Z",
     "start_time": "2021-11-25T22:02:25.333431Z"
    }
   },
   "outputs": [
    {
     "data": {
      "text/plain": [
       "<AxesSubplot:xlabel='pop', ylabel='saeb'>"
      ]
     },
     "execution_count": 36,
     "metadata": {},
     "output_type": "execute_result"
    },
    {
     "data": {
      "image/png": "[encoded data removed]",
      "text/plain": [
       "<Figure size 1080x432 with 1 Axes>"
      ]
     },
     "metadata": {},
     "output_type": "display_data"
    }
   ],
   "source": [
    "plt.figure(figsize = (15, 6))\n",
    "sns.scatterplot(data = df.sort_values(by='pop', ascending = False)[2:], \n",
    "                x = 'pop', y = 'saeb')"
   ]
  },
  {
   "cell_type": "code",
   "execution_count": 37,
   "id": "bfa4aeab",
   "metadata": {
    "ExecuteTime": {
     "end_time": "2021-11-25T22:02:26.299128Z",
     "start_time": "2021-11-25T22:02:25.797765Z"
    }
   },
   "outputs": [
    {
     "data": {
      "text/plain": [
       "<AxesSubplot:xlabel='pop', ylabel='siconfi'>"
      ]
     },
     "execution_count": 37,
     "metadata": {},
     "output_type": "execute_result"
    },
    {
     "data": {
      "image/png": "[encoded data removed]",
      "text/plain": [
       "<Figure size 1080x432 with 1 Axes>"
      ]
     },
     "metadata": {},
     "output_type": "display_data"
    }
   ],
   "source": [
    "plt.figure(figsize = (15, 6))\n",
    "sns.scatterplot(data = df.sort_values(by='pop', ascending = False)[2:], \n",
    "                x = 'pop', y = 'siconfi')"
   ]
  },
  {
   "cell_type": "code",
   "execution_count": 38,
   "id": "8d58e465",
   "metadata": {
    "ExecuteTime": {
     "end_time": "2021-11-25T22:02:26.790044Z",
     "start_time": "2021-11-25T22:02:26.303438Z"
    }
   },
   "outputs": [
    {
     "data": {
      "text/plain": [
       "<AxesSubplot:xlabel='saeb', ylabel='siconfi'>"
      ]
     },
     "execution_count": 38,
     "metadata": {},
     "output_type": "execute_result"
    },
    {
     "data": {
      "image/png": "[encoded data removed]",
      "text/plain": [
       "<Figure size 1080x432 with 1 Axes>"
      ]
     },
     "metadata": {},
     "output_type": "display_data"
    }
   ],
   "source": [
    "plt.figure(figsize = (15, 6))\n",
    "sns.scatterplot(data = df.sort_values(by='pop', ascending = False)[2:], \n",
    "                x = 'saeb', y = 'siconfi')"
   ]
  },
  {
   "cell_type": "code",
   "execution_count": 39,
   "id": "9a0b24e9",
   "metadata": {
    "ExecuteTime": {
     "end_time": "2021-11-25T22:02:26.822090Z",
     "start_time": "2021-11-25T22:02:26.796712Z"
    },
    "scrolled": true
   },
   "outputs": [
    {
     "data": {
      "text/html": [
       "<div>\n",
       "<style scoped>\n",
       "    .dataframe tbody tr th:only-of-type {\n",
       "        vertical-align: middle;\n",
       "    }\n",
       "\n",
       "    .dataframe tbody tr th {\n",
       "        vertical-align: top;\n",
       "    }\n",
       "\n",
       "    .dataframe thead th {\n",
       "        text-align: right;\n",
       "    }\n",
       "</style>\n",
       "<table border=\"1\" class=\"dataframe\">\n",
       "  <thead>\n",
       "    <tr style=\"text-align: right;\">\n",
       "      <th></th>\n",
       "      <th>cod</th>\n",
       "      <th>capag</th>\n",
       "      <th>pop</th>\n",
       "      <th>saeb</th>\n",
       "      <th>siconfi</th>\n",
       "    </tr>\n",
       "  </thead>\n",
       "  <tbody>\n",
       "    <tr>\n",
       "      <th>0</th>\n",
       "      <td>5200050</td>\n",
       "      <td>1</td>\n",
       "      <td>8773.0</td>\n",
       "      <td>236.31</td>\n",
       "      <td>1.415498e+07</td>\n",
       "    </tr>\n",
       "    <tr>\n",
       "      <th>1</th>\n",
       "      <td>3100104</td>\n",
       "      <td>1</td>\n",
       "      <td>6989.0</td>\n",
       "      <td>264.25</td>\n",
       "      <td>5.365913e+06</td>\n",
       "    </tr>\n",
       "    <tr>\n",
       "      <th>2</th>\n",
       "      <td>5200100</td>\n",
       "      <td>3</td>\n",
       "      <td>20042.0</td>\n",
       "      <td>226.50</td>\n",
       "      <td>9.279337e+06</td>\n",
       "    </tr>\n",
       "    <tr>\n",
       "      <th>3</th>\n",
       "      <td>3100203</td>\n",
       "      <td>1</td>\n",
       "      <td>23237.0</td>\n",
       "      <td>261.20</td>\n",
       "      <td>1.092761e+07</td>\n",
       "    </tr>\n",
       "    <tr>\n",
       "      <th>4</th>\n",
       "      <td>1500107</td>\n",
       "      <td>3</td>\n",
       "      <td>156292.0</td>\n",
       "      <td>203.17</td>\n",
       "      <td>1.120977e+08</td>\n",
       "    </tr>\n",
       "    <tr>\n",
       "      <th>5</th>\n",
       "      <td>4100103</td>\n",
       "      <td>3</td>\n",
       "      <td>7457.0</td>\n",
       "      <td>242.00</td>\n",
       "      <td>5.184372e+06</td>\n",
       "    </tr>\n",
       "    <tr>\n",
       "      <th>6</th>\n",
       "      <td>4200101</td>\n",
       "      <td>1</td>\n",
       "      <td>17904.0</td>\n",
       "      <td>233.50</td>\n",
       "      <td>1.853766e+07</td>\n",
       "    </tr>\n",
       "    <tr>\n",
       "      <th>7</th>\n",
       "      <td>3100302</td>\n",
       "      <td>2</td>\n",
       "      <td>13465.0</td>\n",
       "      <td>255.19</td>\n",
       "      <td>6.479325e+06</td>\n",
       "    </tr>\n",
       "    <tr>\n",
       "      <th>8</th>\n",
       "      <td>2600054</td>\n",
       "      <td>2</td>\n",
       "      <td>99990.0</td>\n",
       "      <td>220.75</td>\n",
       "      <td>3.972115e+07</td>\n",
       "    </tr>\n",
       "    <tr>\n",
       "      <th>9</th>\n",
       "      <td>1700251</td>\n",
       "      <td>3</td>\n",
       "      <td>2579.0</td>\n",
       "      <td>224.00</td>\n",
       "      <td>3.890043e+06</td>\n",
       "    </tr>\n",
       "  </tbody>\n",
       "</table>\n",
       "</div>"
      ],
      "text/plain": [
       "       cod  capag       pop    saeb       siconfi\n",
       "0  5200050      1    8773.0  236.31  1.415498e+07\n",
       "1  3100104      1    6989.0  264.25  5.365913e+06\n",
       "2  5200100      3   20042.0  226.50  9.279337e+06\n",
       "3  3100203      1   23237.0  261.20  1.092761e+07\n",
       "4  1500107      3  156292.0  203.17  1.120977e+08\n",
       "5  4100103      3    7457.0  242.00  5.184372e+06\n",
       "6  4200101      1   17904.0  233.50  1.853766e+07\n",
       "7  3100302      2   13465.0  255.19  6.479325e+06\n",
       "8  2600054      2   99990.0  220.75  3.972115e+07\n",
       "9  1700251      3    2579.0  224.00  3.890043e+06"
      ]
     },
     "execution_count": 39,
     "metadata": {},
     "output_type": "execute_result"
    }
   ],
   "source": [
    "df.head(10)"
   ]
  },
  {
   "cell_type": "markdown",
   "id": "6bc6caa8",
   "metadata": {},
   "source": [
    "# NOME MUNICÍPIO"
   ]
  },
  {
   "cell_type": "code",
   "execution_count": 40,
   "id": "5fa32955",
   "metadata": {
    "ExecuteTime": {
     "end_time": "2021-11-25T22:02:26.916420Z",
     "start_time": "2021-11-25T22:02:26.825610Z"
    }
   },
   "outputs": [
    {
     "data": {
      "text/html": [
       "<div>\n",
       "<style scoped>\n",
       "    .dataframe tbody tr th:only-of-type {\n",
       "        vertical-align: middle;\n",
       "    }\n",
       "\n",
       "    .dataframe tbody tr th {\n",
       "        vertical-align: top;\n",
       "    }\n",
       "\n",
       "    .dataframe thead th {\n",
       "        text-align: right;\n",
       "    }\n",
       "</style>\n",
       "<table border=\"1\" class=\"dataframe\">\n",
       "  <thead>\n",
       "    <tr style=\"text-align: right;\">\n",
       "      <th></th>\n",
       "      <th>Município</th>\n",
       "      <th>Cod.IBGE</th>\n",
       "      <th>UF</th>\n",
       "      <th>População</th>\n",
       "      <th>Indicador_1</th>\n",
       "      <th>Nota_1</th>\n",
       "      <th>Indicador_2</th>\n",
       "      <th>Nota_2</th>\n",
       "      <th>Indicador_3</th>\n",
       "      <th>Nota_3</th>\n",
       "      <th>Classificação_CAPAG</th>\n",
       "      <th>Indicador_1_Revisão</th>\n",
       "      <th>Nota_1_Revisão</th>\n",
       "      <th>Indicador_2_Revisão</th>\n",
       "      <th>Nota_2_Revisão</th>\n",
       "      <th>Indicador_3_Revisão</th>\n",
       "      <th>Nota_3_Revisão</th>\n",
       "      <th>CAPAG_Revisão</th>\n",
       "      <th>CAPAG_Oficial</th>\n",
       "    </tr>\n",
       "  </thead>\n",
       "  <tbody>\n",
       "    <tr>\n",
       "      <th>0</th>\n",
       "      <td>Abadia de Goiás - GO</td>\n",
       "      <td>5200050</td>\n",
       "      <td>GO</td>\n",
       "      <td>8773.0</td>\n",
       "      <td>0,08136333952</td>\n",
       "      <td>A</td>\n",
       "      <td>0,8925147231</td>\n",
       "      <td>A</td>\n",
       "      <td>0,5414703005</td>\n",
       "      <td>A</td>\n",
       "      <td>A</td>\n",
       "      <td>NaN</td>\n",
       "      <td>NaN</td>\n",
       "      <td>NaN</td>\n",
       "      <td>NaN</td>\n",
       "      <td>NaN</td>\n",
       "      <td>NaN</td>\n",
       "      <td>NaN</td>\n",
       "      <td>A</td>\n",
       "    </tr>\n",
       "    <tr>\n",
       "      <th>1</th>\n",
       "      <td>Abadia dos Dourados - MG</td>\n",
       "      <td>3100104</td>\n",
       "      <td>MG</td>\n",
       "      <td>6989.0</td>\n",
       "      <td>0,1272324734</td>\n",
       "      <td>A</td>\n",
       "      <td>0,8836729333</td>\n",
       "      <td>A</td>\n",
       "      <td>0,1616611162</td>\n",
       "      <td>A</td>\n",
       "      <td>A</td>\n",
       "      <td>NaN</td>\n",
       "      <td>NaN</td>\n",
       "      <td>NaN</td>\n",
       "      <td>NaN</td>\n",
       "      <td>NaN</td>\n",
       "      <td>NaN</td>\n",
       "      <td>NaN</td>\n",
       "      <td>A</td>\n",
       "    </tr>\n",
       "    <tr>\n",
       "      <th>2</th>\n",
       "      <td>Abadiânia - GO</td>\n",
       "      <td>5200100</td>\n",
       "      <td>GO</td>\n",
       "      <td>20042.0</td>\n",
       "      <td>0,1885726696</td>\n",
       "      <td>A</td>\n",
       "      <td>0,9466140559</td>\n",
       "      <td>B</td>\n",
       "      <td>2,226205681</td>\n",
       "      <td>C</td>\n",
       "      <td>C</td>\n",
       "      <td>NaN</td>\n",
       "      <td>NaN</td>\n",
       "      <td>NaN</td>\n",
       "      <td>NaN</td>\n",
       "      <td>NaN</td>\n",
       "      <td>NaN</td>\n",
       "      <td>NaN</td>\n",
       "      <td>C</td>\n",
       "    </tr>\n",
       "    <tr>\n",
       "      <th>3</th>\n",
       "      <td>Abaeté - MG</td>\n",
       "      <td>3100203</td>\n",
       "      <td>MG</td>\n",
       "      <td>23237.0</td>\n",
       "      <td>0,2562741189</td>\n",
       "      <td>A</td>\n",
       "      <td>0,828040757</td>\n",
       "      <td>A</td>\n",
       "      <td>0,1769593174</td>\n",
       "      <td>A</td>\n",
       "      <td>A</td>\n",
       "      <td>NaN</td>\n",
       "      <td>NaN</td>\n",
       "      <td>NaN</td>\n",
       "      <td>NaN</td>\n",
       "      <td>NaN</td>\n",
       "      <td>NaN</td>\n",
       "      <td>NaN</td>\n",
       "      <td>A</td>\n",
       "    </tr>\n",
       "    <tr>\n",
       "      <th>4</th>\n",
       "      <td>Abaetetuba - PA</td>\n",
       "      <td>1500107</td>\n",
       "      <td>PA</td>\n",
       "      <td>156292.0</td>\n",
       "      <td>0,03198608574</td>\n",
       "      <td>A</td>\n",
       "      <td>0,9611953318</td>\n",
       "      <td>C</td>\n",
       "      <td>0,8821596457</td>\n",
       "      <td>A</td>\n",
       "      <td>C</td>\n",
       "      <td>NaN</td>\n",
       "      <td>NaN</td>\n",
       "      <td>NaN</td>\n",
       "      <td>NaN</td>\n",
       "      <td>NaN</td>\n",
       "      <td>NaN</td>\n",
       "      <td>NaN</td>\n",
       "      <td>C</td>\n",
       "    </tr>\n",
       "    <tr>\n",
       "      <th>...</th>\n",
       "      <td>...</td>\n",
       "      <td>...</td>\n",
       "      <td>...</td>\n",
       "      <td>...</td>\n",
       "      <td>...</td>\n",
       "      <td>...</td>\n",
       "      <td>...</td>\n",
       "      <td>...</td>\n",
       "      <td>...</td>\n",
       "      <td>...</td>\n",
       "      <td>...</td>\n",
       "      <td>...</td>\n",
       "      <td>...</td>\n",
       "      <td>...</td>\n",
       "      <td>...</td>\n",
       "      <td>...</td>\n",
       "      <td>...</td>\n",
       "      <td>...</td>\n",
       "      <td>...</td>\n",
       "    </tr>\n",
       "    <tr>\n",
       "      <th>5564</th>\n",
       "      <td>Xique Xique - BA</td>\n",
       "      <td>2933604</td>\n",
       "      <td>BA</td>\n",
       "      <td>46483.0</td>\n",
       "      <td>0,4301684006</td>\n",
       "      <td>A</td>\n",
       "      <td>0,990211312</td>\n",
       "      <td>C</td>\n",
       "      <td>0,4941936329</td>\n",
       "      <td>A</td>\n",
       "      <td>C</td>\n",
       "      <td>NaN</td>\n",
       "      <td>NaN</td>\n",
       "      <td>NaN</td>\n",
       "      <td>NaN</td>\n",
       "      <td>NaN</td>\n",
       "      <td>NaN</td>\n",
       "      <td>NaN</td>\n",
       "      <td>C</td>\n",
       "    </tr>\n",
       "    <tr>\n",
       "      <th>5565</th>\n",
       "      <td>Zabelê - PB</td>\n",
       "      <td>2517407</td>\n",
       "      <td>PB</td>\n",
       "      <td>2240.0</td>\n",
       "      <td>0,008101754085</td>\n",
       "      <td>A</td>\n",
       "      <td>1,000337814</td>\n",
       "      <td>C</td>\n",
       "      <td>0,01150917292</td>\n",
       "      <td>A</td>\n",
       "      <td>C</td>\n",
       "      <td>NaN</td>\n",
       "      <td>NaN</td>\n",
       "      <td>NaN</td>\n",
       "      <td>NaN</td>\n",
       "      <td>NaN</td>\n",
       "      <td>NaN</td>\n",
       "      <td>NaN</td>\n",
       "      <td>C</td>\n",
       "    </tr>\n",
       "    <tr>\n",
       "      <th>5566</th>\n",
       "      <td>Zacarias - SP</td>\n",
       "      <td>3557154</td>\n",
       "      <td>SP</td>\n",
       "      <td>2718.0</td>\n",
       "      <td>0</td>\n",
       "      <td>A</td>\n",
       "      <td>0,8480750044</td>\n",
       "      <td>A</td>\n",
       "      <td>0,001591069585</td>\n",
       "      <td>A</td>\n",
       "      <td>A</td>\n",
       "      <td>NaN</td>\n",
       "      <td>NaN</td>\n",
       "      <td>NaN</td>\n",
       "      <td>NaN</td>\n",
       "      <td>NaN</td>\n",
       "      <td>NaN</td>\n",
       "      <td>NaN</td>\n",
       "      <td>A</td>\n",
       "    </tr>\n",
       "    <tr>\n",
       "      <th>5567</th>\n",
       "      <td>Zé Doca - MA</td>\n",
       "      <td>2114007</td>\n",
       "      <td>MA</td>\n",
       "      <td>51714.0</td>\n",
       "      <td>0,1733912759</td>\n",
       "      <td>A</td>\n",
       "      <td>0,8533879506</td>\n",
       "      <td>A</td>\n",
       "      <td>-2,709549317</td>\n",
       "      <td>C</td>\n",
       "      <td>C</td>\n",
       "      <td>NaN</td>\n",
       "      <td>NaN</td>\n",
       "      <td>NaN</td>\n",
       "      <td>NaN</td>\n",
       "      <td>NaN</td>\n",
       "      <td>NaN</td>\n",
       "      <td>NaN</td>\n",
       "      <td>C</td>\n",
       "    </tr>\n",
       "    <tr>\n",
       "      <th>5568</th>\n",
       "      <td>Zortéa - SC</td>\n",
       "      <td>4219853</td>\n",
       "      <td>SC</td>\n",
       "      <td>3328.0</td>\n",
       "      <td>0</td>\n",
       "      <td>A</td>\n",
       "      <td>0,9747128875</td>\n",
       "      <td>C</td>\n",
       "      <td>0,6573676863</td>\n",
       "      <td>A</td>\n",
       "      <td>C</td>\n",
       "      <td>NaN</td>\n",
       "      <td>NaN</td>\n",
       "      <td>NaN</td>\n",
       "      <td>NaN</td>\n",
       "      <td>NaN</td>\n",
       "      <td>NaN</td>\n",
       "      <td>NaN</td>\n",
       "      <td>C</td>\n",
       "    </tr>\n",
       "  </tbody>\n",
       "</table>\n",
       "<p>5569 rows × 19 columns</p>\n",
       "</div>"
      ],
      "text/plain": [
       "                     Município  Cod.IBGE  UF  População     Indicador_1  \\\n",
       "0         Abadia de Goiás - GO   5200050  GO     8773.0   0,08136333952   \n",
       "1     Abadia dos Dourados - MG   3100104  MG     6989.0    0,1272324734   \n",
       "2               Abadiânia - GO   5200100  GO    20042.0    0,1885726696   \n",
       "3                  Abaeté - MG   3100203  MG    23237.0    0,2562741189   \n",
       "4              Abaetetuba - PA   1500107  PA   156292.0   0,03198608574   \n",
       "...                        ...       ...  ..        ...             ...   \n",
       "5564          Xique Xique - BA   2933604  BA    46483.0    0,4301684006   \n",
       "5565               Zabelê - PB   2517407  PB     2240.0  0,008101754085   \n",
       "5566             Zacarias - SP   3557154  SP     2718.0               0   \n",
       "5567              Zé Doca - MA   2114007  MA    51714.0    0,1733912759   \n",
       "5568               Zortéa - SC   4219853  SC     3328.0               0   \n",
       "\n",
       "     Nota_1   Indicador_2 Nota_2     Indicador_3 Nota_3 Classificação_CAPAG  \\\n",
       "0         A  0,8925147231      A    0,5414703005      A                   A   \n",
       "1         A  0,8836729333      A    0,1616611162      A                   A   \n",
       "2         A  0,9466140559      B     2,226205681      C                   C   \n",
       "3         A   0,828040757      A    0,1769593174      A                   A   \n",
       "4         A  0,9611953318      C    0,8821596457      A                   C   \n",
       "...     ...           ...    ...             ...    ...                 ...   \n",
       "5564      A   0,990211312      C    0,4941936329      A                   C   \n",
       "5565      A   1,000337814      C   0,01150917292      A                   C   \n",
       "5566      A  0,8480750044      A  0,001591069585      A                   A   \n",
       "5567      A  0,8533879506      A    -2,709549317      C                   C   \n",
       "5568      A  0,9747128875      C    0,6573676863      A                   C   \n",
       "\n",
       "     Indicador_1_Revisão Nota_1_Revisão Indicador_2_Revisão Nota_2_Revisão  \\\n",
       "0                    NaN            NaN                 NaN            NaN   \n",
       "1                    NaN            NaN                 NaN            NaN   \n",
       "2                    NaN            NaN                 NaN            NaN   \n",
       "3                    NaN            NaN                 NaN            NaN   \n",
       "4                    NaN            NaN                 NaN            NaN   \n",
       "...                  ...            ...                 ...            ...   \n",
       "5564                 NaN            NaN                 NaN            NaN   \n",
       "5565                 NaN            NaN                 NaN            NaN   \n",
       "5566                 NaN            NaN                 NaN            NaN   \n",
       "5567                 NaN            NaN                 NaN            NaN   \n",
       "5568                 NaN            NaN                 NaN            NaN   \n",
       "\n",
       "     Indicador_3_Revisão Nota_3_Revisão CAPAG_Revisão CAPAG_Oficial  \n",
       "0                    NaN            NaN           NaN             A  \n",
       "1                    NaN            NaN           NaN             A  \n",
       "2                    NaN            NaN           NaN             C  \n",
       "3                    NaN            NaN           NaN             A  \n",
       "4                    NaN            NaN           NaN             C  \n",
       "...                  ...            ...           ...           ...  \n",
       "5564                 NaN            NaN           NaN             C  \n",
       "5565                 NaN            NaN           NaN             C  \n",
       "5566                 NaN            NaN           NaN             A  \n",
       "5567                 NaN            NaN           NaN             C  \n",
       "5568                 NaN            NaN           NaN             C  \n",
       "\n",
       "[5569 rows x 19 columns]"
      ]
     },
     "execution_count": 40,
     "metadata": {},
     "output_type": "execute_result"
    }
   ],
   "source": [
    "mun_nome = pd.read_csv('/Users/daianeklein/Documents/Mackenzie/TAC/Data/CAPAG/CAPAGMunicipios-Abr2021 - capag.csv',\n",
    "                  sep = ',')\n",
    "mun_nome"
   ]
  },
  {
   "cell_type": "code",
   "execution_count": 41,
   "id": "c597e8dc",
   "metadata": {
    "ExecuteTime": {
     "end_time": "2021-11-25T22:02:26.928238Z",
     "start_time": "2021-11-25T22:02:26.920993Z"
    }
   },
   "outputs": [],
   "source": [
    "mun_nome = mun_nome.iloc[:, :2]\n",
    "mun_nome = mun_nome[['Cod.IBGE', 'Município']]"
   ]
  },
  {
   "cell_type": "code",
   "execution_count": 42,
   "id": "9afe7d2c",
   "metadata": {
    "ExecuteTime": {
     "end_time": "2021-11-25T22:02:26.954264Z",
     "start_time": "2021-11-25T22:02:26.932550Z"
    }
   },
   "outputs": [],
   "source": [
    "mun_nome['uf'] = mun_nome['Município'].str.split('-').str[1]"
   ]
  },
  {
   "cell_type": "code",
   "execution_count": 43,
   "id": "431a600b",
   "metadata": {
    "ExecuteTime": {
     "end_time": "2021-11-25T22:02:26.970514Z",
     "start_time": "2021-11-25T22:02:26.957211Z"
    },
    "scrolled": false
   },
   "outputs": [],
   "source": [
    "for i, j in zip(mun_nome['uf'], mun_nome.index):\n",
    "    t = len(i)\n",
    "    if t > 3:\n",
    "        print(j, mun_nome.iloc[j]['Município'])\n",
    "        \n",
    "\n",
    "cols = ['cod', 'municipio', 'uf']\n",
    "mun_nome.columns = cols"
   ]
  },
  {
   "cell_type": "code",
   "execution_count": 44,
   "id": "13c07aac",
   "metadata": {
    "ExecuteTime": {
     "end_time": "2021-11-25T22:02:27.004225Z",
     "start_time": "2021-11-25T22:02:26.973586Z"
    }
   },
   "outputs": [
    {
     "data": {
      "text/html": [
       "<div>\n",
       "<style scoped>\n",
       "    .dataframe tbody tr th:only-of-type {\n",
       "        vertical-align: middle;\n",
       "    }\n",
       "\n",
       "    .dataframe tbody tr th {\n",
       "        vertical-align: top;\n",
       "    }\n",
       "\n",
       "    .dataframe thead th {\n",
       "        text-align: right;\n",
       "    }\n",
       "</style>\n",
       "<table border=\"1\" class=\"dataframe\">\n",
       "  <thead>\n",
       "    <tr style=\"text-align: right;\">\n",
       "      <th></th>\n",
       "      <th>cod</th>\n",
       "      <th>municipio</th>\n",
       "      <th>uf</th>\n",
       "      <th>capag</th>\n",
       "      <th>pop</th>\n",
       "      <th>saeb</th>\n",
       "      <th>siconfi</th>\n",
       "    </tr>\n",
       "  </thead>\n",
       "  <tbody>\n",
       "    <tr>\n",
       "      <th>0</th>\n",
       "      <td>5200050</td>\n",
       "      <td>Abadia de Goiás - GO</td>\n",
       "      <td>GO</td>\n",
       "      <td>1</td>\n",
       "      <td>8773.0</td>\n",
       "      <td>236.31</td>\n",
       "      <td>1.415498e+07</td>\n",
       "    </tr>\n",
       "    <tr>\n",
       "      <th>1</th>\n",
       "      <td>3100104</td>\n",
       "      <td>Abadia dos Dourados - MG</td>\n",
       "      <td>MG</td>\n",
       "      <td>1</td>\n",
       "      <td>6989.0</td>\n",
       "      <td>264.25</td>\n",
       "      <td>5.365913e+06</td>\n",
       "    </tr>\n",
       "    <tr>\n",
       "      <th>2</th>\n",
       "      <td>5200100</td>\n",
       "      <td>Abadiânia - GO</td>\n",
       "      <td>GO</td>\n",
       "      <td>3</td>\n",
       "      <td>20042.0</td>\n",
       "      <td>226.50</td>\n",
       "      <td>9.279337e+06</td>\n",
       "    </tr>\n",
       "    <tr>\n",
       "      <th>3</th>\n",
       "      <td>3100203</td>\n",
       "      <td>Abaeté - MG</td>\n",
       "      <td>MG</td>\n",
       "      <td>1</td>\n",
       "      <td>23237.0</td>\n",
       "      <td>261.20</td>\n",
       "      <td>1.092761e+07</td>\n",
       "    </tr>\n",
       "    <tr>\n",
       "      <th>4</th>\n",
       "      <td>1500107</td>\n",
       "      <td>Abaetetuba - PA</td>\n",
       "      <td>PA</td>\n",
       "      <td>3</td>\n",
       "      <td>156292.0</td>\n",
       "      <td>203.17</td>\n",
       "      <td>1.120977e+08</td>\n",
       "    </tr>\n",
       "  </tbody>\n",
       "</table>\n",
       "</div>"
      ],
      "text/plain": [
       "       cod                 municipio   uf  capag       pop    saeb  \\\n",
       "0  5200050      Abadia de Goiás - GO   GO      1    8773.0  236.31   \n",
       "1  3100104  Abadia dos Dourados - MG   MG      1    6989.0  264.25   \n",
       "2  5200100            Abadiânia - GO   GO      3   20042.0  226.50   \n",
       "3  3100203               Abaeté - MG   MG      1   23237.0  261.20   \n",
       "4  1500107           Abaetetuba - PA   PA      3  156292.0  203.17   \n",
       "\n",
       "        siconfi  \n",
       "0  1.415498e+07  \n",
       "1  5.365913e+06  \n",
       "2  9.279337e+06  \n",
       "3  1.092761e+07  \n",
       "4  1.120977e+08  "
      ]
     },
     "execution_count": 44,
     "metadata": {},
     "output_type": "execute_result"
    }
   ],
   "source": [
    "df = df.merge(mun_nome, on = 'cod', how = 'inner')\n",
    "df = df[['cod', 'municipio', 'uf', 'capag', 'pop', 'saeb', 'siconfi']]\n",
    "\n",
    "df.head()"
   ]
  },
  {
   "cell_type": "code",
   "execution_count": 45,
   "id": "4b3660bb",
   "metadata": {
    "ExecuteTime": {
     "end_time": "2021-11-25T22:02:27.199924Z",
     "start_time": "2021-11-25T22:02:27.007661Z"
    }
   },
   "outputs": [
    {
     "data": {
      "text/html": [
       "<div>\n",
       "<style scoped>\n",
       "    .dataframe tbody tr th:only-of-type {\n",
       "        vertical-align: middle;\n",
       "    }\n",
       "\n",
       "    .dataframe tbody tr th {\n",
       "        vertical-align: top;\n",
       "    }\n",
       "\n",
       "    .dataframe thead th {\n",
       "        text-align: right;\n",
       "    }\n",
       "</style>\n",
       "<table border=\"1\" class=\"dataframe\">\n",
       "  <thead>\n",
       "    <tr style=\"text-align: right;\">\n",
       "      <th></th>\n",
       "      <th>cod</th>\n",
       "      <th>municipio</th>\n",
       "      <th>uf</th>\n",
       "      <th>capag</th>\n",
       "      <th>pop</th>\n",
       "      <th>saeb</th>\n",
       "      <th>siconfi</th>\n",
       "      <th>siconfi_medio</th>\n",
       "    </tr>\n",
       "  </thead>\n",
       "  <tbody>\n",
       "    <tr>\n",
       "      <th>0</th>\n",
       "      <td>5200050</td>\n",
       "      <td>Abadia de Goiás - GO</td>\n",
       "      <td>GO</td>\n",
       "      <td>1</td>\n",
       "      <td>8773.0</td>\n",
       "      <td>236.31</td>\n",
       "      <td>1.415498e+07</td>\n",
       "      <td>1613.0</td>\n",
       "    </tr>\n",
       "    <tr>\n",
       "      <th>1</th>\n",
       "      <td>3100104</td>\n",
       "      <td>Abadia dos Dourados - MG</td>\n",
       "      <td>MG</td>\n",
       "      <td>1</td>\n",
       "      <td>6989.0</td>\n",
       "      <td>264.25</td>\n",
       "      <td>5.365913e+06</td>\n",
       "      <td>768.0</td>\n",
       "    </tr>\n",
       "    <tr>\n",
       "      <th>2</th>\n",
       "      <td>5200100</td>\n",
       "      <td>Abadiânia - GO</td>\n",
       "      <td>GO</td>\n",
       "      <td>3</td>\n",
       "      <td>20042.0</td>\n",
       "      <td>226.50</td>\n",
       "      <td>9.279337e+06</td>\n",
       "      <td>463.0</td>\n",
       "    </tr>\n",
       "    <tr>\n",
       "      <th>3</th>\n",
       "      <td>3100203</td>\n",
       "      <td>Abaeté - MG</td>\n",
       "      <td>MG</td>\n",
       "      <td>1</td>\n",
       "      <td>23237.0</td>\n",
       "      <td>261.20</td>\n",
       "      <td>1.092761e+07</td>\n",
       "      <td>470.0</td>\n",
       "    </tr>\n",
       "    <tr>\n",
       "      <th>4</th>\n",
       "      <td>1500107</td>\n",
       "      <td>Abaetetuba - PA</td>\n",
       "      <td>PA</td>\n",
       "      <td>3</td>\n",
       "      <td>156292.0</td>\n",
       "      <td>203.17</td>\n",
       "      <td>1.120977e+08</td>\n",
       "      <td>717.0</td>\n",
       "    </tr>\n",
       "  </tbody>\n",
       "</table>\n",
       "</div>"
      ],
      "text/plain": [
       "       cod                 municipio   uf  capag       pop    saeb  \\\n",
       "0  5200050      Abadia de Goiás - GO   GO      1    8773.0  236.31   \n",
       "1  3100104  Abadia dos Dourados - MG   MG      1    6989.0  264.25   \n",
       "2  5200100            Abadiânia - GO   GO      3   20042.0  226.50   \n",
       "3  3100203               Abaeté - MG   MG      1   23237.0  261.20   \n",
       "4  1500107           Abaetetuba - PA   PA      3  156292.0  203.17   \n",
       "\n",
       "        siconfi  siconfi_medio  \n",
       "0  1.415498e+07         1613.0  \n",
       "1  5.365913e+06          768.0  \n",
       "2  9.279337e+06          463.0  \n",
       "3  1.092761e+07          470.0  \n",
       "4  1.120977e+08          717.0  "
      ]
     },
     "execution_count": 45,
     "metadata": {},
     "output_type": "execute_result"
    }
   ],
   "source": [
    "df['siconfi_medio'] = df[['pop', 'siconfi']].apply(lambda x: round(x['siconfi'] / x['pop'], 0), axis = 1)\n",
    "\n",
    "df.head()"
   ]
  },
  {
   "cell_type": "code",
   "execution_count": 46,
   "id": "1a75fecf",
   "metadata": {
    "ExecuteTime": {
     "end_time": "2021-11-25T22:02:27.210231Z",
     "start_time": "2021-11-25T22:02:27.203539Z"
    }
   },
   "outputs": [
    {
     "data": {
      "text/plain": [
       "(4362, 8)"
      ]
     },
     "execution_count": 46,
     "metadata": {},
     "output_type": "execute_result"
    }
   ],
   "source": [
    "df.shape"
   ]
  },
  {
   "cell_type": "markdown",
   "id": "d1c1b90e",
   "metadata": {},
   "source": [
    "## CAPAG ALTO"
   ]
  },
  {
   "cell_type": "code",
   "execution_count": 47,
   "id": "614beb06",
   "metadata": {
    "ExecuteTime": {
     "end_time": "2021-11-25T22:02:27.236271Z",
     "start_time": "2021-11-25T22:02:27.214144Z"
    }
   },
   "outputs": [
    {
     "data": {
      "text/html": [
       "<div>\n",
       "<style scoped>\n",
       "    .dataframe tbody tr th:only-of-type {\n",
       "        vertical-align: middle;\n",
       "    }\n",
       "\n",
       "    .dataframe tbody tr th {\n",
       "        vertical-align: top;\n",
       "    }\n",
       "\n",
       "    .dataframe thead th {\n",
       "        text-align: right;\n",
       "    }\n",
       "</style>\n",
       "<table border=\"1\" class=\"dataframe\">\n",
       "  <thead>\n",
       "    <tr style=\"text-align: right;\">\n",
       "      <th></th>\n",
       "      <th>cod</th>\n",
       "      <th>municipio</th>\n",
       "      <th>uf</th>\n",
       "      <th>capag</th>\n",
       "      <th>pop</th>\n",
       "      <th>saeb</th>\n",
       "      <th>siconfi</th>\n",
       "      <th>siconfi_medio</th>\n",
       "    </tr>\n",
       "  </thead>\n",
       "  <tbody>\n",
       "    <tr>\n",
       "      <th>0</th>\n",
       "      <td>5200050</td>\n",
       "      <td>Abadia de Goiás - GO</td>\n",
       "      <td>GO</td>\n",
       "      <td>1</td>\n",
       "      <td>8773.0</td>\n",
       "      <td>236.31</td>\n",
       "      <td>14154979.45</td>\n",
       "      <td>1613.0</td>\n",
       "    </tr>\n",
       "    <tr>\n",
       "      <th>1</th>\n",
       "      <td>3100104</td>\n",
       "      <td>Abadia dos Dourados - MG</td>\n",
       "      <td>MG</td>\n",
       "      <td>1</td>\n",
       "      <td>6989.0</td>\n",
       "      <td>264.25</td>\n",
       "      <td>5365912.81</td>\n",
       "      <td>768.0</td>\n",
       "    </tr>\n",
       "    <tr>\n",
       "      <th>3</th>\n",
       "      <td>3100203</td>\n",
       "      <td>Abaeté - MG</td>\n",
       "      <td>MG</td>\n",
       "      <td>1</td>\n",
       "      <td>23237.0</td>\n",
       "      <td>261.20</td>\n",
       "      <td>10927614.06</td>\n",
       "      <td>470.0</td>\n",
       "    </tr>\n",
       "    <tr>\n",
       "      <th>6</th>\n",
       "      <td>4200101</td>\n",
       "      <td>Abelardo Luz - SC</td>\n",
       "      <td>SC</td>\n",
       "      <td>1</td>\n",
       "      <td>17904.0</td>\n",
       "      <td>233.50</td>\n",
       "      <td>18537661.15</td>\n",
       "      <td>1035.0</td>\n",
       "    </tr>\n",
       "    <tr>\n",
       "      <th>7</th>\n",
       "      <td>3100302</td>\n",
       "      <td>Abre Campo - MG</td>\n",
       "      <td>MG</td>\n",
       "      <td>2</td>\n",
       "      <td>13465.0</td>\n",
       "      <td>255.19</td>\n",
       "      <td>6479325.19</td>\n",
       "      <td>481.0</td>\n",
       "    </tr>\n",
       "  </tbody>\n",
       "</table>\n",
       "</div>"
      ],
      "text/plain": [
       "       cod                 municipio   uf  capag      pop    saeb  \\\n",
       "0  5200050      Abadia de Goiás - GO   GO      1   8773.0  236.31   \n",
       "1  3100104  Abadia dos Dourados - MG   MG      1   6989.0  264.25   \n",
       "3  3100203               Abaeté - MG   MG      1  23237.0  261.20   \n",
       "6  4200101         Abelardo Luz - SC   SC      1  17904.0  233.50   \n",
       "7  3100302           Abre Campo - MG   MG      2  13465.0  255.19   \n",
       "\n",
       "       siconfi  siconfi_medio  \n",
       "0  14154979.45         1613.0  \n",
       "1   5365912.81          768.0  \n",
       "3  10927614.06          470.0  \n",
       "6  18537661.15         1035.0  \n",
       "7   6479325.19          481.0  "
      ]
     },
     "execution_count": 47,
     "metadata": {},
     "output_type": "execute_result"
    }
   ],
   "source": [
    "# Somente capacidade de pagamento A e B (1 e 2)\n",
    "pot_mun = df[(df['capag'] == 1) | (df['capag'] == 2)]\n",
    "pot_mun.head()"
   ]
  },
  {
   "cell_type": "code",
   "execution_count": 48,
   "id": "6cf2d5e8",
   "metadata": {
    "ExecuteTime": {
     "end_time": "2021-11-25T22:02:27.246983Z",
     "start_time": "2021-11-25T22:02:27.240178Z"
    }
   },
   "outputs": [
    {
     "data": {
      "text/plain": [
       "(2180, 8)"
      ]
     },
     "execution_count": 48,
     "metadata": {},
     "output_type": "execute_result"
    }
   ],
   "source": [
    "pot_mun.shape"
   ]
  },
  {
   "cell_type": "code",
   "execution_count": 49,
   "id": "c521dde4",
   "metadata": {
    "ExecuteTime": {
     "end_time": "2021-11-25T22:02:27.258286Z",
     "start_time": "2021-11-25T22:02:27.250342Z"
    }
   },
   "outputs": [
    {
     "data": {
      "text/plain": [
       "7.0"
      ]
     },
     "execution_count": 49,
     "metadata": {},
     "output_type": "execute_result"
    }
   ],
   "source": [
    "pot_mun['siconfi_medio'].min()"
   ]
  },
  {
   "cell_type": "code",
   "execution_count": 50,
   "id": "795e10bb",
   "metadata": {
    "ExecuteTime": {
     "end_time": "2021-11-25T22:02:27.270875Z",
     "start_time": "2021-11-25T22:02:27.261588Z"
    }
   },
   "outputs": [
    {
     "data": {
      "text/plain": [
       "5925.0"
      ]
     },
     "execution_count": 50,
     "metadata": {},
     "output_type": "execute_result"
    }
   ],
   "source": [
    "pot_mun['siconfi_medio'].max()"
   ]
  },
  {
   "cell_type": "code",
   "execution_count": 51,
   "id": "3ea6a4b1",
   "metadata": {
    "ExecuteTime": {
     "end_time": "2021-11-25T22:02:27.541872Z",
     "start_time": "2021-11-25T22:02:27.275520Z"
    },
    "scrolled": true
   },
   "outputs": [
    {
     "data": {
      "text/plain": [
       "<AxesSubplot:>"
      ]
     },
     "execution_count": 51,
     "metadata": {},
     "output_type": "execute_result"
    },
    {
     "data": {
      "image/png": "[encoded data removed]",
      "text/plain": [
       "<Figure size 576x576 with 1 Axes>"
      ]
     },
     "metadata": {},
     "output_type": "display_data"
    }
   ],
   "source": [
    "plt.figure(figsize = (8, 8))\n",
    "sns.boxplot(data = pot_mun['siconfi_medio'])"
   ]
  },
  {
   "cell_type": "code",
   "execution_count": 161,
   "id": "06fb2053",
   "metadata": {
    "ExecuteTime": {
     "end_time": "2021-11-25T22:50:12.915228Z",
     "start_time": "2021-11-25T22:50:12.894929Z"
    }
   },
   "outputs": [
    {
     "data": {
      "text/html": [
       "<div>\n",
       "<style scoped>\n",
       "    .dataframe tbody tr th:only-of-type {\n",
       "        vertical-align: middle;\n",
       "    }\n",
       "\n",
       "    .dataframe tbody tr th {\n",
       "        vertical-align: top;\n",
       "    }\n",
       "\n",
       "    .dataframe thead th {\n",
       "        text-align: right;\n",
       "    }\n",
       "</style>\n",
       "<table border=\"1\" class=\"dataframe\">\n",
       "  <thead>\n",
       "    <tr style=\"text-align: right;\">\n",
       "      <th></th>\n",
       "      <th>cod</th>\n",
       "      <th>municipio</th>\n",
       "      <th>uf</th>\n",
       "      <th>capag</th>\n",
       "      <th>pop</th>\n",
       "      <th>saeb</th>\n",
       "      <th>siconfi</th>\n",
       "      <th>siconfi_medio</th>\n",
       "    </tr>\n",
       "  </thead>\n",
       "  <tbody>\n",
       "    <tr>\n",
       "      <th>0</th>\n",
       "      <td>5200050</td>\n",
       "      <td>Abadia de Goiás - GO</td>\n",
       "      <td>GO</td>\n",
       "      <td>1</td>\n",
       "      <td>8773.0</td>\n",
       "      <td>236.31</td>\n",
       "      <td>1.415498e+07</td>\n",
       "      <td>1613.0</td>\n",
       "    </tr>\n",
       "    <tr>\n",
       "      <th>1</th>\n",
       "      <td>3100104</td>\n",
       "      <td>Abadia dos Dourados - MG</td>\n",
       "      <td>MG</td>\n",
       "      <td>1</td>\n",
       "      <td>6989.0</td>\n",
       "      <td>264.25</td>\n",
       "      <td>5.365913e+06</td>\n",
       "      <td>768.0</td>\n",
       "    </tr>\n",
       "    <tr>\n",
       "      <th>2</th>\n",
       "      <td>5200100</td>\n",
       "      <td>Abadiânia - GO</td>\n",
       "      <td>GO</td>\n",
       "      <td>3</td>\n",
       "      <td>20042.0</td>\n",
       "      <td>226.50</td>\n",
       "      <td>9.279337e+06</td>\n",
       "      <td>463.0</td>\n",
       "    </tr>\n",
       "    <tr>\n",
       "      <th>3</th>\n",
       "      <td>3100203</td>\n",
       "      <td>Abaeté - MG</td>\n",
       "      <td>MG</td>\n",
       "      <td>1</td>\n",
       "      <td>23237.0</td>\n",
       "      <td>261.20</td>\n",
       "      <td>1.092761e+07</td>\n",
       "      <td>470.0</td>\n",
       "    </tr>\n",
       "    <tr>\n",
       "      <th>4</th>\n",
       "      <td>1500107</td>\n",
       "      <td>Abaetetuba - PA</td>\n",
       "      <td>PA</td>\n",
       "      <td>3</td>\n",
       "      <td>156292.0</td>\n",
       "      <td>203.17</td>\n",
       "      <td>1.120977e+08</td>\n",
       "      <td>717.0</td>\n",
       "    </tr>\n",
       "    <tr>\n",
       "      <th>5</th>\n",
       "      <td>4100103</td>\n",
       "      <td>Abatiá - PR</td>\n",
       "      <td>PR</td>\n",
       "      <td>3</td>\n",
       "      <td>7457.0</td>\n",
       "      <td>242.00</td>\n",
       "      <td>5.184372e+06</td>\n",
       "      <td>695.0</td>\n",
       "    </tr>\n",
       "    <tr>\n",
       "      <th>6</th>\n",
       "      <td>4200101</td>\n",
       "      <td>Abelardo Luz - SC</td>\n",
       "      <td>SC</td>\n",
       "      <td>1</td>\n",
       "      <td>17904.0</td>\n",
       "      <td>233.50</td>\n",
       "      <td>1.853766e+07</td>\n",
       "      <td>1035.0</td>\n",
       "    </tr>\n",
       "    <tr>\n",
       "      <th>7</th>\n",
       "      <td>3100302</td>\n",
       "      <td>Abre Campo - MG</td>\n",
       "      <td>MG</td>\n",
       "      <td>2</td>\n",
       "      <td>13465.0</td>\n",
       "      <td>255.19</td>\n",
       "      <td>6.479325e+06</td>\n",
       "      <td>481.0</td>\n",
       "    </tr>\n",
       "    <tr>\n",
       "      <th>8</th>\n",
       "      <td>2600054</td>\n",
       "      <td>Abreu e Lima - PE</td>\n",
       "      <td>PE</td>\n",
       "      <td>2</td>\n",
       "      <td>99990.0</td>\n",
       "      <td>220.75</td>\n",
       "      <td>3.972115e+07</td>\n",
       "      <td>397.0</td>\n",
       "    </tr>\n",
       "    <tr>\n",
       "      <th>9</th>\n",
       "      <td>1700251</td>\n",
       "      <td>Abreulândia - TO</td>\n",
       "      <td>TO</td>\n",
       "      <td>3</td>\n",
       "      <td>2579.0</td>\n",
       "      <td>224.00</td>\n",
       "      <td>3.890043e+06</td>\n",
       "      <td>1508.0</td>\n",
       "    </tr>\n",
       "  </tbody>\n",
       "</table>\n",
       "</div>"
      ],
      "text/plain": [
       "       cod                 municipio   uf  capag       pop    saeb  \\\n",
       "0  5200050      Abadia de Goiás - GO   GO      1    8773.0  236.31   \n",
       "1  3100104  Abadia dos Dourados - MG   MG      1    6989.0  264.25   \n",
       "2  5200100            Abadiânia - GO   GO      3   20042.0  226.50   \n",
       "3  3100203               Abaeté - MG   MG      1   23237.0  261.20   \n",
       "4  1500107           Abaetetuba - PA   PA      3  156292.0  203.17   \n",
       "5  4100103               Abatiá - PR   PR      3    7457.0  242.00   \n",
       "6  4200101         Abelardo Luz - SC   SC      1   17904.0  233.50   \n",
       "7  3100302           Abre Campo - MG   MG      2   13465.0  255.19   \n",
       "8  2600054         Abreu e Lima - PE   PE      2   99990.0  220.75   \n",
       "9  1700251          Abreulândia - TO   TO      3    2579.0  224.00   \n",
       "\n",
       "        siconfi  siconfi_medio  \n",
       "0  1.415498e+07         1613.0  \n",
       "1  5.365913e+06          768.0  \n",
       "2  9.279337e+06          463.0  \n",
       "3  1.092761e+07          470.0  \n",
       "4  1.120977e+08          717.0  \n",
       "5  5.184372e+06          695.0  \n",
       "6  1.853766e+07         1035.0  \n",
       "7  6.479325e+06          481.0  \n",
       "8  3.972115e+07          397.0  \n",
       "9  3.890043e+06         1508.0  "
      ]
     },
     "execution_count": 161,
     "metadata": {},
     "output_type": "execute_result"
    }
   ],
   "source": [
    "df.head(10)"
   ]
  },
  {
   "cell_type": "code",
   "execution_count": 52,
   "id": "8f62d381",
   "metadata": {
    "ExecuteTime": {
     "end_time": "2021-11-25T22:02:27.551624Z",
     "start_time": "2021-11-25T22:02:27.545278Z"
    }
   },
   "outputs": [],
   "source": [
    "def remove_outlier():\n",
    "    q1 = pot_mun['siconfi_medio'].quantile(0.25)\n",
    "    q3 = pot_mun['siconfi_medio'].quantile(0.75)\n",
    "    iqr = q3-q1 #interquartil\n",
    "    f_low  = q1-1.5*iqr\n",
    "    f_high = q3+1.5*iqr\n",
    "    df_out = pot_mun.loc[(pot_mun['siconfi_medio'] > f_low) & (pot_mun['siconfi_medio'] < f_high)]\n",
    "    return df_out"
   ]
  },
  {
   "cell_type": "code",
   "execution_count": 53,
   "id": "f75d3928",
   "metadata": {
    "ExecuteTime": {
     "end_time": "2021-11-25T22:02:27.563602Z",
     "start_time": "2021-11-25T22:02:27.555040Z"
    }
   },
   "outputs": [],
   "source": [
    "pot_mun = pot_mun[pot_mun['siconfi_medio'] < 2697]"
   ]
  },
  {
   "cell_type": "code",
   "execution_count": 162,
   "id": "ae5a25ee",
   "metadata": {
    "ExecuteTime": {
     "end_time": "2021-11-25T22:59:09.296289Z",
     "start_time": "2021-11-25T22:59:09.290776Z"
    }
   },
   "outputs": [
    {
     "data": {
      "text/plain": [
       "(4362, 8)"
      ]
     },
     "execution_count": 162,
     "metadata": {},
     "output_type": "execute_result"
    }
   ],
   "source": [
    "df.shape"
   ]
  },
  {
   "cell_type": "code",
   "execution_count": 55,
   "id": "27a86e4e",
   "metadata": {
    "ExecuteTime": {
     "end_time": "2021-11-25T22:02:27.611922Z",
     "start_time": "2021-11-25T22:02:27.601298Z"
    }
   },
   "outputs": [
    {
     "data": {
      "text/plain": [
       "(2103, 8)"
      ]
     },
     "execution_count": 55,
     "metadata": {},
     "output_type": "execute_result"
    }
   ],
   "source": [
    "remove_outlier().shape"
   ]
  },
  {
   "cell_type": "code",
   "execution_count": 163,
   "id": "e4decb97",
   "metadata": {
    "ExecuteTime": {
     "end_time": "2021-11-25T23:00:12.553892Z",
     "start_time": "2021-11-25T23:00:12.546869Z"
    }
   },
   "outputs": [
    {
     "data": {
      "text/plain": [
       "0.5178817056396149"
      ]
     },
     "execution_count": 163,
     "metadata": {},
     "output_type": "execute_result"
    }
   ],
   "source": [
    "(4362 - 2103) / 4362"
   ]
  },
  {
   "cell_type": "code",
   "execution_count": 56,
   "id": "9e66ed20",
   "metadata": {
    "ExecuteTime": {
     "end_time": "2021-11-25T22:02:27.632447Z",
     "start_time": "2021-11-25T22:02:27.615050Z"
    }
   },
   "outputs": [
    {
     "data": {
      "text/plain": [
       "242.69555333008014"
      ]
     },
     "execution_count": 56,
     "metadata": {},
     "output_type": "execute_result"
    }
   ],
   "source": [
    "remove_outlier()['saeb'].mean()"
   ]
  },
  {
   "cell_type": "code",
   "execution_count": 57,
   "id": "9a3124bd",
   "metadata": {
    "ExecuteTime": {
     "end_time": "2021-11-25T22:02:27.681831Z",
     "start_time": "2021-11-25T22:02:27.636335Z"
    }
   },
   "outputs": [
    {
     "data": {
      "text/html": [
       "<div>\n",
       "<style scoped>\n",
       "    .dataframe tbody tr th:only-of-type {\n",
       "        vertical-align: middle;\n",
       "    }\n",
       "\n",
       "    .dataframe tbody tr th {\n",
       "        vertical-align: top;\n",
       "    }\n",
       "\n",
       "    .dataframe thead th {\n",
       "        text-align: right;\n",
       "    }\n",
       "</style>\n",
       "<table border=\"1\" class=\"dataframe\">\n",
       "  <thead>\n",
       "    <tr style=\"text-align: right;\">\n",
       "      <th></th>\n",
       "      <th>cod</th>\n",
       "      <th>municipio</th>\n",
       "      <th>uf</th>\n",
       "      <th>capag</th>\n",
       "      <th>pop</th>\n",
       "      <th>saeb</th>\n",
       "      <th>siconfi</th>\n",
       "      <th>siconfi_medio</th>\n",
       "    </tr>\n",
       "  </thead>\n",
       "  <tbody>\n",
       "    <tr>\n",
       "      <th>0</th>\n",
       "      <td>5200050</td>\n",
       "      <td>Abadia de Goiás - GO</td>\n",
       "      <td>GO</td>\n",
       "      <td>1</td>\n",
       "      <td>8773.0</td>\n",
       "      <td>236.310000</td>\n",
       "      <td>1.415498e+07</td>\n",
       "      <td>1613.0</td>\n",
       "    </tr>\n",
       "    <tr>\n",
       "      <th>6</th>\n",
       "      <td>4200101</td>\n",
       "      <td>Abelardo Luz - SC</td>\n",
       "      <td>SC</td>\n",
       "      <td>1</td>\n",
       "      <td>17904.0</td>\n",
       "      <td>233.500000</td>\n",
       "      <td>1.853766e+07</td>\n",
       "      <td>1035.0</td>\n",
       "    </tr>\n",
       "    <tr>\n",
       "      <th>8</th>\n",
       "      <td>2600054</td>\n",
       "      <td>Abreu e Lima - PE</td>\n",
       "      <td>PE</td>\n",
       "      <td>2</td>\n",
       "      <td>99990.0</td>\n",
       "      <td>220.750000</td>\n",
       "      <td>3.972115e+07</td>\n",
       "      <td>397.0</td>\n",
       "    </tr>\n",
       "    <tr>\n",
       "      <th>20</th>\n",
       "      <td>4100202</td>\n",
       "      <td>Adrianópolis - PR</td>\n",
       "      <td>PR</td>\n",
       "      <td>1</td>\n",
       "      <td>5983.0</td>\n",
       "      <td>221.750000</td>\n",
       "      <td>5.923917e+06</td>\n",
       "      <td>990.0</td>\n",
       "    </tr>\n",
       "    <tr>\n",
       "      <th>31</th>\n",
       "      <td>5100201</td>\n",
       "      <td>Água Boa - MT</td>\n",
       "      <td>MT</td>\n",
       "      <td>1</td>\n",
       "      <td>25721.0</td>\n",
       "      <td>235.750000</td>\n",
       "      <td>2.327587e+07</td>\n",
       "      <td>905.0</td>\n",
       "    </tr>\n",
       "    <tr>\n",
       "      <th>...</th>\n",
       "      <td>...</td>\n",
       "      <td>...</td>\n",
       "      <td>...</td>\n",
       "      <td>...</td>\n",
       "      <td>...</td>\n",
       "      <td>...</td>\n",
       "      <td>...</td>\n",
       "      <td>...</td>\n",
       "    </tr>\n",
       "    <tr>\n",
       "      <th>4329</th>\n",
       "      <td>3205309</td>\n",
       "      <td>Vitória - ES</td>\n",
       "      <td>ES</td>\n",
       "      <td>1</td>\n",
       "      <td>362097.0</td>\n",
       "      <td>231.000000</td>\n",
       "      <td>3.919977e+08</td>\n",
       "      <td>1083.0</td>\n",
       "    </tr>\n",
       "    <tr>\n",
       "      <th>4331</th>\n",
       "      <td>2933307</td>\n",
       "      <td>Vitória da Conquista - BA</td>\n",
       "      <td>BA</td>\n",
       "      <td>2</td>\n",
       "      <td>338480.0</td>\n",
       "      <td>236.790000</td>\n",
       "      <td>2.220575e+08</td>\n",
       "      <td>656.0</td>\n",
       "    </tr>\n",
       "    <tr>\n",
       "      <th>4332</th>\n",
       "      <td>4323754</td>\n",
       "      <td>Vitória das Missões - RS</td>\n",
       "      <td>RS</td>\n",
       "      <td>1</td>\n",
       "      <td>3133.0</td>\n",
       "      <td>236.162763</td>\n",
       "      <td>3.154293e+06</td>\n",
       "      <td>1007.0</td>\n",
       "    </tr>\n",
       "    <tr>\n",
       "      <th>4337</th>\n",
       "      <td>3172103</td>\n",
       "      <td>Volta Grande - MG</td>\n",
       "      <td>MG</td>\n",
       "      <td>2</td>\n",
       "      <td>5252.0</td>\n",
       "      <td>231.500000</td>\n",
       "      <td>4.772811e+06</td>\n",
       "      <td>909.0</td>\n",
       "    </tr>\n",
       "    <tr>\n",
       "      <th>4342</th>\n",
       "      <td>1722081</td>\n",
       "      <td>Wanderlândia - TO</td>\n",
       "      <td>TO</td>\n",
       "      <td>2</td>\n",
       "      <td>11683.0</td>\n",
       "      <td>213.950000</td>\n",
       "      <td>8.025144e+06</td>\n",
       "      <td>687.0</td>\n",
       "    </tr>\n",
       "  </tbody>\n",
       "</table>\n",
       "<p>1001 rows × 8 columns</p>\n",
       "</div>"
      ],
      "text/plain": [
       "          cod                  municipio   uf  capag       pop        saeb  \\\n",
       "0     5200050       Abadia de Goiás - GO   GO      1    8773.0  236.310000   \n",
       "6     4200101          Abelardo Luz - SC   SC      1   17904.0  233.500000   \n",
       "8     2600054          Abreu e Lima - PE   PE      2   99990.0  220.750000   \n",
       "20    4100202          Adrianópolis - PR   PR      1    5983.0  221.750000   \n",
       "31    5100201              Água Boa - MT   MT      1   25721.0  235.750000   \n",
       "...       ...                        ...  ...    ...       ...         ...   \n",
       "4329  3205309               Vitória - ES   ES      1  362097.0  231.000000   \n",
       "4331  2933307  Vitória da Conquista - BA   BA      2  338480.0  236.790000   \n",
       "4332  4323754   Vitória das Missões - RS   RS      1    3133.0  236.162763   \n",
       "4337  3172103          Volta Grande - MG   MG      2    5252.0  231.500000   \n",
       "4342  1722081          Wanderlândia - TO   TO      2   11683.0  213.950000   \n",
       "\n",
       "           siconfi  siconfi_medio  \n",
       "0     1.415498e+07         1613.0  \n",
       "6     1.853766e+07         1035.0  \n",
       "8     3.972115e+07          397.0  \n",
       "20    5.923917e+06          990.0  \n",
       "31    2.327587e+07          905.0  \n",
       "...            ...            ...  \n",
       "4329  3.919977e+08         1083.0  \n",
       "4331  2.220575e+08          656.0  \n",
       "4332  3.154293e+06         1007.0  \n",
       "4337  4.772811e+06          909.0  \n",
       "4342  8.025144e+06          687.0  \n",
       "\n",
       "[1001 rows x 8 columns]"
      ]
     },
     "execution_count": 57,
     "metadata": {},
     "output_type": "execute_result"
    }
   ],
   "source": [
    "remove_outlier()[remove_outlier()['saeb'] < remove_outlier()['saeb'].mean()]"
   ]
  },
  {
   "cell_type": "code",
   "execution_count": 177,
   "id": "4eeadcef",
   "metadata": {
    "ExecuteTime": {
     "end_time": "2021-11-25T23:17:31.594679Z",
     "start_time": "2021-11-25T23:17:30.937867Z"
    }
   },
   "outputs": [
    {
     "data": {
      "image/png": "[encoded data removed]",
      "text/plain": [
       "<Figure size 1152x432 with 1 Axes>"
      ]
     },
     "metadata": {},
     "output_type": "display_data"
    }
   ],
   "source": [
    "plt.figure(figsize=(16, 6));\n",
    "palette = sns.set_palette(['#909090', '#D8D8D8'])\n",
    "\n",
    "order = remove_outlier().groupby('municipio')['siconfi_medio'].mean().sort_values(ascending = False)[:20].index\n",
    "aux = remove_outlier().groupby('municipio', as_index = False)['siconfi_medio'].mean().sort_values(by ='siconfi_medio', ascending = False)[:20]\n",
    "ax = sns.barplot(data = pd.DataFrame(aux), x = 'municipio', y = 'siconfi_medio',\n",
    "           ci = False,  color = '#909090', order = order);\n",
    "\n",
    "plt.bar_label(ax.containers[0], label_type='center', color = 'white', fontsize = 14,  fmt='%.0f');\n",
    "plt.xticks(fontsize = 14, rotation = 90);\n",
    "plt.yticks(fontsize = 14);\n",
    "plt.ylabel('Rsiconfi_medio')\n",
    "plt.xlabel('municipio');\n"
   ]
  },
  {
   "cell_type": "code",
   "execution_count": 157,
   "id": "80f7e16c",
   "metadata": {
    "ExecuteTime": {
     "end_time": "2021-11-25T22:35:53.208362Z",
     "start_time": "2021-11-25T22:35:51.284492Z"
    },
    "scrolled": false
   },
   "outputs": [
    {
     "data": {
      "image/png": "[encoded data removed]",
      "text/plain": [
       "<Figure size 1152x864 with 6 Axes>"
      ]
     },
     "metadata": {},
     "output_type": "display_data"
    }
   ],
   "source": [
    "def test():\n",
    "    \n",
    "    aux = remove_outlier().groupby('uf')['siconfi_medio'].mean().sort_values(ascending = False)[:6].index\n",
    "    plt.figure(figsize=(16, 12));\n",
    "    x = 1\n",
    "    \n",
    "    for i in aux:\n",
    "        aux3 = remove_outlier()[remove_outlier()['uf'] == i].sort_values(by='siconfi_medio')[:5]\n",
    "        plt.subplot(2, 3, x)\n",
    "        palette = sns.set_palette(['#909090', '#909090', '#909090', '#909090', '#909090'])\n",
    "        \n",
    "        ax = sns.barplot(data = aux3, x = 'municipio', y = 'siconfi_medio', ci = False, palette = palette);\n",
    "\n",
    "        plt.xticks(fontsize = 13, rotation = 90);\n",
    "        plt.yticks(fontsize = 13);\n",
    "        plt.ylabel('SICONFI MEDIO');\n",
    "        plt.xlabel(' ');\n",
    "        plt.tight_layout()\n",
    "    \n",
    "        x += 1\n",
    "\n",
    "\n",
    "test()"
   ]
  },
  {
   "cell_type": "code",
   "execution_count": null,
   "id": "616712bd",
   "metadata": {},
   "outputs": [],
   "source": []
  },
  {
   "cell_type": "code",
   "execution_count": null,
   "id": "f25d1acc",
   "metadata": {},
   "outputs": [],
   "source": []
  },
  {
   "cell_type": "code",
   "execution_count": null,
   "id": "fd5acf8b",
   "metadata": {},
   "outputs": [],
   "source": []
  },
  {
   "cell_type": "code",
   "execution_count": null,
   "id": "bcee9a7b",
   "metadata": {},
   "outputs": [],
   "source": []
  },
  {
   "cell_type": "code",
   "execution_count": 138,
   "id": "4ecc1f3f",
   "metadata": {
    "ExecuteTime": {
     "end_time": "2021-11-25T22:26:04.862718Z",
     "start_time": "2021-11-25T22:26:04.825977Z"
    }
   },
   "outputs": [
    {
     "data": {
      "text/html": [
       "<div>\n",
       "<style scoped>\n",
       "    .dataframe tbody tr th:only-of-type {\n",
       "        vertical-align: middle;\n",
       "    }\n",
       "\n",
       "    .dataframe tbody tr th {\n",
       "        vertical-align: top;\n",
       "    }\n",
       "\n",
       "    .dataframe thead th {\n",
       "        text-align: right;\n",
       "    }\n",
       "</style>\n",
       "<table border=\"1\" class=\"dataframe\">\n",
       "  <thead>\n",
       "    <tr style=\"text-align: right;\">\n",
       "      <th></th>\n",
       "      <th>cod</th>\n",
       "      <th>municipio</th>\n",
       "      <th>uf</th>\n",
       "      <th>capag</th>\n",
       "      <th>pop</th>\n",
       "      <th>saeb</th>\n",
       "      <th>siconfi</th>\n",
       "      <th>siconfi_medio</th>\n",
       "    </tr>\n",
       "  </thead>\n",
       "  <tbody>\n",
       "    <tr>\n",
       "      <th>1861</th>\n",
       "      <td>5004502</td>\n",
       "      <td>Itaporã - MS</td>\n",
       "      <td>MS</td>\n",
       "      <td>1</td>\n",
       "      <td>24839.0</td>\n",
       "      <td>234.88</td>\n",
       "      <td>10969844.01</td>\n",
       "      <td>442.0</td>\n",
       "    </tr>\n",
       "    <tr>\n",
       "      <th>1170</th>\n",
       "      <td>5003454</td>\n",
       "      <td>Deodápolis - MS</td>\n",
       "      <td>MS</td>\n",
       "      <td>1</td>\n",
       "      <td>12924.0</td>\n",
       "      <td>235.88</td>\n",
       "      <td>7364210.07</td>\n",
       "      <td>570.0</td>\n",
       "    </tr>\n",
       "    <tr>\n",
       "      <th>213</th>\n",
       "      <td>5001102</td>\n",
       "      <td>Aquidauana - MS</td>\n",
       "      <td>MS</td>\n",
       "      <td>2</td>\n",
       "      <td>47871.0</td>\n",
       "      <td>214.64</td>\n",
       "      <td>31433125.10</td>\n",
       "      <td>657.0</td>\n",
       "    </tr>\n",
       "    <tr>\n",
       "      <th>3926</th>\n",
       "      <td>5007703</td>\n",
       "      <td>Sete Quedas - MS</td>\n",
       "      <td>MS</td>\n",
       "      <td>1</td>\n",
       "      <td>10791.0</td>\n",
       "      <td>229.20</td>\n",
       "      <td>7123280.12</td>\n",
       "      <td>660.0</td>\n",
       "    </tr>\n",
       "    <tr>\n",
       "      <th>1339</th>\n",
       "      <td>5003801</td>\n",
       "      <td>Fátima do Sul - MS</td>\n",
       "      <td>MS</td>\n",
       "      <td>2</td>\n",
       "      <td>19234.0</td>\n",
       "      <td>238.68</td>\n",
       "      <td>13040718.46</td>\n",
       "      <td>678.0</td>\n",
       "    </tr>\n",
       "  </tbody>\n",
       "</table>\n",
       "</div>"
      ],
      "text/plain": [
       "          cod           municipio   uf  capag      pop    saeb      siconfi  \\\n",
       "1861  5004502        Itaporã - MS   MS      1  24839.0  234.88  10969844.01   \n",
       "1170  5003454     Deodápolis - MS   MS      1  12924.0  235.88   7364210.07   \n",
       "213   5001102     Aquidauana - MS   MS      2  47871.0  214.64  31433125.10   \n",
       "3926  5007703    Sete Quedas - MS   MS      1  10791.0  229.20   7123280.12   \n",
       "1339  5003801  Fátima do Sul - MS   MS      2  19234.0  238.68  13040718.46   \n",
       "\n",
       "      siconfi_medio  \n",
       "1861          442.0  \n",
       "1170          570.0  \n",
       "213           657.0  \n",
       "3926          660.0  \n",
       "1339          678.0  "
      ]
     },
     "execution_count": 138,
     "metadata": {},
     "output_type": "execute_result"
    }
   ],
   "source": [
    "aux = remove_outlier().groupby('uf')['siconfi_medio'].mean().sort_values(ascending = False)[:5].index\n",
    "aux3 = remove_outlier()[remove_outlier()['uf'] == i].sort_values(by='siconfi_medio')[:5]\n",
    "\n",
    "aux3"
   ]
  },
  {
   "cell_type": "code",
   "execution_count": null,
   "id": "e8899452",
   "metadata": {},
   "outputs": [],
   "source": []
  },
  {
   "cell_type": "code",
   "execution_count": null,
   "id": "05edd5a5",
   "metadata": {},
   "outputs": [],
   "source": []
  },
  {
   "cell_type": "code",
   "execution_count": null,
   "id": "11d01bc5",
   "metadata": {},
   "outputs": [],
   "source": []
  },
  {
   "cell_type": "code",
   "execution_count": 131,
   "id": "2cab3dea",
   "metadata": {
    "ExecuteTime": {
     "end_time": "2021-11-25T22:22:45.066519Z",
     "start_time": "2021-11-25T22:22:44.596094Z"
    },
    "scrolled": false
   },
   "outputs": [
    {
     "data": {
      "image/png": "[encoded data removed]",
      "text/plain": [
       "<Figure size 864x360 with 1 Axes>"
      ]
     },
     "metadata": {},
     "output_type": "display_data"
    }
   ],
   "source": [
    "aux = remove_outlier().groupby('uf')['siconfi_medio'].mean().sort_values(ascending = False)[:5].index\n",
    "aux1 = remove_outlier().query('uf in @aux')\n",
    "\n",
    "plt.figure(figsize=(12, 5));\n",
    "palette = sns.set_palette(['#909090', '#909090', '#909090', '#909090', '#909090'])\n",
    "\n",
    "order = aux1.groupby('uf').mean().sort_values(by='siconfi_medio', ascending = False)['siconfi_medio'].index\n",
    "ax = sns.barplot(data = aux1, x = 'uf', y = 'siconfi_medio',\n",
    "            ci = False, palette = palette, order = order);\n",
    "\n",
    "plt.xticks(fontsize = 14);\n",
    "plt.yticks(fontsize = 14);\n",
    "plt.ylabel('SICONFI MEDIO');\n",
    "plt.xlabel(' ');"
   ]
  },
  {
   "cell_type": "code",
   "execution_count": null,
   "id": "d40d010d",
   "metadata": {},
   "outputs": [],
   "source": []
  }
 ],
 "metadata": {
  "kernelspec": {
   "display_name": "ds-projects",
   "language": "python",
   "name": "ds-projects"
  },
  "language_info": {
   "codemirror_mode": {
    "name": "ipython",
    "version": 3
   },
   "file_extension": ".py",
   "mimetype": "text/x-python",
   "name": "python",
   "nbconvert_exporter": "python",
   "pygments_lexer": "ipython3",
   "version": "3.9.7"
  },
  "toc": {
   "base_numbering": 1,
   "nav_menu": {},
   "number_sections": true,
   "sideBar": true,
   "skip_h1_title": false,
   "title_cell": "Table of Contents",
   "title_sidebar": "Contents",
   "toc_cell": false,
   "toc_position": {},
   "toc_section_display": true,
   "toc_window_display": false
  }
 },
 "nbformat": 4,
 "nbformat_minor": 5
}
