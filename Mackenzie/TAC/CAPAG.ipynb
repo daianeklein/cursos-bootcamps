{
 "cells": [
  {
   "cell_type": "markdown",
   "id": "34c5015d",
   "metadata": {},
   "source": [
    "# CAPAG"
   ]
  },
  {
   "cell_type": "code",
   "execution_count": 1,
   "id": "572aa082",
   "metadata": {
    "ExecuteTime": {
     "end_time": "2021-11-18T00:05:50.245328Z",
     "start_time": "2021-11-18T00:05:47.859289Z"
    }
   },
   "outputs": [],
   "source": [
    "import pandas as pd\n",
    "import matplotlib.pyplot as plt\n",
    "import seaborn as sns\n",
    "\n",
    "%matplotlib inline"
   ]
  },
  {
   "cell_type": "code",
   "execution_count": 48,
   "id": "cf162c11",
   "metadata": {
    "ExecuteTime": {
     "end_time": "2021-11-18T00:45:04.992598Z",
     "start_time": "2021-11-18T00:45:04.946941Z"
    }
   },
   "outputs": [],
   "source": [
    "# importacao CAPAG dez/2020\n",
    "c2020 = pd.read_csv('/Users/daianeklein/Documents/Mackenzie/TAC/Data/CAPAG/CAPAG-Municipios-Dez2020.csv', sep = ';')\n",
    "c2020 = c2020[['Cod.IBGE', 'UF', 'Classificação da CAPAG']]\n",
    "c2020 = c2020[c2020['Classificação da CAPAG'] != 'n.d.']\n",
    "c2020 = c2020.rename(columns = ({'Cod.IBGE' : 'cod',\n",
    "                                'Classificação da CAPAG' : 'capag'}))\n",
    "c2020['data'] = '01-12-2020'"
   ]
  },
  {
   "cell_type": "code",
   "execution_count": 49,
   "id": "ed3259a9",
   "metadata": {
    "ExecuteTime": {
     "end_time": "2021-11-18T00:45:07.003641Z",
     "start_time": "2021-11-18T00:45:05.403439Z"
    }
   },
   "outputs": [],
   "source": [
    "# importacao CAPAG abr/2021\n",
    "c2021 = pd.read_excel('/Users/daianeklein/Documents/Mackenzie/TAC/Data/CAPAG/CAPAGMunicipios-Abr2021.xlsx', engine = 'openpyxl' )\n",
    "c2021 = c2021[['Cod.IBGE', 'CAPAG_Oficial']]\n",
    "c2021 = c2021[c2021['CAPAG_Oficial'] != 'n.d.']\n",
    "\n",
    "c2021 = c2021.rename(columns = ({'Cod.IBGE' : 'cod',\n",
    "                                'CAPAG_Oficial' : 'capag'}))\n",
    "\n",
    "c2021['data'] = '01-04-2021'"
   ]
  },
  {
   "cell_type": "code",
   "execution_count": 51,
   "id": "0e45845b",
   "metadata": {
    "ExecuteTime": {
     "end_time": "2021-11-18T00:45:23.959918Z",
     "start_time": "2021-11-18T00:45:23.946670Z"
    }
   },
   "outputs": [],
   "source": [
    "# merge nos dois dataframes\n",
    "capag = c2020.merge(c2021, how = 'inner', on = 'cod')\n",
    "\n",
    "# renomeando as colunas\n",
    "cols = ['cod_ibge', 'uf', 'capag_2020', 'data_2020', 'capag_2021', 'data_2021']\n",
    "capag.columns = cols"
   ]
  },
  {
   "cell_type": "code",
   "execution_count": 53,
   "id": "20fbb87c",
   "metadata": {
    "ExecuteTime": {
     "end_time": "2021-11-18T00:46:25.230390Z",
     "start_time": "2021-11-18T00:46:25.218086Z"
    }
   },
   "outputs": [
    {
     "data": {
      "text/html": [
       "<div>\n",
       "<style scoped>\n",
       "    .dataframe tbody tr th:only-of-type {\n",
       "        vertical-align: middle;\n",
       "    }\n",
       "\n",
       "    .dataframe tbody tr th {\n",
       "        vertical-align: top;\n",
       "    }\n",
       "\n",
       "    .dataframe thead th {\n",
       "        text-align: right;\n",
       "    }\n",
       "</style>\n",
       "<table border=\"1\" class=\"dataframe\">\n",
       "  <thead>\n",
       "    <tr style=\"text-align: right;\">\n",
       "      <th></th>\n",
       "      <th>cod_ibge</th>\n",
       "      <th>uf</th>\n",
       "      <th>capag_2020</th>\n",
       "      <th>data_2020</th>\n",
       "      <th>capag_2021</th>\n",
       "      <th>data_2021</th>\n",
       "    </tr>\n",
       "  </thead>\n",
       "  <tbody>\n",
       "    <tr>\n",
       "      <th>0</th>\n",
       "      <td>5200050</td>\n",
       "      <td>GO</td>\n",
       "      <td>B</td>\n",
       "      <td>01-12-2020</td>\n",
       "      <td>A</td>\n",
       "      <td>01-04-2021</td>\n",
       "    </tr>\n",
       "    <tr>\n",
       "      <th>1</th>\n",
       "      <td>3100104</td>\n",
       "      <td>MG</td>\n",
       "      <td>B</td>\n",
       "      <td>01-12-2020</td>\n",
       "      <td>A</td>\n",
       "      <td>01-04-2021</td>\n",
       "    </tr>\n",
       "    <tr>\n",
       "      <th>2</th>\n",
       "      <td>5200100</td>\n",
       "      <td>GO</td>\n",
       "      <td>C</td>\n",
       "      <td>01-12-2020</td>\n",
       "      <td>C</td>\n",
       "      <td>01-04-2021</td>\n",
       "    </tr>\n",
       "    <tr>\n",
       "      <th>3</th>\n",
       "      <td>3100203</td>\n",
       "      <td>MG</td>\n",
       "      <td>B</td>\n",
       "      <td>01-12-2020</td>\n",
       "      <td>A</td>\n",
       "      <td>01-04-2021</td>\n",
       "    </tr>\n",
       "    <tr>\n",
       "      <th>4</th>\n",
       "      <td>1500107</td>\n",
       "      <td>PA</td>\n",
       "      <td>C</td>\n",
       "      <td>01-12-2020</td>\n",
       "      <td>C</td>\n",
       "      <td>01-04-2021</td>\n",
       "    </tr>\n",
       "  </tbody>\n",
       "</table>\n",
       "</div>"
      ],
      "text/plain": [
       "   cod_ibge  uf capag_2020   data_2020 capag_2021   data_2021\n",
       "0   5200050  GO          B  01-12-2020          A  01-04-2021\n",
       "1   3100104  MG          B  01-12-2020          A  01-04-2021\n",
       "2   5200100  GO          C  01-12-2020          C  01-04-2021\n",
       "3   3100203  MG          B  01-12-2020          A  01-04-2021\n",
       "4   1500107  PA          C  01-12-2020          C  01-04-2021"
      ]
     },
     "execution_count": 53,
     "metadata": {},
     "output_type": "execute_result"
    }
   ],
   "source": [
    "# resultado final\n",
    "capag.head()"
   ]
  },
  {
   "cell_type": "code",
   "execution_count": 54,
   "id": "fa03ca4b",
   "metadata": {
    "ExecuteTime": {
     "end_time": "2021-11-18T00:47:20.877216Z",
     "start_time": "2021-11-18T00:47:20.871093Z"
    }
   },
   "outputs": [
    {
     "data": {
      "text/plain": [
       "(3668, 6)"
      ]
     },
     "execution_count": 54,
     "metadata": {},
     "output_type": "execute_result"
    }
   ],
   "source": [
    "capag.shape"
   ]
  },
  {
   "cell_type": "code",
   "execution_count": 55,
   "id": "fd1a60b6",
   "metadata": {
    "ExecuteTime": {
     "end_time": "2021-11-18T01:03:31.029816Z",
     "start_time": "2021-11-18T01:03:31.024047Z"
    }
   },
   "outputs": [
    {
     "data": {
      "text/plain": [
       "0.6585278276481149"
      ]
     },
     "execution_count": 55,
     "metadata": {},
     "output_type": "execute_result"
    }
   ],
   "source": [
    "3668 / 5570"
   ]
  },
  {
   "cell_type": "code",
   "execution_count": null,
   "id": "b9563289",
   "metadata": {},
   "outputs": [],
   "source": []
  }
 ],
 "metadata": {
  "kernelspec": {
   "display_name": "ds-projects",
   "language": "python",
   "name": "ds-projects"
  },
  "language_info": {
   "codemirror_mode": {
    "name": "ipython",
    "version": 3
   },
   "file_extension": ".py",
   "mimetype": "text/x-python",
   "name": "python",
   "nbconvert_exporter": "python",
   "pygments_lexer": "ipython3",
   "version": "3.9.7"
  },
  "toc": {
   "base_numbering": 1,
   "nav_menu": {},
   "number_sections": true,
   "sideBar": true,
   "skip_h1_title": false,
   "title_cell": "Table of Contents",
   "title_sidebar": "Contents",
   "toc_cell": false,
   "toc_position": {},
   "toc_section_display": true,
   "toc_window_display": false
  }
 },
 "nbformat": 4,
 "nbformat_minor": 5
}
